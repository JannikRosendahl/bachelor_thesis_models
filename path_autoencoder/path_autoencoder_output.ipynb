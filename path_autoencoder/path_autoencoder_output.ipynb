{
 "cells": [
  {
   "cell_type": "code",
   "execution_count": 1,
   "metadata": {
    "execution": {
     "iopub.execute_input": "2024-08-26T09:57:17.602109Z",
     "iopub.status.busy": "2024-08-26T09:57:17.601379Z",
     "iopub.status.idle": "2024-08-26T09:57:20.647193Z",
     "shell.execute_reply": "2024-08-26T09:57:20.646461Z"
    }
   },
   "outputs": [],
   "source": [
    "import os\n",
    "import re\n",
    "from collections import Counter\n",
    "import json\n",
    "import datetime\n",
    "import random\n",
    "import numpy as np\n",
    "import pandas as pd\n",
    "import matplotlib.pyplot as plt\n",
    "cm = 1/2.54\n",
    "\n",
    "# force GPU device\n",
    "os.environ[\"CUDA_VISIBLE_DEVICES\"]='1'\n",
    "os.environ['TF_CPP_MIN_LOG_LEVEL'] = '2'\n",
    "import tensorflow as tf\n",
    "\n",
    "from keras.src.callbacks import EarlyStopping, ModelCheckpoint, ReduceLROnPlateau, CSVLogger\n",
    "from keras.src.layers import SimpleRNN, LSTM, Dense, Dropout, Bidirectional, Embedding, Input, RepeatVector, TimeDistributed, Reshape\n",
    "from keras import Sequential, Model\n",
    "from keras.losses import CategoricalCrossentropy, CategoricalFocalCrossentropy, SparseCategoricalCrossentropy\n",
    "from keras.optimizers import Adam\n",
    "from keras.models import load_model\n",
    "from keras.metrics import CategoricalAccuracy, TopKCategoricalAccuracy\n",
    "\n",
    "from tensorflow.keras.callbacks import Callback\n",
    "from tensorflow.keras.utils import Sequence\n",
    "\n",
    "from sklearn.metrics import classification_report, confusion_matrix\n",
    "from sklearn.utils.class_weight import compute_class_weight\n",
    "\n",
    "from utils import *\n",
    "\n",
    "seed_value = 42\n",
    "np.random.seed(seed_value)\n",
    "tf.random.set_seed(seed_value)\n",
    "random.seed(seed_value)"
   ]
  },
  {
   "cell_type": "code",
   "execution_count": 2,
   "metadata": {
    "execution": {
     "iopub.execute_input": "2024-08-26T09:57:20.651665Z",
     "iopub.status.busy": "2024-08-26T09:57:20.651294Z",
     "iopub.status.idle": "2024-08-26T09:57:20.656688Z",
     "shell.execute_reply": "2024-08-26T09:57:20.655667Z"
    }
   },
   "outputs": [],
   "source": [
    "data_directory = '/home/jrosendahl/datasets/cadets/sequences_export_benign_filetypes_path_ts/'\n",
    "experiment_name = 'path_autoencoder'\n",
    "\n",
    "checkpoint_path = f'saves/{experiment_name}'\n",
    "model_path = f'{checkpoint_path}/model.keras'\n",
    "log_path = f'{checkpoint_path}/log.csv'\n",
    "history_path = f'{checkpoint_path}/history.npy'\n",
    "\n",
    "# ensure directory exists\n",
    "if not os.path.exists(checkpoint_path):\n",
    "    os.makedirs(checkpoint_path)"
   ]
  },
  {
   "cell_type": "code",
   "execution_count": 3,
   "metadata": {
    "execution": {
     "iopub.execute_input": "2024-08-26T09:57:20.661383Z",
     "iopub.status.busy": "2024-08-26T09:57:20.660906Z",
     "iopub.status.idle": "2024-08-26T09:57:20.672242Z",
     "shell.execute_reply": "2024-08-26T09:57:20.671202Z"
    }
   },
   "outputs": [],
   "source": [
    "# list of limitations for paths:\n",
    "# allowed charaters: alphanumeric chars + '/.'\n",
    "# all chars are transformed to lowercase\n",
    "def preprocess_path(path: str) -> str:\n",
    "    path = path.lower()\n",
    "    path = re.sub(r'[^a-z0-9/._]', '', path)\n",
    "    return path"
   ]
  },
  {
   "cell_type": "code",
   "execution_count": 4,
   "metadata": {
    "execution": {
     "iopub.execute_input": "2024-08-26T09:57:20.678669Z",
     "iopub.status.busy": "2024-08-26T09:57:20.677744Z",
     "iopub.status.idle": "2024-08-26T09:57:54.478182Z",
     "shell.execute_reply": "2024-08-26T09:57:54.477607Z"
    }
   },
   "outputs": [
    {
     "name": "stdout",
     "output_type": "stream",
     "text": [
      "Files loaded: 50000\n"
     ]
    },
    {
     "name": "stdout",
     "output_type": "stream",
     "text": [
      "Files loaded: 100000\n"
     ]
    },
    {
     "name": "stdout",
     "output_type": "stream",
     "text": [
      "Files loaded: 150000\n"
     ]
    },
    {
     "name": "stdout",
     "output_type": "stream",
     "text": [
      "Files loaded: 200000\n"
     ]
    },
    {
     "name": "stdout",
     "output_type": "stream",
     "text": [
      "Files loaded: 215150\n",
      "len(X)=8161337\n",
      "vocab_size=39\n",
      "longest_path=0\n",
      "mean_length=16.37407400282576\n"
     ]
    }
   ],
   "source": [
    "# load data\n",
    "\n",
    "vocab = set()\n",
    "X = []\n",
    "longest_path = 0\n",
    "files_loaded = 0\n",
    "\n",
    "for filename in os.listdir(data_directory):\n",
    "    with open(os.path.join(data_directory, filename), 'r') as f:\n",
    "        files_loaded += 1\n",
    "        if files_loaded % 50000 == 0:\n",
    "            print(f\"Files loaded: {files_loaded}\")\n",
    "\n",
    "        for line in f:\n",
    "            line = line.split(',')\n",
    "            path1 = line[4]\n",
    "            path2 = line[5]\n",
    "\n",
    "\n",
    "            for path in [path1, path2]:\n",
    "                if path in ['', 'None']:\n",
    "                    continue\n",
    "                path = preprocess_path(path1)\n",
    "                vocab.update(path)\n",
    "                X.append(path)\n",
    "\n",
    "\n",
    "mean_length = np.mean([len(path) for path in X])\n",
    "vocab_size = len(vocab)\n",
    "\n",
    "\n",
    "print(f\"Files loaded: {files_loaded}\")\n",
    "print(f'{len(X)=}')\n",
    "print(f'{vocab_size=}')\n",
    "print(f'{longest_path=}')\n",
    "print(f'{mean_length=}')"
   ]
  },
  {
   "cell_type": "code",
   "execution_count": 5,
   "metadata": {
    "execution": {
     "iopub.execute_input": "2024-08-26T09:57:54.481499Z",
     "iopub.status.busy": "2024-08-26T09:57:54.481302Z",
     "iopub.status.idle": "2024-08-26T09:57:54.486950Z",
     "shell.execute_reply": "2024-08-26T09:57:54.486462Z"
    }
   },
   "outputs": [
    {
     "name": "stdout",
     "output_type": "stream",
     "text": [
      "char_to_idx={'': 0, '.': 1, '/': 2, '0': 3, '1': 4, '2': 5, '3': 6, '4': 7, '5': 8, '6': 9, '7': 10, '8': 11, '9': 12, '_': 13, 'a': 14, 'b': 15, 'c': 16, 'd': 17, 'e': 18, 'f': 19, 'g': 20, 'h': 21, 'i': 22, 'j': 23, 'k': 24, 'l': 25, 'm': 26, 'n': 27, 'o': 28, 'p': 29, 'q': 30, 'r': 31, 's': 32, 't': 33, 'u': 34, 'v': 35, 'w': 36, 'x': 37, 'y': 38, 'z': 39}\n",
      "idx_to_char={0: '', 1: '.', 2: '/', 3: '0', 4: '1', 5: '2', 6: '3', 7: '4', 8: '5', 9: '6', 10: '7', 11: '8', 12: '9', 13: '_', 14: 'a', 15: 'b', 16: 'c', 17: 'd', 18: 'e', 19: 'f', 20: 'g', 21: 'h', 22: 'i', 23: 'j', 24: 'k', 25: 'l', 26: 'm', 27: 'n', 28: 'o', 29: 'p', 30: 'q', 31: 'r', 32: 's', 33: 't', 34: 'u', 35: 'v', 36: 'w', 37: 'x', 38: 'y', 39: 'z'}\n"
     ]
    }
   ],
   "source": [
    "# sort vocab, build maps and save\n",
    "vocab = sorted(vocab)\n",
    "vocab = [''] + vocab\n",
    "\n",
    "# save vocab\n",
    "with open(f'{checkpoint_path}/vocab.json', 'w') as f:\n",
    "    json.dump(vocab, f)\n",
    "\n",
    "# build char to idx and idx to char maps\n",
    "char_to_idx = {char: idx for idx, char in enumerate(vocab)}\n",
    "idx_to_char = {idx: char for char, idx in char_to_idx.items()}\n",
    "\n",
    "\n",
    "print(f'{char_to_idx=}')\n",
    "print(f'{idx_to_char=}')\n",
    "\n",
    "# save to disk\n",
    "with open(f'{checkpoint_path}/char_to_idx.json', 'w') as f:\n",
    "    json.dump(char_to_idx, f)\n",
    "\n",
    "with open(f'{checkpoint_path}/idx_to_char.json', 'w') as f:\n",
    "    json.dump(idx_to_char, f)"
   ]
  },
  {
   "cell_type": "code",
   "execution_count": 6,
   "metadata": {
    "execution": {
     "iopub.execute_input": "2024-08-26T09:57:54.490971Z",
     "iopub.status.busy": "2024-08-26T09:57:54.490698Z",
     "iopub.status.idle": "2024-08-26T09:57:54.501693Z",
     "shell.execute_reply": "2024-08-26T09:57:54.500914Z"
    }
   },
   "outputs": [],
   "source": [
    "# load vocab and maps from disk\n",
    "\n",
    "with open(f'{checkpoint_path}/vocab.json', 'r') as f:\n",
    "    vocab_loaded = json.load(f)\n",
    "\n",
    "with open(f'{checkpoint_path}/char_to_idx.json', 'r') as f:\n",
    "    char_to_idx_loaded = json.load(f)\n",
    "\n",
    "with open(f'{checkpoint_path}/idx_to_char.json', 'r') as f:\n",
    "    idx_to_char_loaded = json.load(f)\n",
    "    idx_to_char_loaded = {int(k): v for k, v in idx_to_char_loaded.items()}\n",
    "\n",
    "\n",
    "# assert that loaded vocab and maps are the same as the ones used\n",
    "if not vocab_loaded == vocab:\n",
    "    print('Loaded vocab is not the same as the one used')\n",
    "    print(f'{vocab_loaded=}')\n",
    "    print(f'{vocab=}')\n",
    "\n",
    "if not char_to_idx_loaded == char_to_idx:\n",
    "    print('Loaded char_to_idx is not the same as the one used')\n",
    "    print(f'{char_to_idx_loaded=}')\n",
    "    print(f'{char_to_idx=}')\n",
    "\n",
    "if not idx_to_char_loaded == idx_to_char:\n",
    "    print('Loaded idx_to_char is not the same as the one used')\n",
    "    print(f'{idx_to_char_loaded=}')\n",
    "    print(f'         {idx_to_char=}')"
   ]
  },
  {
   "cell_type": "code",
   "execution_count": 7,
   "metadata": {
    "execution": {
     "iopub.execute_input": "2024-08-26T09:57:54.505897Z",
     "iopub.status.busy": "2024-08-26T09:57:54.505510Z",
     "iopub.status.idle": "2024-08-26T09:58:16.786086Z",
     "shell.execute_reply": "2024-08-26T09:58:16.785306Z"
    }
   },
   "outputs": [],
   "source": [
    "fixed_length = 50\n",
    "\n",
    "def vectorize_data(X, char_to_idx, fixed_length):\n",
    "    X_vec = np.zeros((len(X), fixed_length), dtype=np.int32)\n",
    "    for i, path in enumerate(X):\n",
    "        for j, char in enumerate(path):\n",
    "            if j >= fixed_length:\n",
    "                break\n",
    "            X_vec[i, j] = char_to_idx[char]\n",
    "    return X_vec\n",
    "\n",
    "def vectorized_to_string(X, idx_to_char):\n",
    "    return [''.join([idx_to_char[idx] for idx in path]) for path in X]\n",
    "\n",
    "X_vec = vectorize_data(X, char_to_idx, fixed_length)"
   ]
  },
  {
   "cell_type": "code",
   "execution_count": 8,
   "metadata": {
    "execution": {
     "iopub.execute_input": "2024-08-26T09:58:16.790173Z",
     "iopub.status.busy": "2024-08-26T09:58:16.789945Z",
     "iopub.status.idle": "2024-08-26T09:58:16.793350Z",
     "shell.execute_reply": "2024-08-26T09:58:16.792784Z"
    }
   },
   "outputs": [],
   "source": [
    "def output_to_string(output: np.ndarray, idx_to_char: dict) -> str:\n",
    "    output_argmax = np.argmax(output, axis=-1)\n",
    "    return vectorized_to_string(output_argmax, idx_to_char)"
   ]
  },
  {
   "cell_type": "code",
   "execution_count": 9,
   "metadata": {
    "execution": {
     "iopub.execute_input": "2024-08-26T09:58:16.797271Z",
     "iopub.status.busy": "2024-08-26T09:58:16.797037Z",
     "iopub.status.idle": "2024-08-26T09:58:16.806775Z",
     "shell.execute_reply": "2024-08-26T09:58:16.806164Z"
    }
   },
   "outputs": [
    {
     "name": "stdout",
     "output_type": "stream",
     "text": [
      "X_vec.shape=(8161337, 50)\n",
      "X_vec[0]=array([ 2, 34, 32, 31,  2, 15, 22, 27,  2, 33, 28, 29,  0,  0,  0,  0,  0,\n",
      "        0,  0,  0,  0,  0,  0,  0,  0,  0,  0,  0,  0,  0,  0,  0,  0,  0,\n",
      "        0,  0,  0,  0,  0,  0,  0,  0,  0,  0,  0,  0,  0,  0,  0,  0],\n",
      "      dtype=int32)\n"
     ]
    }
   ],
   "source": [
    "print(f'{X_vec.shape=}')\n",
    "print(f'{X_vec[0]=}')"
   ]
  },
  {
   "cell_type": "code",
   "execution_count": 10,
   "metadata": {
    "execution": {
     "iopub.execute_input": "2024-08-26T09:58:16.811029Z",
     "iopub.status.busy": "2024-08-26T09:58:16.810491Z",
     "iopub.status.idle": "2024-08-26T09:58:16.958939Z",
     "shell.execute_reply": "2024-08-26T09:58:16.958132Z"
    }
   },
   "outputs": [],
   "source": [
    "class DataGenerator(Sequence):\n",
    "    def __init__(self, data, batch_size, fixed_length, vocab_size, shuffle=True):\n",
    "        # call super\n",
    "        super(DataGenerator, self).__init__()\n",
    "        self.data = data\n",
    "        self.batch_size = batch_size\n",
    "        self.fixed_length = fixed_length\n",
    "        self.vocab_size = vocab_size\n",
    "        self.shuffle = shuffle\n",
    "        self.indices = np.arange(len(self.data))\n",
    "        self.on_epoch_end()\n",
    "\n",
    "    def __len__(self):\n",
    "        # Number of batches per epoch\n",
    "        return int(np.floor(len(self.data) / self.batch_size))\n",
    "\n",
    "    def __getitem__(self, index):\n",
    "        # Generate indices for the batch\n",
    "        batch_indices = self.indices[index * self.batch_size:(index + 1) * self.batch_size]\n",
    "\n",
    "        # Generate data for the batch\n",
    "        X_batch = self.__data_generation(batch_indices)\n",
    "\n",
    "        # Since it's an autoencoder, the target data is the same as the input data\n",
    "        return X_batch, X_batch\n",
    "\n",
    "    def on_epoch_end(self):\n",
    "        # Shuffle indices after each epoch if shuffle is True\n",
    "        if self.shuffle:\n",
    "            np.random.shuffle(self.indices)\n",
    "\n",
    "    def __data_generation(self, batch_indices):\n",
    "        # Generate data for a batch of given indices\n",
    "        # This is where you can customize your data loading and processing\n",
    "        batch_data = [self.data[i] for i in batch_indices]\n",
    "\n",
    "        # Convert the batch data to a numpy array (or whatever format is needed)\n",
    "        X_batch = np.array(batch_data)\n",
    "\n",
    "        # Ensure the data is padded or truncated to fixed_length\n",
    "        X_batch = np.array([np.pad(x, (0, max(0, self.fixed_length - len(x))), constant_values=0)[:self.fixed_length] for x in X_batch])\n",
    "\n",
    "        return X_batch"
   ]
  },
  {
   "cell_type": "code",
   "execution_count": 11,
   "metadata": {
    "execution": {
     "iopub.execute_input": "2024-08-26T09:58:16.963087Z",
     "iopub.status.busy": "2024-08-26T09:58:16.962731Z",
     "iopub.status.idle": "2024-08-26T09:58:17.551062Z",
     "shell.execute_reply": "2024-08-26T09:58:17.550324Z"
    }
   },
   "outputs": [],
   "source": [
    "# prep data generators\n",
    "batch_size = 512\n",
    "train_size = int(0.8 * len(X_vec))\n",
    "val_size = int(0.15 * len(X_vec))\n",
    "test_size = len(X_vec) - train_size - val_size\n",
    "\n",
    "train_gen = DataGenerator(X_vec[:train_size], batch_size, fixed_length, vocab_size)\n",
    "val_gen = DataGenerator(X_vec[train_size:train_size+val_size], batch_size, fixed_length, vocab_size)\n",
    "test_gen = DataGenerator(X_vec[train_size+val_size:], batch_size, fixed_length, vocab_size)\n",
    "\n",
    "x_gen = DataGenerator(X_vec, batch_size, fixed_length, vocab_size)"
   ]
  },
  {
   "cell_type": "code",
   "execution_count": 12,
   "metadata": {
    "execution": {
     "iopub.execute_input": "2024-08-26T09:58:17.555501Z",
     "iopub.status.busy": "2024-08-26T09:58:17.555273Z",
     "iopub.status.idle": "2024-08-26T09:58:18.565797Z",
     "shell.execute_reply": "2024-08-26T09:58:18.565165Z"
    }
   },
   "outputs": [
    {
     "name": "stdout",
     "output_type": "stream",
     "text": [
      "['/dev/kmem', '/dev/kmem', '/dev/kmem', '/dev/random', 'unknown', '/etc/services', '/dev/random', '/usr/lib/libypclnt.so.4', 'unknown', '/dev/kmem', 'unknown', '/dev/kmem', '/bin/sleep', '/etc/pwd.db', '/usr/share/zoneinfo/utc', '/var/run/ldelf.so.hints', '/usr/share/zoneinfo/utc', '/etc/pwd.db', '/etc/pwd.db', '/var/run/ldelf.so.hints', 'unknown', 'unknown', 'unknown', '/usr/local/sbin/lsof', '/dev/kmem', '/dev/random', '/etc/pwd.db', '/usr/local/share/doc/ruby24/maintainers.rdoc', '/etc/libmap.conf', '/dev/kmem', '/etc/nsswitch.conf', '/etc/services', '/dev/kmem', '/dev/kmem', '/etc/services', '/usr/obj/data/update/buildmeta/freebsd/amd64.amd64', 'local.sqlite', '/dev/kmem', '/dev/random', '/etc/login.conf', '/etc/hosts', '/dev/random', '/etc/pwd.db', '/etc/services', '/dev/kmem', '/usr/bin/head', '/dev/kmem', '/etc/nsswitch.conf', '/dev/random', '/tmp/periodic.dbbhxr76tn', '/dev/kmem', '/etc/pwd.db', '/var/run/ldelf.so.hints', '/usr/src/contrib/dtc/libfdt/..', '/etc/services', '/var/log/maillog', '/etc/nsswitch.conf', '/dev/kmem', '/dev/kmem', '/etc/pwd.db', '/etc/nsswitch.conf', '/usr/local/share/icons/adwaita/16x16/status/networ', '/var/run/ldelf.so.hints', '/etc/libmap.conf', '/dev/kmem', '/var/run/ldelf.so.hints', '/dev/random', '/dev/kmem', '/dev/kmem', '/dev/kmem', '/etc/spwd.db', '/usr/local/libexec/postfix/dynamicmaps.cf', '/dev/kmem', '/lib/libncursesw.so.8', '/dev/tty', '/dev/random', '/dev/kmem', '/dev/kmem', '/dev/kmem', '/dev/tty', '/var/run/ldelf.so.hints', '/dev/random', '/etc/libmap.conf', '/lib/libxo.so.0', '/dev/kmem', '/var/run/ldelf.so.hints', 'unknown', '/dev/kmem', '/etc/services', '/dev/kmem', '/var/run/ldelf.so.hints', '/dev/random', '/usr/share/zoneinfo/posixrules', '/etc/spwd.db', '/lib/libkvm.so.7', '/etc/libmap.conf', '/lib/libcxxrt.so.1', 'unknown', '/var/run/ldelf.so.hints', '/usr/local/etc/cclient.cf', '/dev/tty', '/dev/kmem', '/data/update/data/update/buildmeta/freebsd/amd64.a', '/etc/nsswitch.conf', '/dev/kmem', '/dev/tty', '/var/db/entropy/savedentropy.5', '/etc/pwd.db', '/dev/kmem', 'unknown', '/var/mail/bob', '/dev/kmem', '/usr/local/bin/gprof', '/etc/spwd.db', 'active/a674f29cd9', '/etc/spwd.db', '/bin/sleep', '/dev/kmem', '/dev/tty', '/etc/libmap.conf', '/home/charles/sent', '/etc/rc.conf.local', '/lib/libkvm.so.7', 'unknown', '/usr/share/zoneinfo/utc', '/dev/kmem', '/dev/kmem', '/dev/kmem', '/dev/kmem', '/dev/kmem', '/usr/local/include/boost/spirit/home/classic/debug', '/dev/kmem', '/dev/hpet0', '/dev/kmem', '/etc/pwd.db', '/dev/kmem', '/etc/services', '/etc/pwd.db', '/etc/resolv.conf', '/etc/hosts', '/var/db/entropy/savedentropy.4', '/bin/sleep', '/etc/newsyslog.conf.d/ftp.conf', '/etc/pwd.db', '/dev/kmem', '/dev/tty', '/etc/spwd.db', '/dev/random', '/etc/defaults/rc.conf', '/data/update/data/update/buildmeta/freebsd/amd64.a', '/usr/lib/libssl.so.8', '/var/run/ldelf.so.hints', '/dev/kmem', '/dev/random', '/usr/local/include/boost/fusion/container/list/det', '/home/darpa/.lsof_ta1cadets', '/dev/random', '/usr/local/lib/libicudata.so.60', '/var/run/ldelf.so.hints', '/dev/kmem', '/var/run/ldelf.so.hints', '/dev/kmem', '/usr/lib/libmemstat.so.3', '/dev/kmem', '/etc/libmap.conf', '/home/bob/sent', '/etc/spwd.db', '/home/darpa/.lsof_ta1cadets', '/etc/pwd.db', '/etc/group', '/etc/pwd.db', '/dev/kmem', '/dev/kmem', '/lib/libutil.so.9', '/dev/kmem', '/usr/lib/libwrap.so.6', '/usr/home/darpa/top_procs.txt', '/dev/tty', 'unknown', '/dev/tty', '/usr/local/etc/cclient.cf', '/etc/group', '/home/darpa/.lsof_ta1cadets', '/bin/sh', '/data/ufs/usr/home/darpa/ta1integrationcadets/.git', '/usr/home/darpa/kernel_mem.txt', '/usr/ports/graphics/jave6/files/..', '/home/bob/sent', '/dev/kmem', '/etc/services', '/etc/spwd.db', '/dev/kmem', '/etc/pwd.db', 'unknown', '/dev/kmem', '/etc/pwd.db', '/dev/kmem', '/var/run/ldelf.so.hints', '/etc/pwd.db', '/dev/kmem', '/etc/login.conf', '/dev/kmem', '/etc/nsswitch.conf', '/dev/random', '/dev/kmem', '/dev/random', '/dev/kmem', '/dev/kmem', '/dev/kmem', '/home/darpa/.lsof_ta1cadets', '/lib/libkvm.so.7', '/data/ufs/usr/local/share/ri/2.4/system/gc/..', '/dev/random', '/var/run/ldelf.so.hints', '/etc/services', '/var/mail/frank', '/etc/libmap.conf', 'unknown', 'unknown', '/data/update/data/update/buildmeta/freebsd/amd64.a', '/dev/tty', '/etc/pam.d/other', '/data/update/buildmeta/llvm/tools/clang/test/cxx/c', '/dev/hpet0', '/dev/tty', '/etc/spwd.db', '/dev/kmem', '/etc/services', '/dev/kmem', '/dev/kmem', '/dev/kmem', '/dev/kmem', '/dev/kmem', '/usr/src/contrib/libstdc/config/os/irix', '/dev/random', '/dev/hpet0', '/dev/kmem', '/etc/services', '/lib/libelf.so.2', '/dev/kmem', '/dev/kmem', '/dev/hpet0', '/dev/kmem', '/usr/local/share/icons/adwaita/256x256/emotes/face', '/dev/kmem', '/usr/local/etc/postfix/main.cf', '/home/user/mail/sentmail', '/etc/libmap.conf', 'unknown', '/etc/libmap.conf', '/home/henry/archives', '/etc/services', '/etc/services', '/data/gather_stats_uma.txt', 'unknown', '/usr/local/include/boost/polygon/polygon_with_hole', '/usr/local/include/boost/fusion/sequence/io', '/etc/pwd.db', '/etc/pwd.db', '/usr/ports/misc/lingoteach/files/..', 'unknown', '/dev/kmem', '/etc/libmap.conf', '/var/mail/user', '/etc/login.conf', '/usr/share/zoneinfo/utc', '/home/henry/archives.lock', '/etc/resolv.conf', 'unknown', '/etc/pwd.db', '/etc/login.conf', '/dev/kmem', '/dev/kmem', '/dev/hpet0', '/dev/kmem', '/lib/libc.so.7', '/dev/kmem', '/dev/kmem', '/home/user/mail/sentmail', '/etc/pam.d/other', '/dev/random', '/dev/kmem', '/dev/kmem', '/etc/spwd.db', '/lib/libkvm.so.7', '/dev/kmem', '/etc/pwd.db', '/dev/kmem', '/etc/spwd.db', '/dev/kmem', '/var/run/ldelf.so.hints', '/etc/pwd.db', '/usr/local/etc/postfix/virtual.db', '/dev/kmem', '/home/user/mail/sentmail.lock', '/dev/kmem', '/dev/kmem', '/dev/kmem', '/dev/kmem', '/dev/kmem', '/dev/kmem', 'unknown', '/etc/pwd.db', 'unknown', '/etc/pwd.db', 'unknown', '/home/user/mail/sentmail', '/data/gather_stats_uma.txt', '/dev/kmem', '/etc/nsswitch.conf', '/dev/kmem', '/dev/kmem', 'unknown', '/etc/services', '/data/update/data/update/buildmeta/freebsd/amd64.a', '/data/update/data/update/buildmeta/freebsd/amd64.a', '/bin/sleep', '/dev/kmem', 'unknown', 'unknown', '/var/mail/frank', '/usr/ports/misc/pyqt4demo/files', '/etc/pwd.db', '/etc/spwd.db', '/dev/random', 'unknown', '/dev/kmem', 'none', '/usr/local/lib/python2.7/sitepackages/salt/modules', '/etc/pwd.db', '/dev/random', '/home/user/mail/sentmail', '/dev/random', '/etc/nsswitch.conf', '/dev/kmem', '/dev/kmem', '/var/run/ldelf.so.hints', '/var/run/ldelf.so.hints', '/dev/random', 'unknown', 'unknown', '/lib/libm.so.5', '/lib/libncursesw.so.8', 'unknown', '/etc/pwd.db', '/dev/kmem', 'unknown', '/bin/date', '/dev/random', '/dev/kmem', '/etc/pwd.db', '/dev/kmem', '/bin/sleep', '/dev/kmem', '/etc/hosts', '/dev/kmem', '/dev/kmem', '/etc/login.conf', '/dev/random', '/etc/hosts', '/dev/kmem', '/etc/hosts', '/etc/pwd.db', '/var/run/ldelf.so.hints', '/dev/kmem', '/etc/hosts', '/dev/tty', '/dev/random', '/bin/sleep', '/dev/kmem', '/etc/pwd.db', '/etc/pwd.db', '/etc/libmap.conf', '/var/db/entropy/savedentropy.7', '/etc/pwd.db', '/etc/pwd.db', '/home/bob/sent.lock.1523310540.70938.ta1cadets', '/dev/random', '/usr/local/lib/python2.7/sitepackages/botocore/dat', '/dev/hpet0', '/dev/random', '/dev/tty', '/home/bob/sent', '/etc/pwd.db', '/dev/null', '/dev/hpet0', '/dev/tty', '/dev/kmem', 'unknown', '/etc/resolv.conf', 'unknown', 'unknown', '/etc/aliases.db', '/dev/kmem', '/usr/local/lib/libboost_locale.a', 'unknown', '/etc/pwd.db', 'unknown', '/etc/pwd.db', '/etc/services', '/home/user/.pinedebug2', '/dev/kmem', '/etc/services', '/dev/kmem', '/usr/local/lib/libruby24static.a', '/etc/pwd.db', '/dev/random', 'unknown', '/dev/kmem', '/var/log/utx.lastlogin', '/etc/login.conf', '/etc/pwd.db', '/dev/kmem', '/lib/libcxxrt.so.1', '/dev/kmem', '/dev/random', '/dev/kmem', '/usr/src/crypto/openssh/regress/unittests/kex/..', '/dev/kmem', 'maillog', '/home/bob/sent', '/var/run/ldelf.so.hints', '/usr/ports/x11/pantheonterminal', '/dev/tty', '/usr/obj/data/update/buildmeta/freebsd/amd64.amd64', '/usr/bin/head', 'incoming/242034.23219', '/etc/resolv.conf', '/etc/login.conf', '/etc/pwd.db', '/etc/libmap.conf', '/etc/nsswitch.conf', '/dev/kmem', '/dev/kmem', '/etc/services', '/dev/kmem', '/dev/random', '/data/update/data/update/buildmeta/freebsd/amd64.a', '/dev/kmem', '/usr/lib/pam_permit.so.6', '/etc/pwd.db', '/dev/kmem', '/dev/kmem', '/dev/kmem', '/var/run/ldelf.so.hints', 'unknown', '/dev/kmem', '/etc/pwd.db', '/dev/kmem', '/dev/tty', '/dev/kmem', '/usr/local/lib/python2.7/sitepackages/pytz/zoneinf', '/dev/tty', '/usr/local/share/emacs/25.3/etc/nxml/009000097f.el', '/home/user/mail/sentmail', '/usr/share/misc/termcap.db', 'unknown', '/bin/sh', 'unknown', 'unknown', '/var/run/ldelf.so.hints', '/dev/kmem', '/lib/libc.so.7', '/dev/kmem', '/dev/kmem', '/dev/null', '/dev/random', '/usr/local/libexec/postfix/pickup', '/dev/kmem', '/var/run/ldelf.so.hints', 'unknown', '/dev/kmem', '/etc/spwd.db', '/etc/pwd.db', '/dev/kmem', '/data/update/buildmeta/freebsd/bin/getfacl', '/usr/ports/ftp/urlgfe', '/usr/lib/libypclnt.so.4', '/dev/kmem', '/etc/pwd.db', '/etc/pwd.db', '/etc/spwd.db', '/var/run/ldelf.so.hints', '/dev/kmem', '/data/ufs/usr/local/share/icons/hicolor/36x36/stoc', '/dev/kmem', '/dev/kmem', '/etc/hosts', '/dev/kmem', '/dev/kmem', '/dev/kmem', '/etc/services', 'unknown', '/etc/pwd.db', '/var/run/ldelf.so.hints', '/usr/local/share/ri/2.4/system/json/generatei.ri', '/dev/tty', '/etc/hosts', '/dev/kmem', '/etc/spwd.db', '/dev/kmem', '/dev/tty', '/dev/random', '/usr/local/etc/postfix/main.cf', '/usr/local/lib/libpq.a', 'unknown', '/home/darpa/.shrc', '/usr/local/lib/postfix/libpostfixutil.so', '/etc/pwd.db', '/dev/kmem', '/tmp/.31.29d0a', '/etc/opiekeys']\n",
      "['/etc/spwd.db', 'www.hbo.com/apps/hodschedule/hodcategory.docatg_id', '/dev/kmem', '/dev/kmem', '/etc/hosts', '/etc/login.conf', '/etc/libmap.conf', '/usr/ports/netmgmt/collectd5/..', '/etc/services', '/usr/local/lib/python2.7/sitepackages/setuptools/p', '/dev/kmem', '/var/run/ldelf.so.hints', '/data/update/buildmeta/freebsd/sys/modules/libalia', '/var/mail/frank.lock.1522896389.44941.ta1cadets', '/etc/pwd.db', '/etc/pwd.db', '/home/bob', '/dev/null', '/etc/spwd.db', '/dev/kmem', '/var/run/ldelf.so.hints', '/lib/libkvm.so.7', '/etc/services', '/dev/random', '/var/mail/edward.lock', '/lib/libelf.so.2', '/dev/tty', '/bin/date', '/dev/kmem', '/etc/libmap.conf', '/dev/kmem', '/etc/hosts', '/dev/hpet0', 'unknown', '/var/run/ldelf.so.hints', '/dev/kmem', '/data/ufs/usr/local/share/ri/2.4/system/net/ftp/ml', '/dev/kmem', '/etc/login.conf', '/etc/pwd.db', '/dev/tty', '/lib/libdevstat.so.7', '/dev/kmem', '/dev/kmem', '/dev/kmem', '/etc/pwd.db', '/dev/kmem', '/dev/hpet0', '/usr/obj/data/update/buildmeta/freebsd/amd64.amd64', 'unknown', '/etc/hosts', '/dev/kmem', 'unknown', '/dev/kmem', '/etc/services', '/dev/tty', 'unknown', '/var/run/ldelf.so.hints', '/dev/kmem', '/dev/kmem', 'unknown', '/usr/ports/netmgmt/mysqld_exporter/files/..', '/dev/kmem', '/etc/services', '/dev/kmem', '/lib/libelf.so.2', '/etc/pwd.db', '/etc/pwd.db', 'unknown', '/dev/kmem', '/etc/libmap.conf', '/dev/kmem', '/dev/random', 'unknown', '/usr/local/lib/python2.7/idlelib/widgetredirector.', '/dev/random', '/dev/kmem', '/var/run/ldelf.so.hints', '/dev/kmem', '/dev/random', '/dev/kmem', '/tmp/periodic.gu2sgveu5c', '/usr/local/lib/python3.6/sitepackages/pip/_vendor/', '/etc/spwd.db', '/dev/kmem', '/dev/random', '/etc/libmap.conf', '/var/run/ldelf.so.hints', 'unknown', '/dev/kmem', '/etc/libmap.conf', '/dev/kmem', '/lib/libutil.so.9', '/dev/kmem', '/etc/libmap.conf', '/dev/kmem', '/etc/pwd.db', '/dev/kmem', '/dev/kmem', '/usr/local/share/xsl/docbook/params/body.attribute', '/dev/kmem', '/dev/kmem', '/dev/random', '/etc/spwd.db', '/lib/libc.so.7', '/dev/kmem', '/lib/libelf.so.2', '/dev/random', '/dev/kmem', '/usr/local/lib/python2.7/config/libpython2.7.a', '/var/db/entropy/savedentropy.6', '/var/run/ldelf.so.hints', '/dev/kmem', '/dev/kmem', '/dev/kmem', '/dev/tty', '/dev/random', '/dev/hpet0', '/usr/local/share/ri/2.4/system/shell/chdiri.ri', '/data/update/data/update/buildmeta/freebsd/amd64.a', '/dev/kmem', '/dev/kmem', '/var/spool/postfix/maildrop', '/etc/spwd.db', 'unknown', '/dev/kmem', '/usr/lib/libdl.so.1', '/dev/kmem', '/etc/pwd.db', '/etc/spwd.db', '/etc/hosts.allow', '/usr/lib/libpam.so.6', '/etc/spwd.db', 'unknown', '/usr/local/lib/postfix/libpostfixutil.so', '/dev/tty', '/etc/libmap.conf', '/etc/nsswitch.conf', '/etc/pwd.db', '/dev/null', '/usr/lib/libprivateldns.so.5', '/dev/kmem', '/data/gather_stats_uma.txt', '/lib/libc.so.7', '/etc/pam.d/other', '/etc/spwd.db', '/dev/kmem', '/dev/random', '/dev/kmem', '/usr/home/darpa/top_procs.txt', '/dev/kmem', '/etc/spwd.db', '/etc/hosts', '/usr/lib/libgssapi_krb5.so.10', '/dev/kmem', '/dev/kmem', '/dev/kmem', '/lib/libjail.so.1', 'unknown', '/etc/pwd.db', '/etc/pwd.db', 'unknown', '/dev/kmem', '/dev/random', '/dev/kmem', '/usr/ports/devel/p5sortkeydatetime', '/dev/kmem', '/usr/local/lib/python2.7/sitepackages/pytz/excepti', '/dev/hpet0', 'unknown', '/etc/login.conf', '/etc/resolv.conf', '/etc/pwd.db', '/dev/kmem', '/etc/services', '/dev/kmem', '/var/run/ldelf.so.hints', '/etc/login.conf', '/etc/hosts', '/etc/hosts', '/usr/bin/vmstat', '/dev/kmem', 'unknown', '/etc/pwd.db', '/dev/kmem', '/var/run/ldelf.so.hints', '/etc/services', '/usr/bin/top', '/dev/hpet0', '/var/run/ldelf.so.hints', '/etc/pwd.db', '/var/mail/george.lock', '/dev/kmem', '/lib/libxo.so.0', '/usr/local/sbin/pkgstatic', '/etc/pwd.db', '/dev/kmem', '/usr/local/share/ri/2.4/system/pagechangelog1_9_3.', '/etc/spwd.db', '/usr/local/share/ri/2.4/system/pathname/exist3fi.r', '/dev/random', '/etc/nsswitch.conf', '/dev/kmem', '/etc/hosts', '/data/update/buildmeta/llvm/tools/clang/test/drive', '/dev/kmem', '/dev/kmem', '/lib/libelf.so.2', '/usr/local/lib/ruby/2.4/amd64freebsd12/cgi/escape.', '/etc/pwd.db', '/dev/kmem', '/dev/kmem', '/bin/sleep', '/dev/hpet0', '/dev/kmem', '/dev/kmem', 'unknown', '/dev/kmem', '/dev/kmem', 'unknown', '/etc/pam.d/imap', '/dev/kmem', '/dev/kmem', '/dev/kmem', '/etc/pwd.db', '/etc/pwd.db', '/dev/kmem', '/etc/pwd.db', '/dev/random', '/usr/ports/textproc/elasticsearch5', '/etc/libmap.conf', '/etc/pwd.db', '/usr/local/share/emacs/25.3/lisp/mail/rmailmm.elc', '/var/run/ldelf.so.hints', '/var/mail/bob.lock', '/dev/kmem', '/etc/pwd.db', '/data/gather_stats_uma.txt', '/dev/random', '/etc/hosts', '/dev/tty', '/etc/pwd.db', '/var/run/ldelf.so.hints', '/dev/random', '/dev/kmem', '/etc/services', '/lib/libc.so.7', '/var/run/ldelf.so.hints', '/etc/pwd.db', '/dev/kmem', '/dev/null', '/data/ufs/usr/local/share/locale/tk/lc_messages', '/lib/libncursesw.so.8', '/dev/random', '/dev/kmem', '/etc/spwd.db', '/etc/pwd.db', '/var/run/ldelf.so.hints', '/dev/hpet0', '/dev/kmem', '/usr/lib/libssl.so.8', '/dev/hpet0', '/lib/libm.so.5', '/usr/share/zoneinfo/utc', '/dev/random', '/usr/local/share/php', '/dev/kmem', '/dev/tty', '/data/update/buildmeta/freebsd/sys/dev/sfxge/commo', '/dev/kmem', '/data/ufs/usr/local/lib/python3.6/test/test_import', '/etc/opiekeys', '/usr/local/include/boost/spirit/home/qi/string/lit', '/etc/spwd.db', 'unknown', '/dev/random', '/etc/group', '/etc/services', '/etc/pwd.db', '/dev/kmem', '/etc/pwd.db', '/dev/kmem', 'unknown', '/usr/bin/head', '/var/mail/george', '/usr/local/share/alsa/topology/sklrt286/hdmi1_pt_o', '/var/run/ldelf.so.hints', '/usr/share/zoneinfo/utc', '/dev/kmem', '/etc/nsswitch.conf', '/dev/random', '/dev/kmem', '/sbin/dhclientscript', '/dev/tty', '/dev/urandom', 'unknown', '/etc/pwd.db', '/dev/random', '/dev/kmem', '/dev/kmem', '/dev/kmem', '/etc/pwd.db', '/usr/local/share/ri/2.4/system/dir/openc.ri', 'unknown', '/dev/hpet0', '/dev/kmem', '/lib/libc.so.7', '/dev/kmem', '/dev/random', '/dev/kmem', '/dev/random', '/dev/kmem', '/dev/random', '/usr/local/include/unicode/decimfmt.h', '/data/gather_stats_uma.txt', '/var/run/ldelf.so.hints', '/etc/resolv.conf', '/dev/kmem', '/bin/sleep', 'unknown', '/dev/kmem', 'unknown', '/lib/libelf.so.2', '/etc/nsswitch.conf', '/etc/hosts', '/dev/kmem', '/dev/random', '/usr/share/i18n/esdb/iso646/iso646us.esdb', '/dev/kmem', '/dev/kmem', '/var/mail/bob', '/dev/kmem', 'unknown', '/usr/local/lib/libgs.so.9.16', '/dev/random', '/lib/libdevstat.so.7', '/data/update/buildmeta/freebsd/contrib/openpam/lib', '/etc/nsswitch.conf', '/dev/random', '/usr/local/share/java/libgcj6.4.0.jar', '/dev/kmem', '/dev/kmem', '/dev/kmem', '/var/run/ldelf.so.hints', '/etc/hosts', '/dev/kmem', '/etc/nsswitch.conf', 'unknown', '/etc/pwd.db', '/etc/spwd.db', '/dev/random', 'unknown', '/dev/random', '/usr/ports/devel/9base/..', '/etc/pwd.db', '/dev/kmem', 'unknown', '/usr/local/x86_64portbldfreebsd12.0/lib/ldscripts/', '/usr/local/share/locale/tg/lc_messages/gtk30proper', '/usr/local/lib/libgtk3.so.0.2200.15', '/dev/kmem', '/etc/hosts', '/etc/services', '/dev/kmem', '/dev/random', '/dev/random', '/dev/kmem', '/etc/services', '/dev/kmem', '/etc/login.conf', '/data/gather_stats_uma.txt', '/dev/kmem', '/dev/kmem', '/dev/random', '/dev/kmem', 'unknown', '/usr/local/share/ri/2.4/system/webrick/httpauth/us', '/dev/kmem', '/dev/kmem', '/lib/libc.so.7', 'unknown', 'unknown', '/dev/kmem', '/dev/tty', '/dev/random', '/lib/libc.so.7', '/dev/kmem', '/var/mail/edward.lock', '/etc/services', '/home/user/mail/sentmail', 'unknown', '/usr/local/libexec/imapd', '/etc/nsswitch.conf', '/dev/kmem', '/dev/kmem', '/var/run/ldelf.so.hints', '/etc/services', '/data/gather_stats_uma.txt', '/dev/kmem', '/var/run/ldelf.so.hints', '/dev/kmem', '/dev/kmem', '/var/run/ldelf.so.hints', '/dev/kmem', '/var/run/ldelf.so.hints', '/dev/kmem', '/dev/kmem', '/etc/spwd.db', '/etc/spwd.db', '/dev/kmem', '/etc/hosts', '/usr/obj/data/update/buildmeta/freebsd/amd64.amd64', '/dev/kmem', '/etc/hosts', '/usr/ports/textproc/p5pdfwriter/..', '/etc/pwd.db', '/home/user/.bash_history58733.tmp', '/dev/random', '/var/run/ldelf.so.hints', 'unknown', '/usr/local/include/boost/log/utility/ipc/object_na', '/lib/libkvm.so.7', '/dev/random', '/etc/pam.d/imap', '/dev/kmem', '/dev/kmem', 'active/114d829cd1', 'top_procs.txt', '/etc/pwd.db', '/home/george/sent', '/etc/pwd.db', '/dev/kmem', 'unknown', '/usr/local/bin/perlbug', '/usr/local/share/doc/db5/upgrading/upgrade_3_0_log', '/dev/kmem', 'unknown', '/dev/kmem', '/etc/libmap.conf', '/dev/kmem', '/etc/pwd.db', '/dev/kmem', '/dev/kmem', '/data/update/buildmeta/llvm/tools/clang/test/vfs/i', '/usr/ports/devel/ispc', '/lib/libkvm.so.7', '/usr/share/zoneinfo/posixrules', '/dev/null', '/etc/services', '/usr/src/contrib/netbsdtests/lib/libc/arch/sparc', '/dev/kmem', '/dev/kmem', '/dev/kmem', '/dev/kmem', '/var/run/ldelf.so.hints', '/dev/kmem', '/dev/kmem', '/dev/hpet0', '/lib/libdevstat.so.7', '/etc/libmap.conf', '/etc/services', '/etc/spwd.db', 'unknown', '/usr/obj/data/update/buildmeta/freebsd/amd64.amd64', 'unknown', '/usr/lib/pam_unix.so.6', '/usr/local/share/doc/db5/gsg_txn/cxx/moreinfo.html', '/etc/nsswitch.conf', '/dev/kmem', '/usr/ports/sysutils/ck4up/..', '/etc/pwd.db', '/etc/spwd.db', '/dev/kmem', '/etc/pwd.db', '/dev/kmem', '/dev/kmem', '/etc/spwd.db', '/etc/pwd.db', '/etc/services', '/bin/sleep', '/data/update/data/update/buildmeta/freebsd/amd64.a', '/dev/tty', 'unknown', '/etc/spwd.db', '/dev/kmem', '/tmp/.31.29ada', '/dev/kmem', '/dev/random', '/dev/random', '/dev/kmem', '/etc/spwd.db', '/etc/pwd.db', '/dev/tty', '/dev/kmem', '/var/run/ldelf.so.hints', '/dev/kmem', '/dev/kmem', '/bin/mv', '/etc/pwd.db', '/dev/kmem', '/dev/tty', '/etc/pwd.db', '/dev/kmem', '/data/ufs/usr/obj/data/update/buildmeta/freebsd/am', '/bin/sleep', '/dev/kmem', '/dev/random', '/usr/lib/pam_unix.so.6', '/etc/group', 'unknown', '/dev/kmem', '/dev/kmem']\n"
     ]
    },
    {
     "name": "stdout",
     "output_type": "stream",
     "text": [
      "['/var/run/ldelf.so.hints', '/etc/spwd.db', '/data/update/buildmeta/freebsd/contrib/pjdfstest/t', '/dev/kmem', '/dev/kmem', '/var/run/ldelf.so.hints', '/lib/libc.so.7', '/etc/hosts', '/var/run/ldelf.so.hints', '/etc/pwd.db', 'unknown', '/dev/tty', '/dev/random', '/usr/share/zoneinfo/posixrules', '/dev/random', '/home/bob/sent', '/etc/pwd.db', '/data/update/data/update/buildmeta/freebsd/amd64.a', '/etc/hosts', 'unknown', '/dev/tty', '/dev/hpet0', '/var/run/ldelf.so.hints', '/data/update/buildmeta/freebsd/sys/gnu/dts/include', '/usr/ports/devel/libcello/files', '/dev/kmem', '/home/user/mail/sentmail', '/usr/local/libexec/postfix/dynamicmaps.cf', '/home/bob/sent', '/dev/random', '/var/run/ldelf.so.hints', '/usr/local/include/boost/numeric/odeint/stepper/ge', '/lib/libc.so.7', '/dev/kmem', '/dev/kmem', '/etc/services', '/dev/kmem', '/dev/kmem', '/etc/pam.d/imap', '/etc/pwd.db', '/etc/nsswitch.conf', '/etc/services', '/var/mail/user', 'unknown', '/dev/kmem', '/usr/local/lib/python2.7/encodings/uu_codec.pyc', '/etc/spwd.db', '/dev/kmem', '/dev/kmem', '/usr/bin/vmstat', 'unknown', '/dev/null', 'unknown', '/dev/kmem', '/etc/libmap.conf', 'kernel_zones.txt', '/dev/tty', '/usr/ports/devel/subversion/work/stage/usr/local/s', '/etc/libmap.conf', '/dev/kmem', '/var/run/ldelf.so.hints', '/etc/group', '/etc/services', '/etc/libmap.conf', '/data/update/data/update/buildmeta/freebsd/amd64.a', '/var/run/ldelf.so.hints', '/dev/kmem', '/usr/bin/vmstat', '/dev/kmem', '/dev/kmem', '/etc/pwd.db', '/dev/random', '/etc/spwd.db', '/dev/kmem', '/dev/kmem', '/dev/kmem', '/dev/kmem', '/usr/share/misc/termcap.db', '/usr/home/darpa/.m2/repository/org/apache/avro/avr', '/dev/kmem', 'unknown', '/etc/spwd.db', '/etc/services', '/dev/kmem', 'unknown', '/etc/services', '/dev/kmem', '/dev/tty', '/home/darpa/.lsof_ta1cadets', '/lib/libkvm.so.7', '/dev/kmem', '/lib/libc.so.7', '/etc/spwd.db', '/etc/services', '/dev/kmem', '/usr/local/include/boost/fusion/container/deque/de', '/etc/hosts', 'unknown', '/dev/kmem', 'unknown', '/etc/nsswitch.conf', '/dev/kmem', '/home/bob/sent', '/dev/random', '/dev/kmem', 'unknown', '/usr/local/include/boost/atomic/detail/caps_gcc_x8', '/etc/login.conf', '/home/user/mail/sentmail', '/dev/kmem', '/var/run/ldelf.so.hints', '/usr/local/include/ruby2.4/ruby/backward/..', '/dev/kmem', '/var/run/ldelf.so.hints', '/dev/kmem', '/usr/local/share/ghostscript/9.16/doc/history9.htm', '/dev/kmem', 'unknown', '/usr/local/share/doc/docbookxsl/images/callouts/5.', '/var/run/ldelf.so.hints', '/usr/share/zoneinfo/utc', '/dev/random', 'unknown', '/dev/random', '/dev/kmem', '/dev/kmem', '/etc/nsswitch.conf', '/usr/local/libexec/postfix/dynamicmaps.cf.d/pcre.c', '/dev/kmem', 'unknown', '/dev/kmem', 'unknown', 'unknown', '/etc/hosts', '/dev/kmem', '/usr/local/share/doc/docbookxsl/html/xref.titlepag', '/usr/bin/top', '/dev/kmem', '/dev/kmem', '/usr/local/x86_64portbldfreebsd12.0/lib/ldscripts/', '/dev/kmem', '/usr/local/sbin/lsof', '/lib/libjail.so.1', '/etc/libmap.conf', '/dev/kmem', 'unknown', '/dev/kmem', '/etc/pwd.db', '/dev/kmem', 'unknown', 'unknown', '/dev/random', '/dev/kmem', '/usr/local/share/doc/db5/installation/upgrade_11gr', '/etc/pwd.db', '/dev/kmem', '/dev/kmem', '/dev/random', '/dev/kmem', '/usr/local/etc/cclient.cf', '/dev/kmem', '/etc/libmap.conf', '/dev/kmem', '/etc/group', '/dev/null', '/etc/spwd.db', 'unknown', '/dev/kmem', '/data/update/data/update/buildmeta/freebsd/amd64.a', '/etc/pwd.db', '/usr/src/sys/dev/advansys', '/dev/kmem', '/var/run/ldelf.so.hints', '/usr/local/include/boost/math/tools/detail/polynom', '/usr/local/lib/gcc6/libstdc.a', '/usr/bin/vmstat', '/etc/libmap.conf', '/bin/dd', '/var/run/ldelf.so.hints', '/dev/kmem', '/dev/random', '/data/update/data/update/buildmeta/freebsd/amd64.a', '/var/mail/george.lock.1522864288.37350.ta1cadets', '/dev/kmem', '/etc/services', '/dev/kmem', '/etc/pwd.db', '/etc/spwd.db', '/home/frank/.mailboxlist', '/etc/libmap.conf', 'unknown', '/usr/ports/graphics/rayshade/files', '/usr/ports/science/pypyosf/files/..', '/dev/random', '/home/bob/sent', '/etc/spwd.db', 'unknown', '/dev/kmem', '/var/mail/bob', '/usr/local/lib/postfix/libpostfixglobal.so', '/etc/hosts', '/dev/random', '/dev/tty', '/dev/kmem', '/dev/random', '/dev/random', '/etc/services', '/usr/local/lib/postgresql/utf8_and_johab.so', '/etc/pwd.db', '/dev/kmem', '/dev/kmem', '/etc/hosts', '/lib/libutil.so.9', 'unknown', '/etc/pwd.db', '/etc/libmap.conf', '/etc/libmap.conf', '/lib/libc.so.7', '/etc/login.conf', '/dev/random', '/var/run/ldelf.so.hints', '/dev/tty', '/dev/mem', '/usr/local/sbin/lsof', '/home/darpa/.lsof_ta1cadets', '/dev/kmem', '/dev/random', '/etc/pwd.db', '/dev/kmem', '/dev/hpet0', '/dev/kmem', '/dev/kmem', '/etc/pwd.db', '/dev/kmem', '/usr/local/etc/postfix/main.cf', '/dev/kmem', 'unknown', '/etc/spwd.db', '/var/run/ldelf.so.hints', '/dev/kmem', '/dev/kmem', '/var/run/ldelf.so.hints', '/etc/nsswitch.conf', '/etc/services', '/dev/kmem', '/etc/libmap.conf', '/etc/pwd.db', '/etc/nsswitch.conf', '/dev/random', '/lib/libc.so.7', '/dev/random', '/dev/kmem', 'unknown', '/dev/random', '/usr/local/lib/ruby/2.4/amd64freebsd12/date_core.s', '/usr/ports/math/lambda/..', '/etc/spwd.db', '/usr/local/lib/postfix/libpostfixutil.so', '/dev/random', '/dev/tty', 'unknown', 'unknown', '/dev/kmem', '/etc/nsswitch.conf', '/dev/kmem', '/var/run/ldelf.so.hints', '/bin/sleep', '/var/run/ldelf.so.hints', '/dev/kmem', '/etc/hosts', '/dev/random', '/dev/random', '/bin/sleep', '/etc/services', 'unknown', '/etc/pwd.db', 'unknown', '/dev/kmem', '/dev/kmem', 'unknown', '/dev/random', '/dev/random', '/dev/kmem', '/dev/random', '/etc/group', '/dev/kmem', 'unknown', '/dev/hpet0', '/dev/kmem', '/usr/local/libexec/imapd', '/dev/tty', '/var/mail/bob', '/dev/kmem', '/usr/local/bin/applycal', '/etc/resolv.conf', 'unknown', '/dev/tty', '/etc/pwd.db', '/dev/random', '/var/run/ldelf.so.hints', '/usr/lib/libmemstat.so.3', '/dev/kmem', '/dev/kmem', '/etc/services', '/dev/tty', '/dev/kmem', 'unknown', '/dev/kmem', '/etc/spwd.db', '/etc/pwd.db', '/data/update/buildmeta/freebsd/contrib/llvm/lib/ta', '/etc/resolv.conf', '/usr/local/lib/gcc6/libgomp.a', '/dev/kmem', '/etc/pwd.db', 'unknown', '/etc/services', '/etc/nsswitch.conf', 'unknown', '/dev/tty', '/etc/login.conf', '/usr/local/lib/python2.7/sitepackages/tornado/http', '/dev/kmem', '/etc/services', '/etc/group', '/etc/services', '/dev/kmem', '/etc/nsswitch.conf', '/dev/kmem', 'unknown', '/etc/services', 'unknown', '/bin/sleep', '/data/ufs/usr/home/darpa/ta3apibindingspython/.git', '/etc/login.conf', '/dev/kmem', '/dev/kmem', '/etc/login.conf', '/etc/services', '/dev/kmem', '/dev/kmem', '/dev/kmem', '/var/run/ldelf.so.hints', '/etc/pwd.db', 'unknown', '/dev/hpet0', '/etc/pwd.db', '/var/mail/charles', '/dev/kmem', '/usr/lib/pam_unix.so.6', '/home/bob/sent', '/dev/random', '/etc/pwd.db', '/usr/share/misc/termcap.db', '/home/darpa/.lsof_ta1cadets', '/dev/kmem', '/etc/resolv.conf', '/bin/sleep', '/dev/kmem', '/dev/kmem', '/home/user/mail/sentmail', '/dev/kmem', '/etc/login.conf', '/usr/ports/lang/php56/work/stage/usr/local/share/l', '/etc/services', 'kernel_mem.txt', '/home/darpa/.lsof_ta1cadets', '/etc/libmap.conf', '/data/update/data/update/buildmeta/freebsd/amd64.a', '/etc/hosts', 'unknown', '/var/run/utx.active', 'unknown', 'unknown', '/bin/sleep', '/usr/share/zoneinfo/posixrules', '/dev/random', '/dev/kmem', '/dev/random', '/var/mail/george.lock.1523208158.45960.ta1cadets', '/dev/kmem', '/var/run/ldelf.so.hints', '/etc/pwd.db', '/usr/ports/textproc/sqhunspell/..', 'unknown', '/dev/random', '/dev/kmem', 'unknown', '/usr/local/share/licenses/libzmq44.2.2_1/license', '/dev/kmem', '/dev/kmem', '/usr/local/lib/postfix/libpostfixglobal.so', '/dev/kmem', '/etc/pwd.db', '/dev/kmem', '/etc/services', '/dev/random', '/bin/sleep', '/dev/kmem', '/var/mail/bob.lock.1523225103.50584.ta1cadets', '/var/run/ldelf.so.hints', 'unknown', '/etc/libmap.conf', '/dev/kmem', '/dev/kmem', '/usr/local/man/man3/xmbufcreatestereowindow.3.gz', '/dev/kmem', '/etc/libmap.conf', '/dev/kmem', '/dev/kmem', '/etc/spwd.db', '/etc/login.conf', '/usr/share/zoneinfo/posixrules', '/dev/kmem', '/usr/include/geom/..', '/etc/pwd.db', '/lib/libc.so.7', '/dev/kmem', '/dev/kmem', '/usr/lib/libgssapi_spnego.so.10', '/dev/tty', '/etc/services', '/dev/tty', '/etc/hosts', '/etc/services', '/etc/hosts', '/usr/local/share/ghostscript/9.16/doc/history9.htm', '/usr/share/zoneinfo/posixrules', '/lib/libm.so.5', '/dev/kmem', '/etc/pwd.db', '/var/run/ldelf.so.hints', '/etc/spwd.db', '/dev/kmem', 'unknown', '/dev/random', '/dev/hpet0', '/dev/random', '/dev/kmem', '/var/mail/edward', '/var/run/ldelf.so.hints', '/data/update/data/update/buildmeta/freebsd/amd64.a', '/dev/kmem', 'unknown', '/dev/kmem', '/etc/pwd.db', '/var/spool/postfix/active/ee45e29b4e', '/etc/pwd.db', '/dev/kmem', '/dev/kmem', '/usr/local/share/locale/lv/lc_messages/gconf2.mo', 'unknown', '/etc/login.conf', '/etc/spwd.db', '/etc/pwd.db', '/usr/share/zoneinfo/posixrules', '/var/run/ldelf.so.hints', '/lib/libc.so.7', 'unknown', '/etc/hosts', '/dev/kmem', '/lib/libkvm.so.7', '/dev/kmem', '/etc/spwd.db', '/dev/hpet0', '/dev/kmem', '/usr/local/bin/ld', 'unknown', '/dev/kmem', '/usr/lib/libssl.so.8', 'kernel_zones.txt', '/home/darpa/.lsof_ta1cadets', '/dev/kmem', '/dev/kmem', '/lib/libm.so.5', '/var/run/ldelf.so.hints', '/dev/kmem', '/var/mail/user', '/dev/kmem', '/dev/kmem', '/dev/kmem', '/etc/services', '/dev/random', '/etc/group', '/dev/pts/2', '/dev/kmem', '/dev/kmem', '/etc/pwd.db', '/tmp/.31.29d0a', '/usr/share/zoneinfo/utc', '/dev/kmem', 'unknown', '/lib/libc.so.7', '/etc/pwd.db', 'unknown', '/etc/services', '/var/mail/henry', '/etc/spwd.db', '/etc/services', '/var/run/ldelf.so.hints', 'unknown', '/etc/spwd.db', '/dev/random', '/var/mail/charles.lock', '/etc/pwd.db', '/dev/kmem', '/etc/spwd.db', '/dev/kmem', '/dev/kmem', '/var/run/ldelf.so.hints', 'unknown', '/etc/pwd.db']\n",
      "['/etc/pwd.db', '/etc/nsswitch.conf', '/etc/libmap.conf', '/dev/kmem', '/tmp/.31.3023c', 'unknown', '/dev/random', '/dev/kmem', '/etc/nsswitch.conf', '/etc/pwd.db', '/dev/random', '/dev/hpet0', '/var/run/ldelf.so.hints', '/usr/local/etc/cclient.cf', '/dev/kmem', '/home/bob/sent.lock', '/lib/libutil.so.9', 'unknown', 'unknown', 'unknown', '/dev/kmem', '/dev/kmem', '/dev/hpet0', '/etc/services', '/etc/pwd.db', '/var/run/ldelf.so.hints', '/dev/kmem', '/lib/libc.so.7', '/etc/pwd.db', '/etc/hosts', '/usr/local/share/ri/2.4/system/optionparser/define', '/usr/local/share/ri/2.4/system/rdoc/options/hyperl', '/etc/spwd.db', '/dev/kmem', '/dev/tty', 'unknown', '/usr/local/etc/postfix/main.cf', '/etc/pwd.db', 'unknown', '/etc/pwd.db', '/dev/null', '/usr/lib/pam_unix.so.6', '/var/run/ldelf.so.hints', '/dev/kmem', '/etc/nsswitch.conf', '/etc/pwd.db', '/dev/random', '/etc/services', 'unknown', '/dev/random', '/usr/local/etc/postfix/virtual.db', '/dev/kmem', '/dev/random', '/bin/mv', 'www.hbo.com/thewire/index.htmlntrack_para1feat_mai', '/usr/lib/libpam.so.6', '/dev/null', '/etc/spwd.db', 'unknown', 'unknown', '/dev/kmem', '/etc/spwd.db', '/usr/local/share/doc/db5/gsg_txn/c/berkeleydbcorec', 'unknown', 'unknown', '/dev/random', '/dev/kmem', '/etc/spwd.db', '/dev/kmem', '/lib/libc.so.7', '/dev/random', '/etc/services', '/dev/kmem', '/var/run/ldelf.so.hints', '/var/mail/george', '/etc/pwd.db', '/var/mail/frank', '/etc/pwd.db', 'none', '/usr/ports/devel/subversion/work/stage/usr/local/s', '/dev/kmem', '/var/run/ldelf.so.hints', '/etc/services', '/etc/pwd.db', '/etc/pwd.db', '/dev/kmem', '/dev/random', '/dev/kmem', '/dev/kmem', '/lib/libm.so.5', '/dev/kmem', 'unknown', '/dev/kmem', '/home/darpa/.lsof_ta1cadets', '/var/mail/george', '/lib/libc.so.7', '/lib/libelf.so.2', '/lib/libelf.so.2', '/dev/kmem', '/var/db/entropy/savedentropy.3', 'unknown', 'unknown', '/usr/lib/pam_permit.so.6', '/etc/services', '/dev/kmem', '/dev/kmem', '/usr/share/zoneinfo/posixrules', '/dev/hpet0', 'unknown', '/dev/kmem', '/usr/local/include/imagemagick6/magick/pixelaccess', '/dev/kmem', '/etc/pwd.db', 'unknown', '/etc/pwd.db', '/etc/hosts', '/dev/kmem', 'unknown', '/etc/pwd.db', '/etc/hosts', '/dev/tty', '/dev/tty', 'unknown', '/lib/libelf.so.2', '/etc/spwd.db', '/dev/kmem', '/etc/group', '/usr/local/lib/postfix/libpostfixutil.so', '/var/run/ldelf.so.hints', '/usr/ports/netmgmt/kapacitor/files', 'unknown', '/home/darpa/.lsof_ta1cadets', '/dev/kmem', 'unknown', '/etc/login.conf', '/dev/kmem', '/var/db/entropy/savedentropy.6', '/dev/kmem', '/var/run/ldelf.so.hints', '/dev/kmem', 'unknown', 'unknown', '/dev/kmem', '/data/gather_stats_uma.txt', '/etc/services', '/dev/random', '/etc/services', '/dev/kmem', '/etc/spwd.db', '/var/run/ldelf.so.hints', '/etc/pwd.db', '/etc/pwd.db', '/usr/local/lib/libavahiclient.so.3.2.9', '/dev/random', '/lib/libelf.so.2', '/var/run/ldelf.so.hints', '/etc/resolv.conf', '/usr/share/zoneinfo/posixrules', '/dev/kmem', '/dev/kmem', '/var/run/ldelf.so.hints', '/usr/local/bin/printtarg', 'unknown', '/lib/libkvm.so.7', '/dev/kmem', '/etc/libmap.conf', '/var/run/ldelf.so.hints', '/usr/local/etc/postfix/virtual.db', '/dev/random', '/dev/kmem', '/dev/kmem', '/etc/nsswitch.conf', '/var/mail/user', '/dev/kmem', '/dev/random', 'unknown', '/dev/kmem', '/etc/pwd.db', '/dev/kmem', '/dev/kmem', '/dev/random', '/etc/services', '/dev/kmem', '/etc/hosts', '/etc/login.conf', '/dev/kmem', '/etc/services', '/dev/kmem', '/dev/kmem', '/etc/hosts', '/dev/kmem', '/etc/libmap.conf', '/dev/kmem', '/etc/libmap.conf', '/etc/pwd.db', '/dev/kmem', '/dev/tty', 'active/309df29d05', '/etc/pwd.db', '/dev/kmem', '/dev/random', '/dev/kmem', '/etc/services', '/usr/local/include/imagemagick6/magick/list.h', '/etc/pwd.db', '/var/run/ldelf.so.hints', 'unknown', '/dev/tty', '/lib/libc.so.7', '/data/update/buildmeta/freebsd/lib/libc/amd64/stri', '/etc/services', '/etc/pwd.db', '/var/run/ldelf.so.hints', '/dev/kmem', '/dev/random', '/dev/kmem', '/dev/kmem', '/etc/nsswitch.conf', '/dev/kmem', '/etc/rc.conf', 'unknown', '/dev/kmem', '/usr/local/share/ghostscript/fonts/b018012l.afm', '/dev/random', '/dev/kmem', '/dev/kmem', '/usr/local/bin/bash', '/usr/local/etc/postfix/main.cf', '/var/run/ldelf.so.hints', '/etc/pwd.db', 'unknown', '/usr/local/libexec/postfix/proxymap', 'unknown', '/etc/libmap.conf', '/dev/random', '/dev/kmem', '/etc/libmap.conf', '/dev/tty', '/dev/kmem', '/etc/services', '/dev/tty', '/dev/hpet0', '/lib/libc.so.7', '/bin/sh', '/etc/login.conf', '/usr/local/lib/python2.7/sitepackages/boto/fps/exc', '/usr/share/zoneinfo/posixrules', '/dev/kmem', '/data/update/data/update/buildmeta/freebsd/amd64.a', 'unknown', 'unknown', '/dev/kmem', 'unknown', '/dev/kmem', '/dev/kmem', 'unknown', '/var/run/ldelf.so.hints', '/dev/kmem', '/dev/random', '/etc/pwd.db', '/etc/pwd.db', '/etc/spwd.db', '/dev/kmem', '/dev/random', '/dev/random', '/usr/local/share/doc/db5/upgrading/upgrade_2_0_sys', '/dev/kmem', '/usr/local/sbin/lsof', '/dev/kmem', 'unknown', 'unknown', 'unknown', '/etc/pwd.db', '/usr/local/lib/python2.7/sitepackages/botocore/dat', '/etc/group', '/etc/spwd.db', '/home/user/.bash_history', '/usr/ports/devel/apr1/work/stage/usr/local/share/n', '/dev/kmem', '/dev/tty', '/dev/kmem', '/etc/libmap.conf', '/dev/kmem', '/usr/local/lib/libpcre.a', '/usr/lib/pam_permit.so.6', '/dev/random', '/usr/ports/lang/php56/work/stage/usr/local/man/cat', '/dev/tty', '/dev/kmem', 'unknown', '/etc/libmap.conf', '/etc/libmap.conf', '/etc/services', '/usr/home/darpa/kernel_zones.txt', 'none', '/dev/tty', 'unknown', '/etc/hosts', '/dev/kmem', 'unknown', '/dev/random', '/etc/pwd.db', 'unknown', '/dev/tty', '/etc/services', '/bin/sleep', '/usr/local/share/doc/imagemagick6/www/api/animate.', '/etc/pwd.db', '/dev/kmem', '/dev/kmem', '/usr/local/etc/cclient.cf', '/dev/random', '/etc/libmap.conf', '/etc/group', '/etc/spwd.db', '/dev/kmem', 'active/9dff429cd1', '/dev/kmem', '/etc/pwd.db', '/dev/kmem', '/var/run/ldelf.so.hints', '/usr/local/share/doc/db5/programmer_reference/rep_', '/dev/kmem', '/etc/libmap.conf', '/dev/kmem', '/etc/hosts', 'unknown', '/etc/libmap.conf', '/lib/libthr.so.3', '/etc/libmap.conf', '/usr/local/lib/python2.7/sitepackages/babel/locale', '/dev/random', '/etc/hosts', '/usr/local/libexec/postfix/trivialrewrite', '/etc/libmap.conf', 'unknown', '/dev/kmem', '/etc/services', 'unknown', '/data/update/buildmeta/freebsd/contrib/llvm/patche', '/dev/kmem', '/usr/share/misc/termcap.db', '/dev/random', '/dev/kmem', '/etc/libmap.conf', '/usr/share/zoneinfo/utc', '/dev/kmem', '/etc/pwd.db', '/var/run/ldelf.so.hints', '/var/run/ldelf.so.hints', '/etc/spwd.db', '/dev/kmem', '/etc/pwd.db', '/usr/lib/libmemstat.so.3', '/dev/kmem', '/dev/random', 'unknown', '/usr/share/zoneinfo/utc', '/etc/spwd.db', 'unknown', '/home/user/mail/sentmail', '/etc/services', '/dev/kmem', '/data/update/buildmeta/freebsd/contrib/gcclibs/lib', '/etc/aliases.db', '/usr/local/lib/ruby/2.4/amd64freebsd12/enc/trans/g', '/var/mail/bob', '/dev/tty', '/dev/tty', '/etc/libmap.conf', '/lib/libdevstat.so.7', '/dev/kmem', 'unknown', '/dev/kmem', '/lib/libc.so.7', 'unknown', 'unknown', '/etc/services', '/usr/bin/vmstat', '/dev/kmem', '/usr/local/share/doc/db5/porting/bdbportingguide.p', 'unknown', 'unknown', '/var/run/ldelf.so.hints', '/dev/kmem', 'top_procs.txt', '/var/run/ldelf.so.hints', 'unknown', '/usr/local/libexec/postfix/dynamicmaps.cf', 'unknown', '/dev/kmem', '/dev/tty', '/etc/services', '/dev/kmem', '/etc/libmap.conf', '/dev/hpet0', '/usr/home/darpa/top_procs.txt', '/dev/random', '/etc/libmap.conf', '/etc/pwd.db', '/dev/kmem', '/dev/kmem', '/etc/hosts', '/dev/kmem', '/dev/kmem', '/etc/pwd.db', '/etc/pwd.db', '/etc/login.conf', '/var/run/ldelf.so.hints', '/etc/pwd.db', '/home/darpa/.lsof_ta1cadets', 'unknown', '/usr/local/lib/postfix/libpostfixmaster.so', '/dev/random', 'unknown', '/etc/spwd.db', '/dev/random', '/dev/random', '/dev/kmem', '/dev/kmem', '/dev/kmem', 'unknown', 'unknown', '/dev/random', '/dev/kmem', '/dev/kmem', '/data/update/data/update/buildmeta/freebsd/amd64.a', '/dev/random', '/dev/kmem', '/usr/bin/head', '/etc/pwd.db', '/usr/home/darpa/top_procs.txt', '/usr/obj/data/update/buildmeta/freebsd/amd64.amd64', '/dev/kmem', '/dev/tty', '/dev/random', '/dev/kmem', '/var/run/ldelf.so.hints', '/etc/hosts', '/dev/kmem', '/var/run/ldelf.so.hints', '/dev/kmem', '/etc/nsswitch.conf', '/dev/kmem', '/usr/ports/security/pypymacaroonspynacl/files', '/etc/pwd.db', '/dev/kmem', '/usr/local/bin/collink', '/dev/kmem', '/dev/kmem', '/lib/libdevstat.so.7', '/var/run/ldelf.so.hints', '/etc/nsswitch.conf', '/etc/pwd.db', '/lib/libc.so.7', '/dev/kmem', '/etc/libmap.conf', '/usr/ports/devel/boehmgc/work/stage/usr/local/shar', '/home/bob/sent', '/bin/sleep', '/lib/libc.so.7', '/etc/hosts', '/usr/ports/textproc/docbookxsl/work/stage/usr/loca', '/etc/hosts', '/etc/spwd.db', '/dev/urandom', '/etc/services', '/etc/pwd.db', '/etc/services', '/dev/random', '/lib/libc.so.7', '/dev/kmem', '/dev/hpet0', '/dev/kmem', '/dev/kmem', '/dev/kmem', '/dev/kmem', '/usr/local/share/doc/docbookxsl/pi/dbchoice_choice', 'unknown', '/lib/libxo.so.0', '/etc/pwd.db', '/lib/libxo.so.0', '/etc/spwd.db', '/dev/kmem', 'unknown', '/dev/kmem', '/data/update/buildmeta/freebsd/lib/libpam/..', '/etc/pwd.db', 'unknown', '/etc/pwd.db', '/usr/share/zoneinfo/posixrules', '/dev/random', '/dev/kmem', '/usr/share/games/fortune/freebsdtips', '/etc/spwd.db', '/etc/pam.d/other', '/lib/libkvm.so.7', 'unknown', '/usr/local/libexec/postfix/dynamicmaps.cf.d/pcre.c', '/etc/services', '/dev/random', '/var/mail/bob', '/usr/local/share/doc/db5/api_reference/stl/stldbst', '/home/george/sent', '/lib/libncursesw.so.8', '/lib/libxo.so.0', '/data/ufs/usr/obj/data/update/buildmeta/freebsd/am', '/dev/random', '/dev/tty', '/dev/kmem', '/etc/services', '/etc/hosts']\n",
      "['/etc/pwd.db', '/var/run/ldelf.so.hints', 'unknown', '/etc/services', '/etc/pwd.db', '/dev/kmem', '/dev/kmem', '/etc/pwd.db', 'unknown', '/dev/kmem', '/dev/kmem', '/etc/login.conf', '/data/ufs/usr/local/share/ri/2.4/system/gem/packag', '/etc/login.conf', 'unknown', '/dev/kmem', '/dev/kmem', '/dev/kmem', '/dev/kmem', '/etc/pwd.db', '/usr/bin/head', '/home/bob/sent', '/dev/kmem', '/etc/spwd.db', '/etc/services', 'unknown', '/etc/services', '/usr/local/bin/invprofcheck', 'unknown', '/bin/mv', '/dev/kmem', '/dev/kmem', '/usr/local/share/doc/py36pip/_static/fonts/inconso', '/dev/tty', '/dev/kmem', '/dev/kmem', '/dev/kmem', '/dev/kmem', '/dev/kmem', '/etc/pwd.db', '/var/mail/user', '/usr/share/zoneinfo/utc', '/dev/kmem', '/dev/kmem', '/dev/random', '/dev/kmem', '/dev/kmem', '/dev/kmem', '/bin/sh', '/dev/kmem', '/etc/pwd.db', '/etc/resolv.conf', '/etc/pwd.db', '/dev/hpet0', '/dev/hpet0', '/dev/hpet0', '/usr/local/libexec/postfix/dynamicmaps.cf', '/dev/random', '/lib/libc.so.7', '/dev/tty', '/bin/sleep', '/dev/kmem', 'unknown', '/lib/libelf.so.2', '/var/run/ldelf.so.hints', '/dev/tty', '/dev/kmem', '/usr/local/sbin/lsof', '/etc/services', 'unknown', '/dev/null', '/etc/hosts.allow', '/dev/kmem', 'unknown', '/dev/hpet0', '/etc/spwd.db', '/dev/kmem', '/dev/kmem', '/dev/kmem', '/var/run/ldelf.so.hints', '/var/mail/bob', '/etc/spwd.db', '/etc/nsswitch.conf', '/dev/kmem', 'unknown', '/var/run/ldelf.so.hints', '/usr/local/etc/cclient.cf', '/dev/kmem', '/dev/tty', '/usr/local/lib/postfix/libpostfixmaster.so', '/etc/hosts.allow', '/dev/kmem', '/dev/tty', '/etc/spwd.db', '/etc/services', '/lib/libc.so.7', '/etc/hosts', '/dev/kmem', '/dev/kmem', '/dev/kmem', '/var/at/jobs/.', '/etc/spwd.db', '/etc/pwd.db', '/dev/random', '/usr/obj/data/update/buildmeta/freebsd/amd64.amd64', '/dev/kmem', '/var/run/ldelf.so.hints', '/dev/kmem', '/home/user/mail/', '/dev/kmem', '/dev/kmem', '/dev/kmem', '/dev/random', '/dev/kmem', '/dev/kmem', '/etc/libmap.conf', '/etc/hosts', 'unknown', '/dev/kmem', '/dev/kmem', '/dev/random', '/etc/pwd.db', '/dev/kmem', 'unknown', '/dev/kmem', '/dev/random', '/dev/kmem', 'unknown', '/dev/kmem', '/usr/home/darpa/.m2/repository/org/apache/maven/ma', '/dev/kmem', '/dev/kmem', '/dev/kmem', '/usr/ports/sysutils/munincommon/..', '/dev/hpet0', 'top_procs.txt', '/dev/kmem', 'unknown', '/bin/sleep', '/usr/local/include/boost/qvm/gen/vec_operations3.h', '/etc/services', '/dev/kmem', '/dev/random', '/usr/share/zoneinfo/utc', '/dev/kmem', '/home/darpa/.lsof_ta1cadets', '/dev/kmem', '/dev/tty', '/dev/hpet0', '/etc/services', '/bin/sleep', '/etc/spwd.db', '/var/run/ldelf.so.hints', '/dev/kmem', '/dev/hpet0', '/usr/ports/games/quake2extras/..', 'unknown', '/usr/local/lib/perl5/5.24/unicore/lib/wb/..', '/dev/kmem', '/var/run/ldelf.so.hints', 'local.sqlite', 'unknown', '/etc/resolv.conf', '/dev/kmem', '/dev/kmem', '/usr/bin/top', '/lib/libelf.so.2', '/etc/libmap.conf', '/usr/share/zoneinfo/utc', '/etc/libmap.conf', '/tmp/tmp.871phh', '/var/mail/bob', '/etc/hosts', '/dev/kmem', '/etc/libmap.conf', '/dev/kmem', '/dev/random', '/usr/obj/data/update/buildmeta/freebsd/amd64.amd64', '/dev/kmem', '/etc/pwd.db', '/dev/kmem', '/etc/hosts', '/usr/local/x86_64portbldfreebsd12.0/lib/ldscripts/', 'unknown', '/usr/local/lib/libavrocpp_s.a', '/dev/hpet0', 'unknown', '/etc/libmap.conf', '/etc/spwd.db', '/home/darpa/.lsof_ta1cadets', '/dev/kmem', '/dev/tty', '/etc/spwd.db', '/data/update/buildmeta/freebsd/sys/x86/cpufreq/..', '/dev/random', '/home/darpa/.lsof_ta1cadets', '/lib/libc.so.7', '/etc/defaults/rc.conf', '/usr/local/etc/postfix/main.cf', '/etc/services', '/lib/libdevstat.so.7', '/dev/tty', 'unknown', '/dev/hpet0', '/usr/libexec/atrun', '/etc/hosts', 'unknown', '/usr/local/share/doc/db5/api_reference/stl/stldb_m', 'kernel_mem.txt', '/dev/kmem', '/usr/ports/textproc/iso8879/work/stage/usr/local/s', '/etc/services', '/dev/kmem', '/var/run/ldelf.so.hints', '/dev/kmem', '/dev/kmem', 'unknown', '/dev/random', '/etc/pwd.db', '/dev/kmem', '/etc/services', '/dev/kmem', '/dev/kmem', '/home/frank/.mailboxlist', '/dev/kmem', 'none', '/dev/null', '/dev/tty', '/dev/kmem', '/etc/pwd.db', '/dev/kmem', '/dev/kmem', '/usr/share/zoneinfo/utc', '/dev/kmem', '/dev/kmem', 'unknown', '/dev/kmem', '/dev/kmem', '/lib/libelf.so.2', 'unknown', '/etc/services', '/usr/bin/top', '/usr/bin/vmstat', '/usr/lib/libdl.so.1', '/etc/spwd.db', '/lib/libdevstat.so.7', '/usr/bin/head', '/etc/login.conf', 'unknown', '/dev/random', '/usr/share/zoneinfo/posixrules', '/var/run/ldelf.so.hints', '/usr/home/user/eraseme/www.ebay.ca/index.html', '/etc/libmap.conf', '/etc/spwd.db', '/etc/pwd.db', '/dev/tty', 'unknown', '/dev/kmem', 'unknown', '/dev/kmem', '/etc/login.conf', 'unknown', '/usr/ports/x11/keyboardcast/files/..', '/dev/random', '/etc/pam.d/imap', '/etc/hosts', '/dev/random', 'unknown', '/usr/obj/data/update/buildmeta/freebsd/amd64.amd64', '/etc/spwd.db', '/var/mail/charles', '/etc/pwd.db', '/dev/kmem', '/etc/hosts', '/dev/random', 'unknown', '/usr/local/lib/ruby/2.4/net/protocol.rb', '/etc/spwd.db', '/dev/kmem', '/usr/lib/libssl.so.8', '/dev/random', '/dev/kmem', '/dev/kmem', '/dev/tty', '/dev/random', '/dev/random', '/dev/kmem', '/bin/sleep', 'unknown', '/dev/tty', '/home/george/sent', '/var/mail/frank', '/dev/kmem', '/dev/kmem', '/var/mail/user', '/dev/kmem', '/dev/kmem', '/etc/pwd.db', '/etc/defaults/rc.conf', 'unknown', '/dev/kmem', '/dev/kmem', '/dev/kmem', '/dev/random', '/dev/random', '/data/ufs/root/.cache/pip/http/8/c', 'unknown', '/dev/kmem', '/dev/kmem', '/var/run/ldelf.so.hints', '/usr/local/etc/postfix/virtual.db', '/dev/kmem', '/usr/local/bin/corelist', '/etc/pwd.db', '/dev/tty', '/dev/kmem', '/usr/bin/top', 'unknown', '/dev/kmem', '/dev/null', '/var/run/ldelf.so.hints', '/etc/spwd.db', '/usr/local/libexec/postfix/dynamicmaps.cf', '/etc/login.conf', '/etc/spwd.db', '/dev/kmem', '/etc/spwd.db', '/etc/pwd.db', '/lib/libc.so.7', '/usr/ports/devel/hsuuagccabal', '/usr/ports/textproc/nohunspell', '/etc/hosts', '/etc/hosts', '/dev/kmem', '/etc/libmap.conf', '/bin/sh', 'unknown', 'incoming/797895.34451', '/data/update/buildmeta/llvm/tools/clang/test/modul', 'unknown', '/lib/libelf.so.2', 'unknown', '/usr/local/bin/ccxxmake', '/usr/local/lib/libicudata.so.60', '/lib/libc.so.7', '/dev/kmem', '/dev/kmem', '/dev/kmem', '/dev/random', '/etc/libmap.conf', '/dev/tty', '/usr/home/darpa/.m2/repository/org/codehaus/plexus', '/dev/kmem', '/dev/kmem', '/dev/kmem', '/etc/pwd.db', '/dev/bpf0', '/etc/pwd.db', '/dev/random', '/dev/kmem', '/dev/random', '/usr/local/include/boost/numeric/odeint/util/detai', '/dev/kmem', '/etc/services', '/dev/kmem', '/dev/kmem', 'unknown', 'unknown', '/etc/libmap.conf', '/usr/local/include/boost/chrono/detail/no_warning', '/usr/share/zoneinfo/posixrules', '/bin/sleep', '/etc/pwd.db', '/etc/pwd.db', '/var/db/entropy/.', '/etc/pwd.db', '/dev/kmem', '/lib/libelf.so.2', '/dev/kmem', '/etc/spwd.db', '/dev/kmem', 'unknown', '/dev/tty', '/dev/kmem', '/dev/kmem', '/dev/kmem', 'unknown', 'unknown', 'unknown', '/etc/pwd.db', '/var/mail/frank', '/dev/hpet0', '/dev/kmem', '/etc/pwd.db', 'unknown', '/dev/kmem', '/dev/kmem', 'unknown', '/dev/kmem', '/dev/kmem', '/dev/hpet0', '/var/run/ldelf.so.hints', 'unknown', '/etc/services', '/var/mail/irene', '/etc/spwd.db', '/etc/pwd.db', '/dev/kmem', '/dev/kmem', '/etc/group', '/usr/local/sbin/lsof', '/dev/kmem', 'www.hbo.com/apps/schedule/scheduleservletaction_da', '/dev/kmem', '/dev/kmem', '/dev/tty', '/home/bob/sent', '/etc/libmap.conf', '/etc/services', '/lib/libc.so.7', '/dev/kmem', '/dev/kmem', '/etc/libmap.conf', '/usr/local/lib/libicuuc.a', '/dev/kmem', '/dev/tty', '/dev/random', '/etc/pwd.db', '/etc/pwd.db', '/etc/services', '/etc/login.conf', 'kernel_mem.txt', '/etc/services', '/dev/kmem', '/dev/kmem', '/dev/kmem', '/var/run/ldelf.so.hints', '/lib/libxo.so.0', '/etc/hosts', '/etc/hosts', '/dev/kmem', '/dev/kmem', '/dev/random', '/dev/kmem', '/dev/kmem', '/dev/kmem', 'unknown', '/lib/libelf.so.2', '/usr/local/libexec/postfix/dynamicmaps.cf', '/dev/tty', '/etc/nsswitch.conf', '/dev/kmem', '/dev/kmem', '/dev/kmem', '/etc/nsswitch.conf', '/etc/libmap.conf', '/usr/libexec/saveentropy', '/var/run/ldelf.so.hints', '/bin/sleep', '/var/mail/charles', '/dev/kmem', '/dev/kmem', '/etc/services', '/data/update/data/update/buildmeta/freebsd/amd64.a', '/usr/ports/textproc/asciidoc/work/stage/usr/local/', '/etc/pwd.db', '/dev/kmem', '/usr/bin/vmstat', '/dev/random', '/usr/share/zoneinfo/posixrules', '/usr/local/share/cmake/help/prop_gbl/autogen_targe', '/dev/kmem', '/home/george/sent.lock', '/usr/local/libexec/postfix/dynamicmaps.cf.d', 'unknown', '/dev/tty', '/dev/kmem', '/var/run/ldelf.so.hints', '/etc/group', '/etc/spwd.db', '/usr/local/libexec/postfix/dynamicmaps.cf', 'unknown', '/etc/pwd.db', '/home/darpa/.lsof_ta1cadets', '/dev/kmem', '/usr/local/include/boost/pool/object_pool.hpp', '/etc/pwd.db', '/etc/pwd.db', '/dev/kmem', '/etc/pwd.db', '/etc/pwd.db', '/var/run/ldelf.so.hints', '/dev/kmem', '/home/george/sent.lock', '/dev/kmem', '/dev/kmem', '/etc/pwd.db', '/dev/kmem', '/dev/kmem', '/dev/kmem', '/etc/spwd.db', '/bin/sleep', '/dev/kmem', '/dev/kmem', '/dev/kmem', '/dev/hpet0', '/var/db/entropy/savedentropy.1', 'unknown', '/dev/kmem', '/dev/random', '/usr/src/crypto/openssl/crypto/des/asm/..']\n",
      "\n",
      "['/dev/kmem', '/dev/kmem', '/dev/kmem', '/etc/spwd.db', '/etc/spwd.db', '/dev/random', '/etc/spwd.db', '/data/ufs/usr/local/share/doc/cvsps', '/dev/kmem', '/var/run/ldelf.so.hints', '/dev/random', 'unknown', '/dev/kmem', '/usr/ports/devel/pearconfig/..', '/etc/services', '/etc/hosts', '/etc/spwd.db', '/var/run/ldelf.so.hints', '/dev/kmem', '/bin/sh', '/dev/kmem', '/dev/kmem', '/etc/services', '/dev/kmem', '/etc/pwd.db', '/dev/kmem', '/data/update/buildmeta/freebsd/tools/tools/kttcp/.', '/var/mail/frank', '/dev/kmem', '/etc/libmap.conf', '/etc/hosts', '/home/george/sent.lock.1522873130.39813.ta1cadets', '/dev/random', '/dev/kmem', '/dev/kmem', '/etc/pwd.db', '/usr/lib/libssl.so.8', '/dev/kmem', 'unknown', '/data/update/data/update/buildmeta/freebsd/amd64.a', '/dev/random', '/dev/kmem', '/etc/pwd.db', '/etc/nsswitch.conf', 'unknown', '/etc/pwd.db', '/dev/kmem', '/data/ufs/usr/home/ta1/..', '/etc/pwd.db', '/etc/hosts', '/etc/defaults/rc.conf', '/dev/kmem', '/bin/sleep', '/dev/random', '/etc/pwd.db', 'unknown', '/etc/services', '/etc/pwd.db', '/etc/pwd.db', '/bin/sleep', '/etc/pwd.db', '/lib/libc.so.7', '/dev/kmem', '/usr/local/lib/python3.6/test/dtracedata', 'unknown', '/dev/random', '/data/update/buildmeta/freebsd/sys/dev/hyperv/vmbu', '/etc/pwd.db', '/etc/services', '/etc/spwd.db', '/dev/kmem', '/etc/hosts', '/etc/resolv.conf', '/etc/services', '/dev/kmem', '/dev/kmem', '/usr/local/lib/libicudata.so.60', '/dev/random', '/var/mail/user', 'unknown', '/usr/share/zoneinfo/utc', '/dev/random', '/usr/home/darpa/top_procs.txt', '/etc/services', '/dev/kmem', 'unknown', '/dev/kmem', '/dev/random', '/var/spool/postfix/maildrop', '/dev/kmem', '/etc/services', '/dev/kmem', '/dev/kmem', '/etc/services', 'unknown', '/etc/pwd.db', '/dev/kmem', '/etc/services', '/data/update/buildmeta/freebsd/lib/libthr/arch/amd', '/etc/services', '/var/mail/bob', 'unknown', '/dev/random', 'unknown', '/var/run/ldelf.so.hints', '/etc/nsswitch.conf', '/etc/login.conf', '/dev/kmem', '/dev/kmem', '/var/run/ldelf.so.hints', '/home/user/.bash_history', '/dev/kmem', '/dev/kmem', '/etc/defaults/rc.conf', '/dev/kmem', '/dev/kmem', '/etc/pwd.db', '/dev/kmem', '/usr/bin/top', '/usr/share/zoneinfo/posixrules', '/var/db/entropy/savedentropy.1', '/dev/random', '/dev/kmem', '/etc/pwd.db', '/dev/kmem', '/home/bob/sent', '/usr/local/lib/python2.7/lib2to3/tests/data/fixers', '/data/update/data/update/buildmeta/freebsd/amd64.a', '/lib/libm.so.5', '/dev/kmem', '/usr/share/misc/termcap.db', '/dev/kmem', '/dev/tty', '/var/run/ldelf.so.hints', '/etc/pwd.db', '/dev/kmem', '/dev/kmem', '/etc/spwd.db', '/etc/login.conf', 'unknown', '/etc/hosts', '/usr/ports/converters/nomyso/..', '/dev/kmem', '/usr/local/include/boost/spirit/home/support/detai', '/var/run/ldelf.so.hints', '/var/run/ldelf.so.hints', '/dev/kmem', '/etc/services', '/dev/kmem', '/dev/kmem', '/data/update/data/update/buildmeta/freebsd/amd64.a', '/dev/kmem', '/etc/login.conf', '/etc/services', '/etc/hosts', '/etc/pwd.db', '/var/run/ldelf.so.hints', '/home/user/mail/sentmail', '/etc/spwd.db', '/usr/local/lib/charset.alias', '/dev/kmem', '/dev/kmem', '/dev/kmem', '/etc/libmap.conf', '/usr/ports/security/courierpasswd', '/etc/hosts', '/dev/kmem', '/lib/libc.so.7', '/etc/spwd.db', '/var/run/ldelf.so.hints', '/etc/libmap.conf', '/etc/login.conf', '/usr/ports/x11/xorgcffiles', 'unknown', '/usr/home/user/eraseme/www.hbo.com/robots.txt', '/lib/libc.so.7', '/lib/libjail.so.1', '/dev/random', '/dev/kmem', '/dev/tty', '/dev/kmem', '/usr/home/darpa/.m2/repository/org/apache/maven/ma', '/dev/kmem', '/etc/spwd.db', '/dev/kmem', '/dev/random', '/dev/random', 'unknown', 'unknown', '/data/update/buildmeta/freebsd/lib/libc/db/db', '/etc/hosts', '/dev/random', '/var/run/ldelf.so.hints', '/dev/kmem', '/lib/libc.so.7', '/etc/login.conf', '/dev/random', '/etc/newsyslog.conf.d/ppp.conf', 'unknown', '/dev/kmem', '/etc/services', '/dev/kmem', '/dev/kmem', '/etc/services', '/usr/local/share/ri/2.4/system/rss/maker/atom/feed', '/usr/ports/www/serf/work/stage/usr/local/share/loc', '/var/at/jobs/.', 'unknown', 'unknown', '/data/gather_stats_uma.txt', '/dev/kmem', 'unknown', 'unknown', '/usr/ports/science/rcrankernlab', '/etc/pwd.db', '/dev/kmem', '/dev/random', '/dev/kmem', '/bin/date', '/dev/kmem', '/dev/kmem', '/dev/hpet0', 'unknown', 'unknown', '/dev/kmem', '/dev/kmem', '/etc/libmap.conf', '/dev/kmem', '/lib/libc.so.7', '/etc/services', '/dev/kmem', '/etc/services', '/var/mail/admin', '/dev/null', '/dev/kmem', '/data/ufs/usr/local/share/libtool/loaders', 'unknown', '/dev/tty', '/dev/kmem', '/etc/pwd.db', '/dev/kmem', '/etc/hosts', '/etc/spwd.db', '/dev/kmem', '/dev/random', '/etc/spwd.db', 'unknown', '/home/darpa/.lsof_ta1cadets', '/etc/nsswitch.conf', '/usr/share/locale/tr_tr.iso88599', '/data/update/buildmeta/freebsd/contrib/gcclibs/lib', '/etc/spwd.db', '/usr/local/share/ri/2.4/system/rss/maker/channelba', '/dev/kmem', 'unknown', '/etc/spwd.db', '/dev/random', '/etc/pam.d/other', '/usr/share/misc/termcap.db', '/dev/kmem', '/dev/kmem', '/dev/kmem', '/etc/services', '/etc/libmap.conf', '/dev/kmem', '/dev/hpet0', '/dev/kmem', '/etc/hosts', '/dev/kmem', '/etc/nsswitch.conf', '/etc/pwd.db', '/dev/random', '/dev/tty', '/dev/kmem', '/data/update/data/update/buildmeta/freebsd/amd64.a', '/dev/kmem', '/dev/kmem', '/etc/login.conf', '/usr/bin/vmstat', '/dev/kmem', '/dev/kmem', '/dev/random', '/usr/ports/mail/dracmail/files/..', '/usr/ports/x11fonts/fontmanager/..', '/var/mail/bob', '/dev/kmem', '/var/mail/bob.lock.1523645080.41689.ta1cadets', '/data/ufs/usr/home/darpa/ta1integrationcadets/.git', '/etc/libmap.conf', '/lib/libc.so.7', '/usr/obj/data/update/buildmeta/freebsd/amd64.amd64', '/dev/kmem', '/etc/pwd.db', '/etc/pwd.db', '/dev/kmem', '/etc/group', '/usr/bin/head', '/etc/hosts', '/data/update/buildmeta/freebsd/contrib/llvm/lib/ta', '/dev/random', '/etc/services', '/usr/ports/devel/git/work/stage/usr/local/share/lo', '/dev/kmem', '/etc/nsswitch.conf', '/dev/kmem', '/var/mail/bob', '/dev/kmem', '/var/run/ldelf.so.hints', 'unknown', '/etc/pwd.db', '/dev/kmem', '/dev/kmem', '/etc/pwd.db', 'unknown', '/var/run/ldelf.so.hints', '/dev/null', '/etc/pwd.db', '/etc/pwd.db', '/home/bob/sent', '/data/update/buildmeta/llvm/build/release/examples', '/var/run/ldelf.so.hints', '/dev/kmem', '/etc/spwd.db', '/usr/lib/i18n', '/etc/pwd.db', '/home/frank/sent', '/usr/local/etc/postfix/main.cf', '/etc/spwd.db', '/etc/services', '/dev/kmem', '/dev/kmem', '/etc/pwd.db', 'none', '/lib/libc.so.7', '/etc/pwd.db', '/dev/kmem', '/dev/kmem', '/dev/kmem', 'unknown', '/bin/sleep', '/etc/pwd.db', '/dev/kmem', '/etc/libmap.conf', '/etc/hosts', '/dev/kmem', '/etc/pwd.db', '/etc/aliases.db', '/etc/spwd.db', '/dev/kmem', '/etc/spwd.db', '/dev/random', '/dev/random', '/data/update/buildmeta/freebsd/contrib/libstdc/lib', '/data/ufs/usr/obj/data/update/buildmeta/freebsd/am', '/usr/lib/libmemstat.so.3', '/usr/ports/x11/xcbutil/..', '/lib/libkvm.so.7', '/bin/sleep', '/etc/resolv.conf', '/dev/kmem', '/etc/pwd.db', 'unknown', '/dev/kmem', '/dev/kmem', '/dev/random', '/usr/share/zoneinfo/utc', '/dev/random', '/dev/kmem', '/dev/kmem', '/root/.cache/pip/http/e/7/9/4/..', '/var/run/ldelf.so.hints', '/dev/hpet0', '/etc/pwd.db', '/dev/kmem', '/etc/pwd.db', '/etc/spwd.db', '/dev/kmem', '/etc/spwd.db', '/lib/libc.so.7', '/dev/kmem', 'unknown', '/dev/kmem', '/lib/libc.so.7', '/usr/ports/www/nextcloudcalendar', '/var/run/ldelf.so.hints', '/etc/pwd.db', '/dev/kmem', '/dev/random', '/dev/kmem', '/usr/lib/pam_permit.so.6', '/dev/kmem', '/dev/kmem', '/usr/lib/libmemstat.so.3', '/dev/kmem', '/etc/pwd.db', '/etc/services', '/dev/kmem', '/dev/kmem', 'unknown', 'unknown', '/usr/ports/devel/apr1/work/stage/usr/local/share/n', 'unknown', '/dev/kmem', '/dev/kmem', '/bin/mv', 'kernel_mem.txt', '/usr/bin/top', '/usr/bin/top', '/dev/kmem', '/etc/pwd.db', '/etc/services', '/dev/kmem', '/dev/kmem', '/dev/kmem', '/etc/services', '/lib/libc.so.7', '/dev/kmem', '/usr/lib/pam_permit.so.6', '/etc/pwd.db', '/etc/services', 'unknown', '/dev/kmem', '/dev/kmem', '/var/run/ldelf.so.hints', '/dev/kmem', '/usr/home/darpa/.m2/repository/org/apache/maven/re', '/dev/kmem', '/dev/random', '/etc/pwd.db', '/etc/pwd.db', '/lib/libc.so.7', '/dev/kmem', '/home/george/sent', '/usr/ports/devel/git/work/stage/usr/local/share/nl', '/dev/tty', '/dev/kmem', '/var/mail/george', '/etc/libmap.conf', '/var/run/ldelf.so.hints', '/dev/kmem', 'unknown', '/etc/defaults/rc.conf', '/etc/hosts', '/bin/date', '/dev/kmem', '/etc/libmap.conf', '/dev/kmem', '/etc/hosts', '/lib/libxo.so.0', '/lib/libxo.so.0', '/lib/libelf.so.2', '/etc/pwd.db', '/dev/kmem', 'unknown', '/dev/random', '/dev/kmem', 'nohup.out', '/etc/hosts', '/var/run/ldelf.so.hints', '/dev/kmem', '/etc/libmap.conf', '/etc/services', '/usr/share/zoneinfo/utc', '/lib/libc.so.7', '/data/update/data/update/buildmeta/freebsd/amd64.a', '/dev/random', '/dev/tty', '/dev/random', '/usr/share/zoneinfo/posixrules', '/dev/kmem', '/usr/local/lib/python3.6/sitepackages/pip/_vendor/', '/etc/libmap.conf', '/etc/pwd.db', '/etc/pwd.db', '/lib/libkvm.so.7', '/etc/pwd.db', '/data/update/data/update/buildmeta/freebsd/amd64.a', '/etc/nsswitch.conf', '/dev/kmem', '/etc/login.conf', '/dev/random', '/etc/pwd.db', '/usr/share/misc/termcap.db', 'none', '/dev/kmem', '/etc/pwd.db', '/dev/kmem', '/etc/pwd.db', '/data/ufs/usr/local/include/boost/icl/concept', '/etc/resolv.conf', '/var/run/ldelf.so.hints', '/var/mail/henry', '/dev/kmem', '/etc/login.conf', '/etc/services', '/dev/tty', '/dev/kmem', '/dev/kmem', '/usr/share/zoneinfo/posixrules', '/dev/kmem', 'unknown', '/dev/kmem', '/dev/kmem', '/dev/kmem', '/dev/kmem', '/dev/kmem', '/dev/hpet0', '/dev/kmem', '/usr/local/lib/libicui18n.so.60', '/var/run/ldelf.so.hints', '/etc/hosts', '/etc/pwd.db']\n",
      "['/home/user/.bash_history', '/dev/hpet0', '/dev/kmem', '/dev/hpet0', '/home/darpa/.lsof_ta1cadets', '/dev/kmem', '/dev/kmem', '/etc/pwd.db', '/etc/hosts', '/dev/kmem', '/dev/kmem', '/dev/random', 'unknown', '/lib/libjail.so.1', '/etc/nsswitch.conf', '/usr/libexec/saveentropy', '/dev/kmem', 'unknown', 'unknown', '/dev/hpet0', '/etc/spwd.db', '/etc/pwd.db', '/var/run/ldelf.so.hints', '/usr/local/lib/python2.7/sitepackages/botocore/dat', '/dev/kmem', '/etc/services', '/dev/kmem', '/dev/kmem', '/dev/kmem', '/usr/local/libexec/imapd', '/dev/kmem', '/usr/share/zoneinfo/utc', '/etc/nsswitch.conf', '/dev/kmem', '/etc/services', '/dev/kmem', '/home/bob/sent', '/etc/pwd.db', '/etc/pwd.db', '/dev/kmem', '/dev/random', '/etc/services', '/usr/bin/top', '/dev/kmem', '/dev/kmem', '/lib/libkvm.so.7', '/etc/services', '/dev/kmem', '/etc/services', '/dev/random', '/etc/pwd.db', '/var/mail/bob', '/var/run/ldelf.so.hints', '/etc/services', '/etc/pwd.db', '/etc/pwd.db', '/usr/local/etc/postfix/main.cf', '/dev/hpet0', '/etc/pwd.db', '/lib/libcrypto.so.8', '/etc/pwd.db', '/usr/ports/science/fvcom/..', '/dev/random', '/var/run/ldelf.so.hints', '/etc/pwd.db', '/etc/pwd.db', '/dev/random', '/dev/random', '/dev/kmem', '/dev/tty', '/usr/lib/libc.so.1', '/dev/random', '/dev/random', '/dev/kmem', '/dev/kmem', 'unknown', '/etc/libmap.conf', 'unknown', '/dev/kmem', 'unknown', '/dev/kmem', '/bin/sleep', '/usr/local/include/boost/geometry/algorithms/detai', '/etc/nsswitch.conf', '/etc/group', '/usr/ports/print/texinfo/work/texinfo6.5/tp/tests/', '/bin/sleep', '/usr/ports/devel/cityhash/files/..', '/usr/share/zoneinfo/posixrules', '/dev/kmem', 'local.sqlite', '/dev/tty', '/dev/kmem', '/dev/kmem', 'unknown', '/dev/random', '/dev/kmem', '/etc/libmap.conf', '/usr/local/share/ri/2.4/system/gem/commands/cleanu', '/etc/services', '/dev/kmem', '/usr/lib/libdl.so.1', '/dev/kmem', '/dev/kmem', '/data/ufs/usr/obj/data/update/buildmeta/freebsd/am', '/dev/kmem', '/dev/random', '/dev/random', '/etc/pwd.db', '/etc/pwd.db', '/etc/services', '/usr/ports/sysutils/envconsul/..', '/dev/kmem', '/dev/tty', '/etc/pwd.db', '/etc/pwd.db', '/home/user/.bash_history', '/dev/kmem', '/dev/random', '/dev/kmem', '/etc/hosts', '/usr/libexec/saveentropy', '/etc/login.conf', '/dev/kmem', '/var/mail/frank', '/etc/services', '/dev/random', '/etc/pwd.db', '/etc/spwd.db', '/usr/share/zoneinfo/utc', '/usr/ports/devel/hive/files/..', '/dev/kmem', '/bin/sleep', '/etc/libmap.conf', '/usr/bin/head', '/dev/kmem', '/usr/src/usr.bin/bmake/tests/variables', '/usr/ports/lang/rustnightly', '/data/update/data/update/buildmeta/freebsd/amd64.a', '/var/run/ldelf.so.hints', '/dev/kmem', '/dev/devctl', '/etc/services', '/dev/random', '/dev/kmem', '/dev/kmem', '/dev/hpet0', '/dev/kmem', '/usr/share/zoneinfo/posixrules', '/home/george/.mailboxlist', '/dev/kmem', '/dev/kmem', '/dev/random', '/usr/ports/sysutils/less/..', '/dev/kmem', '/etc/hosts', '/usr/local/lib/libicudata.so.60', '/etc/pwd.db', '/var/mail/frank', '/etc/pwd.db', '/usr/lib/pam_login_access.so.6', '/var/run/ldelf.so.hints', '/etc/nsswitch.conf', '/dev/kmem', '/dev/kmem', '/dev/kmem', '/etc/spwd.db', 'unknown', '/etc/pwd.db', '/etc/pwd.db', '/etc/spwd.db', '/dev/random', '/data/update/data/update/buildmeta/freebsd/amd64.a', '/dev/random', '/home/user/.bash_history', '/var/run/ldelf.so.hints', '/var/run/ldelf.so.hints', '/etc/pwd.db', '/dev/random', '/etc/aliases.db', '/dev/kmem', '/dev/tty', '/dev/random', '/dev/kmem', '/etc/services', '/dev/tty', '/etc/pwd.db', '/usr/obj/data/update/buildmeta/freebsd/amd64.amd64', '/dev/random', '/etc/nsswitch.conf', '/etc/libmap.conf', '/etc/pwd.db', '/data/gather_stats_uma.txt', 'unknown', '/etc/services', '/dev/kmem', '/etc/hosts', '/etc/libmap.conf', '/etc/hosts', '/etc/spwd.db', '/usr/local/etc/postfix/main.cf', '/data/update/buildmeta/freebsd/crypto/openssl/util', '/etc/libmap.conf', '/dev/kmem', '/dev/kmem', '/dev/kmem', '/dev/kmem', '/dev/hpet0', '/home/user/.bash_history', '/dev/kmem', '/dev/random', '/usr/src/usr.sbin/bluetooth/hcsecd', '/data/update/buildmeta/freebsd/tools/regression/ge', '/usr/share/zoneinfo/utc', 'unknown', '/etc/services', 'unknown', '/etc/hosts', '/dev/kmem', '/dev/kmem', '/etc/spwd.db', '/etc/spwd.db', '/dev/kmem', '/dev/hpet0', '/dev/kmem', '/dev/kmem', '/dev/random', 'unknown', '/etc/hosts', '/dev/kmem', '/etc/nsswitch.conf', '/usr/libexec/saveentropy', '/dev/random', '/dev/tty', '/dev/kmem', '/dev/kmem', '/dev/kmem', '/dev/kmem', '/dev/kmem', '/bin/date', '/dev/kmem', '/etc/pwd.db', '/dev/kmem', 'unknown', '/dev/kmem', '/usr/local/etc/postfix/main.cf', '/var/run/ldelf.so.hints', '/etc/pwd.db', '/usr/lib/libmemstat.so.3', '/dev/tty', '/etc/services', '/etc/security/audit_class', '/etc/nsswitch.conf', '/dev/kmem', '/etc/hosts', '/dev/kmem', '/usr/share/zoneinfo/posixrules', '/etc/pwd.db', '/etc/services', '/usr/ports/security/seccure', '/etc/resolv.conf', '/etc/pwd.db', '/usr/local/sbin/lsof', '/dev/kmem', '/dev/random', '/usr/ports/games/ttysolitaire/files/..', '/home/darpa/.lsof_ta1cadets', 'kernel_mem.txt', '/dev/kmem', '/dev/kmem', '/var/run/ldelf.so.hints', '/var/run/ldelf.so.hints', '/dev/kmem', '/dev/kmem', 'unknown', '/dev/kmem', '/dev/tty', '/etc/pwd.db', '/dev/hpet0', '/usr/local/lib/postfix/libpostfixglobal.so', '/usr/local/sbin/lsof', '/lib/libc.so.7', '/etc/pwd.db', '/etc/spwd.db', '/lib/libkvm.so.7', '/dev/null', '/dev/kmem', '/dev/kmem', '/lib/libxo.so.0', '/etc/libmap.conf', '/etc/services', '/home/george/.mailboxlist', '/dev/random', '/dev/kmem', '/usr/local/libexec/postfix/dynamicmaps.cf', '/usr/share/zoneinfo/posixrules', '/dev/kmem', '/etc/spwd.db', '/var/spool/postfix/incoming/905185.3202', '/dev/kmem', '/dev/kmem', '/etc/pwd.db', '/dev/kmem', '/dev/random', '/dev/kmem', '/etc/group', '/usr/share/games/fortune/freebsdtips.dat', 'unknown', '/dev/kmem', 'none', '/dev/random', '/dev/kmem', '/dev/kmem', '/dev/kmem', '/var/run/ldelf.so.hints', '/dev/kmem', '/etc/pwd.db', '/home/george/sent', 'unknown', '/dev/kmem', '/usr/ports/www/p5htmlfillinform', '/usr/home/darpa/ta3serializationschema/target/test', '/usr/local/libexec/postfix/dynamicmaps.cf', '/etc/pwd.db', 'unknown', '/dev/kmem', '/etc/pwd.db', '/var/run/ldelf.so.hints', '/usr/local/share/ri/2.4/system/cgi/html4tr/..', '/data/gather_stats_uma.txt', '/dev/kmem', '/dev/random', '/dev/hpet0', '/usr/share/zoneinfo/posixrules', '/dev/kmem', '/dev/random', '/dev/random', '/dev/kmem', '/etc/hosts', '/etc/login.conf', '/usr/share/zoneinfo/utc', '/home/george/sent', '/dev/random', '/dev/kmem', '/etc/pwd.db', '/usr/bin/vmstat', '/home/charles/.mailboxlist', '/etc/libmap.conf', '/dev/kmem', '/dev/kmem', '/etc/spwd.db', '/etc/spwd.db', '/lib/libkvm.so.7', '/usr/bin/vmstat', '/lib/libxo.so.0', '/data/ufs/usr/local/share/icons/hicolor/256x256/st', '/dev/kmem', '/etc/services', '/usr/home/darpa/.m2/repository/org/codehaus/mojo/m', '/dev/kmem', '/dev/kmem', '/dev/kmem', '/etc/libmap.conf', '/home/darpa/.lsof_ta1cadets', '/etc/nsswitch.conf', '/usr/bin/head', '/etc/pwd.db', '/dev/kmem', '/usr/local/share/ri/2.4/system/rdoc/extend/..', '/dev/kmem', '/var/run/ldelf.so.hints', '/usr/ports/x11/sessreg/..', 'unknown', '/usr/ports/devel/openwinceinclude', '/usr/share/zoneinfo/posixrules', '/usr/local/etc/postfix/virtual.db', '/dev/kmem', '/dev/kmem', '/usr/local/lib/python2.7/sitepackages/boto/cloudhs', '/dev/kmem', '/etc/pwd.db', '/dev/kmem', '/usr/local/etc/postfix/main.cf', '/data/ufs/usr/local/share/gitcore/contrib/mwtogit/', '/home/charles/.mailboxlist', 'unknown', '/dev/tty', '/etc/spwd.db', '/etc/pwd.db', '/etc/pwd.db', '/data/update/data/update/buildmeta/freebsd/amd64.a', '/usr/ports/devel/apr1/work/stage/usr/local/share/l', '/usr/lib/libmemstat.so.3', '/usr/lib/libmemstat.so.3', '/etc/login.conf', '/dev/tty', '/dev/kmem', '/lib/libc.so.7', '/usr/local/lib/libicui18n.so.60', '/bin/sh', '/etc/pwd.db', '/dev/kmem', '/dev/kmem', '/dev/kmem', '/etc/libmap.conf', '/dev/random', '/etc/libmap.conf', '/dev/kmem', '/etc/pwd.db', '/dev/kmem', '/etc/defaults/rc.conf', 'unknown', '/etc/login.conf', '/dev/kmem', '/usr/src/usr.bin/patch', '/dev/kmem', '/etc/nsswitch.conf', '/dev/kmem', '/dev/kmem', '/dev/hpet0', '/dev/kmem', 'none', '/dev/kmem', '/var/mail/bob.lock.1523050210.5413.ta1cadets', '/data/update/data/update/buildmeta/freebsd/amd64.a', '/dev/kmem', '/dev/kmem', '/usr/local/lib/libunistring.so.2', '/usr/share/zoneinfo/utc', '/etc/services', '/etc/nsswitch.conf', '/dev/tty', '/dev/kmem', 'unknown', '/etc/pwd.db', '/usr/ports/games/xtux/..', '/dev/kmem', '/etc/pwd.db', '/dev/kmem', '/dev/hpet0', '/var/mail/frank', '/var/run/ldelf.so.hints', '/dev/kmem', '/dev/kmem', '/home/user/.bash_history', '/dev/kmem', '/dev/kmem', '/dev/kmem', '/etc/pwd.db', '/etc/libmap.conf', '/data/update/data/update/buildmeta/freebsd/amd64.a', '/dev/kmem', '/lib/libc.so.7', '/etc/spwd.db', '/dev/kmem', '/dev/tty', '/dev/kmem', '/dev/kmem', '/etc/login.conf', '/dev/kmem', '/etc/libmap.conf', '/dev/kmem', 'unknown', '/etc/pwd.db', '/dev/kmem', '/etc/pwd.db', '/dev/random', '/dev/random', '/var/run/ldelf.so.hints', '/usr/local/lib/python3.6', '/var/run/ldelf.so.hints', '/dev/kmem', 'top_procs.txt', '/etc/libmap.conf', '/usr/include/dev/powermac_nvram/..', '/dev/kmem', '/etc/pwd.db', '/dev/random', '/var/run/ldelf.so.hints', '/var/run/ldelf.so.hints', '/dev/kmem', '/dev/kmem', 'unknown', '/dev/kmem', '/usr/local/lib/libcclient4.so.9', '/etc/libmap.conf', '/dev/kmem', '/usr/share/zoneinfo/utc', '/usr/share/zoneinfo/posixrules', 'unknown', '/dev/hpet0', '/dev/kmem', '/etc/libmap.conf', 'unknown', '/dev/tty', '/dev/kmem', '/lib/libm.so.5', '/usr/ports/x11drivers/xf86inputkeyboard/..', '/usr/local/lib/libicuuc.so.60', '/dev/kmem', '/dev/kmem', 'unknown', '/dev/kmem', '/etc/spwd.db', '/etc/services', '/usr/include/security/mac_lomac', '/var/run/ldelf.so.hints', '/var/run/ldelf.so.hints', 'unknown', '/usr/local/lib/postfix/libpostfixglobal.so', '/dev/null', '/lib/libutil.so.9']\n"
     ]
    },
    {
     "name": "stdout",
     "output_type": "stream",
     "text": [
      "['/dev/kmem', '/dev/kmem', '/usr/local/include/boost/python/suite', '/dev/random', '/dev/kmem', '/etc/libmap.conf', '/dev/kmem', '/dev/kmem', 'unknown', '/dev/random', '/lib/libxo.so.0', '/data/update/buildmeta/llvm/bindings/ocaml/transfo', '/dev/kmem', '/data/update/data/update/buildmeta/freebsd/amd64.a', '/usr/ports/www/p5catalystviewgraphviz', '/dev/kmem', '/etc/pwd.db', '/dev/random', '/etc/services', 'unknown', '/etc/pwd.db', '/dev/kmem', '/dev/kmem', '/dev/random', '/dev/kmem', '/dev/random', '/var/run/ldelf.so.hints', '/etc/libmap.conf', '/etc/hosts', '/dev/random', '/etc/services', '/var/log/maillog.0.bz2', '/etc/pwd.db', '/usr/share/atf/..', '/dev/kmem', '/dev/random', '/etc/libmap.conf', '/data/ufs/usr/local/share/emacs/25.3/lisp/leim/qua', '/dev/kmem', '/lib/libc.so.7', '/dev/kmem', '/data/update/buildmeta/freebsd/sys/modules/drm2/ra', '/usr/local/share/ri/2.4/system/rss/maker/channelba', '/usr/local/lib/python2.7/sitepackages/babel2.5.1py', '/etc/libmap.conf', '/etc/pwd.db', '/dev/kmem', '/dev/kmem', '/bin/sleep', '/dev/hpet0', '/dev/kmem', '/usr/local/lib/python3.6/sitepackages/pip/_vendor/', '/usr/share/zoneinfo/utc', '/dev/kmem', '/dev/kmem', '/dev/kmem', 'unknown', '/dev/kmem', '/etc/pwd.db', '/data/ufs/usr/home/darpa/.m2/repository/org/sonaty', '/dev/kmem', '/etc/services', '/dev/kmem', '/dev/kmem', '/lib/libdevstat.so.7', '/usr/share/zoneinfo/utc', '/dev/kmem', '/var/run/ldelf.so.hints', '/dev/kmem', '/dev/random', '/dev/kmem', '/dev/kmem', '/etc/rc.conf', '/usr/share/misc/termcap.db', '/etc/pwd.db', '/var/mail/bob', '/etc/defaults/rc.conf', '/dev/random', '/usr/local/etc/postfix/main.cf', '/var/run/ldelf.so.hints', '/usr/ports/www/nginx/nginx/work/stage/usr/local/sh', 'unknown', '/dev/kmem', '/dev/kmem', '/dev/random', '/etc/login.conf', '/usr/home/darpa/kernel_zones.txt', '/dev/kmem', '/bin/sleep', '/etc/services', '/dev/kmem', '/dev/random', '/dev/kmem', '/dev/kmem', '/etc/hosts', '/etc/libmap.conf', '/etc/pwd.db', '/dev/kmem', '/etc/services', '/var/run/ldelf.so.hints', '/dev/random', '/dev/kmem', '/dev/kmem', 'unknown', '/etc/services', '/etc/spwd.db', '/etc/spwd.db', '/data/update/buildmeta/freebsd/tools/tools/vt/mkkf', '/dev/kmem', '/var/run/ldelf.so.hints', '/dev/kmem', '/var/mail/user', '/bin/rm', '/data/update/data/update/buildmeta/freebsd/amd64.a', '/etc/pwd.db', '/dev/kmem', '/dev/kmem', '/dev/random', '/dev/tty', '/lib/libm.so.5', '/dev/kmem', '/dev/kmem', '/dev/kmem', 'unknown', '/etc/hosts', '/lib/libcrypto.so.8', 'unknown', '/dev/random', '/dev/hpet0', '/etc/hosts', 'kernel_mem.txt', '/data/update/buildmeta/freebsd/cddl/contrib/openso', '/dev/random', '/dev/kmem', '/var/run/ldelf.so.hints', '/dev/random', '/etc/spwd.db', '/data/update/data/update/buildmeta/freebsd/amd64.a', '/dev/kmem', '/home/darpa/.lsof_ta1cadets', '/data/update/data/update/buildmeta/freebsd/amd64.a', '/dev/null', '/dev/kmem', '/data/update/buildmeta/freebsd/tools/regression/tm', '/etc/services', '/dev/random', '/var/spool/postfix/maildrop', '/etc/group', '/usr/ports/print/poster/files', '/var/run/ldelf.so.hints', '/dev/kmem', '/dev/kmem', 'unknown', '/usr/src/sys/netgraph/bluetooth/include/..', '/data/update/buildmeta/freebsd/sys/gnu/dts', '/dev/tty', '/dev/tty', '/etc/services', '/etc/services', '/etc/pwd.db', '/etc/pwd.db', '/var/run/ldelf.so.hints', '/etc/pwd.db', '/dev/kmem', '/dev/kmem', '/dev/kmem', '/usr/ports/devel/p5localegettext/work/stage/usr/lo', '/usr/lib/libmemstat.so.3', '/dev/kmem', '/etc/services', '/home/george/sent', '/var/run/ldelf.so.hints', 'unknown', '/etc/nsswitch.conf', '/etc/group', '/dev/kmem', '/dev/kmem', '/dev/kmem', '/data/update/data/update/buildmeta/freebsd/amd64.a', '/dev/tty', '/dev/random', '/usr/share/games/fortune/freebsdtips.dat', '/dev/kmem', '/etc/services', '/var/mail/bob', '/var/run/ldelf.so.hints', '/etc/nsswitch.conf', '/dev/kmem', '/dev/kmem', '/etc/spwd.db', '/usr/ports/devel/git/work/stage/usr/local/share/nl', '/usr/bin/fortune', '/dev/tty', '/dev/kmem', '/lib/libc.so.7', '/dev/hpet0', '/data/update/buildmeta/freebsd/etc/etc.i386', '/dev/kmem', '/etc/spwd.db', '/usr/local/share/doc/docbookxsl/template/..', '/etc/pwd.db', '/var/run/ldelf.so.hints', '/dev/kmem', '/lib/libc.so.7', '/dev/kmem', '/dev/tty', '/bin/unlink', '/dev/kmem', '/dev/kmem', '/dev/kmem', '/etc/pwd.db', '/dev/kmem', '/etc/pwd.db', '/bin/sleep', '/dev/kmem', '/etc/libmap.conf', '/usr/local/bin/bash', '/dev/kmem', '/dev/kmem', '/dev/kmem', '/dev/random', '/dev/kmem', '/var/run/ldelf.so.hints', '/usr/ports/sysutils/dwatch/..', '/dev/random', '/dev/random', 'kernel_zones.txt', 'unknown', '/etc/libmap.conf', '/etc/pwd.db', '/etc/hosts', '/etc/hosts', '/usr/share/zoneinfo/posixrules', '/dev/kmem', '/usr/share/misc/termcap.db', '/usr/share/zoneinfo/utc', '/usr/local/libexec/postfix/dynamicmaps.cf.d', 'unknown', '/dev/kmem', '/etc/pwd.db', '/bin/sleep', '/dev/tty', '/var/mail/frank', '/etc/hosts', '/usr/local/libexec/postfix/dynamicmaps.cf.d/pcre.c', '/etc/nsswitch.conf', '/etc/hosts', '/sbin/dhclientscript', '/bin/date', '/dev/kmem', '/home/frank/sent', '/dev/random', '/dev/random', '/dev/kmem', '/etc/libmap.conf', '/var/run/ldelf.so.hints', '/etc/libmap.conf', '/etc/spwd.db', '/etc/pwd.db', '/data/update/data/update/buildmeta/freebsd/amd64.a', '/etc/libmap.conf', '/dev/kmem', '/dev/kmem', 'unknown', '/usr/ports/x11wm/spectrwm', 'unknown', '/etc/resolv.conf', '/etc/services', '/etc/services', '/dev/kmem', '/dev/random', '/dev/kmem', '/dev/kmem', '/var/run/ldelf.so.hints', '/dev/kmem', '/var/run/ldelf.so.hints', '/dev/kmem', '/dev/random', '/etc/pwd.db', '/etc/pwd.db', 'unknown', '/etc/pwd.db', '/dev/kmem', 'unknown', '/dev/kmem', '/dev/tty', '/dev/kmem', '/var/mail/bob', '/home/darpa/.lsof_ta1cadets', '/dev/kmem', '/etc/spwd.db', '/etc/pwd.db', '/dev/random', '/dev/kmem', '/etc/libmap.conf', '/dev/kmem', '/dev/kmem', '/usr/ports/x11themes/gnomeiconsnoiafull/..', '/usr/ports/security/p5crypttea_js/..', '/etc/libmap.conf', '/lib/libc.so.7', '/dev/kmem', '/etc/ssh/ssh_host_ecdsa_key.pub', '/dev/kmem', '/dev/kmem', '/etc/spwd.db', '/dev/kmem', '/etc/services', '/etc/services', '/data/ufs/usr/tests/sys/pjdfstest/chown/..', 'unknown', '/dev/kmem', '/etc/services', '/etc/spwd.db', '/etc/hosts', '/etc/spwd.db', '/dev/kmem', '/etc/login.conf', '/dev/kmem', '/dev/random', '/dev/kmem', '/etc/pwd.db', '/etc/services', '/dev/kmem', '/dev/kmem', '/etc/pwd.db', '/usr/local/lib/libicudata.so.60', '/etc/spwd.db', '/usr/ports/net/libpcap/work/stage/usr/local/share/', '/usr/local/libexec/postfix/dynamicmaps.cf', 'none', '/dev/kmem', '/var/mail/charles.lock', '/etc/nsswitch.conf', '/dev/hpet0', '/etc/services', '/var/run/ldelf.so.hints', '/usr/bin/fortune', '/dev/kmem', '/data/update/data/update/buildmeta/freebsd/amd64.a', 'unknown', '/lib/libc.so.7', '/etc/hosts', '/dev/kmem', '/etc/services', '/dev/kmem', '/dev/kmem', '/usr/local/share/ri/2.4/system/drb/drbundumped', '/dev/kmem', '/dev/random', '/dev/kmem', '/etc/pwd.db', '/etc/login.conf', 'unknown', '/dev/kmem', '/dev/kmem', '/bin/mv', '/etc/defaults/rc.conf', '/usr/share/zoneinfo/posixrules', '/dev/kmem', '/usr/local/lib/libicudata.so.60', '/dev/kmem', '/dev/kmem', '/dev/kmem', '/dev/kmem', '/dev/kmem', 'none', '/etc/libmap.conf', '/dev/random', '/var/mail/bob', '/dev/kmem', '/dev/kmem', '/var/mail/user', '/dev/kmem', '/usr/local/etc/postfix/main.cf', '/usr/home/darpa/kernel_zones.txt', '/dev/kmem', '/data/ufs/usr/local/share/ri/2.4/system/openssl/x5', '/usr/ports/science/qcl/..', '/lib/libcrypto.so.8', '/dev/kmem', '/dev/kmem', '/etc/pwd.db', '/dev/random', '/etc/hosts', '/var/mail/frank', 'unknown', '/etc/hosts', '/home/user/mail/sentmail', 'unknown', '/dev/kmem', '/usr/bin/head', '/var/run/ldelf.so.hints', '/etc/services', '/dev/kmem', '/dev/kmem', '/usr/local/etc/gtk3.0/..', '/etc/libmap.conf', '/dev/random', '/usr/lib/libssl.so.8', '/var/run/ldelf.so.hints', '/bin/sleep', '/lib/libc.so.7', '/etc/services', '/dev/kmem', 'unknown', '/dev/kmem', '/dev/kmem', '/dev/kmem', '/usr/ports/www/rubygemdropzonejsrails', '/etc/services', '/etc/services', '/dev/tty', 'incoming/991904.14487', '/etc/spwd.db', '/dev/random', '/etc/services', '/usr/ports/sysutils/lxinput', 'unknown', '/etc/pwd.db', '/dev/kmem', 'unknown', '/usr/local/lib/python2.7/sitepackages/crypto/util/', '/etc/libmap.conf', '/usr/local/etc/postfix/virtual.db', '/dev/random', '/etc/pwd.db', '/var/run/ldelf.so.hints', '/etc/services', '/dev/kmem', '/dev/kmem', '/dev/kmem', '/dev/kmem', '/dev/random', '/dev/random', '/etc/services', '/etc/pwd.db', '/dev/kmem', '/var/mail/user', '/dev/kmem', '/dev/kmem', '/dev/tty', '/dev/kmem', 'unknown', '/dev/kmem', '/var/run/ldelf.so.hints', '/bin/sleep', '/etc/spwd.db', '/lib/libc.so.7', '/dev/kmem', '/etc/nsswitch.conf', '/etc/services', '/dev/kmem', '/dev/random', '/dev/hpet0', '/dev/random', '/etc/pwd.db', '/usr/ports/x11/xbelld/files/..', '/etc/libmap.conf', '/dev/tty', '/dev/kmem', 'unknown', '/etc/services', '/var/mail/frank', '/usr/local/etc/cclient.cf', '/etc/hosts', '/dev/kmem', '/etc/spwd.db', '/dev/kmem', '/dev/kmem', 'unknown', '/dev/random', '/var/run/ldelf.so.hints', '/dev/hpet0', '/var/run/ldelf.so.hints', '/etc/pwd.db', '/var/run/ldelf.so.hints', '/etc/pwd.db', '/dev/kmem', '/var/run/ldelf.so.hints', '/dev/kmem', 'unknown', '/home/bob/sent', '/usr/ports/devel/apr1/work/apr1.6.3/test/..', '/etc/login.conf', '/dev/kmem', '/usr/bin/vmstat', '/dev/random', '/dev/kmem', '/usr/share/misc/termcap.db', '/etc/libmap.conf', 'unknown', '/var/run/ldelf.so.hints', '/dev/kmem', '/etc/pwd.db', '/etc/spwd.db', '/dev/kmem', '/etc/spwd.db', '/dev/kmem', '/dev/tty', '/etc/nsswitch.conf', '/dev/kmem', '/dev/kmem', '/dev/null', '/usr/libexec/saveentropy', '/dev/kmem', '/usr/share/zoneinfo/posixrules', '/dev/kmem', '/bin/date', '/etc/pwd.db', '/etc/group', '/usr/ports/graphics/kdegraphicssvgpartkde4']\n",
      "['/var/run/ldelf.so.hints', '/dev/kmem', '/dev/kmem', '/etc/services', '/etc/hosts', '/usr/bin/head', 'unknown', '/dev/random', '/var/run/ldelf.so.hints', '/dev/null', '/usr/local/share/vim/vim80/lang/zh_tw.utf8', '/etc/defaults/rc.conf', '/lib/libc.so.7', '/dev/random', '/etc/services', '/dev/kmem', '/dev/kmem', '/dev/kmem', '/var/spool/postfix/active/bd12429d10', '/etc/libmap.conf', '/dev/kmem', '/usr/ports/databases/tile38/files/..', '/usr/ports/archivers/ppmd7z/..', '/etc/hosts', '/dev/kmem', '/dev/kmem', '/usr/share/zoneinfo/utc', '/etc/services', '/dev/kmem', '/etc/libmap.conf', '/dev/hpet0', '/dev/kmem', '/usr/bin/uptime', '/etc/resolv.conf', '/etc/pwd.db', '/dev/kmem', '/dev/kmem', '/etc/pwd.db', 'unknown', '/dev/kmem', '/usr/obj/data/update/buildmeta/freebsd/amd64.amd64', '/dev/kmem', '/dev/kmem', 'unknown', '/usr/share/zoneinfo/utc', 'unknown', '/dev/kmem', '/etc/spwd.db', '/etc/libmap.conf', '/dev/random', '/data/update/data/update/buildmeta/freebsd/amd64.a', '/dev/kmem', '/bin/date', '/dev/random', '/data/ufs/usr/obj/data/update/buildmeta/freebsd/am', '/dev/kmem', '/usr/ports/audio/mpdscribble/..', '/usr/local/include/boost/numeric/odeint/stepper/de', '/dev/kmem', '/dev/tty', 'none', '/dev/kmem', '/etc/pwd.db', '/dev/kmem', '/var/run/ldelf.so.hints', '/lib/libkvm.so.7', '/usr/local/etc/postfix/main.cf', '/etc/resolv.conf', '/data/gather_stats_uma.txt', '/var/mail/edward.lock', '/data/update/data/update/buildmeta/freebsd/amd64.a', '/usr/libexec/saveentropy', '/etc/services', '/dev/random', '/var/spool/postfix/maildrop', '/dev/random', '/dev/kmem', '/dev/kmem', '/dev/kmem', '/etc/services', '/usr/src/usr.sbin/ftpproxy/..', '/dev/kmem', '/var/mail/bob.lock.1523310545.70948.ta1cadets', '/dev/kmem', '/etc/libmap.conf', '/lib/libncursesw.so.8', '/etc/spwd.db', '/etc/hosts', '/dev/kmem', '/dev/kmem', '/dev/tty', '/dev/random', '/usr/bin/fortune', '/dev/random', '/lib/libc.so.7', 'unknown', '/dev/kmem', '/dev/random', '/usr/lib/libmemstat.so.3', '/dev/random', 'unknown', '/dev/kmem', '/etc/services', '/usr/ports/x11/libgnomekbd', '/dev/random', '/dev/kmem', '/usr/local/include/boost/spirit/home/classic/error', '/dev/kmem', '/dev/kmem', 'unknown', '/dev/kmem', '/dev/kmem', '/etc/spwd.db', '/data/update/buildmeta/llvm/build/release/cmake/mo', '/data/update/buildmeta/freebsd/sys/dev/xen/blkfron', '/dev/kmem', '/etc/services', '/usr/local/sbin/lsof', '/etc/pwd.db', '/lib/libdevstat.so.7', '/usr/bin/vmstat', '/usr/ports/devel/apr1/work/aprutil1.6.1/encoding', '/etc/pwd.db', '/home/user/mail/sentmail', 'kernel_mem.txt', '/etc/pwd.db', '/var/run/ldelf.so.hints', '/dev/random', '/etc/hosts', '/dev/random', '/dev/kmem', '/dev/kmem', '/dev/kmem', 'unknown', '/dev/random', '/dev/kmem', '/etc/libmap.conf', '/dev/kmem', '/dev/kmem', '/dev/kmem', '/usr/home/darpa/kernel_mem.txt', 'unknown', '/bin/sh', '/etc/services', 'unknown', '/usr/local/libexec/postfix/dynamicmaps.cf.d/pcre.c', '/usr/share/zoneinfo/utc', '/var/run/ldelf.so.hints', '/dev/random', '/usr/obj/data/update/buildmeta/freebsd/amd64.amd64', '/etc/pwd.db', '/etc/login.conf', '/etc/pwd.db', 'unknown', '/dev/random', '/usr/share/zoneinfo/posixrules', '/dev/kmem', '/etc/pwd.db', '/etc/services', '/etc/pwd.db', '/etc/services', '/dev/random', '/data/update/data/update/buildmeta/freebsd/amd64.a', '/dev/random', '/dev/kmem', '/etc/libmap.conf', '/dev/kmem', '/dev/kmem', '/dev/kmem', '/dev/kmem', '/home/bob/sent', '/etc/login.conf', '/dev/kmem', '/dev/random', '/dev/kmem', '/dev/kmem', '/var/run/ldelf.so.hints', '/etc/services', '/usr/bin/vmstat', '/home/george/.mailboxlist', '/usr/ports/www/p5cgiajax/..', '/var/run/ldelf.so.hints', '/dev/kmem', '/etc/services', '/data/update/buildmeta/freebsd/usr.bin/cmp/..', '/etc/libmap.conf', '/lib/libkvm.so.7', '/dev/random', '/dev/kmem', 'unknown', '/var/run/ldelf.so.hints', '/dev/hpet0', '/home/darpa/.lsof_ta1cadets', '/etc/services', '/usr/ports/devel/rubygempowerbar', '/etc/hosts', '/tmp/.31.29b4b', '/dev/kmem', 'unknown', '/data/update/buildmeta/freebsd/sys/modules/wlan_tk', '/etc/hosts', '/dev/kmem', '/dev/hpet0', '/dev/random', '/dev/kmem', '/dev/random', '/data/ufs/usr/obj/data/update/buildmeta/freebsd/am', '/dev/kmem', 'unknown', '/usr/ports/devel/p5configyaml', '/etc/services', '/dev/kmem', '/dev/kmem', '/usr/share/zoneinfo/posixrules', '/etc/services', '/usr/local/share/cups/templates/es/..', '/dev/tty', '/usr/ports/sysutils/anacron', '/dev/kmem', '/usr/share/zoneinfo/utc', '/usr/libexec/saveentropy', '/dev/kmem', '/etc/nsswitch.conf', 'kernel_zones.txt', 'kernel_mem.txt', '/etc/pwd.db', '/dev/kmem', '/lib/libelf.so.2', '/dev/kmem', '/dev/kmem', '/dev/kmem', 'unknown', '/bin/sleep', 'unknown', '/etc/services', '/dev/kmem', '/etc/hosts', '/usr/ports/sysutils/rubygemsysuname/..', '/dev/kmem', '/dev/kmem', '/etc/hosts', '/data/update/buildmeta/freebsd/sys/modules/drm2/ra', '/etc/hosts', '/dev/kmem', '/dev/kmem', '/dev/kmem', '/dev/random', '/dev/kmem', '/var/run/ldelf.so.hints', '/var/run/ldelf.so.hints', 'unknown', '/etc/pwd.db', '/usr/local/include/boost/fusion/container/list/det', '/dev/kmem', 'unknown', '/etc/spwd.db', '/usr/ports/x11fonts/gfe', '/bin/sleep', '/data/update/buildmeta/freebsd/usr.sbin/makefs/cd9', '/etc/services', '/dev/kmem', '/usr/local/sbin/lsof', 'unknown', 'unknown', '/data/ufs/usr/local/include/boost/asio/windows/..', '/var/run/ldelf.so.hints', '/etc/services', '/etc/pwd.db', '/dev/random', '/lib/libelf.so.2', '/dev/kmem', '/dev/kmem', '/dev/tty', '/dev/kmem', 'unknown', '/lib/libc.so.7', '/etc/libmap.conf', '/dev/random', '/dev/kmem', '/usr/local/lib/gtk3.0/3.0.0/..', '/dev/kmem', 'unknown', '/dev/random', '/usr/share/zoneinfo/utc', '/dev/kmem', '/lib/libncursesw.so.8', '/etc/pwd.db', '/home/user/mail/sentmail', '/usr/local/libexec/postfix/local', '/var/run/ldelf.so.hints', '/etc/libmap.conf', '/var/run/ldelf.so.hints', '/dev/kmem', '/dev/random', '/etc/pwd.db', '/dev/kmem', '/etc/spwd.db', '/dev/kmem', 'unknown', '/etc/pwd.db', '/etc/hosts', '/lib/libc.so.7', '/dev/hpet0', '/var/run/ldelf.so.hints', '/var/run/ldelf.so.hints', '/var/run/ldelf.so.hints', '/dev/kmem', '/bin/sleep', '/dev/kmem', '/dev/tty', '/etc/hosts', '/dev/kmem', 'unknown', '/etc/pwd.db', '/etc/services', '/dev/kmem', '/dev/kmem', '/etc/spwd.db', '/dev/random', '/etc/pwd.db', 'unknown', '/dev/tty', '/dev/kmem', '/var/mail/alice', '/var/run/ldelf.so.hints', '/var/run/ldelf.so.hints', '/etc/pwd.db', '/dev/kmem', '/etc/pwd.db', '/dev/kmem', '/usr/obj/data/update/buildmeta/freebsd/amd64.amd64', '/data/update/data/update/buildmeta/freebsd/amd64.a', '/dev/kmem', '/data/update/buildmeta/freebsd/sys/modules/virtio/', '/dev/kmem', '/dev/kmem', 'unknown', '/dev/kmem', '/usr/share/zoneinfo/utc', '/dev/kmem', '/var/run/ldelf.so.hints', '/etc/pwd.db', '/dev/tty', '/etc/pwd.db', '/dev/tty', '/usr/local/sbin/lsof', '/etc/pwd.db', '/etc/pwd.db', '/usr/ports/graphics/libopenraw/..', '/dev/kmem', '/dev/random', '/usr/home/darpa/ta3serializationschema/src/main/ja', '/var/run/ldelf.so.hints', 'kernel_mem.txt', '/usr/ports/math/e/..', '/etc/pwd.db', 'unknown', '/dev/kmem', '/dev/random', '/lib/libcrypto.so.8', '/usr/src/usr.bin/time', '/usr/lib/libmemstat.so.3', '/dev/kmem', '/dev/random', '/usr/local/lib/postfix/libpostfixmaster.so', 'unknown', '/dev/random', '/dev/kmem', '/dev/kmem', '/dev/random', 'unknown', '/usr/lib/libmemstat.so.3', '/etc/pwd.db', '/etc/services', '/dev/kmem', '/etc/pwd.db', '/dev/kmem', '/home/user/mail/sentmail', '/dev/kmem', '/dev/kmem', '/dev/kmem', '/data/update/data/update/buildmeta/freebsd/amd64.a', '/var/mail/frank', '/home/bob/sent', '/dev/random', '/dev/kmem', '/dev/kmem', '/dev/kmem', '/etc/pwd.db', '/etc/spwd.db', '/dev/kmem', '/etc/pwd.db', '/etc/resolv.conf', '/dev/kmem', '/etc/login.conf', '/dev/random', 'unknown', '/usr/ports/games/stepmaniadevel', '/etc/spwd.db', '/dev/kmem', '/dev/kmem', '/dev/kmem', '/etc/spwd.db', '/etc/spwd.db', '/usr/ports/devel/boehmgc/work/stage/usr/local/shar', '/dev/random', '/dev/kmem', '/usr/local/lib/postfix/libpostfixutil.so', '/dev/random', '/data/update/data/update/buildmeta/freebsd/amd64.a', '/dev/tty', '/var/run/ldelf.so.hints', '/var/spool/postfix/active/ae9d829cd1', '/dev/random', '/dev/tty', '/dev/kmem', '/lib/libjail.so.1', '/var/run/ldelf.so.hints', 'unknown', 'kernel_mem.txt', 'unknown', '/dev/kmem', '/etc/pwd.db', '/dev/kmem', '/var/run/ldelf.so.hints', '/dev/kmem', '/etc/group', '/etc/pwd.db', '/etc/pwd.db', '/dev/random', '/usr/share/zoneinfo/posixrules', '/dev/kmem', '/etc/hosts', '/etc/login.conf', '/dev/kmem', 'unknown', '/dev/tty', '/etc/pwd.db', '/dev/kmem', '/data/ufs/usr/home/darpa/.m2/repository/org/codeha', '/dev/null', '/usr/ports/sysutils/savelogs/..', '/home/darpa/.lsof_ta1cadets', 'unknown', 'unknown', '/dev/kmem', '/usr/bin/top', '/dev/kmem', '/etc/spwd.db', '/dev/kmem', '/dev/kmem', '/dev/random', '/lib/libjail.so.1', '/etc/nsswitch.conf', '/etc/login.conf', '/dev/random', '/etc/services', '/etc/pwd.db', '/usr/ports/devel/apr1/work/stage/usr/local/share/l', '/etc/pwd.db', '/etc/spwd.db', '/home/bob/sent', '/dev/kmem', '/usr/local/lib/python2.7/sitepackages/boto3/data/i', '/usr/local/lib/texinfo', '/usr/home/darpa/kernel_mem.txt', '/dev/kmem', '/dev/kmem', '/dev/random', '/dev/hpet0', '/dev/kmem', '/data/update/buildmeta/freebsd/share/examples/test', '/dev/random', '/etc/pwd.db', '/usr/lib/i18n', '/usr/local/lib/python2.7/sitepackages/enum/..', 'unknown', '/dev/kmem', '/dev/random', '/etc/spwd.db', '/dev/kmem', '/dev/kmem', '/dev/kmem', '/data/update/data/update/buildmeta/freebsd/amd64.a', '/etc/pwd.db', '/dev/kmem', '/dev/kmem', '/usr/obj/data/update/buildmeta/freebsd/amd64.amd64', '/etc/pwd.db', '/usr/local/lib/python2.7/sitepackages/botocore/dat', '/dev/random', '/etc/nsswitch.conf', '/usr/local/lib/postfix/libpostfixutil.so', '/etc/pwd.db', '/dev/kmem', '/dev/kmem', '/etc/pwd.db', '/etc/spwd.db', '/tmp/.31.29d10', '/dev/kmem', '/dev/kmem', '/dev/kmem', '/lib/libc.so.7', '/usr/home/darpa/top_procs.txt', '/var/run/ldelf.so.hints', '/usr/local/libexec/postfix/trivialrewrite', '/dev/kmem', '/dev/random', 'top_procs.txt', '/dev/kmem', '/etc/pwd.db', '/etc/spwd.db']\n",
      "['/etc/services', '/etc/spwd.db', '/etc/defaults/rc.conf', '/usr/ports/misc/getopt/work/stage/usr/local/man/ja', '/dev/kmem', '/dev/kmem', '/dev/kmem', '/usr/local/include/boost/geometry/core/..', '/etc/hosts', '/dev/kmem', '/home/frank/sent', '/etc/libmap.conf', '/etc/pwd.db', '/dev/random', '/etc/pwd.db', '/dev/kmem', '/etc/services', '/dev/kmem', '/etc/services', '/usr/home/darpa/top_procs.txt', '/dev/kmem', '/dev/kmem', '/etc/pwd.db', '/usr/share/zoneinfo/utc', 'unknown', '/dev/kmem', '/etc/pwd.db', '/dev/random', '/dev/kmem', '/dev/kmem', '/data/update/data/update/buildmeta/freebsd/amd64.a', '/dev/hpet0', 'unknown', '/usr/include/security/audit', '/dev/kmem', '/dev/kmem', '/etc/pwd.db', '/etc/login.conf', '/etc/pwd.db', '/dev/kmem', '/usr/local/lib/postfix/libpostfixutil.so', '/dev/kmem', '/dev/kmem', '/dev/kmem', '/dev/kmem', '/usr/home/darpa/.m2/repository/org/eclipse/jetty/j', '/dev/kmem', '/home/user/.bash_history', '/dev/kmem', '/etc/login.conf', '/dev/kmem', '/dev/tty', '/etc/pwd.db', '/dev/kmem', '/dev/random', '/dev/kmem', '/etc/services', '/dev/kmem', '/dev/kmem', '/bin/sleep', '/etc/libmap.conf', '/var/run/ldelf.so.hints', '/dev/hpet0', '/dev/kmem', '/dev/hpet0', '/var/mail/bob.lock.1522907165.47500.ta1cadets', '/dev/kmem', '/usr/share/zoneinfo/posixrules', '/dev/kmem', '/dev/kmem', '/dev/kmem', '/dev/kmem', '/etc/libmap.conf', '/var/run/ldelf.so.hints', '/dev/kmem', 'unknown', '/etc/defaults/rc.conf', '/etc/pam.d/other', '/etc/group', 'unknown', '/usr/local/share/ri/2.4/system/rss/maker/rss10/ite', '/etc/pwd.db', '/dev/hpet0', '/usr/obj/data/update/buildmeta/freebsd/amd64.amd64', '/dev/kmem', '/etc/services', '/usr/ports/devel/p5localegettext/work/stage/usr/lo', '/etc/services', 'unknown', '/var/db/entropy/savedentropy.2', '/bin/mv', '/dev/tty', '/data/ufs/usr/home/darpa/librdkafka0.9.4/win32/rdk', '/var/mail/bob', '/dev/hpet0', '/data/update/buildmeta/freebsd/sys/compat/cloudabi', '/usr/share/zoneinfo/utc', '/dev/kmem', '/dev/kmem', '/bin/sleep', '/dev/random', '/etc/pwd.db', 'unknown', '/usr/ports/databases/sqlitestudio/files', '/dev/kmem', '/etc/services', '/dev/kmem', '/usr/home/darpa/kernel_zones.txt', '/dev/kmem', '/dev/random', '/dev/kmem', '/etc/group', '/dev/kmem', '/dev/mem', '/dev/kmem', '/lib/libm.so.5', '/data/update/data/update/buildmeta/freebsd/amd64.a', '/etc/libmap.conf', '/etc/spwd.db', 'kernel_mem.txt', '/home/bob/sent', '/var/run/ldelf.so.hints', '/etc/pwd.db', '/usr/local/etc/postfix/main.cf', '/dev/kmem', '/etc/libmap.conf', '/usr/obj/data/update/buildmeta/freebsd/amd64.amd64', '/lib/libthr.so.3', 'unknown', '/dev/random', '/dev/hpet0', '/dev/kmem', '/dev/kmem', '/usr/local/libexec/postfix/dynamicmaps.cf.d', '/dev/kmem', 'unknown', '/dev/null', '/etc/libmap.conf', '/dev/kmem', '/dev/random', '/etc/hosts', '/dev/kmem', '/etc/nsswitch.conf', '/etc/pwd.db', '/etc/pwd.db', '/dev/kmem', '/dev/kmem', '/etc/libmap.conf', '/dev/tty', '/dev/kmem', '/var/run/ldelf.so.hints', '/usr/home/darpa/kernel_zones.txt', 'unknown', '/var/run/ldelf.so.hints', '/etc/services', '/etc/pwd.db', '/etc/libmap.conf', '/etc/libmap.conf', '/dev/kmem', 'unknown', '/data/update/buildmeta/freebsd/contrib/amd/conf/mt', '/etc/services', '/dev/kmem', '/data/gather_stats_uma.txt', '/dev/hpet0', '/etc/libmap.conf', '/etc/libmap.conf', '/etc/hosts.allow', '/etc/services', '/dev/kmem', '/etc/pwd.db', '/dev/kmem', '/etc/hosts', '/etc/pwd.db', '/dev/kmem', '/etc/spwd.db', '/dev/kmem', '/dev/tty', 'unknown', '/dev/kmem', '/etc/hosts', 'none', '/dev/random', '/var/run/ldelf.so.hints', '/dev/kmem', '/etc/services', '/dev/kmem', 'unknown', '/data/gather_stats_uma.txt', '/dev/kmem', 'unknown', '/etc/libmap.conf', '/var/run/ldelf.so.hints', '/dev/tty', '/dev/tty', '/usr/src/usr.sbin/kbdcontrol', '/var/mail/george', '/dev/kmem', '/dev/kmem', '/dev/kmem', '/dev/random', 'unknown', '/etc/pwd.db', '/etc/pwd.db', '/lib/libkvm.so.7', '/dev/kmem', '/var/run/ldelf.so.hints', '/lib/libcrypto.so.8', 'unknown', 'unknown', '/usr/local/libexec/postfix/local', '/dev/random', '/dev/kmem', '/etc/pwd.db', 'unknown', '/dev/kmem', '/usr/ports/devel/boehmgc/work/stage/usr/local/shar', '/dev/kmem', '/dev/kmem', '/dev/kmem', '/etc/pwd.db', '/dev/kmem', '/usr/libexec/saveentropy', '/etc/spwd.db', '/usr/home/darpa/kernel_zones.txt', '/dev/random', '/dev/tty', '/dev/kmem', '/usr/local/lib/python2.7/sitepackages/crypto/selft', '/dev/random', '/etc/pwd.db', '/etc/pwd.db', '/etc/libmap.conf', '/dev/random', '/etc/login.conf', '/etc/pwd.db', '/usr/local/libexec/postfix/dynamicmaps.cf.d/pcre.c', '/dev/kmem', '/lib/libncursesw.so.8', '/usr/ports/devel/gettexttools/work/stage/usr/local', '/etc/pwd.db', '/dev/kmem', '/usr/ports/irc/tircproxy/files/..', '/dev/kmem', '/usr/local/lib/libicuuc.so.60', '/usr/bin/top', '/dev/kmem', '/dev/kmem', '/etc/pwd.db', '/dev/kmem', '/data/update/buildmeta/freebsd/sys/dev/acpica', '/dev/random', 'unknown', '/dev/kmem', '/dev/kmem', '/dev/kmem', '/etc/pwd.db', '/data/ufs/usr/home/darpa/.m2/repository/org/sonaty', '/etc/pwd.db', '/dev/kmem', '/dev/random', '/usr/lib/libpam.so.6', '/etc/services', '/etc/libmap.conf', '/usr/local/lib/python2.7/sitepackages/salt/modules', '/usr/ports/graphics/p5chartgraph/..', '/lib/libc.so.7', '/var/mail/bob', 'none', '/data/ufs/usr/obj/data/update/buildmeta/freebsd/am', '/dev/kmem', '/etc/hosts', 'unknown', '/data/update/data/update/buildmeta/freebsd/amd64.a', '/etc/pwd.db', '/etc/resolv.conf', '/dev/random', '/bin/sleep', '/bin/sleep', '/usr/share/misc/termcap.db', '/dev/random', '/dev/kmem', '/etc/libmap.conf', '/dev/kmem', '/dev/random', '/dev/random', '/var/run/ldelf.so.hints', 'unknown', '/home/bob/sent', '/etc/libmap.conf', '/dev/kmem', 'unknown', '/usr/share/zoneinfo/utc', '/etc/pwd.db', '/etc/services', '/dev/kmem', '/dev/devctl', '/dev/kmem', '/var/run/ldelf.so.hints', '/etc/pwd.db', '/dev/kmem', '/dev/tty', '/etc/libmap.conf', '/dev/kmem', '/etc/pwd.db', '/etc/services', '/etc/libmap.conf', '/usr/ports/devel/p5filewriterotate/..', '/etc/libmap.conf', '/dev/random', '/lib/libutil.so.9', '/dev/kmem', '/dev/kmem', '/dev/kmem', '/lib/libc.so.7', '/data/update/data/update/buildmeta/freebsd/amd64.a', '/dev/kmem', '/dev/kmem', '/var/run/ldelf.so.hints', '/dev/kmem', '/dev/hpet0', '/data/update/data/update/buildmeta/freebsd/amd64.a', '/dev/kmem', '/dev/kmem', '/etc/resolv.conf', '/dev/random', '/dev/random', 'unknown', '/dev/random', '/usr/bin/head', '/etc/hosts', '/usr/bin/vmstat', '/data/ufs/usr/local/share/licenses/py27s3transfer0', '/etc/services', '/etc/resolv.conf', '/data/update/data/update/buildmeta/freebsd/amd64.a', '/dev/random', '/dev/kmem', '/dev/kmem', '/etc/pwd.db', 'unknown', '/dev/kmem', '/dev/kmem', 'unknown', '/dev/kmem', '/dev/tty', '/usr/lib/libmemstat.so.3', '/etc/libmap.conf', '/etc/libmap.conf', '/etc/pwd.db', '/usr/ports/science/ghmm', '/dev/hpet0', '/dev/random', '/data/ufs/usr/obj/data/update/buildmeta/freebsd/am', '/dev/kmem', '/lib/libc.so.7', '/etc/spwd.db', '/dev/kmem', '/dev/kmem', '/etc/resolv.conf', '/dev/kmem', '/dev/kmem', '/dev/kmem', '/etc/libmap.conf', '/dev/kmem', '/lib/libxo.so.0', '/dev/kmem', '/dev/kmem', '/dev/kmem', '/etc/libmap.conf', '/usr/local/libexec/postfix/dynamicmaps.cf.d/pcre.c', '/dev/kmem', '/dev/kmem', '/dev/tty', '/dev/devctl', '/dev/kmem', '/usr/home/darpa/.m2/repository/org/apache/maven/ma', '/etc/spwd.db', '/lib/libc.so.7', '/etc/services', '/etc/nsswitch.conf', 'none', '/dev/kmem', '/dev/kmem', '/data/ufs/usr/local/share/icons/locolor', '/etc/resolv.conf', '/dev/kmem', '/dev/kmem', '/etc/pwd.db', '/lib/libc.so.7', '/usr/share/zoneinfo/posixrules', '/etc/spwd.db', '/etc/spwd.db', '/usr/home/darpa/.m2/repository/org/codehaus/plexus', '/dev/kmem', '/etc/services', '/dev/kmem', '/dev/hpet0', '/etc/pwd.db', '/dev/kmem', '/dev/random', '/usr/bin/head', '/dev/kmem', '/dev/kmem', '/usr/lib/libbsm.so.3', '/lib/libc.so.7', '/dev/kmem', '/etc/libmap.conf', '/dev/kmem', '/data/update/buildmeta/freebsd/usr.sbin/newsyslog/', '/data/update/buildmeta/freebsd/tools/tools/vop_tab', '/dev/kmem', '/etc/pwd.db', '/dev/kmem', '/dev/random', '/dev/kmem', '/usr/local/include/boost/phoenix/support/preproces', '/dev/kmem', '/usr/share/zoneinfo/posixrules', '/etc/services', '/home/user/mail/sentmail', '/dev/random', '/data/ufs/usr/home/darpa/.m2/repository/com/google', '/etc/hosts', '/lib/libelf.so.2', '/dev/kmem', '/usr/share/zoneinfo/posixrules', '/dev/random', '/home/darpa/.lsof_ta1cadets', '/dev/hpet0', '/etc/pwd.db', '/dev/kmem', '/etc/services', '/etc/services', '/usr/share/zoneinfo/utc', '/etc/pwd.db', '/etc/hosts', '/usr/src/usr.sbin/ntp/ntpq/..', '/etc/hosts', '/var/spool/postfix/pid/unix.local', 'unknown', '/var/run/ldelf.so.hints', '/dev/tty', '/dev/random', '/usr/local/libexec/postfix/dynamicmaps.cf.d/pcre.c', '/dev/kmem', '/bin/sleep', '/usr/local/lib/python2.7/sitepackages/botocore/dat', '/dev/kmem', '/etc/hosts', '/dev/tty', '/dev/kmem', '/etc/libmap.conf', '/dev/kmem', '/dev/random', '/dev/kmem', '/dev/kmem', '/home/frank/sent.lock.1523456500.3929.ta1cadets', '/usr/local/etc/postfix/main.cf', '/dev/tty', '/usr/ports/www/p5httpcachetransparent/..', '/var/run/ldelf.so.hints', '/etc/pwd.db', '/dev/kmem', '/dev/kmem', '/usr/local/etc/postfix/main.cf', 'unknown', '/usr/share/misc/termcap.db', '/etc/pwd.db', 'unknown', '/usr/local/etc/postfix/main.cf', '/dev/kmem', '/dev/kmem', '/dev/kmem', '/dev/kmem', '/etc/pwd.db', '/var/run/ldelf.so.hints', '/dev/devctl', '/var/run/ldelf.so.hints', '/dev/hpet0', '/var/mail/bob', 'kernel_mem.txt', 'unknown', '/usr/local/www/..', '/dev/kmem', 'unknown', '/dev/kmem', '/dev/kmem', '/dev/kmem', '/dev/kmem', '/etc/hosts', '/dev/kmem', '/etc/pwd.db', '/dev/kmem', '/data/update/data/update/buildmeta/freebsd/amd64.a', 'unknown', '/etc/hosts', '/etc/spwd.db', '/dev/hpet0', '/dev/kmem', '/dev/kmem', '/usr/share/misc/termcap.db', '/dev/kmem', '/dev/random', '/usr/local/share/examples/nettle', '/usr/ports/devel/libatomic_ops/work/stage/usr/loca', '/dev/random', '/usr/obj/data/update/buildmeta/freebsd/amd64.amd64', '/etc/spwd.db', '/etc/hosts', '/etc/spwd.db', '/var/mail/bob']\n",
      "\n",
      "['/dev/kmem', '/lib/libelf.so.2', '/usr/local/libexec/postfix/dynamicmaps.cf', '/usr/share/zoneinfo/utc', 'unknown', 'unknown', '/etc/pwd.db', '/lib/libkvm.so.7', '/var/run/ldelf.so.hints', '/etc/group', '/dev/random', '/usr/local/libexec/gitcore/gitinitdb', '/dev/kmem', '/dev/kmem', '/usr/local/share/doc/rsvg2.0/rsvghandle.html', '/usr/local/lib/python2.7/test/support/__init__.pyo', 'unknown', '/dev/random', '/usr/local/share/cmake/editors/vim/syntax/cmake.vi', '/usr/local/info/gmp.info', '/dev/kmem', '/dev/kmem', 'unknown', '/lib/libc.so.7', '/usr/local/share/emacs/25.3/src/xfns.c', '/dev/kmem', '/dev/random', '/dev/kmem', '/usr/bin/vmstat', '/usr/local/lib/python2.7/lib2to3/pygram.pyo', '/usr/local/include/boost/callable_traits/remove_tr', '/usr/share/zoneinfo/posixrules', '/etc/hosts', 'unknown', '/dev/random', '/dev/random', '/usr/local/libexec/gitcore/gitlsfiles', '/etc/services', '/dev/kmem', '/dev/kmem', '/usr/local/bin/otfdump', '/dev/kmem', '/usr/local/share/locale/hu/lc_messages/bash.mo', '/dev/random', '/dev/random', '/usr/local/bin/ccxxmake', '/usr/local/man/man3/spi_palloc.3.gz', '/usr/local/share/icons/adwaita/16x16/emotes/facera', '/usr/lib/libmemstat.so.3', '/etc/nsswitch.conf', '/usr/local/lib/scons3.0.1/scons/tool/gettextcommon', '/etc/pwd.db', 'none', '/usr/local/etc/postfix/virtual.db', '/usr/local/include/boost/units/base_units/imperial', '/dev/kmem', '/var/run/ldelf.so.hints', '/lib/libgcc_s.so.1', '/usr/local/openjdk8/jre/lib/rt.jar', '/usr/local/lib/perl5/5.24/perl/man/man1/perllocale', '/etc/services', '/dev/kmem', '/var/run/ldelf.so.hints', '/usr/local/lib/perl5/5.24/perl/man/man3/netconfig.', '/usr/local/share/fonts/otf/syrcommalankara.otf', '/usr/local/libexec/postfix/dynamicmaps.cf.d/pcre.c', '/dev/kmem', '/tmp/periodic.dbbhxr76tn', '/usr/local/share/doc/imagemagick6/www/magick/monta', '/dev/kmem', '/usr/local/share/icons/adwaita/32x32/emotes/facera', '/etc/pwd.db', '/usr/local/lib/python2.7/test/test_ast.pyo', '/dev/kmem', '/etc/pwd.db', '/usr/local/share/gettext/styles/povim.css', '/usr/local/lib/python2.7/encodings/cp500.py', '/dev/tty', 'unknown', '/usr/local/lib/libicudata.so.60', '/usr/share/zoneinfo/utc', '/dev/kmem', '/etc/pwd.db', '/usr/local/share/doc/imagemagick6/www/api/magickco', '/usr/lib/libmemstat.so.3', '/dev/kmem', '/dev/kmem', 'unknown', '/etc/spwd.db', 'unknown', '/usr/local/include/apr1/apr_thread_cond.h', '/dev/kmem', '/etc/pwd.db', '/dev/kmem', '/usr/local/lib/gcc6/include/c/iomanip', '/usr/local/include/boost/format/detail/config_macr', '/usr/local/x86_64portbldfreebsd12.0/lib/ldscripts/', '/dev/kmem', '/usr/local/share/java/zi/america/argentina/rio_gal', '/usr/local/share/doc/ruby24/changelog2.4.0', '/usr/local/share/cmake/modules/platform/windowsbor', '/usr/share/zoneinfo/posixrules', 'unknown', '/usr/local/openjdk8/jre/lib/rt.jar', '/usr/local/lib/python2.7/test/decimaltestdata/ddfm', '/dev/kmem', '/bin/date', '/etc/libmap.conf', '/dev/random', '/usr/local/lib/libgs.so.9.16', '/usr/local/bin/djpeg', '/usr/local/share/locale/ja/lc_messages/subversion.', '/dev/random', '/dev/hpet0', '/etc/services', '/dev/kmem', '/usr/local/share/locale/uk/lc_messages/texinfo.mo', '/usr/local/share/icons/adwaita/32x32/apps/preferen', '/dev/kmem', '/etc/login.conf', '/dev/kmem', '/usr/local/lib/libicui18n.so.60', '/etc/pwd.db', '/dev/tty', '/usr/local/share/doc/postfix/postscreen_readme.htm', '/dev/kmem', '/home/user/.bash_history', '/etc/spwd.db', '/usr/local/x86_64portbldfreebsd12.0/lib/ldscripts/', '/dev/kmem', '/usr/local/share/ghostscript/9.16/resource/init/gs', 'unknown', '/etc/services', '/dev/tty', '/usr/local/x86_64portbldfreebsd12.0/lib/ldscripts/', '/etc/hosts', '/dev/kmem', '/usr/local/lib/gcc6/include/c/gnu/javax/swing/text', '/dev/kmem', '/dev/kmem', '/usr/local/share/cmake/modules/findwxwindows.cmake', '/usr/local/bin/oeminst', '/dev/kmem', '/usr/local/share/locale/ja/lc_messages/gettexttool', '/dev/kmem', '/etc/pwd.db', '/dev/kmem', '/dev/random', '/dev/hpet0', '/dev/kmem', '/usr/local/include/boost/units/pow.hpp', '/dev/random', '/usr/local/libexec/gitcore/gitdifffiles', '/usr/local/share/emacs/25.3/lisp/progmodes/idlwtoo', '/dev/kmem', '/bin/sh', '/usr/local/lib/python2.7/test/test_pydoc.py', '/usr/local/share/licenses/libiconv1.14_11/gplv3', '/usr/local/include/x11/extensions/xinput.h', '/etc/pwd.db', '/dev/kmem', '/dev/kmem', '/usr/local/share/doc/fontconfig/fontconfiguser.pdf', '/etc/services', '/usr/local/share/icons/adwaita/scalable/actions/wi', '/etc/pwd.db', '/var/run/ldelf.so.hints', '/usr/bin/vmstat', '/var/mail/frank.lock', '/etc/services', '/usr/local/share/icons/adwaita/256x256/devices/dri', '/etc/login.conf', '/usr/local/share/cmake/templates/msbuild/nasm.targ', '/etc/resolv.conf', 'unknown', 'unknown', '/usr/local/lib/postfix/libpostfixglobal.so', '/usr/local/lib/libzmq.a', '/etc/security/audit_class', '/usr/local/lib/perl5/5.24/mach/auto/attributes/att', '/usr/local/libexec/gitcore/gitclone', '/usr/local/etc/postfix/main.cf', '/usr/local/share/doc/imagemagick6/images/patterns/', '/etc/libmap.conf', '/usr/local/share/glib2.0/schemas/org.gtk.settings.', '/dev/kmem', '/dev/random', '/etc/services', '/usr/local/etc/cclient.cf', 'unknown', '/dev/kmem', '/dev/kmem', '/usr/local/share/ghostscript/9.16/resource/cmap/un', '/usr/local/share/locale/ta/lc_messages/gtk30.mo', 'unknown', '/usr/local/share/examples/jpegturbo/example.c', '/usr/local/share/examples/flex/manual/pascal.lex', '/usr/local/share/icons/adwaita/22x22/actions/editc', 'unknown', '/usr/share/zoneinfo/utc', '/usr/local/lib/python3.6/idlelib/idle_test/__pycac', '/usr/local/libexec/gitcore/gitlsremote', '/dev/random', '/usr/local/include/freetype2/freetype/ftstroke.h', '/dev/random', '/etc/spwd.db', '/dev/kmem', '/usr/local/lib/python2.7/idlelib/changelog', '/var/run/ldelf.so.hints', '/lib/libc.so.7', '/usr/local/sbin/phpfpm', '/dev/kmem', '/etc/services', '/dev/kmem', '/usr/share/zoneinfo/posixrules', 'unknown', '/etc/libmap.conf', '/etc/pwd.db', '/dev/kmem', '/etc/pwd.db', '/etc/resolv.conf', '/dev/kmem', '/dev/random', '/etc/services', '/var/run/ldelf.so.hints', '/usr/local/share/icons/adwaita/22x22/actions/media', '/usr/local/man/man7/create_transform.7.gz', '/usr/local/libexec/gitcore/gitdifffiles', '/usr/lib/libc.so.1', '/etc/pwd.db', '/dev/kmem', '/dev/tty', '/etc/spwd.db', '/dev/kmem', '/dev/kmem', '/usr/local/include/boost/units/systems/cgs/time.hp', '/home/bob/sent', '/dev/kmem', '/usr/local/share/icons/adwaita/32x32/categories/ap', '/dev/kmem', '/etc/pwd.db', '/usr/local/lib/libmagick6.a', '/usr/local/share/locale/ja/lc_messages/subversion.', '/dev/kmem', '/tmp/.31.29ada', '/dev/hpet0', '/usr/local/include/serf1/serf.h', '/usr/lib/libypclnt.so.4', '/usr/local/share/doc/imagemagick6/images/logo.png', '/dev/kmem', '/usr/home/darpa/top_procs.txt', '/usr/local/x86_64portbldfreebsd12.0/bin/dlltool', '/usr/local/x86_64portbldfreebsd12.0/lib/ldscripts/', '/dev/kmem', '/dev/kmem', '/usr/local/bin/php', '/usr/local/lib/scons3.0.1/scons/tool/mscommon/comm', '/dev/kmem', '/dev/kmem', '/usr/local/libexec/gitcore/gitcommittree', '/dev/kmem', '/dev/kmem', '/dev/kmem', '/dev/kmem', '/dev/tty', '/dev/kmem', '/tmp/tmp.gom5mk', '/dev/random', '/dev/kmem', '/usr/local/lib/perl5/5.24/mach/auto/encode/jp/jp.s', '/dev/kmem', '/dev/kmem', '/usr/local/share/emacs/info/elisp.info.gz', '/dev/random', 'unknown', '/dev/kmem', '/dev/kmem', '/usr/local/include/boost/typeof/vector200.hpp', '/dev/tty', '/usr/local/lib/libboost_log_setup.a', '/dev/random', '/etc/services', '/usr/home/darpa/kernel_mem.txt', '/usr/local/lib/python2.7/macurl2path.pyo', '/usr/local/bin/x86_64portbldfreebsd12.0g6', '/usr/local/lib/imagemagick6.9.9/modulesq16/coders/', '/etc/pwd.db', '/usr/local/x86_64portbldfreebsd12.0/lib/ldscripts/', 'unknown', '/usr/local/share/doc/imagemagick6/images/over.gif', '/usr/local/share/icons/adwaita/16x16/emblems/emble', '/usr/local/libexec/gitcore/gitinitdb', '/usr/local/share/sgml/docbook/3.1/40issues.txt', '/dev/kmem', 'active/12bd929cd7', '/dev/kmem', '/usr/local/libexec/gitcore/gitmailinfo', '/dev/hpet0', '/etc/libmap.conf', '/etc/services', '/home/user/.bash_history', 'unknown', '/etc/opiekeys', 'unknown', '/dev/kmem', '/usr/local/lib/libboost_log.a', '/lib/libc.so.7', 'unknown', '/dev/kmem', '/etc/libmap.conf', '/usr/share/zoneinfo/posixrules', '/usr/local/lib/python3.6/html/parser.py', '/usr/local/share/icons/adwaita/32x32/emotes/emotel', '/dev/kmem', '/etc/pwd.db', '/dev/kmem', '/dev/kmem', '/dev/kmem', '/usr/local/share/doc/imagemagick6/images/patterns/', '/dev/kmem', '/usr/local/share/ghostscript/9.16/resource/cmap/un', 'unknown', '/dev/kmem', '/dev/kmem', '/etc/pwd.db', '/usr/local/share/cmake/modules/findprotobuf.cmake', '/dev/kmem', '/dev/hpet0', '/etc/spwd.db', 'unknown', '/lib/libkvm.so.7', '/usr/local/x86_64portbldfreebsd12.0/bin/as', '/etc/libmap.conf', '/usr/local/share/doc/postfix/mysql_readme.html', '/dev/random', '/usr/local/lib/python2.7/idlelib/editorwindow.pyc', 'unknown', '/lib/libc.so.7', '/var/run/ldelf.so.hints', '/usr/local/share/icons/adwaita/256x256/actions/doc', '/dev/kmem', '/etc/hosts', '/usr/local/share/locale/it/lc_messages/opcodes.mo', '/usr/local/libexec/gcc6/gcc/x86_64portbldfreebsd12', '/dev/kmem', '/usr/local/lib/libicuuc.a', '/usr/local/libexec/gitcore/gitcountobjects', 'unknown', '/dev/kmem', '/etc/spwd.db', '/dev/kmem', '/usr/local/lib/libgs.so.9.16', '/dev/kmem', '/usr/local/lib/libpkg.a', '/dev/random', 'unknown', '/dev/random', '/lib/libc.so.7', '/etc/pwd.db', '/etc/services', '/dev/random', '/etc/services', '/dev/random', '/usr/local/share/emacs/25.3/lisp/textmodes/reftexc', '/dev/kmem', '/usr/local/libexec/gcc6/gcc/x86_64portbldfreebsd12', '/var/run/ldelf.so.hints', 'unknown', '/usr/share/games/fortune/freebsdtips', '/dev/kmem', '/dev/kmem', '/home/darpa/.lsof_ta1cadets', '/etc/pwd.db', '/usr/local/lib/perl5/5.24/mach/auto/encode/tw/tw.s', '/usr/local/lib/perl5/5.24/perl/man/man3/perlostype', 'unknown', '/etc/libmap.conf', '/usr/local/share/ghostscript/9.16/resource/font/st', '/dev/random', '/etc/pwd.db', '/dev/kmem', '/etc/spwd.db', '/dev/random', '/etc/nsswitch.conf', '/var/run/ldelf.so.hints', '/usr/local/lib/python3.6/idlelib/icons/python.gif', '/usr/local/include/imagemagick6/magick/attribute.h', '/etc/services', '/usr/local/share/doc/imagemagick6/www/api/magickco', '/etc/pwd.db', '/usr/local/libexec/gitcore/gitinterprettrailers', '/usr/local/share/doc/imagemagick6/www/changelog.ht', '/usr/local/x86_64portbldfreebsd12.0/lib/ldscripts/', '/dev/kmem', '/etc/services', '/usr/local/lib/python2.7/hmac.pyo', '/dev/hpet0', '/usr/local/share/locale/el/lc_messages/sharedmimei', '/etc/pwd.db', 'unknown', '/var/run/ldelf.so.hints', '/dev/kmem', '/usr/local/libdata/pkgconfig/libjpeg.pc', '/usr/local/share/emacs/25.3/lisp/org/orgattach.elc', '/dev/kmem', 'unknown', '/usr/local/share/icu/60.2/icudt60l.dat', '/usr/local/info/bison.info', '/usr/local/include/unicode/vtzone.h', '/dev/null', '/etc/pwd.db', 'unknown', '/usr/local/include/php/zend/zend_ini.h', '/etc/motd', '/dev/kmem', '/dev/kmem', '/usr/lib/pam_unix.so.6', '/etc/pwd.db', '/usr/local/share/emacs/25.3/lisp/window.elc', '/dev/random', '/usr/local/lib/scons3.0.1/scons/compat/__init__.py', '/usr/local/x86_64portbldfreebsd12.0/lib/ldscripts/', '/dev/kmem', '/usr/local/lib/scons3.0.1/scons/variables/listvari', '/usr/local/lib/libgs.so.9.16', '/etc/libmap.conf', '/usr/local/bin/phpcgi', '/usr/share/misc/termcap.db', '/etc/hosts', '/usr/local/lib/perl5/5.24/perl/man/man3/encodekr.3', '/etc/services', '/var/run/ldelf.so.hints', '/etc/hosts', 'unknown', '/etc/nsswitch.conf', '/etc/pwd.db', '/usr/local/share/licenses/libxft2.3.2_1/catalog.mk', '/bin/mv', '/usr/local/lib/libx11.a', '/dev/kmem', '/usr/local/include/boost/chrono.hpp', '/etc/pam.d/imap', '/usr/local/lib/python2.7/idlelib/idle_test/test_ca', '/etc/resolv.conf', '/etc/libmap.conf', '/usr/local/man/man1/display.1.gz', '/dev/kmem', '/dev/kmem', '/usr/local/bin/gprof', '/dev/kmem', '/var/run/ldelf.so.hints', '/dev/kmem', '/dev/kmem', '/etc/hosts', '/etc/pwd.db', '/usr/local/include/boost/type_traits/same_traits.h', '/etc/pwd.db', 'kernel_zones.txt', '/etc/pwd.db', '/etc/hosts', '/etc/libmap.conf', '/dev/kmem', '/usr/local/share/locale/ru/lc_messages/bash.mo', '/usr/local/bin/avrogencpp', '/usr/local/bin/chartread', '/usr/local/libexec/gitcore/gitlog', '/etc/pwd.db', '/usr/local/share/locale/pl/lc_messages/gettexttool', '/usr/local/lib/python3.6/idlelib/__pycache__/autoc', '/dev/kmem', '/etc/pwd.db', '/usr/local/etc/imagemagick6/mime.xml.sample', '/dev/random', '/dev/random', '/etc/spwd.db', 'unknown', '/usr/local/lib/libcairo.a', '/usr/local/x86_64portbldfreebsd12.0/bin/as', '/lib/libc.so.7', '/usr/local/man/man3/vga_runinbackground_version.3.', '/var/run/ldelf.so.hints', '/etc/services', '/etc/spwd.db', '/dev/kmem', '/usr/local/share/icons/adwaita/24x24/status/microp', 'unknown', '/dev/hpet0', '/usr/local/lib/libicui18n.a', '/usr/local/share/icons/adwaita/24x24/status/mediap', '/dev/tty', '/usr/local/lib/libmagickcore6.so.5.0.0', '/dev/tty', '/usr/local/share/fonts/dejavu/dejavusans.ttf', '/usr/local/share/licenses/jansson2.10/mit', '/usr/local/share/icons/adwaita/16x16/actions/objec', '/dev/random', '/etc/spwd.db', '/lib/libm.so.5', '/dev/random', '/dev/kmem', '/var/run/ldelf.so.hints', '/usr/local/lib/perl5/5.24/mach/auto/time/hires/hir', '/dev/tty', '/usr/local/lib/libgs.so.9.16', '/usr/local/bin/x86_64portbldfreebsd12.0c6', '/dev/kmem', '/usr/local/share/icons/adwaita/32x32/places/usertr', '/usr/local/x86_64portbldfreebsd12.0/bin/ar', '/dev/kmem', '/usr/lib/libc.so.1', '/usr/local/libexec/gitcore/gitdifffiles', '/dev/kmem']\n",
      "['unknown', '/dev/random', '/usr/local/share/emacs/25.3/lisp/progmodes/idlwhel', '/usr/local/x86_64portbldfreebsd12.0/lib/ldscripts/', '/dev/null', '/etc/pwd.db', '/usr/local/lib/libpkg.so.4.0.0', '/usr/local/lib/python2.7/sitepackages/botocore/dat', '/usr/local/lib/libbfd.a', '/dev/kmem', '/usr/local/share/emacs/25.3/lisp/progmodes/adamode', '/dev/random', '/dev/kmem', '/usr/local/libexec/gitcore/gitcommittree', '/dev/random', '/dev/kmem', 'unknown', '/usr/local/libexec/gitcore/gitclean', '/etc/hosts', '/etc/services', '/usr/local/lib/libmagickcore6.so.5.0.0', '/usr/local/include/orbit2.0/orbit/poa/poabasics.h', '/usr/local/lib/python3.6/__pycache__/nturl2path.cp', '/usr/local/lib/python2.7/test/test_commands.pyo', '/usr/local/include/unicode/udata.h', '/etc/spwd.db', '/etc/pwd.db', '/usr/local/libexec/postfix/oqmgr', 'unknown', '/etc/spwd.db', '/dev/hpet0', '/usr/local/x86_64portbldfreebsd12.0/bin/ar', '/usr/local/libexec/gitcore/gitlog', '/usr/local/lib/libfftw3.a', '/usr/local/bin/mogrify', '/etc/pwd.db', '/dev/kmem', '/etc/pwd.db', '/usr/local/sbin/lsof', '/home/george/sent', '/var/mail/bob', '/dev/random', '/dev/random', '/etc/pwd.db', '/usr/local/lib/python2.7/encodings/gb18030.pyo', '/etc/pwd.db', '/dev/kmem', '/var/run/ldelf.so.hints', '/usr/local/share/emacs/info/org.info.gz', '/tmp/tmp.dyfrbo', '/dev/tty', '/dev/random', '/lib/libc.so.7', '/usr/local/lib/python2.7/idlelib/idle_test/test_ed', '/dev/random', '/usr/local/lib/libraw_r.a', '/dev/kmem', '/usr/share/zoneinfo/utc', '/usr/local/share/emacs/25.3/lisp/url/urldav.elc', '/etc/pwd.db', '/etc/pwd.db', '/var/run/ldelf.so.hints', '/usr/local/lib/libgs.so.9.16', '/dev/random', '/etc/spwd.db', '/usr/local/libexec/gitcore/gitinterprettrailers', '/dev/null', '/var/run/ldelf.so.hints', '/dev/random', '/usr/local/bin/cpack', '/etc/services', '/dev/kmem', '/dev/kmem', '/etc/services', '/dev/kmem', '/usr/local/share/emacs/25.3/lisp/vc/vcgit.elc', '/dev/kmem', '/dev/kmem', '/usr/local/share/doc/imagemagick6/www/api/magickco', '/etc/services', '/usr/local/share/icons/adwaita/32x32/emblems/emble', 'unknown', '/var/run/ldelf.so.hints', '/dev/random', '/dev/kmem', 'unknown', '/dev/kmem', '/etc/spwd.db', 'unknown', '/usr/local/share/sgml/docbook/3.1/31chg.txt', '/dev/random', '/usr/local/lib/python2.7/test/decimaltestdata/ddco', '/usr/local/lib/libfftw3.a', '/dev/random', '/dev/kmem', '/usr/local/share/emacs/25.3/src/syntax.c', '/usr/local/lib/libicuuc.a', '/dev/random', '/dev/kmem', '/dev/tty', '/usr/lib/libmemstat.so.3', '/usr/local/lib/perl5/5.24/mach/compress/raw/bzip2.', '/dev/kmem', '/usr/local/share/locale/zh_tw/lc_messages/glib20.m', '/usr/local/include/boost/units/base_units/angle/re', '/var/run/ldelf.so.hints', '/dev/kmem', '/usr/local/lib/libjasper.a', '/dev/kmem', '/etc/spwd.db', '/usr/local/bin/addr2line', '/dev/kmem', '/usr/local/lib/libpython3.6m.so.1.0', '/usr/local/libexec/gitcore/gitcherry', '/dev/kmem', '/usr/local/share/vim/vim80/keymap/russianjcukenwin', '/usr/local/libexec/gcc6/gcc/x86_64portbldfreebsd12', '/usr/local/lib/python3.6/http/__pycache__/client.c', '/lib/libc.so.7', '/usr/local/lib/libicui18n.so.60.2', '/dev/kmem', '/dev/kmem', '/etc/pam.d/imap', '/etc/pwd.db', 'top_procs.txt', '/usr/local/lib/perl5/5.24/pod/perlmodinstall.pod', '/etc/hosts', '/usr/local/bin/ar', '/dev/kmem', '/usr/local/share/icons/adwaita/cursors/ur_angle', '/dev/kmem', '/etc/nsswitch.conf', '/usr/local/lib/python2.7/distutils/tests/test_uplo', 'unknown', '/usr/local/lib/libtiff.a', '/var/run/ldelf.so.hints', '/usr/local/bin/colverify', '/usr/local/libexec/gitcore/gitinitdb', '/usr/local/bin/gprof', '/dev/kmem', 'unknown', '/dev/random', '/usr/local/share/emacs/25.3/src/w16select.c', '/dev/random', '/usr/lib/libgssapi_spnego.so.10', '/usr/local/lib/libavrocpp_s.a', '/usr/local/include/boost/mpl/aux_/preprocessed/no_', '/dev/kmem', '/etc/pwd.db', 'none', '/usr/local/x86_64portbldfreebsd12.0/lib/ldscripts/', '/lib/libelf.so.2', '/dev/random', '/etc/pwd.db', 'unknown', '/dev/kmem', '/etc/hosts', '/dev/kmem', '/etc/spwd.db', '/etc/pwd.db', '/etc/services', '/usr/local/lib/libcairo.a', '/usr/local/libexec/gitcore/gitcountobjects', '/dev/random', '/dev/kmem', 'unknown', '/dev/kmem', '/etc/pwd.db', '/usr/local/lib/python2.7/test/test_codecmaps_hk.py', '/usr/local/lib/python2.7/idlelib/iobinding.py', '/usr/local/man/man3/xstandardcolormap.3.gz', '/dev/hpet0', '/usr/local/lib/libgnutls.so.30.14.9', '/usr/local/bin/cmake', '/lib/libutil.so.9', '/etc/hosts', '/etc/libmap.conf', '/usr/local/info/gnutls.info', '/usr/local/share/emacs/25.3/lisp/progmodes/js.el.g', '/usr/local/share/java/zi/indian/reunion', '/usr/local/share/cmake/modules/cmakefindkdevelop3.', '/dev/kmem', 'unknown', '/usr/local/share/locale/de/lc_messages/libpq59.5.m', 'unknown', '/usr/local/include/js17.0/jswrapper.h', '/usr/local/include/boost/type_traits/is_empty.hpp', '/dev/kmem', '/dev/kmem', '/dev/random', '/dev/random', '/dev/kmem', '/usr/local/x86_64portbldfreebsd12.0/lib/ldscripts/', '/usr/local/lib/python2.7/encodings/iso2022_jp_1.py', '/usr/share/zoneinfo/utc', '/var/run/ldelf.so.hints', '/dev/kmem', '/usr/local/include/boost/typeof/unsupported.hpp', '/dev/kmem', '/etc/pwd.db', '/usr/local/libexec/gcc6/gcc/x86_64portbldfreebsd12', '/var/run/ldelf.so.hints', '/usr/local/share/locale/sv/lc_messages/subversion.', '/usr/local/share/icons/adwaita/22x22/places/userde', '/usr/local/share/ghostscript/9.16/resource/cidfsub', '/usr/local/lib/libavrocpp_s.a', '/dev/kmem', 'unknown', '/dev/kmem', '/etc/hosts', '/usr/local/include/boost/vmd/detail/data_equal.hpp', '/etc/spwd.db', '/etc/spwd.db', '/etc/login.conf', '/usr/local/x86_64portbldfreebsd12.0/lib/ldscripts/', '/tmp/tmp.cnyvu6', '/usr/local/man/man3/gnutls_pkcs7_attrs_deinit.3.gz', '/etc/services', 'unknown', '/etc/pwd.db', '/lib/libc.so.7', '/dev/kmem', '/var/run/ldelf.so.hints', '/dev/hpet0', '/usr/local/share/doc/db5/api_reference/c/dbsite_se', '/etc/services', '/dev/kmem', '/usr/local/share/emacs/25.3/src/xselect.c', '/dev/kmem', '/usr/local/lib/perl5/5.24/perl/man/man3/extutilsco', '/usr/local/share/autoconf2.69/missing', '/etc/pwd.db', '/usr/share/zoneinfo/posixrules', '/etc/pwd.db', '/usr/local/etc/postfix/virtual.db', 'unknown', '/dev/kmem', '/usr/local/lib/libcairo.a', '/usr/local/bin/ccxxmake', '/usr/local/share/doc/imagemagick6/www/api/magickco', '/dev/random', '/dev/kmem', '/dev/kmem', '/dev/kmem', '/var/run/ldelf.so.hints', '/dev/kmem', 'unknown', '/dev/kmem', '/data/gather_stats_uma.txt', '/dev/kmem', '/usr/local/share/icons/adwaita/256x256/apps/webbro', '/usr/local/share/emacs/25.3/lisp/org/obtable.el.gz', '/dev/random', '/var/run/ldelf.so.hints', '/dev/random', '/dev/kmem', '/dev/random', '/usr/local/lib/python3.6/__pycache__/pty.cpython36', '/dev/kmem', 'unknown', '/usr/local/include/imagemagick6/wand/mogrify.h', '/etc/hosts', '/dev/kmem', 'unknown', '/usr/local/lib/python2.7/unittest/test/support.pyo', '/etc/pwd.db', '/dev/random', 'local.sqlite', '/usr/local/lib/libicutu.so.60.2', '/usr/local/openjdk8/jre/lib/rt.jar', 'unknown', '/dev/hpet0', 'unknown', '/usr/local/bin/cpp6', '/dev/kmem', '/usr/local/lib/python2.7/idlelib/__init__.pyo', '/etc/services', '/etc/hosts', '/dev/kmem', '/dev/kmem', '/dev/kmem', '/usr/local/include/ghostscript/iapi.h', '/usr/local/share/doc/imagemagick6/www/miff.html', '/dev/kmem', '/usr/local/lib/postfix/libpostfixmaster.so', '/usr/local/lib/python2.7/urllib2.pyo', '/dev/random', '/etc/pwd.db', '/usr/local/openjdk8/jre/lib/rt.jar', '/usr/local/include/imagemagick6/magick/utility.h', '/usr/local/include/cairo/cairoscriptinterpreter.h', '/usr/local/lib/python2.7/test/test_readline.pyc', 'unknown', '/lib/libutil.so.9', '/dev/kmem', '/usr/local/lib/libgs.so.9.16', '/usr/local/x86_64portbldfreebsd12.0/lib/ldscripts/', 'unknown', '/dev/kmem', '/dev/kmem', '/etc/login.conf', '/dev/kmem', '/etc/libmap.conf', '/etc/libmap.conf', '/etc/pwd.db', '/dev/kmem', '/usr/local/lib/python2.7/unittest/case.pyo', '/usr/local/x86_64portbldfreebsd12.0/lib/ldscripts/', '/usr/local/lib/scons3.0.1/scons/tool/mssdk.pyc', '/dev/random', '/dev/kmem', '/lib/libxo.so.0', '/dev/kmem', '/etc/nsswitch.conf', '/dev/kmem', '/usr/local/lib/libboost_log_setup.so.1.66.0', 'unknown', 'unknown', '/usr/local/bin/colprof', '/etc/pwd.db', '/usr/local/lib/python2.7/fractions.py', '/usr/local/lib/python2.7/encodings/gbk.pyo', '/dev/hpet0', '/dev/random', '/usr/local/share/icons/adwaita/16x16/apps/preferen', '/usr/local/include/unicode/putil.h', '/etc/services', '/dev/kmem', '/lib/libdevstat.so.7', '/dev/kmem', '/dev/kmem', '/etc/services', '/var/run/ldelf.so.hints', '/usr/local/libexec/gitcore/gitcredentialcache', '/dev/random', '/etc/libmap.conf', 'unknown', '/usr/local/share/emacs/25.3/lisp/progmodes/idlwcom', 'unknown', '/dev/kmem', '/etc/services', '/dev/random', '/var/mail/bob', '/usr/bin/vmstat', '/usr/local/include/alsa/error.h', '/etc/newsyslog.conf.d/ftp.conf', '/dev/random', '/dev/kmem', '/usr/local/share/doc/imagemagick6/www/api/enhance.', '/usr/local/lib/libbfd.a', '/usr/local/lib/libraw_r.a', '/usr/share/zoneinfo/posixrules', '/etc/pwd.db', '/etc/hosts', '/dev/kmem', '/usr/local/man/man3/xiungrabtouchbegin.3.gz', '/var/run/ldelf.so.hints', '/dev/kmem', '/usr/local/share/fonts/encodings/large/gb2312.1980', '/usr/local/man/man3/displayofscreen.3.gz', '/etc/resolv.conf', '/usr/local/libexec/gitcore/gitconfig', '/lib/libc.so.7', '/usr/local/share/ghostscript/9.16/resource/font/pa', '/usr/local/libexec/sudo/system_group.so', '/usr/local/share/emacs/25.3/src/w32term.h', '/etc/services', '/usr/local/share/sgml/docbook/4.2/changelog', '/usr/local/share/ghostscript/9.16/doc/history7.htm', 'unknown', '/etc/libmap.conf', '/etc/services', '/dev/kmem', '/usr/local/include/apr1/apr_dbd.h', '/usr/local/man/man7/comment.7.gz', '/etc/libmap.conf', '/dev/random', '/usr/local/lib/python2.7/test/test_compileall.pyo', '/etc/services', '/usr/local/share/icons/adwaita/256x256/status/netw', '/dev/kmem', '/dev/kmem', '/usr/local/include/boost/type_traits/has_new_opera', 'unknown', '/usr/local/lib/perl5/5.24/mach/core/charclass_invl', '/etc/hosts', '/dev/random', 'unknown', '/usr/local/bin/colverify', 'unknown', '/var/run/ldelf.so.hints', '/etc/aliases.db', '/usr/local/bin/vim', 'unknown', '/usr/local/share/java/zi/asia/baku', '/usr/local/etc/postfix/main.cf', '/dev/kmem', '/usr/local/lib/python2.7/test/test_bytes.pyo', '/etc/libmap.conf', '/dev/kmem', '/etc/pwd.db', '/dev/kmem', '/dev/hpet0', '/usr/local/bin/ps2pdf12', '/dev/kmem', '/etc/pwd.db', 'unknown', '/usr/home/darpa/kernel_mem.txt', '/etc/spwd.db', '/usr/local/share/locale/fr/lc_messages/gas.mo', '/dev/kmem', '/var/run/ldelf.so.hints', '/etc/libmap.conf', '/usr/local/share/icons/adwaita/32x32/devices/audio', '/dev/kmem', '/usr/local/share/locale/zh_cn/lc_messages/glib20.m', '/usr/local/share/cmake/modules/checkincludefilecxx', '/home/darpa/.lsof_ta1cadets', '/dev/random', '/usr/local/share/doc/postfix/linux_readme.html', '/usr/local/share/ghostscript/9.16/resource/font/ni', '/usr/local/libexec/gitcore/gitdifftree', '/etc/spwd.db', '/bin/sleep', '/dev/kmem', '/etc/pwd.db', '/dev/kmem', '/dev/kmem', '/var/run/ldelf.so.hints', '/usr/local/share/doc/alpine/technotes/technotes.tx', '/etc/pwd.db', '/usr/local/lib/perl5/5.24/perl/man/man3/thread.3.g', '/usr/local/lib/libbfd.a', '/etc/spwd.db', '/dev/kmem', '/dev/kmem', '/usr/local/lib/libmagickwand6.a', '/dev/random', '/dev/random', '/usr/local/share/postgresql/timezone/africa/windho', '/usr/local/lib/python3.6/ensurepip/_bundled/pip9.0', '/usr/local/share/icons/adwaita/24x24/actions/views', '/home/charles/sent', '/etc/hosts', '/dev/kmem', '/etc/services', '/dev/kmem', '/usr/local/etc/fonts/conf.avail/50user.conf', '/etc/hosts', '/usr/local/include/db5/db_cxx.h', '/dev/kmem', 'unknown', 'unknown', '/data/gather_stats_uma.txt', '/dev/random', '/usr/local/x86_64portbldfreebsd12.0/lib/ldscripts/', '/var/run/ldelf.so.hints', '/dev/random', '/usr/local/lib/python2.7/test/test_anydbm.pyo', '/etc/pwd.db', '/etc/libmap.conf', '/usr/local/bin/gprof', '/usr/local/share/xml/sdocbook/1.1/dtd/sdbcent.mod', '/usr/local/sbin/lsof', '/usr/local/bin/avrogencpp', '/usr/local/share/cmake/modules/platform/linuxxlc.c', '/usr/local/bin/php', '/usr/local/lib/libphp5.so', '/usr/local/lib/python2.7/pydoc_data/topics.py', '/usr/local/share/doc/imagemagick6/www/api/magickco', '/etc/hosts', '/etc/services', '/usr/local/bin/colverify', '/bin/sleep', '/usr/local/lib/libgs.so.9.16', '/dev/kmem', '/usr/local/etc/cclient.cf', '/dev/kmem', '/dev/random', '/dev/hpet0', '/etc/pwd.db', '/dev/kmem', '/dev/kmem', '/etc/group', '/dev/kmem', '/usr/local/bin/gprof', '/etc/spwd.db', '/usr/share/zoneinfo/posixrules', '/usr/local/bin/bash', '/usr/local/lib/libgs.so.9.16', '/dev/kmem', '/usr/local/share/emacs/25.3/lisp/org/org.elc', '/usr/local/libexec/gitcore/gitdiff', '/dev/kmem', '/home/bob', '/var/run/ldelf.so.hints', '/usr/local/lib/python2.7/sitepackages/botocore/dat', '/usr/local/share/emacs/25.3/src/xmenu.c', '/usr/local/x86_64portbldfreebsd12.0/lib/ldscripts/', '/usr/local/libexec/postfix/dynamicmaps.cf.d', '/etc/pwd.db', 'unknown', '/dev/kmem', '/etc/pwd.db', '/dev/random', '/usr/local/bin/bash', '/etc/libmap.conf', '/usr/local/share/alsa/ucm/sdp4430/voice', '/dev/kmem', '/dev/kmem', '/dev/kmem', '/etc/pwd.db']\n"
     ]
    },
    {
     "name": "stdout",
     "output_type": "stream",
     "text": [
      "['/etc/services', '/dev/kmem', '/etc/spwd.db', '/dev/tty', '/usr/local/share/doc/imagemagick6/www/api/magickwa', 'unknown', '/usr/local/include/boost/typeof/vector50.hpp', '/dev/kmem', '/usr/local/share/doc/libiconv/iconv_open.3.html', '/usr/local/libexec/gitcore/gitcheckoutindex', '/usr/local/share/fonts/dejavu/dejavuserifitalic.tt', '/usr/local/share/locale/fr/lc_messages/subversion.', '/etc/pwd.db', '/var/spool/postfix/maildrop', '/lib/libncursesw.so.8', '/usr/local/libexec/gitcore/gitdiff', '/etc/resolv.conf', '/usr/local/man/man7/alter_conversion.7.gz', '/usr/local/lib/libgs.so.9.16', '/dev/random', 'unknown', '/dev/kmem', '/usr/local/share/doc/imagemagick6/www/api/magickwa', '/lib/libncursesw.so.8', '/usr/local/share/icons/adwaita/24x24/actions/edits', '/etc/spwd.db', '/dev/kmem', '/usr/local/x86_64portbldfreebsd12.0/bin/ar', '/dev/kmem', '/usr/local/lib/python2.7/multiprocessing/dummy/con', '/etc/services', '/dev/random', '/usr/local/libexec/gitcore/gitclone', '/dev/random', 'unknown', '/usr/local/lib/perl5/5.24/pod/perl5163delta.pod', '/bin/date', '/dev/kmem', '/dev/random', '/etc/pwd.db', '/etc/nsswitch.conf', '/etc/pwd.db', '/usr/local/lib/python2.7/encodings/iso8859_1.pyc', '/etc/libmap.conf', '/etc/libmap.conf', '/usr/local/share/emacs/25.3/lisp/progmodes/ebnf2ps', '/usr/local/share/fonts/otf/syrcomjerusalemitalic.o', '/var/run/ldelf.so.hints', '/usr/local/share/emacs/25.3/lisp/url/urlfuture.elc', '/dev/kmem', '/usr/local/bin/gnutlscli', '/etc/pwd.db', '/usr/share/zoneinfo/utc', '/usr/local/share/locale/zh_cn/lc_messages/postgres', '/dev/kmem', '/dev/random', '/usr/local/etc/php.inidevelopment', '/etc/pwd.db', '/dev/kmem', '/etc/pam.d/sshd', '/lib/libc.so.7', '/dev/kmem', '/usr/local/lib/scons3.0.1/scons/tool/ipkg.py', '/dev/kmem', '/usr/local/bin/phpcgi', '/usr/local/share/emacs/25.3/lisp/play/cookie1.elc', '/usr/local/x86_64portbldfreebsd12.0/lib/ldscripts/', '/dev/kmem', '/var/run/ldelf.so.hints', 'unknown', '/usr/local/lib/libicuuc.a', '/usr/local/x86_64portbldfreebsd12.0/lib/ldscripts/', '/etc/pwd.db', '/dev/kmem', '/dev/kmem', '/dev/kmem', '/usr/bin/vmstat', '/dev/kmem', '/usr/local/share/icons/adwaita/256x256/status/trop', '/dev/hpet0', 'unknown', '/dev/tty', '/dev/random', '/lib/libelf.so.2', '/dev/kmem', '/usr/local/x86_64portbldfreebsd12.0/lib/ldscripts/', '/usr/local/lib/python3.6/ensurepip/_bundled/setupt', '/etc/hosts', '/usr/local/share/icons/adwaita/24x24/apps/preferen', '/dev/kmem', '/dev/kmem', 'local.sqlite', '/var/mail/bob.lock.1523306992.70046.ta1cadets', '/usr/lib/pam_permit.so.6', '/usr/local/lib/scons3.0.1/scons/tool/fortran.pyo', '/dev/kmem', '/usr/local/bin/db5/db_archive', 'unknown', 'unknown', '/etc/pwd.db', '/usr/local/bin/gprof', '/etc/services', '/etc/pwd.db', '/usr/local/include/boost/xpressive/detail/static/p', '/etc/services', 'top_procs.txt', '/usr/local/lib/python2.7/sitepackages/botocore/dat', '/usr/local/man/man3/gnutls_psk_free_server_credent', '/dev/kmem', 'unknown', '/dev/kmem', '/etc/spwd.db', '/usr/local/share/alsa/ucm/paz00/record.conf', '/usr/local/lib/python3.6/__pycache__/pstats.cpytho', '/etc/services', '/etc/pwd.db', '/dev/kmem', 'unknown', '/dev/kmem', '/dev/kmem', '/etc/pwd.db', '/var/run/ldelf.so.hints', '/dev/kmem', '/usr/local/share/icons/adwaita/24x24/categories/sy', 'unknown', '/usr/local/share/icons/adwaita/scalable/actions/vi', '/usr/local/lib/libboost_log_setup.a', '/dev/random', '/usr/local/share/fonts/otf/syrcomjerusalemoutline.', '/usr/local/include/boost/circular_buffer.hpp', '/usr/local/lib/imagemagick6.9.9/modulesq16/coders/', '/lib/libelf.so.2', '/usr/local/bin/php', '/usr/local/lib/perl5/5.24/pod/perlbook.pod', '/etc/libmap.conf', '/usr/local/share/icons/adwaita/16x16/apps/preferen', '/usr/local/bin/gcovtool6', '/usr/local/libexec/postfix/dynamicmaps.cf', '/usr/local/openjdk8/lib/tools.jar', '/etc/services', '/lib/libdevstat.so.7', '/dev/tty', '/usr/local/bin/php', '/usr/local/libexec/gitcore/gitinterprettrailers', '/dev/kmem', '/dev/kmem', '/usr/bin/top', '/dev/random', '/etc/services', '/usr/local/share/emacs/25.3/lisp/org/obemacslisp.e', '/usr/local/share/xml/docbook/5.0/rng/docbookxi.rnc', '/dev/random', '/usr/local/lib/perl5/5.24/perl/man/man3/listutil.3', '/etc/spwd.db', '/usr/bin/top', '/var/mail/frank.lock.1523472962.9147.ta1cadets', '/dev/kmem', '/usr/local/share/java/zi/america/santo_domingo', '/dev/random', '/lib/libdevstat.so.7', 'unknown', '/dev/random', '/etc/spwd.db', '/usr/local/share/icons/adwaita/cursors/watch', '/bin/mv', '/etc/spwd.db', '/usr/local/bin/ccxxmake', 'unknown', '/etc/group', 'unknown', '/etc/hosts', '/usr/local/libexec/gitcore/gitcredentialcache', '/dev/kmem', '/usr/local/man/man7/drop_policy.7.gz', '/dev/kmem', '/bin/sleep', '/etc/services', '/dev/kmem', '/usr/local/lib/python3.6/ensurepip/_bundled/setupt', '/usr/local/share/emacs/25.3/lisp/progmodes/vhdlmod', '/usr/local/share/cmake/modules/findquicktime.cmake', '/usr/local/lib/libicudata.so.60', '/dev/kmem', '/usr/local/lib/python2.7/test/cjkencodings/shift_j', '/usr/local/share/vim/vim80/lang/en_gb/lc_messages/', '/usr/local/share/icons/adwaita/scalable/actions/in', '/usr/local/share/icons/adwaita/22x22/emotes/facean', '/lib/libelf.so.2', '/usr/local/libexec/gitcore/gitmerge', '/dev/kmem', 'unknown', '/etc/pwd.db', 'unknown', '/usr/local/man/man3/idna_to_unicode_8zlz.3.gz', '/usr/local/lib/imagemagick6.9.9/modulesq16/coders/', '/usr/local/bin/applycal', 'unknown', '/etc/login.conf', '/dev/kmem', '/usr/local/bin/addr2line', '/etc/services', '/home/darpa/.lsof_ta1cadets', '/dev/hpet0', '/usr/local/share/fonts/dejavu/dejavusanscondensedb', '/usr/local/lib/libavrocpp_s.a', '/lib/libc.so.7', '/etc/pwd.db', '/etc/login.conf', '/dev/null', '/etc/libmap.conf', '/usr/local/x86_64portbldfreebsd12.0/lib/ldscripts/', '/etc/services', '/usr/local/share/locale/sl/lc_messages/gtk30.mo', '/lib/libkvm.so.7', '/var/run/ldelf.so.hints', '/var/run/ldelf.so.hints', '/etc/hosts', 'unknown', '/etc/pwd.db', '/usr/local/lib/libgs.so.9.16', '/usr/bin/head', '/home/darpa/.lsof_ta1cadets', '/dev/kmem', '/dev/kmem', 'unknown', '/usr/local/include/boost/typeof/message.hpp', '/etc/hosts', '/usr/local/x86_64portbldfreebsd12.0/bin/dlltool', '/usr/bin/head', '/dev/random', '/dev/kmem', '/usr/local/bin/addr2line', '/usr/bin/top', '/usr/local/x86_64portbldfreebsd12.0/lib/ldscripts/', '/dev/random', '/dev/kmem', 'unknown', '/usr/local/share/icons/adwaita/256x256/status/user', 'unknown', '/usr/bin/vmstat', '/dev/kmem', '/var/spool/postfix/active/1871729d05', '/usr/local/lib/libgs.so.9.16', '/usr/local/lib/libboost_log_setup.so.1.66.0', '/var/run/ldelf.so.hints', '/dev/kmem', '/usr/local/share/examples/flex/manual/eof_test01.t', '/etc/pwd.db', '/dev/tty', '/dev/kmem', '/etc/pam.d/other', '/etc/pwd.db', '/usr/local/bin/gmake', '/dev/kmem', '/bin/sleep', '/usr/local/man/man3/xcb_input_change_device_contro', '/etc/services', '/dev/random', '/usr/local/lib/libicui18n.a', '/usr/local/man/man3/gnutls_pcert_list_import_x509_', '/etc/libmap.conf', '/dev/random', '/dev/kmem', '/etc/login.conf', '/dev/tty', '/var/at/jobs/.', 'unknown', '/etc/libmap.conf', '/usr/local/share/cmake/modules/findmpi.cmake', '/usr/local/man/man3/zmq_errno.3.gz', '/dev/kmem', '/lib/libncurses.so.8', '/etc/services', '/etc/pwd.db', '/usr/local/share/ghostscript/9.16/resource/cidfsub', '/usr/local/lib/libfftw3.so.3.5.7', '/etc/login.conf', '/dev/kmem', 'unknown', '/dev/kmem', '/usr/local/lib/imagemagick6.9.9/modulesq16/coders/', '/dev/random', '/usr/local/libexec/gitcore/gitlsremote', '/usr/local/share/ghostscript/9.16/doc/history9.htm', '/usr/local/libexec/gitcore/gitdiff', '/usr/local/share/texinfo/lib/textunidecode/lib/tex', '/dev/kmem', '/dev/random', '/usr/local/share/emacs/25.3/src/frame.c', '/etc/spwd.db', '/dev/random', '/dev/hpet0', '/usr/local/share/emacs/25.3/lisp/term/nswin.elc', '/dev/kmem', '/usr/local/lib/python2.7/test/capath/ce7b8643.0', '/usr/local/libexec/gitcore/gitdifftool', '/usr/local/bin/gprof', '/usr/local/share/emacs/25.3/lisp/url/urlvars.elc', '/dev/kmem', '/dev/kmem', '/dev/kmem', '/dev/kmem', '/usr/local/share/locale/nb/lc_messages/bash.mo', '/usr/local/lib/python2.7/test/test_builtin.pyc', '/usr/local/libexec/gcc6/gcc/x86_64portbldfreebsd12', '/dev/hpet0', '/etc/pwd.db', '/usr/local/share/doc/imagemagick6/www/api/magickco', '/etc/pwd.db', '/dev/kmem', '/etc/pwd.db', '/usr/local/lib/python2.7/encodings/palmos.pyc', '/dev/random', '/etc/hosts', '/usr/local/share/icons/adwaita/cursors/watch', '/etc/spwd.db', '/dev/random', '/usr/local/include/python3.6m/pymacro.h', '/dev/kmem', '/dev/kmem', '/dev/kmem', '/dev/kmem', '/dev/random', '/etc/pwd.db', '/usr/local/share/fonts/dejavu/dejavuserifbolditali', '/usr/local/x86_64portbldfreebsd12.0/lib/ldscripts/', '/usr/local/include/boost/vmd/detail/recurse/equal/', '/var/mail/george.lock.1523231674.52316.ta1cadets', '/usr/lib/libmemstat.so.3', '/usr/local/bin/ccxxmake', '/dev/kmem', '/var/run/ldelf.so.hints', '/dev/tty', '/var/run/ldelf.so.hints', '/dev/kmem', '/dev/kmem', '/etc/libmap.conf', '/usr/local/lib/python2.7/test/support/__init__.pyo', '/usr/local/lib/libavrocpp_s.a', 'unknown', '/dev/kmem', '/usr/local/share/fonts/dejavu/dejavusanscondensed.', '/etc/defaults/rc.conf', '/etc/libmap.conf', '/etc/pwd.db', '/lib/libdevstat.so.7', '/dev/kmem', '/dev/random', '/usr/local/lib/libboost_date_time.so.1.66.0', '/dev/kmem', '/usr/local/x86_64portbldfreebsd12.0/lib/ldscripts/', '/etc/pwd.db', '/etc/pwd.db', '/usr/local/share/doc/libxaw/textactions.xml', '/var/run/ldelf.so.hints', '/usr/local/share/ghostscript/9.16/resource/cmap/un', '/usr/local/x86_64portbldfreebsd12.0/lib/ldscripts/', '/etc/spwd.db', '/dev/kmem', '/etc/resolv.conf', 'kernel_mem.txt', '/usr/local/share/emacs/25.3/src/regex.c', '/usr/local/share/doc/ruby24/forwardable.rd.ja', '/etc/pwd.db', '/etc/spwd.db', '/var/run/ldelf.so.hints', '/dev/kmem', '/lib/libc.so.7', '/usr/local/include/boost/xpressive/regex_traits.hp', '/dev/random', '/usr/local/share/emacs/25.3/lisp/org/orgcapture.el', '/usr/local/lib/python2.7/logging/config.pyo', '/usr/local/include/boost/callable_traits/args.hpp', '/usr/local/libexec/gitcore/gitlsremote', '/etc/pwd.db', '/dev/kmem', '/usr/local/lib/python2.7/urllib.pyo', '/usr/bin/vmstat', '/dev/kmem', 'savedentropy.1', '/dev/kmem', '/usr/local/lib/python2.7/sitepackages/botocore/dat', '/dev/random', '/bin/date', '/etc/spwd.db', '/dev/kmem', '/var/run/ldelf.so.hints', '/dev/kmem', '/usr/local/openjdk8/jre/lib/rt.jar', '/dev/kmem', '/dev/mem', '/usr/local/lib/python2.7/libdynload/_csv.so', '/etc/spwd.db', '/var/run/ldelf.so.hints', '/home/frank/sent', '/dev/kmem', '/usr/local/share/emacs/25.3/lisp/term/lk201.elc', '/usr/local/share/doc/imagemagick6/www/api/magickwa', '/usr/local/bin/imgcmp', '/usr/local/bin/addr2line', '/etc/hosts', '/dev/tty', '/lib/libkvm.so.7', '/usr/local/bin/gfortran6', '/home/darpa/.lsof_ta1cadets', '/etc/spwd.db', '/usr/local/lib/libavrocpp_s.a', '/usr/local/share/texinfo/lib/textunidecode/lib/tex', '/var/run/ldelf.so.hints', '/usr/local/share/locale/da/lc_messages/sudoers.mo', '/etc/group', '/lib/libelf.so.2', '/usr/local/lib/libicuuc.a', '/usr/local/share/doc/postfix/postalias.1.html', '/dev/random', '/var/run/ldelf.so.hints', 'unknown', '/usr/local/lib/python2.7/inspect.pyo', '/usr/local/lib/perl5/5.24/pod/perlguts.pod', '/usr/local/share/icu/60.2/icudt60l.dat', 'unknown', '/etc/services', '/dev/kmem', '/usr/local/include/cairo/cairo.h', 'unknown', '/usr/local/share/locale/ru/lc_messages/pg_rewind9.', '/dev/kmem', '/etc/libmap.conf', '/dev/kmem', '/dev/kmem', 'unknown', '/home/frank/.mailboxlist', '/etc/pwd.db', '/dev/random', '/etc/pwd.db', '/usr/share/zoneinfo/posixrules', '/var/run/ldelf.so.hints', '/etc/pwd.db', '/etc/services', '/etc/spwd.db', '/usr/local/libexec/gitcore/gitdiffindex', '/usr/local/lib/libgs.so.9.16', '/dev/random', '/dev/kmem', '/usr/local/share/locale/sr/lc_messages/sharedmimei', '/dev/kmem', '/usr/local/openjdk8/jre/lib/rt.jar', '/usr/local/share/ghostscript/9.16/resource/font/ni', '/etc/hosts', '/dev/random', '/etc/services', '/usr/local/bin/gjavah6', '/usr/bin/top', '/usr/local/include/boost/chrono/config.hpp', '/etc/pwd.db', 'unknown', '/usr/local/share/doc/libiconv/iconv_open.3.html', '/etc/hosts', '/usr/local/share/icons/adwaita/256x256/status/batt', '/dev/tty', '/usr/local/lib/python2.7/sitepackages/babel/locale', '/etc/pwd.db', '/usr/local/lib/postfix/libpostfixglobal.so', '/etc/services', 'unknown', '/etc/services', 'unknown', '/dev/kmem', '/dev/kmem', '/etc/pwd.db', '/lib/libc.so.7', 'unknown', '/dev/kmem', 'unknown', '/dev/kmem', '/dev/kmem', '/usr/local/share/cmake/modules/findcuda/select_com', '/usr/local/lib/python2.7/sitepackages/botocore/dat', '/dev/kmem', '/usr/local/x86_64portbldfreebsd12.0/lib/ldscripts/', '/var/run/ldelf.so.hints', '/lib/libc.so.7', '/usr/share/zoneinfo/utc', '/usr/local/share/emacs/25.3/lisp/org/ox.elc', '/etc/spwd.db', '/lib/libelf.so.2', '/dev/kmem', '/usr/local/lib/perl5/5.24/mach/auto/encode/tw/tw.s', '/usr/local/man/man3/archive_write_data.3.gz', '/etc/hosts', '/dev/kmem', '/dev/kmem', '/usr/local/share/emacs/25.3/lisp/progmodes/ccguess', '/dev/random', '/usr/local/etc/postfix/main.cf', '/var/run/ldelf.so.hints', '/etc/group', '/etc/spwd.db', '/dev/kmem', '/lib/libc.so.7', '/home/darpa/.lsof_ta1cadets', '/usr/local/share/gtkdoc/html/harfbuzz/apiindexfull', '/etc/spwd.db', '/usr/local/lib/libgs.so.9.16', '/etc/spwd.db', '/usr/share/zoneinfo/utc', '/etc/pwd.db', '/dev/random', '/etc/pwd.db', '/usr/local/lib/libphp5.so', '/var/run/ldelf.so.hints', '/etc/spwd.db']\n",
      "['/var/mail/frank.lock.1522914075.48912.ta1cadets', '/usr/local/lib/libboost_log.a', '/var/run/ldelf.so.hints', '/dev/kmem', '/usr/local/lib/libzmq.a', '/etc/hosts', '/usr/local/x86_64portbldfreebsd12.0/bin/dlltool', 'unknown', '/usr/local/lib/perl5/5.24/perl/man/man1/perltodo.1', '/etc/spwd.db', '/usr/local/lib/python3.6/__pycache__/optparse.cpyt', '/etc/pwd.db', '/etc/pwd.db', '/usr/local/share/icu/60.2/license', '/usr/local/x86_64portbldfreebsd12.0/lib/ldscripts/', '/etc/hosts', '/usr/local/include/boost/typeof/vector150.hpp', '/dev/kmem', '/data/gather_stats_uma.txt', '/dev/kmem', '/usr/local/sbin/phpfpm', '/dev/kmem', '/usr/local/share/doc/imagemagick6/www/api/magickco', '/dev/random', '/dev/kmem', '/usr/local/share/doc/imagemagick6/www/magick/stl.h', '/lib/libc.so.7', '/usr/local/share/alsa/topology/sklrt286/codec0_out', '/bin/sleep', '/dev/random', '/usr/local/share/ghostscript/9.16/resource/cidfsub', 'unknown', '/usr/local/bin/colprof', '/usr/local/share/ghostscript/9.16/doc/deprecated.h', '/dev/kmem', '/dev/kmem', '/dev/kmem', '/usr/local/lib/python2.7/test/badsyntax_future3.py', '/dev/random', '/var/run/ldelf.so.hints', '/usr/local/etc/postfix/main.cf', '/home/charles/sent.lock', '/usr/local/include/boost/chrono/time_point.hpp', '/usr/local/libexec/gitcore/gitlstree', '/var/run/ldelf.so.hints', '/dev/kmem', '/usr/local/share/sgml/docbook/4.3/dbpoolx.mod', '/dev/kmem', '/usr/bin/uptime', '/dev/kmem', '/dev/kmem', 'unknown', '/etc/pwd.db', '/dev/kmem', '/dev/kmem', '/dev/kmem', '/etc/spwd.db', '/dev/kmem', 'unknown', '/lib/libz.so.6', '/dev/kmem', '/usr/local/share/cmake/modules/findgnutls.cmake', '/var/run/ldelf.so.hints', '/dev/kmem', '/usr/local/lib/libpkg.a', '/usr/home/darpa/kernel_zones.txt', '/usr/lib/libssl.so.8', '/usr/local/libexec/gitcore/gitclean', '/dev/kmem', '/dev/random', '/etc/hosts', '/usr/local/lib/libicui18n.so.60.2', '/var/run/ldelf.so.hints', '/dev/kmem', '/etc/pwd.db', '/usr/local/include/boost/compute/exception.hpp', '/lib/libc.so.7', '/etc/libmap.conf', '/dev/kmem', '/dev/kmem', '/usr/local/x86_64portbldfreebsd12.0/lib/ldscripts/', '/dev/kmem', '/dev/kmem', '/dev/tty', '/usr/local/x86_64portbldfreebsd12.0/bin/ld', '/dev/random', '/etc/spwd.db', '/var/db/entropy/savedentropy.2', '/dev/random', 'unknown', '/usr/local/x86_64portbldfreebsd12.0/lib/ldscripts/', '/home/bob/sent', 'unknown', '/etc/pwd.db', '/dev/kmem', '/lib/libelf.so.2', '/usr/local/x86_64portbldfreebsd12.0/lib/ldscripts/', '/dev/random', '/etc/libmap.conf', '/dev/random', '/etc/services', '/usr/local/lib/python3.6/__pycache__/os.cpython36.', '/lib/libxo.so.0', '/home/darpa/.lsof_ta1cadets', '/usr/local/include/tiffconf.h', '/etc/spwd.db', '/dev/kmem', '/dev/kmem', '/usr/local/x86_64portbldfreebsd12.0/bin/dlltool', '/usr/local/share/locale/fr/lc_messages/gprof.mo', '/dev/kmem', '/usr/local/share/doc/imagemagick6/www/mogrify.html', '/dev/random', 'unknown', '/dev/kmem', '/usr/local/share/doc/subversion/changes', '/usr/local/bin/js17', '/dev/kmem', '/dev/kmem', '/usr/local/include/boost/typeof/vector200.hpp', '/lib/libutil.so.9', '/dev/kmem', 'unknown', '/var/run/ldelf.so.hints', 'active/f138729d05', '/usr/local/share/ghostscript/9.16/resource/cidfsub', '/dev/kmem', '/var/run/ldelf.so.hints', '/etc/spwd.db', '/usr/local/share/doc/libraw/apinotes.html', '/etc/pwd.db', '/dev/random', '/usr/local/x86_64portbldfreebsd12.0/lib/ldscripts/', '/etc/pwd.db', 'none', '/usr/local/share/doc/imagemagick6/www/api/magickco', '/usr/local/share/emacs/25.3/lisp/strokes.elc', '/usr/local/x86_64portbldfreebsd12.0/lib/ldscripts/', '/usr/local/include/boost/units/base_units/si/kelvi', '/dev/kmem', '/lib/libkvm.so.7', '/etc/pwd.db', '/etc/pwd.db', '/dev/kmem', '/usr/local/x86_64portbldfreebsd12.0/lib/ldscripts/', '/etc/services', '/usr/local/lib/scons3.0.1/scons/tool/install.pyc', '/usr/local/share/sgml/docbook/4.1/41chg.txt', '/usr/local/share/gettext/intl/makefile.in', '/usr/local/lib/python2.7/random.py', '/dev/kmem', '/usr/local/sbin/phpfpm', '/usr/local/share/emacs/25.3/lisp/vc/ediffwind.elc', '/dev/random', '/etc/spwd.db', '/etc/libmap.conf', '/var/run/ldelf.so.hints', '/usr/local/lib/perl5/5.24/perl/man/man3/bshowlex.3', '/dev/kmem', '/usr/local/lib/perl5/5.24/mach/auto/encode/tw/tw.s', '/dev/kmem', '/usr/local/share/locale/bn_in/lc_messages/sharedmi', '/dev/kmem', '/usr/share/zoneinfo/posixrules', '/dev/kmem', '/etc/nsswitch.conf', '/etc/pwd.db', '/usr/local/share/ri/2.4/system/argf/putsi.ri', '/etc/pwd.db', '/dev/kmem', '/usr/local/lib/libsvn_ra1.a', '/usr/local/share/doc/gc/readme.sgi', '/usr/local/lib/libgs.so.9.16', '/etc/libmap.conf', '/usr/local/share/icons/adwaita/256x256/apps/prefer', '/etc/hosts', '/dev/kmem', '/home/user/mail/sentmail', '/dev/random', '/usr/bin/head', 'unknown', '/etc/rc.conf', '/dev/tty', '/usr/local/bin/ar', '/usr/local/include/boost/vmd/seq/pop_front.hpp', 'unknown', '/usr/local/libexec/gitcore/gitdifftree', '/usr/local/lib/librsvg2.a', 'unknown', '/dev/kmem', '/etc/pwd.db', '/usr/local/share/icons/adwaita/256x256/status/secu', '/dev/random', '/dev/kmem', '/etc/spwd.db', '/usr/local/x86_64portbldfreebsd12.0/lib/ldscripts/', '/etc/libmap.conf', '/usr/local/lib/python2.7/test/test_with.py', '/dev/kmem', '/etc/spwd.db', '/etc/login.conf', '/usr/local/man/man3/xseteventqueueowner.3.gz', 'unknown', '/usr/local/lib/libfontconfig.a', '/usr/local/lib/libasound.so.2.0.0', '/usr/local/lib/python2.7/email/test/test_email_ren', '/etc/pwd.db', '/usr/local/share/ghostscript/9.16/doc/history2.htm', '/var/spool/postfix/incoming/974870.20882', '/dev/kmem', '/etc/login.conf', '/etc/pwd.db', '/dev/random', '/dev/tty', '/dev/kmem', '/dev/kmem', '/bin/sleep', '/etc/services', '/dev/random', '/dev/kmem', 'unknown', '/etc/services', '/dev/random', '/var/run/ldelf.so.hints', '/usr/local/share/icons/adwaita/22x22/actions/editd', 'unknown', '/etc/spwd.db', '/usr/local/include/polkit1/polkit/polkit.h', '/usr/local/share/icons/adwaita/256x256/devices/aud', '/etc/pwd.db', '/usr/local/share/cmake/modules/ecos_clean.cmake', '/lib/libc.so.7', '/etc/spwd.db', 'unknown', '/home/user/mail/sentmail.lock.1523127143.25208.ta1', '/usr/local/share/emacs/25.3/lisp/org/obruby.elc', '/etc/pwd.db', '/usr/local/lib/libyaml0.so.2.0.4', '/usr/local/x86_64portbldfreebsd12.0/lib/ldscripts/', '/usr/local/bin/rsvgconvert', 'unknown', 'unknown', '/dev/random', '/usr/local/lib/libicui18n.a', '/dev/kmem', '/dev/hpet0', 'unknown', '/usr/local/share/locale/el/lc_messages/bash.mo', '/etc/newsyslog.conf.d/ftp.conf', '/dev/random', '/usr/local/lib/perl5/5.24/perl/man/man3/tiehash.3.', '/dev/random', '/dev/hpet0', '/bin/sleep', '/dev/kmem', 'unknown', '/usr/local/share/ri/2.4/system/acl/aclentry/matchi', '/etc/login.conf', '/dev/random', '/etc/login.conf', '/etc/pwd.db', '/dev/kmem', '/etc/libmap.conf', '/etc/pwd.db', '/etc/hosts', '/usr/local/info/flex.info', 'unknown', '/dev/random', '/dev/kmem', '/etc/libmap.conf', '/dev/kmem', 'unknown', '/dev/random', '/usr/local/x86_64portbldfreebsd12.0/bin/as', '/dev/kmem', '/dev/kmem', '/home/charles/drafts.lock.1523566439.22695.ta1cade', '/usr/local/libexec/gitcore/gitcolumn', '/usr/local/share/doc/imagemagick6/www/api/magickco', 'unknown', '/etc/hosts', '/etc/login.conf', '/dev/kmem', '/usr/local/lib/libgs.so.9.16', '/dev/kmem', '/usr/local/x86_64portbldfreebsd12.0/lib/ldscripts/', '/usr/local/lib/scons3.0.1/scons/cpp.pyo', '/dev/kmem', 'unknown', '/usr/local/lib/libmagickcore6.a', '/dev/null', '/dev/kmem', '/dev/kmem', '/etc/pwd.db', '/etc/aliases.db', '/usr/local/share/m17n/ibm1004.map', '/var/mail/bob', '/etc/pam.d/other', '/etc/spwd.db', '/usr/share/zoneinfo/posixrules', '/etc/pwd.db', '/etc/libmap.conf', '/dev/kmem', '/dev/random', '/usr/local/share/doc/imagemagick6/www/api/magickco', '/dev/kmem', '/usr/local/lib/python2.7/mailbox.pyc', '/usr/local/lib/libpkg.a', '/dev/random', '/usr/local/share/ri/2.4/system/acl/acllist/cdescac', '/usr/lib/libmemstat.so.3', '/var/run/ldelf.so.hints', '/etc/libmap.conf', '/dev/kmem', '/dev/kmem', '/usr/local/share/ghostscript/9.16/doc/history8.htm', '/usr/local/man/man1/jpegtran.1.gz', '/usr/local/share/gtkdoc/html/harfbuzz/objecttree.h', '/usr/local/bin/php', '/etc/login.conf', '/usr/local/x86_64portbldfreebsd12.0/bin/as', '/var/run/ldelf.so.hints', 'unknown', '/dev/kmem', '/dev/kmem', '/var/mail/david.lock', 'unknown', '/usr/local/share/doc/ghostscript/md2k_md5k/readme.', '/dev/kmem', 'unknown', '/dev/random', '/etc/libmap.conf', 'kernel_zones.txt', '/usr/local/share/ghostscript/9.16/doc/psstyle.htm', '/dev/hpet0', '/usr/local/lib/libmagickcore6.a', 'unknown', '/usr/local/share/doc/imagemagick6/www/magickscript', '/etc/pwd.db', '/etc/libmap.conf', '/dev/kmem', '/usr/local/x86_64portbldfreebsd12.0/lib/ldscripts/', '/etc/pam.d/other', '/etc/libmap.conf', '/dev/random', '/usr/share/zoneinfo/posixrules', '/dev/random', 'kernel_zones.txt', '/var/run/ldelf.so.hints', '/dev/kmem', '/dev/kmem', '/dev/kmem', '/usr/local/libexec/gitcore/gitmerge', '/usr/share/zoneinfo/posixrules', '/usr/local/share/icons/adwaita/16x16/status/folder', '/usr/local/etc/postfix/main.cf', '/usr/local/bin/cmake', '/usr/local/share/ghostscript/9.16/doc/history7.htm', '/etc/hosts', '/etc/rc.conf.local', '/dev/kmem', '/usr/local/lib/python3.6/__pycache__/platform.cpyt', '/dev/random', '/etc/spwd.db', '/dev/kmem', '/etc/spwd.db', '/lib/libxo.so.0', '/dev/random', '/usr/local/lib/python2.7/lib2to3/tests/test_refact', '/dev/kmem', 'unknown', '/etc/libmap.conf', '/usr/local/lib/python2.7/macurl2path.pyo', 'unknown', '/dev/kmem', '/usr/bin/vmstat', '/dev/kmem', '/dev/random', '/etc/pwd.db', '/usr/local/lib/libtiff.a', '/usr/local/include/freetype2/freetype/ftcache.h', '/dev/kmem', '/var/run/ldelf.so.hints', '/dev/tty', '/dev/hpet0', '/etc/libmap.conf', 'none', '/usr/local/bin/addr2line', '/usr/local/include/boost/typeof/vector200.hpp', '/etc/login.conf', '/usr/local/lib/python2.7/tempfile.pyc', '/usr/local/lib/perl5/5.24/mach/auto/encode/kr/kr.s', '/etc/services', '/dev/hpet0', '/usr/local/lib/python2.7/email/feedparser.pyo', '/etc/spwd.db', '/dev/kmem', '/usr/local/libexec/gitcore/gitinitdb', '/dev/kmem', '/dev/kmem', '/var/run/ldelf.so.hints', 'unknown', 'unknown', 'unknown', '/usr/local/lib/perl5/5.24/pod/perl5220delta.pod', 'unknown', '/bin/sleep', '/usr/local/lib/python2.7/test/test_codecencodings_', 'unknown', '/home/george/sent', '/dev/kmem', '/etc/services', '/home/user/mail/sentmail', '/dev/kmem', '/dev/kmem', '/lib/libkvm.so.7', '/dev/random', '/dev/kmem', '/etc/services', '/usr/local/share/ghostscript/9.16/doc/history8.htm', '/usr/local/x86_64portbldfreebsd12.0/lib/ldscripts/', '/dev/kmem', '/usr/local/x86_64portbldfreebsd12.0/lib/ldscripts/', '/etc/pwd.db', '/usr/local/share/doc/imagemagick6/images/donate.pn', '/dev/hpet0', '/usr/local/lib/python2.7/lib2to3/pgen2/literals.py', '/dev/kmem', '/usr/local/include/php/ext/mysqlnd/mysqlnd_structs', '/var/run/ldelf.so.hints', '/dev/kmem', '/usr/local/x86_64portbldfreebsd12.0/bin/ar', '/usr/local/share/icons/adwaita/24x24/devices/camer', '/usr/local/share/fonts/dejavu/dejavuserif.ttf', '/var/run/ldelf.so.hints', '/etc/services', '/etc/pwd.db', '/dev/kmem', '/dev/kmem', '/usr/local/lib/libsvn_subr1.so.0.0.0', '/home/darpa/.lsof_ta1cadets', '/usr/local/x86_64portbldfreebsd12.0/lib/ldscripts/', '/usr/local/bin/ocsptool', '/usr/local/share/icons/adwaita/24x24/actions/golas', '/dev/kmem', '/usr/local/bin/tiffset', '/usr/local/share/doc/imagemagick6/www/magick/thumb', '/var/db/entropy/savedentropy.5', '/dev/random', '/usr/local/x86_64portbldfreebsd12.0/lib/ldscripts/', '/etc/aliases.db', '/usr/local/lib/scons3.0.1/scons/tool/aixcxx.pyc', '/home/henry/.mailboxlist', '/etc/libmap.conf', '/dev/random', '/dev/kmem', '/usr/local/libexec/gitcore/gitcherry', '/usr/local/share/cmake/modules/platform/android/ab', '/dev/random', 'unknown', '/usr/local/share/icons/adwaita/256x256/devices/aud', '/usr/local/libdata/pkgconfig/magickwand.pc', '/dev/tty', '/dev/kmem', '/dev/kmem', '/usr/lib/libmemstat.so.3', '/usr/share/zoneinfo/posixrules', '/usr/local/lib/libgmp.a', '/dev/random', '/etc/libmap.conf', 'unknown', '/usr/local/sbin/tcsd', '/dev/kmem', '/usr/local/lib/libsvn_subr1.so.0.0.0', 'none', '/etc/services', '/usr/share/misc/termcap.db', '/usr/local/share/locale/sl/lc_messages/sharedmimei', '/usr/local/lib/python2.7/lib2to3/refactor.py', '/usr/bin/vmstat', '/usr/local/bin/gcovdump6', '/dev/random', 'unknown', '/usr/local/lib/libgs.so.9.16', '/usr/local/share/ghostscript/9.16/resource/font/pa', '/dev/kmem', '/etc/services', '/dev/tty', '/etc/hosts', '/usr/local/libexec/gitcore/gitdescribe', '/dev/tty', '/usr/local/share/licenses/gettexttools0.19.8.1/gpl', '/etc/pwd.db', '/usr/local/share/emacs/25.3/lisp/url/urlvars.el.gz', 'unknown', '/usr/local/bin/chartread', 'unknown', '/etc/pwd.db', '/usr/local/share/icons/adwaita/24x24/actions/syste', '/etc/services', '/bin/sh', '/usr/local/x86_64portbldfreebsd12.0/lib/ldscripts/', 'none', '/etc/services', '/dev/kmem', '/dev/mem', '/dev/kmem', '/dev/random', '/usr/local/include/python3.6m/warnings.h', '/dev/random', '/etc/pwd.db', 'unknown']\n",
      "['/usr/local/libexec/gitcore/gitdescribe', '/usr/local/lib/libboost_log_setup.a', '/usr/local/libexec/gitcore/gitcherrypick', '/dev/kmem', 'unknown', '/etc/services', '/dev/random', '/dev/kmem', '/usr/local/x86_64portbldfreebsd12.0/lib/ldscripts/', '/dev/kmem', '/dev/random', '/usr/local/openjdk8/jre/lib/rt.jar', '/etc/hosts', '/usr/local/share/doc/kbproto/xkbproto3.svg', '/var/run/ldelf.so.hints', '/dev/kmem', '/dev/kmem', '/etc/pwd.db', '/usr/local/share/examples/flex/fastwc/wc1.l', '/usr/local/share/ghostscript/9.16/doc/history8.htm', '/dev/random', '/usr/local/share/icons/adwaita/22x22/actions/editf', '/usr/local/share/doc/db5/api_reference/c/dbstat_pr', '/usr/local/x86_64portbldfreebsd12.0/lib/ldscripts/', '/dev/kmem', '/usr/local/lib/scons3.0.1/scons/tool/sunar.py', '/usr/local/share/doc/imagemagick6/www/api/magickco', '/etc/pwd.db', '/usr/local/lib/python2.7/pydoc_data/topics.py', '/dev/tty', 'unknown', '/usr/local/x86_64portbldfreebsd12.0/lib/ldscripts/', '/etc/hosts', '/usr/local/bin/gprof', '/usr/local/share/emacs/25.3/lisp/profiler.elc', '/usr/local/share/cmake/modules/compiler/brucecdete', '/etc/hosts', '/dev/kmem', '/dev/kmem', '/etc/hosts', '/usr/local/libexec/gitcore/gitmerge', '/usr/local/share/doc/imagemagick6/images/wizard.pn', '/dev/random', '/dev/kmem', '/dev/kmem', '/dev/kmem', '/dev/kmem', '/lib/libc.so.7', '/usr/local/share/locale/sq/lc_messages/sharedmimei', '/etc/libmap.conf', '/usr/local/x86_64portbldfreebsd12.0/lib/ldscripts/', '/usr/local/include/boost/type_erasure/detail/null.', '/dev/kmem', '/home/bob', '/dev/kmem', '/usr/local/man/man3/xisetfocus.3.gz', '/dev/kmem', '/usr/local/share/gettext/intl/log.c', '/dev/kmem', '/etc/spwd.db', '/usr/local/share/locale/sr/lc_messages/bash.mo', '/usr/lib/i18n/libiconv_std.so.4', '/usr/local/libexec/gcc6/gcc/x86_64portbldfreebsd12', '/usr/local/lib/libgs.so.9.16', '/usr/lib/libmemstat.so.3', '/etc/nsswitch.conf', '/dev/kmem', 'unknown', '/usr/local/x86_64portbldfreebsd12.0/bin/ld', '/usr/local/libexec/gitcore/gitcommittree', '/lib/libxo.so.0', '/usr/local/share/cmake/help/variable/ctest_p4_upda', '/usr/local/lib/perl5/5.24/perl/man/man1/perlfaq4.1', '/etc/services', '/usr/local/sbin/phpfpm', '/dev/kmem', '/dev/kmem', '/etc/libmap.conf', '/usr/local/share/icons/adwaita/24x24/actions/zoomi', '/usr/local/lib/python2.7/unittest/runner.pyo', '/etc/pwd.db', 'unknown', '/usr/local/info/gnutls.info', '/usr/local/lib/python2.7/pydoc_data/topics.pyo', '/usr/local/lib/gcc6/include/c/java/lang/stringbuff', '/usr/local/bin/cctiff', '/usr/local/include/boost/typeof/vector150.hpp', '/usr/local/x86_64portbldfreebsd12.0/bin/as', '/usr/local/lib/python2.7/encodings/utf_16_be.py', '/usr/local/libexec/postfix/cleanup', '/usr/local/lib/x11/locale/fi_fi.utf8/compose', '/var/run/ldelf.so.hints', '/home/admin/.bash_history', '/usr/local/libexec/imapd', '/etc/pwd.db', '/usr/local/lib/libsvn_ra_serf1.so.0.0.0', '/usr/local/share/icons/adwaita/256x256/apps/applet', '/dev/kmem', '/usr/local/lib/perl5/5.24/mach/auto/encode/kr/kr.s', '/usr/local/x86_64portbldfreebsd12.0/bin/ar', '/etc/services', '/dev/kmem', '/dev/kmem', '/etc/ssl/openssl.cnf', '/usr/local/lib/perl5/5.24/mach/auto/unicode/collat', '/usr/local/share/doc/alpine/technotes/config.html', '/usr/local/libexec/gitcore/gitcredentialcachedaemo', '/dev/kmem', '/usr/local/lib/scons3.0.1/scons/compat/__init__.py', '/usr/local/lib/libboost_iostreams.a', '/var/run/ldelf.so.hints', '/dev/kmem', '/dev/kmem', '/etc/group', '/dev/kmem', '/usr/local/bin/cpack', '/dev/random', '/dev/random', '/var/log/utx.lastlogin', '/bin/sleep', '/usr/local/lib/libmagickcore6.a', '/etc/pwd.db', '/dev/kmem', '/dev/kmem', '/home/george/sent', '/dev/kmem', '/etc/spwd.db', '/usr/local/lib/libicui18n.so.60.2', '/etc/spwd.db', '/dev/kmem', '/usr/local/lib/libfontconfig.a', '/etc/hosts', '/dev/kmem', '/usr/local/share/emacs/25.3/lisp/vc/vcsccs.elc', '/etc/libmap.conf', 'unknown', '/usr/local/lib/x11/locale/microsoftcp1256/compose', 'unknown', '/dev/kmem', '/usr/local/include/boost/type_index/type_index_fac', '/dev/random', '/usr/local/share/locale/fr/lc_messages/sudoers.mo', '/usr/local/x86_64portbldfreebsd12.0/bin/ar', '/dev/random', '/usr/local/lib/python2.7/test/test_argparse.pyc', '/usr/local/x86_64portbldfreebsd12.0/bin/ar', '/usr/local/lib/libsvn_ra_serf1.so.0.0.0', '/dev/tty', 'unknown', '/usr/local/share/cmake/modules/generateexportheade', '/dev/kmem', '/etc/pwd.db', '/usr/local/lib/perl5/site_perl/mach/5.24/sys/ata.p', '/var/run/ldelf.so.hints', '/usr/local/share/doc/imagemagick6/www/api/magickim', 'unknown', '/dev/random', '/etc/libmap.conf', '/usr/local/include/xcb/shm.h', '/usr/local/share/icons/adwaita/24x24/status/batter', '/usr/local/lib/perl5/5.24/pod/perlhist.pod', '/dev/random', '/lib/libc.so.7', '/dev/kmem', '/usr/local/etc/postfix/main.cf', '/etc/pwd.db', '/home/charles/sent.lock.1523295457.67143.ta1cadets', '/etc/services', '/etc/hosts', '/dev/kmem', '/etc/services', '/etc/pwd.db', '/etc/services', '/etc/group', '/etc/pwd.db', '/usr/local/share/emacs/25.3/lisp/org/org.elc', '/dev/kmem', '/usr/local/share/doc/libxaw/template.xml', '/usr/local/share/doc/sudo/upgrade', '/usr/local/share/cmake/modules/platform/aixxlasm.c', '/usr/local/libexec/gcc6/gcc/x86_64portbldfreebsd12', '/etc/spwd.db', '/usr/local/share/emacs/25.3/lisp/obsolete/xesam.el', '/usr/local/libexec/gcc6/gcc/x86_64portbldfreebsd12', '/usr/local/share/fonts/dejavu/dejavusansboldobliqu', '/dev/random', '/etc/services', '/usr/share/zoneinfo/posixrules', '/lib/libc.so.7', '/usr/local/share/icons/adwaita/256x256/apps/system', 'unknown', '/dev/kmem', '/usr/local/share/emacs/25.3/src/buffer.c', '/usr/local/share/emacs/25.3/lisp/org/ox.elc', '/bin/sleep', 'unknown', '/etc/libmap.conf', '/usr/local/lib/scons3.0.1/scons/tool/gs.py', '/etc/group', '/dev/kmem', '/usr/local/libexec/postfix/postinstall', '/usr/local/share/doc/imagemagick6/www/api/magickim', '/usr/local/libexec/gitcore/gitdescribe', '/usr/local/share/doc/imagemagick6/www/api/magickco', '/dev/kmem', '/etc/pwd.db', '/etc/nsswitch.conf', '/usr/local/share/libwmf/fonts/n021023l.afm', '/usr/local/libdata/pkgconfig/xcbshm.pc', 'unknown', 'local.sqlite', '/usr/local/man/man3/xsetforeground.3.gz', '/dev/kmem', '/dev/random', '/dev/random', '/dev/kmem', '/usr/local/share/doc/imagemagick6/www/api/magickco', '/usr/local/share/locale/srlatin/lc_messages/gtk30p', '/etc/services', '/usr/local/lib/libpkg.a', '/usr/local/man/man3/iskeypadkey.3.gz', '/usr/local/share/fonts/dejavu/dejavusansextralight', '/etc/spwd.db', '/dev/kmem', '/dev/hpet0', '/etc/pwd.db', '/lib/libthr.so.3', '/dev/random', '/usr/local/bin/htop', '/home/george/sent.lock.1523054674.6682.ta1cadets', '/usr/local/libexec/gitcore/gitdiff', '/usr/local/bin/phpcgi', '/usr/local/lib/libboost_fiber.so.1.66.0', '/etc/spwd.db', '/usr/local/lib/python2.7/test/tf_inherit_check.pyc', '/var/run/ldelf.so.hints', '/usr/share/zoneinfo/utc', '/dev/kmem', '/etc/pwd.db', '/usr/local/x86_64portbldfreebsd12.0/lib/ldscripts/', '/dev/random', '/var/run/ldelf.so.hints', '/etc/pwd.db', '/etc/hosts', '/usr/local/x86_64portbldfreebsd12.0/lib/ldscripts/', '/etc/resolv.conf', '/dev/kmem', '/usr/local/lib/libicui18n.so.60.2', '/usr/local/lib/perl5/5.24/perl/man/man3/tiestdhand', '/usr/local/lib/libavrocpp_s.a', '/dev/random', '/etc/services', '/var/run/ldelf.so.hints', '/dev/random', '/lib/libkvm.so.7', '/dev/random', '/dev/kmem', '/var/mail/bob', 'unknown', '/dev/kmem', '/usr/local/libexec/gitcore/gitdaemon', '/etc/hosts', '/usr/local/x86_64portbldfreebsd12.0/lib/ldscripts/', '/usr/local/x86_64portbldfreebsd12.0/bin/ar', '/usr/local/share/alsa/topology/sklrt286/media0_inm', '/dev/kmem', '/usr/local/include/x11/xlibint.h', '/etc/libmap.conf', '/usr/local/x86_64portbldfreebsd12.0/bin/ld', '/var/db/entropy/savedentropy.7', '/var/run/ldelf.so.hints', '/dev/null', '/usr/local/x86_64portbldfreebsd12.0/lib/ldscripts/', '/etc/spwd.db', '/usr/share/zoneinfo/utc', '/dev/kmem', '/dev/random', '/var/run/ldelf.so.hints', 'unknown', '/dev/kmem', '/usr/local/x86_64portbldfreebsd12.0/lib/ldscripts/', '/etc/hosts', '/usr/local/include/boost/typeof/vector150.hpp', '/var/run/ldelf.so.hints', '/dev/kmem', '/var/run/ldelf.so.hints', '/dev/random', '/usr/local/bin/sudo', '/usr/local/lib/perl5/5.24/perl/man/man3/exporter.3', '/usr/local/lib/libmagickcore6.a', '/usr/local/lib/python3.6/idlelib/idle_test/__pycac', '/usr/local/share/icons/adwaita/256x256/status/mail', '/etc/services', '/usr/home/user/eraseme/www.samhsa.gov/include/buck', '/etc/spwd.db', 'unknown', '/etc/hosts', '/dev/kmem', '/usr/local/lib/perl5/5.24/perl/man/man3/base.3.gz', '/dev/kmem', '/dev/kmem', '/dev/random', '/usr/local/lib/libgnutls.so.30.14.9', '/usr/local/share/doc/imagemagick6/www/api/magickco', '/dev/kmem', '/usr/local/lib/python3.6/ensurepip/_bundled/pip9.0', '/var/run/ldelf.so.hints', '/dev/kmem', '/dev/kmem', '/etc/resolv.conf', '/dev/kmem', '/dev/kmem', '/lib/libc.so.7', '/usr/local/share/doc/imagemagick6/www/api/magickwa', 'unknown', '/dev/kmem', '/usr/local/lib/perl5/5.24/pod/perllocale.pod', '/usr/local/man/man3/xseterrorhandler.3.gz', '/etc/pwd.db', '/var/run/ldelf.so.hints', '/dev/kmem', '/var/db/entropy/savedentropy.6', '/dev/kmem', '/usr/local/etc/cclient.cf', '/dev/kmem', '/usr/local/include/boost/asio/detail/handler_track', '/usr/local/man/man3/tspi_key_certifykey.3.gz', '/dev/kmem', '/dev/kmem', '/usr/local/libexec/gitcore/gitcommittree', 'unknown', '/dev/tty', '/etc/services', '/etc/spwd.db', '/dev/random', '/usr/local/lib/libgnutls.so.30.14.9', '/dev/kmem', '/dev/kmem', '/etc/hosts', '/etc/group', 'unknown', '/dev/kmem', '/dev/kmem', 'unknown', '/dev/kmem', '/etc/pwd.db', '/dev/kmem', 'unknown', '/usr/share/zoneinfo/posixrules', '/dev/kmem', '/dev/null', '/dev/random', '/etc/hosts', '/var/run/ldelf.so.hints', '/usr/local/share/locale/sr/lc_messages/bash.mo', '/dev/kmem', '/usr/local/bin/alpine', '/usr/local/lib/libzmq.a', '/etc/nsswitch.conf', '/bin/dd', '/usr/local/lib/imagemagick6.9.9/modulesq16/coders/', '/dev/random', '/var/run/ldelf.so.hints', '/usr/local/lib/python3.6/sitepackages/pip/models/_', '/usr/local/share/doc/imagemagick6/www/api/magickco', '/dev/kmem', '/dev/kmem', '/usr/local/bin/gcovtool6', '/etc/spwd.db', '/usr/local/bin/colprof', '/usr/local/share/vim/vim80/lang/it/lc_messages/vim', '/dev/kmem', '/dev/random', 'unknown', 'none', '/dev/random', '/etc/resolv.conf', '/usr/local/info/gnutlsguile.info', '/dev/kmem', '/etc/services', '/usr/local/lib/libbfd.a', '/dev/kmem', '/var/run/ldelf.so.hints', '/dev/kmem', '/lib/libkvm.so.7', '/etc/services', '/etc/hosts', '/dev/kmem', '/var/run/ldelf.so.hints', '/usr/local/lib/perl5/5.24/perl5db.pl', '/dev/kmem', 'unknown', '/dev/kmem', '/usr/libexec/atrun', '/dev/kmem', '/lib/libc.so.7', '/dev/kmem', '/usr/local/lib/libgmp.a', 'unknown', '/etc/nsswitch.conf', '/usr/local/libexec/gitcore/gitmailsplit', '/usr/local/share/cmake/modules/findgtest.cmake', '/dev/random', '/etc/nsswitch.conf', 'unknown', 'unknown', '/etc/pwd.db', '/etc/login.conf', '/etc/services', '/usr/local/lib/python2.7/sitepackages/babel/locale', 'unknown', '/usr/local/share/ghostscript/9.16/doc/details8.htm', 'none', '/dev/kmem', '/dev/kmem', '/usr/local/lib/libjpeg.so.8.1.2', '/usr/local/bin/php', '/dev/random', '/etc/pwd.db', '/usr/local/lib/python2.7/doctest.pyo', '/dev/kmem', '/usr/local/man/man1/xmlwf.1.gz', '/etc/spwd.db', '/dev/kmem', '/usr/local/libexec/gitcore/gitconfig', '/home/darpa/.lsof_ta1cadets', '/etc/services', '/etc/login.conf', '/etc/hosts', '/dev/random', '/dev/random', '/dev/random', '/dev/kmem', '/usr/local/share/emacs/25.3/lisp/progmodes/prolog.', '/usr/local/lib/scons3.0.1/scons/tool/icl.py', '/dev/random', '/dev/random', '/dev/kmem', 'unknown', '/etc/pwd.db', '/etc/spwd.db', '/dev/kmem', '/home/george/sent.lock.1523200501.43860.ta1cadets', '/dev/kmem', '/var/run/ldelf.so.hints', '/usr/local/lib/gcc6/include/c/java/net/noroutetoho', '/usr/local/x86_64portbldfreebsd12.0/bin/ld', '/dev/kmem', '/etc/services', 'unknown', '/lib/libdevstat.so.7', '/usr/local/lib/libicudata.so.60', '/dev/kmem', '/etc/pwd.db', 'unknown', 'unknown', '/dev/kmem', '/etc/pwd.db', '/dev/kmem', '/var/run/ldelf.so.hints', '/dev/kmem', '/dev/kmem', '/usr/local/lib/imagemagick6.9.9/modulesq16/coders/', '/usr/local/share/locale/vi/lc_messages/gtk30proper', '/usr/local/share/locale/uk/lc_messages/binutils.mo', '/usr/local/lib/libjasper.a', '/home/bob', '/dev/kmem', '/dev/kmem', '/usr/local/share/doc/imagemagick6/www/api/magickwa', '/usr/local/share/doc/imagemagick6/www/api/magickco', '/usr/share/zoneinfo/utc', '/etc/spwd.db', '/usr/local/libexec/gitcore/gitcolumn', '/etc/hosts', '/dev/kmem', '/etc/pwd.db', '/dev/kmem', '/dev/tty', '/dev/tty', '/dev/kmem', '/etc/nsswitch.conf', '/dev/kmem', '/usr/local/share/ghostscript/9.16/doc/history8.htm', '/dev/hpet0', '/dev/kmem', '/usr/lib/libwind.so.11', 'unknown', '/dev/kmem', '/usr/local/share/locale/tg/lc_messages/gtk30proper', '/dev/kmem', '/usr/local/bin/printcal', '/etc/pwd.db', '/usr/local/share/doc/imagemagick6/www/cipher.html', '/var/mail/frank.lock.1522954430.58814.ta1cadets', '/etc/hosts', '/dev/hpet0', '/usr/local/bin/avrogencpp', '/usr/local/x86_64portbldfreebsd12.0/lib/ldscripts/', '/usr/local/libexec/gitcore/gitclone', '/usr/local/lib/imagemagick6.9.9/modulesq16/coders/', '/usr/local/bin/colverify', '/etc/libmap.conf', '/usr/local/etc/postfix/main.cf', '/dev/random', '/var/run/ldelf.so.hints', '/dev/kmem', '/dev/tty', '/dev/kmem', '/etc/spwd.db', '/dev/kmem', '/dev/kmem']\n",
      "\n",
      "['/usr/local/include/boost/preprocessor/arithmetic/d', '/dev/kmem', '/var/spool/postfix/bounce/..', '/dev/kmem', '/etc/hosts', '/dev/random', '/etc/pwd.db', '/usr/local/lib/postfix/libpostfixmaster.so', '/etc/libmap.conf', '/etc/spwd.db', '/dev/random', '/etc/pwd.db', '/dev/kmem', '/etc/pwd.db', '/etc/pwd.db', '/etc/libmap.conf', '/dev/tty', '/dev/kmem', '/var/mail/henry.lock.1523637783.39389.ta1cadets', 'unknown', '/dev/kmem', '/etc/login.conf', '/etc/spwd.db', '/dev/kmem', '/usr/local/lib/perl5/5.24/perl/man/man3/iouncompre', '/lib/libm.so.5', '/dev/kmem', '/dev/tty', '/dev/random', '/dev/random', '/home/george/sent', '/usr/ports/databases/php71mysqli/..', '/dev/random', '/etc/pwd.db', 'unknown', '/dev/kmem', '/usr/home/darpa/top_procs.txt', '/lib/libc.so.7', '/dev/hpet0', '/dev/tty', '/data/update/buildmeta/llvm/build/release/lib/tabl', '/usr/local/lib/postgresql/utf8_and_sjis.so', '/dev/kmem', '/etc/pwd.db', '/dev/kmem', '/etc/spwd.db', '/etc/services', '/etc/spwd.db', '/dev/kmem', '/lib/libc.so.7', '/usr/share/zoneinfo/posixrules', '/dev/kmem', '/usr/local/etc/cclient.cf', '/usr/src/tools/regression/zfs/zpool', '/etc/pwd.db', '/etc/login.conf', '/usr/src/contrib/netbsdtests/fs/umapfs/..', '/etc/pwd.db', '/dev/tty', '/usr/local/x86_64portbldfreebsd12.0/bin/as', '/dev/kmem', '/dev/tty', '/dev/kmem', '/dev/kmem', '/dev/kmem', '/dev/kmem', '/etc/login.conf', '/dev/hpet0', '/var/mail/bob', '/dev/tty', '/var/run/ldelf.so.hints', '/etc/resolv.conf', '/etc/pwd.db', '/dev/tty', '/dev/kmem', '/dev/random', '/usr/home/darpa/kernel_mem.txt', '/dev/tty', '/dev/kmem', '/var/run/ldelf.so.hints', '/dev/random', '/dev/kmem', '/etc/libmap.conf', '/dev/kmem', '/var/run/ldelf.so.hints', '/usr/local/share/examples/ruby24/webrick/hello.cgi', '/tmp/tmp.zwbh3b', '/usr/local/lib/perl5/5.24/locale/codes/language_co', '/usr/share/zoneinfo/posixrules', '/etc/pwd.db', 'unknown', '/usr/share/zoneinfo/posixrules', '/dev/kmem', '/dev/tty', '/dev/kmem', '/dev/kmem', '/dev/kmem', '/etc/services', '/dev/tty', '/usr/local/share/alsa/cards/aliases.alisp', '/etc/services', '/etc/spwd.db', '/dev/kmem', '/usr/ports/net/libpcap/work/libpcap1.8.1/tests/..', '/usr/home/user/eraseme/www.rudolf.com', '/dev/kmem', '/dev/hpet0', '/etc/login.conf', '/dev/kmem', '/usr/local/include/boost/phoenix/operator/detail/c', '/usr/local/lib/python2.7/posixfile.py', '/var/mail/frank', '/etc/services', '/lib/libc.so.7', 'unknown', '/dev/kmem', '/dev/random', '/dev/random', 'unknown', '/usr/bin/top', '/dev/kmem', '/dev/kmem', '/dev/kmem', '/dev/kmem', '/dev/kmem', '/dev/kmem', '/dev/kmem', '/etc/pwd.db', '/data/update/data/update/buildmeta/freebsd/amd64.a', '/etc/spwd.db', '/dev/kmem', '/usr/local/share/locale/crh/..', '/etc/services', '/lib/libc.so.7', '/dev/tty', '/etc/group', '/dev/kmem', '/etc/hosts', '/etc/libmap.conf', '/etc/services', '/usr/src/crypto/openssl/crypto/krb5', '/dev/kmem', '/dev/tty', '/dev/random', '/dev/random', 'kernel_zones.txt', '/etc/pwd.db', '/etc/spwd.db', '/lib/libcrypto.so.8', '/usr/share/zoneinfo/utc', '/dev/kmem', '/etc/libmap.conf', '/dev/kmem', '/dev/kmem', '/dev/kmem', '/dev/kmem', '/dev/kmem', '/dev/random', '/usr/share/zoneinfo/utc', 'unknown', '/etc/services', '/dev/random', 'unknown', '/dev/kmem', '/usr/ports/net/opentracker/..', '/etc/pwd.db', '/dev/kmem', '/data/update/data/update/buildmeta/freebsd/amd64.a', '/dev/kmem', '/etc/services', '/home/darpa/.lsof_ta1cadets', '/usr/local/include/boost/python/detail/invoke.hpp', '/etc/resolv.conf', '/var/mail/frank.lock', '/dev/random', '/var/mail/bob', '/etc/nsswitch.conf', '/etc/pwd.db', '/etc/pwd.db', '/dev/kmem', '/dev/random', '/dev/kmem', '/dev/random', '/etc/libmap.conf', '/dev/kmem', '/usr/lib/i18n', '/etc/pwd.db', '/dev/kmem', '/etc/libmap.conf', '/etc/pwd.db', 'unknown', '/lib/libelf.so.2', '/dev/kmem', 'unknown', '/etc/pwd.db', '/usr/ports/security/openssl_tpm_engine/files', '/etc/services', '/data/update/buildmeta/freebsd/sys/dev/hyperv/vmbu', '/dev/kmem', '/usr/share/zoneinfo/posixrules', 'unknown', '/dev/random', '/var/mail/user', 'unknown', '/usr/bin/vmstat', '/dev/hpet0', '/dev/kmem', '/etc/services', '/etc/pwd.db', '/var/run/ldelf.so.hints', '/var/run/ldelf.so.hints', '/usr/obj/data/update/buildmeta/freebsd/amd64.amd64', '/dev/kmem', '/dev/kmem', '/dev/kmem', '/dev/kmem', 'unknown', 'unknown', '/etc/services', '/dev/kmem', '/dev/kmem', '/dev/kmem', '/lib/libc.so.7', '/dev/tty', '/dev/kmem', '/etc/defaults/rc.conf', '/etc/services', '/var/run/ldelf.so.hints', '/var/run/ldelf.so.hints', 'unknown', '/usr/local/include/gl/glx.h', '/var/run/ldelf.so.hints', '/dev/kmem', '/dev/random', '/usr/local/libexec/gitcore/gitam', 'unknown', '/var/spool/postfix/active/585df29cd1', '/etc/spwd.db', '/etc/spwd.db', '/usr/lib/libmemstat.so.3', '/var/run/ldelf.so.hints', '/usr/lib/libpam.so.6', '/dev/kmem', 'unknown', '/var/run/ldelf.so.hints', '/dev/kmem', '/dev/random', 'unknown', '/dev/kmem', '/dev/kmem', '/dev/kmem', '/dev/tty', '/dev/random', '/dev/kmem', '/lib/libc.so.7', 'local.sqlite', '/usr/local/libexec/postfix/dynamicmaps.cf.d/pcre.c', '/etc/libmap.conf', '/dev/random', '/dev/kmem', '/etc/libmap.conf', 'unknown', '/dev/hpet0', '/etc/libmap.conf', '/etc/pwd.db', '/dev/kmem', '/var/run/ldelf.so.hints', '/home/darpa/.lsof_ta1cadets', '/dev/kmem', '/dev/kmem', '/etc/defaults/rc.conf', '/etc/pwd.db', 'unknown', '/dev/kmem', 'none', '/dev/kmem', '/etc/spwd.db', '/etc/services', '/dev/kmem', '/dev/kmem', '/lib/libelf.so.2', '/dev/kmem', '/var/run/ldelf.so.hints', '/dev/kmem', '/var/run/ldelf.so.hints', '/etc/libmap.conf', '/dev/tty', '/etc/nsswitch.conf', '/data/update/data/update/buildmeta/freebsd/amd64.a', 'unknown', '/var/mail/george.lock.1522938971.54654.ta1cadets', '/etc/login.conf', '/etc/group', '/etc/services', '/dev/random', '/var/run/ldelf.so.hints', '/dev/tty', '/dev/tty', '/usr/local/share/emacs/25.3/lisp/url/urldav.elc', '/etc/pwd.db', '/var/db/entropy/savedentropy.4', '/usr/local/libexec/postfix/dynamicmaps.cf.d/pcre.c', '/etc/pwd.db', '/home/frank/archives', '/dev/kmem', '/var/run/ldelf.so.hints', '/etc/spwd.db', '/usr/local/etc/postfix/main.cf', '/data/gather_stats_uma.txt', '/dev/kmem', '/usr/share/zoneinfo/posixrules', '/dev/kmem', '/home/frank/archives', '/usr/bin/vmstat', '/dev/kmem', '/usr/local/lib/libicui18n.a', '/dev/kmem', '/dev/tty', '/dev/kmem', '/usr/local/include/unicode/ucharstrie.h', '/dev/kmem', '/etc/services', 'unknown', '/dev/kmem', '/dev/random', '/dev/kmem', '/usr/local/include/python2.7/pgenheaders.h', '/var/run/ldelf.so.hints', '/usr/bin/vmstat', '/etc/spwd.db', '/lib/libc.so.7', '/dev/kmem', '/data/ufs/usr/local/include/boost/preprocessor/con', '/etc/services', '/dev/kmem', 'active/856eb29cd1', 'unknown', '/dev/null', '/dev/kmem', '/etc/services', '/dev/tty', '/etc/spwd.db', '/dev/kmem', '/dev/kmem', '/dev/kmem', '/etc/group', '/dev/kmem', '/etc/hosts', '/etc/hosts', 'unknown', '/dev/kmem', '/dev/random', '/usr/ports/netmgmt/mrtgpingprobe/..', '/etc/pwd.db', '/dev/kmem', '/etc/pwd.db', 'unknown', '/etc/pwd.db', 'www.hbo.com/films/index.htmlntrack_para1latest5_mo', '/etc/spwd.db', '/usr/share/zoneinfo/utc', '/dev/kmem', '/bin/dd', '/etc/login.conf', '/usr/src/contrib/llvm/tools/lldb/..', '/dev/kmem', '/var/run/ldelf.so.hints', '/dev/kmem', '/usr/local/etc/postfix/main.cf', '/etc/pwd.db', '/dev/kmem', '/usr/bin/head', '/etc/spwd.db', '/usr/home/darpa/kernel_zones.txt', '/usr/local/x86_64portbldfreebsd12.0/lib/ldscripts/', '/usr/bin/vmstat', '/lib/libc.so.7', '/usr/local/lib/libpcre16.so.0.2.8', 'unknown', '/lib/libkvm.so.7', 'unknown', '/etc/nsswitch.conf', '/dev/kmem', 'unknown', '/dev/kmem', '/var/run/ldelf.so.hints', '/data/ufs/usr/local/share/emacs/25.3/lisp/cedet/se', '/etc/services', '/usr/ports/mail/sautils', 'unknown', '/etc/pwd.db', '/usr/local/lib/gcc6/include/c/java/beans', '/dev/tty', '/dev/random', '/usr/ports/devel/p5localegettext/work/stage/usr/lo', '/etc/pwd.db', '/etc/pwd.db', 'unknown', '/etc/pwd.db', '/etc/spwd.db', '/usr/local/share/doc/db5/programmer_reference/am_f', '/usr/bin/head', '/dev/kmem', '/usr/local/share/doc/imagemagick6/www/api/magickco', 'unknown', '/dev/kmem', '/dev/kmem', '/dev/kmem', '/dev/random', '/etc/spwd.db', '/etc/pwd.db', '/dev/random', '/dev/kmem', '/lib/libcxxrt.so.1', '/dev/kmem', '/dev/kmem', '/usr/sbin/sendmail', '/dev/kmem', '/lib/libc.so.7', '/etc/pwd.db', '/lib/libc.so.7', '/etc/resolv.conf', '/dev/kmem', '/etc/defaults/rc.conf', '/etc/spwd.db', '/etc/pwd.db', 'www.hbo.com/apps/schedule/scheduleservletchannelal', '/var/mail/george.lock', '/etc/services', 'unknown', '/dev/random', '/etc/spwd.db', 'unknown', '/usr/local/libexec/gcc6/gcc/x86_64portbldfreebsd12', '/etc/login.conf', '/dev/kmem', '/dev/kmem', '/usr/local/bin/js17', '/etc/hosts', '/usr/local/libexec/mlock', '/dev/kmem', '/dev/tty', '/dev/kmem', '/usr/local/include/boost/geometry/algorithms/detai', '/lib/libcrypto.so.8', '/etc/pwd.db', '/dev/kmem', '/usr/local/share/examples/ruby24/trick2013/kinaba/', '/dev/kmem', 'unknown', '/usr/local/include/boost/preprocessor/iteration/de', '/etc/services', '/dev/random', '/etc/pwd.db', '/data/update/buildmeta/llvm/tools/clang/test/cxx/l', 'kernel_zones.txt', '/etc/hosts', '/var/run/ldelf.so.hints', '/dev/kmem', '/etc/hosts', '/lib/libc.so.7', '/etc/hosts', '/etc/spwd.db', '/dev/kmem', '/dev/hpet0', '/var/run/ldelf.so.hints', '/var/run/ldelf.so.hints', '/dev/random', '/dev/kmem', 'unknown', '/etc/hosts', '/dev/kmem', '/dev/random', '/var/run/resolvconf/lock/pid', '/lib/libutil.so.9', '/usr/src/tests/sys/pjdfstest/tests/mkdir', '/dev/kmem', '/etc/login.conf', '/lib/libc.so.7', '/data/update/data/update/buildmeta/freebsd/amd64.a', '/dev/kmem', '/dev/random', '/usr/local/lib/python2.7/pstats.py', '/etc/pwd.db', '/var/run/ldelf.so.hints', '/var/run/ldelf.so.hints', '/var/mail/bob', '/data/ufs/usr/obj/data/update/buildmeta/freebsd/am', '/dev/kmem', '/dev/kmem', '/lib/libm.so.5', '/dev/kmem', '/usr/local/etc/cclient.cf', '/etc/spwd.db', '/etc/pwd.db', '/lib/libedit.so.7', '/dev/kmem', '/etc/pwd.db', '/etc/group', '/etc/services', '/dev/kmem', '/dev/tty', 'unknown', '/dev/random', '/lib/libxo.so.0', '/dev/kmem', '/etc/pwd.db', '/dev/tty', '/dev/random', '/etc/group', '/dev/kmem', '/dev/kmem']\n",
      "['/usr/local/share/icons/adwaita/48x48/mimetypes/xof', '/etc/spwd.db', '/var/run/ldelf.so.hints', '/dev/kmem', '/etc/services', '/dev/kmem', '/usr/bin/vmstat', '/dev/tty', '/etc/libmap.conf', '/data/update/data/update/buildmeta/freebsd/amd64.a', 'unknown', '/dev/kmem', '/data/update/buildmeta/llvm/build/release/cmakefil', '/usr/src/tools/tools/nanobsd/rescue/..', '/usr/share/zoneinfo/utc', '/etc/services', '/etc/spwd.db', '/etc/spwd.db', '/dev/random', '/usr/ports/misc/help2man/work/stage/usr/local/shar', 'unknown', '/var/run/ldelf.so.hints', '/etc/pwd.db', '/dev/random', '/dev/kmem', '/var/run/ldelf.so.hints', '/usr/share/zoneinfo/posixrules', '/dev/kmem', '/etc/hosts', '/etc/pwd.db', '/usr/local/share/locale/fa_ir/lc_messages/sharedmi', '/etc/pwd.db', '/dev/kmem', '/usr/share/misc/termcap.db', '/dev/random', '/usr/home/darpa/kernel_zones.txt', '/usr/local/lib/python2.7/sitepackages/botocore/dat', '/etc/hosts', '/dev/tty', '/dev/hpet0', '/etc/spwd.db', '/dev/kmem', '/usr/local/lib/python2.7/sitepackages/tornado/test', 'unknown', '/usr/local/lib/libavrocpp_s.a', 'unknown', '/usr/local/share/doc/docbookxsl/images/colorsvg/pr', '/dev/tty', '/dev/kmem', '/var/run/ldelf.so.hints', '/lib/libelf.so.2', '/usr/local/bin/ar', 'unknown', '/data/ufs/usr/local/share/ri/2.4/system/rss/maker/', 'unknown', '/dev/kmem', '/dev/kmem', '/etc/pwd.db', '/dev/tty', 'unknown', '/dev/kmem', '/var/mail/charles', '/usr/local/lib/libpkg.so.4.0.0', '/dev/kmem', '/usr/ports/devel/p5eventexecflow/..', '/usr/lib/libmemstat.so.3', '/dev/kmem', 'unknown', '/dev/kmem', 'none', '/etc/login.conf', '/usr/bin/head', 'unknown', '/var/run/ldelf.so.hints', '/dev/random', '/dev/kmem', '/etc/pwd.db', '/etc/pwd.db', '/etc/group', '/home/charles/sent', 'unknown', '/etc/libmap.conf', '/etc/services', '/dev/random', 'unknown', '/dev/kmem', '/tmp/.31.29ada', '/dev/kmem', '/usr/local/share/doc/pcre/changelog', '/dev/kmem', '/etc/spwd.db.tmp', '/usr/ports/shells/klish', '/etc/libmap.conf', '/usr/src/sys/cddl/dev/dtmalloc/..', '/etc/services', '/dev/kmem', '/etc/pwd.db', '/dev/random', 'unknown', '/dev/kmem', '/dev/random', '/etc/libmap.conf', '/dev/kmem', '/etc/libmap.conf', '/etc/spwd.db', '/usr/share/zoneinfo/utc', '/lib/libc.so.7', '/var/run/ldelf.so.hints', '/dev/kmem', '/dev/random', '/tmp/tmp.4yqyw7', '/dev/kmem', '/dev/random', '/dev/kmem', '/etc/group', '/etc/pwd.db', '/usr/local/include/boost/proto/detail/preprocessed', '/usr/bin/vmstat', '/bin/sleep', '/dev/kmem', '/lib/libm.so.5', '/dev/kmem', '/etc/spwd.db', '/var/run/ldelf.so.hints', '/dev/kmem', '/dev/tty', '/dev/random', '/usr/local/share/emacs/25.3/src/xdisp.c', '/dev/random', '/dev/kmem', '/etc/hosts', '/etc/libmap.conf', '/usr/local/sbin/lsof', '/usr/local/share/licenses/fontconfig2.12.1', '/usr/local/lib/postfix/libpostfixglobal.so', '/dev/kmem', '/dev/kmem', '/etc/spwd.db', '/home/george/archives', '/dev/random', '/usr/obj/data/update/buildmeta/freebsd/amd64.amd64', '/usr/share/misc/termcap.db', '/etc/spwd.db', '/dev/kmem', '/etc/libmap.conf', '/etc/pwd.db', '/dev/random', '/dev/kmem', '/var/run/ldelf.so.hints', '/usr/src/contrib/dma', '/usr/share/zoneinfo/utc', '/usr/include/c/4.2/ext/pb_ds/detail/binomial_heap_', '/usr/share/misc/termcap.db', '/dev/random', '/etc/pwd.db', '/home/frank/.mailboxlist', '/etc/libmap.conf', '/dev/kmem', '/etc/hosts', '/dev/kmem', '/etc/pwd.db', '/dev/kmem', '/dev/tty', '/usr/local/libexec/postfix/trivialrewrite', '/etc/services', '/etc/libmap.conf', '/etc/libmap.conf', '/etc/pwd.db', 'unknown', '/usr/share/zoneinfo/utc', '/dev/random', '/etc/pwd.db', '/var/run/ldelf.so.hints', '/dev/kmem', '/dev/kmem', '/dev/kmem', '/etc/pwd.db', '/var/run/ldelf.so.hints', 'unknown', '/dev/tty', '/dev/kmem', '/lib/libkvm.so.7', '/dev/kmem', '/dev/kmem', '/etc/pwd.db', '/dev/kmem', '/etc/spwd.db', '/dev/random', '/dev/kmem', '/dev/tty', '/dev/kmem', 'unknown', '/etc/libmap.conf', '/etc/libmap.conf', '/dev/kmem', 'unknown', '/etc/pwd.db', '/dev/tty', '/usr/lib/libcom_err.so.5', 'unknown', '/dev/random', '/usr/local/lib/python2.7/sitepackages/salt/netapi/', '/dev/kmem', '/etc/spwd.db', '/etc/rc.conf.local', '/dev/random', '/etc/services', '/home/bob/sent', '/etc/pwd.db', '/dev/kmem', '/dev/random', '/etc/services', '/etc/libmap.conf', '/dev/random', '/dev/kmem', '/dev/kmem', '/usr/home/darpa/kernel_zones.txt', '/dev/random', '/var/run/ldelf.so.hints', '/lib/libelf.so.2', 'unknown', 'unknown', '/var/run/ldelf.so.hints', '/usr/local/lib/python2.7/sitepackages/salt/beacons', '/lib/libm.so.5', '/data/update/data/update/buildmeta/freebsd/amd64.a', '/dev/random', '/dev/kmem', '/lib/libelf.so.2', '/dev/random', '/etc/services', '/dev/kmem', '/usr/lib/libmemstat.so.3', '/dev/kmem', '/dev/kmem', '/dev/kmem', '/dev/random', '/dev/kmem', '/etc/services', '/home/bob/sent', '/dev/kmem', 'active/92a0429d0e', '/etc/pwd.db', '/dev/kmem', '/dev/kmem', '/dev/tty', '/dev/kmem', '/dev/null', '/dev/kmem', '/dev/random', '/dev/hpet0', '/etc/pwd.db', '/lib/libkvm.so.7', '/etc/hosts', '/usr/ports/www/serf/work/stage/usr/local/share/loc', '/dev/kmem', '/dev/kmem', '/dev/kmem', '/home/darpa/.lsof_ta1cadets', '/dev/kmem', '/etc/services', '/etc/pwd.db', '/dev/kmem', '/usr/obj/data/update/buildmeta/freebsd/amd64.amd64', '/usr/local/sbin/pkgstatic', '/lib/libkvm.so.7', '/dev/kmem', '/var/mail/user', '/dev/kmem', '/var/mail/bob', '/etc/libmap.conf', '/etc/pwd.db', '/etc/spwd.db', '/dev/kmem', '/usr/local/libexec/postfix/trivialrewrite', '/dev/random', '/dev/random', '/usr/local/share/doc/imagemagick6/www/distributepi', '/etc/services', '/lib/libelf.so.2', '/usr/ports/devel/apr1/work/stage/usr/local/share/n', 'kernel_zones.txt', '/usr/home/user/eraseme/www.hbo.com/thewire/img/90x', '/etc/pwd.db', '/var/run/ldelf.so.hints', '/var/run/ldelf.so.hints', '/dev/hpet0', '/dev/kmem', 'unknown', '/usr/local/include/tss/tpm.h', '/etc/aliases.db', 'unknown', '/usr/ports/www/p5cgiframework/..', '/usr/local/libexec/gcc6/gcc/x86_64portbldfreebsd12', '/etc/services', '/dev/kmem', '/usr/local/lib/libboost_coroutine.a', '/dev/kmem', '/etc/pwd.db', '/dev/kmem', '/usr/local/libexec/gitcore/gitarchive', '/bin/sleep', '/etc/spwd.db', '/dev/kmem', '/dev/kmem', '/etc/pwd.db', '/var/run/ldelf.so.hints', '/etc/pwd.db', '/dev/kmem', '/dev/random', '/data/update/buildmeta/freebsd/share/doc/usd/10.ex', 'unknown', '/dev/kmem', '/dev/kmem', '/usr/home/darpa/top_procs.txt', '/var/mail/bob', '/dev/kmem', '/dev/kmem', '/var/run/ldelf.so.hints', '/var/log/maillog', '/dev/kmem', '/lib/libutil.so.9', '/dev/kmem', '/usr/ports/math/algae', '/etc/pwd.db', '/etc/pwd.db', '/etc/spwd.db', '/data/update/data/update/buildmeta/freebsd/amd64.a', '/lib/libdevstat.so.7', '/dev/kmem', '/etc/hosts', '/dev/kmem', '/dev/random', '/var/run/ldelf.so.hints', '/dev/kmem', '/dev/random', '/home/bob/sent', '/etc/pwd.db', '/usr/local/x86_64portbldfreebsd12.0/lib/ldscripts/', 'unknown', '/etc/pwd.db', '/dev/kmem', '/usr/src/contrib/libxo/tests/gettext/po/..', 'unknown', '/dev/hpet0', '/dev/random', '/etc/pwd.db', '/etc/pwd.db', '/dev/kmem', '/etc/nsswitch.conf', '/etc/pwd.db', '/dev/tty', '/usr/share/zoneinfo/utc', '/dev/tty', '/bin/sleep', '/etc/resolv.conf', 'unknown', '/home/darpa/.lsof_ta1cadets', '/var/log/maillog', '/var/run/ldelf.so.hints', '/dev/kmem', '/lib/libjail.so.1', '/dev/tty', '/usr/local/etc/postfix/main.cf', '/dev/kmem', '/dev/kmem', '/dev/kmem', '/dev/kmem', '/dev/random', '/dev/random', '/usr/share/zoneinfo/posixrules', '/dev/kmem', '/usr/local/share/icons/hicolor/192x192/stock/media', '/usr/local/x86_64portbldfreebsd12.0/lib/ldscripts/', '/dev/kmem', '/dev/random', '/usr/libexec/saveentropy', '/data/ufs/usr/local/include/boost/log/utility/mani', '/dev/kmem', '/dev/kmem', '/dev/kmem', '/dev/kmem', '/var/mail/bob.lock.1523048501.4828.ta1cadets', '/home/bob/sent', '/etc/pwd.db', '/var/run/ldelf.so.hints', '/var/mail/user.lock', '/etc/group', '/lib/libdevstat.so.7', '/etc/pwd.db', '/etc/group', '/usr/ports/x11clocks/xfce4timerplugin/..', '/usr/local/share/locale/nl/lc_messages/bash.mo', '/dev/kmem', '/etc/libmap.conf', '/etc/pwd.db', '/dev/kmem', '/etc/libmap.conf', '/dev/kmem', '/dev/hpet0', '/etc/hosts', '/lib/libelf.so.2', '/var/run/ldelf.so.hints', '/var/run/ldelf.so.hints', '/dev/random', 'unknown', 'unknown', '/dev/kmem', '/dev/kmem', '/etc/pwd.db', '/dev/kmem', '/var/run/ldelf.so.hints', '/usr/ports/security/pycybox', '/var/spool/postfix/pid/unix.local', '/dev/random', '/dev/kmem', '/dev/kmem', '/usr/local/share/icons/adwaita/16x16/mimetypes/xof', 'unknown', '/etc/spwd.db', '/etc/pwd.db', '/dev/kmem', '/usr/local/share/ri/2.4/system/irb/inspector/initi', '/dev/tty', '/dev/random', 'unknown', '/etc/pwd.db', '/dev/kmem', '/etc/pwd.db', '/etc/services', '/dev/random', '/dev/kmem', '/etc/pwd.db', '/etc/pwd.db', '/usr/lib/libpam.so.6', '/usr/home/darpa/kernel_mem.txt', '/var/mail/charles', '/etc/services', 'unknown', '/dev/devctl', '/etc/pwd.db', '/dev/kmem', '/dev/kmem', '/dev/kmem', 'none', '/etc/hosts', '/etc/services', 'unknown', '/usr/home/user/eraseme', 'unknown', '/dev/tty', 'none', '/var/run/ldelf.so.hints', '/data/update/buildmeta/llvm/tools/clang/test/drive', '/dev/kmem', '/etc/spwd.db', '/dev/random', '/data/update/data/update/buildmeta/freebsd/amd64.a', '/dev/kmem', '/dev/kmem', '/var/run/ldelf.so.hints', '/usr/local/share/doc/imagemagick6/www/api/memory.h', '/etc/services', '/dev/random', '/dev/hpet0', '/etc/services', '/data/update/data/update/buildmeta/freebsd/amd64.a', '/etc/libmap.conf', '/usr/local/lib/python2.7/sitepackages/salt/modules', 'unknown', '/usr/local/lib/postfix/libpostfixglobal.so', '/dev/kmem', '/dev/kmem', '/etc/pwd.db', '/etc/pwd.db', '/dev/kmem', '/dev/kmem', 'unknown', '/dev/kmem', '/etc/libmap.conf', '/dev/tty', 'unknown', '/etc/pwd.db', 'unknown', '/dev/kmem', '/dev/kmem', '/var/run/ldelf.so.hints', 'unknown', '/var/run/ldelf.so.hints', '/etc/hosts', '/usr/home/darpa/top_procs.txt', '/dev/kmem', '/dev/random', '/usr/local/lib/libicui18n.so.60', '/dev/random', '/dev/kmem', '/dev/kmem', 'unknown', '/dev/kmem', '/var/run/ldelf.so.hints', '/usr/local/sbin/pkgstatic', '/etc/nsswitch.conf', '/dev/kmem', '/usr/local/include/boost/config/abi/..', '/etc/pwd.db', '/etc/pwd.db', '/dev/kmem', '/dev/kmem', '/home/frank/sent', '/etc/login.conf', '/lib/libdevstat.so.7', '/usr/ports/textproc/docbookxsl/work/stage/usr/loca']\n"
     ]
    },
    {
     "name": "stdout",
     "output_type": "stream",
     "text": [
      "['/usr/local/lib/libicudata.so.60', '/var/run/ldelf.so.hints', 'unknown', '/dev/kmem', '/etc/libmap.conf', '/data/update/data/update/buildmeta/freebsd/amd64.a', '/dev/tty', '/dev/tty', '/etc/pwd.db', '/var/run/ldelf.so.hints', 'unknown', '/dev/kmem', '/usr/local/libexec/postfix/smtpd', '/etc/pwd.db', '/dev/hpet0', '/var/mail/bob', '/dev/random', '/bin/date', '/dev/random', '/dev/random', '/etc/services', '/dev/kmem', '/dev/random', '/data/gather_stats_uma.txt', 'unknown', '/dev/kmem', '/usr/share/zoneinfo/posixrules', '/etc/pwd.db', '/etc/pwd.db', '/dev/random', '/dev/tty', '/etc/login.conf', '/etc/spwd.db', '/dev/kmem', '/lib/libc.so.7', '/dev/kmem', '/etc/pwd.db', '/etc/pwd.db', '/dev/kmem', 'unknown', '/dev/kmem', '/etc/libmap.conf', '/dev/kmem', '/var/mail/bob', '/dev/kmem', '/dev/kmem', '/data/update/data/update/buildmeta/freebsd/amd64.a', '/dev/kmem', '/etc/nsswitch.conf', '/lib/libc.so.7', 'unknown', '/etc/services', 'unknown', '/dev/kmem', 'unknown', '/dev/kmem', '/etc/pwd.db', '/dev/kmem', '/etc/hosts', '/etc/services', '/dev/kmem', '/etc/libmap.conf', 'unknown', '/etc/libmap.conf', '/etc/pwd.db', 'unknown', 'unknown', '/dev/random', 'unknown', '/etc/services', '/etc/pwd.db', '/usr/home/darpa/kernel_zones.txt', '/var/mail/george.lock.1523223042.49947.ta1cadets', '/etc/pwd.db', '/usr/share/zoneinfo/utc', '/dev/kmem', '/dev/kmem', '/dev/random', '/usr/local/libexec/postfix/dynamicmaps.cf', '/etc/pwd.db', '/etc/pwd.db', '/etc/login.conf', '/lib/libelf.so.2', '/dev/kmem', '/dev/kmem', '/etc/hosts', '/usr/obj/data/update/buildmeta/freebsd/amd64.amd64', '/dev/kmem', '/dev/kmem', '/dev/kmem', '/usr/ports/deskutils/luminamediaplayer', 'unknown', '/dev/kmem', '/usr/lib/pam_permit.so.6', '/usr/bin/head', '/dev/kmem', '/etc/libmap.conf', '/usr/obj/data/update/buildmeta/freebsd/amd64.amd64', '/lib/libdevstat.so.7', 'unknown', '/etc/pwd.db', '/etc/services', '/etc/spwd.db', '/dev/tty', '/etc/libmap.conf', '/dev/kmem', '/etc/libmap.conf', '/dev/tty', '/dev/random', '/etc/pwd.db', '/dev/kmem', '/dev/hpet0', '/data/update/data/update/buildmeta/freebsd/amd64.a', '/var/run/ldelf.so.hints', '/lib/libdevstat.so.7', 'unknown', '/dev/kmem', '/usr/local/lib/libboost_log.a', '/dev/kmem', '/data/ufs/usr/local/include/boost/asio/..', '/dev/hpet0', '/etc/defaults/rc.conf', '/etc/pwd.db', '/data/ufs/usr/obj/data/update/buildmeta/freebsd/am', '/var/mail/bob', '/var/run/ldelf.so.hints', '/etc/pwd.db', '/lib/libgcc_s.so.1', 'unknown', '/data/ufs/usr/tests/usr.bin/bmake/archives/fmt_44b', '/etc/pwd.db', '/dev/random', '/etc/libmap.conf', '/usr/local/include/unicode/ucnv_cb.h', '/etc/services', '/etc/group', '/dev/kmem', '/dev/tty', '/etc/spwd.db', '/usr/local/share/java/zi/africa/casablanca', 'unknown', '/etc/services', '/etc/pwd.db', '/etc/hosts', '/dev/random', '/etc/newsyslog.conf.d/ftp.conf', '/dev/kmem', '/dev/null', '/dev/kmem', '/dev/random', '/etc/pwd.db', '/etc/libmap.conf', '/dev/kmem', '/data/ufs/usr/local/share/gitcore/contrib/credenti', '/var/run/ldelf.so.hints', 'unknown', 'unknown', '/usr/local/share/doc/imagemagick6/www/wand.png', '/etc/hosts', '/dev/tty', 'unknown', '/usr/ports/science/voro', '/usr/local/share/doc/imagemagick6/www/api/magickco', '/usr/ports/math/arpack/files/..', '/etc/pwd.db', '/etc/pwd.db', 'unknown', '/usr/share/misc/termcap.db', '/usr/local/include/boost/type_erasure/deduced.hpp', '/dev/kmem', '/etc/spwd.db', '/dev/random', '/dev/kmem', '/dev/kmem', '/dev/tty', '/etc/hosts', '/etc/pwd.db', '/dev/kmem', '/dev/kmem', '/dev/kmem', '/dev/kmem', '/usr/local/bin/phpcgi', '/dev/kmem', 'unknown', 'unknown', '/etc/pwd.db', '/etc/pwd.db', '/usr/ports/deskutils/gnomescreenshot', 'unknown', '/usr/local/bin/links', '/dev/kmem', '/dev/kmem', '/var/run/ldelf.so.hints', '/etc/pwd.db', '/dev/kmem', '/dev/kmem', '/data/update/buildmeta/freebsd/contrib/libstdc/inc', '/dev/kmem', '/home/george/.mailboxlist', '/dev/kmem', '/etc/login.conf', '/dev/kmem', 'unknown', '/dev/kmem', '/dev/tty', '/etc/spwd.db', '/etc/group', '/dev/kmem', '/var/run/ldelf.so.hints', '/etc/pwd.db', '/usr/ports/x11wm/clementinewm', '/etc/libmap.conf', '/lib/libelf.so.2', '/etc/libmap.conf', '/dev/kmem', '/etc/spwd.db', '/dev/kmem', '/usr/lib/libmemstat.so.3', '/etc/spwd.db', '/etc/login.conf', '/dev/hpet0', '/dev/kmem', '/etc/services', '/usr/share/zoneinfo/posixrules', '/etc/pwd.db', '/dev/kmem', '/dev/kmem', '/dev/kmem', '/dev/kmem', '/etc/spwd.db', '/dev/kmem', '/dev/random', '/dev/kmem', '/var/run/ldelf.so.hints', '/dev/random', 'unknown', '/usr/obj/data/update/buildmeta/freebsd/amd64.amd64', '/home/user/.profile', '/data/update/buildmeta/freebsd/sys/dev/nand', '/dev/tty', '/dev/kmem', '/etc/login.conf', '/etc/services', '/lib/libutil.so.9', '/lib/libxo.so.0', '/dev/kmem', 'unknown', '/usr/local/etc/postfix/main.cf', '/etc/services', 'unknown', '/usr/obj/data/update/buildmeta/freebsd/amd64.amd64', '/etc/services', '/data/ufs/var/spool/postfix/defer/b', 'unknown', '/dev/tty', '/dev/kmem', 'unknown', 'unknown', '/dev/kmem', '/dev/kmem', '/dev/kmem', '/dev/kmem', '/dev/random', '/dev/kmem', '/dev/random', '/dev/random', '/etc/pwd.db', '/dev/kmem', '/etc/login.conf', '/dev/kmem', '/dev/kmem', '/dev/kmem', '/dev/kmem', '/dev/kmem', '/dev/tty', '/lib/libc.so.7', '/usr/share/i18n/csmapper/mapper.dir', '/data/ufs/usr/obj/data/update/buildmeta/freebsd/am', '/dev/kmem', '/dev/kmem', '/dev/kmem', '/etc/pwd.db', '/dev/random', '/dev/random', '/var/run/ldelf.so.hints', '/dev/tty', '/etc/libmap.conf', '/etc/libmap.conf', 'unknown', '/home/george/sent', '/usr/local/bin/ld.bfd', '/etc/services', '/dev/kmem', '/usr/ports/devel/p5modulebuildtiny/..', '/etc/pwd.db', '/etc/hosts', '/dev/kmem', '/dev/random', '/var/mail/bob.lock.1523212537.47082.ta1cadets', '/etc/libmap.conf', '/etc/services', '/lib/libxo.so.0', '/etc/pam.d/other', '/dev/kmem', '/lib/libc.so.7', '/etc/services', '/etc/nsswitch.conf', '/etc/pwd.db', '/dev/kmem', '/dev/random', '/etc/spwd.db', '/var/run/ldelf.so.hints', '/etc/pwd.db', '/dev/kmem', '/etc/spwd.db', '/etc/hosts', '/home/george/.mailboxlist', 'unknown', '/etc/pwd.db', '/var/run/ldelf.so.hints', '/dev/kmem', '/dev/kmem', '/etc/services', '/usr/share/misc/termcap.db', '/dev/kmem', '/dev/kmem', '/dev/kmem', '/bin/sleep', '/etc/spwd.db', '/dev/kmem', '/usr/src/sys/contrib/ngatm/netnatm/msg', '/etc/hosts', '/etc/libmap.conf', '/usr/local/share/locale/uk/..', '/lib/libc.so.7', '/etc/pwd.db', '/dev/random', '/etc/spwd.db', '/usr/local/lib/python2.7/sitepackages/urllib3/pool', '/dev/kmem', '/home/bob/sent', '/var/run/ldelf.so.hints', '/etc/libmap.conf', '/var/run/ldelf.so.hints', '/dev/kmem', '/dev/kmem', '/etc/pwd.db', '/dev/kmem', '/etc/nsswitch.conf', '/usr/share/zoneinfo/utc', '/dev/kmem', '/etc/spwd.db', '/usr/ports/misc/gkrellmbgchg2/..', '/dev/kmem', 'unknown', '/etc/hosts', '/dev/kmem', '/dev/kmem', '/dev/kmem', '/usr/share/misc/termcap.db', '/etc/pwd.db', '/etc/hosts', '/etc/pwd.db', '/etc/services', '/usr/local/lib/python2.7/sitepackages/pytz/zoneinf', '/dev/kmem', '/dev/random', '/usr/ports/security/smtpscan', '/dev/kmem', '/etc/pwd.db', '/var/tmp/vi.recover/vi.axd5tt', '/etc/services', '/usr/local/lib/python2.7/idlelib/editorwindow.pyo', '/dev/kmem', '/dev/kmem', '/lib/libdevstat.so.7', '/dev/random', '/usr/ports/lang/php56/work/stage/usr/local/share/n', 'unknown', '/dev/kmem', '/dev/kmem', '/usr/local/etc/postfix/main.cf', '/dev/kmem', '/usr/home/user/eraseme/www.hbo.com/img/hbo_headers', '/etc/services', '/etc/pwd.db', '/dev/kmem', '/var/run/ldelf.so.hints', '/dev/random', '/dev/kmem', '/data/update/data/update/buildmeta/freebsd/amd64.a', '/dev/kmem', '/dev/kmem', '/dev/kmem', '/dev/kmem', '/dev/kmem', '/dev/kmem', '/dev/kmem', '/usr/ports/games/stormbaancoureur/..', '/home/darpa/.lsof_ta1cadets', '/dev/kmem', '/etc/services', 'unknown', '/usr/local/lib/python2.7/sitepackages/docutils/par', '/dev/tty', '/etc/nsswitch.conf', '/dev/kmem', '/data/update/buildmeta/freebsd/contrib/llvm/tools/', 'unknown', 'unknown', '/etc/resolv.conf', 'unknown', 'unknown', '/dev/random', '/etc/libmap.conf', '/dev/random', '/etc/services', '/dev/kmem', 'unknown', '/etc/services', '/dev/kmem', '/lib/libedit.so.7', '/etc/pwd.db', '/etc/pwd.db', '/etc/services', '/etc/pwd.db', '/etc/spwd.db', '/dev/kmem', '/dev/tty', '/bin/sleep', '/usr/obj/data/update/buildmeta/freebsd/amd64.amd64', 'unknown', '/var/run/ldelf.so.hints', '/usr/local/lib/python2.7/sitepackages/salt/modules', '/etc/pwd.db', 'unknown', '/var/mail/frank.lock.1523057633.7514.ta1cadets', '/etc/services', '/dev/kmem', '/usr/ports/textproc/modlogan/files/..', '/usr/ports/devel/p5localegettext/work/stage/usr/lo', '/etc/pwd.db', '/etc/pwd.db', '/usr/ports/graphics/devil/files/..', '/dev/kmem', 'unknown', 'unknown', '/dev/kmem', '/dev/kmem', '/dev/tty', 'unknown', '/dev/kmem', '/dev/kmem', '/dev/kmem', '/dev/random', '/dev/random', '/dev/random', '/dev/kmem', '/etc/services', '/dev/kmem', '/dev/kmem', '/usr/libexec/saveentropy', '/etc/spwd.db', '/etc/services', '/dev/random', '/home/bob/sent', '/var/run/ldelf.so.hints', '/home/george/sent', '/dev/tty', '/lib/libutil.so.9', '/dev/hpet0', '/dev/tty', '/etc/libmap.conf', '/dev/kmem', '/dev/kmem', '/dev/kmem', '/dev/random', '/etc/nsswitch.conf', 'unknown', '/etc/resolv.conf', '/etc/libmap.conf', '/bin/sleep', '/dev/kmem', '/dev/mem', '/dev/kmem', '/usr/local/libexec/postfix/dynamicmaps.cf', '/dev/hpet0', 'unknown', '/data/update/data/update/buildmeta/freebsd/amd64.a', '/dev/random', '/etc/pwd.db', '/dev/kmem', '/dev/kmem', '/usr/local/libexec/postfix/dynamicmaps.cf', '/dev/random', '/lib/libc.so.7', '/dev/random', '/var/run/ldelf.so.hints', '/dev/kmem', '/dev/random', '/etc/services', '/dev/kmem', '/dev/kmem', '/dev/random', '/etc/services', '/home/bob/sent', '/usr/local/include/boost/type_traits/has_divides.h', '/dev/random', '/etc/pwd.db', '/dev/kmem', '/bin/dd', '/etc/libmap.conf']\n",
      "['/dev/kmem', '/etc/libmap.conf', 'unknown', 'unknown', '/usr/local/libexec/postfix/trivialrewrite', '/dev/kmem', '/dev/kmem', '/dev/kmem', '/dev/kmem', '/dev/kmem', '/dev/kmem', '/dev/kmem', '/usr/local/share/doc/db5/articles/inmemory/c/inmem', '/dev/tty', '/etc/hosts', 'unknown', 'unknown', '/var/mail/charles', '/etc/libmap.conf', '/dev/random', 'unknown', '/usr/home/darpa/kernel_zones.txt', '/etc/pwd.db', 'unknown', '/usr/local/sbin/lsof', 'unknown', '/etc/group', '/dev/kmem', '/dev/kmem', '/var/mail/george', '/etc/pwd.db', '/usr/home/bob/..', '/dev/kmem', '/dev/random', '/dev/kmem', '/var/run/ldelf.so.hints', 'unknown', '/lib/libjail.so.1', '/usr/local/share/locale/zh_cn/lc_messages/postgres', '/dev/kmem', '/dev/kmem', '/etc/pwd.db', '/dev/kmem', '/lib/libm.so.5', '/dev/kmem', '/usr/local/libexec/postfix/dynamicmaps.cf.d/pcre.c', '/dev/kmem', '/var/mail/charles', '/etc/pwd.db', '/etc/pwd.db', '/dev/random', '/usr/ports/devel/amd64gcc', '/etc/pwd.db', '/etc/pwd.db', '/dev/hpet0', '/etc/pwd.db', '/usr/local/libexec/gitcore/gitcheckout', '/dev/kmem', '/etc/spwd.db', '/etc/hosts', '/dev/kmem', '/dev/kmem', '/etc/pwd.db', '/dev/kmem', '/dev/kmem', '/dev/kmem', '/usr/local/sbin/lsof', '/dev/kmem', '/dev/kmem', '/dev/kmem', 'unknown', '/etc/pwd.db', '/etc/pwd.db', '/dev/kmem', '/dev/random', '/etc/hosts', '/usr/local/bin/x86_64portbldfreebsd12.0c6', '/dev/kmem', '/dev/random', '/etc/pwd.db', '/etc/services', 'unknown', '/etc/services', '/dev/hpet0', '/etc/services', '/usr/local/lib/python2.7/sitepackages/salt/seriali', '/var/run/ldelf.so.hints', '/dev/tty', '/dev/kmem', '/etc/services', '/usr/local/include/boost/phoenix/stl/cmath.hpp', 'unknown', '/etc/pwd.db', '/var/run/ldelf.so.hints', 'unknown', '/usr/local/lib/python2.7/sitepackages/urllib3/conn', 'unknown', '/dev/kmem', '/lib/libncursesw.so.8', '/etc/pwd.db', '/var/run/ldelf.so.hints', '/etc/pwd.db', '/dev/kmem', '/dev/kmem', '/etc/spwd.db', '/var/run/ldelf.so.hints', '/dev/hpet0', '/usr/ports/textproc/docbookxml/work/stage/usr/loca', '/etc/login.conf', '/usr/share/misc/termcap.db', '/lib/libgcc_s.so.1', '/dev/kmem', '/dev/kmem', '/usr/lib/pam_unix.so.6', '/var/run/ldelf.so.hints', '/dev/random', 'unknown', '/lib/libc.so.7', '/lib/libncursesw.so.8', '/home/user/.bash_history', '/etc/libmap.conf', '/etc/pwd.db', '/lib/libelf.so.2', 'unknown', '/dev/random', '/dev/kmem', '/dev/kmem', '/dev/tty', '/etc/hosts', '/etc/defaults/rc.conf', '/etc/services', '/dev/kmem', '/etc/libmap.conf', '/etc/pwd.db', '/home/george/sent', '/var/run/ldelf.so.hints', '/usr/obj/data/update/buildmeta/freebsd/amd64.amd64', '/dev/tty', '/usr/share/zoneinfo/posixrules', '/dev/kmem', 'none', '/etc/pwd.db', '/var/run/ldelf.so.hints', '/lib/libc.so.7', '/dev/kmem', '/dev/kmem', '/dev/tty', 'none', 'unknown', '/lib/libkvm.so.7', '/usr/obj/data/update/buildmeta/freebsd/amd64.amd64', '/etc/pwd.db', '/dev/kmem', '/dev/kmem', '/etc/resolv.conf', '/dev/random', '/usr/local/x86_64portbldfreebsd12.0/lib/ldscripts/', '/etc/libmap.conf', '/data/ufs/usr/tests/usr.bin/calendar/..', '/dev/kmem', '/dev/tty', '/etc/pwd.db', '/bin/sleep', '/usr/local/lib/python3.6/encodings/__pycache__/cp1', '/dev/tty', '/usr/local/include/boost/fusion/container/list/det', '/etc/login.conf', '/etc/spwd.db', '/etc/pwd.db', '/dev/kmem', 'unknown', '/usr/local/lib/libavrocpp_s.a', '/dev/tty', '/etc/services', '/dev/kmem', '/dev/kmem', '/dev/kmem', '/dev/kmem', '/usr/local/bin/sqlite3', '/dev/kmem', 'unknown', '/dev/kmem', '/dev/kmem', '/etc/pwd.db', '/usr/obj/data/update/buildmeta/freebsd/amd64.amd64', '/etc/pwd.db', 'unknown', '/dev/kmem', '/usr/ports/security/linuxc7p11kit', '/usr/local/share/doc/imagemagick6/www/api/magickco', '/dev/kmem', 'unknown', '/etc/resolv.conf', 'kernel_zones.txt', '/usr/local/share/xsl/docbook/highlighting/delphihl', 'unknown', '/etc/pwd.db', '/dev/kmem', 'unknown', '/tmp/.31.29ada', '/dev/kmem', '/etc/pwd.db', '/etc/spwd.db', '/var/run/ldelf.so.hints', '/usr/local/lib/libicui18n.so.60.2', '/dev/kmem', '/dev/random', '/etc/libmap.conf', '/etc/pwd.db', '/etc/libmap.conf', '/etc/pwd.db', '/etc/pwd.db', '/usr/local/share/libwmf', '/etc/spwd.db', '/usr/local/lib/imagemagick6.9.9/modulesq16/coders/', '/dev/kmem', '/etc/login.conf', '/etc/pwd.db', '/etc/pwd.db', '/dev/kmem', '/dev/random', 'unknown', '/etc/login.conf', '/dev/kmem', '/etc/services', '/etc/services', '/dev/kmem', '/etc/spwd.db', '/etc/hosts', '/dev/kmem', '/dev/random', 'unknown', '/dev/random', '/dev/kmem', '/dev/tty', '/usr/local/share/icons/adwaita/scalable/devices/in', '/var/mail/bob', 'unknown', '/var/run/ldelf.so.hints', '/dev/kmem', '/dev/kmem', '/dev/kmem', '/etc/spwd.db', '/dev/kmem', '/var/db/entropy/savedentropy.5', '/dev/kmem', '/var/run/ldelf.so.hints', '/etc/services', '/dev/kmem', '/usr/local/lib/perl5/5.24/mach/auto/unicode/collat', '/home/frank/sent', '/dev/kmem', 'unknown', '/usr/home/darpa/librdkafka0.9.4', '/usr/src/contrib/libexecinfo', '/etc/hosts', '/var/mail/bob', '/lib/libxo.so.0', '/dev/random', '/etc/libmap.conf', '/etc/libmap.conf', '/dev/kmem', '/lib/libc.so.7', '/dev/random', '/dev/kmem', '/etc/services', 'unknown', '/dev/random', '/data/gather_stats_uma.txt', '/var/run/ldelf.so.hints', '/dev/kmem', '/etc/services', '/etc/services', '/usr/local/share/icons/adwaita/22x22/apps/preferen', '/etc/rc.conf.local', '/var/run/ldelf.so.hints', 'kernel_zones.txt', '/etc/services', '/dev/kmem', 'unknown', '/dev/kmem', '/usr/local/etc/postfix/main.cf', '/usr/bin/top', '/var/run/ldelf.so.hints', '/usr/local/share/emacs/25.3/lisp/org/orgcolview.el', '/dev/random', '/usr/local/libexec/postfix/local', '/dev/kmem', '/dev/kmem', '/home/frank/archives.lock.1522949868.57133.ta1cade', '/usr/ports/portsmgmt/pkg_replace', '/etc/pwd.db', '/dev/kmem', '/etc/services', '/dev/kmem', '/dev/kmem', '/dev/kmem', '/dev/kmem', '/dev/tty', '/var/run/ldelf.so.hints', '/sbin/sysctl', '/dev/kmem', '/etc/hosts', '/usr/local/libexec/gitcore/gitarchive', '/home/frank/sent', '/dev/random', '/dev/random', '/var/run/ldelf.so.hints', 'unknown', '/data/update/data/update/buildmeta/freebsd/amd64.a', '/bin/sleep', '/dev/kmem', '/dev/kmem', '/dev/tty', '/dev/kmem', '/dev/kmem', '/dev/random', 'unknown', '/dev/kmem', '/usr/local/include/gtk2.0/gtk/gtkpaned.h', '/dev/kmem', 'unknown', '/etc/services', '/var/run/ldelf.so.hints', '/dev/kmem', '/data/ufs/usr/obj/data/update/buildmeta/freebsd/am', '/dev/kmem', '/dev/kmem', '/usr/local/lib/postfix/libpostfixdns.so', '/etc/pwd.db', '/dev/random', '/dev/kmem', '/etc/pwd.db', '/dev/tty', '/etc/hosts', '/dev/kmem', '/var/run/ldelf.so.hints', '/dev/kmem', '/dev/kmem', '/etc/libmap.conf', '/dev/random', '/dev/kmem', '/usr/ports/math/apc/..', '/dev/kmem', '/var/db/entropy/savedentropy.1', 'unknown', '/dev/kmem', '/etc/libmap.conf', '/etc/libmap.conf', '/dev/kmem', '/usr/local/share/locale/eo/lc_messages/gdbm.mo', '/usr/lib/pam_login_access.so.6', '/etc/services', '/usr/local/share/doc/db5/gsg/cxx/berkeleydbcorecxx', '/dev/kmem', '/etc/libmap.conf', '/home/bob/sent', '/usr/local/share/icons/adwaita/24x24/actions/docum', '/etc/pwd.db', '/home/charles/.mailboxlist', '/usr/local/libexec/postfix/dynamicmaps.cf', '/etc/pwd.db', '/usr/local/lib/libbfd.a', '/dev/kmem', '/etc/spwd.db', '/usr/local/sbin/lsof', '/dev/kmem', '/var/mail/frank', '/dev/kmem', '/etc/spwd.db', '/dev/kmem', '/dev/kmem', '/etc/nsswitch.conf', 'unknown', '/usr/local/lib/libicui18n.so.60', '/etc/login.conf', '/dev/kmem', '/usr/local/share/icons/hicolor/22x22/intl/..', '/usr/share/zoneinfo/posixrules', '/etc/pwd.db', 'unknown', '/etc/spwd.db', '/var/db/entropy/savedentropy.3', '/bin/sleep', 'unknown', '/dev/kmem', '/etc/pwd.db', '/etc/rc.conf', 'unknown', '/usr/ports/devel/gettexttools/work/stage/usr/local', '/usr/local/libexec/gcc6/gcc/x86_64portbldfreebsd12', '/etc/services', 'unknown', '/dev/kmem', 'unknown', '/dev/tty', '/dev/random', '/usr/local/lib/libicuuc.so.60.2', '/dev/random', '/home/frank/sent', '/etc/spwd.db', '/lib/libc.so.7', '/dev/kmem', '/lib/libdevstat.so.7', 'unknown', '/lib/libcrypto.so.8', '/etc/pwd.db', '/etc/hosts', '/etc/libmap.conf', 'unknown', '/dev/kmem', '/etc/services', '/dev/kmem', '/usr/ports/graphics/cegui', '/dev/kmem', '/etc/spwd.db', '/etc/services', '/dev/random', '/dev/kmem', '/dev/kmem', '/etc/libmap.conf', '/etc/libmap.conf', '/dev/kmem', 'unknown', '/dev/tty', '/dev/tty', '/dev/kmem', '/etc/services', '/etc/resolv.conf', '/home/george/.mailboxlist', 'unknown', '/dev/kmem', '/etc/pwd.db', '/dev/kmem', '/dev/kmem', '/etc/hosts', '/etc/defaults/rc.conf', 'unknown', '/etc/libmap.conf', '/etc/pwd.db', '/etc/pwd.db', '/data/ufs/usr/local/share/ri/2.4/system/rss/maker/', '/dev/random', '/usr/bin/vmstat', '/dev/hpet0', '/dev/kmem', '/dev/kmem', '/dev/kmem', '/dev/kmem', '/var/run/ldelf.so.hints', '/dev/kmem', '/dev/urandom', '/dev/kmem', '/dev/kmem', '/etc/pwd.db', 'unknown', '/etc/spwd.db', '/dev/random', '/dev/kmem', 'unknown', '/dev/tty', '/dev/kmem', '/dev/kmem', '/dev/kmem', '/dev/hpet0', '/dev/random', '/home/george/sent', '/etc/group', '/var/run/ldelf.so.hints', '/dev/random', '/dev/kmem', 'top_procs.txt', 'unknown', '/etc/hosts', '/dev/hpet0', '/dev/random', '/dev/kmem', '/dev/random', '/etc/libmap.conf', '/etc/pwd.db', '/etc/pwd.db', 'unknown', '/dev/kmem', '/usr/share/zoneinfo/posixrules', 'unknown', '/dev/kmem', '/etc/spwd.db', '/usr/local/lib/python2.7/ensurepip/_uninstall.pyc', '/dev/kmem', '/usr/lib/pam_unix.so.6', 'unknown', 'unknown', '/usr/src/contrib/llvm/tools/lld/tools', '/etc/spwd.db', '/dev/kmem', '/usr/src/contrib/llvm/lib/target/sparc/disassemble', 'unknown', '/usr/obj/data/update/buildmeta/freebsd/amd64.amd64', '/bin/sleep', 'unknown', '/usr/local/x86_64portbldfreebsd12.0/bin/ar', '/dev/kmem', '/dev/kmem', 'unknown', '/tmp/.31.29d08', '/etc/pwd.db', '/dev/mem', '/dev/kmem', 'unknown', '/etc/spwd.db', '/var/mail/bob.lock.1522959287.60176.ta1cadets', '/etc/services']\n",
      "['/etc/hosts.allow', '/etc/nsswitch.conf', 'unknown', '/dev/kmem', '/dev/kmem', '/etc/pwd.db', '/dev/kmem', '/dev/kmem', '/dev/kmem', '/dev/kmem', '/dev/random', 'unknown', '/dev/random', '/usr/local/libexec/gitcore/gitdiffindex', '/etc/spwd.db', '/lib/libdevstat.so.7', '/dev/random', '/dev/random', '/dev/kmem', '/etc/services', '/dev/kmem', '/dev/kmem', '/etc/spwd.db', '/dev/random', '/dev/kmem', '/bin/sleep', '/var/mail/user', '/dev/hpet0', '/dev/tty', '/dev/tty', 'unknown', '/etc/login.conf', '/etc/spwd.db', 'unknown', '/etc/spwd.db', '/dev/kmem', '/etc/libmap.conf', '/var/run/ldelf.so.hints', '/usr/share/zoneinfo/utc', 'unknown', '/home/user/mail/sentmail', '/lib/libelf.so.2', '/dev/tty', '/dev/tty', '/bin/sleep', '/dev/kmem', '/home/george/.mailboxlist', '/usr/local/share/locale/tl/lc_messages/..', '/usr/local/etc/postfix/main.cf', '/lib/libkvm.so.7', '/dev/random', '/dev/kmem', '/dev/kmem', '/usr/local/share/subversion/serverside/svnpubsub/s', '/dev/random', '/home/darpa/.lsof_ta1cadets', '/data/ufs/usr/local/include/avahicommon', '/etc/services', '/dev/kmem', '/dev/kmem', '/dev/random', '/usr/share/misc/termcap.db', '/home/henry/.mailboxlist', '/dev/kmem', '/home/darpa/.lsof_ta1cadets', '/etc/libmap.conf', '/etc/pwd.db', '/dev/kmem', '/dev/kmem', '/dev/kmem', '/home/user/.profile', '/var/run/ldelf.so.hints', '/etc/pwd.db', 'top_procs.txt', '/dev/kmem', 'unknown', '/etc/pam.d/other', '/var/mail/bob', 'maillog', '/etc/pwd.db', '/dev/kmem', 'unknown', '/dev/kmem', '/dev/hpet0', '/dev/random', '/usr/local/share/gtkdoc/html/harfbuzz/clusters.htm', '/dev/kmem', '/dev/hpet0', '/dev/kmem', '/dev/kmem', '/dev/tty', '/usr/local/include/boost/beast/http/string_body.hp', '/home/darpa/.lsof_ta1cadets', 'unknown', '/dev/kmem', '/data/ufs/usr/obj/data/update/buildmeta/freebsd/am', '/usr/src/contrib/libarchive/cat/..', '/usr/local/lib/python3.6/sitepackages/pip/_vendor/', '/dev/kmem', '/dev/kmem', '/bin/sleep', '/etc/pwd.db', '/dev/kmem', '/etc/pwd.db', '/etc/spwd.db', '/usr/local/lib/libicuuc.so.60.2', '/lib/libkvm.so.7', '/etc/login.conf', '/dev/kmem', 'unknown', '/etc/pwd.db', '/dev/kmem', '/dev/kmem', '/var/mail/frank', '/dev/kmem', '/dev/kmem', '/usr/local/include/boost/thread/concurrent_queues/', '/dev/kmem', '/data/gather_stats_uma.txt', '/dev/kmem', '/var/db/entropy/savedentropy.2', 'unknown', '/dev/kmem', '/bin/sleep', '/etc/pwd.db', '/bin/sleep', '/dev/kmem', '/etc/nsswitch.conf', '/dev/random', 'unknown', '/etc/pwd.db', '/etc/defaults/rc.conf', '/usr/local/libexec/imapd', '/dev/kmem', '/etc/spwd.db', '/dev/tty', '/dev/random', '/dev/kmem', '/dev/kmem', '/dev/kmem', '/dev/kmem', '/dev/kmem', '/dev/kmem', '/dev/hpet0', '/home/darpa/.lsof_ta1cadets', '/usr/local/lib/gcc6/gcc/x86_64portbldfreebsd12.0/6', 'unknown', '/usr/ports/net/libpcap/work/stage/usr/local/share/', '/dev/random', '/dev/kmem', '/usr/local/bin/gcovtool6', '/dev/kmem', '/usr/local/share/ghostscript/9.16/resource/font/bo', '/data/gather_stats_uma.txt', '/usr/share/games/fortune/freebsdtips.dat', '/lib/libelf.so.2', '/var/run/ldelf.so.hints', '/dev/kmem', '/dev/hpet0', '/etc/pwd.db', '/etc/hosts', '/etc/pam.d/imap', '/usr/local/etc/cclient.cf', '/etc/pwd.db', '/usr/local/include/unicode/icuplug.h', '/etc/hosts', '/dev/kmem', '/dev/random', '/dev/kmem', '/etc/nsswitch.conf', '/var/run/ldelf.so.hints', '/dev/kmem', '/usr/src/bin/ln/tests', '/lib/libc.so.7', '/lib/libc.so.7', '/etc/pwd.db', '/var/mail/david.lock.1523342109.78086.ta1cadets', '/usr/share/misc/termcap.db', 'unknown', '/dev/kmem', '/data/update/buildmeta/freebsd/sys/modules/iwifw/.', '/usr/src/secure/usr.bin/sshkeyscan', '/dev/tty', 'unknown', '/dev/kmem', '/var/run/ldelf.so.hints', '/etc/hosts', '/dev/kmem', '/dev/kmem', '/dev/kmem', '/usr/obj/data/update/buildmeta/freebsd/amd64.amd64', '/dev/kmem', '/dev/kmem', '/usr/lib/pam_opieaccess.so.6', '/etc/pwd.db', '/dev/kmem', '/dev/tty', '/dev/kmem', '/usr/local/share/doc/imagemagick6/www/api/magickco', '/usr/local/libexec/gitcore/gitcolumn', '/usr/local/x86_64portbldfreebsd12.0/lib/ldscripts/', '/dev/random', '/etc/resolv.conf', '/dev/tty', 'unknown', '/var/mail/bob', '/dev/kmem', '/etc/pwd.db', '/usr/ports/devel/p5localegettext/work/stage/usr/lo', '/usr/local/lib/perl5/5.24/mach/perlio/..', '/etc/pwd.db', '/usr/share/zoneinfo/posixrules', '/var/run/ldelf.so.hints', '/usr/local/lib/ruby/2.4/rss/content/1.0.rb', '/etc/hosts', '/etc/libmap.conf', '/etc/nsswitch.conf', '/etc/spwd.db', '/dev/kmem', '/dev/hpet0', '/usr/ports/audio/fcplay/..', '/usr/local/lib/libplc4.so', '/etc/spwd.db', '/dev/kmem', '/usr/libexec/saveentropy', '/var/run/ldelf.so.hints', '/etc/pwd.db', '/dev/kmem', '/usr/libexec/saveentropy', 'kernel_zones.txt', 'unknown', '/dev/kmem', '/etc/services', '/etc/group', '/dev/kmem', '/data/update/buildmeta/freebsd/sys/gnu/dts/include', '/etc/hosts.allow', 'unknown', '/etc/spwd.db', '/usr/local/lib/libsvn_subr1.a', '/usr/local/etc/postfix/main.cf', '/etc/pwd.db', '/etc/libmap.conf', '/dev/kmem', 'unknown', '/etc/pwd.db', '/home/henry/sent', '/etc/login.conf', '/etc/services', 'unknown', 'unknown', '/etc/pwd.db', '/dev/hpet0', '/var/run/ldelf.so.hints', '/etc/pwd.db', '/data/update/buildmeta/llvm/build/release/tools/cl', '/var/mail/user', 'unknown', '/data/update/data/update/buildmeta/freebsd/amd64.a', '/dev/kmem', '/dev/kmem', 'kernel_zones.txt', '/etc/pwd.db', '/lib/libc.so.7', '/dev/kmem', '/etc/hosts', '/dev/kmem', '/usr/lib/libroken.so.11', '/home/user/mail/sentmail', '/dev/kmem', 'unknown', '/dev/kmem', '/dev/kmem', '/dev/kmem', '/dev/kmem', '/dev/kmem', '/tmp/.ximunix', '/usr/local/lib/libopcodes.a', '/dev/random', '/usr/ports/devel/boehmgc/work/stage/usr/local/shar', 'unknown', 'unknown', '/var/mail/bob', '/home/user/mail/sentmail', '/etc/hosts', '/var/mail/frank', '/dev/kmem', '/dev/kmem', '/var/mail/frank.lock', '/var/mail/george', '/bin/sleep', '/lib/libc.so.7', '/usr/local/share/ghostscript/9.16/doc/drivers.htm', '/usr/local/info/gnutls.info', '/usr/share/zoneinfo/posixrules', '/etc/pwd.db', '/dev/tty', '/etc/pwd.db', '/dev/random', '/var/run/ldelf.so.hints', '/etc/login.conf', '/dev/kmem', '/dev/kmem', '/usr/bin/head', '/usr/lib/libmemstat.so.3', '/etc/nsswitch.conf', '/etc/libmap.conf', '/lib/libc.so.7', 'www.hbo.com/films/index.htmlntrack_para1latest5_im', '/dev/kmem', '/etc/hosts', '/dev/kmem', '/etc/login.conf', 'unknown', '/usr/local/x86_64portbldfreebsd12.0/lib/ldscripts/', '/etc/pwd.db', '/dev/kmem', '/dev/kmem', '/etc/pwd.db', '/dev/kmem', '/dev/random', '/etc/pwd.db', '/etc/spwd.db', '/dev/kmem', '/etc/pwd.db', '/data/update/buildmeta/llvm/build/release/examples', '/etc/services', '/etc/libmap.conf', '/dev/kmem', '/lib/libc.so.7', '/dev/kmem', '/etc/libmap.conf', '/lib/libelf.so.2', '/dev/kmem', '/usr/bin/head', '/etc/pwd.db', '/var/run/ldelf.so.hints', 'unknown', '/etc/hosts', 'unknown', 'unknown', 'unknown', '/usr/local/lib/python2.7/sitepackages/botocore/dat', 'unknown', '/dev/kmem', '/usr/local/lib/perl5/5.24/unicore/lib/bidim', '/dev/kmem', '/dev/random', '/etc/services', '/etc/spwd.db', '/var/run/ldelf.so.hints', '/dev/random', '/etc/libmap.conf', '/dev/kmem', '/usr/share/zoneinfo/posixrules', '/dev/kmem', '/var/run/ldelf.so.hints', '/dev/kmem', '/lib/libc.so.7', '/etc/pwd.db', '/usr/local/etc/cclient.cf', '/dev/kmem', '/dev/kmem', 'unknown', '/dev/kmem', '/dev/random', '/dev/random', '/home/george/.mailboxlist', '/etc/hosts', '/dev/kmem', '/etc/pwd.db', '/usr/local/lib/python2.7/encodings/cp737.py', '/data/ufs/usr/local/share/icons/hicolor/192x192/st', '/usr/local/libexec/postfix/dynamicmaps.cf', '/usr/bin/vmstat', '/etc/pwd.db', '/dev/kmem', '/dev/hpet0', '/etc/spwd.db', '/etc/services', 'unknown', '/usr/local/libexec/postfix/dynamicmaps.cf.d/pcre.c', '/dev/kmem', '/usr/local/include/boost/xpressive/detail/static/t', '/var/run/ldelf.so.hints', '/var/run/ldelf.so.hints', '/dev/kmem', '/dev/kmem', '/etc/services', '/etc/libmap.conf', '/usr/local/include/apr1/apr_file_io.h', '/bin/sleep', '/lib/libcrypto.so.8', '/dev/kmem', '/dev/hpet0', '/etc/libmap.conf', '/dev/hpet0', '/usr/local/sbin/lsof', '/usr/bin/top', '/var/run/ldelf.so.hints', '/dev/random', 'unknown', '/dev/kmem', '/dev/kmem', 'unknown', '/dev/kmem', '/dev/kmem', '/etc/pwd.db', '/dev/kmem', '/lib/libutil.so.9', '/bin/sleep', '/etc/pwd.db', '/etc/pwd.db', '/etc/spwd.db', '/etc/services', '/etc/services', '/dev/kmem', '/data/update/buildmeta/llvm/test/transforms/loopun', '/usr/lib/pam_permit.so.6', '/dev/kmem', '/dev/kmem', '/usr/local/etc/postfix/main.cf', '/etc/pwd.db', '/dev/kmem', 'unknown', '/data/update/data/update/buildmeta/freebsd/amd64.a', '/dev/kmem', '/usr/local/share/locale/vi/lc_messages/gettexttool', '/dev/random', '/dev/random', '/usr/obj/data/update/buildmeta/freebsd/amd64.amd64', '/dev/kmem', '/dev/kmem', '/var/run/ldelf.so.hints', '/dev/kmem', '/dev/kmem', '/dev/kmem', '/dev/kmem', '/etc/nsswitch.conf', '/dev/kmem', 'unknown', '/dev/kmem', '/dev/kmem', '/etc/services', '/lib/libc.so.7', '/etc/services', '/etc/services', '/etc/services', '/etc/hosts', 'unknown', '/dev/kmem', '/data/update/buildmeta/llvm/build/release/utils/ya', '/etc/defaults/rc.conf', '/dev/kmem', '/dev/kmem', '/usr/local/share/icons/adwaita/22x22/actions/views', '/etc/libmap.conf', '/usr/local/etc/postfix/main.cf', '/etc/spwd.db', '/dev/kmem', '/dev/kmem', 'unknown', '/etc/spwd.db', '/dev/kmem', '/dev/kmem', '/usr/local/libexec/gitcore/gitclean', '/dev/kmem', '/dev/kmem', '/dev/kmem', '/dev/kmem', '/dev/kmem', '/dev/kmem', '/usr/bin/vmstat', '/dev/null', '/dev/kmem', '/data/ufs/usr/home/darpa/.m2/repository/com/bbn/tc', '/dev/kmem', '/etc/pwd.db', 'unknown', '/var/run/ldelf.so.hints', '/dev/kmem', '/dev/kmem', '/dev/random', '/etc/libmap.conf', '/etc/libmap.conf', '/home/george/sent', '/usr/share/misc/termcap.db', '/usr/lib/libssl.so.8', '/etc/services', '/dev/kmem', '/etc/services', '/usr/local/lib/libgs.so.9.16', '/etc/pwd.db', '/dev/kmem', '/var/run/ldelf.so.hints', '/dev/kmem', '/etc/resolv.conf', 'unknown', '/dev/random', '/var/run/ldelf.so.hints', '/dev/kmem', '/etc/spwd.db', '/usr/local/lib/gcc6/libstdc.a', '/usr/share/zoneinfo/utc', '/etc/resolv.conf', '/dev/kmem', '/lib/geom/..', 'unknown', '/etc/pwd.db', '/dev/tty', 'unknown', '/home/user/mail/']\n"
     ]
    }
   ],
   "source": [
    "# debug print first 5 entries in each set\n",
    "\n",
    "for i in range(5):\n",
    "    print(f'{vectorized_to_string(train_gen[i][0], idx_to_char)}')\n",
    "print()\n",
    "\n",
    "for i in range(5):\n",
    "    print(f'{vectorized_to_string(val_gen[i][0], idx_to_char)}')\n",
    "print()\n",
    "\n",
    "for i in range(5):\n",
    "    print(f'{vectorized_to_string(test_gen[i][0], idx_to_char)}')\n",
    "print()\n",
    "\n",
    "# first 5 in full dataset\n",
    "for i in range(5):\n",
    "    print(f'{vectorized_to_string(x_gen[i][0], idx_to_char)}')"
   ]
  },
  {
   "cell_type": "code",
   "execution_count": 13,
   "metadata": {
    "execution": {
     "iopub.execute_input": "2024-08-26T09:58:18.570840Z",
     "iopub.status.busy": "2024-08-26T09:58:18.570574Z",
     "iopub.status.idle": "2024-08-26T09:58:18.577567Z",
     "shell.execute_reply": "2024-08-26T09:58:18.576842Z"
    }
   },
   "outputs": [],
   "source": [
    "# build model\n",
    "def build_autoencoder(vocab_size, fixed_length, latent_dim, hidden_dim, recurrent_layers):\n",
    "    encoder_input = Input(shape=(fixed_length,))\n",
    "    x = Embedding(input_dim=vocab_size+1, output_dim=hidden_dim)(encoder_input)\n",
    "\n",
    "    for i in range(recurrent_layers):\n",
    "        if i == recurrent_layers - 1:\n",
    "            # Last LSTM layer should not return sequences\n",
    "            x = LSTM(hidden_dim, return_sequences=False)(x)\n",
    "        else:\n",
    "            x = LSTM(hidden_dim, return_sequences=True)(x)\n",
    "\n",
    "    latent_output = Dense(latent_dim, activation='relu')(x)\n",
    "\n",
    "    # Create the encoder model\n",
    "    encoder = Model(encoder_input, latent_output, name='encoder')\n",
    "\n",
    "    # Decoder definition\n",
    "    decoder_input = Input(shape=(latent_dim,))\n",
    "    x = Dense(hidden_dim, activation='relu')(decoder_input)\n",
    "    x = RepeatVector(fixed_length)(x)\n",
    "    for i in range(recurrent_layers):\n",
    "        x = LSTM(hidden_dim, return_sequences=True)(x)\n",
    "\n",
    "    decoder_output = TimeDistributed(Dense(vocab_size+1, activation='softmax'))(x)\n",
    "\n",
    "    # Create the decoder model\n",
    "    decoder = Model(decoder_input, decoder_output, name='decoder')\n",
    "\n",
    "    # Autoencoder definition\n",
    "    autoencoder_input = encoder_input\n",
    "    encoded_sequence = encoder(autoencoder_input)\n",
    "    decoded_sequence = decoder(encoded_sequence)\n",
    "\n",
    "    # Create the autoencoder model by combining encoder and decoder\n",
    "    autoencoder = Model(autoencoder_input, decoded_sequence, name='autoencoder')\n",
    "\n",
    "    autoencoder.compile(optimizer='adam', loss='sparse_categorical_crossentropy', metrics=['accuracy'])\n",
    "\n",
    "    return encoder, decoder, autoencoder"
   ]
  },
  {
   "cell_type": "code",
   "execution_count": 14,
   "metadata": {
    "execution": {
     "iopub.execute_input": "2024-08-26T09:58:18.581601Z",
     "iopub.status.busy": "2024-08-26T09:58:18.581330Z",
     "iopub.status.idle": "2024-08-26T09:58:19.336524Z",
     "shell.execute_reply": "2024-08-26T09:58:19.335948Z"
    }
   },
   "outputs": [
    {
     "data": {
      "text/html": [
       "<pre style=\"white-space:pre;overflow-x:auto;line-height:normal;font-family:Menlo,'DejaVu Sans Mono',consolas,'Courier New',monospace\"><span style=\"font-weight: bold\">Model: \"encoder\"</span>\n",
       "</pre>\n"
      ],
      "text/plain": [
       "\u001b[1mModel: \"encoder\"\u001b[0m\n"
      ]
     },
     "metadata": {},
     "output_type": "display_data"
    },
    {
     "data": {
      "text/html": [
       "<pre style=\"white-space:pre;overflow-x:auto;line-height:normal;font-family:Menlo,'DejaVu Sans Mono',consolas,'Courier New',monospace\">┏━━━━━━━━━━━━━━━━━━━━━━━━━━━━━━━━━┳━━━━━━━━━━━━━━━━━━━━━━━━┳━━━━━━━━━━━━━━━┓\n",
       "┃<span style=\"font-weight: bold\"> Layer (type)                    </span>┃<span style=\"font-weight: bold\"> Output Shape           </span>┃<span style=\"font-weight: bold\">       Param # </span>┃\n",
       "┡━━━━━━━━━━━━━━━━━━━━━━━━━━━━━━━━━╇━━━━━━━━━━━━━━━━━━━━━━━━╇━━━━━━━━━━━━━━━┩\n",
       "│ input_layer (<span style=\"color: #0087ff; text-decoration-color: #0087ff\">InputLayer</span>)        │ (<span style=\"color: #00d7ff; text-decoration-color: #00d7ff\">None</span>, <span style=\"color: #00af00; text-decoration-color: #00af00\">50</span>)             │             <span style=\"color: #00af00; text-decoration-color: #00af00\">0</span> │\n",
       "├─────────────────────────────────┼────────────────────────┼───────────────┤\n",
       "│ embedding (<span style=\"color: #0087ff; text-decoration-color: #0087ff\">Embedding</span>)           │ (<span style=\"color: #00d7ff; text-decoration-color: #00d7ff\">None</span>, <span style=\"color: #00af00; text-decoration-color: #00af00\">50</span>, <span style=\"color: #00af00; text-decoration-color: #00af00\">128</span>)        │         <span style=\"color: #00af00; text-decoration-color: #00af00\">5,120</span> │\n",
       "├─────────────────────────────────┼────────────────────────┼───────────────┤\n",
       "│ lstm (<span style=\"color: #0087ff; text-decoration-color: #0087ff\">LSTM</span>)                     │ (<span style=\"color: #00d7ff; text-decoration-color: #00d7ff\">None</span>, <span style=\"color: #00af00; text-decoration-color: #00af00\">50</span>, <span style=\"color: #00af00; text-decoration-color: #00af00\">128</span>)        │       <span style=\"color: #00af00; text-decoration-color: #00af00\">131,584</span> │\n",
       "├─────────────────────────────────┼────────────────────────┼───────────────┤\n",
       "│ lstm_1 (<span style=\"color: #0087ff; text-decoration-color: #0087ff\">LSTM</span>)                   │ (<span style=\"color: #00d7ff; text-decoration-color: #00d7ff\">None</span>, <span style=\"color: #00af00; text-decoration-color: #00af00\">50</span>, <span style=\"color: #00af00; text-decoration-color: #00af00\">128</span>)        │       <span style=\"color: #00af00; text-decoration-color: #00af00\">131,584</span> │\n",
       "├─────────────────────────────────┼────────────────────────┼───────────────┤\n",
       "│ lstm_2 (<span style=\"color: #0087ff; text-decoration-color: #0087ff\">LSTM</span>)                   │ (<span style=\"color: #00d7ff; text-decoration-color: #00d7ff\">None</span>, <span style=\"color: #00af00; text-decoration-color: #00af00\">128</span>)            │       <span style=\"color: #00af00; text-decoration-color: #00af00\">131,584</span> │\n",
       "├─────────────────────────────────┼────────────────────────┼───────────────┤\n",
       "│ dense (<span style=\"color: #0087ff; text-decoration-color: #0087ff\">Dense</span>)                   │ (<span style=\"color: #00d7ff; text-decoration-color: #00d7ff\">None</span>, <span style=\"color: #00af00; text-decoration-color: #00af00\">48</span>)             │         <span style=\"color: #00af00; text-decoration-color: #00af00\">6,192</span> │\n",
       "└─────────────────────────────────┴────────────────────────┴───────────────┘\n",
       "</pre>\n"
      ],
      "text/plain": [
       "┏━━━━━━━━━━━━━━━━━━━━━━━━━━━━━━━━━┳━━━━━━━━━━━━━━━━━━━━━━━━┳━━━━━━━━━━━━━━━┓\n",
       "┃\u001b[1m \u001b[0m\u001b[1mLayer (type)                   \u001b[0m\u001b[1m \u001b[0m┃\u001b[1m \u001b[0m\u001b[1mOutput Shape          \u001b[0m\u001b[1m \u001b[0m┃\u001b[1m \u001b[0m\u001b[1m      Param #\u001b[0m\u001b[1m \u001b[0m┃\n",
       "┡━━━━━━━━━━━━━━━━━━━━━━━━━━━━━━━━━╇━━━━━━━━━━━━━━━━━━━━━━━━╇━━━━━━━━━━━━━━━┩\n",
       "│ input_layer (\u001b[38;5;33mInputLayer\u001b[0m)        │ (\u001b[38;5;45mNone\u001b[0m, \u001b[38;5;34m50\u001b[0m)             │             \u001b[38;5;34m0\u001b[0m │\n",
       "├─────────────────────────────────┼────────────────────────┼───────────────┤\n",
       "│ embedding (\u001b[38;5;33mEmbedding\u001b[0m)           │ (\u001b[38;5;45mNone\u001b[0m, \u001b[38;5;34m50\u001b[0m, \u001b[38;5;34m128\u001b[0m)        │         \u001b[38;5;34m5,120\u001b[0m │\n",
       "├─────────────────────────────────┼────────────────────────┼───────────────┤\n",
       "│ lstm (\u001b[38;5;33mLSTM\u001b[0m)                     │ (\u001b[38;5;45mNone\u001b[0m, \u001b[38;5;34m50\u001b[0m, \u001b[38;5;34m128\u001b[0m)        │       \u001b[38;5;34m131,584\u001b[0m │\n",
       "├─────────────────────────────────┼────────────────────────┼───────────────┤\n",
       "│ lstm_1 (\u001b[38;5;33mLSTM\u001b[0m)                   │ (\u001b[38;5;45mNone\u001b[0m, \u001b[38;5;34m50\u001b[0m, \u001b[38;5;34m128\u001b[0m)        │       \u001b[38;5;34m131,584\u001b[0m │\n",
       "├─────────────────────────────────┼────────────────────────┼───────────────┤\n",
       "│ lstm_2 (\u001b[38;5;33mLSTM\u001b[0m)                   │ (\u001b[38;5;45mNone\u001b[0m, \u001b[38;5;34m128\u001b[0m)            │       \u001b[38;5;34m131,584\u001b[0m │\n",
       "├─────────────────────────────────┼────────────────────────┼───────────────┤\n",
       "│ dense (\u001b[38;5;33mDense\u001b[0m)                   │ (\u001b[38;5;45mNone\u001b[0m, \u001b[38;5;34m48\u001b[0m)             │         \u001b[38;5;34m6,192\u001b[0m │\n",
       "└─────────────────────────────────┴────────────────────────┴───────────────┘\n"
      ]
     },
     "metadata": {},
     "output_type": "display_data"
    },
    {
     "data": {
      "text/html": [
       "<pre style=\"white-space:pre;overflow-x:auto;line-height:normal;font-family:Menlo,'DejaVu Sans Mono',consolas,'Courier New',monospace\"><span style=\"font-weight: bold\"> Total params: </span><span style=\"color: #00af00; text-decoration-color: #00af00\">406,064</span> (1.55 MB)\n",
       "</pre>\n"
      ],
      "text/plain": [
       "\u001b[1m Total params: \u001b[0m\u001b[38;5;34m406,064\u001b[0m (1.55 MB)\n"
      ]
     },
     "metadata": {},
     "output_type": "display_data"
    },
    {
     "data": {
      "text/html": [
       "<pre style=\"white-space:pre;overflow-x:auto;line-height:normal;font-family:Menlo,'DejaVu Sans Mono',consolas,'Courier New',monospace\"><span style=\"font-weight: bold\"> Trainable params: </span><span style=\"color: #00af00; text-decoration-color: #00af00\">406,064</span> (1.55 MB)\n",
       "</pre>\n"
      ],
      "text/plain": [
       "\u001b[1m Trainable params: \u001b[0m\u001b[38;5;34m406,064\u001b[0m (1.55 MB)\n"
      ]
     },
     "metadata": {},
     "output_type": "display_data"
    },
    {
     "data": {
      "text/html": [
       "<pre style=\"white-space:pre;overflow-x:auto;line-height:normal;font-family:Menlo,'DejaVu Sans Mono',consolas,'Courier New',monospace\"><span style=\"font-weight: bold\"> Non-trainable params: </span><span style=\"color: #00af00; text-decoration-color: #00af00\">0</span> (0.00 B)\n",
       "</pre>\n"
      ],
      "text/plain": [
       "\u001b[1m Non-trainable params: \u001b[0m\u001b[38;5;34m0\u001b[0m (0.00 B)\n"
      ]
     },
     "metadata": {},
     "output_type": "display_data"
    },
    {
     "data": {
      "text/html": [
       "<pre style=\"white-space:pre;overflow-x:auto;line-height:normal;font-family:Menlo,'DejaVu Sans Mono',consolas,'Courier New',monospace\"><span style=\"font-weight: bold\">Model: \"decoder\"</span>\n",
       "</pre>\n"
      ],
      "text/plain": [
       "\u001b[1mModel: \"decoder\"\u001b[0m\n"
      ]
     },
     "metadata": {},
     "output_type": "display_data"
    },
    {
     "data": {
      "text/html": [
       "<pre style=\"white-space:pre;overflow-x:auto;line-height:normal;font-family:Menlo,'DejaVu Sans Mono',consolas,'Courier New',monospace\">┏━━━━━━━━━━━━━━━━━━━━━━━━━━━━━━━━━┳━━━━━━━━━━━━━━━━━━━━━━━━┳━━━━━━━━━━━━━━━┓\n",
       "┃<span style=\"font-weight: bold\"> Layer (type)                    </span>┃<span style=\"font-weight: bold\"> Output Shape           </span>┃<span style=\"font-weight: bold\">       Param # </span>┃\n",
       "┡━━━━━━━━━━━━━━━━━━━━━━━━━━━━━━━━━╇━━━━━━━━━━━━━━━━━━━━━━━━╇━━━━━━━━━━━━━━━┩\n",
       "│ input_layer_1 (<span style=\"color: #0087ff; text-decoration-color: #0087ff\">InputLayer</span>)      │ (<span style=\"color: #00d7ff; text-decoration-color: #00d7ff\">None</span>, <span style=\"color: #00af00; text-decoration-color: #00af00\">48</span>)             │             <span style=\"color: #00af00; text-decoration-color: #00af00\">0</span> │\n",
       "├─────────────────────────────────┼────────────────────────┼───────────────┤\n",
       "│ dense_1 (<span style=\"color: #0087ff; text-decoration-color: #0087ff\">Dense</span>)                 │ (<span style=\"color: #00d7ff; text-decoration-color: #00d7ff\">None</span>, <span style=\"color: #00af00; text-decoration-color: #00af00\">128</span>)            │         <span style=\"color: #00af00; text-decoration-color: #00af00\">6,272</span> │\n",
       "├─────────────────────────────────┼────────────────────────┼───────────────┤\n",
       "│ repeat_vector (<span style=\"color: #0087ff; text-decoration-color: #0087ff\">RepeatVector</span>)    │ (<span style=\"color: #00d7ff; text-decoration-color: #00d7ff\">None</span>, <span style=\"color: #00af00; text-decoration-color: #00af00\">50</span>, <span style=\"color: #00af00; text-decoration-color: #00af00\">128</span>)        │             <span style=\"color: #00af00; text-decoration-color: #00af00\">0</span> │\n",
       "├─────────────────────────────────┼────────────────────────┼───────────────┤\n",
       "│ lstm_3 (<span style=\"color: #0087ff; text-decoration-color: #0087ff\">LSTM</span>)                   │ (<span style=\"color: #00d7ff; text-decoration-color: #00d7ff\">None</span>, <span style=\"color: #00af00; text-decoration-color: #00af00\">50</span>, <span style=\"color: #00af00; text-decoration-color: #00af00\">128</span>)        │       <span style=\"color: #00af00; text-decoration-color: #00af00\">131,584</span> │\n",
       "├─────────────────────────────────┼────────────────────────┼───────────────┤\n",
       "│ lstm_4 (<span style=\"color: #0087ff; text-decoration-color: #0087ff\">LSTM</span>)                   │ (<span style=\"color: #00d7ff; text-decoration-color: #00d7ff\">None</span>, <span style=\"color: #00af00; text-decoration-color: #00af00\">50</span>, <span style=\"color: #00af00; text-decoration-color: #00af00\">128</span>)        │       <span style=\"color: #00af00; text-decoration-color: #00af00\">131,584</span> │\n",
       "├─────────────────────────────────┼────────────────────────┼───────────────┤\n",
       "│ lstm_5 (<span style=\"color: #0087ff; text-decoration-color: #0087ff\">LSTM</span>)                   │ (<span style=\"color: #00d7ff; text-decoration-color: #00d7ff\">None</span>, <span style=\"color: #00af00; text-decoration-color: #00af00\">50</span>, <span style=\"color: #00af00; text-decoration-color: #00af00\">128</span>)        │       <span style=\"color: #00af00; text-decoration-color: #00af00\">131,584</span> │\n",
       "├─────────────────────────────────┼────────────────────────┼───────────────┤\n",
       "│ time_distributed                │ (<span style=\"color: #00d7ff; text-decoration-color: #00d7ff\">None</span>, <span style=\"color: #00af00; text-decoration-color: #00af00\">50</span>, <span style=\"color: #00af00; text-decoration-color: #00af00\">40</span>)         │         <span style=\"color: #00af00; text-decoration-color: #00af00\">5,160</span> │\n",
       "│ (<span style=\"color: #0087ff; text-decoration-color: #0087ff\">TimeDistributed</span>)               │                        │               │\n",
       "└─────────────────────────────────┴────────────────────────┴───────────────┘\n",
       "</pre>\n"
      ],
      "text/plain": [
       "┏━━━━━━━━━━━━━━━━━━━━━━━━━━━━━━━━━┳━━━━━━━━━━━━━━━━━━━━━━━━┳━━━━━━━━━━━━━━━┓\n",
       "┃\u001b[1m \u001b[0m\u001b[1mLayer (type)                   \u001b[0m\u001b[1m \u001b[0m┃\u001b[1m \u001b[0m\u001b[1mOutput Shape          \u001b[0m\u001b[1m \u001b[0m┃\u001b[1m \u001b[0m\u001b[1m      Param #\u001b[0m\u001b[1m \u001b[0m┃\n",
       "┡━━━━━━━━━━━━━━━━━━━━━━━━━━━━━━━━━╇━━━━━━━━━━━━━━━━━━━━━━━━╇━━━━━━━━━━━━━━━┩\n",
       "│ input_layer_1 (\u001b[38;5;33mInputLayer\u001b[0m)      │ (\u001b[38;5;45mNone\u001b[0m, \u001b[38;5;34m48\u001b[0m)             │             \u001b[38;5;34m0\u001b[0m │\n",
       "├─────────────────────────────────┼────────────────────────┼───────────────┤\n",
       "│ dense_1 (\u001b[38;5;33mDense\u001b[0m)                 │ (\u001b[38;5;45mNone\u001b[0m, \u001b[38;5;34m128\u001b[0m)            │         \u001b[38;5;34m6,272\u001b[0m │\n",
       "├─────────────────────────────────┼────────────────────────┼───────────────┤\n",
       "│ repeat_vector (\u001b[38;5;33mRepeatVector\u001b[0m)    │ (\u001b[38;5;45mNone\u001b[0m, \u001b[38;5;34m50\u001b[0m, \u001b[38;5;34m128\u001b[0m)        │             \u001b[38;5;34m0\u001b[0m │\n",
       "├─────────────────────────────────┼────────────────────────┼───────────────┤\n",
       "│ lstm_3 (\u001b[38;5;33mLSTM\u001b[0m)                   │ (\u001b[38;5;45mNone\u001b[0m, \u001b[38;5;34m50\u001b[0m, \u001b[38;5;34m128\u001b[0m)        │       \u001b[38;5;34m131,584\u001b[0m │\n",
       "├─────────────────────────────────┼────────────────────────┼───────────────┤\n",
       "│ lstm_4 (\u001b[38;5;33mLSTM\u001b[0m)                   │ (\u001b[38;5;45mNone\u001b[0m, \u001b[38;5;34m50\u001b[0m, \u001b[38;5;34m128\u001b[0m)        │       \u001b[38;5;34m131,584\u001b[0m │\n",
       "├─────────────────────────────────┼────────────────────────┼───────────────┤\n",
       "│ lstm_5 (\u001b[38;5;33mLSTM\u001b[0m)                   │ (\u001b[38;5;45mNone\u001b[0m, \u001b[38;5;34m50\u001b[0m, \u001b[38;5;34m128\u001b[0m)        │       \u001b[38;5;34m131,584\u001b[0m │\n",
       "├─────────────────────────────────┼────────────────────────┼───────────────┤\n",
       "│ time_distributed                │ (\u001b[38;5;45mNone\u001b[0m, \u001b[38;5;34m50\u001b[0m, \u001b[38;5;34m40\u001b[0m)         │         \u001b[38;5;34m5,160\u001b[0m │\n",
       "│ (\u001b[38;5;33mTimeDistributed\u001b[0m)               │                        │               │\n",
       "└─────────────────────────────────┴────────────────────────┴───────────────┘\n"
      ]
     },
     "metadata": {},
     "output_type": "display_data"
    },
    {
     "data": {
      "text/html": [
       "<pre style=\"white-space:pre;overflow-x:auto;line-height:normal;font-family:Menlo,'DejaVu Sans Mono',consolas,'Courier New',monospace\"><span style=\"font-weight: bold\"> Total params: </span><span style=\"color: #00af00; text-decoration-color: #00af00\">406,184</span> (1.55 MB)\n",
       "</pre>\n"
      ],
      "text/plain": [
       "\u001b[1m Total params: \u001b[0m\u001b[38;5;34m406,184\u001b[0m (1.55 MB)\n"
      ]
     },
     "metadata": {},
     "output_type": "display_data"
    },
    {
     "data": {
      "text/html": [
       "<pre style=\"white-space:pre;overflow-x:auto;line-height:normal;font-family:Menlo,'DejaVu Sans Mono',consolas,'Courier New',monospace\"><span style=\"font-weight: bold\"> Trainable params: </span><span style=\"color: #00af00; text-decoration-color: #00af00\">406,184</span> (1.55 MB)\n",
       "</pre>\n"
      ],
      "text/plain": [
       "\u001b[1m Trainable params: \u001b[0m\u001b[38;5;34m406,184\u001b[0m (1.55 MB)\n"
      ]
     },
     "metadata": {},
     "output_type": "display_data"
    },
    {
     "data": {
      "text/html": [
       "<pre style=\"white-space:pre;overflow-x:auto;line-height:normal;font-family:Menlo,'DejaVu Sans Mono',consolas,'Courier New',monospace\"><span style=\"font-weight: bold\"> Non-trainable params: </span><span style=\"color: #00af00; text-decoration-color: #00af00\">0</span> (0.00 B)\n",
       "</pre>\n"
      ],
      "text/plain": [
       "\u001b[1m Non-trainable params: \u001b[0m\u001b[38;5;34m0\u001b[0m (0.00 B)\n"
      ]
     },
     "metadata": {},
     "output_type": "display_data"
    },
    {
     "data": {
      "text/html": [
       "<pre style=\"white-space:pre;overflow-x:auto;line-height:normal;font-family:Menlo,'DejaVu Sans Mono',consolas,'Courier New',monospace\"><span style=\"font-weight: bold\">Model: \"autoencoder\"</span>\n",
       "</pre>\n"
      ],
      "text/plain": [
       "\u001b[1mModel: \"autoencoder\"\u001b[0m\n"
      ]
     },
     "metadata": {},
     "output_type": "display_data"
    },
    {
     "data": {
      "text/html": [
       "<pre style=\"white-space:pre;overflow-x:auto;line-height:normal;font-family:Menlo,'DejaVu Sans Mono',consolas,'Courier New',monospace\">┏━━━━━━━━━━━━━━━━━━━━━━━━━━━━━━━━━┳━━━━━━━━━━━━━━━━━━━━━━━━┳━━━━━━━━━━━━━━━┓\n",
       "┃<span style=\"font-weight: bold\"> Layer (type)                    </span>┃<span style=\"font-weight: bold\"> Output Shape           </span>┃<span style=\"font-weight: bold\">       Param # </span>┃\n",
       "┡━━━━━━━━━━━━━━━━━━━━━━━━━━━━━━━━━╇━━━━━━━━━━━━━━━━━━━━━━━━╇━━━━━━━━━━━━━━━┩\n",
       "│ input_layer (<span style=\"color: #0087ff; text-decoration-color: #0087ff\">InputLayer</span>)        │ (<span style=\"color: #00d7ff; text-decoration-color: #00d7ff\">None</span>, <span style=\"color: #00af00; text-decoration-color: #00af00\">50</span>)             │             <span style=\"color: #00af00; text-decoration-color: #00af00\">0</span> │\n",
       "├─────────────────────────────────┼────────────────────────┼───────────────┤\n",
       "│ encoder (<span style=\"color: #0087ff; text-decoration-color: #0087ff\">Functional</span>)            │ (<span style=\"color: #00d7ff; text-decoration-color: #00d7ff\">None</span>, <span style=\"color: #00af00; text-decoration-color: #00af00\">48</span>)             │       <span style=\"color: #00af00; text-decoration-color: #00af00\">406,064</span> │\n",
       "├─────────────────────────────────┼────────────────────────┼───────────────┤\n",
       "│ decoder (<span style=\"color: #0087ff; text-decoration-color: #0087ff\">Functional</span>)            │ (<span style=\"color: #00d7ff; text-decoration-color: #00d7ff\">None</span>, <span style=\"color: #00af00; text-decoration-color: #00af00\">50</span>, <span style=\"color: #00af00; text-decoration-color: #00af00\">40</span>)         │       <span style=\"color: #00af00; text-decoration-color: #00af00\">406,184</span> │\n",
       "└─────────────────────────────────┴────────────────────────┴───────────────┘\n",
       "</pre>\n"
      ],
      "text/plain": [
       "┏━━━━━━━━━━━━━━━━━━━━━━━━━━━━━━━━━┳━━━━━━━━━━━━━━━━━━━━━━━━┳━━━━━━━━━━━━━━━┓\n",
       "┃\u001b[1m \u001b[0m\u001b[1mLayer (type)                   \u001b[0m\u001b[1m \u001b[0m┃\u001b[1m \u001b[0m\u001b[1mOutput Shape          \u001b[0m\u001b[1m \u001b[0m┃\u001b[1m \u001b[0m\u001b[1m      Param #\u001b[0m\u001b[1m \u001b[0m┃\n",
       "┡━━━━━━━━━━━━━━━━━━━━━━━━━━━━━━━━━╇━━━━━━━━━━━━━━━━━━━━━━━━╇━━━━━━━━━━━━━━━┩\n",
       "│ input_layer (\u001b[38;5;33mInputLayer\u001b[0m)        │ (\u001b[38;5;45mNone\u001b[0m, \u001b[38;5;34m50\u001b[0m)             │             \u001b[38;5;34m0\u001b[0m │\n",
       "├─────────────────────────────────┼────────────────────────┼───────────────┤\n",
       "│ encoder (\u001b[38;5;33mFunctional\u001b[0m)            │ (\u001b[38;5;45mNone\u001b[0m, \u001b[38;5;34m48\u001b[0m)             │       \u001b[38;5;34m406,064\u001b[0m │\n",
       "├─────────────────────────────────┼────────────────────────┼───────────────┤\n",
       "│ decoder (\u001b[38;5;33mFunctional\u001b[0m)            │ (\u001b[38;5;45mNone\u001b[0m, \u001b[38;5;34m50\u001b[0m, \u001b[38;5;34m40\u001b[0m)         │       \u001b[38;5;34m406,184\u001b[0m │\n",
       "└─────────────────────────────────┴────────────────────────┴───────────────┘\n"
      ]
     },
     "metadata": {},
     "output_type": "display_data"
    },
    {
     "data": {
      "text/html": [
       "<pre style=\"white-space:pre;overflow-x:auto;line-height:normal;font-family:Menlo,'DejaVu Sans Mono',consolas,'Courier New',monospace\"><span style=\"font-weight: bold\"> Total params: </span><span style=\"color: #00af00; text-decoration-color: #00af00\">812,248</span> (3.10 MB)\n",
       "</pre>\n"
      ],
      "text/plain": [
       "\u001b[1m Total params: \u001b[0m\u001b[38;5;34m812,248\u001b[0m (3.10 MB)\n"
      ]
     },
     "metadata": {},
     "output_type": "display_data"
    },
    {
     "data": {
      "text/html": [
       "<pre style=\"white-space:pre;overflow-x:auto;line-height:normal;font-family:Menlo,'DejaVu Sans Mono',consolas,'Courier New',monospace\"><span style=\"font-weight: bold\"> Trainable params: </span><span style=\"color: #00af00; text-decoration-color: #00af00\">812,248</span> (3.10 MB)\n",
       "</pre>\n"
      ],
      "text/plain": [
       "\u001b[1m Trainable params: \u001b[0m\u001b[38;5;34m812,248\u001b[0m (3.10 MB)\n"
      ]
     },
     "metadata": {},
     "output_type": "display_data"
    },
    {
     "data": {
      "text/html": [
       "<pre style=\"white-space:pre;overflow-x:auto;line-height:normal;font-family:Menlo,'DejaVu Sans Mono',consolas,'Courier New',monospace\"><span style=\"font-weight: bold\"> Non-trainable params: </span><span style=\"color: #00af00; text-decoration-color: #00af00\">0</span> (0.00 B)\n",
       "</pre>\n"
      ],
      "text/plain": [
       "\u001b[1m Non-trainable params: \u001b[0m\u001b[38;5;34m0\u001b[0m (0.00 B)\n"
      ]
     },
     "metadata": {},
     "output_type": "display_data"
    }
   ],
   "source": [
    "encoder, decoder, autoencoder = build_autoencoder(\n",
    "    vocab_size=vocab_size,        # Example vocab size\n",
    "    fixed_length=fixed_length,      # Example fixed length\n",
    "    latent_dim=48,        # Latent space dimension\n",
    "    hidden_dim=128,       # Number of neurons in hidden layers\n",
    "    recurrent_layers=3     # Number of LSTM layers in encoder and decoder\n",
    ")\n",
    "\n",
    "encoder.summary()\n",
    "decoder.summary()\n",
    "autoencoder.summary()"
   ]
  },
  {
   "cell_type": "code",
   "execution_count": 15,
   "metadata": {
    "execution": {
     "iopub.execute_input": "2024-08-26T09:58:19.343635Z",
     "iopub.status.busy": "2024-08-26T09:58:19.343265Z",
     "iopub.status.idle": "2024-08-26T09:58:19.355765Z",
     "shell.execute_reply": "2024-08-26T09:58:19.355057Z"
    }
   },
   "outputs": [],
   "source": [
    "callbacks = [\n",
    "    EarlyStopping(\n",
    "        monitor='val_loss',\n",
    "        patience=5,\n",
    "        verbose=1,\n",
    "        restore_best_weights=True\n",
    "    ),\n",
    "    ModelCheckpoint(\n",
    "        model_path,\n",
    "        monitor='val_loss',\n",
    "        save_best_only=True,\n",
    "        verbose=1\n",
    "    ),\n",
    "    ReduceLROnPlateau(\n",
    "        monitor='val_loss',\n",
    "        factor=0.5,\n",
    "        patience=3,\n",
    "        verbose=1\n",
    "    ),\n",
    "    CSVLogger(log_path)\n",
    "]\n",
    "\n",
    "# metrics\n",
    "metrics = [\n",
    "    CategoricalAccuracy(),\n",
    "    TopKCategoricalAccuracy(k=3),\n",
    "]"
   ]
  },
  {
   "cell_type": "code",
   "execution_count": null,
   "metadata": {
    "execution": {
     "iopub.execute_input": "2024-08-26T09:58:19.359107Z",
     "iopub.status.busy": "2024-08-26T09:58:19.358853Z",
     "iopub.status.idle": "2024-08-27T00:03:10.407039Z",
     "shell.execute_reply": "2024-08-27T00:03:10.405942Z"
    }
   },
   "outputs": [],
   "source": [
    "# training\n",
    "history = autoencoder.fit(\n",
    "    train_gen,\n",
    "    validation_data=val_gen,\n",
    "    epochs=200,\n",
    "    callbacks=callbacks,\n",
    "    verbose=2,\n",
    ")"
   ]
  },
  {
   "cell_type": "code",
   "execution_count": 17,
   "metadata": {
    "execution": {
     "iopub.execute_input": "2024-08-27T00:03:10.412367Z",
     "iopub.status.busy": "2024-08-27T00:03:10.411799Z",
     "iopub.status.idle": "2024-08-27T00:03:10.620394Z",
     "shell.execute_reply": "2024-08-27T00:03:10.619622Z"
    }
   },
   "outputs": [],
   "source": [
    "# save model weights\n",
    "encoder.save_weights(f'{checkpoint_path}/encoder.weights.h5')\n",
    "decoder.save_weights(f'{checkpoint_path}/decoder.weights.h5')\n",
    "autoencoder.save_weights(f'{checkpoint_path}/autoencoder.weights.h5')\n",
    "\n",
    "# save model\n",
    "encoder.save(f'{checkpoint_path}/encoder.keras')\n",
    "decoder.save(f'{checkpoint_path}/decoder.keras')\n",
    "autoencoder.save(f'{checkpoint_path}/autoencoder.keras')"
   ]
  },
  {
   "cell_type": "code",
   "execution_count": 18,
   "metadata": {
    "execution": {
     "iopub.execute_input": "2024-08-27T00:03:10.626291Z",
     "iopub.status.busy": "2024-08-27T00:03:10.626077Z",
     "iopub.status.idle": "2024-08-27T00:03:11.136106Z",
     "shell.execute_reply": "2024-08-27T00:03:11.135427Z"
    }
   },
   "outputs": [
    {
     "data": {
      "image/png": "[encoded data removed]",
      "text/plain": [
       "<Figure size 787.402x590.551 with 3 Axes>"
      ]
     },
     "metadata": {},
     "output_type": "display_data"
    }
   ],
   "source": [
    "log = pd.read_csv(log_path)\n",
    "\n",
    "fig, (ax1, ax2) = plt.subplots(nrows=1, ncols=2, figsize=(20*cm, 15*cm))\n",
    "\n",
    "ax1.plot(log['epoch'], log['accuracy'], label='accuracy', color='red')\n",
    "ax1.plot(log['epoch'], log['val_accuracy'], label='val_accuracy', color='orange')\n",
    "ax1.set_title('training metrics')\n",
    "ax1.set_xlabel('epoch')\n",
    "ax1.legend(loc='upper center', bbox_to_anchor=(0.5, -0.2), ncol=1)  # Legend below the plot\n",
    "\n",
    "ax2.plot(log['epoch'], log['loss'], label='loss')\n",
    "ax2.plot(log['epoch'], log['val_loss'], label='val_loss')\n",
    "# plot learning rate with different scale, show on right side\n",
    "ax2b = ax2.twinx()\n",
    "ax2b.plot(log['epoch'], log['learning_rate'], label='learning_rate', color='green', alpha=.4)\n",
    "ax2.set_title('loss')\n",
    "ax2.set_xlabel('epoch')\n",
    "ax2.legend(loc='upper center', bbox_to_anchor=(0.5, -0.2), ncol=2)  # Legend below the plot\n",
    "ax2b.legend(loc='upper center', bbox_to_anchor=(0.5, -0.3), ncol=1)  # Legend below the plot\n",
    "\n",
    "fig.tight_layout(rect=[0, 0.1, 1, 1])\n",
    "\n",
    "plt.savefig(f'{checkpoint_path}/metrics_loss.svg')\n",
    "plt.show()"
   ]
  },
  {
   "cell_type": "code",
   "execution_count": 19,
   "metadata": {
    "execution": {
     "iopub.execute_input": "2024-08-27T00:03:11.144527Z",
     "iopub.status.busy": "2024-08-27T00:03:11.144195Z",
     "iopub.status.idle": "2024-08-27T00:03:25.050762Z",
     "shell.execute_reply": "2024-08-27T00:03:25.049918Z"
    }
   },
   "outputs": [
    {
     "name": "stdout",
     "output_type": "stream",
     "text": [
      "797/797 - 14s - 17ms/step - accuracy: 0.9502 - loss: 0.2860\n"
     ]
    },
    {
     "name": "stdout",
     "output_type": "stream",
     "text": [
      "Test loss: [0.2859698235988617, 0.9501954913139343]\n"
     ]
    }
   ],
   "source": [
    "# evaluate model on test data\n",
    "test_loss = autoencoder.evaluate(test_gen, verbose=2)\n",
    "\n",
    "print(f'Test loss: {test_loss}')"
   ]
  },
  {
   "cell_type": "code",
   "execution_count": null,
   "metadata": {
    "execution": {
     "iopub.execute_input": "2024-08-27T00:03:25.053499Z",
     "iopub.status.busy": "2024-08-27T00:03:25.053095Z",
     "iopub.status.idle": "2024-08-27T00:03:41.777466Z",
     "shell.execute_reply": "2024-08-27T00:03:41.776913Z"
    }
   },
   "outputs": [],
   "source": [
    "# load from .keras\n",
    "autoencoder_file = load_model(f'{checkpoint_path}/autoencoder.keras')\n",
    "test_loss = autoencoder_file.evaluate(test_gen, verbose=1)\n",
    "\n",
    "print(f'Test loss: {test_loss}')"
   ]
  },
  {
   "cell_type": "code",
   "execution_count": 21,
   "metadata": {
    "execution": {
     "iopub.execute_input": "2024-08-27T00:03:41.781461Z",
     "iopub.status.busy": "2024-08-27T00:03:41.781080Z",
     "iopub.status.idle": "2024-08-27T00:03:58.569624Z",
     "shell.execute_reply": "2024-08-27T00:03:58.568750Z"
    }
   },
   "outputs": [
    {
     "name": "stderr",
     "output_type": "stream",
     "text": [
      "/home/jrosendahl/.virtualenvs/models/lib/python3.12/site-packages/keras/src/saving/saving_lib.py:415: UserWarning: Skipping variable loading for optimizer 'adam', because it has 2 variables whereas the saved optimizer has 52 variables. \n",
      "  saveable.load_own_variables(weights_store.get(inner_path))\n"
     ]
    },
    {
     "name": "stdout",
     "output_type": "stream",
     "text": [
      "\r\n",
      "\u001b[1m  1/797\u001b[0m \u001b[37m━━━━━━━━━━━━━━━━━━━━\u001b[0m \u001b[1m19:45\u001b[0m 1s/step - accuracy: 0.9406 - loss: 0.3296"
     ]
    },
    {
     "name": "stdout",
     "output_type": "stream",
     "text": [
      "\b\b\b\b\b\b\b\b\b\b\b\b\b\b\b\b\b\b\b\b\b\b\b\b\b\b\b\b\b\b\b\b\b\b\b\b\b\b\b\b\b\b\b\b\b\b\b\b\b\b\b\b\b\b\b\b\b\b\b\b\b\b\b\b\b\b\b\b\b\b\b\b\b\b\b\b\r\n",
      "\u001b[1m  5/797\u001b[0m \u001b[37m━━━━━━━━━━━━━━━━━━━━\u001b[0m \u001b[1m14s\u001b[0m 18ms/step - accuracy: 0.9448 - loss: 0.3126"
     ]
    },
    {
     "name": "stdout",
     "output_type": "stream",
     "text": [
      "\b\b\b\b\b\b\b\b\b\b\b\b\b\b\b\b\b\b\b\b\b\b\b\b\b\b\b\b\b\b\b\b\b\b\b\b\b\b\b\b\b\b\b\b\b\b\b\b\b\b\b\b\b\b\b\b\b\b\b\b\b\b\b\b\b\b\b\b\b\b\b\b\b\b\b\b\r\n",
      "\u001b[1m  8/797\u001b[0m \u001b[37m━━━━━━━━━━━━━━━━━━━━\u001b[0m \u001b[1m14s\u001b[0m 19ms/step - accuracy: 0.9455 - loss: 0.3091"
     ]
    },
    {
     "name": "stdout",
     "output_type": "stream",
     "text": [
      "\b\b\b\b\b\b\b\b\b\b\b\b\b\b\b\b\b\b\b\b\b\b\b\b\b\b\b\b\b\b\b\b\b\b\b\b\b\b\b\b\b\b\b\b\b\b\b\b\b\b\b\b\b\b\b\b\b\b\b\b\b\b\b\b\b\b\b\b\b\b\b\b\b\b\b\b\r\n",
      "\u001b[1m 11/797\u001b[0m \u001b[37m━━━━━━━━━━━━━━━━━━━━\u001b[0m \u001b[1m14s\u001b[0m 19ms/step - accuracy: 0.9461 - loss: 0.3067"
     ]
    },
    {
     "name": "stdout",
     "output_type": "stream",
     "text": [
      "\b\b\b\b\b\b\b\b\b\b\b\b\b\b\b\b\b\b\b\b\b\b\b\b\b\b\b\b\b\b\b\b\b\b\b\b\b\b\b\b\b\b\b\b\b\b\b\b\b\b\b\b\b\b\b\b\b\b\b\b\b\b\b\b\b\b\b\b\b\b\b\b\b\b\b\b\r\n",
      "\u001b[1m 14/797\u001b[0m \u001b[37m━━━━━━━━━━━━━━━━━━━━\u001b[0m \u001b[1m15s\u001b[0m 19ms/step - accuracy: 0.9467 - loss: 0.3041"
     ]
    },
    {
     "name": "stdout",
     "output_type": "stream",
     "text": [
      "\b\b\b\b\b\b\b\b\b\b\b\b\b\b\b\b\b\b\b\b\b\b\b\b\b\b\b\b\b\b\b\b\b\b\b\b\b\b\b\b\b\b\b\b\b\b\b\b\b\b\b\b\b\b\b\b\b\b\b\b\b\b\b\b\b\b\b\b\b\b\b\b\b\b\b\b\r\n",
      "\u001b[1m 17/797\u001b[0m \u001b[37m━━━━━━━━━━━━━━━━━━━━\u001b[0m \u001b[1m15s\u001b[0m 19ms/step - accuracy: 0.9471 - loss: 0.3024"
     ]
    },
    {
     "name": "stdout",
     "output_type": "stream",
     "text": [
      "\b\b\b\b\b\b\b\b\b\b\b\b\b\b\b\b\b\b\b\b\b\b\b\b\b\b\b\b\b\b\b\b\b\b\b\b\b\b\b\b\b\b\b\b\b\b\b\b\b\b\b\b\b\b\b\b\b\b\b\b\b\b\b\b\b\b\b\b\b\b\b\b\b\b\b\b\r\n",
      "\u001b[1m 20/797\u001b[0m \u001b[37m━━━━━━━━━━━━━━━━━━━━\u001b[0m \u001b[1m14s\u001b[0m 19ms/step - accuracy: 0.9473 - loss: 0.3022"
     ]
    },
    {
     "name": "stdout",
     "output_type": "stream",
     "text": [
      "\b\b\b\b\b\b\b\b\b\b\b\b\b\b\b\b\b\b\b\b\b\b\b\b\b\b\b\b\b\b\b\b\b\b\b\b\b\b\b\b\b\b\b\b\b\b\b\b\b\b\b\b\b\b\b\b\b\b\b\b\b\b\b\b\b\b\b\b\b\b\b\b\b\b\b\b\r\n",
      "\u001b[1m 23/797\u001b[0m \u001b[37m━━━━━━━━━━━━━━━━━━━━\u001b[0m \u001b[1m15s\u001b[0m 19ms/step - accuracy: 0.9474 - loss: 0.3020"
     ]
    },
    {
     "name": "stdout",
     "output_type": "stream",
     "text": [
      "\b\b\b\b\b\b\b\b\b\b\b\b\b\b\b\b\b\b\b\b\b\b\b\b\b\b\b\b\b\b\b\b\b\b\b\b\b\b\b\b\b\b\b\b\b\b\b\b\b\b\b\b\b\b\b\b\b\b\b\b\b\b\b\b\b\b\b\b\b\b\b\b\b\b\b\b\r\n",
      "\u001b[1m 26/797\u001b[0m \u001b[37m━━━━━━━━━━━━━━━━━━━━\u001b[0m \u001b[1m14s\u001b[0m 19ms/step - accuracy: 0.9475 - loss: 0.3019"
     ]
    },
    {
     "name": "stdout",
     "output_type": "stream",
     "text": [
      "\b\b\b\b\b\b\b\b\b\b\b\b\b\b\b\b\b\b\b\b\b\b\b\b\b\b\b\b\b\b\b\b\b\b\b\b\b\b\b\b\b\b\b\b\b\b\b\b\b\b\b\b\b\b\b\b\b\b\b\b\b\b\b\b\b\b\b\b\b\b\b\b\b\b\b\b\r\n",
      "\u001b[1m 28/797\u001b[0m \u001b[37m━━━━━━━━━━━━━━━━━━━━\u001b[0m \u001b[1m15s\u001b[0m 20ms/step - accuracy: 0.9476 - loss: 0.3016"
     ]
    },
    {
     "name": "stdout",
     "output_type": "stream",
     "text": [
      "\b\b\b\b\b\b\b\b\b\b\b\b\b\b\b\b\b\b\b\b\b\b\b\b\b\b\b\b\b\b\b\b\b\b\b\b\b\b\b\b\b\b\b\b\b\b\b\b\b\b\b\b\b\b\b\b\b\b\b\b\b\b\b\b\b\b\b\b\b\b\b\b\b\b\b\b\r\n",
      "\u001b[1m 32/797\u001b[0m \u001b[37m━━━━━━━━━━━━━━━━━━━━\u001b[0m \u001b[1m14s\u001b[0m 19ms/step - accuracy: 0.9478 - loss: 0.3005"
     ]
    },
    {
     "name": "stdout",
     "output_type": "stream",
     "text": [
      "\b\b\b\b\b\b\b\b\b\b\b\b\b\b\b\b\b\b\b\b\b\b\b\b\b\b\b\b\b\b\b\b\b\b\b\b\b\b\b\b\b\b\b\b\b\b\b\b\b\b\b\b\b\b\b\b\b\b\b\b\b\b\b\b\b\b\b\b\b\b\b\b\b\b\b\b\r\n",
      "\u001b[1m 35/797\u001b[0m \u001b[37m━━━━━━━━━━━━━━━━━━━━\u001b[0m \u001b[1m14s\u001b[0m 19ms/step - accuracy: 0.9479 - loss: 0.2999"
     ]
    },
    {
     "name": "stdout",
     "output_type": "stream",
     "text": [
      "\b\b\b\b\b\b\b\b\b\b\b\b\b\b\b\b\b\b\b\b\b\b\b\b\b\b\b\b\b\b\b\b\b\b\b\b\b\b\b\b\b\b\b\b\b\b\b\b\b\b\b\b\b\b\b\b\b\b\b\b\b\b\b\b\b\b\b\b\b\b\b\b\b\b\b\b\r\n",
      "\u001b[1m 38/797\u001b[0m \u001b[37m━━━━━━━━━━━━━━━━━━━━\u001b[0m \u001b[1m14s\u001b[0m 19ms/step - accuracy: 0.9480 - loss: 0.2993"
     ]
    },
    {
     "name": "stdout",
     "output_type": "stream",
     "text": [
      "\b\b\b\b\b\b\b\b\b\b\b\b\b\b\b\b\b\b\b\b\b\b\b\b\b\b\b\b\b\b\b\b\b\b\b\b\b\b\b\b\b\b\b\b\b\b\b\b\b\b\b\b\b\b\b\b\b\b\b\b\b\b\b\b\b\b\b\b\b\b\b\b\b\b\b\b\r\n",
      "\u001b[1m 41/797\u001b[0m \u001b[32m━\u001b[0m\u001b[37m━━━━━━━━━━━━━━━━━━━\u001b[0m \u001b[1m14s\u001b[0m 19ms/step - accuracy: 0.9481 - loss: 0.2988"
     ]
    },
    {
     "name": "stdout",
     "output_type": "stream",
     "text": [
      "\b\b\b\b\b\b\b\b\b\b\b\b\b\b\b\b\b\b\b\b\b\b\b\b\b\b\b\b\b\b\b\b\b\b\b\b\b\b\b\b\b\b\b\b\b\b\b\b\b\b\b\b\b\b\b\b\b\b\b\b\b\b\b\b\b\b\b\b\b\b\b\b\b\b\b\b\r\n",
      "\u001b[1m 44/797\u001b[0m \u001b[32m━\u001b[0m\u001b[37m━━━━━━━━━━━━━━━━━━━\u001b[0m \u001b[1m14s\u001b[0m 19ms/step - accuracy: 0.9482 - loss: 0.2984"
     ]
    },
    {
     "name": "stdout",
     "output_type": "stream",
     "text": [
      "\b\b\b\b\b\b\b\b\b\b\b\b\b\b\b\b\b\b\b\b\b\b\b\b\b\b\b\b\b\b\b\b\b\b\b\b\b\b\b\b\b\b\b\b\b\b\b\b\b\b\b\b\b\b\b\b\b\b\b\b\b\b\b\b\b\b\b\b\b\b\b\b\b\b\b\b\r\n",
      "\u001b[1m 47/797\u001b[0m \u001b[32m━\u001b[0m\u001b[37m━━━━━━━━━━━━━━━━━━━\u001b[0m \u001b[1m14s\u001b[0m 19ms/step - accuracy: 0.9483 - loss: 0.2979"
     ]
    },
    {
     "name": "stdout",
     "output_type": "stream",
     "text": [
      "\b\b\b\b\b\b\b\b\b\b\b\b\b\b\b\b\b\b\b\b\b\b\b\b\b\b\b\b\b\b\b\b\b\b\b\b\b\b\b\b\b\b\b\b\b\b\b\b\b\b\b\b\b\b\b\b\b\b\b\b\b\b\b\b\b\b\b\b\b\b\b\b\b\b\b\b\r\n",
      "\u001b[1m 50/797\u001b[0m \u001b[32m━\u001b[0m\u001b[37m━━━━━━━━━━━━━━━━━━━\u001b[0m \u001b[1m14s\u001b[0m 19ms/step - accuracy: 0.9484 - loss: 0.2974"
     ]
    },
    {
     "name": "stdout",
     "output_type": "stream",
     "text": [
      "\b\b\b\b\b\b\b\b\b\b\b\b\b\b\b\b\b\b\b\b\b\b\b\b\b\b\b\b\b\b\b\b\b\b\b\b\b\b\b\b\b\b\b\b\b\b\b\b\b\b\b\b\b\b\b\b\b\b\b\b\b\b\b\b\b\b\b\b\b\b\b\b\b\b\b\b\r\n",
      "\u001b[1m 54/797\u001b[0m \u001b[32m━\u001b[0m\u001b[37m━━━━━━━━━━━━━━━━━━━\u001b[0m \u001b[1m14s\u001b[0m 19ms/step - accuracy: 0.9485 - loss: 0.2969"
     ]
    },
    {
     "name": "stdout",
     "output_type": "stream",
     "text": [
      "\b\b\b\b\b\b\b\b\b\b\b\b\b\b\b\b\b\b\b\b\b\b\b\b\b\b\b\b\b\b\b\b\b\b\b\b\b\b\b\b\b\b\b\b\b\b\b\b\b\b\b\b\b\b\b\b\b\b\b\b\b\b\b\b\b\b\b\b\b\b\b\b\b\b\b\b\r\n",
      "\u001b[1m 58/797\u001b[0m \u001b[32m━\u001b[0m\u001b[37m━━━━━━━━━━━━━━━━━━━\u001b[0m \u001b[1m13s\u001b[0m 19ms/step - accuracy: 0.9485 - loss: 0.2963"
     ]
    },
    {
     "name": "stdout",
     "output_type": "stream",
     "text": [
      "\b\b\b\b\b\b\b\b\b\b\b\b\b\b\b\b\b\b\b\b\b\b\b\b\b\b\b\b\b\b\b\b\b\b\b\b\b\b\b\b\b\b\b\b\b\b\b\b\b\b\b\b\b\b\b\b\b\b\b\b\b\b\b\b\b\b\b\b\b\b\b\b\b\b\b\b\r\n",
      "\u001b[1m 61/797\u001b[0m \u001b[32m━\u001b[0m\u001b[37m━━━━━━━━━━━━━━━━━━━\u001b[0m \u001b[1m13s\u001b[0m 19ms/step - accuracy: 0.9486 - loss: 0.2959"
     ]
    },
    {
     "name": "stdout",
     "output_type": "stream",
     "text": [
      "\b\b\b\b\b\b\b\b\b\b\b\b\b\b\b\b\b\b\b\b\b\b\b\b\b\b\b\b\b\b\b\b\b\b\b\b\b\b\b\b\b\b\b\b\b\b\b\b\b\b\b\b\b\b\b\b\b\b\b\b\b\b\b\b\b\b\b\b\b\b\b\b\b\b\b\b\r\n",
      "\u001b[1m 64/797\u001b[0m \u001b[32m━\u001b[0m\u001b[37m━━━━━━━━━━━━━━━━━━━\u001b[0m \u001b[1m13s\u001b[0m 19ms/step - accuracy: 0.9487 - loss: 0.2954"
     ]
    },
    {
     "name": "stdout",
     "output_type": "stream",
     "text": [
      "\b\b\b\b\b\b\b\b\b\b\b\b\b\b\b\b\b\b\b\b\b\b\b\b\b\b\b\b\b\b\b\b\b\b\b\b\b\b\b\b\b\b\b\b\b\b\b\b\b\b\b\b\b\b\b\b\b\b\b\b\b\b\b\b\b\b\b\b\b\b\b\b\b\b\b\b\r\n",
      "\u001b[1m 67/797\u001b[0m \u001b[32m━\u001b[0m\u001b[37m━━━━━━━━━━━━━━━━━━━\u001b[0m \u001b[1m13s\u001b[0m 19ms/step - accuracy: 0.9487 - loss: 0.2950"
     ]
    },
    {
     "name": "stdout",
     "output_type": "stream",
     "text": [
      "\b\b\b\b\b\b\b\b\b\b\b\b\b\b\b\b\b\b\b\b\b\b\b\b\b\b\b\b\b\b\b\b\b\b\b\b\b\b\b\b\b\b\b\b\b\b\b\b\b\b\b\b\b\b\b\b\b\b\b\b\b\b\b\b\b\b\b\b\b\b\b\b\b\b\b\b\r\n",
      "\u001b[1m 70/797\u001b[0m \u001b[32m━\u001b[0m\u001b[37m━━━━━━━━━━━━━━━━━━━\u001b[0m \u001b[1m13s\u001b[0m 19ms/step - accuracy: 0.9488 - loss: 0.2946"
     ]
    },
    {
     "name": "stdout",
     "output_type": "stream",
     "text": [
      "\b\b\b\b\b\b\b\b\b\b\b\b\b\b\b\b\b\b\b\b\b\b\b\b\b\b\b\b\b\b\b\b\b\b\b\b\b\b\b\b\b\b\b\b\b\b\b\b\b\b\b\b\b\b\b\b\b\b\b\b\b\b\b\b\b\b\b\b\b\b\b\b\b\b\b\b\r\n",
      "\u001b[1m 73/797\u001b[0m \u001b[32m━\u001b[0m\u001b[37m━━━━━━━━━━━━━━━━━━━\u001b[0m \u001b[1m13s\u001b[0m 19ms/step - accuracy: 0.9489 - loss: 0.2942"
     ]
    },
    {
     "name": "stdout",
     "output_type": "stream",
     "text": [
      "\b\b\b\b\b\b\b\b\b\b\b\b\b\b\b\b\b\b\b\b\b\b\b\b\b\b\b\b\b\b\b\b\b\b\b\b\b\b\b\b\b\b\b\b\b\b\b\b\b\b\b\b\b\b\b\b\b\b\b\b\b\b\b\b\b\b\b\b\b\b\b\b\b\b\b\b\r\n",
      "\u001b[1m 77/797\u001b[0m \u001b[32m━\u001b[0m\u001b[37m━━━━━━━━━━━━━━━━━━━\u001b[0m \u001b[1m13s\u001b[0m 19ms/step - accuracy: 0.9489 - loss: 0.2938"
     ]
    },
    {
     "name": "stdout",
     "output_type": "stream",
     "text": [
      "\b\b\b\b\b\b\b\b\b\b\b\b\b\b\b\b\b\b\b\b\b\b\b\b\b\b\b\b\b\b\b\b\b\b\b\b\b\b\b\b\b\b\b\b\b\b\b\b\b\b\b\b\b\b\b\b\b\b\b\b\b\b\b\b\b\b\b\b\b\b\b\b\b\b\b\b\r\n",
      "\u001b[1m 81/797\u001b[0m \u001b[32m━━\u001b[0m\u001b[37m━━━━━━━━━━━━━━━━━━\u001b[0m \u001b[1m13s\u001b[0m 18ms/step - accuracy: 0.9490 - loss: 0.2933"
     ]
    },
    {
     "name": "stdout",
     "output_type": "stream",
     "text": [
      "\b\b\b\b\b\b\b\b\b\b\b\b\b\b\b\b\b\b\b\b\b\b\b\b\b\b\b\b\b\b\b\b\b\b\b\b\b\b\b\b\b\b\b\b\b\b\b\b\b\b\b\b\b\b\b\b\b\b\b\b\b\b\b\b\b\b\b\b\b\b\b\b\b\b\b\b\r\n",
      "\u001b[1m 84/797\u001b[0m \u001b[32m━━\u001b[0m\u001b[37m━━━━━━━━━━━━━━━━━━\u001b[0m \u001b[1m13s\u001b[0m 19ms/step - accuracy: 0.9490 - loss: 0.2931"
     ]
    },
    {
     "name": "stdout",
     "output_type": "stream",
     "text": [
      "\b\b\b\b\b\b\b\b\b\b\b\b\b\b\b\b\b\b\b\b\b\b\b\b\b\b\b\b\b\b\b\b\b\b\b\b\b\b\b\b\b\b\b\b\b\b\b\b\b\b\b\b\b\b\b\b\b\b\b\b\b\b\b\b\b\b\b\b\b\b\b\b\b\b\b\b\r\n",
      "\u001b[1m 88/797\u001b[0m \u001b[32m━━\u001b[0m\u001b[37m━━━━━━━━━━━━━━━━━━\u001b[0m \u001b[1m13s\u001b[0m 18ms/step - accuracy: 0.9491 - loss: 0.2927"
     ]
    },
    {
     "name": "stdout",
     "output_type": "stream",
     "text": [
      "\b\b\b\b\b\b\b\b\b\b\b\b\b\b\b\b\b\b\b\b\b\b\b\b\b\b\b\b\b\b\b\b\b\b\b\b\b\b\b\b\b\b\b\b\b\b\b\b\b\b\b\b\b\b\b\b\b\b\b\b\b\b\b\b\b\b\b\b\b\b\b\b\b\b\b\b\r\n",
      "\u001b[1m 92/797\u001b[0m \u001b[32m━━\u001b[0m\u001b[37m━━━━━━━━━━━━━━━━━━\u001b[0m \u001b[1m12s\u001b[0m 18ms/step - accuracy: 0.9491 - loss: 0.2923"
     ]
    },
    {
     "name": "stdout",
     "output_type": "stream",
     "text": [
      "\b\b\b\b\b\b\b\b\b\b\b\b\b\b\b\b\b\b\b\b\b\b\b\b\b\b\b\b\b\b\b\b\b\b\b\b\b\b\b\b\b\b\b\b\b\b\b\b\b\b\b\b\b\b\b\b\b\b\b\b\b\b\b\b\b\b\b\b\b\b\b\b\b\b\b\b\r\n",
      "\u001b[1m 95/797\u001b[0m \u001b[32m━━\u001b[0m\u001b[37m━━━━━━━━━━━━━━━━━━\u001b[0m \u001b[1m12s\u001b[0m 18ms/step - accuracy: 0.9492 - loss: 0.2921"
     ]
    },
    {
     "name": "stdout",
     "output_type": "stream",
     "text": [
      "\b\b\b\b\b\b\b\b\b\b\b\b\b\b\b\b\b\b\b\b\b\b\b\b\b\b\b\b\b\b\b\b\b\b\b\b\b\b\b\b\b\b\b\b\b\b\b\b\b\b\b\b\b\b\b\b\b\b\b\b\b\b\b\b\b\b\b\b\b\b\b\b\b\b\b\b\r\n",
      "\u001b[1m 99/797\u001b[0m \u001b[32m━━\u001b[0m\u001b[37m━━━━━━━━━━━━━━━━━━\u001b[0m \u001b[1m12s\u001b[0m 18ms/step - accuracy: 0.9492 - loss: 0.2918"
     ]
    },
    {
     "name": "stdout",
     "output_type": "stream",
     "text": [
      "\b\b\b\b\b\b\b\b\b\b\b\b\b\b\b\b\b\b\b\b\b\b\b\b\b\b\b\b\b\b\b\b\b\b\b\b\b\b\b\b\b\b\b\b\b\b\b\b\b\b\b\b\b\b\b\b\b\b\b\b\b\b\b\b\b\b\b\b\b\b\b\b\b\b\b\b\r\n",
      "\u001b[1m102/797\u001b[0m \u001b[32m━━\u001b[0m\u001b[37m━━━━━━━━━━━━━━━━━━\u001b[0m \u001b[1m12s\u001b[0m 18ms/step - accuracy: 0.9493 - loss: 0.2915"
     ]
    },
    {
     "name": "stdout",
     "output_type": "stream",
     "text": [
      "\b\b\b\b\b\b\b\b\b\b\b\b\b\b\b\b\b\b\b\b\b\b\b\b\b\b\b\b\b\b\b\b\b\b\b\b\b\b\b\b\b\b\b\b\b\b\b\b\b\b\b\b\b\b\b\b\b\b\b\b\b\b\b\b\b\b\b\b\b\b\b\b\b\b\b\b\r\n",
      "\u001b[1m106/797\u001b[0m \u001b[32m━━\u001b[0m\u001b[37m━━━━━━━━━━━━━━━━━━\u001b[0m \u001b[1m12s\u001b[0m 18ms/step - accuracy: 0.9493 - loss: 0.2913"
     ]
    },
    {
     "name": "stdout",
     "output_type": "stream",
     "text": [
      "\b\b\b\b\b\b\b\b\b\b\b\b\b\b\b\b\b\b\b\b\b\b\b\b\b\b\b\b\b\b\b\b\b\b\b\b\b\b\b\b\b\b\b\b\b\b\b\b\b\b\b\b\b\b\b\b\b\b\b\b\b\b\b\b\b\b\b\b\b\b\b\b\b\b\b\b\r\n",
      "\u001b[1m110/797\u001b[0m \u001b[32m━━\u001b[0m\u001b[37m━━━━━━━━━━━━━━━━━━\u001b[0m \u001b[1m12s\u001b[0m 18ms/step - accuracy: 0.9493 - loss: 0.2911"
     ]
    },
    {
     "name": "stdout",
     "output_type": "stream",
     "text": [
      "\b\b\b\b\b\b\b\b\b\b\b\b\b\b\b\b\b\b\b\b\b\b\b\b\b\b\b\b\b\b\b\b\b\b\b\b\b\b\b\b\b\b\b\b\b\b\b\b\b\b\b\b\b\b\b\b\b\b\b\b\b\b\b\b\b\b\b\b\b\b\b\b\b\b\b\b\r\n",
      "\u001b[1m114/797\u001b[0m \u001b[32m━━\u001b[0m\u001b[37m━━━━━━━━━━━━━━━━━━\u001b[0m \u001b[1m12s\u001b[0m 18ms/step - accuracy: 0.9494 - loss: 0.2909"
     ]
    },
    {
     "name": "stdout",
     "output_type": "stream",
     "text": [
      "\b\b\b\b\b\b\b\b\b\b\b\b\b\b\b\b\b\b\b\b\b\b\b\b\b\b\b\b\b\b\b\b\b\b\b\b\b\b\b\b\b\b\b\b\b\b\b\b\b\b\b\b\b\b\b\b\b\b\b\b\b\b\b\b\b\b\b\b\b\b\b\b\b\b\b\b\r\n",
      "\u001b[1m118/797\u001b[0m \u001b[32m━━\u001b[0m\u001b[37m━━━━━━━━━━━━━━━━━━\u001b[0m \u001b[1m12s\u001b[0m 18ms/step - accuracy: 0.9494 - loss: 0.2907"
     ]
    },
    {
     "name": "stdout",
     "output_type": "stream",
     "text": [
      "\b\b\b\b\b\b\b\b\b\b\b\b\b\b\b\b\b\b\b\b\b\b\b\b\b\b\b\b\b\b\b\b\b\b\b\b\b\b\b\b\b\b\b\b\b\b\b\b\b\b\b\b\b\b\b\b\b\b\b\b\b\b\b\b\b\b\b\b\b\b\b\b\b\b\b\b\r\n",
      "\u001b[1m121/797\u001b[0m \u001b[32m━━━\u001b[0m\u001b[37m━━━━━━━━━━━━━━━━━\u001b[0m \u001b[1m12s\u001b[0m 18ms/step - accuracy: 0.9494 - loss: 0.2906"
     ]
    },
    {
     "name": "stdout",
     "output_type": "stream",
     "text": [
      "\b\b\b\b\b\b\b\b\b\b\b\b\b\b\b\b\b\b\b\b\b\b\b\b\b\b\b\b\b\b\b\b\b\b\b\b\b\b\b\b\b\b\b\b\b\b\b\b\b\b\b\b\b\b\b\b\b\b\b\b\b\b\b\b\b\b\b\b\b\b\b\b\b\b\b\b\r\n",
      "\u001b[1m125/797\u001b[0m \u001b[32m━━━\u001b[0m\u001b[37m━━━━━━━━━━━━━━━━━\u001b[0m \u001b[1m11s\u001b[0m 18ms/step - accuracy: 0.9494 - loss: 0.2904"
     ]
    },
    {
     "name": "stdout",
     "output_type": "stream",
     "text": [
      "\b\b\b\b\b\b\b\b\b\b\b\b\b\b\b\b\b\b\b\b\b\b\b\b\b\b\b\b\b\b\b\b\b\b\b\b\b\b\b\b\b\b\b\b\b\b\b\b\b\b\b\b\b\b\b\b\b\b\b\b\b\b\b\b\b\b\b\b\b\b\b\b\b\b\b\b\r\n",
      "\u001b[1m129/797\u001b[0m \u001b[32m━━━\u001b[0m\u001b[37m━━━━━━━━━━━━━━━━━\u001b[0m \u001b[1m11s\u001b[0m 18ms/step - accuracy: 0.9495 - loss: 0.2902"
     ]
    },
    {
     "name": "stdout",
     "output_type": "stream",
     "text": [
      "\b\b\b\b\b\b\b\b\b\b\b\b\b\b\b\b\b\b\b\b\b\b\b\b\b\b\b\b\b\b\b\b\b\b\b\b\b\b\b\b\b\b\b\b\b\b\b\b\b\b\b\b\b\b\b\b\b\b\b\b\b\b\b\b\b\b\b\b\b\b\b\b\b\b\b\b\r\n",
      "\u001b[1m133/797\u001b[0m \u001b[32m━━━\u001b[0m\u001b[37m━━━━━━━━━━━━━━━━━\u001b[0m \u001b[1m11s\u001b[0m 18ms/step - accuracy: 0.9495 - loss: 0.2901"
     ]
    },
    {
     "name": "stdout",
     "output_type": "stream",
     "text": [
      "\b\b\b\b\b\b\b\b\b\b\b\b\b\b\b\b\b\b\b\b\b\b\b\b\b\b\b\b\b\b\b\b\b\b\b\b\b\b\b\b\b\b\b\b\b\b\b\b\b\b\b\b\b\b\b\b\b\b\b\b\b\b\b\b\b\b\b\b\b\b\b\b\b\b\b\b\r\n",
      "\u001b[1m136/797\u001b[0m \u001b[32m━━━\u001b[0m\u001b[37m━━━━━━━━━━━━━━━━━\u001b[0m \u001b[1m11s\u001b[0m 18ms/step - accuracy: 0.9495 - loss: 0.2900"
     ]
    },
    {
     "name": "stdout",
     "output_type": "stream",
     "text": [
      "\b\b\b\b\b\b\b\b\b\b\b\b\b\b\b\b\b\b\b\b\b\b\b\b\b\b\b\b\b\b\b\b\b\b\b\b\b\b\b\b\b\b\b\b\b\b\b\b\b\b\b\b\b\b\b\b\b\b\b\b\b\b\b\b\b\b\b\b\b\b\b\b\b\b\b\b\r\n",
      "\u001b[1m139/797\u001b[0m \u001b[32m━━━\u001b[0m\u001b[37m━━━━━━━━━━━━━━━━━\u001b[0m \u001b[1m11s\u001b[0m 18ms/step - accuracy: 0.9495 - loss: 0.2899"
     ]
    },
    {
     "name": "stdout",
     "output_type": "stream",
     "text": [
      "\b\b\b\b\b\b\b\b\b\b\b\b\b\b\b\b\b\b\b\b\b\b\b\b\b\b\b\b\b\b\b\b\b\b\b\b\b\b\b\b\b\b\b\b\b\b\b\b\b\b\b\b\b\b\b\b\b\b\b\b\b\b\b\b\b\b\b\b\b\b\b\b\b\b\b\b\r\n",
      "\u001b[1m142/797\u001b[0m \u001b[32m━━━\u001b[0m\u001b[37m━━━━━━━━━━━━━━━━━\u001b[0m \u001b[1m11s\u001b[0m 18ms/step - accuracy: 0.9495 - loss: 0.2898"
     ]
    },
    {
     "name": "stdout",
     "output_type": "stream",
     "text": [
      "\b\b\b\b\b\b\b\b\b\b\b\b\b\b\b\b\b\b\b\b\b\b\b\b\b\b\b\b\b\b\b\b\b\b\b\b\b\b\b\b\b\b\b\b\b\b\b\b\b\b\b\b\b\b\b\b\b\b\b\b\b\b\b\b\b\b\b\b\b\b\b\b\b\b\b\b\r\n",
      "\u001b[1m145/797\u001b[0m \u001b[32m━━━\u001b[0m\u001b[37m━━━━━━━━━━━━━━━━━\u001b[0m \u001b[1m11s\u001b[0m 18ms/step - accuracy: 0.9495 - loss: 0.2897"
     ]
    },
    {
     "name": "stdout",
     "output_type": "stream",
     "text": [
      "\b\b\b\b\b\b\b\b\b\b\b\b\b\b\b\b\b\b\b\b\b\b\b\b\b\b\b\b\b\b\b\b\b\b\b\b\b\b\b\b\b\b\b\b\b\b\b\b\b\b\b\b\b\b\b\b\b\b\b\b\b\b\b\b\b\b\b\b\b\b\b\b\b\b\b\b\r\n",
      "\u001b[1m149/797\u001b[0m \u001b[32m━━━\u001b[0m\u001b[37m━━━━━━━━━━━━━━━━━\u001b[0m \u001b[1m11s\u001b[0m 18ms/step - accuracy: 0.9496 - loss: 0.2896"
     ]
    },
    {
     "name": "stdout",
     "output_type": "stream",
     "text": [
      "\b\b\b\b\b\b\b\b\b\b\b\b\b\b\b\b\b\b\b\b\b\b\b\b\b\b\b\b\b\b\b\b\b\b\b\b\b\b\b\b\b\b\b\b\b\b\b\b\b\b\b\b\b\b\b\b\b\b\b\b\b\b\b\b\b\b\b\b\b\b\b\b\b\b\b\b\r\n",
      "\u001b[1m153/797\u001b[0m \u001b[32m━━━\u001b[0m\u001b[37m━━━━━━━━━━━━━━━━━\u001b[0m \u001b[1m11s\u001b[0m 18ms/step - accuracy: 0.9496 - loss: 0.2896"
     ]
    },
    {
     "name": "stdout",
     "output_type": "stream",
     "text": [
      "\b\b\b\b\b\b\b\b\b\b\b\b\b\b\b\b\b\b\b\b\b\b\b\b\b\b\b\b\b\b\b\b\b\b\b\b\b\b\b\b\b\b\b\b\b\b\b\b\b\b\b\b\b\b\b\b\b\b\b\b\b\b\b\b\b\b\b\b\b\b\b\b\b\b\b\b\r\n",
      "\u001b[1m157/797\u001b[0m \u001b[32m━━━\u001b[0m\u001b[37m━━━━━━━━━━━━━━━━━\u001b[0m \u001b[1m11s\u001b[0m 18ms/step - accuracy: 0.9496 - loss: 0.2895"
     ]
    },
    {
     "name": "stdout",
     "output_type": "stream",
     "text": [
      "\b\b\b\b\b\b\b\b\b\b\b\b\b\b\b\b\b\b\b\b\b\b\b\b\b\b\b\b\b\b\b\b\b\b\b\b\b\b\b\b\b\b\b\b\b\b\b\b\b\b\b\b\b\b\b\b\b\b\b\b\b\b\b\b\b\b\b\b\b\b\b\b\b\b\b\b\r\n",
      "\u001b[1m161/797\u001b[0m \u001b[32m━━━━\u001b[0m\u001b[37m━━━━━━━━━━━━━━━━\u001b[0m \u001b[1m11s\u001b[0m 17ms/step - accuracy: 0.9496 - loss: 0.2894"
     ]
    },
    {
     "name": "stdout",
     "output_type": "stream",
     "text": [
      "\b\b\b\b\b\b\b\b\b\b\b\b\b\b\b\b\b\b\b\b\b\b\b\b\b\b\b\b\b\b\b\b\b\b\b\b\b\b\b\b\b\b\b\b\b\b\b\b\b\b\b\b\b\b\b\b\b\b\b\b\b\b\b\b\b\b\b\b\b\b\b\b\b\b\b\b\r\n",
      "\u001b[1m165/797\u001b[0m \u001b[32m━━━━\u001b[0m\u001b[37m━━━━━━━━━━━━━━━━\u001b[0m \u001b[1m11s\u001b[0m 18ms/step - accuracy: 0.9496 - loss: 0.2894"
     ]
    },
    {
     "name": "stdout",
     "output_type": "stream",
     "text": [
      "\b\b\b\b\b\b\b\b\b\b\b\b\b\b\b\b\b\b\b\b\b\b\b\b\b\b\b\b\b\b\b\b\b\b\b\b\b\b\b\b\b\b\b\b\b\b\b\b\b\b\b\b\b\b\b\b\b\b\b\b\b\b\b\b\b\b\b\b\b\b\b\b\b\b\b\b\r\n",
      "\u001b[1m169/797\u001b[0m \u001b[32m━━━━\u001b[0m\u001b[37m━━━━━━━━━━━━━━━━\u001b[0m \u001b[1m10s\u001b[0m 17ms/step - accuracy: 0.9496 - loss: 0.2893"
     ]
    },
    {
     "name": "stdout",
     "output_type": "stream",
     "text": [
      "\b\b\b\b\b\b\b\b\b\b\b\b\b\b\b\b\b\b\b\b\b\b\b\b\b\b\b\b\b\b\b\b\b\b\b\b\b\b\b\b\b\b\b\b\b\b\b\b\b\b\b\b\b\b\b\b\b\b\b\b\b\b\b\b\b\b\b\b\b\b\b\b\b\b\b\b\r\n",
      "\u001b[1m173/797\u001b[0m \u001b[32m━━━━\u001b[0m\u001b[37m━━━━━━━━━━━━━━━━\u001b[0m \u001b[1m10s\u001b[0m 17ms/step - accuracy: 0.9496 - loss: 0.2892"
     ]
    },
    {
     "name": "stdout",
     "output_type": "stream",
     "text": [
      "\b\b\b\b\b\b\b\b\b\b\b\b\b\b\b\b\b\b\b\b\b\b\b\b\b\b\b\b\b\b\b\b\b\b\b\b\b\b\b\b\b\b\b\b\b\b\b\b\b\b\b\b\b\b\b\b\b\b\b\b\b\b\b\b\b\b\b\b\b\b\b\b\b\b\b\b\r\n",
      "\u001b[1m176/797\u001b[0m \u001b[32m━━━━\u001b[0m\u001b[37m━━━━━━━━━━━━━━━━\u001b[0m \u001b[1m10s\u001b[0m 17ms/step - accuracy: 0.9496 - loss: 0.2892"
     ]
    },
    {
     "name": "stdout",
     "output_type": "stream",
     "text": [
      "\b\b\b\b\b\b\b\b\b\b\b\b\b\b\b\b\b\b\b\b\b\b\b\b\b\b\b\b\b\b\b\b\b\b\b\b\b\b\b\b\b\b\b\b\b\b\b\b\b\b\b\b\b\b\b\b\b\b\b\b\b\b\b\b\b\b\b\b\b\b\b\b\b\b\b\b\r\n",
      "\u001b[1m180/797\u001b[0m \u001b[32m━━━━\u001b[0m\u001b[37m━━━━━━━━━━━━━━━━\u001b[0m \u001b[1m10s\u001b[0m 17ms/step - accuracy: 0.9496 - loss: 0.2892"
     ]
    },
    {
     "name": "stdout",
     "output_type": "stream",
     "text": [
      "\b\b\b\b\b\b\b\b\b\b\b\b\b\b\b\b\b\b\b\b\b\b\b\b\b\b\b\b\b\b\b\b\b\b\b\b\b\b\b\b\b\b\b\b\b\b\b\b\b\b\b\b\b\b\b\b\b\b\b\b\b\b\b\b\b\b\b\b\b\b\b\b\b\b\b\b\r\n",
      "\u001b[1m184/797\u001b[0m \u001b[32m━━━━\u001b[0m\u001b[37m━━━━━━━━━━━━━━━━\u001b[0m \u001b[1m10s\u001b[0m 17ms/step - accuracy: 0.9496 - loss: 0.2891"
     ]
    },
    {
     "name": "stdout",
     "output_type": "stream",
     "text": [
      "\b\b\b\b\b\b\b\b\b\b\b\b\b\b\b\b\b\b\b\b\b\b\b\b\b\b\b\b\b\b\b\b\b\b\b\b\b\b\b\b\b\b\b\b\b\b\b\b\b\b\b\b\b\b\b\b\b\b\b\b\b\b\b\b\b\b\b\b\b\b\b\b\b\b\b\b\r\n",
      "\u001b[1m187/797\u001b[0m \u001b[32m━━━━\u001b[0m\u001b[37m━━━━━━━━━━━━━━━━\u001b[0m \u001b[1m10s\u001b[0m 17ms/step - accuracy: 0.9497 - loss: 0.2891"
     ]
    },
    {
     "name": "stdout",
     "output_type": "stream",
     "text": [
      "\b\b\b\b\b\b\b\b\b\b\b\b\b\b\b\b\b\b\b\b\b\b\b\b\b\b\b\b\b\b\b\b\b\b\b\b\b\b\b\b\b\b\b\b\b\b\b\b\b\b\b\b\b\b\b\b\b\b\b\b\b\b\b\b\b\b\b\b\b\b\b\b\b\b\b\b\r\n",
      "\u001b[1m189/797\u001b[0m \u001b[32m━━━━\u001b[0m\u001b[37m━━━━━━━━━━━━━━━━\u001b[0m \u001b[1m10s\u001b[0m 17ms/step - accuracy: 0.9497 - loss: 0.2891"
     ]
    },
    {
     "name": "stdout",
     "output_type": "stream",
     "text": [
      "\b\b\b\b\b\b\b\b\b\b\b\b\b\b\b\b\b\b\b\b\b\b\b\b\b\b\b\b\b\b\b\b\b\b\b\b\b\b\b\b\b\b\b\b\b\b\b\b\b\b\b\b\b\b\b\b\b\b\b\b\b\b\b\b\b\b\b\b\b\b\b\b\b\b\b\b\r\n",
      "\u001b[1m192/797\u001b[0m \u001b[32m━━━━\u001b[0m\u001b[37m━━━━━━━━━━━━━━━━\u001b[0m \u001b[1m10s\u001b[0m 18ms/step - accuracy: 0.9497 - loss: 0.2891"
     ]
    },
    {
     "name": "stdout",
     "output_type": "stream",
     "text": [
      "\b\b\b\b\b\b\b\b\b\b\b\b\b\b\b\b\b\b\b\b\b\b\b\b\b\b\b\b\b\b\b\b\b\b\b\b\b\b\b\b\b\b\b\b\b\b\b\b\b\b\b\b\b\b\b\b\b\b\b\b\b\b\b\b\b\b\b\b\b\b\b\b\b\b\b\b\r\n",
      "\u001b[1m194/797\u001b[0m \u001b[32m━━━━\u001b[0m\u001b[37m━━━━━━━━━━━━━━━━\u001b[0m \u001b[1m10s\u001b[0m 18ms/step - accuracy: 0.9497 - loss: 0.2890"
     ]
    },
    {
     "name": "stdout",
     "output_type": "stream",
     "text": [
      "\b\b\b\b\b\b\b\b\b\b\b\b\b\b\b\b\b\b\b\b\b\b\b\b\b\b\b\b\b\b\b\b\b\b\b\b\b\b\b\b\b\b\b\b\b\b\b\b\b\b\b\b\b\b\b\b\b\b\b\b\b\b\b\b\b\b\b\b\b\b\b\b\b\b\b\b\r\n",
      "\u001b[1m196/797\u001b[0m \u001b[32m━━━━\u001b[0m\u001b[37m━━━━━━━━━━━━━━━━\u001b[0m \u001b[1m10s\u001b[0m 18ms/step - accuracy: 0.9497 - loss: 0.2890"
     ]
    },
    {
     "name": "stdout",
     "output_type": "stream",
     "text": [
      "\b\b\b\b\b\b\b\b\b\b\b\b\b\b\b\b\b\b\b\b\b\b\b\b\b\b\b\b\b\b\b\b\b\b\b\b\b\b\b\b\b\b\b\b\b\b\b\b\b\b\b\b\b\b\b\b\b\b\b\b\b\b\b\b\b\b\b\b\b\b\b\b\b\b\b\b\r\n",
      "\u001b[1m198/797\u001b[0m \u001b[32m━━━━\u001b[0m\u001b[37m━━━━━━━━━━━━━━━━\u001b[0m \u001b[1m10s\u001b[0m 18ms/step - accuracy: 0.9497 - loss: 0.2890"
     ]
    },
    {
     "name": "stdout",
     "output_type": "stream",
     "text": [
      "\b\b\b\b\b\b\b\b\b\b\b\b\b\b\b\b\b\b\b\b\b\b\b\b\b\b\b\b\b\b\b\b\b\b\b\b\b\b\b\b\b\b\b\b\b\b\b\b\b\b\b\b\b\b\b\b\b\b\b\b\b\b\b\b\b\b\b\b\b\b\b\b\b\b\b\b\r\n",
      "\u001b[1m201/797\u001b[0m \u001b[32m━━━━━\u001b[0m\u001b[37m━━━━━━━━━━━━━━━\u001b[0m \u001b[1m10s\u001b[0m 18ms/step - accuracy: 0.9497 - loss: 0.2889"
     ]
    },
    {
     "name": "stdout",
     "output_type": "stream",
     "text": [
      "\b\b\b\b\b\b\b\b\b\b\b\b\b\b\b\b\b\b\b\b\b\b\b\b\b\b\b\b\b\b\b\b\b\b\b\b\b\b\b\b\b\b\b\b\b\b\b\b\b\b\b\b\b\b\b\b\b\b\b\b\b\b\b\b\b\b\b\b\b\b\b\b\b\b\b\b\r\n",
      "\u001b[1m204/797\u001b[0m \u001b[32m━━━━━\u001b[0m\u001b[37m━━━━━━━━━━━━━━━\u001b[0m \u001b[1m10s\u001b[0m 18ms/step - accuracy: 0.9497 - loss: 0.2889"
     ]
    },
    {
     "name": "stdout",
     "output_type": "stream",
     "text": [
      "\b\b\b\b\b\b\b\b\b\b\b\b\b\b\b\b\b\b\b\b\b\b\b\b\b\b\b\b\b\b\b\b\b\b\b\b\b\b\b\b\b\b\b\b\b\b\b\b\b\b\b\b\b\b\b\b\b\b\b\b\b\b\b\b\b\b\b\b\b\b\b\b\b\b\b\b\r\n",
      "\u001b[1m207/797\u001b[0m \u001b[32m━━━━━\u001b[0m\u001b[37m━━━━━━━━━━━━━━━\u001b[0m \u001b[1m10s\u001b[0m 18ms/step - accuracy: 0.9497 - loss: 0.2889"
     ]
    },
    {
     "name": "stdout",
     "output_type": "stream",
     "text": [
      "\b\b\b\b\b\b\b\b\b\b\b\b\b\b\b\b\b\b\b\b\b\b\b\b\b\b\b\b\b\b\b\b\b\b\b\b\b\b\b\b\b\b\b\b\b\b\b\b\b\b\b\b\b\b\b\b\b\b\b\b\b\b\b\b\b\b\b\b\b\b\b\b\b\b\b\b\r\n",
      "\u001b[1m210/797\u001b[0m \u001b[32m━━━━━\u001b[0m\u001b[37m━━━━━━━━━━━━━━━\u001b[0m \u001b[1m10s\u001b[0m 18ms/step - accuracy: 0.9497 - loss: 0.2888"
     ]
    },
    {
     "name": "stdout",
     "output_type": "stream",
     "text": [
      "\b\b\b\b\b\b\b\b\b\b\b\b\b\b\b\b\b\b\b\b\b\b\b\b\b\b\b\b\b\b\b\b\b\b\b\b\b\b\b\b\b\b\b\b\b\b\b\b\b\b\b\b\b\b\b\b\b\b\b\b\b\b\b\b\b\b\b\b\b\b\b\b\b\b\b\b\r\n",
      "\u001b[1m213/797\u001b[0m \u001b[32m━━━━━\u001b[0m\u001b[37m━━━━━━━━━━━━━━━\u001b[0m \u001b[1m10s\u001b[0m 18ms/step - accuracy: 0.9497 - loss: 0.2888"
     ]
    },
    {
     "name": "stdout",
     "output_type": "stream",
     "text": [
      "\b\b\b\b\b\b\b\b\b\b\b\b\b\b\b\b\b\b\b\b\b\b\b\b\b\b\b\b\b\b\b\b\b\b\b\b\b\b\b\b\b\b\b\b\b\b\b\b\b\b\b\b\b\b\b\b\b\b\b\b\b\b\b\b\b\b\b\b\b\b\b\b\b\b\b\b\r\n",
      "\u001b[1m216/797\u001b[0m \u001b[32m━━━━━\u001b[0m\u001b[37m━━━━━━━━━━━━━━━\u001b[0m \u001b[1m10s\u001b[0m 18ms/step - accuracy: 0.9497 - loss: 0.2887"
     ]
    },
    {
     "name": "stdout",
     "output_type": "stream",
     "text": [
      "\b\b\b\b\b\b\b\b\b\b\b\b\b\b\b\b\b\b\b\b\b\b\b\b\b\b\b\b\b\b\b\b\b\b\b\b\b\b\b\b\b\b\b\b\b\b\b\b\b\b\b\b\b\b\b\b\b\b\b\b\b\b\b\b\b\b\b\b\b\b\b\b\b\b\b\b\r\n",
      "\u001b[1m219/797\u001b[0m \u001b[32m━━━━━\u001b[0m\u001b[37m━━━━━━━━━━━━━━━\u001b[0m \u001b[1m10s\u001b[0m 18ms/step - accuracy: 0.9497 - loss: 0.2887"
     ]
    },
    {
     "name": "stdout",
     "output_type": "stream",
     "text": [
      "\b\b\b\b\b\b\b\b\b\b\b\b\b\b\b\b\b\b\b\b\b\b\b\b\b\b\b\b\b\b\b\b\b\b\b\b\b\b\b\b\b\b\b\b\b\b\b\b\b\b\b\b\b\b\b\b\b\b\b\b\b\b\b\b\b\b\b\b\b\b\b\b\b\b\b\b\r\n",
      "\u001b[1m223/797\u001b[0m \u001b[32m━━━━━\u001b[0m\u001b[37m━━━━━━━━━━━━━━━\u001b[0m \u001b[1m10s\u001b[0m 18ms/step - accuracy: 0.9497 - loss: 0.2887"
     ]
    },
    {
     "name": "stdout",
     "output_type": "stream",
     "text": [
      "\b\b\b\b\b\b\b\b\b\b\b\b\b\b\b\b\b\b\b\b\b\b\b\b\b\b\b\b\b\b\b\b\b\b\b\b\b\b\b\b\b\b\b\b\b\b\b\b\b\b\b\b\b\b\b\b\b\b\b\b\b\b\b\b\b\b\b\b\b\b\b\b\b\b\b\b\r\n",
      "\u001b[1m226/797\u001b[0m \u001b[32m━━━━━\u001b[0m\u001b[37m━━━━━━━━━━━━━━━\u001b[0m \u001b[1m10s\u001b[0m 18ms/step - accuracy: 0.9497 - loss: 0.2886"
     ]
    },
    {
     "name": "stdout",
     "output_type": "stream",
     "text": [
      "\b\b\b\b\b\b\b\b\b\b\b\b\b\b\b\b\b\b\b\b\b\b\b\b\b\b\b\b\b\b\b\b\b\b\b\b\b\b\b\b\b\b\b\b\b\b\b\b\b\b\b\b\b\b\b\b\b\b\b\b\b\b\b\b\b\b\b\b\b\b\b\b\b\b\b\b\r\n",
      "\u001b[1m229/797\u001b[0m \u001b[32m━━━━━\u001b[0m\u001b[37m━━━━━━━━━━━━━━━\u001b[0m \u001b[1m10s\u001b[0m 18ms/step - accuracy: 0.9497 - loss: 0.2886"
     ]
    },
    {
     "name": "stdout",
     "output_type": "stream",
     "text": [
      "\b\b\b\b\b\b\b\b\b\b\b\b\b\b\b\b\b\b\b\b\b\b\b\b\b\b\b\b\b\b\b\b\b\b\b\b\b\b\b\b\b\b\b\b\b\b\b\b\b\b\b\b\b\b\b\b\b\b\b\b\b\b\b\b\b\b\b\b\b\b\b\b\b\b\b\b\r\n",
      "\u001b[1m232/797\u001b[0m \u001b[32m━━━━━\u001b[0m\u001b[37m━━━━━━━━━━━━━━━\u001b[0m \u001b[1m10s\u001b[0m 18ms/step - accuracy: 0.9497 - loss: 0.2885"
     ]
    },
    {
     "name": "stdout",
     "output_type": "stream",
     "text": [
      "\b\b\b\b\b\b\b\b\b\b\b\b\b\b\b\b\b\b\b\b\b\b\b\b\b\b\b\b\b\b\b\b\b\b\b\b\b\b\b\b\b\b\b\b\b\b\b\b\b\b\b\b\b\b\b\b\b\b\b\b\b\b\b\b\b\b\b\b\b\b\b\b\b\b\b\b\r\n",
      "\u001b[1m235/797\u001b[0m \u001b[32m━━━━━\u001b[0m\u001b[37m━━━━━━━━━━━━━━━\u001b[0m \u001b[1m10s\u001b[0m 18ms/step - accuracy: 0.9497 - loss: 0.2885"
     ]
    },
    {
     "name": "stdout",
     "output_type": "stream",
     "text": [
      "\b\b\b\b\b\b\b\b\b\b\b\b\b\b\b\b\b\b\b\b\b\b\b\b\b\b\b\b\b\b\b\b\b\b\b\b\b\b\b\b\b\b\b\b\b\b\b\b\b\b\b\b\b\b\b\b\b\b\b\b\b\b\b\b\b\b\b\b\b\b\b\b\b\b\b\b\r\n",
      "\u001b[1m238/797\u001b[0m \u001b[32m━━━━━\u001b[0m\u001b[37m━━━━━━━━━━━━━━━\u001b[0m \u001b[1m10s\u001b[0m 18ms/step - accuracy: 0.9498 - loss: 0.2885"
     ]
    },
    {
     "name": "stdout",
     "output_type": "stream",
     "text": [
      "\b\b\b\b\b\b\b\b\b\b\b\b\b\b\b\b\b\b\b\b\b\b\b\b\b\b\b\b\b\b\b\b\b\b\b\b\b\b\b\b\b\b\b\b\b\b\b\b\b\b\b\b\b\b\b\b\b\b\b\b\b\b\b\b\b\b\b\b\b\b\b\b\b\b\b\b\r\n",
      "\u001b[1m241/797\u001b[0m \u001b[32m━━━━━━\u001b[0m\u001b[37m━━━━━━━━━━━━━━\u001b[0m \u001b[1m10s\u001b[0m 18ms/step - accuracy: 0.9498 - loss: 0.2885"
     ]
    },
    {
     "name": "stdout",
     "output_type": "stream",
     "text": [
      "\b\b\b\b\b\b\b\b\b\b\b\b\b\b\b\b\b\b\b\b\b\b\b\b\b\b\b\b\b\b\b\b\b\b\b\b\b\b\b\b\b\b\b\b\b\b\b\b\b\b\b\b\b\b\b\b\b\b\b\b\b\b\b\b\b\b\b\b\b\b\b\b\b\b\b\b\r\n",
      "\u001b[1m245/797\u001b[0m \u001b[32m━━━━━━\u001b[0m\u001b[37m━━━━━━━━━━━━━━\u001b[0m \u001b[1m10s\u001b[0m 18ms/step - accuracy: 0.9498 - loss: 0.2884"
     ]
    },
    {
     "name": "stdout",
     "output_type": "stream",
     "text": [
      "\b\b\b\b\b\b\b\b\b\b\b\b\b\b\b\b\b\b\b\b\b\b\b\b\b\b\b\b\b\b\b\b\b\b\b\b\b\b\b\b\b\b\b\b\b\b\b\b\b\b\b\b\b\b\b\b\b\b\b\b\b\b\b\b\b\b\b\b\b\b\b\b\b\b\b\b\r\n",
      "\u001b[1m248/797\u001b[0m \u001b[32m━━━━━━\u001b[0m\u001b[37m━━━━━━━━━━━━━━\u001b[0m \u001b[1m9s\u001b[0m 18ms/step - accuracy: 0.9498 - loss: 0.2884 "
     ]
    },
    {
     "name": "stdout",
     "output_type": "stream",
     "text": [
      "\b\b\b\b\b\b\b\b\b\b\b\b\b\b\b\b\b\b\b\b\b\b\b\b\b\b\b\b\b\b\b\b\b\b\b\b\b\b\b\b\b\b\b\b\b\b\b\b\b\b\b\b\b\b\b\b\b\b\b\b\b\b\b\b\b\b\b\b\b\b\b\b\b\b\b\r\n",
      "\u001b[1m251/797\u001b[0m \u001b[32m━━━━━━\u001b[0m\u001b[37m━━━━━━━━━━━━━━\u001b[0m \u001b[1m9s\u001b[0m 18ms/step - accuracy: 0.9498 - loss: 0.2884"
     ]
    },
    {
     "name": "stdout",
     "output_type": "stream",
     "text": [
      "\b\b\b\b\b\b\b\b\b\b\b\b\b\b\b\b\b\b\b\b\b\b\b\b\b\b\b\b\b\b\b\b\b\b\b\b\b\b\b\b\b\b\b\b\b\b\b\b\b\b\b\b\b\b\b\b\b\b\b\b\b\b\b\b\b\b\b\b\b\b\b\b\b\b\b\r\n",
      "\u001b[1m254/797\u001b[0m \u001b[32m━━━━━━\u001b[0m\u001b[37m━━━━━━━━━━━━━━\u001b[0m \u001b[1m9s\u001b[0m 18ms/step - accuracy: 0.9498 - loss: 0.2883"
     ]
    },
    {
     "name": "stdout",
     "output_type": "stream",
     "text": [
      "\b\b\b\b\b\b\b\b\b\b\b\b\b\b\b\b\b\b\b\b\b\b\b\b\b\b\b\b\b\b\b\b\b\b\b\b\b\b\b\b\b\b\b\b\b\b\b\b\b\b\b\b\b\b\b\b\b\b\b\b\b\b\b\b\b\b\b\b\b\b\b\b\b\b\b\r\n",
      "\u001b[1m257/797\u001b[0m \u001b[32m━━━━━━\u001b[0m\u001b[37m━━━━━━━━━━━━━━\u001b[0m \u001b[1m9s\u001b[0m 18ms/step - accuracy: 0.9498 - loss: 0.2883"
     ]
    },
    {
     "name": "stdout",
     "output_type": "stream",
     "text": [
      "\b\b\b\b\b\b\b\b\b\b\b\b\b\b\b\b\b\b\b\b\b\b\b\b\b\b\b\b\b\b\b\b\b\b\b\b\b\b\b\b\b\b\b\b\b\b\b\b\b\b\b\b\b\b\b\b\b\b\b\b\b\b\b\b\b\b\b\b\b\b\b\b\b\b\b\r\n",
      "\u001b[1m260/797\u001b[0m \u001b[32m━━━━━━\u001b[0m\u001b[37m━━━━━━━━━━━━━━\u001b[0m \u001b[1m9s\u001b[0m 18ms/step - accuracy: 0.9498 - loss: 0.2883"
     ]
    },
    {
     "name": "stdout",
     "output_type": "stream",
     "text": [
      "\b\b\b\b\b\b\b\b\b\b\b\b\b\b\b\b\b\b\b\b\b\b\b\b\b\b\b\b\b\b\b\b\b\b\b\b\b\b\b\b\b\b\b\b\b\b\b\b\b\b\b\b\b\b\b\b\b\b\b\b\b\b\b\b\b\b\b\b\b\b\b\b\b\b\b\r\n",
      "\u001b[1m263/797\u001b[0m \u001b[32m━━━━━━\u001b[0m\u001b[37m━━━━━━━━━━━━━━\u001b[0m \u001b[1m9s\u001b[0m 18ms/step - accuracy: 0.9498 - loss: 0.2882"
     ]
    },
    {
     "name": "stdout",
     "output_type": "stream",
     "text": [
      "\b\b\b\b\b\b\b\b\b\b\b\b\b\b\b\b\b\b\b\b\b\b\b\b\b\b\b\b\b\b\b\b\b\b\b\b\b\b\b\b\b\b\b\b\b\b\b\b\b\b\b\b\b\b\b\b\b\b\b\b\b\b\b\b\b\b\b\b\b\b\b\b\b\b\b\r\n",
      "\u001b[1m266/797\u001b[0m \u001b[32m━━━━━━\u001b[0m\u001b[37m━━━━━━━━━━━━━━\u001b[0m \u001b[1m9s\u001b[0m 18ms/step - accuracy: 0.9498 - loss: 0.2882"
     ]
    },
    {
     "name": "stdout",
     "output_type": "stream",
     "text": [
      "\b\b\b\b\b\b\b\b\b\b\b\b\b\b\b\b\b\b\b\b\b\b\b\b\b\b\b\b\b\b\b\b\b\b\b\b\b\b\b\b\b\b\b\b\b\b\b\b\b\b\b\b\b\b\b\b\b\b\b\b\b\b\b\b\b\b\b\b\b\b\b\b\b\b\b\r\n",
      "\u001b[1m270/797\u001b[0m \u001b[32m━━━━━━\u001b[0m\u001b[37m━━━━━━━━━━━━━━\u001b[0m \u001b[1m9s\u001b[0m 18ms/step - accuracy: 0.9498 - loss: 0.2881"
     ]
    },
    {
     "name": "stdout",
     "output_type": "stream",
     "text": [
      "\b\b\b\b\b\b\b\b\b\b\b\b\b\b\b\b\b\b\b\b\b\b\b\b\b\b\b\b\b\b\b\b\b\b\b\b\b\b\b\b\b\b\b\b\b\b\b\b\b\b\b\b\b\b\b\b\b\b\b\b\b\b\b\b\b\b\b\b\b\b\b\b\b\b\b\r\n",
      "\u001b[1m273/797\u001b[0m \u001b[32m━━━━━━\u001b[0m\u001b[37m━━━━━━━━━━━━━━\u001b[0m \u001b[1m9s\u001b[0m 18ms/step - accuracy: 0.9498 - loss: 0.2881"
     ]
    },
    {
     "name": "stdout",
     "output_type": "stream",
     "text": [
      "\b\b\b\b\b\b\b\b\b\b\b\b\b\b\b\b\b\b\b\b\b\b\b\b\b\b\b\b\b\b\b\b\b\b\b\b\b\b\b\b\b\b\b\b\b\b\b\b\b\b\b\b\b\b\b\b\b\b\b\b\b\b\b\b\b\b\b\b\b\b\b\b\b\b\b\r\n",
      "\u001b[1m276/797\u001b[0m \u001b[32m━━━━━━\u001b[0m\u001b[37m━━━━━━━━━━━━━━\u001b[0m \u001b[1m9s\u001b[0m 18ms/step - accuracy: 0.9498 - loss: 0.2881"
     ]
    },
    {
     "name": "stdout",
     "output_type": "stream",
     "text": [
      "\b\b\b\b\b\b\b\b\b\b\b\b\b\b\b\b\b\b\b\b\b\b\b\b\b\b\b\b\b\b\b\b\b\b\b\b\b\b\b\b\b\b\b\b\b\b\b\b\b\b\b\b\b\b\b\b\b\b\b\b\b\b\b\b\b\b\b\b\b\b\b\b\b\b\b\r\n",
      "\u001b[1m279/797\u001b[0m \u001b[32m━━━━━━━\u001b[0m\u001b[37m━━━━━━━━━━━━━\u001b[0m \u001b[1m9s\u001b[0m 18ms/step - accuracy: 0.9498 - loss: 0.2881"
     ]
    },
    {
     "name": "stdout",
     "output_type": "stream",
     "text": [
      "\b\b\b\b\b\b\b\b\b\b\b\b\b\b\b\b\b\b\b\b\b\b\b\b\b\b\b\b\b\b\b\b\b\b\b\b\b\b\b\b\b\b\b\b\b\b\b\b\b\b\b\b\b\b\b\b\b\b\b\b\b\b\b\b\b\b\b\b\b\b\b\b\b\b\b\r\n",
      "\u001b[1m282/797\u001b[0m \u001b[32m━━━━━━━\u001b[0m\u001b[37m━━━━━━━━━━━━━\u001b[0m \u001b[1m9s\u001b[0m 18ms/step - accuracy: 0.9498 - loss: 0.2880"
     ]
    },
    {
     "name": "stdout",
     "output_type": "stream",
     "text": [
      "\b\b\b\b\b\b\b\b\b\b\b\b\b\b\b\b\b\b\b\b\b\b\b\b\b\b\b\b\b\b\b\b\b\b\b\b\b\b\b\b\b\b\b\b\b\b\b\b\b\b\b\b\b\b\b\b\b\b\b\b\b\b\b\b\b\b\b\b\b\b\b\b\b\b\b\r\n",
      "\u001b[1m285/797\u001b[0m \u001b[32m━━━━━━━\u001b[0m\u001b[37m━━━━━━━━━━━━━\u001b[0m \u001b[1m9s\u001b[0m 18ms/step - accuracy: 0.9498 - loss: 0.2880"
     ]
    },
    {
     "name": "stdout",
     "output_type": "stream",
     "text": [
      "\b\b\b\b\b\b\b\b\b\b\b\b\b\b\b\b\b\b\b\b\b\b\b\b\b\b\b\b\b\b\b\b\b\b\b\b\b\b\b\b\b\b\b\b\b\b\b\b\b\b\b\b\b\b\b\b\b\b\b\b\b\b\b\b\b\b\b\b\b\b\b\b\b\b\b\r\n",
      "\u001b[1m288/797\u001b[0m \u001b[32m━━━━━━━\u001b[0m\u001b[37m━━━━━━━━━━━━━\u001b[0m \u001b[1m9s\u001b[0m 18ms/step - accuracy: 0.9498 - loss: 0.2880"
     ]
    },
    {
     "name": "stdout",
     "output_type": "stream",
     "text": [
      "\b\b\b\b\b\b\b\b\b\b\b\b\b\b\b\b\b\b\b\b\b\b\b\b\b\b\b\b\b\b\b\b\b\b\b\b\b\b\b\b\b\b\b\b\b\b\b\b\b\b\b\b\b\b\b\b\b\b\b\b\b\b\b\b\b\b\b\b\b\b\b\b\b\b\b\r\n",
      "\u001b[1m292/797\u001b[0m \u001b[32m━━━━━━━\u001b[0m\u001b[37m━━━━━━━━━━━━━\u001b[0m \u001b[1m9s\u001b[0m 18ms/step - accuracy: 0.9498 - loss: 0.2879"
     ]
    },
    {
     "name": "stdout",
     "output_type": "stream",
     "text": [
      "\b\b\b\b\b\b\b\b\b\b\b\b\b\b\b\b\b\b\b\b\b\b\b\b\b\b\b\b\b\b\b\b\b\b\b\b\b\b\b\b\b\b\b\b\b\b\b\b\b\b\b\b\b\b\b\b\b\b\b\b\b\b\b\b\b\b\b\b\b\b\b\b\b\b\b\r\n",
      "\u001b[1m294/797\u001b[0m \u001b[32m━━━━━━━\u001b[0m\u001b[37m━━━━━━━━━━━━━\u001b[0m \u001b[1m9s\u001b[0m 18ms/step - accuracy: 0.9498 - loss: 0.2879"
     ]
    },
    {
     "name": "stdout",
     "output_type": "stream",
     "text": [
      "\b\b\b\b\b\b\b\b\b\b\b\b\b\b\b\b\b\b\b\b\b\b\b\b\b\b\b\b\b\b\b\b\b\b\b\b\b\b\b\b\b\b\b\b\b\b\b\b\b\b\b\b\b\b\b\b\b\b\b\b\b\b\b\b\b\b\b\b\b\b\b\b\b\b\b\r\n",
      "\u001b[1m297/797\u001b[0m \u001b[32m━━━━━━━\u001b[0m\u001b[37m━━━━━━━━━━━━━\u001b[0m \u001b[1m9s\u001b[0m 18ms/step - accuracy: 0.9498 - loss: 0.2879"
     ]
    },
    {
     "name": "stdout",
     "output_type": "stream",
     "text": [
      "\b\b\b\b\b\b\b\b\b\b\b\b\b\b\b\b\b\b\b\b\b\b\b\b\b\b\b\b\b\b\b\b\b\b\b\b\b\b\b\b\b\b\b\b\b\b\b\b\b\b\b\b\b\b\b\b\b\b\b\b\b\b\b\b\b\b\b\b\b\b\b\b\b\b\b\r\n",
      "\u001b[1m300/797\u001b[0m \u001b[32m━━━━━━━\u001b[0m\u001b[37m━━━━━━━━━━━━━\u001b[0m \u001b[1m9s\u001b[0m 18ms/step - accuracy: 0.9498 - loss: 0.2879"
     ]
    },
    {
     "name": "stdout",
     "output_type": "stream",
     "text": [
      "\b\b\b\b\b\b\b\b\b\b\b\b\b\b\b\b\b\b\b\b\b\b\b\b\b\b\b\b\b\b\b\b\b\b\b\b\b\b\b\b\b\b\b\b\b\b\b\b\b\b\b\b\b\b\b\b\b\b\b\b\b\b\b\b\b\b\b\b\b\b\b\b\b\b\b\r\n",
      "\u001b[1m303/797\u001b[0m \u001b[32m━━━━━━━\u001b[0m\u001b[37m━━━━━━━━━━━━━\u001b[0m \u001b[1m9s\u001b[0m 18ms/step - accuracy: 0.9499 - loss: 0.2878"
     ]
    },
    {
     "name": "stdout",
     "output_type": "stream",
     "text": [
      "\b\b\b\b\b\b\b\b\b\b\b\b\b\b\b\b\b\b\b\b\b\b\b\b\b\b\b\b\b\b\b\b\b\b\b\b\b\b\b\b\b\b\b\b\b\b\b\b\b\b\b\b\b\b\b\b\b\b\b\b\b\b\b\b\b\b\b\b\b\b\b\b\b\b\b\r\n",
      "\u001b[1m306/797\u001b[0m \u001b[32m━━━━━━━\u001b[0m\u001b[37m━━━━━━━━━━━━━\u001b[0m \u001b[1m8s\u001b[0m 18ms/step - accuracy: 0.9499 - loss: 0.2878"
     ]
    },
    {
     "name": "stdout",
     "output_type": "stream",
     "text": [
      "\b\b\b\b\b\b\b\b\b\b\b\b\b\b\b\b\b\b\b\b\b\b\b\b\b\b\b\b\b\b\b\b\b\b\b\b\b\b\b\b\b\b\b\b\b\b\b\b\b\b\b\b\b\b\b\b\b\b\b\b\b\b\b\b\b\b\b\b\b\b\b\b\b\b\b\r\n",
      "\u001b[1m308/797\u001b[0m \u001b[32m━━━━━━━\u001b[0m\u001b[37m━━━━━━━━━━━━━\u001b[0m \u001b[1m8s\u001b[0m 18ms/step - accuracy: 0.9499 - loss: 0.2878"
     ]
    },
    {
     "name": "stdout",
     "output_type": "stream",
     "text": [
      "\b\b\b\b\b\b\b\b\b\b\b\b\b\b\b\b\b\b\b\b\b\b\b\b\b\b\b\b\b\b\b\b\b\b\b\b\b\b\b\b\b\b\b\b\b\b\b\b\b\b\b\b\b\b\b\b\b\b\b\b\b\b\b\b\b\b\b\b\b\b\b\b\b\b\b\r\n",
      "\u001b[1m312/797\u001b[0m \u001b[32m━━━━━━━\u001b[0m\u001b[37m━━━━━━━━━━━━━\u001b[0m \u001b[1m8s\u001b[0m 18ms/step - accuracy: 0.9499 - loss: 0.2878"
     ]
    },
    {
     "name": "stdout",
     "output_type": "stream",
     "text": [
      "\b\b\b\b\b\b\b\b\b\b\b\b\b\b\b\b\b\b\b\b\b\b\b\b\b\b\b\b\b\b\b\b\b\b\b\b\b\b\b\b\b\b\b\b\b\b\b\b\b\b\b\b\b\b\b\b\b\b\b\b\b\b\b\b\b\b\b\b\b\b\b\b\b\b\b\r\n",
      "\u001b[1m316/797\u001b[0m \u001b[32m━━━━━━━\u001b[0m\u001b[37m━━━━━━━━━━━━━\u001b[0m \u001b[1m8s\u001b[0m 18ms/step - accuracy: 0.9499 - loss: 0.2877"
     ]
    },
    {
     "name": "stdout",
     "output_type": "stream",
     "text": [
      "\b\b\b\b\b\b\b\b\b\b\b\b\b\b\b\b\b\b\b\b\b\b\b\b\b\b\b\b\b\b\b\b\b\b\b\b\b\b\b\b\b\b\b\b\b\b\b\b\b\b\b\b\b\b\b\b\b\b\b\b\b\b\b\b\b\b\b\b\b\b\b\b\b\b\b\r\n",
      "\u001b[1m320/797\u001b[0m \u001b[32m━━━━━━━━\u001b[0m\u001b[37m━━━━━━━━━━━━\u001b[0m \u001b[1m8s\u001b[0m 18ms/step - accuracy: 0.9499 - loss: 0.2877"
     ]
    },
    {
     "name": "stdout",
     "output_type": "stream",
     "text": [
      "\b\b\b\b\b\b\b\b\b\b\b\b\b\b\b\b\b\b\b\b\b\b\b\b\b\b\b\b\b\b\b\b\b\b\b\b\b\b\b\b\b\b\b\b\b\b\b\b\b\b\b\b\b\b\b\b\b\b\b\b\b\b\b\b\b\b\b\b\b\b\b\b\b\b\b\r\n",
      "\u001b[1m324/797\u001b[0m \u001b[32m━━━━━━━━\u001b[0m\u001b[37m━━━━━━━━━━━━\u001b[0m \u001b[1m8s\u001b[0m 18ms/step - accuracy: 0.9499 - loss: 0.2877"
     ]
    },
    {
     "name": "stdout",
     "output_type": "stream",
     "text": [
      "\b\b\b\b\b\b\b\b\b\b\b\b\b\b\b\b\b\b\b\b\b\b\b\b\b\b\b\b\b\b\b\b\b\b\b\b\b\b\b\b\b\b\b\b\b\b\b\b\b\b\b\b\b\b\b\b\b\b\b\b\b\b\b\b\b\b\b\b\b\b\b\b\b\b\b\r\n",
      "\u001b[1m328/797\u001b[0m \u001b[32m━━━━━━━━\u001b[0m\u001b[37m━━━━━━━━━━━━\u001b[0m \u001b[1m8s\u001b[0m 18ms/step - accuracy: 0.9499 - loss: 0.2876"
     ]
    },
    {
     "name": "stdout",
     "output_type": "stream",
     "text": [
      "\b\b\b\b\b\b\b\b\b\b\b\b\b\b\b\b\b\b\b\b\b\b\b\b\b\b\b\b\b\b\b\b\b\b\b\b\b\b\b\b\b\b\b\b\b\b\b\b\b\b\b\b\b\b\b\b\b\b\b\b\b\b\b\b\b\b\b\b\b\b\b\b\b\b\b\r\n",
      "\u001b[1m331/797\u001b[0m \u001b[32m━━━━━━━━\u001b[0m\u001b[37m━━━━━━━━━━━━\u001b[0m \u001b[1m8s\u001b[0m 18ms/step - accuracy: 0.9499 - loss: 0.2876"
     ]
    },
    {
     "name": "stdout",
     "output_type": "stream",
     "text": [
      "\b\b\b\b\b\b\b\b\b\b\b\b\b\b\b\b\b\b\b\b\b\b\b\b\b\b\b\b\b\b\b\b\b\b\b\b\b\b\b\b\b\b\b\b\b\b\b\b\b\b\b\b\b\b\b\b\b\b\b\b\b\b\b\b\b\b\b\b\b\b\b\b\b\b\b\r\n",
      "\u001b[1m334/797\u001b[0m \u001b[32m━━━━━━━━\u001b[0m\u001b[37m━━━━━━━━━━━━\u001b[0m \u001b[1m8s\u001b[0m 18ms/step - accuracy: 0.9499 - loss: 0.2876"
     ]
    },
    {
     "name": "stdout",
     "output_type": "stream",
     "text": [
      "\b\b\b\b\b\b\b\b\b\b\b\b\b\b\b\b\b\b\b\b\b\b\b\b\b\b\b\b\b\b\b\b\b\b\b\b\b\b\b\b\b\b\b\b\b\b\b\b\b\b\b\b\b\b\b\b\b\b\b\b\b\b\b\b\b\b\b\b\b\b\b\b\b\b\b\r\n",
      "\u001b[1m337/797\u001b[0m \u001b[32m━━━━━━━━\u001b[0m\u001b[37m━━━━━━━━━━━━\u001b[0m \u001b[1m8s\u001b[0m 18ms/step - accuracy: 0.9499 - loss: 0.2876"
     ]
    },
    {
     "name": "stdout",
     "output_type": "stream",
     "text": [
      "\b\b\b\b\b\b\b\b\b\b\b\b\b\b\b\b\b\b\b\b\b\b\b\b\b\b\b\b\b\b\b\b\b\b\b\b\b\b\b\b\b\b\b\b\b\b\b\b\b\b\b\b\b\b\b\b\b\b\b\b\b\b\b\b\b\b\b\b\b\b\b\b\b\b\b\r\n",
      "\u001b[1m340/797\u001b[0m \u001b[32m━━━━━━━━\u001b[0m\u001b[37m━━━━━━━━━━━━\u001b[0m \u001b[1m8s\u001b[0m 18ms/step - accuracy: 0.9499 - loss: 0.2876"
     ]
    },
    {
     "name": "stdout",
     "output_type": "stream",
     "text": [
      "\b\b\b\b\b\b\b\b\b\b\b\b\b\b\b\b\b\b\b\b\b\b\b\b\b\b\b\b\b\b\b\b\b\b\b\b\b\b\b\b\b\b\b\b\b\b\b\b\b\b\b\b\b\b\b\b\b\b\b\b\b\b\b\b\b\b\b\b\b\b\b\b\b\b\b\r\n",
      "\u001b[1m343/797\u001b[0m \u001b[32m━━━━━━━━\u001b[0m\u001b[37m━━━━━━━━━━━━\u001b[0m \u001b[1m8s\u001b[0m 18ms/step - accuracy: 0.9499 - loss: 0.2875"
     ]
    },
    {
     "name": "stdout",
     "output_type": "stream",
     "text": [
      "\b\b\b\b\b\b\b\b\b\b\b\b\b\b\b\b\b\b\b\b\b\b\b\b\b\b\b\b\b\b\b\b\b\b\b\b\b\b\b\b\b\b\b\b\b\b\b\b\b\b\b\b\b\b\b\b\b\b\b\b\b\b\b\b\b\b\b\b\b\b\b\b\b\b\b\r\n",
      "\u001b[1m346/797\u001b[0m \u001b[32m━━━━━━━━\u001b[0m\u001b[37m━━━━━━━━━━━━\u001b[0m \u001b[1m8s\u001b[0m 18ms/step - accuracy: 0.9499 - loss: 0.2875"
     ]
    },
    {
     "name": "stdout",
     "output_type": "stream",
     "text": [
      "\b\b\b\b\b\b\b\b\b\b\b\b\b\b\b\b\b\b\b\b\b\b\b\b\b\b\b\b\b\b\b\b\b\b\b\b\b\b\b\b\b\b\b\b\b\b\b\b\b\b\b\b\b\b\b\b\b\b\b\b\b\b\b\b\b\b\b\b\b\b\b\b\b\b\b\r\n",
      "\u001b[1m350/797\u001b[0m \u001b[32m━━━━━━━━\u001b[0m\u001b[37m━━━━━━━━━━━━\u001b[0m \u001b[1m8s\u001b[0m 18ms/step - accuracy: 0.9499 - loss: 0.2875"
     ]
    },
    {
     "name": "stdout",
     "output_type": "stream",
     "text": [
      "\b\b\b\b\b\b\b\b\b\b\b\b\b\b\b\b\b\b\b\b\b\b\b\b\b\b\b\b\b\b\b\b\b\b\b\b\b\b\b\b\b\b\b\b\b\b\b\b\b\b\b\b\b\b\b\b\b\b\b\b\b\b\b\b\b\b\b\b\b\b\b\b\b\b\b\r\n",
      "\u001b[1m353/797\u001b[0m \u001b[32m━━━━━━━━\u001b[0m\u001b[37m━━━━━━━━━━━━\u001b[0m \u001b[1m8s\u001b[0m 18ms/step - accuracy: 0.9499 - loss: 0.2875"
     ]
    },
    {
     "name": "stdout",
     "output_type": "stream",
     "text": [
      "\b\b\b\b\b\b\b\b\b\b\b\b\b\b\b\b\b\b\b\b\b\b\b\b\b\b\b\b\b\b\b\b\b\b\b\b\b\b\b\b\b\b\b\b\b\b\b\b\b\b\b\b\b\b\b\b\b\b\b\b\b\b\b\b\b\b\b\b\b\b\b\b\b\b\b\r\n",
      "\u001b[1m356/797\u001b[0m \u001b[32m━━━━━━━━\u001b[0m\u001b[37m━━━━━━━━━━━━\u001b[0m \u001b[1m8s\u001b[0m 18ms/step - accuracy: 0.9499 - loss: 0.2875"
     ]
    },
    {
     "name": "stdout",
     "output_type": "stream",
     "text": [
      "\b\b\b\b\b\b\b\b\b\b\b\b\b\b\b\b\b\b\b\b\b\b\b\b\b\b\b\b\b\b\b\b\b\b\b\b\b\b\b\b\b\b\b\b\b\b\b\b\b\b\b\b\b\b\b\b\b\b\b\b\b\b\b\b\b\b\b\b\b\b\b\b\b\b\b\r\n",
      "\u001b[1m359/797\u001b[0m \u001b[32m━━━━━━━━━\u001b[0m\u001b[37m━━━━━━━━━━━\u001b[0m \u001b[1m7s\u001b[0m 18ms/step - accuracy: 0.9499 - loss: 0.2875"
     ]
    },
    {
     "name": "stdout",
     "output_type": "stream",
     "text": [
      "\b\b\b\b\b\b\b\b\b\b\b\b\b\b\b\b\b\b\b\b\b\b\b\b\b\b\b\b\b\b\b\b\b\b\b\b\b\b\b\b\b\b\b\b\b\b\b\b\b\b\b\b\b\b\b\b\b\b\b\b\b\b\b\b\b\b\b\b\b\b\b\b\b\b\b\r\n",
      "\u001b[1m362/797\u001b[0m \u001b[32m━━━━━━━━━\u001b[0m\u001b[37m━━━━━━━━━━━\u001b[0m \u001b[1m7s\u001b[0m 18ms/step - accuracy: 0.9499 - loss: 0.2874"
     ]
    },
    {
     "name": "stdout",
     "output_type": "stream",
     "text": [
      "\b\b\b\b\b\b\b\b\b\b\b\b\b\b\b\b\b\b\b\b\b\b\b\b\b\b\b\b\b\b\b\b\b\b\b\b\b\b\b\b\b\b\b\b\b\b\b\b\b\b\b\b\b\b\b\b\b\b\b\b\b\b\b\b\b\b\b\b\b\b\b\b\b\b\b\r\n",
      "\u001b[1m365/797\u001b[0m \u001b[32m━━━━━━━━━\u001b[0m\u001b[37m━━━━━━━━━━━\u001b[0m \u001b[1m7s\u001b[0m 18ms/step - accuracy: 0.9499 - loss: 0.2874"
     ]
    },
    {
     "name": "stdout",
     "output_type": "stream",
     "text": [
      "\b\b\b\b\b\b\b\b\b\b\b\b\b\b\b\b\b\b\b\b\b\b\b\b\b\b\b\b\b\b\b\b\b\b\b\b\b\b\b\b\b\b\b\b\b\b\b\b\b\b\b\b\b\b\b\b\b\b\b\b\b\b\b\b\b\b\b\b\b\b\b\b\b\b\b\r\n",
      "\u001b[1m369/797\u001b[0m \u001b[32m━━━━━━━━━\u001b[0m\u001b[37m━━━━━━━━━━━\u001b[0m \u001b[1m7s\u001b[0m 18ms/step - accuracy: 0.9499 - loss: 0.2874"
     ]
    },
    {
     "name": "stdout",
     "output_type": "stream",
     "text": [
      "\b\b\b\b\b\b\b\b\b\b\b\b\b\b\b\b\b\b\b\b\b\b\b\b\b\b\b\b\b\b\b\b\b\b\b\b\b\b\b\b\b\b\b\b\b\b\b\b\b\b\b\b\b\b\b\b\b\b\b\b\b\b\b\b\b\b\b\b\b\b\b\b\b\b\b\r\n",
      "\u001b[1m373/797\u001b[0m \u001b[32m━━━━━━━━━\u001b[0m\u001b[37m━━━━━━━━━━━\u001b[0m \u001b[1m7s\u001b[0m 18ms/step - accuracy: 0.9499 - loss: 0.2874"
     ]
    },
    {
     "name": "stdout",
     "output_type": "stream",
     "text": [
      "\b\b\b\b\b\b\b\b\b\b\b\b\b\b\b\b\b\b\b\b\b\b\b\b\b\b\b\b\b\b\b\b\b\b\b\b\b\b\b\b\b\b\b\b\b\b\b\b\b\b\b\b\b\b\b\b\b\b\b\b\b\b\b\b\b\b\b\b\b\b\b\b\b\b\b\r\n",
      "\u001b[1m376/797\u001b[0m \u001b[32m━━━━━━━━━\u001b[0m\u001b[37m━━━━━━━━━━━\u001b[0m \u001b[1m7s\u001b[0m 18ms/step - accuracy: 0.9499 - loss: 0.2874"
     ]
    },
    {
     "name": "stdout",
     "output_type": "stream",
     "text": [
      "\b\b\b\b\b\b\b\b\b\b\b\b\b\b\b\b\b\b\b\b\b\b\b\b\b\b\b\b\b\b\b\b\b\b\b\b\b\b\b\b\b\b\b\b\b\b\b\b\b\b\b\b\b\b\b\b\b\b\b\b\b\b\b\b\b\b\b\b\b\b\b\b\b\b\b\r\n",
      "\u001b[1m378/797\u001b[0m \u001b[32m━━━━━━━━━\u001b[0m\u001b[37m━━━━━━━━━━━\u001b[0m \u001b[1m7s\u001b[0m 18ms/step - accuracy: 0.9499 - loss: 0.2874"
     ]
    },
    {
     "name": "stdout",
     "output_type": "stream",
     "text": [
      "\b\b\b\b\b\b\b\b\b\b\b\b\b\b\b\b\b\b\b\b\b\b\b\b\b\b\b\b\b\b\b\b\b\b\b\b\b\b\b\b\b\b\b\b\b\b\b\b\b\b\b\b\b\b\b\b\b\b\b\b\b\b\b\b\b\b\b\b\b\b\b\b\b\b\b\r\n",
      "\u001b[1m381/797\u001b[0m \u001b[32m━━━━━━━━━\u001b[0m\u001b[37m━━━━━━━━━━━\u001b[0m \u001b[1m7s\u001b[0m 18ms/step - accuracy: 0.9499 - loss: 0.2874"
     ]
    },
    {
     "name": "stdout",
     "output_type": "stream",
     "text": [
      "\b\b\b\b\b\b\b\b\b\b\b\b\b\b\b\b\b\b\b\b\b\b\b\b\b\b\b\b\b\b\b\b\b\b\b\b\b\b\b\b\b\b\b\b\b\b\b\b\b\b\b\b\b\b\b\b\b\b\b\b\b\b\b\b\b\b\b\b\b\b\b\b\b\b\b\r\n",
      "\u001b[1m384/797\u001b[0m \u001b[32m━━━━━━━━━\u001b[0m\u001b[37m━━━━━━━━━━━\u001b[0m \u001b[1m7s\u001b[0m 18ms/step - accuracy: 0.9499 - loss: 0.2873"
     ]
    },
    {
     "name": "stdout",
     "output_type": "stream",
     "text": [
      "\b\b\b\b\b\b\b\b\b\b\b\b\b\b\b\b\b\b\b\b\b\b\b\b\b\b\b\b\b\b\b\b\b\b\b\b\b\b\b\b\b\b\b\b\b\b\b\b\b\b\b\b\b\b\b\b\b\b\b\b\b\b\b\b\b\b\b\b\b\b\b\b\b\b\b\r\n",
      "\u001b[1m387/797\u001b[0m \u001b[32m━━━━━━━━━\u001b[0m\u001b[37m━━━━━━━━━━━\u001b[0m \u001b[1m7s\u001b[0m 18ms/step - accuracy: 0.9499 - loss: 0.2873"
     ]
    },
    {
     "name": "stdout",
     "output_type": "stream",
     "text": [
      "\b\b\b\b\b\b\b\b\b\b\b\b\b\b\b\b\b\b\b\b\b\b\b\b\b\b\b\b\b\b\b\b\b\b\b\b\b\b\b\b\b\b\b\b\b\b\b\b\b\b\b\b\b\b\b\b\b\b\b\b\b\b\b\b\b\b\b\b\b\b\b\b\b\b\b\r\n",
      "\u001b[1m391/797\u001b[0m \u001b[32m━━━━━━━━━\u001b[0m\u001b[37m━━━━━━━━━━━\u001b[0m \u001b[1m7s\u001b[0m 18ms/step - accuracy: 0.9499 - loss: 0.2873"
     ]
    },
    {
     "name": "stdout",
     "output_type": "stream",
     "text": [
      "\b\b\b\b\b\b\b\b\b\b\b\b\b\b\b\b\b\b\b\b\b\b\b\b\b\b\b\b\b\b\b\b\b\b\b\b\b\b\b\b\b\b\b\b\b\b\b\b\b\b\b\b\b\b\b\b\b\b\b\b\b\b\b\b\b\b\b\b\b\b\b\b\b\b\b\r\n",
      "\u001b[1m394/797\u001b[0m \u001b[32m━━━━━━━━━\u001b[0m\u001b[37m━━━━━━━━━━━\u001b[0m \u001b[1m7s\u001b[0m 18ms/step - accuracy: 0.9499 - loss: 0.2873"
     ]
    },
    {
     "name": "stdout",
     "output_type": "stream",
     "text": [
      "\b\b\b\b\b\b\b\b\b\b\b\b\b\b\b\b\b\b\b\b\b\b\b\b\b\b\b\b\b\b\b\b\b\b\b\b\b\b\b\b\b\b\b\b\b\b\b\b\b\b\b\b\b\b\b\b\b\b\b\b\b\b\b\b\b\b\b\b\b\b\b\b\b\b\b\r\n",
      "\u001b[1m397/797\u001b[0m \u001b[32m━━━━━━━━━\u001b[0m\u001b[37m━━━━━━━━━━━\u001b[0m \u001b[1m7s\u001b[0m 18ms/step - accuracy: 0.9499 - loss: 0.2873"
     ]
    },
    {
     "name": "stdout",
     "output_type": "stream",
     "text": [
      "\b\b\b\b\b\b\b\b\b\b\b\b\b\b\b\b\b\b\b\b\b\b\b\b\b\b\b\b\b\b\b\b\b\b\b\b\b\b\b\b\b\b\b\b\b\b\b\b\b\b\b\b\b\b\b\b\b\b\b\b\b\b\b\b\b\b\b\b\b\b\b\b\b\b\b\r\n",
      "\u001b[1m400/797\u001b[0m \u001b[32m━━━━━━━━━━\u001b[0m\u001b[37m━━━━━━━━━━\u001b[0m \u001b[1m7s\u001b[0m 18ms/step - accuracy: 0.9499 - loss: 0.2873"
     ]
    },
    {
     "name": "stdout",
     "output_type": "stream",
     "text": [
      "\b\b\b\b\b\b\b\b\b\b\b\b\b\b\b\b\b\b\b\b\b\b\b\b\b\b\b\b\b\b\b\b\b\b\b\b\b\b\b\b\b\b\b\b\b\b\b\b\b\b\b\b\b\b\b\b\b\b\b\b\b\b\b\b\b\b\b\b\b\b\b\b\b\b\b\r\n",
      "\u001b[1m403/797\u001b[0m \u001b[32m━━━━━━━━━━\u001b[0m\u001b[37m━━━━━━━━━━\u001b[0m \u001b[1m7s\u001b[0m 18ms/step - accuracy: 0.9499 - loss: 0.2873"
     ]
    },
    {
     "name": "stdout",
     "output_type": "stream",
     "text": [
      "\b\b\b\b\b\b\b\b\b\b\b\b\b\b\b\b\b\b\b\b\b\b\b\b\b\b\b\b\b\b\b\b\b\b\b\b\b\b\b\b\b\b\b\b\b\b\b\b\b\b\b\b\b\b\b\b\b\b\b\b\b\b\b\b\b\b\b\b\b\b\b\b\b\b\b\r\n",
      "\u001b[1m406/797\u001b[0m \u001b[32m━━━━━━━━━━\u001b[0m\u001b[37m━━━━━━━━━━\u001b[0m \u001b[1m7s\u001b[0m 18ms/step - accuracy: 0.9499 - loss: 0.2873"
     ]
    },
    {
     "name": "stdout",
     "output_type": "stream",
     "text": [
      "\b\b\b\b\b\b\b\b\b\b\b\b\b\b\b\b\b\b\b\b\b\b\b\b\b\b\b\b\b\b\b\b\b\b\b\b\b\b\b\b\b\b\b\b\b\b\b\b\b\b\b\b\b\b\b\b\b\b\b\b\b\b\b\b\b\b\b\b\b\b\b\b\b\b\b\r\n",
      "\u001b[1m409/797\u001b[0m \u001b[32m━━━━━━━━━━\u001b[0m\u001b[37m━━━━━━━━━━\u001b[0m \u001b[1m7s\u001b[0m 18ms/step - accuracy: 0.9499 - loss: 0.2873"
     ]
    },
    {
     "name": "stdout",
     "output_type": "stream",
     "text": [
      "\b\b\b\b\b\b\b\b\b\b\b\b\b\b\b\b\b\b\b\b\b\b\b\b\b\b\b\b\b\b\b\b\b\b\b\b\b\b\b\b\b\b\b\b\b\b\b\b\b\b\b\b\b\b\b\b\b\b\b\b\b\b\b\b\b\b\b\b\b\b\b\b\b\b\b\r\n",
      "\u001b[1m412/797\u001b[0m \u001b[32m━━━━━━━━━━\u001b[0m\u001b[37m━━━━━━━━━━\u001b[0m \u001b[1m7s\u001b[0m 18ms/step - accuracy: 0.9499 - loss: 0.2873"
     ]
    },
    {
     "name": "stdout",
     "output_type": "stream",
     "text": [
      "\b\b\b\b\b\b\b\b\b\b\b\b\b\b\b\b\b\b\b\b\b\b\b\b\b\b\b\b\b\b\b\b\b\b\b\b\b\b\b\b\b\b\b\b\b\b\b\b\b\b\b\b\b\b\b\b\b\b\b\b\b\b\b\b\b\b\b\b\b\b\b\b\b\b\b\r\n",
      "\u001b[1m415/797\u001b[0m \u001b[32m━━━━━━━━━━\u001b[0m\u001b[37m━━━━━━━━━━\u001b[0m \u001b[1m7s\u001b[0m 18ms/step - accuracy: 0.9499 - loss: 0.2873"
     ]
    },
    {
     "name": "stdout",
     "output_type": "stream",
     "text": [
      "\b\b\b\b\b\b\b\b\b\b\b\b\b\b\b\b\b\b\b\b\b\b\b\b\b\b\b\b\b\b\b\b\b\b\b\b\b\b\b\b\b\b\b\b\b\b\b\b\b\b\b\b\b\b\b\b\b\b\b\b\b\b\b\b\b\b\b\b\b\b\b\b\b\b\b\r\n",
      "\u001b[1m419/797\u001b[0m \u001b[32m━━━━━━━━━━\u001b[0m\u001b[37m━━━━━━━━━━\u001b[0m \u001b[1m6s\u001b[0m 18ms/step - accuracy: 0.9499 - loss: 0.2872"
     ]
    },
    {
     "name": "stdout",
     "output_type": "stream",
     "text": [
      "\b\b\b\b\b\b\b\b\b\b\b\b\b\b\b\b\b\b\b\b\b\b\b\b\b\b\b\b\b\b\b\b\b\b\b\b\b\b\b\b\b\b\b\b\b\b\b\b\b\b\b\b\b\b\b\b\b\b\b\b\b\b\b\b\b\b\b\b\b\b\b\b\b\b\b\r\n",
      "\u001b[1m423/797\u001b[0m \u001b[32m━━━━━━━━━━\u001b[0m\u001b[37m━━━━━━━━━━\u001b[0m \u001b[1m6s\u001b[0m 18ms/step - accuracy: 0.9499 - loss: 0.2872"
     ]
    },
    {
     "name": "stdout",
     "output_type": "stream",
     "text": [
      "\b\b\b\b\b\b\b\b\b\b\b\b\b\b\b\b\b\b\b\b\b\b\b\b\b\b\b\b\b\b\b\b\b\b\b\b\b\b\b\b\b\b\b\b\b\b\b\b\b\b\b\b\b\b\b\b\b\b\b\b\b\b\b\b\b\b\b\b\b\b\b\b\b\b\b\r\n",
      "\u001b[1m427/797\u001b[0m \u001b[32m━━━━━━━━━━\u001b[0m\u001b[37m━━━━━━━━━━\u001b[0m \u001b[1m6s\u001b[0m 18ms/step - accuracy: 0.9499 - loss: 0.2872"
     ]
    },
    {
     "name": "stdout",
     "output_type": "stream",
     "text": [
      "\b\b\b\b\b\b\b\b\b\b\b\b\b\b\b\b\b\b\b\b\b\b\b\b\b\b\b\b\b\b\b\b\b\b\b\b\b\b\b\b\b\b\b\b\b\b\b\b\b\b\b\b\b\b\b\b\b\b\b\b\b\b\b\b\b\b\b\b\b\b\b\b\b\b\b\r\n",
      "\u001b[1m431/797\u001b[0m \u001b[32m━━━━━━━━━━\u001b[0m\u001b[37m━━━━━━━━━━\u001b[0m \u001b[1m6s\u001b[0m 18ms/step - accuracy: 0.9499 - loss: 0.2872"
     ]
    },
    {
     "name": "stdout",
     "output_type": "stream",
     "text": [
      "\b\b\b\b\b\b\b\b\b\b\b\b\b\b\b\b\b\b\b\b\b\b\b\b\b\b\b\b\b\b\b\b\b\b\b\b\b\b\b\b\b\b\b\b\b\b\b\b\b\b\b\b\b\b\b\b\b\b\b\b\b\b\b\b\b\b\b\b\b\b\b\b\b\b\b\r\n",
      "\u001b[1m434/797\u001b[0m \u001b[32m━━━━━━━━━━\u001b[0m\u001b[37m━━━━━━━━━━\u001b[0m \u001b[1m6s\u001b[0m 18ms/step - accuracy: 0.9499 - loss: 0.2872"
     ]
    },
    {
     "name": "stdout",
     "output_type": "stream",
     "text": [
      "\b\b\b\b\b\b\b\b\b\b\b\b\b\b\b\b\b\b\b\b\b\b\b\b\b\b\b\b\b\b\b\b\b\b\b\b\b\b\b\b\b\b\b\b\b\b\b\b\b\b\b\b\b\b\b\b\b\b\b\b\b\b\b\b\b\b\b\b\b\b\b\b\b\b\b\r\n",
      "\u001b[1m436/797\u001b[0m \u001b[32m━━━━━━━━━━\u001b[0m\u001b[37m━━━━━━━━━━\u001b[0m \u001b[1m6s\u001b[0m 18ms/step - accuracy: 0.9499 - loss: 0.2872"
     ]
    },
    {
     "name": "stdout",
     "output_type": "stream",
     "text": [
      "\b\b\b\b\b\b\b\b\b\b\b\b\b\b\b\b\b\b\b\b\b\b\b\b\b\b\b\b\b\b\b\b\b\b\b\b\b\b\b\b\b\b\b\b\b\b\b\b\b\b\b\b\b\b\b\b\b\b\b\b\b\b\b\b\b\b\b\b\b\b\b\b\b\b\b\r\n",
      "\u001b[1m438/797\u001b[0m \u001b[32m━━━━━━━━━━\u001b[0m\u001b[37m━━━━━━━━━━\u001b[0m \u001b[1m6s\u001b[0m 18ms/step - accuracy: 0.9499 - loss: 0.2872"
     ]
    },
    {
     "name": "stdout",
     "output_type": "stream",
     "text": [
      "\b\b\b\b\b\b\b\b\b\b\b\b\b\b\b\b\b\b\b\b\b\b\b\b\b\b\b\b\b\b\b\b\b\b\b\b\b\b\b\b\b\b\b\b\b\b\b\b\b\b\b\b\b\b\b\b\b\b\b\b\b\b\b\b\b\b\b\b\b\b\b\b\b\b\b\r\n",
      "\u001b[1m441/797\u001b[0m \u001b[32m━━━━━━━━━━━\u001b[0m\u001b[37m━━━━━━━━━\u001b[0m \u001b[1m6s\u001b[0m 18ms/step - accuracy: 0.9499 - loss: 0.2872"
     ]
    },
    {
     "name": "stdout",
     "output_type": "stream",
     "text": [
      "\b\b\b\b\b\b\b\b\b\b\b\b\b\b\b\b\b\b\b\b\b\b\b\b\b\b\b\b\b\b\b\b\b\b\b\b\b\b\b\b\b\b\b\b\b\b\b\b\b\b\b\b\b\b\b\b\b\b\b\b\b\b\b\b\b\b\b\b\b\b\b\b\b\b\b\r\n",
      "\u001b[1m444/797\u001b[0m \u001b[32m━━━━━━━━━━━\u001b[0m\u001b[37m━━━━━━━━━\u001b[0m \u001b[1m6s\u001b[0m 18ms/step - accuracy: 0.9499 - loss: 0.2872"
     ]
    },
    {
     "name": "stdout",
     "output_type": "stream",
     "text": [
      "\b\b\b\b\b\b\b\b\b\b\b\b\b\b\b\b\b\b\b\b\b\b\b\b\b\b\b\b\b\b\b\b\b\b\b\b\b\b\b\b\b\b\b\b\b\b\b\b\b\b\b\b\b\b\b\b\b\b\b\b\b\b\b\b\b\b\b\b\b\b\b\b\b\b\b\r\n",
      "\u001b[1m447/797\u001b[0m \u001b[32m━━━━━━━━━━━\u001b[0m\u001b[37m━━━━━━━━━\u001b[0m \u001b[1m6s\u001b[0m 18ms/step - accuracy: 0.9499 - loss: 0.2872"
     ]
    },
    {
     "name": "stdout",
     "output_type": "stream",
     "text": [
      "\b\b\b\b\b\b\b\b\b\b\b\b\b\b\b\b\b\b\b\b\b\b\b\b\b\b\b\b\b\b\b\b\b\b\b\b\b\b\b\b\b\b\b\b\b\b\b\b\b\b\b\b\b\b\b\b\b\b\b\b\b\b\b\b\b\b\b\b\b\b\b\b\b\b\b\r\n",
      "\u001b[1m449/797\u001b[0m \u001b[32m━━━━━━━━━━━\u001b[0m\u001b[37m━━━━━━━━━\u001b[0m \u001b[1m6s\u001b[0m 18ms/step - accuracy: 0.9499 - loss: 0.2872"
     ]
    },
    {
     "name": "stdout",
     "output_type": "stream",
     "text": [
      "\b\b\b\b\b\b\b\b\b\b\b\b\b\b\b\b\b\b\b\b\b\b\b\b\b\b\b\b\b\b\b\b\b\b\b\b\b\b\b\b\b\b\b\b\b\b\b\b\b\b\b\b\b\b\b\b\b\b\b\b\b\b\b\b\b\b\b\b\b\b\b\b\b\b\b\r\n",
      "\u001b[1m452/797\u001b[0m \u001b[32m━━━━━━━━━━━\u001b[0m\u001b[37m━━━━━━━━━\u001b[0m \u001b[1m6s\u001b[0m 18ms/step - accuracy: 0.9499 - loss: 0.2872"
     ]
    },
    {
     "name": "stdout",
     "output_type": "stream",
     "text": [
      "\b\b\b\b\b\b\b\b\b\b\b\b\b\b\b\b\b\b\b\b\b\b\b\b\b\b\b\b\b\b\b\b\b\b\b\b\b\b\b\b\b\b\b\b\b\b\b\b\b\b\b\b\b\b\b\b\b\b\b\b\b\b\b\b\b\b\b\b\b\b\b\b\b\b\b\r\n",
      "\u001b[1m454/797\u001b[0m \u001b[32m━━━━━━━━━━━\u001b[0m\u001b[37m━━━━━━━━━\u001b[0m \u001b[1m6s\u001b[0m 19ms/step - accuracy: 0.9499 - loss: 0.2872"
     ]
    },
    {
     "name": "stdout",
     "output_type": "stream",
     "text": [
      "\b\b\b\b\b\b\b\b\b\b\b\b\b\b\b\b\b\b\b\b\b\b\b\b\b\b\b\b\b\b\b\b\b\b\b\b\b\b\b\b\b\b\b\b\b\b\b\b\b\b\b\b\b\b\b\b\b\b\b\b\b\b\b\b\b\b\b\b\b\b\b\b\b\b\b\r\n",
      "\u001b[1m457/797\u001b[0m \u001b[32m━━━━━━━━━━━\u001b[0m\u001b[37m━━━━━━━━━\u001b[0m \u001b[1m6s\u001b[0m 19ms/step - accuracy: 0.9499 - loss: 0.2872"
     ]
    },
    {
     "name": "stdout",
     "output_type": "stream",
     "text": [
      "\b\b\b\b\b\b\b\b\b\b\b\b\b\b\b\b\b\b\b\b\b\b\b\b\b\b\b\b\b\b\b\b\b\b\b\b\b\b\b\b\b\b\b\b\b\b\b\b\b\b\b\b\b\b\b\b\b\b\b\b\b\b\b\b\b\b\b\b\b\b\b\b\b\b\b\r\n",
      "\u001b[1m460/797\u001b[0m \u001b[32m━━━━━━━━━━━\u001b[0m\u001b[37m━━━━━━━━━\u001b[0m \u001b[1m6s\u001b[0m 19ms/step - accuracy: 0.9499 - loss: 0.2872"
     ]
    },
    {
     "name": "stdout",
     "output_type": "stream",
     "text": [
      "\b\b\b\b\b\b\b\b\b\b\b\b\b\b\b\b\b\b\b\b\b\b\b\b\b\b\b\b\b\b\b\b\b\b\b\b\b\b\b\b\b\b\b\b\b\b\b\b\b\b\b\b\b\b\b\b\b\b\b\b\b\b\b\b\b\b\b\b\b\b\b\b\b\b\b\r\n",
      "\u001b[1m463/797\u001b[0m \u001b[32m━━━━━━━━━━━\u001b[0m\u001b[37m━━━━━━━━━\u001b[0m \u001b[1m6s\u001b[0m 19ms/step - accuracy: 0.9499 - loss: 0.2872"
     ]
    },
    {
     "name": "stdout",
     "output_type": "stream",
     "text": [
      "\b\b\b\b\b\b\b\b\b\b\b\b\b\b\b\b\b\b\b\b\b\b\b\b\b\b\b\b\b\b\b\b\b\b\b\b\b\b\b\b\b\b\b\b\b\b\b\b\b\b\b\b\b\b\b\b\b\b\b\b\b\b\b\b\b\b\b\b\b\b\b\b\b\b\b\r\n",
      "\u001b[1m466/797\u001b[0m \u001b[32m━━━━━━━━━━━\u001b[0m\u001b[37m━━━━━━━━━\u001b[0m \u001b[1m6s\u001b[0m 19ms/step - accuracy: 0.9499 - loss: 0.2872"
     ]
    },
    {
     "name": "stdout",
     "output_type": "stream",
     "text": [
      "\b\b\b\b\b\b\b\b\b\b\b\b\b\b\b\b\b\b\b\b\b\b\b\b\b\b\b\b\b\b\b\b\b\b\b\b\b\b\b\b\b\b\b\b\b\b\b\b\b\b\b\b\b\b\b\b\b\b\b\b\b\b\b\b\b\b\b\b\b\b\b\b\b\b\b\r\n",
      "\u001b[1m469/797\u001b[0m \u001b[32m━━━━━━━━━━━\u001b[0m\u001b[37m━━━━━━━━━\u001b[0m \u001b[1m6s\u001b[0m 19ms/step - accuracy: 0.9499 - loss: 0.2872"
     ]
    },
    {
     "name": "stdout",
     "output_type": "stream",
     "text": [
      "\b\b\b\b\b\b\b\b\b\b\b\b\b\b\b\b\b\b\b\b\b\b\b\b\b\b\b\b\b\b\b\b\b\b\b\b\b\b\b\b\b\b\b\b\b\b\b\b\b\b\b\b\b\b\b\b\b\b\b\b\b\b\b\b\b\b\b\b\b\b\b\b\b\b\b\r\n",
      "\u001b[1m471/797\u001b[0m \u001b[32m━━━━━━━━━━━\u001b[0m\u001b[37m━━━━━━━━━\u001b[0m \u001b[1m6s\u001b[0m 19ms/step - accuracy: 0.9499 - loss: 0.2872"
     ]
    },
    {
     "name": "stdout",
     "output_type": "stream",
     "text": [
      "\b\b\b\b\b\b\b\b\b\b\b\b\b\b\b\b\b\b\b\b\b\b\b\b\b\b\b\b\b\b\b\b\b\b\b\b\b\b\b\b\b\b\b\b\b\b\b\b\b\b\b\b\b\b\b\b\b\b\b\b\b\b\b\b\b\b\b\b\b\b\b\b\b\b\b\r\n",
      "\u001b[1m474/797\u001b[0m \u001b[32m━━━━━━━━━━━\u001b[0m\u001b[37m━━━━━━━━━\u001b[0m \u001b[1m6s\u001b[0m 19ms/step - accuracy: 0.9499 - loss: 0.2872"
     ]
    },
    {
     "name": "stdout",
     "output_type": "stream",
     "text": [
      "\b\b\b\b\b\b\b\b\b\b\b\b\b\b\b\b\b\b\b\b\b\b\b\b\b\b\b\b\b\b\b\b\b\b\b\b\b\b\b\b\b\b\b\b\b\b\b\b\b\b\b\b\b\b\b\b\b\b\b\b\b\b\b\b\b\b\b\b\b\b\b\b\b\b\b\r\n",
      "\u001b[1m477/797\u001b[0m \u001b[32m━━━━━━━━━━━\u001b[0m\u001b[37m━━━━━━━━━\u001b[0m \u001b[1m5s\u001b[0m 19ms/step - accuracy: 0.9499 - loss: 0.2872"
     ]
    },
    {
     "name": "stdout",
     "output_type": "stream",
     "text": [
      "\b\b\b\b\b\b\b\b\b\b\b\b\b\b\b\b\b\b\b\b\b\b\b\b\b\b\b\b\b\b\b\b\b\b\b\b\b\b\b\b\b\b\b\b\b\b\b\b\b\b\b\b\b\b\b\b\b\b\b\b\b\b\b\b\b\b\b\b\b\b\b\b\b\b\b\r\n",
      "\u001b[1m480/797\u001b[0m \u001b[32m━━━━━━━━━━━━\u001b[0m\u001b[37m━━━━━━━━\u001b[0m \u001b[1m5s\u001b[0m 19ms/step - accuracy: 0.9499 - loss: 0.2872"
     ]
    },
    {
     "name": "stdout",
     "output_type": "stream",
     "text": [
      "\b\b\b\b\b\b\b\b\b\b\b\b\b\b\b\b\b\b\b\b\b\b\b\b\b\b\b\b\b\b\b\b\b\b\b\b\b\b\b\b\b\b\b\b\b\b\b\b\b\b\b\b\b\b\b\b\b\b\b\b\b\b\b\b\b\b\b\b\b\b\b\b\b\b\b\r\n",
      "\u001b[1m484/797\u001b[0m \u001b[32m━━━━━━━━━━━━\u001b[0m\u001b[37m━━━━━━━━\u001b[0m \u001b[1m5s\u001b[0m 19ms/step - accuracy: 0.9499 - loss: 0.2872"
     ]
    },
    {
     "name": "stdout",
     "output_type": "stream",
     "text": [
      "\b\b\b\b\b\b\b\b\b\b\b\b\b\b\b\b\b\b\b\b\b\b\b\b\b\b\b\b\b\b\b\b\b\b\b\b\b\b\b\b\b\b\b\b\b\b\b\b\b\b\b\b\b\b\b\b\b\b\b\b\b\b\b\b\b\b\b\b\b\b\b\b\b\b\b\r\n",
      "\u001b[1m488/797\u001b[0m \u001b[32m━━━━━━━━━━━━\u001b[0m\u001b[37m━━━━━━━━\u001b[0m \u001b[1m5s\u001b[0m 19ms/step - accuracy: 0.9499 - loss: 0.2872"
     ]
    },
    {
     "name": "stdout",
     "output_type": "stream",
     "text": [
      "\b\b\b\b\b\b\b\b\b\b\b\b\b\b\b\b\b\b\b\b\b\b\b\b\b\b\b\b\b\b\b\b\b\b\b\b\b\b\b\b\b\b\b\b\b\b\b\b\b\b\b\b\b\b\b\b\b\b\b\b\b\b\b\b\b\b\b\b\b\b\b\b\b\b\b\r\n",
      "\u001b[1m491/797\u001b[0m \u001b[32m━━━━━━━━━━━━\u001b[0m\u001b[37m━━━━━━━━\u001b[0m \u001b[1m5s\u001b[0m 19ms/step - accuracy: 0.9499 - loss: 0.2872"
     ]
    },
    {
     "name": "stdout",
     "output_type": "stream",
     "text": [
      "\b\b\b\b\b\b\b\b\b\b\b\b\b\b\b\b\b\b\b\b\b\b\b\b\b\b\b\b\b\b\b\b\b\b\b\b\b\b\b\b\b\b\b\b\b\b\b\b\b\b\b\b\b\b\b\b\b\b\b\b\b\b\b\b\b\b\b\b\b\b\b\b\b\b\b\r\n",
      "\u001b[1m494/797\u001b[0m \u001b[32m━━━━━━━━━━━━\u001b[0m\u001b[37m━━━━━━━━\u001b[0m \u001b[1m5s\u001b[0m 19ms/step - accuracy: 0.9499 - loss: 0.2872"
     ]
    },
    {
     "name": "stdout",
     "output_type": "stream",
     "text": [
      "\b\b\b\b\b\b\b\b\b\b\b\b\b\b\b\b\b\b\b\b\b\b\b\b\b\b\b\b\b\b\b\b\b\b\b\b\b\b\b\b\b\b\b\b\b\b\b\b\b\b\b\b\b\b\b\b\b\b\b\b\b\b\b\b\b\b\b\b\b\b\b\b\b\b\b\r\n",
      "\u001b[1m497/797\u001b[0m \u001b[32m━━━━━━━━━━━━\u001b[0m\u001b[37m━━━━━━━━\u001b[0m \u001b[1m5s\u001b[0m 19ms/step - accuracy: 0.9499 - loss: 0.2872"
     ]
    },
    {
     "name": "stdout",
     "output_type": "stream",
     "text": [
      "\b\b\b\b\b\b\b\b\b\b\b\b\b\b\b\b\b\b\b\b\b\b\b\b\b\b\b\b\b\b\b\b\b\b\b\b\b\b\b\b\b\b\b\b\b\b\b\b\b\b\b\b\b\b\b\b\b\b\b\b\b\b\b\b\b\b\b\b\b\b\b\b\b\b\b\r\n",
      "\u001b[1m500/797\u001b[0m \u001b[32m━━━━━━━━━━━━\u001b[0m\u001b[37m━━━━━━━━\u001b[0m \u001b[1m5s\u001b[0m 19ms/step - accuracy: 0.9499 - loss: 0.2872"
     ]
    },
    {
     "name": "stdout",
     "output_type": "stream",
     "text": [
      "\b\b\b\b\b\b\b\b\b\b\b\b\b\b\b\b\b\b\b\b\b\b\b\b\b\b\b\b\b\b\b\b\b\b\b\b\b\b\b\b\b\b\b\b\b\b\b\b\b\b\b\b\b\b\b\b\b\b\b\b\b\b\b\b\b\b\b\b\b\b\b\b\b\b\b\r\n",
      "\u001b[1m503/797\u001b[0m \u001b[32m━━━━━━━━━━━━\u001b[0m\u001b[37m━━━━━━━━\u001b[0m \u001b[1m5s\u001b[0m 19ms/step - accuracy: 0.9499 - loss: 0.2872"
     ]
    },
    {
     "name": "stdout",
     "output_type": "stream",
     "text": [
      "\b\b\b\b\b\b\b\b\b\b\b\b\b\b\b\b\b\b\b\b\b\b\b\b\b\b\b\b\b\b\b\b\b\b\b\b\b\b\b\b\b\b\b\b\b\b\b\b\b\b\b\b\b\b\b\b\b\b\b\b\b\b\b\b\b\b\b\b\b\b\b\b\b\b\b\r\n",
      "\u001b[1m505/797\u001b[0m \u001b[32m━━━━━━━━━━━━\u001b[0m\u001b[37m━━━━━━━━\u001b[0m \u001b[1m5s\u001b[0m 19ms/step - accuracy: 0.9499 - loss: 0.2872"
     ]
    },
    {
     "name": "stdout",
     "output_type": "stream",
     "text": [
      "\b\b\b\b\b\b\b\b\b\b\b\b\b\b\b\b\b\b\b\b\b\b\b\b\b\b\b\b\b\b\b\b\b\b\b\b\b\b\b\b\b\b\b\b\b\b\b\b\b\b\b\b\b\b\b\b\b\b\b\b\b\b\b\b\b\b\b\b\b\b\b\b\b\b\b\r\n",
      "\u001b[1m508/797\u001b[0m \u001b[32m━━━━━━━━━━━━\u001b[0m\u001b[37m━━━━━━━━\u001b[0m \u001b[1m5s\u001b[0m 19ms/step - accuracy: 0.9499 - loss: 0.2872"
     ]
    },
    {
     "name": "stdout",
     "output_type": "stream",
     "text": [
      "\b\b\b\b\b\b\b\b\b\b\b\b\b\b\b\b\b\b\b\b\b\b\b\b\b\b\b\b\b\b\b\b\b\b\b\b\b\b\b\b\b\b\b\b\b\b\b\b\b\b\b\b\b\b\b\b\b\b\b\b\b\b\b\b\b\b\b\b\b\b\b\b\b\b\b\r\n",
      "\u001b[1m511/797\u001b[0m \u001b[32m━━━━━━━━━━━━\u001b[0m\u001b[37m━━━━━━━━\u001b[0m \u001b[1m5s\u001b[0m 19ms/step - accuracy: 0.9499 - loss: 0.2872"
     ]
    },
    {
     "name": "stdout",
     "output_type": "stream",
     "text": [
      "\b\b\b\b\b\b\b\b\b\b\b\b\b\b\b\b\b\b\b\b\b\b\b\b\b\b\b\b\b\b\b\b\b\b\b\b\b\b\b\b\b\b\b\b\b\b\b\b\b\b\b\b\b\b\b\b\b\b\b\b\b\b\b\b\b\b\b\b\b\b\b\b\b\b\b\r\n",
      "\u001b[1m514/797\u001b[0m \u001b[32m━━━━━━━━━━━━\u001b[0m\u001b[37m━━━━━━━━\u001b[0m \u001b[1m5s\u001b[0m 19ms/step - accuracy: 0.9499 - loss: 0.2872"
     ]
    },
    {
     "name": "stdout",
     "output_type": "stream",
     "text": [
      "\b\b\b\b\b\b\b\b\b\b\b\b\b\b\b\b\b\b\b\b\b\b\b\b\b\b\b\b\b\b\b\b\b\b\b\b\b\b\b\b\b\b\b\b\b\b\b\b\b\b\b\b\b\b\b\b\b\b\b\b\b\b\b\b\b\b\b\b\b\b\b\b\b\b\b\r\n",
      "\u001b[1m517/797\u001b[0m \u001b[32m━━━━━━━━━━━━\u001b[0m\u001b[37m━━━━━━━━\u001b[0m \u001b[1m5s\u001b[0m 19ms/step - accuracy: 0.9499 - loss: 0.2872"
     ]
    },
    {
     "name": "stdout",
     "output_type": "stream",
     "text": [
      "\b\b\b\b\b\b\b\b\b\b\b\b\b\b\b\b\b\b\b\b\b\b\b\b\b\b\b\b\b\b\b\b\b\b\b\b\b\b\b\b\b\b\b\b\b\b\b\b\b\b\b\b\b\b\b\b\b\b\b\b\b\b\b\b\b\b\b\b\b\b\b\b\b\b\b\r\n",
      "\u001b[1m520/797\u001b[0m \u001b[32m━━━━━━━━━━━━━\u001b[0m\u001b[37m━━━━━━━\u001b[0m \u001b[1m5s\u001b[0m 19ms/step - accuracy: 0.9499 - loss: 0.2872"
     ]
    },
    {
     "name": "stdout",
     "output_type": "stream",
     "text": [
      "\b\b\b\b\b\b\b\b\b\b\b\b\b\b\b\b\b\b\b\b\b\b\b\b\b\b\b\b\b\b\b\b\b\b\b\b\b\b\b\b\b\b\b\b\b\b\b\b\b\b\b\b\b\b\b\b\b\b\b\b\b\b\b\b\b\b\b\b\b\b\b\b\b\b\b\r\n",
      "\u001b[1m523/797\u001b[0m \u001b[32m━━━━━━━━━━━━━\u001b[0m\u001b[37m━━━━━━━\u001b[0m \u001b[1m5s\u001b[0m 19ms/step - accuracy: 0.9499 - loss: 0.2872"
     ]
    },
    {
     "name": "stdout",
     "output_type": "stream",
     "text": [
      "\b\b\b\b\b\b\b\b\b\b\b\b\b\b\b\b\b\b\b\b\b\b\b\b\b\b\b\b\b\b\b\b\b\b\b\b\b\b\b\b\b\b\b\b\b\b\b\b\b\b\b\b\b\b\b\b\b\b\b\b\b\b\b\b\b\b\b\b\b\b\b\b\b\b\b\r\n",
      "\u001b[1m526/797\u001b[0m \u001b[32m━━━━━━━━━━━━━\u001b[0m\u001b[37m━━━━━━━\u001b[0m \u001b[1m5s\u001b[0m 19ms/step - accuracy: 0.9499 - loss: 0.2872"
     ]
    },
    {
     "name": "stdout",
     "output_type": "stream",
     "text": [
      "\b\b\b\b\b\b\b\b\b\b\b\b\b\b\b\b\b\b\b\b\b\b\b\b\b\b\b\b\b\b\b\b\b\b\b\b\b\b\b\b\b\b\b\b\b\b\b\b\b\b\b\b\b\b\b\b\b\b\b\b\b\b\b\b\b\b\b\b\b\b\b\b\b\b\b\r\n",
      "\u001b[1m528/797\u001b[0m \u001b[32m━━━━━━━━━━━━━\u001b[0m\u001b[37m━━━━━━━\u001b[0m \u001b[1m5s\u001b[0m 19ms/step - accuracy: 0.9499 - loss: 0.2872"
     ]
    },
    {
     "name": "stdout",
     "output_type": "stream",
     "text": [
      "\b\b\b\b\b\b\b\b\b\b\b\b\b\b\b\b\b\b\b\b\b\b\b\b\b\b\b\b\b\b\b\b\b\b\b\b\b\b\b\b\b\b\b\b\b\b\b\b\b\b\b\b\b\b\b\b\b\b\b\b\b\b\b\b\b\b\b\b\b\b\b\b\b\b\b\r\n",
      "\u001b[1m531/797\u001b[0m \u001b[32m━━━━━━━━━━━━━\u001b[0m\u001b[37m━━━━━━━\u001b[0m \u001b[1m4s\u001b[0m 19ms/step - accuracy: 0.9499 - loss: 0.2872"
     ]
    },
    {
     "name": "stdout",
     "output_type": "stream",
     "text": [
      "\b\b\b\b\b\b\b\b\b\b\b\b\b\b\b\b\b\b\b\b\b\b\b\b\b\b\b\b\b\b\b\b\b\b\b\b\b\b\b\b\b\b\b\b\b\b\b\b\b\b\b\b\b\b\b\b\b\b\b\b\b\b\b\b\b\b\b\b\b\b\b\b\b\b\b\r\n",
      "\u001b[1m534/797\u001b[0m \u001b[32m━━━━━━━━━━━━━\u001b[0m\u001b[37m━━━━━━━\u001b[0m \u001b[1m4s\u001b[0m 19ms/step - accuracy: 0.9499 - loss: 0.2872"
     ]
    },
    {
     "name": "stdout",
     "output_type": "stream",
     "text": [
      "\b\b\b\b\b\b\b\b\b\b\b\b\b\b\b\b\b\b\b\b\b\b\b\b\b\b\b\b\b\b\b\b\b\b\b\b\b\b\b\b\b\b\b\b\b\b\b\b\b\b\b\b\b\b\b\b\b\b\b\b\b\b\b\b\b\b\b\b\b\b\b\b\b\b\b\r\n",
      "\u001b[1m537/797\u001b[0m \u001b[32m━━━━━━━━━━━━━\u001b[0m\u001b[37m━━━━━━━\u001b[0m \u001b[1m4s\u001b[0m 19ms/step - accuracy: 0.9499 - loss: 0.2872"
     ]
    },
    {
     "name": "stdout",
     "output_type": "stream",
     "text": [
      "\b\b\b\b\b\b\b\b\b\b\b\b\b\b\b\b\b\b\b\b\b\b\b\b\b\b\b\b\b\b\b\b\b\b\b\b\b\b\b\b\b\b\b\b\b\b\b\b\b\b\b\b\b\b\b\b\b\b\b\b\b\b\b\b\b\b\b\b\b\b\b\b\b\b\b\r\n",
      "\u001b[1m540/797\u001b[0m \u001b[32m━━━━━━━━━━━━━\u001b[0m\u001b[37m━━━━━━━\u001b[0m \u001b[1m4s\u001b[0m 19ms/step - accuracy: 0.9499 - loss: 0.2872"
     ]
    },
    {
     "name": "stdout",
     "output_type": "stream",
     "text": [
      "\b\b\b\b\b\b\b\b\b\b\b\b\b\b\b\b\b\b\b\b\b\b\b\b\b\b\b\b\b\b\b\b\b\b\b\b\b\b\b\b\b\b\b\b\b\b\b\b\b\b\b\b\b\b\b\b\b\b\b\b\b\b\b\b\b\b\b\b\b\b\b\b\b\b\b\r\n",
      "\u001b[1m543/797\u001b[0m \u001b[32m━━━━━━━━━━━━━\u001b[0m\u001b[37m━━━━━━━\u001b[0m \u001b[1m4s\u001b[0m 19ms/step - accuracy: 0.9499 - loss: 0.2872"
     ]
    },
    {
     "name": "stdout",
     "output_type": "stream",
     "text": [
      "\b\b\b\b\b\b\b\b\b\b\b\b\b\b\b\b\b\b\b\b\b\b\b\b\b\b\b\b\b\b\b\b\b\b\b\b\b\b\b\b\b\b\b\b\b\b\b\b\b\b\b\b\b\b\b\b\b\b\b\b\b\b\b\b\b\b\b\b\b\b\b\b\b\b\b\r\n",
      "\u001b[1m547/797\u001b[0m \u001b[32m━━━━━━━━━━━━━\u001b[0m\u001b[37m━━━━━━━\u001b[0m \u001b[1m4s\u001b[0m 19ms/step - accuracy: 0.9500 - loss: 0.2872"
     ]
    },
    {
     "name": "stdout",
     "output_type": "stream",
     "text": [
      "\b\b\b\b\b\b\b\b\b\b\b\b\b\b\b\b\b\b\b\b\b\b\b\b\b\b\b\b\b\b\b\b\b\b\b\b\b\b\b\b\b\b\b\b\b\b\b\b\b\b\b\b\b\b\b\b\b\b\b\b\b\b\b\b\b\b\b\b\b\b\b\b\b\b\b\r\n",
      "\u001b[1m549/797\u001b[0m \u001b[32m━━━━━━━━━━━━━\u001b[0m\u001b[37m━━━━━━━\u001b[0m \u001b[1m4s\u001b[0m 19ms/step - accuracy: 0.9500 - loss: 0.2872"
     ]
    },
    {
     "name": "stdout",
     "output_type": "stream",
     "text": [
      "\b\b\b\b\b\b\b\b\b\b\b\b\b\b\b\b\b\b\b\b\b\b\b\b\b\b\b\b\b\b\b\b\b\b\b\b\b\b\b\b\b\b\b\b\b\b\b\b\b\b\b\b\b\b\b\b\b\b\b\b\b\b\b\b\b\b\b\b\b\b\b\b\b\b\b\r\n",
      "\u001b[1m552/797\u001b[0m \u001b[32m━━━━━━━━━━━━━\u001b[0m\u001b[37m━━━━━━━\u001b[0m \u001b[1m4s\u001b[0m 19ms/step - accuracy: 0.9500 - loss: 0.2872"
     ]
    },
    {
     "name": "stdout",
     "output_type": "stream",
     "text": [
      "\b\b\b\b\b\b\b\b\b\b\b\b\b\b\b\b\b\b\b\b\b\b\b\b\b\b\b\b\b\b\b\b\b\b\b\b\b\b\b\b\b\b\b\b\b\b\b\b\b\b\b\b\b\b\b\b\b\b\b\b\b\b\b\b\b\b\b\b\b\b\b\b\b\b\b\r\n",
      "\u001b[1m556/797\u001b[0m \u001b[32m━━━━━━━━━━━━━\u001b[0m\u001b[37m━━━━━━━\u001b[0m \u001b[1m4s\u001b[0m 19ms/step - accuracy: 0.9500 - loss: 0.2872"
     ]
    },
    {
     "name": "stdout",
     "output_type": "stream",
     "text": [
      "\b\b\b\b\b\b\b\b\b\b\b\b\b\b\b\b\b\b\b\b\b\b\b\b\b\b\b\b\b\b\b\b\b\b\b\b\b\b\b\b\b\b\b\b\b\b\b\b\b\b\b\b\b\b\b\b\b\b\b\b\b\b\b\b\b\b\b\b\b\b\b\b\b\b\b\r\n",
      "\u001b[1m560/797\u001b[0m \u001b[32m━━━━━━━━━━━━━━\u001b[0m\u001b[37m━━━━━━\u001b[0m \u001b[1m4s\u001b[0m 19ms/step - accuracy: 0.9500 - loss: 0.2872"
     ]
    },
    {
     "name": "stdout",
     "output_type": "stream",
     "text": [
      "\b\b\b\b\b\b\b\b\b\b\b\b\b\b\b\b\b\b\b\b\b\b\b\b\b\b\b\b\b\b\b\b\b\b\b\b\b\b\b\b\b\b\b\b\b\b\b\b\b\b\b\b\b\b\b\b\b\b\b\b\b\b\b\b\b\b\b\b\b\b\b\b\b\b\b\r\n",
      "\u001b[1m563/797\u001b[0m \u001b[32m━━━━━━━━━━━━━━\u001b[0m\u001b[37m━━━━━━\u001b[0m \u001b[1m4s\u001b[0m 19ms/step - accuracy: 0.9500 - loss: 0.2872"
     ]
    },
    {
     "name": "stdout",
     "output_type": "stream",
     "text": [
      "\b\b\b\b\b\b\b\b\b\b\b\b\b\b\b\b\b\b\b\b\b\b\b\b\b\b\b\b\b\b\b\b\b\b\b\b\b\b\b\b\b\b\b\b\b\b\b\b\b\b\b\b\b\b\b\b\b\b\b\b\b\b\b\b\b\b\b\b\b\b\b\b\b\b\b\r\n",
      "\u001b[1m566/797\u001b[0m \u001b[32m━━━━━━━━━━━━━━\u001b[0m\u001b[37m━━━━━━\u001b[0m \u001b[1m4s\u001b[0m 19ms/step - accuracy: 0.9500 - loss: 0.2872"
     ]
    },
    {
     "name": "stdout",
     "output_type": "stream",
     "text": [
      "\b\b\b\b\b\b\b\b\b\b\b\b\b\b\b\b\b\b\b\b\b\b\b\b\b\b\b\b\b\b\b\b\b\b\b\b\b\b\b\b\b\b\b\b\b\b\b\b\b\b\b\b\b\b\b\b\b\b\b\b\b\b\b\b\b\b\b\b\b\b\b\b\b\b\b\r\n",
      "\u001b[1m570/797\u001b[0m \u001b[32m━━━━━━━━━━━━━━\u001b[0m\u001b[37m━━━━━━\u001b[0m \u001b[1m4s\u001b[0m 19ms/step - accuracy: 0.9500 - loss: 0.2871"
     ]
    },
    {
     "name": "stdout",
     "output_type": "stream",
     "text": [
      "\b\b\b\b\b\b\b\b\b\b\b\b\b\b\b\b\b\b\b\b\b\b\b\b\b\b\b\b\b\b\b\b\b\b\b\b\b\b\b\b\b\b\b\b\b\b\b\b\b\b\b\b\b\b\b\b\b\b\b\b\b\b\b\b\b\b\b\b\b\b\b\b\b\b\b\r\n",
      "\u001b[1m574/797\u001b[0m \u001b[32m━━━━━━━━━━━━━━\u001b[0m\u001b[37m━━━━━━\u001b[0m \u001b[1m4s\u001b[0m 19ms/step - accuracy: 0.9500 - loss: 0.2871"
     ]
    },
    {
     "name": "stdout",
     "output_type": "stream",
     "text": [
      "\b\b\b\b\b\b\b\b\b\b\b\b\b\b\b\b\b\b\b\b\b\b\b\b\b\b\b\b\b\b\b\b\b\b\b\b\b\b\b\b\b\b\b\b\b\b\b\b\b\b\b\b\b\b\b\b\b\b\b\b\b\b\b\b\b\b\b\b\b\b\b\b\b\b\b\r\n",
      "\u001b[1m578/797\u001b[0m \u001b[32m━━━━━━━━━━━━━━\u001b[0m\u001b[37m━━━━━━\u001b[0m \u001b[1m4s\u001b[0m 19ms/step - accuracy: 0.9500 - loss: 0.2871"
     ]
    },
    {
     "name": "stdout",
     "output_type": "stream",
     "text": [
      "\b\b\b\b\b\b\b\b\b\b\b\b\b\b\b\b\b\b\b\b\b\b\b\b\b\b\b\b\b\b\b\b\b\b\b\b\b\b\b\b\b\b\b\b\b\b\b\b\b\b\b\b\b\b\b\b\b\b\b\b\b\b\b\b\b\b\b\b\b\b\b\b\b\b\b\r\n",
      "\u001b[1m581/797\u001b[0m \u001b[32m━━━━━━━━━━━━━━\u001b[0m\u001b[37m━━━━━━\u001b[0m \u001b[1m4s\u001b[0m 19ms/step - accuracy: 0.9500 - loss: 0.2871"
     ]
    },
    {
     "name": "stdout",
     "output_type": "stream",
     "text": [
      "\b\b\b\b\b\b\b\b\b\b\b\b\b\b\b\b\b\b\b\b\b\b\b\b\b\b\b\b\b\b\b\b\b\b\b\b\b\b\b\b\b\b\b\b\b\b\b\b\b\b\b\b\b\b\b\b\b\b\b\b\b\b\b\b\b\b\b\b\b\b\b\b\b\b\b\r\n",
      "\u001b[1m584/797\u001b[0m \u001b[32m━━━━━━━━━━━━━━\u001b[0m\u001b[37m━━━━━━\u001b[0m \u001b[1m3s\u001b[0m 19ms/step - accuracy: 0.9500 - loss: 0.2871"
     ]
    },
    {
     "name": "stdout",
     "output_type": "stream",
     "text": [
      "\b\b\b\b\b\b\b\b\b\b\b\b\b\b\b\b\b\b\b\b\b\b\b\b\b\b\b\b\b\b\b\b\b\b\b\b\b\b\b\b\b\b\b\b\b\b\b\b\b\b\b\b\b\b\b\b\b\b\b\b\b\b\b\b\b\b\b\b\b\b\b\b\b\b\b\r\n",
      "\u001b[1m586/797\u001b[0m \u001b[32m━━━━━━━━━━━━━━\u001b[0m\u001b[37m━━━━━━\u001b[0m \u001b[1m3s\u001b[0m 19ms/step - accuracy: 0.9500 - loss: 0.2871"
     ]
    },
    {
     "name": "stdout",
     "output_type": "stream",
     "text": [
      "\b\b\b\b\b\b\b\b\b\b\b\b\b\b\b\b\b\b\b\b\b\b\b\b\b\b\b\b\b\b\b\b\b\b\b\b\b\b\b\b\b\b\b\b\b\b\b\b\b\b\b\b\b\b\b\b\b\b\b\b\b\b\b\b\b\b\b\b\b\b\b\b\b\b\b\r\n",
      "\u001b[1m589/797\u001b[0m \u001b[32m━━━━━━━━━━━━━━\u001b[0m\u001b[37m━━━━━━\u001b[0m \u001b[1m3s\u001b[0m 19ms/step - accuracy: 0.9500 - loss: 0.2871"
     ]
    },
    {
     "name": "stdout",
     "output_type": "stream",
     "text": [
      "\b\b\b\b\b\b\b\b\b\b\b\b\b\b\b\b\b\b\b\b\b\b\b\b\b\b\b\b\b\b\b\b\b\b\b\b\b\b\b\b\b\b\b\b\b\b\b\b\b\b\b\b\b\b\b\b\b\b\b\b\b\b\b\b\b\b\b\b\b\b\b\b\b\b\b\r\n",
      "\u001b[1m592/797\u001b[0m \u001b[32m━━━━━━━━━━━━━━\u001b[0m\u001b[37m━━━━━━\u001b[0m \u001b[1m3s\u001b[0m 19ms/step - accuracy: 0.9500 - loss: 0.2871"
     ]
    },
    {
     "name": "stdout",
     "output_type": "stream",
     "text": [
      "\b\b\b\b\b\b\b\b\b\b\b\b\b\b\b\b\b\b\b\b\b\b\b\b\b\b\b\b\b\b\b\b\b\b\b\b\b\b\b\b\b\b\b\b\b\b\b\b\b\b\b\b\b\b\b\b\b\b\b\b\b\b\b\b\b\b\b\b\b\b\b\b\b\b\b\r\n",
      "\u001b[1m595/797\u001b[0m \u001b[32m━━━━━━━━━━━━━━\u001b[0m\u001b[37m━━━━━━\u001b[0m \u001b[1m3s\u001b[0m 19ms/step - accuracy: 0.9500 - loss: 0.2871"
     ]
    },
    {
     "name": "stdout",
     "output_type": "stream",
     "text": [
      "\b\b\b\b\b\b\b\b\b\b\b\b\b\b\b\b\b\b\b\b\b\b\b\b\b\b\b\b\b\b\b\b\b\b\b\b\b\b\b\b\b\b\b\b\b\b\b\b\b\b\b\b\b\b\b\b\b\b\b\b\b\b\b\b\b\b\b\b\b\b\b\b\b\b\b\r\n",
      "\u001b[1m599/797\u001b[0m \u001b[32m━━━━━━━━━━━━━━━\u001b[0m\u001b[37m━━━━━\u001b[0m \u001b[1m3s\u001b[0m 19ms/step - accuracy: 0.9500 - loss: 0.2871"
     ]
    },
    {
     "name": "stdout",
     "output_type": "stream",
     "text": [
      "\b\b\b\b\b\b\b\b\b\b\b\b\b\b\b\b\b\b\b\b\b\b\b\b\b\b\b\b\b\b\b\b\b\b\b\b\b\b\b\b\b\b\b\b\b\b\b\b\b\b\b\b\b\b\b\b\b\b\b\b\b\b\b\b\b\b\b\b\b\b\b\b\b\b\b\r\n",
      "\u001b[1m602/797\u001b[0m \u001b[32m━━━━━━━━━━━━━━━\u001b[0m\u001b[37m━━━━━\u001b[0m \u001b[1m3s\u001b[0m 19ms/step - accuracy: 0.9500 - loss: 0.2871"
     ]
    },
    {
     "name": "stdout",
     "output_type": "stream",
     "text": [
      "\b\b\b\b\b\b\b\b\b\b\b\b\b\b\b\b\b\b\b\b\b\b\b\b\b\b\b\b\b\b\b\b\b\b\b\b\b\b\b\b\b\b\b\b\b\b\b\b\b\b\b\b\b\b\b\b\b\b\b\b\b\b\b\b\b\b\b\b\b\b\b\b\b\b\b\r\n",
      "\u001b[1m606/797\u001b[0m \u001b[32m━━━━━━━━━━━━━━━\u001b[0m\u001b[37m━━━━━\u001b[0m \u001b[1m3s\u001b[0m 19ms/step - accuracy: 0.9500 - loss: 0.2871"
     ]
    },
    {
     "name": "stdout",
     "output_type": "stream",
     "text": [
      "\b\b\b\b\b\b\b\b\b\b\b\b\b\b\b\b\b\b\b\b\b\b\b\b\b\b\b\b\b\b\b\b\b\b\b\b\b\b\b\b\b\b\b\b\b\b\b\b\b\b\b\b\b\b\b\b\b\b\b\b\b\b\b\b\b\b\b\b\b\b\b\b\b\b\b\r\n",
      "\u001b[1m609/797\u001b[0m \u001b[32m━━━━━━━━━━━━━━━\u001b[0m\u001b[37m━━━━━\u001b[0m \u001b[1m3s\u001b[0m 19ms/step - accuracy: 0.9500 - loss: 0.2871"
     ]
    },
    {
     "name": "stdout",
     "output_type": "stream",
     "text": [
      "\b\b\b\b\b\b\b\b\b\b\b\b\b\b\b\b\b\b\b\b\b\b\b\b\b\b\b\b\b\b\b\b\b\b\b\b\b\b\b\b\b\b\b\b\b\b\b\b\b\b\b\b\b\b\b\b\b\b\b\b\b\b\b\b\b\b\b\b\b\b\b\b\b\b\b\r\n",
      "\u001b[1m611/797\u001b[0m \u001b[32m━━━━━━━━━━━━━━━\u001b[0m\u001b[37m━━━━━\u001b[0m \u001b[1m3s\u001b[0m 19ms/step - accuracy: 0.9500 - loss: 0.2871"
     ]
    },
    {
     "name": "stdout",
     "output_type": "stream",
     "text": [
      "\b\b\b\b\b\b\b\b\b\b\b\b\b\b\b\b\b\b\b\b\b\b\b\b\b\b\b\b\b\b\b\b\b\b\b\b\b\b\b\b\b\b\b\b\b\b\b\b\b\b\b\b\b\b\b\b\b\b\b\b\b\b\b\b\b\b\b\b\b\b\b\b\b\b\b\r\n",
      "\u001b[1m613/797\u001b[0m \u001b[32m━━━━━━━━━━━━━━━\u001b[0m\u001b[37m━━━━━\u001b[0m \u001b[1m3s\u001b[0m 19ms/step - accuracy: 0.9500 - loss: 0.2871"
     ]
    },
    {
     "name": "stdout",
     "output_type": "stream",
     "text": [
      "\b\b\b\b\b\b\b\b\b\b\b\b\b\b\b\b\b\b\b\b\b\b\b\b\b\b\b\b\b\b\b\b\b\b\b\b\b\b\b\b\b\b\b\b\b\b\b\b\b\b\b\b\b\b\b\b\b\b\b\b\b\b\b\b\b\b\b\b\b\b\b\b\b\b\b\r\n",
      "\u001b[1m616/797\u001b[0m \u001b[32m━━━━━━━━━━━━━━━\u001b[0m\u001b[37m━━━━━\u001b[0m \u001b[1m3s\u001b[0m 19ms/step - accuracy: 0.9500 - loss: 0.2871"
     ]
    },
    {
     "name": "stdout",
     "output_type": "stream",
     "text": [
      "\b\b\b\b\b\b\b\b\b\b\b\b\b\b\b\b\b\b\b\b\b\b\b\b\b\b\b\b\b\b\b\b\b\b\b\b\b\b\b\b\b\b\b\b\b\b\b\b\b\b\b\b\b\b\b\b\b\b\b\b\b\b\b\b\b\b\b\b\b\b\b\b\b\b\b\r\n",
      "\u001b[1m619/797\u001b[0m \u001b[32m━━━━━━━━━━━━━━━\u001b[0m\u001b[37m━━━━━\u001b[0m \u001b[1m3s\u001b[0m 19ms/step - accuracy: 0.9500 - loss: 0.2871"
     ]
    },
    {
     "name": "stdout",
     "output_type": "stream",
     "text": [
      "\b\b\b\b\b\b\b\b\b\b\b\b\b\b\b\b\b\b\b\b\b\b\b\b\b\b\b\b\b\b\b\b\b\b\b\b\b\b\b\b\b\b\b\b\b\b\b\b\b\b\b\b\b\b\b\b\b\b\b\b\b\b\b\b\b\b\b\b\b\b\b\b\b\b\b\r\n",
      "\u001b[1m622/797\u001b[0m \u001b[32m━━━━━━━━━━━━━━━\u001b[0m\u001b[37m━━━━━\u001b[0m \u001b[1m3s\u001b[0m 19ms/step - accuracy: 0.9500 - loss: 0.2871"
     ]
    },
    {
     "name": "stdout",
     "output_type": "stream",
     "text": [
      "\b\b\b\b\b\b\b\b\b\b\b\b\b\b\b\b\b\b\b\b\b\b\b\b\b\b\b\b\b\b\b\b\b\b\b\b\b\b\b\b\b\b\b\b\b\b\b\b\b\b\b\b\b\b\b\b\b\b\b\b\b\b\b\b\b\b\b\b\b\b\b\b\b\b\b\r\n",
      "\u001b[1m625/797\u001b[0m \u001b[32m━━━━━━━━━━━━━━━\u001b[0m\u001b[37m━━━━━\u001b[0m \u001b[1m3s\u001b[0m 19ms/step - accuracy: 0.9500 - loss: 0.2871"
     ]
    },
    {
     "name": "stdout",
     "output_type": "stream",
     "text": [
      "\b\b\b\b\b\b\b\b\b\b\b\b\b\b\b\b\b\b\b\b\b\b\b\b\b\b\b\b\b\b\b\b\b\b\b\b\b\b\b\b\b\b\b\b\b\b\b\b\b\b\b\b\b\b\b\b\b\b\b\b\b\b\b\b\b\b\b\b\b\b\b\b\b\b\b\r\n",
      "\u001b[1m629/797\u001b[0m \u001b[32m━━━━━━━━━━━━━━━\u001b[0m\u001b[37m━━━━━\u001b[0m \u001b[1m3s\u001b[0m 19ms/step - accuracy: 0.9500 - loss: 0.2871"
     ]
    },
    {
     "name": "stdout",
     "output_type": "stream",
     "text": [
      "\b\b\b\b\b\b\b\b\b\b\b\b\b\b\b\b\b\b\b\b\b\b\b\b\b\b\b\b\b\b\b\b\b\b\b\b\b\b\b\b\b\b\b\b\b\b\b\b\b\b\b\b\b\b\b\b\b\b\b\b\b\b\b\b\b\b\b\b\b\b\b\b\b\b\b\r\n",
      "\u001b[1m631/797\u001b[0m \u001b[32m━━━━━━━━━━━━━━━\u001b[0m\u001b[37m━━━━━\u001b[0m \u001b[1m3s\u001b[0m 19ms/step - accuracy: 0.9500 - loss: 0.2871"
     ]
    },
    {
     "name": "stdout",
     "output_type": "stream",
     "text": [
      "\b\b\b\b\b\b\b\b\b\b\b\b\b\b\b\b\b\b\b\b\b\b\b\b\b\b\b\b\b\b\b\b\b\b\b\b\b\b\b\b\b\b\b\b\b\b\b\b\b\b\b\b\b\b\b\b\b\b\b\b\b\b\b\b\b\b\b\b\b\b\b\b\b\b\b\r\n",
      "\u001b[1m634/797\u001b[0m \u001b[32m━━━━━━━━━━━━━━━\u001b[0m\u001b[37m━━━━━\u001b[0m \u001b[1m3s\u001b[0m 19ms/step - accuracy: 0.9500 - loss: 0.2871"
     ]
    },
    {
     "name": "stdout",
     "output_type": "stream",
     "text": [
      "\b\b\b\b\b\b\b\b\b\b\b\b\b\b\b\b\b\b\b\b\b\b\b\b\b\b\b\b\b\b\b\b\b\b\b\b\b\b\b\b\b\b\b\b\b\b\b\b\b\b\b\b\b\b\b\b\b\b\b\b\b\b\b\b\b\b\b\b\b\b\b\b\b\b\b\r\n",
      "\u001b[1m637/797\u001b[0m \u001b[32m━━━━━━━━━━━━━━━\u001b[0m\u001b[37m━━━━━\u001b[0m \u001b[1m2s\u001b[0m 19ms/step - accuracy: 0.9500 - loss: 0.2871"
     ]
    },
    {
     "name": "stdout",
     "output_type": "stream",
     "text": [
      "\b\b\b\b\b\b\b\b\b\b\b\b\b\b\b\b\b\b\b\b\b\b\b\b\b\b\b\b\b\b\b\b\b\b\b\b\b\b\b\b\b\b\b\b\b\b\b\b\b\b\b\b\b\b\b\b\b\b\b\b\b\b\b\b\b\b\b\b\b\b\b\b\b\b\b\r\n",
      "\u001b[1m639/797\u001b[0m \u001b[32m━━━━━━━━━━━━━━━━\u001b[0m\u001b[37m━━━━\u001b[0m \u001b[1m2s\u001b[0m 19ms/step - accuracy: 0.9500 - loss: 0.2871"
     ]
    },
    {
     "name": "stdout",
     "output_type": "stream",
     "text": [
      "\b\b\b\b\b\b\b\b\b\b\b\b\b\b\b\b\b\b\b\b\b\b\b\b\b\b\b\b\b\b\b\b\b\b\b\b\b\b\b\b\b\b\b\b\b\b\b\b\b\b\b\b\b\b\b\b\b\b\b\b\b\b\b\b\b\b\b\b\b\b\b\b\b\b\b\r\n",
      "\u001b[1m642/797\u001b[0m \u001b[32m━━━━━━━━━━━━━━━━\u001b[0m\u001b[37m━━━━\u001b[0m \u001b[1m2s\u001b[0m 19ms/step - accuracy: 0.9500 - loss: 0.2871"
     ]
    },
    {
     "name": "stdout",
     "output_type": "stream",
     "text": [
      "\b\b\b\b\b\b\b\b\b\b\b\b\b\b\b\b\b\b\b\b\b\b\b\b\b\b\b\b\b\b\b\b\b\b\b\b\b\b\b\b\b\b\b\b\b\b\b\b\b\b\b\b\b\b\b\b\b\b\b\b\b\b\b\b\b\b\b\b\b\b\b\b\b\b\b\r\n",
      "\u001b[1m645/797\u001b[0m \u001b[32m━━━━━━━━━━━━━━━━\u001b[0m\u001b[37m━━━━\u001b[0m \u001b[1m2s\u001b[0m 19ms/step - accuracy: 0.9500 - loss: 0.2871"
     ]
    },
    {
     "name": "stdout",
     "output_type": "stream",
     "text": [
      "\b\b\b\b\b\b\b\b\b\b\b\b\b\b\b\b\b\b\b\b\b\b\b\b\b\b\b\b\b\b\b\b\b\b\b\b\b\b\b\b\b\b\b\b\b\b\b\b\b\b\b\b\b\b\b\b\b\b\b\b\b\b\b\b\b\b\b\b\b\b\b\b\b\b\b\r\n",
      "\u001b[1m648/797\u001b[0m \u001b[32m━━━━━━━━━━━━━━━━\u001b[0m\u001b[37m━━━━\u001b[0m \u001b[1m2s\u001b[0m 19ms/step - accuracy: 0.9500 - loss: 0.2871"
     ]
    },
    {
     "name": "stdout",
     "output_type": "stream",
     "text": [
      "\b\b\b\b\b\b\b\b\b\b\b\b\b\b\b\b\b\b\b\b\b\b\b\b\b\b\b\b\b\b\b\b\b\b\b\b\b\b\b\b\b\b\b\b\b\b\b\b\b\b\b\b\b\b\b\b\b\b\b\b\b\b\b\b\b\b\b\b\b\b\b\b\b\b\b\r\n",
      "\u001b[1m650/797\u001b[0m \u001b[32m━━━━━━━━━━━━━━━━\u001b[0m\u001b[37m━━━━\u001b[0m \u001b[1m2s\u001b[0m 19ms/step - accuracy: 0.9500 - loss: 0.2871"
     ]
    },
    {
     "name": "stdout",
     "output_type": "stream",
     "text": [
      "\b\b\b\b\b\b\b\b\b\b\b\b\b\b\b\b\b\b\b\b\b\b\b\b\b\b\b\b\b\b\b\b\b\b\b\b\b\b\b\b\b\b\b\b\b\b\b\b\b\b\b\b\b\b\b\b\b\b\b\b\b\b\b\b\b\b\b\b\b\b\b\b\b\b\b\r\n",
      "\u001b[1m653/797\u001b[0m \u001b[32m━━━━━━━━━━━━━━━━\u001b[0m\u001b[37m━━━━\u001b[0m \u001b[1m2s\u001b[0m 19ms/step - accuracy: 0.9500 - loss: 0.2871"
     ]
    },
    {
     "name": "stdout",
     "output_type": "stream",
     "text": [
      "\b\b\b\b\b\b\b\b\b\b\b\b\b\b\b\b\b\b\b\b\b\b\b\b\b\b\b\b\b\b\b\b\b\b\b\b\b\b\b\b\b\b\b\b\b\b\b\b\b\b\b\b\b\b\b\b\b\b\b\b\b\b\b\b\b\b\b\b\b\b\b\b\b\b\b\r\n",
      "\u001b[1m656/797\u001b[0m \u001b[32m━━━━━━━━━━━━━━━━\u001b[0m\u001b[37m━━━━\u001b[0m \u001b[1m2s\u001b[0m 19ms/step - accuracy: 0.9500 - loss: 0.2871"
     ]
    },
    {
     "name": "stdout",
     "output_type": "stream",
     "text": [
      "\b\b\b\b\b\b\b\b\b\b\b\b\b\b\b\b\b\b\b\b\b\b\b\b\b\b\b\b\b\b\b\b\b\b\b\b\b\b\b\b\b\b\b\b\b\b\b\b\b\b\b\b\b\b\b\b\b\b\b\b\b\b\b\b\b\b\b\b\b\b\b\b\b\b\b\r\n",
      "\u001b[1m659/797\u001b[0m \u001b[32m━━━━━━━━━━━━━━━━\u001b[0m\u001b[37m━━━━\u001b[0m \u001b[1m2s\u001b[0m 19ms/step - accuracy: 0.9500 - loss: 0.2871"
     ]
    },
    {
     "name": "stdout",
     "output_type": "stream",
     "text": [
      "\b\b\b\b\b\b\b\b\b\b\b\b\b\b\b\b\b\b\b\b\b\b\b\b\b\b\b\b\b\b\b\b\b\b\b\b\b\b\b\b\b\b\b\b\b\b\b\b\b\b\b\b\b\b\b\b\b\b\b\b\b\b\b\b\b\b\b\b\b\b\b\b\b\b\b\r\n",
      "\u001b[1m661/797\u001b[0m \u001b[32m━━━━━━━━━━━━━━━━\u001b[0m\u001b[37m━━━━\u001b[0m \u001b[1m2s\u001b[0m 19ms/step - accuracy: 0.9500 - loss: 0.2871"
     ]
    },
    {
     "name": "stdout",
     "output_type": "stream",
     "text": [
      "\b\b\b\b\b\b\b\b\b\b\b\b\b\b\b\b\b\b\b\b\b\b\b\b\b\b\b\b\b\b\b\b\b\b\b\b\b\b\b\b\b\b\b\b\b\b\b\b\b\b\b\b\b\b\b\b\b\b\b\b\b\b\b\b\b\b\b\b\b\b\b\b\b\b\b\r\n",
      "\u001b[1m664/797\u001b[0m \u001b[32m━━━━━━━━━━━━━━━━\u001b[0m\u001b[37m━━━━\u001b[0m \u001b[1m2s\u001b[0m 19ms/step - accuracy: 0.9500 - loss: 0.2871"
     ]
    },
    {
     "name": "stdout",
     "output_type": "stream",
     "text": [
      "\b\b\b\b\b\b\b\b\b\b\b\b\b\b\b\b\b\b\b\b\b\b\b\b\b\b\b\b\b\b\b\b\b\b\b\b\b\b\b\b\b\b\b\b\b\b\b\b\b\b\b\b\b\b\b\b\b\b\b\b\b\b\b\b\b\b\b\b\b\b\b\b\b\b\b\r\n",
      "\u001b[1m667/797\u001b[0m \u001b[32m━━━━━━━━━━━━━━━━\u001b[0m\u001b[37m━━━━\u001b[0m \u001b[1m2s\u001b[0m 19ms/step - accuracy: 0.9500 - loss: 0.2871"
     ]
    },
    {
     "name": "stdout",
     "output_type": "stream",
     "text": [
      "\b\b\b\b\b\b\b\b\b\b\b\b\b\b\b\b\b\b\b\b\b\b\b\b\b\b\b\b\b\b\b\b\b\b\b\b\b\b\b\b\b\b\b\b\b\b\b\b\b\b\b\b\b\b\b\b\b\b\b\b\b\b\b\b\b\b\b\b\b\b\b\b\b\b\b\r\n",
      "\u001b[1m671/797\u001b[0m \u001b[32m━━━━━━━━━━━━━━━━\u001b[0m\u001b[37m━━━━\u001b[0m \u001b[1m2s\u001b[0m 19ms/step - accuracy: 0.9500 - loss: 0.2871"
     ]
    },
    {
     "name": "stdout",
     "output_type": "stream",
     "text": [
      "\b\b\b\b\b\b\b\b\b\b\b\b\b\b\b\b\b\b\b\b\b\b\b\b\b\b\b\b\b\b\b\b\b\b\b\b\b\b\b\b\b\b\b\b\b\b\b\b\b\b\b\b\b\b\b\b\b\b\b\b\b\b\b\b\b\b\b\b\b\b\b\b\b\b\b\r\n",
      "\u001b[1m674/797\u001b[0m \u001b[32m━━━━━━━━━━━━━━━━\u001b[0m\u001b[37m━━━━\u001b[0m \u001b[1m2s\u001b[0m 19ms/step - accuracy: 0.9500 - loss: 0.2871"
     ]
    },
    {
     "name": "stdout",
     "output_type": "stream",
     "text": [
      "\b\b\b\b\b\b\b\b\b\b\b\b\b\b\b\b\b\b\b\b\b\b\b\b\b\b\b\b\b\b\b\b\b\b\b\b\b\b\b\b\b\b\b\b\b\b\b\b\b\b\b\b\b\b\b\b\b\b\b\b\b\b\b\b\b\b\b\b\b\b\b\b\b\b\b\r\n",
      "\u001b[1m677/797\u001b[0m \u001b[32m━━━━━━━━━━━━━━━━\u001b[0m\u001b[37m━━━━\u001b[0m \u001b[1m2s\u001b[0m 19ms/step - accuracy: 0.9500 - loss: 0.2871"
     ]
    },
    {
     "name": "stdout",
     "output_type": "stream",
     "text": [
      "\b\b\b\b\b\b\b\b\b\b\b\b\b\b\b\b\b\b\b\b\b\b\b\b\b\b\b\b\b\b\b\b\b\b\b\b\b\b\b\b\b\b\b\b\b\b\b\b\b\b\b\b\b\b\b\b\b\b\b\b\b\b\b\b\b\b\b\b\b\b\b\b\b\b\b\r\n",
      "\u001b[1m680/797\u001b[0m \u001b[32m━━━━━━━━━━━━━━━━━\u001b[0m\u001b[37m━━━\u001b[0m \u001b[1m2s\u001b[0m 19ms/step - accuracy: 0.9500 - loss: 0.2871"
     ]
    },
    {
     "name": "stdout",
     "output_type": "stream",
     "text": [
      "\b\b\b\b\b\b\b\b\b\b\b\b\b\b\b\b\b\b\b\b\b\b\b\b\b\b\b\b\b\b\b\b\b\b\b\b\b\b\b\b\b\b\b\b\b\b\b\b\b\b\b\b\b\b\b\b\b\b\b\b\b\b\b\b\b\b\b\b\b\b\b\b\b\b\b\r\n",
      "\u001b[1m683/797\u001b[0m \u001b[32m━━━━━━━━━━━━━━━━━\u001b[0m\u001b[37m━━━\u001b[0m \u001b[1m2s\u001b[0m 19ms/step - accuracy: 0.9500 - loss: 0.2871"
     ]
    },
    {
     "name": "stdout",
     "output_type": "stream",
     "text": [
      "\b\b\b\b\b\b\b\b\b\b\b\b\b\b\b\b\b\b\b\b\b\b\b\b\b\b\b\b\b\b\b\b\b\b\b\b\b\b\b\b\b\b\b\b\b\b\b\b\b\b\b\b\b\b\b\b\b\b\b\b\b\b\b\b\b\b\b\b\b\b\b\b\b\b\b\r\n",
      "\u001b[1m685/797\u001b[0m \u001b[32m━━━━━━━━━━━━━━━━━\u001b[0m\u001b[37m━━━\u001b[0m \u001b[1m2s\u001b[0m 19ms/step - accuracy: 0.9500 - loss: 0.2871"
     ]
    },
    {
     "name": "stdout",
     "output_type": "stream",
     "text": [
      "\b\b\b\b\b\b\b\b\b\b\b\b\b\b\b\b\b\b\b\b\b\b\b\b\b\b\b\b\b\b\b\b\b\b\b\b\b\b\b\b\b\b\b\b\b\b\b\b\b\b\b\b\b\b\b\b\b\b\b\b\b\b\b\b\b\b\b\b\b\b\b\b\b\b\b\r\n",
      "\u001b[1m689/797\u001b[0m \u001b[32m━━━━━━━━━━━━━━━━━\u001b[0m\u001b[37m━━━\u001b[0m \u001b[1m2s\u001b[0m 19ms/step - accuracy: 0.9500 - loss: 0.2870"
     ]
    },
    {
     "name": "stdout",
     "output_type": "stream",
     "text": [
      "\b\b\b\b\b\b\b\b\b\b\b\b\b\b\b\b\b\b\b\b\b\b\b\b\b\b\b\b\b\b\b\b\b\b\b\b\b\b\b\b\b\b\b\b\b\b\b\b\b\b\b\b\b\b\b\b\b\b\b\b\b\b\b\b\b\b\b\b\b\b\b\b\b\b\b\r\n",
      "\u001b[1m692/797\u001b[0m \u001b[32m━━━━━━━━━━━━━━━━━\u001b[0m\u001b[37m━━━\u001b[0m \u001b[1m1s\u001b[0m 19ms/step - accuracy: 0.9500 - loss: 0.2870"
     ]
    },
    {
     "name": "stdout",
     "output_type": "stream",
     "text": [
      "\b\b\b\b\b\b\b\b\b\b\b\b\b\b\b\b\b\b\b\b\b\b\b\b\b\b\b\b\b\b\b\b\b\b\b\b\b\b\b\b\b\b\b\b\b\b\b\b\b\b\b\b\b\b\b\b\b\b\b\b\b\b\b\b\b\b\b\b\b\b\b\b\b\b\b\r\n",
      "\u001b[1m695/797\u001b[0m \u001b[32m━━━━━━━━━━━━━━━━━\u001b[0m\u001b[37m━━━\u001b[0m \u001b[1m1s\u001b[0m 19ms/step - accuracy: 0.9500 - loss: 0.2870"
     ]
    },
    {
     "name": "stdout",
     "output_type": "stream",
     "text": [
      "\b\b\b\b\b\b\b\b\b\b\b\b\b\b\b\b\b\b\b\b\b\b\b\b\b\b\b\b\b\b\b\b\b\b\b\b\b\b\b\b\b\b\b\b\b\b\b\b\b\b\b\b\b\b\b\b\b\b\b\b\b\b\b\b\b\b\b\b\b\b\b\b\b\b\b\r\n",
      "\u001b[1m698/797\u001b[0m \u001b[32m━━━━━━━━━━━━━━━━━\u001b[0m\u001b[37m━━━\u001b[0m \u001b[1m1s\u001b[0m 19ms/step - accuracy: 0.9500 - loss: 0.2870"
     ]
    },
    {
     "name": "stdout",
     "output_type": "stream",
     "text": [
      "\b\b\b\b\b\b\b\b\b\b\b\b\b\b\b\b\b\b\b\b\b\b\b\b\b\b\b\b\b\b\b\b\b\b\b\b\b\b\b\b\b\b\b\b\b\b\b\b\b\b\b\b\b\b\b\b\b\b\b\b\b\b\b\b\b\b\b\b\b\b\b\b\b\b\b\r\n",
      "\u001b[1m701/797\u001b[0m \u001b[32m━━━━━━━━━━━━━━━━━\u001b[0m\u001b[37m━━━\u001b[0m \u001b[1m1s\u001b[0m 19ms/step - accuracy: 0.9500 - loss: 0.2870"
     ]
    },
    {
     "name": "stdout",
     "output_type": "stream",
     "text": [
      "\b\b\b\b\b\b\b\b\b\b\b\b\b\b\b\b\b\b\b\b\b\b\b\b\b\b\b\b\b\b\b\b\b\b\b\b\b\b\b\b\b\b\b\b\b\b\b\b\b\b\b\b\b\b\b\b\b\b\b\b\b\b\b\b\b\b\b\b\b\b\b\b\b\b\b\r\n",
      "\u001b[1m704/797\u001b[0m \u001b[32m━━━━━━━━━━━━━━━━━\u001b[0m\u001b[37m━━━\u001b[0m \u001b[1m1s\u001b[0m 19ms/step - accuracy: 0.9500 - loss: 0.2870"
     ]
    },
    {
     "name": "stdout",
     "output_type": "stream",
     "text": [
      "\b\b\b\b\b\b\b\b\b\b\b\b\b\b\b\b\b\b\b\b\b\b\b\b\b\b\b\b\b\b\b\b\b\b\b\b\b\b\b\b\b\b\b\b\b\b\b\b\b\b\b\b\b\b\b\b\b\b\b\b\b\b\b\b\b\b\b\b\b\b\b\b\b\b\b\r\n",
      "\u001b[1m706/797\u001b[0m \u001b[32m━━━━━━━━━━━━━━━━━\u001b[0m\u001b[37m━━━\u001b[0m \u001b[1m1s\u001b[0m 19ms/step - accuracy: 0.9500 - loss: 0.2870"
     ]
    },
    {
     "name": "stdout",
     "output_type": "stream",
     "text": [
      "\b\b\b\b\b\b\b\b\b\b\b\b\b\b\b\b\b\b\b\b\b\b\b\b\b\b\b\b\b\b\b\b\b\b\b\b\b\b\b\b\b\b\b\b\b\b\b\b\b\b\b\b\b\b\b\b\b\b\b\b\b\b\b\b\b\b\b\b\b\b\b\b\b\b\b\r\n",
      "\u001b[1m709/797\u001b[0m \u001b[32m━━━━━━━━━━━━━━━━━\u001b[0m\u001b[37m━━━\u001b[0m \u001b[1m1s\u001b[0m 19ms/step - accuracy: 0.9500 - loss: 0.2870"
     ]
    },
    {
     "name": "stdout",
     "output_type": "stream",
     "text": [
      "\b\b\b\b\b\b\b\b\b\b\b\b\b\b\b\b\b\b\b\b\b\b\b\b\b\b\b\b\b\b\b\b\b\b\b\b\b\b\b\b\b\b\b\b\b\b\b\b\b\b\b\b\b\b\b\b\b\b\b\b\b\b\b\b\b\b\b\b\b\b\b\b\b\b\b\r\n",
      "\u001b[1m712/797\u001b[0m \u001b[32m━━━━━━━━━━━━━━━━━\u001b[0m\u001b[37m━━━\u001b[0m \u001b[1m1s\u001b[0m 19ms/step - accuracy: 0.9500 - loss: 0.2870"
     ]
    },
    {
     "name": "stdout",
     "output_type": "stream",
     "text": [
      "\b\b\b\b\b\b\b\b\b\b\b\b\b\b\b\b\b\b\b\b\b\b\b\b\b\b\b\b\b\b\b\b\b\b\b\b\b\b\b\b\b\b\b\b\b\b\b\b\b\b\b\b\b\b\b\b\b\b\b\b\b\b\b\b\b\b\b\b\b\b\b\b\b\b\b\r\n",
      "\u001b[1m716/797\u001b[0m \u001b[32m━━━━━━━━━━━━━━━━━\u001b[0m\u001b[37m━━━\u001b[0m \u001b[1m1s\u001b[0m 19ms/step - accuracy: 0.9500 - loss: 0.2870"
     ]
    },
    {
     "name": "stdout",
     "output_type": "stream",
     "text": [
      "\b\b\b\b\b\b\b\b\b\b\b\b\b\b\b\b\b\b\b\b\b\b\b\b\b\b\b\b\b\b\b\b\b\b\b\b\b\b\b\b\b\b\b\b\b\b\b\b\b\b\b\b\b\b\b\b\b\b\b\b\b\b\b\b\b\b\b\b\b\b\b\b\b\b\b\r\n",
      "\u001b[1m719/797\u001b[0m \u001b[32m━━━━━━━━━━━━━━━━━━\u001b[0m\u001b[37m━━\u001b[0m \u001b[1m1s\u001b[0m 19ms/step - accuracy: 0.9500 - loss: 0.2870"
     ]
    },
    {
     "name": "stdout",
     "output_type": "stream",
     "text": [
      "\b\b\b\b\b\b\b\b\b\b\b\b\b\b\b\b\b\b\b\b\b\b\b\b\b\b\b\b\b\b\b\b\b\b\b\b\b\b\b\b\b\b\b\b\b\b\b\b\b\b\b\b\b\b\b\b\b\b\b\b\b\b\b\b\b\b\b\b\b\b\b\b\b\b\b\r\n",
      "\u001b[1m722/797\u001b[0m \u001b[32m━━━━━━━━━━━━━━━━━━\u001b[0m\u001b[37m━━\u001b[0m \u001b[1m1s\u001b[0m 19ms/step - accuracy: 0.9500 - loss: 0.2870"
     ]
    },
    {
     "name": "stdout",
     "output_type": "stream",
     "text": [
      "\b\b\b\b\b\b\b\b\b\b\b\b\b\b\b\b\b\b\b\b\b\b\b\b\b\b\b\b\b\b\b\b\b\b\b\b\b\b\b\b\b\b\b\b\b\b\b\b\b\b\b\b\b\b\b\b\b\b\b\b\b\b\b\b\b\b\b\b\b\b\b\b\b\b\b\r\n",
      "\u001b[1m725/797\u001b[0m \u001b[32m━━━━━━━━━━━━━━━━━━\u001b[0m\u001b[37m━━\u001b[0m \u001b[1m1s\u001b[0m 19ms/step - accuracy: 0.9500 - loss: 0.2870"
     ]
    },
    {
     "name": "stdout",
     "output_type": "stream",
     "text": [
      "\b\b\b\b\b\b\b\b\b\b\b\b\b\b\b\b\b\b\b\b\b\b\b\b\b\b\b\b\b\b\b\b\b\b\b\b\b\b\b\b\b\b\b\b\b\b\b\b\b\b\b\b\b\b\b\b\b\b\b\b\b\b\b\b\b\b\b\b\b\b\b\b\b\b\b\r\n",
      "\u001b[1m728/797\u001b[0m \u001b[32m━━━━━━━━━━━━━━━━━━\u001b[0m\u001b[37m━━\u001b[0m \u001b[1m1s\u001b[0m 19ms/step - accuracy: 0.9500 - loss: 0.2870"
     ]
    },
    {
     "name": "stdout",
     "output_type": "stream",
     "text": [
      "\b\b\b\b\b\b\b\b\b\b\b\b\b\b\b\b\b\b\b\b\b\b\b\b\b\b\b\b\b\b\b\b\b\b\b\b\b\b\b\b\b\b\b\b\b\b\b\b\b\b\b\b\b\b\b\b\b\b\b\b\b\b\b\b\b\b\b\b\b\b\b\b\b\b\b\r\n",
      "\u001b[1m731/797\u001b[0m \u001b[32m━━━━━━━━━━━━━━━━━━\u001b[0m\u001b[37m━━\u001b[0m \u001b[1m1s\u001b[0m 19ms/step - accuracy: 0.9500 - loss: 0.2870"
     ]
    },
    {
     "name": "stdout",
     "output_type": "stream",
     "text": [
      "\b\b\b\b\b\b\b\b\b\b\b\b\b\b\b\b\b\b\b\b\b\b\b\b\b\b\b\b\b\b\b\b\b\b\b\b\b\b\b\b\b\b\b\b\b\b\b\b\b\b\b\b\b\b\b\b\b\b\b\b\b\b\b\b\b\b\b\b\b\b\b\b\b\b\b\r\n",
      "\u001b[1m734/797\u001b[0m \u001b[32m━━━━━━━━━━━━━━━━━━\u001b[0m\u001b[37m━━\u001b[0m \u001b[1m1s\u001b[0m 19ms/step - accuracy: 0.9500 - loss: 0.2870"
     ]
    },
    {
     "name": "stdout",
     "output_type": "stream",
     "text": [
      "\b\b\b\b\b\b\b\b\b\b\b\b\b\b\b\b\b\b\b\b\b\b\b\b\b\b\b\b\b\b\b\b\b\b\b\b\b\b\b\b\b\b\b\b\b\b\b\b\b\b\b\b\b\b\b\b\b\b\b\b\b\b\b\b\b\b\b\b\b\b\b\b\b\b\b\r\n",
      "\u001b[1m737/797\u001b[0m \u001b[32m━━━━━━━━━━━━━━━━━━\u001b[0m\u001b[37m━━\u001b[0m \u001b[1m1s\u001b[0m 19ms/step - accuracy: 0.9500 - loss: 0.2870"
     ]
    },
    {
     "name": "stdout",
     "output_type": "stream",
     "text": [
      "\b\b\b\b\b\b\b\b\b\b\b\b\b\b\b\b\b\b\b\b\b\b\b\b\b\b\b\b\b\b\b\b\b\b\b\b\b\b\b\b\b\b\b\b\b\b\b\b\b\b\b\b\b\b\b\b\b\b\b\b\b\b\b\b\b\b\b\b\b\b\b\b\b\b\b\r\n",
      "\u001b[1m741/797\u001b[0m \u001b[32m━━━━━━━━━━━━━━━━━━\u001b[0m\u001b[37m━━\u001b[0m \u001b[1m1s\u001b[0m 19ms/step - accuracy: 0.9500 - loss: 0.2870"
     ]
    },
    {
     "name": "stdout",
     "output_type": "stream",
     "text": [
      "\b\b\b\b\b\b\b\b\b\b\b\b\b\b\b\b\b\b\b\b\b\b\b\b\b\b\b\b\b\b\b\b\b\b\b\b\b\b\b\b\b\b\b\b\b\b\b\b\b\b\b\b\b\b\b\b\b\b\b\b\b\b\b\b\b\b\b\b\b\b\b\b\b\b\b\r\n",
      "\u001b[1m744/797\u001b[0m \u001b[32m━━━━━━━━━━━━━━━━━━\u001b[0m\u001b[37m━━\u001b[0m \u001b[1m1s\u001b[0m 19ms/step - accuracy: 0.9500 - loss: 0.2870"
     ]
    },
    {
     "name": "stdout",
     "output_type": "stream",
     "text": [
      "\b\b\b\b\b\b\b\b\b\b\b\b\b\b\b\b\b\b\b\b\b\b\b\b\b\b\b\b\b\b\b\b\b\b\b\b\b\b\b\b\b\b\b\b\b\b\b\b\b\b\b\b\b\b\b\b\b\b\b\b\b\b\b\b\b\b\b\b\b\b\b\b\b\b\b\r\n",
      "\u001b[1m748/797\u001b[0m \u001b[32m━━━━━━━━━━━━━━━━━━\u001b[0m\u001b[37m━━\u001b[0m \u001b[1m0s\u001b[0m 19ms/step - accuracy: 0.9500 - loss: 0.2870"
     ]
    },
    {
     "name": "stdout",
     "output_type": "stream",
     "text": [
      "\b\b\b\b\b\b\b\b\b\b\b\b\b\b\b\b\b\b\b\b\b\b\b\b\b\b\b\b\b\b\b\b\b\b\b\b\b\b\b\b\b\b\b\b\b\b\b\b\b\b\b\b\b\b\b\b\b\b\b\b\b\b\b\b\b\b\b\b\b\b\b\b\b\b\b\r\n",
      "\u001b[1m752/797\u001b[0m \u001b[32m━━━━━━━━━━━━━━━━━━\u001b[0m\u001b[37m━━\u001b[0m \u001b[1m0s\u001b[0m 19ms/step - accuracy: 0.9500 - loss: 0.2870"
     ]
    },
    {
     "name": "stdout",
     "output_type": "stream",
     "text": [
      "\b\b\b\b\b\b\b\b\b\b\b\b\b\b\b\b\b\b\b\b\b\b\b\b\b\b\b\b\b\b\b\b\b\b\b\b\b\b\b\b\b\b\b\b\b\b\b\b\b\b\b\b\b\b\b\b\b\b\b\b\b\b\b\b\b\b\b\b\b\b\b\b\b\b\b\r\n",
      "\u001b[1m755/797\u001b[0m \u001b[32m━━━━━━━━━━━━━━━━━━\u001b[0m\u001b[37m━━\u001b[0m \u001b[1m0s\u001b[0m 19ms/step - accuracy: 0.9500 - loss: 0.2870"
     ]
    },
    {
     "name": "stdout",
     "output_type": "stream",
     "text": [
      "\b\b\b\b\b\b\b\b\b\b\b\b\b\b\b\b\b\b\b\b\b\b\b\b\b\b\b\b\b\b\b\b\b\b\b\b\b\b\b\b\b\b\b\b\b\b\b\b\b\b\b\b\b\b\b\b\b\b\b\b\b\b\b\b\b\b\b\b\b\b\b\b\b\b\b\r\n",
      "\u001b[1m759/797\u001b[0m \u001b[32m━━━━━━━━━━━━━━━━━━━\u001b[0m\u001b[37m━\u001b[0m \u001b[1m0s\u001b[0m 19ms/step - accuracy: 0.9500 - loss: 0.2870"
     ]
    },
    {
     "name": "stdout",
     "output_type": "stream",
     "text": [
      "\b\b\b\b\b\b\b\b\b\b\b\b\b\b\b\b\b\b\b\b\b\b\b\b\b\b\b\b\b\b\b\b\b\b\b\b\b\b\b\b\b\b\b\b\b\b\b\b\b\b\b\b\b\b\b\b\b\b\b\b\b\b\b\b\b\b\b\b\b\b\b\b\b\b\b\r\n",
      "\u001b[1m762/797\u001b[0m \u001b[32m━━━━━━━━━━━━━━━━━━━\u001b[0m\u001b[37m━\u001b[0m \u001b[1m0s\u001b[0m 19ms/step - accuracy: 0.9500 - loss: 0.2870"
     ]
    },
    {
     "name": "stdout",
     "output_type": "stream",
     "text": [
      "\b\b\b\b\b\b\b\b\b\b\b\b\b\b\b\b\b\b\b\b\b\b\b\b\b\b\b\b\b\b\b\b\b\b\b\b\b\b\b\b\b\b\b\b\b\b\b\b\b\b\b\b\b\b\b\b\b\b\b\b\b\b\b\b\b\b\b\b\b\b\b\b\b\b\b\r\n",
      "\u001b[1m765/797\u001b[0m \u001b[32m━━━━━━━━━━━━━━━━━━━\u001b[0m\u001b[37m━\u001b[0m \u001b[1m0s\u001b[0m 19ms/step - accuracy: 0.9500 - loss: 0.2870"
     ]
    },
    {
     "name": "stdout",
     "output_type": "stream",
     "text": [
      "\b\b\b\b\b\b\b\b\b\b\b\b\b\b\b\b\b\b\b\b\b\b\b\b\b\b\b\b\b\b\b\b\b\b\b\b\b\b\b\b\b\b\b\b\b\b\b\b\b\b\b\b\b\b\b\b\b\b\b\b\b\b\b\b\b\b\b\b\b\b\b\b\b\b\b\r\n",
      "\u001b[1m768/797\u001b[0m \u001b[32m━━━━━━━━━━━━━━━━━━━\u001b[0m\u001b[37m━\u001b[0m \u001b[1m0s\u001b[0m 19ms/step - accuracy: 0.9500 - loss: 0.2869"
     ]
    },
    {
     "name": "stdout",
     "output_type": "stream",
     "text": [
      "\b\b\b\b\b\b\b\b\b\b\b\b\b\b\b\b\b\b\b\b\b\b\b\b\b\b\b\b\b\b\b\b\b\b\b\b\b\b\b\b\b\b\b\b\b\b\b\b\b\b\b\b\b\b\b\b\b\b\b\b\b\b\b\b\b\b\b\b\b\b\b\b\b\b\b\r\n",
      "\u001b[1m772/797\u001b[0m \u001b[32m━━━━━━━━━━━━━━━━━━━\u001b[0m\u001b[37m━\u001b[0m \u001b[1m0s\u001b[0m 19ms/step - accuracy: 0.9500 - loss: 0.2869"
     ]
    },
    {
     "name": "stdout",
     "output_type": "stream",
     "text": [
      "\b\b\b\b\b\b\b\b\b\b\b\b\b\b\b\b\b\b\b\b\b\b\b\b\b\b\b\b\b\b\b\b\b\b\b\b\b\b\b\b\b\b\b\b\b\b\b\b\b\b\b\b\b\b\b\b\b\b\b\b\b\b\b\b\b\b\b\b\b\b\b\b\b\b\b\r\n",
      "\u001b[1m775/797\u001b[0m \u001b[32m━━━━━━━━━━━━━━━━━━━\u001b[0m\u001b[37m━\u001b[0m \u001b[1m0s\u001b[0m 19ms/step - accuracy: 0.9500 - loss: 0.2869"
     ]
    },
    {
     "name": "stdout",
     "output_type": "stream",
     "text": [
      "\b\b\b\b\b\b\b\b\b\b\b\b\b\b\b\b\b\b\b\b\b\b\b\b\b\b\b\b\b\b\b\b\b\b\b\b\b\b\b\b\b\b\b\b\b\b\b\b\b\b\b\b\b\b\b\b\b\b\b\b\b\b\b\b\b\b\b\b\b\b\b\b\b\b\b\r\n",
      "\u001b[1m778/797\u001b[0m \u001b[32m━━━━━━━━━━━━━━━━━━━\u001b[0m\u001b[37m━\u001b[0m \u001b[1m0s\u001b[0m 19ms/step - accuracy: 0.9500 - loss: 0.2869"
     ]
    },
    {
     "name": "stdout",
     "output_type": "stream",
     "text": [
      "\b\b\b\b\b\b\b\b\b\b\b\b\b\b\b\b\b\b\b\b\b\b\b\b\b\b\b\b\b\b\b\b\b\b\b\b\b\b\b\b\b\b\b\b\b\b\b\b\b\b\b\b\b\b\b\b\b\b\b\b\b\b\b\b\b\b\b\b\b\b\b\b\b\b\b\r\n",
      "\u001b[1m781/797\u001b[0m \u001b[32m━━━━━━━━━━━━━━━━━━━\u001b[0m\u001b[37m━\u001b[0m \u001b[1m0s\u001b[0m 19ms/step - accuracy: 0.9500 - loss: 0.2869"
     ]
    },
    {
     "name": "stdout",
     "output_type": "stream",
     "text": [
      "\b\b\b\b\b\b\b\b\b\b\b\b\b\b\b\b\b\b\b\b\b\b\b\b\b\b\b\b\b\b\b\b\b\b\b\b\b\b\b\b\b\b\b\b\b\b\b\b\b\b\b\b\b\b\b\b\b\b\b\b\b\b\b\b\b\b\b\b\b\b\b\b\b\b\b\r\n",
      "\u001b[1m784/797\u001b[0m \u001b[32m━━━━━━━━━━━━━━━━━━━\u001b[0m\u001b[37m━\u001b[0m \u001b[1m0s\u001b[0m 19ms/step - accuracy: 0.9500 - loss: 0.2869"
     ]
    },
    {
     "name": "stdout",
     "output_type": "stream",
     "text": [
      "\b\b\b\b\b\b\b\b\b\b\b\b\b\b\b\b\b\b\b\b\b\b\b\b\b\b\b\b\b\b\b\b\b\b\b\b\b\b\b\b\b\b\b\b\b\b\b\b\b\b\b\b\b\b\b\b\b\b\b\b\b\b\b\b\b\b\b\b\b\b\b\b\b\b\b\r\n",
      "\u001b[1m787/797\u001b[0m \u001b[32m━━━━━━━━━━━━━━━━━━━\u001b[0m\u001b[37m━\u001b[0m \u001b[1m0s\u001b[0m 19ms/step - accuracy: 0.9500 - loss: 0.2869"
     ]
    },
    {
     "name": "stdout",
     "output_type": "stream",
     "text": [
      "\b\b\b\b\b\b\b\b\b\b\b\b\b\b\b\b\b\b\b\b\b\b\b\b\b\b\b\b\b\b\b\b\b\b\b\b\b\b\b\b\b\b\b\b\b\b\b\b\b\b\b\b\b\b\b\b\b\b\b\b\b\b\b\b\b\b\b\b\b\b\b\b\b\b\b\r\n",
      "\u001b[1m790/797\u001b[0m \u001b[32m━━━━━━━━━━━━━━━━━━━\u001b[0m\u001b[37m━\u001b[0m \u001b[1m0s\u001b[0m 19ms/step - accuracy: 0.9500 - loss: 0.2869"
     ]
    },
    {
     "name": "stdout",
     "output_type": "stream",
     "text": [
      "\b\b\b\b\b\b\b\b\b\b\b\b\b\b\b\b\b\b\b\b\b\b\b\b\b\b\b\b\b\b\b\b\b\b\b\b\b\b\b\b\b\b\b\b\b\b\b\b\b\b\b\b\b\b\b\b\b\b\b\b\b\b\b\b\b\b\b\b\b\b\b\b\b\b\b\r\n",
      "\u001b[1m793/797\u001b[0m \u001b[32m━━━━━━━━━━━━━━━━━━━\u001b[0m\u001b[37m━\u001b[0m \u001b[1m0s\u001b[0m 19ms/step - accuracy: 0.9500 - loss: 0.2869"
     ]
    },
    {
     "name": "stdout",
     "output_type": "stream",
     "text": [
      "\b\b\b\b\b\b\b\b\b\b\b\b\b\b\b\b\b\b\b\b\b\b\b\b\b\b\b\b\b\b\b\b\b\b\b\b\b\b\b\b\b\b\b\b\b\b\b\b\b\b\b\b\b\b\b\b\b\b\b\b\b\b\b\b\b\b\b\b\b\b\b\b\b\b\b\r\n",
      "\u001b[1m797/797\u001b[0m \u001b[32m━━━━━━━━━━━━━━━━━━━━\u001b[0m\u001b[37m\u001b[0m \u001b[1m0s\u001b[0m 19ms/step - accuracy: 0.9500 - loss: 0.2869"
     ]
    },
    {
     "name": "stdout",
     "output_type": "stream",
     "text": [
      "\b\b\b\b\b\b\b\b\b\b\b\b\b\b\b\b\b\b\b\b\b\b\b\b\b\b\b\b\b\b\b\b\b\b\b\b\b\b\b\b\b\b\b\b\b\b\b\b\b\b\b\b\b\b\b\b\b\b\b\b\b\b\b\b\b\b\b\b\b\b\b\b\b\b\b\r\n",
      "\u001b[1m797/797\u001b[0m \u001b[32m━━━━━━━━━━━━━━━━━━━━\u001b[0m\u001b[37m\u001b[0m \u001b[1m17s\u001b[0m 19ms/step - accuracy: 0.9500 - loss: 0.2869\n"
     ]
    },
    {
     "name": "stdout",
     "output_type": "stream",
     "text": [
      "Test loss: [0.28596031665802, 0.9501956701278687]\n"
     ]
    }
   ],
   "source": [
    "# load from weights\n",
    "encoder_w, decoder_w, autoencoder_w = build_autoencoder(\n",
    "    vocab_size=vocab_size,        # Example vocab size\n",
    "    fixed_length=fixed_length,      # Example fixed length\n",
    "    latent_dim=48,        # Latent space dimension\n",
    "    hidden_dim=128,       # Number of neurons in hidden layers\n",
    "    recurrent_layers=3     # Number of LSTM layers in encoder and decoder\n",
    ")\n",
    "\n",
    "encoder_w.load_weights(f'{checkpoint_path}/encoder.weights.h5')\n",
    "decoder_w.load_weights(f'{checkpoint_path}/decoder.weights.h5')\n",
    "autoencoder_w.load_weights(f'{checkpoint_path}/autoencoder.weights.h5')\n",
    "\n",
    "test_loss = autoencoder_w.evaluate(test_gen, verbose=1)\n",
    "\n",
    "print(f'Test loss: {test_loss}')"
   ]
  },
  {
   "cell_type": "code",
   "execution_count": 22,
   "metadata": {
    "execution": {
     "iopub.execute_input": "2024-08-27T00:03:58.574396Z",
     "iopub.status.busy": "2024-08-27T00:03:58.573953Z",
     "iopub.status.idle": "2024-08-27T00:03:59.924744Z",
     "shell.execute_reply": "2024-08-27T00:03:59.924010Z"
    }
   },
   "outputs": [
    {
     "name": "stdout",
     "output_type": "stream",
     "text": [
      "\r\n",
      "\u001b[1m 1/16\u001b[0m \u001b[32m━\u001b[0m\u001b[37m━━━━━━━━━━━━━━━━━━━\u001b[0m \u001b[1m3s\u001b[0m 226ms/step"
     ]
    },
    {
     "name": "stdout",
     "output_type": "stream",
     "text": [
      "\b\b\b\b\b\b\b\b\b\b\b\b\b\b\b\b\b\b\b\b\b\b\b\b\b\b\b\b\b\b\b\b\b\b\b\b\b\b\b\b\r\n",
      "\u001b[1m11/16\u001b[0m \u001b[32m━━━━━━━━━━━━━\u001b[0m\u001b[37m━━━━━━━\u001b[0m \u001b[1m0s\u001b[0m 5ms/step  "
     ]
    },
    {
     "name": "stdout",
     "output_type": "stream",
     "text": [
      "\b\b\b\b\b\b\b\b\b\b\b\b\b\b\b\b\b\b\b\b\b\b\b\b\b\b\b\b\b\b\b\b\b\b\b\b\b\b\r\n",
      "\u001b[1m16/16\u001b[0m \u001b[32m━━━━━━━━━━━━━━━━━━━━\u001b[0m\u001b[37m\u001b[0m \u001b[1m0s\u001b[0m 5ms/step\n"
     ]
    },
    {
     "name": "stdout",
     "output_type": "stream",
     "text": [
      "encoded_sample.shape=(512, 48)\n",
      "encoded_sample[0]=array([ 0.       ,  0.       ,  0.       ,  0.       ,  7.680687 ,\n",
      "        0.       ,  0.       ,  0.       ,  0.       ,  3.7973955,\n",
      "        0.       ,  0.       ,  0.       ,  0.       ,  7.837739 ,\n",
      "        3.7491224,  0.       ,  0.       ,  2.8936148,  0.       ,\n",
      "        0.       ,  8.983229 ,  8.017273 ,  0.       ,  0.       ,\n",
      "        8.25718  , 12.638321 ,  0.       ,  1.3277317,  0.       ,\n",
      "        1.1121866,  0.       ,  1.2404106,  0.       ,  6.8298125,\n",
      "        0.       ,  0.       ,  3.3167045,  0.       ,  0.       ,\n",
      "        0.       ,  0.       ,  1.9724996,  0.       ,  0.       ,\n",
      "        0.       ,  0.       ,  3.9322252], dtype=float32)\n"
     ]
    },
    {
     "name": "stdout",
     "output_type": "stream",
     "text": [
      "\r\n",
      "\u001b[1m 1/16\u001b[0m \u001b[32m━\u001b[0m\u001b[37m━━━━━━━━━━━━━━━━━━━\u001b[0m \u001b[1m7s\u001b[0m 531ms/step"
     ]
    },
    {
     "name": "stdout",
     "output_type": "stream",
     "text": [
      "\b\b\b\b\b\b\b\b\b\b\b\b\b\b\b\b\b\b\b\b\b\b\b\b\b\b\b\b\b\b\b\b\b\b\b\b\b\b\b\b\r\n",
      "\u001b[1m 8/16\u001b[0m \u001b[32m━━━━━━━━━━\u001b[0m\u001b[37m━━━━━━━━━━\u001b[0m \u001b[1m0s\u001b[0m 8ms/step  "
     ]
    },
    {
     "name": "stdout",
     "output_type": "stream",
     "text": [
      "\b\b\b\b\b\b\b\b\b\b\b\b\b\b\b\b\b\b\b\b\b\b\b\b\b\b\b\b\b\b\b\b\b\b\b\b\b\b\r\n",
      "\u001b[1m16/16\u001b[0m \u001b[32m━━━━━━━━━━━━━━━━━━━━\u001b[0m\u001b[37m\u001b[0m \u001b[1m0s\u001b[0m 7ms/step"
     ]
    },
    {
     "name": "stdout",
     "output_type": "stream",
     "text": [
      "\b\b\b\b\b\b\b\b\b\b\b\b\b\b\b\b\b\b\b\b\b\b\b\b\b\b\b\b\b\b\b\b\b\b\b\b\b\b\r\n",
      "\u001b[1m16/16\u001b[0m \u001b[32m━━━━━━━━━━━━━━━━━━━━\u001b[0m\u001b[37m\u001b[0m \u001b[1m1s\u001b[0m 7ms/step\n"
     ]
    },
    {
     "name": "stdout",
     "output_type": "stream",
     "text": [
      "decoded_sample.shape=(512, 50, 40)\n",
      "decoded_sample[0]=array([[6.1004893e-22, 1.3852666e-24, 1.0000000e+00, ..., 2.0589837e-25,\n",
      "        2.2221006e-25, 1.2650836e-22],\n",
      "       [1.2911901e-10, 7.6953342e-24, 2.5048843e-09, ..., 4.4754257e-12,\n",
      "        1.0127045e-19, 2.5479431e-13],\n",
      "       [2.2066397e-20, 1.3632401e-22, 1.4214009e-22, ..., 3.4766419e-23,\n",
      "        2.7172838e-17, 5.0129164e-24],\n",
      "       ...,\n",
      "       [1.0000000e+00, 4.9515132e-30, 3.5550011e-32, ..., 1.6560259e-31,\n",
      "        4.9005521e-30, 6.4700099e-27],\n",
      "       [1.0000000e+00, 8.0811238e-30, 4.9866522e-32, ..., 7.0108781e-32,\n",
      "        3.4869895e-30, 6.6990369e-27],\n",
      "       [1.0000000e+00, 1.1469043e-29, 1.1954966e-31, ..., 1.2801995e-32,\n",
      "        4.2158467e-30, 9.6551914e-27]], dtype=float32)\n",
      "sample_str[0]='/dev/kmem'\n",
      "decoded_sample_str[0]='/dev/kmem'\n"
     ]
    }
   ],
   "source": [
    "# test out encoder and decoder separately from file\n",
    "encoder_file = load_model(f'{checkpoint_path}/encoder.keras')\n",
    "decoder_file = load_model(f'{checkpoint_path}/decoder.keras')\n",
    "\n",
    "# select a random sample from the test data\n",
    "sample_idx = np.random.randint(0, len(test_gen))\n",
    "sample = test_gen[sample_idx][0]\n",
    "\n",
    "# encode the sample\n",
    "encoded_sample = encoder_file.predict(sample)\n",
    "print(f'{encoded_sample.shape=}')\n",
    "print(f'{encoded_sample[0]=}')\n",
    "\n",
    "# decode the sample\n",
    "decoded_sample = decoder_file.predict(encoded_sample)\n",
    "print(f'{decoded_sample.shape=}')\n",
    "print(f'{decoded_sample[0]=}')\n",
    "\n",
    "# convert the sample to strings\n",
    "sample_str = vectorized_to_string(sample, idx_to_char)\n",
    "decoded_sample_str = output_to_string(decoded_sample, idx_to_char)\n",
    "\n",
    "print(f'{sample_str[0]=}')\n",
    "print(f'{decoded_sample_str[0]=}')"
   ]
  }
 ],
 "metadata": {
  "kernelspec": {
   "display_name": "models",
   "language": "python",
   "name": "python3"
  },
  "language_info": {
   "codemirror_mode": {
    "name": "ipython",
    "version": 3
   },
   "file_extension": ".py",
   "mimetype": "text/x-python",
   "name": "python",
   "nbconvert_exporter": "python",
   "pygments_lexer": "ipython3",
   "version": "3.12.3"
  }
 },
 "nbformat": 4,
 "nbformat_minor": 2
}
