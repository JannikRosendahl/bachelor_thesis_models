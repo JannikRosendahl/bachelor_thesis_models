{
 "cells": [
  {
   "cell_type": "code",
   "execution_count": 1,
   "metadata": {},
   "outputs": [
    {
     "name": "stderr",
     "output_type": "stream",
     "text": [
      "2024-06-25 09:40:59.839969: W tensorflow/compiler/tf2tensorrt/utils/py_utils.cc:38] TF-TRT Warning: Could not find TensorRT\n"
     ]
    }
   ],
   "source": [
    "import os\n",
    "import random\n",
    "import numpy as np\n",
    "import pandas as pd\n",
    "import matplotlib.pyplot as plt\n",
    "\n",
    "# set tensorflow log level, hide info, warning\n",
    "os.environ['TF_CPP_MIN_LOG_LEVEL'] = '2'\n",
    "\n",
    "# force GPU device\n",
    "os.environ[\"CUDA_VISIBLE_DEVICES\"]='0'\n",
    "import tensorflow as tf\n",
    "\n",
    "from keras.src.callbacks import EarlyStopping, ModelCheckpoint, ReduceLROnPlateau, CSVLogger\n",
    "from keras.src.layers import SimpleRNN, LSTM, Dense, Dropout\n",
    "from keras import Sequential, Input\n",
    "\n",
    "from sklearn.metrics import classification_report"
   ]
  },
  {
   "cell_type": "markdown",
   "metadata": {},
   "source": [
    "load data from csv"
   ]
  },
  {
   "cell_type": "code",
   "execution_count": 2,
   "metadata": {},
   "outputs": [],
   "source": [
    "checkpoint_path = 'saves/ffnn'\n",
    "model_path = f'{checkpoint_path}/model.keras'\n",
    "log_path = f'{checkpoint_path}/log.csv'\n",
    "history_path = f'{checkpoint_path}/history.npy'\n",
    "\n",
    "# ensure directory exists\n",
    "if not os.path.exists(checkpoint_path):\n",
    "    os.makedirs(checkpoint_path)"
   ]
  },
  {
   "cell_type": "code",
   "execution_count": 3,
   "metadata": {},
   "outputs": [
    {
     "name": "stdout",
     "output_type": "stream",
     "text": [
      "Loaded 100000 sequences\n",
      "Loaded 200000 sequences\n",
      "Loaded 300000 sequences\n",
      "Loaded 400000 sequences\n",
      "Loaded 430863 datapoints\n",
      "Filtered out datapoints with less than filter_threshold occurrences\n",
      "Left with 430774 datapoints\n",
      "Found 94 distinct labels\n",
      "Found 29 distinct features\n",
      "Encoded labels to one-hot\n",
      "Encoded features to numpy array\n"
     ]
    }
   ],
   "source": [
    "filter = True\n",
    "filter_threshold = 5\n",
    "\n",
    "data_directory = '/home/jrosendahl/datasets/cadets/sequences/'\n",
    "\n",
    "data = []\n",
    "\n",
    "labels = None\n",
    "no_labels = None\n",
    "\n",
    "no_features: int = None\n",
    "\n",
    "count = 0\n",
    "for file_name in os.listdir(data_directory):\n",
    "    count += 1\n",
    "    if count % 100000 == 0:\n",
    "        print(f'Loaded {count} sequences')\n",
    "    with open(data_directory + file_name, 'r') as f:\n",
    "        label = file_name.split('_')[0]\n",
    "        # build dictionary with counts of events\n",
    "        datapoint = {}\n",
    "        for line in f:\n",
    "            line = line.strip()\n",
    "            if line in datapoint:\n",
    "                datapoint[line] += 1\n",
    "            else:\n",
    "                datapoint[line] = 1\n",
    "        data.append((label, datapoint))\n",
    "\n",
    "print(f'Loaded {len(data)} datapoints')\n",
    "\n",
    "\n",
    "if filter:\n",
    "    # filter out datapoints where label occurres less than 10 times\n",
    "    label_occurrences = {}\n",
    "    for label, _ in data:\n",
    "        if label in label_occurrences:\n",
    "            label_occurrences[label] += 1\n",
    "        else:\n",
    "            label_occurrences[label] = 1\n",
    "\n",
    "    print(f'Filtered out datapoints with less than filter_threshold occurrences')\n",
    "    data = [ x for x in data if label_occurrences[x[0]] >= filter_threshold ]\n",
    "    print(f'Left with {len(data)} datapoints')\n",
    "\n",
    "else:\n",
    "    print(f'No filtering applied')\n",
    "\n",
    "random.shuffle(data)\n",
    "labels = [ x[0] for x in data ]\n",
    "data = [ x[1] for x in data ]\n",
    "\n",
    "distinct_labels = np.unique(np.array(labels))\n",
    "no_labels = len(distinct_labels)\n",
    "print(f'Found {no_labels} distinct labels')\n",
    "\n",
    "# get distinct features\n",
    "distinct_features = set()\n",
    "for datapoint in data:\n",
    "    distinct_features.update(datapoint.keys())\n",
    "distinct_features = np.array(list(distinct_features))\n",
    "no_features = len(distinct_features)\n",
    "print(f'Found {no_features} distinct features')\n",
    "\n",
    "# encode labels from strings to integers to one-hot\n",
    "labels = np.eye(no_labels)[np.vectorize(distinct_labels.tolist().index)(labels)]\n",
    "print(f'Encoded labels to one-hot')\n",
    "\n",
    "# encode features from dictionary to numpy array\n",
    "data_encoded = []\n",
    "for datapoint in data:\n",
    "    datapoint_encoded = np.zeros(no_features)\n",
    "    for feature, count in datapoint.items():\n",
    "        datapoint_encoded[distinct_features.tolist().index(feature)] = count\n",
    "    data_encoded.append(datapoint_encoded)\n",
    "print(f'Encoded features to numpy array')"
   ]
  },
  {
   "cell_type": "markdown",
   "metadata": {},
   "source": [
    "build model"
   ]
  },
  {
   "cell_type": "code",
   "execution_count": 4,
   "metadata": {},
   "outputs": [
    {
     "data": {
      "text/html": [
       "<pre style=\"white-space:pre;overflow-x:auto;line-height:normal;font-family:Menlo,'DejaVu Sans Mono',consolas,'Courier New',monospace\"><span style=\"font-weight: bold\">Model: \"sequential\"</span>\n",
       "</pre>\n"
      ],
      "text/plain": [
       "\u001b[1mModel: \"sequential\"\u001b[0m\n"
      ]
     },
     "metadata": {},
     "output_type": "display_data"
    },
    {
     "data": {
      "text/html": [
       "<pre style=\"white-space:pre;overflow-x:auto;line-height:normal;font-family:Menlo,'DejaVu Sans Mono',consolas,'Courier New',monospace\">┏━━━━━━━━━━━━━━━━━━━━━━━━━━━━━━━━━┳━━━━━━━━━━━━━━━━━━━━━━━━┳━━━━━━━━━━━━━━━┓\n",
       "┃<span style=\"font-weight: bold\"> Layer (type)                    </span>┃<span style=\"font-weight: bold\"> Output Shape           </span>┃<span style=\"font-weight: bold\">       Param # </span>┃\n",
       "┡━━━━━━━━━━━━━━━━━━━━━━━━━━━━━━━━━╇━━━━━━━━━━━━━━━━━━━━━━━━╇━━━━━━━━━━━━━━━┩\n",
       "│ dense (<span style=\"color: #0087ff; text-decoration-color: #0087ff\">Dense</span>)                   │ (<span style=\"color: #00d7ff; text-decoration-color: #00d7ff\">None</span>, <span style=\"color: #00af00; text-decoration-color: #00af00\">64</span>)             │         <span style=\"color: #00af00; text-decoration-color: #00af00\">1,920</span> │\n",
       "├─────────────────────────────────┼────────────────────────┼───────────────┤\n",
       "│ dense_1 (<span style=\"color: #0087ff; text-decoration-color: #0087ff\">Dense</span>)                 │ (<span style=\"color: #00d7ff; text-decoration-color: #00d7ff\">None</span>, <span style=\"color: #00af00; text-decoration-color: #00af00\">64</span>)             │         <span style=\"color: #00af00; text-decoration-color: #00af00\">4,160</span> │\n",
       "├─────────────────────────────────┼────────────────────────┼───────────────┤\n",
       "│ dense_2 (<span style=\"color: #0087ff; text-decoration-color: #0087ff\">Dense</span>)                 │ (<span style=\"color: #00d7ff; text-decoration-color: #00d7ff\">None</span>, <span style=\"color: #00af00; text-decoration-color: #00af00\">64</span>)             │         <span style=\"color: #00af00; text-decoration-color: #00af00\">4,160</span> │\n",
       "├─────────────────────────────────┼────────────────────────┼───────────────┤\n",
       "│ dense_3 (<span style=\"color: #0087ff; text-decoration-color: #0087ff\">Dense</span>)                 │ (<span style=\"color: #00d7ff; text-decoration-color: #00d7ff\">None</span>, <span style=\"color: #00af00; text-decoration-color: #00af00\">94</span>)             │         <span style=\"color: #00af00; text-decoration-color: #00af00\">6,110</span> │\n",
       "└─────────────────────────────────┴────────────────────────┴───────────────┘\n",
       "</pre>\n"
      ],
      "text/plain": [
       "┏━━━━━━━━━━━━━━━━━━━━━━━━━━━━━━━━━┳━━━━━━━━━━━━━━━━━━━━━━━━┳━━━━━━━━━━━━━━━┓\n",
       "┃\u001b[1m \u001b[0m\u001b[1mLayer (type)                   \u001b[0m\u001b[1m \u001b[0m┃\u001b[1m \u001b[0m\u001b[1mOutput Shape          \u001b[0m\u001b[1m \u001b[0m┃\u001b[1m \u001b[0m\u001b[1m      Param #\u001b[0m\u001b[1m \u001b[0m┃\n",
       "┡━━━━━━━━━━━━━━━━━━━━━━━━━━━━━━━━━╇━━━━━━━━━━━━━━━━━━━━━━━━╇━━━━━━━━━━━━━━━┩\n",
       "│ dense (\u001b[38;5;33mDense\u001b[0m)                   │ (\u001b[38;5;45mNone\u001b[0m, \u001b[38;5;34m64\u001b[0m)             │         \u001b[38;5;34m1,920\u001b[0m │\n",
       "├─────────────────────────────────┼────────────────────────┼───────────────┤\n",
       "│ dense_1 (\u001b[38;5;33mDense\u001b[0m)                 │ (\u001b[38;5;45mNone\u001b[0m, \u001b[38;5;34m64\u001b[0m)             │         \u001b[38;5;34m4,160\u001b[0m │\n",
       "├─────────────────────────────────┼────────────────────────┼───────────────┤\n",
       "│ dense_2 (\u001b[38;5;33mDense\u001b[0m)                 │ (\u001b[38;5;45mNone\u001b[0m, \u001b[38;5;34m64\u001b[0m)             │         \u001b[38;5;34m4,160\u001b[0m │\n",
       "├─────────────────────────────────┼────────────────────────┼───────────────┤\n",
       "│ dense_3 (\u001b[38;5;33mDense\u001b[0m)                 │ (\u001b[38;5;45mNone\u001b[0m, \u001b[38;5;34m94\u001b[0m)             │         \u001b[38;5;34m6,110\u001b[0m │\n",
       "└─────────────────────────────────┴────────────────────────┴───────────────┘\n"
      ]
     },
     "metadata": {},
     "output_type": "display_data"
    },
    {
     "data": {
      "text/html": [
       "<pre style=\"white-space:pre;overflow-x:auto;line-height:normal;font-family:Menlo,'DejaVu Sans Mono',consolas,'Courier New',monospace\"><span style=\"font-weight: bold\"> Total params: </span><span style=\"color: #00af00; text-decoration-color: #00af00\">16,350</span> (63.87 KB)\n",
       "</pre>\n"
      ],
      "text/plain": [
       "\u001b[1m Total params: \u001b[0m\u001b[38;5;34m16,350\u001b[0m (63.87 KB)\n"
      ]
     },
     "metadata": {},
     "output_type": "display_data"
    },
    {
     "data": {
      "text/html": [
       "<pre style=\"white-space:pre;overflow-x:auto;line-height:normal;font-family:Menlo,'DejaVu Sans Mono',consolas,'Courier New',monospace\"><span style=\"font-weight: bold\"> Trainable params: </span><span style=\"color: #00af00; text-decoration-color: #00af00\">16,350</span> (63.87 KB)\n",
       "</pre>\n"
      ],
      "text/plain": [
       "\u001b[1m Trainable params: \u001b[0m\u001b[38;5;34m16,350\u001b[0m (63.87 KB)\n"
      ]
     },
     "metadata": {},
     "output_type": "display_data"
    },
    {
     "data": {
      "text/html": [
       "<pre style=\"white-space:pre;overflow-x:auto;line-height:normal;font-family:Menlo,'DejaVu Sans Mono',consolas,'Courier New',monospace\"><span style=\"font-weight: bold\"> Non-trainable params: </span><span style=\"color: #00af00; text-decoration-color: #00af00\">0</span> (0.00 B)\n",
       "</pre>\n"
      ],
      "text/plain": [
       "\u001b[1m Non-trainable params: \u001b[0m\u001b[38;5;34m0\u001b[0m (0.00 B)\n"
      ]
     },
     "metadata": {},
     "output_type": "display_data"
    }
   ],
   "source": [
    "model = Sequential(layers=[\n",
    "    Input(shape=(no_features,)),\n",
    "    Dense(64, activation='relu'),\n",
    "    Dense(64, activation='relu'),\n",
    "    Dense(64, activation='relu'),\n",
    "    Dense(no_labels, activation='softmax')\n",
    "])\n",
    "model.summary()"
   ]
  },
  {
   "cell_type": "code",
   "execution_count": 5,
   "metadata": {},
   "outputs": [],
   "source": [
    "early_stop = EarlyStopping(\n",
    "    monitor='val_loss',\n",
    "    patience=5,\n",
    "    verbose=1,\n",
    "    mode='auto'\n",
    ")\n",
    "\n",
    "model_checkpoint = ModelCheckpoint(\n",
    "    filepath=model_path,\n",
    "    monitor='val_loss',\n",
    "    save_best_only=True,\n",
    "    verbose=1\n",
    ")\n",
    "\n",
    "lr_schedule = ReduceLROnPlateau(\n",
    "    monitor='loss', \n",
    "    factor=0.5, \n",
    "    patience=2, \n",
    "    min_lr=1e-7\n",
    ")\n",
    "\n",
    "csv_logger = CSVLogger(\n",
    "    filename=log_path,\n",
    "    append=True\n",
    ")\n",
    "\n",
    "\n",
    "# 'categorical_focal_crossentropy'\n",
    "# 'categorical_crossentropy'\n",
    "model.compile(optimizer='adam', loss='categorical_focal_crossentropy', metrics=['accuracy'])"
   ]
  },
  {
   "cell_type": "markdown",
   "metadata": {},
   "source": [
    "train model"
   ]
  },
  {
   "cell_type": "code",
   "execution_count": 6,
   "metadata": {},
   "outputs": [
    {
     "name": "stdout",
     "output_type": "stream",
     "text": [
      "Training on 344619 samples\n",
      "Validating on 86155 samples\n"
     ]
    }
   ],
   "source": [
    "# split data into training and validation\n",
    "split = int(len(data_encoded) * 0.8)\n",
    "\n",
    "X_train = np.array(data_encoded[:split])\n",
    "y_train = np.array(labels[:split])\n",
    "\n",
    "X_val = np.array(data_encoded[split:])\n",
    "y_val = np.array(labels[split:])\n",
    "\n",
    "print(f'Training on {len(X_train)} samples')\n",
    "print(f'Validating on {len(X_val)} samples')"
   ]
  },
  {
   "cell_type": "code",
   "execution_count": 7,
   "metadata": {},
   "outputs": [
    {
     "name": "stdout",
     "output_type": "stream",
     "text": [
      "Epoch 1/50\n"
     ]
    },
    {
     "name": "stderr",
     "output_type": "stream",
     "text": [
      "WARNING: All log messages before absl::InitializeLog() is called are written to STDERR\n",
      "I0000 00:00:1719301290.215711  752658 service.cc:145] XLA service 0x7252c80045a0 initialized for platform CUDA (this does not guarantee that XLA will be used). Devices:\n",
      "I0000 00:00:1719301290.215770  752658 service.cc:153]   StreamExecutor device (0): NVIDIA GeForce RTX 2080 Ti, Compute Capability 7.5\n"
     ]
    },
    {
     "name": "stdout",
     "output_type": "stream",
     "text": [
      "\u001b[1m   58/10770\u001b[0m \u001b[37m━━━━━━━━━━━━━━━━━━━━\u001b[0m \u001b[1m28s\u001b[0m 3ms/step - accuracy: 0.3178 - loss: 1.0083     "
     ]
    },
    {
     "name": "stderr",
     "output_type": "stream",
     "text": [
      "I0000 00:00:1719301291.003859  752658 device_compiler.h:188] Compiled cluster using XLA!  This line is logged at most once for the lifetime of the process.\n"
     ]
    },
    {
     "name": "stdout",
     "output_type": "stream",
     "text": [
      "\u001b[1m10770/10770\u001b[0m \u001b[32m━━━━━━━━━━━━━━━━━━━━\u001b[0m\u001b[37m\u001b[0m \u001b[1m0s\u001b[0m 3ms/step - accuracy: 0.8783 - loss: 0.1717\n",
      "Epoch 1: val_loss improved from inf to 0.03755, saving model to saves/ffnn/model.keras\n",
      "\u001b[1m10770/10770\u001b[0m \u001b[32m━━━━━━━━━━━━━━━━━━━━\u001b[0m\u001b[37m\u001b[0m \u001b[1m37s\u001b[0m 3ms/step - accuracy: 0.8783 - loss: 0.1717 - val_accuracy: 0.9384 - val_loss: 0.0376 - learning_rate: 0.0010\n",
      "Epoch 2/50\n",
      "\u001b[1m10755/10770\u001b[0m \u001b[32m━━━━━━━━━━━━━━━━━━━\u001b[0m\u001b[37m━\u001b[0m \u001b[1m0s\u001b[0m 3ms/step - accuracy: 0.9352 - loss: 0.0455\n",
      "Epoch 2: val_loss improved from 0.03755 to 0.03662, saving model to saves/ffnn/model.keras\n",
      "\u001b[1m10770/10770\u001b[0m \u001b[32m━━━━━━━━━━━━━━━━━━━━\u001b[0m\u001b[37m\u001b[0m \u001b[1m33s\u001b[0m 3ms/step - accuracy: 0.9352 - loss: 0.0455 - val_accuracy: 0.9389 - val_loss: 0.0366 - learning_rate: 0.0010\n",
      "Epoch 3/50\n",
      "\u001b[1m10763/10770\u001b[0m \u001b[32m━━━━━━━━━━━━━━━━━━━\u001b[0m\u001b[37m━\u001b[0m \u001b[1m0s\u001b[0m 3ms/step - accuracy: 0.9379 - loss: 0.0373\n",
      "Epoch 3: val_loss improved from 0.03662 to 0.03570, saving model to saves/ffnn/model.keras\n",
      "\u001b[1m10770/10770\u001b[0m \u001b[32m━━━━━━━━━━━━━━━━━━━━\u001b[0m\u001b[37m\u001b[0m \u001b[1m32s\u001b[0m 3ms/step - accuracy: 0.9379 - loss: 0.0373 - val_accuracy: 0.9394 - val_loss: 0.0357 - learning_rate: 0.0010\n",
      "Epoch 4/50\n",
      "\u001b[1m10762/10770\u001b[0m \u001b[32m━━━━━━━━━━━━━━━━━━━\u001b[0m\u001b[37m━\u001b[0m \u001b[1m0s\u001b[0m 3ms/step - accuracy: 0.9378 - loss: 0.0409\n",
      "Epoch 4: val_loss did not improve from 0.03570\n",
      "\u001b[1m10770/10770\u001b[0m \u001b[32m━━━━━━━━━━━━━━━━━━━━\u001b[0m\u001b[37m\u001b[0m \u001b[1m33s\u001b[0m 3ms/step - accuracy: 0.9378 - loss: 0.0410 - val_accuracy: 0.9034 - val_loss: 0.1810 - learning_rate: 0.0010\n",
      "Epoch 5/50\n",
      "\u001b[1m10756/10770\u001b[0m \u001b[32m━━━━━━━━━━━━━━━━━━━\u001b[0m\u001b[37m━\u001b[0m \u001b[1m0s\u001b[0m 3ms/step - accuracy: 0.9229 - loss: 0.0975\n",
      "Epoch 5: val_loss improved from 0.03570 to 0.03453, saving model to saves/ffnn/model.keras\n",
      "\u001b[1m10770/10770\u001b[0m \u001b[32m━━━━━━━━━━━━━━━━━━━━\u001b[0m\u001b[37m\u001b[0m \u001b[1m33s\u001b[0m 3ms/step - accuracy: 0.9229 - loss: 0.0975 - val_accuracy: 0.9397 - val_loss: 0.0345 - learning_rate: 0.0010\n",
      "Epoch 6/50\n",
      "\u001b[1m10767/10770\u001b[0m \u001b[32m━━━━━━━━━━━━━━━━━━━\u001b[0m\u001b[37m━\u001b[0m \u001b[1m0s\u001b[0m 3ms/step - accuracy: 0.9404 - loss: 0.0336\n",
      "Epoch 6: val_loss improved from 0.03453 to 0.03417, saving model to saves/ffnn/model.keras\n",
      "\u001b[1m10770/10770\u001b[0m \u001b[32m━━━━━━━━━━━━━━━━━━━━\u001b[0m\u001b[37m\u001b[0m \u001b[1m34s\u001b[0m 3ms/step - accuracy: 0.9404 - loss: 0.0336 - val_accuracy: 0.9393 - val_loss: 0.0342 - learning_rate: 5.0000e-04\n",
      "Epoch 7/50\n",
      "\u001b[1m10754/10770\u001b[0m \u001b[32m━━━━━━━━━━━━━━━━━━━\u001b[0m\u001b[37m━\u001b[0m \u001b[1m0s\u001b[0m 3ms/step - accuracy: 0.9406 - loss: 0.0335\n",
      "Epoch 7: val_loss improved from 0.03417 to 0.03388, saving model to saves/ffnn/model.keras\n",
      "\u001b[1m10770/10770\u001b[0m \u001b[32m━━━━━━━━━━━━━━━━━━━━\u001b[0m\u001b[37m\u001b[0m \u001b[1m33s\u001b[0m 3ms/step - accuracy: 0.9406 - loss: 0.0335 - val_accuracy: 0.9403 - val_loss: 0.0339 - learning_rate: 5.0000e-04\n",
      "Epoch 8/50\n",
      "\u001b[1m10762/10770\u001b[0m \u001b[32m━━━━━━━━━━━━━━━━━━━\u001b[0m\u001b[37m━\u001b[0m \u001b[1m0s\u001b[0m 3ms/step - accuracy: 0.9401 - loss: 0.0347\n",
      "Epoch 8: val_loss did not improve from 0.03388\n",
      "\u001b[1m10770/10770\u001b[0m \u001b[32m━━━━━━━━━━━━━━━━━━━━\u001b[0m\u001b[37m\u001b[0m \u001b[1m34s\u001b[0m 3ms/step - accuracy: 0.9401 - loss: 0.0347 - val_accuracy: 0.9400 - val_loss: 0.0340 - learning_rate: 5.0000e-04\n",
      "Epoch 9/50\n",
      "\u001b[1m10751/10770\u001b[0m \u001b[32m━━━━━━━━━━━━━━━━━━━\u001b[0m\u001b[37m━\u001b[0m \u001b[1m0s\u001b[0m 3ms/step - accuracy: 0.9408 - loss: 0.0330\n",
      "Epoch 9: val_loss improved from 0.03388 to 0.03217, saving model to saves/ffnn/model.keras\n",
      "\u001b[1m10770/10770\u001b[0m \u001b[32m━━━━━━━━━━━━━━━━━━━━\u001b[0m\u001b[37m\u001b[0m \u001b[1m33s\u001b[0m 3ms/step - accuracy: 0.9408 - loss: 0.0330 - val_accuracy: 0.9405 - val_loss: 0.0322 - learning_rate: 5.0000e-04\n",
      "Epoch 10/50\n",
      "\u001b[1m10764/10770\u001b[0m \u001b[32m━━━━━━━━━━━━━━━━━━━\u001b[0m\u001b[37m━\u001b[0m \u001b[1m0s\u001b[0m 3ms/step - accuracy: 0.9403 - loss: 0.0318\n",
      "Epoch 10: val_loss did not improve from 0.03217\n",
      "\u001b[1m10770/10770\u001b[0m \u001b[32m━━━━━━━━━━━━━━━━━━━━\u001b[0m\u001b[37m\u001b[0m \u001b[1m34s\u001b[0m 3ms/step - accuracy: 0.9403 - loss: 0.0318 - val_accuracy: 0.9406 - val_loss: 0.0324 - learning_rate: 5.0000e-04\n",
      "Epoch 11/50\n",
      "\u001b[1m10769/10770\u001b[0m \u001b[32m━━━━━━━━━━━━━━━━━━━\u001b[0m\u001b[37m━\u001b[0m \u001b[1m0s\u001b[0m 3ms/step - accuracy: 0.9402 - loss: 0.0319\n",
      "Epoch 11: val_loss improved from 0.03217 to 0.03209, saving model to saves/ffnn/model.keras\n",
      "\u001b[1m10770/10770\u001b[0m \u001b[32m━━━━━━━━━━━━━━━━━━━━\u001b[0m\u001b[37m\u001b[0m \u001b[1m33s\u001b[0m 3ms/step - accuracy: 0.9402 - loss: 0.0319 - val_accuracy: 0.9406 - val_loss: 0.0321 - learning_rate: 5.0000e-04\n",
      "Epoch 12/50\n",
      "\u001b[1m10770/10770\u001b[0m \u001b[32m━━━━━━━━━━━━━━━━━━━━\u001b[0m\u001b[37m\u001b[0m \u001b[1m0s\u001b[0m 3ms/step - accuracy: 0.9406 - loss: 0.0324\n",
      "Epoch 12: val_loss did not improve from 0.03209\n",
      "\u001b[1m10770/10770\u001b[0m \u001b[32m━━━━━━━━━━━━━━━━━━━━\u001b[0m\u001b[37m\u001b[0m \u001b[1m34s\u001b[0m 3ms/step - accuracy: 0.9406 - loss: 0.0324 - val_accuracy: 0.9406 - val_loss: 0.0321 - learning_rate: 5.0000e-04\n",
      "Epoch 13/50\n",
      "\u001b[1m10757/10770\u001b[0m \u001b[32m━━━━━━━━━━━━━━━━━━━\u001b[0m\u001b[37m━\u001b[0m \u001b[1m0s\u001b[0m 3ms/step - accuracy: 0.9405 - loss: 0.0315\n",
      "Epoch 13: val_loss improved from 0.03209 to 0.03196, saving model to saves/ffnn/model.keras\n",
      "\u001b[1m10770/10770\u001b[0m \u001b[32m━━━━━━━━━━━━━━━━━━━━\u001b[0m\u001b[37m\u001b[0m \u001b[1m33s\u001b[0m 3ms/step - accuracy: 0.9405 - loss: 0.0315 - val_accuracy: 0.9408 - val_loss: 0.0320 - learning_rate: 2.5000e-04\n",
      "Epoch 14/50\n",
      "\u001b[1m10756/10770\u001b[0m \u001b[32m━━━━━━━━━━━━━━━━━━━\u001b[0m\u001b[37m━\u001b[0m \u001b[1m0s\u001b[0m 3ms/step - accuracy: 0.9407 - loss: 0.0312\n",
      "Epoch 14: val_loss improved from 0.03196 to 0.03191, saving model to saves/ffnn/model.keras\n",
      "\u001b[1m10770/10770\u001b[0m \u001b[32m━━━━━━━━━━━━━━━━━━━━\u001b[0m\u001b[37m\u001b[0m \u001b[1m33s\u001b[0m 3ms/step - accuracy: 0.9407 - loss: 0.0312 - val_accuracy: 0.9408 - val_loss: 0.0319 - learning_rate: 2.5000e-04\n",
      "Epoch 15/50\n",
      "\u001b[1m10769/10770\u001b[0m \u001b[32m━━━━━━━━━━━━━━━━━━━\u001b[0m\u001b[37m━\u001b[0m \u001b[1m0s\u001b[0m 3ms/step - accuracy: 0.9412 - loss: 0.0316\n",
      "Epoch 15: val_loss did not improve from 0.03191\n",
      "\u001b[1m10770/10770\u001b[0m \u001b[32m━━━━━━━━━━━━━━━━━━━━\u001b[0m\u001b[37m\u001b[0m \u001b[1m34s\u001b[0m 3ms/step - accuracy: 0.9412 - loss: 0.0316 - val_accuracy: 0.9407 - val_loss: 0.0321 - learning_rate: 2.5000e-04\n",
      "Epoch 16/50\n",
      "\u001b[1m10770/10770\u001b[0m \u001b[32m━━━━━━━━━━━━━━━━━━━━\u001b[0m\u001b[37m\u001b[0m \u001b[1m0s\u001b[0m 3ms/step - accuracy: 0.9411 - loss: 0.0312\n",
      "Epoch 16: val_loss improved from 0.03191 to 0.03190, saving model to saves/ffnn/model.keras\n",
      "\u001b[1m10770/10770\u001b[0m \u001b[32m━━━━━━━━━━━━━━━━━━━━\u001b[0m\u001b[37m\u001b[0m \u001b[1m34s\u001b[0m 3ms/step - accuracy: 0.9411 - loss: 0.0312 - val_accuracy: 0.9408 - val_loss: 0.0319 - learning_rate: 1.2500e-04\n",
      "Epoch 17/50\n",
      "\u001b[1m10769/10770\u001b[0m \u001b[32m━━━━━━━━━━━━━━━━━━━\u001b[0m\u001b[37m━\u001b[0m \u001b[1m0s\u001b[0m 3ms/step - accuracy: 0.9420 - loss: 0.0316\n",
      "Epoch 17: val_loss improved from 0.03190 to 0.03182, saving model to saves/ffnn/model.keras\n",
      "\u001b[1m10770/10770\u001b[0m \u001b[32m━━━━━━━━━━━━━━━━━━━━\u001b[0m\u001b[37m\u001b[0m \u001b[1m33s\u001b[0m 3ms/step - accuracy: 0.9420 - loss: 0.0316 - val_accuracy: 0.9408 - val_loss: 0.0318 - learning_rate: 1.2500e-04\n",
      "Epoch 18/50\n",
      "\u001b[1m10768/10770\u001b[0m \u001b[32m━━━━━━━━━━━━━━━━━━━\u001b[0m\u001b[37m━\u001b[0m \u001b[1m0s\u001b[0m 3ms/step - accuracy: 0.9404 - loss: 0.0314\n",
      "Epoch 18: val_loss improved from 0.03182 to 0.03182, saving model to saves/ffnn/model.keras\n",
      "\u001b[1m10770/10770\u001b[0m \u001b[32m━━━━━━━━━━━━━━━━━━━━\u001b[0m\u001b[37m\u001b[0m \u001b[1m34s\u001b[0m 3ms/step - accuracy: 0.9404 - loss: 0.0314 - val_accuracy: 0.9408 - val_loss: 0.0318 - learning_rate: 1.2500e-04\n",
      "Epoch 19/50\n",
      "\u001b[1m10767/10770\u001b[0m \u001b[32m━━━━━━━━━━━━━━━━━━━\u001b[0m\u001b[37m━\u001b[0m \u001b[1m0s\u001b[0m 3ms/step - accuracy: 0.9413 - loss: 0.0311\n",
      "Epoch 19: val_loss improved from 0.03182 to 0.03176, saving model to saves/ffnn/model.keras\n",
      "\u001b[1m10770/10770\u001b[0m \u001b[32m━━━━━━━━━━━━━━━━━━━━\u001b[0m\u001b[37m\u001b[0m \u001b[1m33s\u001b[0m 3ms/step - accuracy: 0.9413 - loss: 0.0311 - val_accuracy: 0.9408 - val_loss: 0.0318 - learning_rate: 6.2500e-05\n",
      "Epoch 20/50\n",
      "\u001b[1m10760/10770\u001b[0m \u001b[32m━━━━━━━━━━━━━━━━━━━\u001b[0m\u001b[37m━\u001b[0m \u001b[1m0s\u001b[0m 3ms/step - accuracy: 0.9416 - loss: 0.0314\n",
      "Epoch 20: val_loss did not improve from 0.03176\n",
      "\u001b[1m10770/10770\u001b[0m \u001b[32m━━━━━━━━━━━━━━━━━━━━\u001b[0m\u001b[37m\u001b[0m \u001b[1m34s\u001b[0m 3ms/step - accuracy: 0.9416 - loss: 0.0314 - val_accuracy: 0.9408 - val_loss: 0.0318 - learning_rate: 6.2500e-05\n",
      "Epoch 21/50\n",
      "\u001b[1m10763/10770\u001b[0m \u001b[32m━━━━━━━━━━━━━━━━━━━\u001b[0m\u001b[37m━\u001b[0m \u001b[1m0s\u001b[0m 3ms/step - accuracy: 0.9416 - loss: 0.0311\n",
      "Epoch 21: val_loss did not improve from 0.03176\n",
      "\u001b[1m10770/10770\u001b[0m \u001b[32m━━━━━━━━━━━━━━━━━━━━\u001b[0m\u001b[37m\u001b[0m \u001b[1m34s\u001b[0m 3ms/step - accuracy: 0.9416 - loss: 0.0311 - val_accuracy: 0.9407 - val_loss: 0.0320 - learning_rate: 6.2500e-05\n",
      "Epoch 22/50\n",
      "\u001b[1m10757/10770\u001b[0m \u001b[32m━━━━━━━━━━━━━━━━━━━\u001b[0m\u001b[37m━\u001b[0m \u001b[1m0s\u001b[0m 3ms/step - accuracy: 0.9407 - loss: 0.0308\n",
      "Epoch 22: val_loss did not improve from 0.03176\n",
      "\u001b[1m10770/10770\u001b[0m \u001b[32m━━━━━━━━━━━━━━━━━━━━\u001b[0m\u001b[37m\u001b[0m \u001b[1m34s\u001b[0m 3ms/step - accuracy: 0.9407 - loss: 0.0308 - val_accuracy: 0.9408 - val_loss: 0.0318 - learning_rate: 3.1250e-05\n",
      "Epoch 23/50\n",
      "\u001b[1m10750/10770\u001b[0m \u001b[32m━━━━━━━━━━━━━━━━━━━\u001b[0m\u001b[37m━\u001b[0m \u001b[1m0s\u001b[0m 3ms/step - accuracy: 0.9410 - loss: 0.0313\n",
      "Epoch 23: val_loss did not improve from 0.03176\n",
      "\u001b[1m10770/10770\u001b[0m \u001b[32m━━━━━━━━━━━━━━━━━━━━\u001b[0m\u001b[37m\u001b[0m \u001b[1m33s\u001b[0m 3ms/step - accuracy: 0.9410 - loss: 0.0313 - val_accuracy: 0.9408 - val_loss: 0.0318 - learning_rate: 3.1250e-05\n",
      "Epoch 24/50\n",
      "\u001b[1m10763/10770\u001b[0m \u001b[32m━━━━━━━━━━━━━━━━━━━\u001b[0m\u001b[37m━\u001b[0m \u001b[1m0s\u001b[0m 3ms/step - accuracy: 0.9411 - loss: 0.0313\n",
      "Epoch 24: val_loss did not improve from 0.03176\n",
      "\u001b[1m10770/10770\u001b[0m \u001b[32m━━━━━━━━━━━━━━━━━━━━\u001b[0m\u001b[37m\u001b[0m \u001b[1m35s\u001b[0m 3ms/step - accuracy: 0.9411 - loss: 0.0313 - val_accuracy: 0.9408 - val_loss: 0.0318 - learning_rate: 1.5625e-05\n",
      "Epoch 24: early stopping\n"
     ]
    }
   ],
   "source": [
    "history = model.fit(\n",
    "    X_train, y_train,\n",
    "    validation_data=(X_val, y_val),\n",
    "    batch_size=32,\n",
    "    epochs=50,\n",
    "    callbacks=[early_stop, model_checkpoint, lr_schedule, csv_logger]\n",
    ")\n",
    "\n",
    "# save history to file\n",
    "with open(f'{checkpoint_path}/ffn_history.npy', 'wb') as f:\n",
    "    np.save(f, history.history)"
   ]
  },
  {
   "cell_type": "code",
   "execution_count": 11,
   "metadata": {},
   "outputs": [
    {
     "data": {
      "image/png": "[encoded data removed]",
      "text/plain": [
       "<Figure size 640x480 with 1 Axes>"
      ]
     },
     "metadata": {},
     "output_type": "display_data"
    },
    {
     "data": {
      "image/png": "[encoded data removed]",
      "text/plain": [
       "<Figure size 640x480 with 1 Axes>"
      ]
     },
     "metadata": {},
     "output_type": "display_data"
    }
   ],
   "source": [
    "# plot history\n",
    "\n",
    "plt.plot(history.history['loss'])\n",
    "plt.plot(history.history['val_loss'])\n",
    "plt.title('model loss')\n",
    "plt.ylabel('loss')\n",
    "plt.xlabel('epoch')\n",
    "plt.legend(['train', 'val'], loc='upper left')\n",
    "plt.show()\n",
    "\n",
    "plt.plot(history.history['accuracy'])\n",
    "plt.plot(history.history['val_accuracy'])\n",
    "plt.title('model accuracy')\n",
    "plt.ylabel('accuracy')\n",
    "plt.xlabel('epoch')\n",
    "plt.legend(['train', 'val'], loc='upper left')\n",
    "plt.show()"
   ]
  },
  {
   "cell_type": "code",
   "execution_count": 15,
   "metadata": {},
   "outputs": [
    {
     "name": "stdout",
     "output_type": "stream",
     "text": [
      "\u001b[1m2693/2693\u001b[0m \u001b[32m━━━━━━━━━━━━━━━━━━━━\u001b[0m\u001b[37m\u001b[0m \u001b[1m6s\u001b[0m 2ms/step - accuracy: 0.9412 - loss: 0.0308\n",
      "Test loss: 0.0317600853741169\n",
      "Test accuracy: 0.9408159852027893\n"
     ]
    }
   ],
   "source": [
    "# load model from file\n",
    "model = tf.keras.models.load_model(model_path)\n",
    "\n",
    "# evaluate model\n",
    "score = model.evaluate(X_val, y_val, verbose=1)\n",
    "print('Test loss:', score[0])\n",
    "print('Test accuracy:', score[1])"
   ]
  },
  {
   "cell_type": "code",
   "execution_count": 20,
   "metadata": {},
   "outputs": [
    {
     "name": "stdout",
     "output_type": "stream",
     "text": [
      "\u001b[1m2693/2693\u001b[0m \u001b[32m━━━━━━━━━━━━━━━━━━━━\u001b[0m\u001b[37m\u001b[0m \u001b[1m5s\u001b[0m 2ms/step\n",
      "                 precision    recall  f1-score   support\n",
      "\n",
      "      adjkerntz        nan      0.00      0.00        22\n",
      "         alpine       1.00      0.46      0.63       211\n",
      "          anvil       0.85      0.99      0.92       182\n",
      "          atrun       1.00      1.00      1.00       636\n",
      "            awk       0.94      1.00      0.97        15\n",
      "       basename        nan      0.00      0.00         3\n",
      "           bash       0.95      0.97      0.96     32068\n",
      "          bzcat       0.22      1.00      0.36         2\n",
      "          bzip2       1.00      0.50      0.67         2\n",
      "            cat       0.97      0.98      0.98        65\n",
      "         chkgrp        nan      0.00      0.00         1\n",
      "        cleanup       1.00      1.00      1.00       244\n",
      "            cmp       1.00      1.00      1.00         7\n",
      "             cp       1.00      1.00      1.00         1\n",
      "           cron       1.00      1.00      1.00      2022\n",
      "            csh        nan      0.00      0.00         1\n",
      "           date       1.00      1.00      1.00      3064\n",
      "             dd       1.00      1.00      1.00       285\n",
      "             df       1.00      0.75      0.86         4\n",
      "       dhclient        nan      0.00      0.00        24\n",
      "           diff       1.00      1.00      1.00         1\n",
      "          dmesg       0.97      1.00      0.99        37\n",
      "          egrep       0.29      0.50      0.36         4\n",
      "            env       1.00      1.00      1.00         1\n",
      "           expr        nan      0.00      0.00         7\n",
      "           find       1.00      1.00      1.00        50\n",
      "        fortune       1.00      1.00      1.00       236\n",
      "           grep       0.78      0.50      0.61        14\n",
      "           head       1.00      1.00      1.00      3175\n",
      "       hostname       0.57      1.00      0.72        21\n",
      "          imapd       0.96      0.62      0.75      3770\n",
      "          inetd       1.00      1.00      1.00       880\n",
      "        ipfstat       1.00      0.67      0.80         3\n",
      "           ipfw        nan      0.00      0.00         1\n",
      "            jot        nan      0.00      0.00         2\n",
      "           kenv        nan      0.00      0.00         4\n",
      "           kill       1.00      1.00      1.00         1\n",
      "           less       0.10      0.67      0.17         3\n",
      "          links       1.00      0.33      0.50         3\n",
      "          local       0.99      1.00      0.99       495\n",
      "          lockf       1.00      0.75      0.86         4\n",
      "             ls       0.37      1.00      0.54        14\n",
      "           lsof       1.00      1.00      1.00      3126\n",
      "           mail       1.00      1.00      1.00         3\n",
      "    mailwrapper       1.00      1.00      1.00         5\n",
      "         master        nan      0.00      0.00      1854\n",
      "          mkdir       1.00      1.00      1.00        47\n",
      "         mktemp       0.93      1.00      0.96        13\n",
      "          mlock       1.00      1.00      1.00      1584\n",
      "          mount       1.00      1.00      1.00         4\n",
      "           msgs       1.00      1.00      1.00         2\n",
      "             mv       1.00      1.00      1.00      2228\n",
      "           nawk       1.00      1.00      1.00         2\n",
      "        netstat       0.97      0.98      0.97        86\n",
      "      newsyslog       1.00      0.98      0.99        50\n",
      "          nginx       0.50      0.50      0.50         2\n",
      "          nohup       1.00      1.00      1.00         1\n",
      "          pfctl       1.00      1.00      1.00         1\n",
      "         pickup        nan      0.00      0.00        33\n",
      "           ping       0.00       nan      0.00         0\n",
      "            pkg       0.64      0.75      0.69        36\n",
      "        postmap       1.00      1.00      1.00         1\n",
      "       proxymap       1.00      0.99      0.99       254\n",
      "             ps       1.00      1.00      1.00        10\n",
      "      python2.7        nan      0.00      0.00       161\n",
      "      resizewin       1.00      1.00      1.00       230\n",
      "             rm       1.00      0.51      0.67        91\n",
      "          route       1.00      1.00      1.00        11\n",
      "         screen        nan      0.00      0.00         3\n",
      "            sed       0.01      0.67      0.02         3\n",
      "       sendmail       0.90      0.98      0.94        55\n",
      "             sh       0.61      0.92      0.73      4632\n",
      "          sleep       1.00      1.00      1.00     12214\n",
      "          smtpd       0.99      1.00      1.00       343\n",
      "           sort       1.00      0.75      0.86         4\n",
      "           sshd       1.00      1.00      1.00      1154\n",
      "           stat        nan       nan       nan         0\n",
      "             su        nan      0.00      0.00         2\n",
      "           sudo       1.00      0.62      0.76        13\n",
      "         sysctl       1.00      1.00      1.00       316\n",
      "           tail       0.00      0.00      0.00         1\n",
      "            tee       1.00      1.00      1.00         2\n",
      "           test        nan       nan       nan         0\n",
      "            top       1.00      1.00      1.00      3146\n",
      "             tr       1.00      1.00      1.00         1\n",
      "trivial-rewrite       0.98      1.00      0.99       225\n",
      "            tty        nan      0.00      0.00         2\n",
      "          uname        nan      0.00      0.00         2\n",
      "         unlink       0.93      1.00      0.96       299\n",
      "         uptime        nan      0.00      0.00        44\n",
      "         vmstat       1.00      1.00      1.00      6209\n",
      "             wc       0.29      1.00      0.45        18\n",
      "           wget        nan      0.00      0.00        45\n",
      "             xz        nan      0.00      0.00         2\n",
      "\n",
      "       accuracy                           0.94     86155\n",
      "      macro avg       0.87      0.71      0.68     86155\n",
      "   weighted avg       0.95      0.94      0.93     86155\n",
      "\n"
     ]
    }
   ],
   "source": [
    "# print classification report\n",
    "y_pred = model.predict(X_val)\n",
    "y_pred = np.argmax(y_pred, axis=1)\n",
    "y_true = np.argmax(y_val, axis=1)\n",
    "\n",
    "print(classification_report(y_true, y_pred, target_names=distinct_labels, labels=np.arange(no_labels), zero_division=np.nan))"
   ]
  }
 ],
 "metadata": {
  "kernelspec": {
   "display_name": "models",
   "language": "python",
   "name": "python3"
  },
  "language_info": {
   "codemirror_mode": {
    "name": "ipython",
    "version": 3
   },
   "file_extension": ".py",
   "mimetype": "text/x-python",
   "name": "python",
   "nbconvert_exporter": "python",
   "pygments_lexer": "ipython3",
   "version": "3.12.3"
  }
 },
 "nbformat": 4,
 "nbformat_minor": 2
}
