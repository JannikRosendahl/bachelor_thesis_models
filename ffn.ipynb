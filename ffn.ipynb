{
 "cells": [
  {
   "cell_type": "code",
   "execution_count": 20,
   "metadata": {},
   "outputs": [],
   "source": [
    "import os\n",
    "import random\n",
    "import numpy as np\n",
    "from matplotlib import pyplot as plt\n",
    "\n",
    "os.environ[\"CUDA_VISIBLE_DEVICES\"]='1'\n",
    "import tensorflow as tf\n",
    "\n",
    "from keras.src.callbacks import EarlyStopping, ModelCheckpoint, ReduceLROnPlateau, CSVLogger\n",
    "from keras.src.layers import SimpleRNN, LSTM, Dense, Dropout\n",
    "from keras import Sequential, Input"
   ]
  },
  {
   "cell_type": "markdown",
   "metadata": {},
   "source": [
    "load data from csv"
   ]
  },
  {
   "cell_type": "code",
   "execution_count": 8,
   "metadata": {},
   "outputs": [
    {
     "name": "stdout",
     "output_type": "stream",
     "text": [
      "Loaded 50000 sequences\n",
      "Loaded 100000 sequences\n",
      "Loaded 150000 sequences\n",
      "Loaded 200000 sequences\n",
      "Loaded 250000 sequences\n",
      "Loaded 300000 sequences\n",
      "Loaded 350000 sequences\n",
      "Loaded 400000 sequences\n",
      "Loaded 430863 datapoints\n",
      "Filtered out datapoints with less than 10 occurrences\n",
      "Left with 430661 datapoints\n",
      "Found 77 distinct labels\n",
      "Found 29 distinct features\n",
      "Encoded labels to one-hot\n"
     ]
    }
   ],
   "source": [
    "data_directory = '/home/jrosendahl/datasets/cadets/sequences/'\n",
    "\n",
    "data = []\n",
    "\n",
    "labels = None\n",
    "no_labels = None\n",
    "\n",
    "no_features: int = None\n",
    "\n",
    "count = 0\n",
    "for file_name in os.listdir(data_directory):\n",
    "    count += 1\n",
    "    if count % 50000 == 0:\n",
    "        print(f'Loaded {count} sequences')\n",
    "    with open(data_directory + file_name, 'r') as f:\n",
    "        label = file_name.split('_')[0]\n",
    "        # build dictionary with counts of events\n",
    "        datapoint = {}\n",
    "        for line in f:\n",
    "            line = line.strip()\n",
    "            if line in datapoint:\n",
    "                datapoint[line] += 1\n",
    "            else:\n",
    "                datapoint[line] = 1\n",
    "        data.append((label, datapoint))\n",
    "\n",
    "\n",
    "print(f'Loaded {len(data)} datapoints')\n",
    "\n",
    "# filter out datapoints where label occurres less than 10 times\n",
    "label_occurrences = {}\n",
    "for label, _ in data:\n",
    "    if label in label_occurrences:\n",
    "        label_occurrences[label] += 1\n",
    "    else:\n",
    "        label_occurrences[label] = 1\n",
    "data = [ x for x in data if label_occurrences[x[0]] >= 10 ]\n",
    "\n",
    "print(f'Filtered out datapoints with less than 10 occurrences')\n",
    "print(f'Left with {len(data)} datapoints')\n",
    "\n",
    "random.shuffle(data)\n",
    "labels = [ x[0] for x in data ]\n",
    "data = [ x[1] for x in data ]\n",
    "\n",
    "distinct_labels = np.unique(np.array(labels))\n",
    "no_labels = len(distinct_labels)\n",
    "print(f'Found {no_labels} distinct labels')\n",
    "\n",
    "# get distinct features\n",
    "distinct_features = set()\n",
    "for datapoint in data:\n",
    "    distinct_features.update(datapoint.keys())\n",
    "distinct_features = np.array(list(distinct_features))\n",
    "no_features = len(distinct_features)\n",
    "print(f'Found {no_features} distinct features')\n",
    "\n",
    "# encode labels from strings to integers to one-hot\n",
    "labels = np.eye(no_labels)[np.vectorize(distinct_labels.tolist().index)(labels)]\n",
    "print(f'Encoded labels to one-hot')\n",
    "\n",
    "# encode features from dictionary to numpy array\n",
    "data_encoded = []\n",
    "for datapoint in data:\n",
    "    datapoint_encoded = np.zeros(no_features)\n",
    "    for feature, count in datapoint.items():\n",
    "        datapoint_encoded[distinct_features.tolist().index(feature)] = count\n",
    "    data_encoded.append(datapoint_encoded)\n",
    "\n",
    "# get pad event to pad sequences with when batches are built\n",
    "pad_event = np.zeros(no_features)"
   ]
  },
  {
   "cell_type": "markdown",
   "metadata": {},
   "source": [
    "build model"
   ]
  },
  {
   "cell_type": "code",
   "execution_count": 11,
   "metadata": {},
   "outputs": [
    {
     "name": "stderr",
     "output_type": "stream",
     "text": [
      "2024-06-12 17:16:47.081591: I tensorflow/core/common_runtime/gpu/gpu_device.cc:1928] Created device /job:localhost/replica:0/task:0/device:GPU:0 with 9658 MB memory:  -> device: 0, name: NVIDIA GeForce RTX 2080 Ti, pci bus id: 0000:65:00.0, compute capability: 7.5\n"
     ]
    },
    {
     "data": {
      "text/html": [
       "<pre style=\"white-space:pre;overflow-x:auto;line-height:normal;font-family:Menlo,'DejaVu Sans Mono',consolas,'Courier New',monospace\"><span style=\"font-weight: bold\">Model: \"sequential\"</span>\n",
       "</pre>\n"
      ],
      "text/plain": [
       "\u001b[1mModel: \"sequential\"\u001b[0m\n"
      ]
     },
     "metadata": {},
     "output_type": "display_data"
    },
    {
     "data": {
      "text/html": [
       "<pre style=\"white-space:pre;overflow-x:auto;line-height:normal;font-family:Menlo,'DejaVu Sans Mono',consolas,'Courier New',monospace\">┏━━━━━━━━━━━━━━━━━━━━━━━━━━━━━━━━━┳━━━━━━━━━━━━━━━━━━━━━━━━┳━━━━━━━━━━━━━━━┓\n",
       "┃<span style=\"font-weight: bold\"> Layer (type)                    </span>┃<span style=\"font-weight: bold\"> Output Shape           </span>┃<span style=\"font-weight: bold\">       Param # </span>┃\n",
       "┡━━━━━━━━━━━━━━━━━━━━━━━━━━━━━━━━━╇━━━━━━━━━━━━━━━━━━━━━━━━╇━━━━━━━━━━━━━━━┩\n",
       "│ dense (<span style=\"color: #0087ff; text-decoration-color: #0087ff\">Dense</span>)                   │ (<span style=\"color: #00d7ff; text-decoration-color: #00d7ff\">None</span>, <span style=\"color: #00af00; text-decoration-color: #00af00\">64</span>)             │         <span style=\"color: #00af00; text-decoration-color: #00af00\">1,920</span> │\n",
       "├─────────────────────────────────┼────────────────────────┼───────────────┤\n",
       "│ dense_1 (<span style=\"color: #0087ff; text-decoration-color: #0087ff\">Dense</span>)                 │ (<span style=\"color: #00d7ff; text-decoration-color: #00d7ff\">None</span>, <span style=\"color: #00af00; text-decoration-color: #00af00\">64</span>)             │         <span style=\"color: #00af00; text-decoration-color: #00af00\">4,160</span> │\n",
       "├─────────────────────────────────┼────────────────────────┼───────────────┤\n",
       "│ dense_2 (<span style=\"color: #0087ff; text-decoration-color: #0087ff\">Dense</span>)                 │ (<span style=\"color: #00d7ff; text-decoration-color: #00d7ff\">None</span>, <span style=\"color: #00af00; text-decoration-color: #00af00\">64</span>)             │         <span style=\"color: #00af00; text-decoration-color: #00af00\">4,160</span> │\n",
       "├─────────────────────────────────┼────────────────────────┼───────────────┤\n",
       "│ dense_3 (<span style=\"color: #0087ff; text-decoration-color: #0087ff\">Dense</span>)                 │ (<span style=\"color: #00d7ff; text-decoration-color: #00d7ff\">None</span>, <span style=\"color: #00af00; text-decoration-color: #00af00\">77</span>)             │         <span style=\"color: #00af00; text-decoration-color: #00af00\">5,005</span> │\n",
       "└─────────────────────────────────┴────────────────────────┴───────────────┘\n",
       "</pre>\n"
      ],
      "text/plain": [
       "┏━━━━━━━━━━━━━━━━━━━━━━━━━━━━━━━━━┳━━━━━━━━━━━━━━━━━━━━━━━━┳━━━━━━━━━━━━━━━┓\n",
       "┃\u001b[1m \u001b[0m\u001b[1mLayer (type)                   \u001b[0m\u001b[1m \u001b[0m┃\u001b[1m \u001b[0m\u001b[1mOutput Shape          \u001b[0m\u001b[1m \u001b[0m┃\u001b[1m \u001b[0m\u001b[1m      Param #\u001b[0m\u001b[1m \u001b[0m┃\n",
       "┡━━━━━━━━━━━━━━━━━━━━━━━━━━━━━━━━━╇━━━━━━━━━━━━━━━━━━━━━━━━╇━━━━━━━━━━━━━━━┩\n",
       "│ dense (\u001b[38;5;33mDense\u001b[0m)                   │ (\u001b[38;5;45mNone\u001b[0m, \u001b[38;5;34m64\u001b[0m)             │         \u001b[38;5;34m1,920\u001b[0m │\n",
       "├─────────────────────────────────┼────────────────────────┼───────────────┤\n",
       "│ dense_1 (\u001b[38;5;33mDense\u001b[0m)                 │ (\u001b[38;5;45mNone\u001b[0m, \u001b[38;5;34m64\u001b[0m)             │         \u001b[38;5;34m4,160\u001b[0m │\n",
       "├─────────────────────────────────┼────────────────────────┼───────────────┤\n",
       "│ dense_2 (\u001b[38;5;33mDense\u001b[0m)                 │ (\u001b[38;5;45mNone\u001b[0m, \u001b[38;5;34m64\u001b[0m)             │         \u001b[38;5;34m4,160\u001b[0m │\n",
       "├─────────────────────────────────┼────────────────────────┼───────────────┤\n",
       "│ dense_3 (\u001b[38;5;33mDense\u001b[0m)                 │ (\u001b[38;5;45mNone\u001b[0m, \u001b[38;5;34m77\u001b[0m)             │         \u001b[38;5;34m5,005\u001b[0m │\n",
       "└─────────────────────────────────┴────────────────────────┴───────────────┘\n"
      ]
     },
     "metadata": {},
     "output_type": "display_data"
    },
    {
     "data": {
      "text/html": [
       "<pre style=\"white-space:pre;overflow-x:auto;line-height:normal;font-family:Menlo,'DejaVu Sans Mono',consolas,'Courier New',monospace\"><span style=\"font-weight: bold\"> Total params: </span><span style=\"color: #00af00; text-decoration-color: #00af00\">15,245</span> (59.55 KB)\n",
       "</pre>\n"
      ],
      "text/plain": [
       "\u001b[1m Total params: \u001b[0m\u001b[38;5;34m15,245\u001b[0m (59.55 KB)\n"
      ]
     },
     "metadata": {},
     "output_type": "display_data"
    },
    {
     "data": {
      "text/html": [
       "<pre style=\"white-space:pre;overflow-x:auto;line-height:normal;font-family:Menlo,'DejaVu Sans Mono',consolas,'Courier New',monospace\"><span style=\"font-weight: bold\"> Trainable params: </span><span style=\"color: #00af00; text-decoration-color: #00af00\">15,245</span> (59.55 KB)\n",
       "</pre>\n"
      ],
      "text/plain": [
       "\u001b[1m Trainable params: \u001b[0m\u001b[38;5;34m15,245\u001b[0m (59.55 KB)\n"
      ]
     },
     "metadata": {},
     "output_type": "display_data"
    },
    {
     "data": {
      "text/html": [
       "<pre style=\"white-space:pre;overflow-x:auto;line-height:normal;font-family:Menlo,'DejaVu Sans Mono',consolas,'Courier New',monospace\"><span style=\"font-weight: bold\"> Non-trainable params: </span><span style=\"color: #00af00; text-decoration-color: #00af00\">0</span> (0.00 B)\n",
       "</pre>\n"
      ],
      "text/plain": [
       "\u001b[1m Non-trainable params: \u001b[0m\u001b[38;5;34m0\u001b[0m (0.00 B)\n"
      ]
     },
     "metadata": {},
     "output_type": "display_data"
    }
   ],
   "source": [
    "model = Sequential(layers=[\n",
    "    Input(shape=(no_features,)),\n",
    "    Dense(64, activation='relu'),\n",
    "    Dense(64, activation='relu'),\n",
    "    Dense(64, activation='relu'),\n",
    "    Dense(no_labels, activation='softmax')\n",
    "])\n",
    "model.summary()"
   ]
  },
  {
   "cell_type": "code",
   "execution_count": 22,
   "metadata": {},
   "outputs": [],
   "source": [
    "early_stop = EarlyStopping(\n",
    "    monitor='val_loss',\n",
    "    patience=5,\n",
    "    verbose=1,\n",
    "    mode='auto'\n",
    ")\n",
    "\n",
    "checkpoint_path = (\"/home/jrosendahl/sync/models/checkpoints\")\n",
    "model_checkpoint = ModelCheckpoint(\n",
    "    filepath=f'{checkpoint_path}/ffn.keras',\n",
    "    monitor='val_loss',\n",
    "    save_best_only=True,\n",
    "    verbose=1\n",
    ")\n",
    "\n",
    "lr_schedule = ReduceLROnPlateau(\n",
    "    monitor='loss', \n",
    "    factor=0.1, \n",
    "    patience=3, \n",
    "    min_lr=1e-6\n",
    ")\n",
    "\n",
    "csv_logger = CSVLogger(\n",
    "    filename=f'{checkpoint_path}/ffn.log',\n",
    "    append=True\n",
    ")\n",
    "\n",
    "\n",
    "# 'categorical_focal_crossentropy'\n",
    "# 'categorical_crossentropy'\n",
    "model.compile(optimizer='adam', loss='categorical_focal_crossentropy', metrics=['accuracy'])"
   ]
  },
  {
   "cell_type": "markdown",
   "metadata": {},
   "source": [
    "train model"
   ]
  },
  {
   "cell_type": "code",
   "execution_count": 31,
   "metadata": {},
   "outputs": [
    {
     "name": "stdout",
     "output_type": "stream",
     "text": [
      "Training on 344528 samples\n",
      "Validating on 86133 samples\n"
     ]
    }
   ],
   "source": [
    "# split data into training and validation\n",
    "split = int(len(data_encoded) * 0.8)\n",
    "\n",
    "X_train = np.array(data_encoded[:split])\n",
    "y_train = np.array(labels[:split])\n",
    "\n",
    "X_val = np.array(data_encoded[split:])\n",
    "y_val = np.array(labels[split:])\n",
    "\n",
    "print(f'Training on {len(X_train)} samples')\n",
    "print(f'Validating on {len(X_val)} samples')"
   ]
  },
  {
   "cell_type": "code",
   "execution_count": 23,
   "metadata": {},
   "outputs": [
    {
     "name": "stdout",
     "output_type": "stream",
     "text": [
      "Epoch 1/50\n",
      "\u001b[1m10767/10767\u001b[0m \u001b[32m━━━━━━━━━━━━━━━━━━━━\u001b[0m\u001b[37m\u001b[0m \u001b[1m0s\u001b[0m 3ms/step - accuracy: 0.9311 - loss: 0.0697\n",
      "Epoch 1: val_loss improved from inf to 0.03199, saving model to /home/jrosendahl/sync/models/checkpoints/ffn.keras\n",
      "\u001b[1m10767/10767\u001b[0m \u001b[32m━━━━━━━━━━━━━━━━━━━━\u001b[0m\u001b[37m\u001b[0m \u001b[1m37s\u001b[0m 3ms/step - accuracy: 0.9311 - loss: 0.0697 - val_accuracy: 0.9410 - val_loss: 0.0320 - learning_rate: 0.0010\n",
      "Epoch 2/50\n",
      "\u001b[1m10759/10767\u001b[0m \u001b[32m━━━━━━━━━━━━━━━━━━━\u001b[0m\u001b[37m━\u001b[0m \u001b[1m0s\u001b[0m 3ms/step - accuracy: 0.9405 - loss: 0.0316\n",
      "Epoch 2: val_loss improved from 0.03199 to 0.03078, saving model to /home/jrosendahl/sync/models/checkpoints/ffn.keras\n",
      "\u001b[1m10767/10767\u001b[0m \u001b[32m━━━━━━━━━━━━━━━━━━━━\u001b[0m\u001b[37m\u001b[0m \u001b[1m34s\u001b[0m 3ms/step - accuracy: 0.9405 - loss: 0.0316 - val_accuracy: 0.9413 - val_loss: 0.0308 - learning_rate: 0.0010\n",
      "Epoch 3/50\n",
      "\u001b[1m10750/10767\u001b[0m \u001b[32m━━━━━━━━━━━━━━━━━━━\u001b[0m\u001b[37m━\u001b[0m \u001b[1m0s\u001b[0m 2ms/step - accuracy: 0.9403 - loss: 0.0300\n",
      "Epoch 3: val_loss did not improve from 0.03078\n",
      "\u001b[1m10767/10767\u001b[0m \u001b[32m━━━━━━━━━━━━━━━━━━━━\u001b[0m\u001b[37m\u001b[0m \u001b[1m31s\u001b[0m 3ms/step - accuracy: 0.9403 - loss: 0.0300 - val_accuracy: 0.9414 - val_loss: 0.0314 - learning_rate: 0.0010\n",
      "Epoch 4/50\n",
      "\u001b[1m10756/10767\u001b[0m \u001b[32m━━━━━━━━━━━━━━━━━━━\u001b[0m\u001b[37m━\u001b[0m \u001b[1m0s\u001b[0m 2ms/step - accuracy: 0.9405 - loss: 0.0308\n",
      "Epoch 4: val_loss did not improve from 0.03078\n",
      "\u001b[1m10767/10767\u001b[0m \u001b[32m━━━━━━━━━━━━━━━━━━━━\u001b[0m\u001b[37m\u001b[0m \u001b[1m32s\u001b[0m 3ms/step - accuracy: 0.9405 - loss: 0.0308 - val_accuracy: 0.9406 - val_loss: 0.0346 - learning_rate: 0.0010\n",
      "Epoch 5/50\n",
      "\u001b[1m10750/10767\u001b[0m \u001b[32m━━━━━━━━━━━━━━━━━━━\u001b[0m\u001b[37m━\u001b[0m \u001b[1m0s\u001b[0m 3ms/step - accuracy: 0.9326 - loss: 0.0634\n",
      "Epoch 5: val_loss improved from 0.03078 to 0.02999, saving model to /home/jrosendahl/sync/models/checkpoints/ffn.keras\n",
      "\u001b[1m10767/10767\u001b[0m \u001b[32m━━━━━━━━━━━━━━━━━━━━\u001b[0m\u001b[37m\u001b[0m \u001b[1m33s\u001b[0m 3ms/step - accuracy: 0.9326 - loss: 0.0634 - val_accuracy: 0.9419 - val_loss: 0.0300 - learning_rate: 0.0010\n",
      "Epoch 6/50\n",
      "\u001b[1m10747/10767\u001b[0m \u001b[32m━━━━━━━━━━━━━━━━━━━\u001b[0m\u001b[37m━\u001b[0m \u001b[1m0s\u001b[0m 2ms/step - accuracy: 0.9199 - loss: 0.1170\n",
      "Epoch 6: val_loss did not improve from 0.02999\n",
      "\u001b[1m10767/10767\u001b[0m \u001b[32m━━━━━━━━━━━━━━━━━━━━\u001b[0m\u001b[37m\u001b[0m \u001b[1m29s\u001b[0m 3ms/step - accuracy: 0.9199 - loss: 0.1170 - val_accuracy: 0.9412 - val_loss: 0.0315 - learning_rate: 0.0010\n",
      "Epoch 7/50\n",
      "\u001b[1m10753/10767\u001b[0m \u001b[32m━━━━━━━━━━━━━━━━━━━\u001b[0m\u001b[37m━\u001b[0m \u001b[1m0s\u001b[0m 2ms/step - accuracy: 0.9414 - loss: 0.0295\n",
      "Epoch 7: val_loss improved from 0.02999 to 0.02938, saving model to /home/jrosendahl/sync/models/checkpoints/ffn.keras\n",
      "\u001b[1m10767/10767\u001b[0m \u001b[32m━━━━━━━━━━━━━━━━━━━━\u001b[0m\u001b[37m\u001b[0m \u001b[1m28s\u001b[0m 3ms/step - accuracy: 0.9414 - loss: 0.0295 - val_accuracy: 0.9421 - val_loss: 0.0294 - learning_rate: 1.0000e-04\n",
      "Epoch 8/50\n",
      "\u001b[1m10759/10767\u001b[0m \u001b[32m━━━━━━━━━━━━━━━━━━━\u001b[0m\u001b[37m━\u001b[0m \u001b[1m0s\u001b[0m 2ms/step - accuracy: 0.9419 - loss: 0.0276\n",
      "Epoch 8: val_loss improved from 0.02938 to 0.02928, saving model to /home/jrosendahl/sync/models/checkpoints/ffn.keras\n",
      "\u001b[1m10767/10767\u001b[0m \u001b[32m━━━━━━━━━━━━━━━━━━━━\u001b[0m\u001b[37m\u001b[0m \u001b[1m29s\u001b[0m 3ms/step - accuracy: 0.9419 - loss: 0.0276 - val_accuracy: 0.9422 - val_loss: 0.0293 - learning_rate: 1.0000e-04\n",
      "Epoch 9/50\n",
      "\u001b[1m10756/10767\u001b[0m \u001b[32m━━━━━━━━━━━━━━━━━━━\u001b[0m\u001b[37m━\u001b[0m \u001b[1m0s\u001b[0m 2ms/step - accuracy: 0.9415 - loss: 0.0274\n",
      "Epoch 9: val_loss improved from 0.02928 to 0.02906, saving model to /home/jrosendahl/sync/models/checkpoints/ffn.keras\n",
      "\u001b[1m10767/10767\u001b[0m \u001b[32m━━━━━━━━━━━━━━━━━━━━\u001b[0m\u001b[37m\u001b[0m \u001b[1m29s\u001b[0m 3ms/step - accuracy: 0.9415 - loss: 0.0274 - val_accuracy: 0.9422 - val_loss: 0.0291 - learning_rate: 1.0000e-04\n",
      "Epoch 10/50\n",
      "\u001b[1m10763/10767\u001b[0m \u001b[32m━━━━━━━━━━━━━━━━━━━\u001b[0m\u001b[37m━\u001b[0m \u001b[1m0s\u001b[0m 2ms/step - accuracy: 0.9418 - loss: 0.0270\n",
      "Epoch 10: val_loss improved from 0.02906 to 0.02895, saving model to /home/jrosendahl/sync/models/checkpoints/ffn.keras\n",
      "\u001b[1m10767/10767\u001b[0m \u001b[32m━━━━━━━━━━━━━━━━━━━━\u001b[0m\u001b[37m\u001b[0m \u001b[1m29s\u001b[0m 3ms/step - accuracy: 0.9418 - loss: 0.0270 - val_accuracy: 0.9422 - val_loss: 0.0290 - learning_rate: 1.0000e-04\n",
      "Epoch 11/50\n",
      "\u001b[1m10760/10767\u001b[0m \u001b[32m━━━━━━━━━━━━━━━━━━━\u001b[0m\u001b[37m━\u001b[0m \u001b[1m0s\u001b[0m 2ms/step - accuracy: 0.9429 - loss: 0.0270\n",
      "Epoch 11: val_loss did not improve from 0.02895\n",
      "\u001b[1m10767/10767\u001b[0m \u001b[32m━━━━━━━━━━━━━━━━━━━━\u001b[0m\u001b[37m\u001b[0m \u001b[1m29s\u001b[0m 3ms/step - accuracy: 0.9429 - loss: 0.0270 - val_accuracy: 0.9422 - val_loss: 0.0290 - learning_rate: 1.0000e-04\n",
      "Epoch 12/50\n",
      "\u001b[1m10748/10767\u001b[0m \u001b[32m━━━━━━━━━━━━━━━━━━━\u001b[0m\u001b[37m━\u001b[0m \u001b[1m0s\u001b[0m 2ms/step - accuracy: 0.9413 - loss: 0.0282\n",
      "Epoch 12: val_loss improved from 0.02895 to 0.02883, saving model to /home/jrosendahl/sync/models/checkpoints/ffn.keras\n",
      "\u001b[1m10767/10767\u001b[0m \u001b[32m━━━━━━━━━━━━━━━━━━━━\u001b[0m\u001b[37m\u001b[0m \u001b[1m29s\u001b[0m 3ms/step - accuracy: 0.9413 - loss: 0.0282 - val_accuracy: 0.9423 - val_loss: 0.0288 - learning_rate: 1.0000e-04\n",
      "Epoch 13/50\n",
      "\u001b[1m10761/10767\u001b[0m \u001b[32m━━━━━━━━━━━━━━━━━━━\u001b[0m\u001b[37m━\u001b[0m \u001b[1m0s\u001b[0m 2ms/step - accuracy: 0.9420 - loss: 0.0271\n",
      "Epoch 13: val_loss improved from 0.02883 to 0.02877, saving model to /home/jrosendahl/sync/models/checkpoints/ffn.keras\n",
      "\u001b[1m10767/10767\u001b[0m \u001b[32m━━━━━━━━━━━━━━━━━━━━\u001b[0m\u001b[37m\u001b[0m \u001b[1m29s\u001b[0m 3ms/step - accuracy: 0.9420 - loss: 0.0271 - val_accuracy: 0.9423 - val_loss: 0.0288 - learning_rate: 1.0000e-04\n",
      "Epoch 14/50\n",
      "\u001b[1m10762/10767\u001b[0m \u001b[32m━━━━━━━━━━━━━━━━━━━\u001b[0m\u001b[37m━\u001b[0m \u001b[1m0s\u001b[0m 2ms/step - accuracy: 0.9416 - loss: 0.0270\n",
      "Epoch 14: val_loss did not improve from 0.02877\n",
      "\u001b[1m10767/10767\u001b[0m \u001b[32m━━━━━━━━━━━━━━━━━━━━\u001b[0m\u001b[37m\u001b[0m \u001b[1m32s\u001b[0m 3ms/step - accuracy: 0.9416 - loss: 0.0270 - val_accuracy: 0.9423 - val_loss: 0.0289 - learning_rate: 1.0000e-04\n",
      "Epoch 15/50\n",
      "\u001b[1m10753/10767\u001b[0m \u001b[32m━━━━━━━━━━━━━━━━━━━\u001b[0m\u001b[37m━\u001b[0m \u001b[1m0s\u001b[0m 3ms/step - accuracy: 0.9415 - loss: 0.0274\n",
      "Epoch 15: val_loss did not improve from 0.02877\n",
      "\u001b[1m10767/10767\u001b[0m \u001b[32m━━━━━━━━━━━━━━━━━━━━\u001b[0m\u001b[37m\u001b[0m \u001b[1m32s\u001b[0m 3ms/step - accuracy: 0.9415 - loss: 0.0274 - val_accuracy: 0.9423 - val_loss: 0.0289 - learning_rate: 1.0000e-05\n",
      "Epoch 16/50\n",
      "\u001b[1m10767/10767\u001b[0m \u001b[32m━━━━━━━━━━━━━━━━━━━━\u001b[0m\u001b[37m\u001b[0m \u001b[1m0s\u001b[0m 2ms/step - accuracy: 0.9417 - loss: 0.0276\n",
      "Epoch 16: val_loss did not improve from 0.02877\n",
      "\u001b[1m10767/10767\u001b[0m \u001b[32m━━━━━━━━━━━━━━━━━━━━\u001b[0m\u001b[37m\u001b[0m \u001b[1m29s\u001b[0m 3ms/step - accuracy: 0.9417 - loss: 0.0276 - val_accuracy: 0.9423 - val_loss: 0.0289 - learning_rate: 1.0000e-05\n",
      "Epoch 17/50\n",
      "\u001b[1m10759/10767\u001b[0m \u001b[32m━━━━━━━━━━━━━━━━━━━\u001b[0m\u001b[37m━\u001b[0m \u001b[1m0s\u001b[0m 2ms/step - accuracy: 0.9418 - loss: 0.0276\n",
      "Epoch 17: val_loss did not improve from 0.02877\n",
      "\u001b[1m10767/10767\u001b[0m \u001b[32m━━━━━━━━━━━━━━━━━━━━\u001b[0m\u001b[37m\u001b[0m \u001b[1m29s\u001b[0m 3ms/step - accuracy: 0.9418 - loss: 0.0276 - val_accuracy: 0.9423 - val_loss: 0.0289 - learning_rate: 1.0000e-05\n",
      "Epoch 18/50\n",
      "\u001b[1m10752/10767\u001b[0m \u001b[32m━━━━━━━━━━━━━━━━━━━\u001b[0m\u001b[37m━\u001b[0m \u001b[1m0s\u001b[0m 2ms/step - accuracy: 0.9422 - loss: 0.0276\n",
      "Epoch 18: val_loss did not improve from 0.02877\n",
      "\u001b[1m10767/10767\u001b[0m \u001b[32m━━━━━━━━━━━━━━━━━━━━\u001b[0m\u001b[37m\u001b[0m \u001b[1m29s\u001b[0m 3ms/step - accuracy: 0.9422 - loss: 0.0276 - val_accuracy: 0.9423 - val_loss: 0.0289 - learning_rate: 1.0000e-05\n",
      "Epoch 18: early stopping\n"
     ]
    }
   ],
   "source": [
    "history = model.fit(\n",
    "    X_train, y_train,\n",
    "    validation_data=(X_val, y_val),\n",
    "    batch_size=32,\n",
    "    epochs=50,\n",
    "    callbacks=[early_stop, model_checkpoint, lr_schedule, csv_logger]\n",
    ")\n",
    "\n",
    "# save history to file\n",
    "with open(f'{checkpoint_path}/ffn_history.npy', 'wb') as f:\n",
    "    np.save(f, history.history)"
   ]
  },
  {
   "cell_type": "code",
   "execution_count": 25,
   "metadata": {},
   "outputs": [
    {
     "data": {
      "image/png": "[encoded data removed]",
      "text/plain": [
       "<Figure size 640x480 with 1 Axes>"
      ]
     },
     "metadata": {},
     "output_type": "display_data"
    },
    {
     "data": {
      "image/png": "[encoded data removed]",
      "text/plain": [
       "<Figure size 640x480 with 1 Axes>"
      ]
     },
     "metadata": {},
     "output_type": "display_data"
    }
   ],
   "source": [
    "# plot history\n",
    "\n",
    "plt.plot(history.history['loss'])\n",
    "plt.plot(history.history['val_loss'])\n",
    "plt.title('model loss')\n",
    "plt.ylabel('loss')\n",
    "plt.xlabel('epoch')\n",
    "plt.legend(['train', 'val'], loc='upper left')\n",
    "plt.show()\n",
    "\n",
    "plt.plot(history.history['accuracy'])\n",
    "plt.plot(history.history['val_accuracy'])\n",
    "plt.title('model accuracy')\n",
    "plt.ylabel('accuracy')\n",
    "plt.xlabel('epoch')\n",
    "plt.legend(['train', 'val'], loc='upper left')\n",
    "plt.show()"
   ]
  },
  {
   "cell_type": "code",
   "execution_count": 26,
   "metadata": {},
   "outputs": [
    {
     "name": "stdout",
     "output_type": "stream",
     "text": [
      "Test loss: 0.028879929333925247\n",
      "Test accuracy: 0.9423449635505676\n"
     ]
    }
   ],
   "source": [
    "# evaluate model\n",
    "score = model.evaluate(X_val, y_val, verbose=0)\n",
    "print('Test loss:', score[0])\n",
    "print('Test accuracy:', score[1])"
   ]
  },
  {
   "cell_type": "code",
   "execution_count": 32,
   "metadata": {},
   "outputs": [
    {
     "name": "stdout",
     "output_type": "stream",
     "text": [
      "\u001b[1m2692/2692\u001b[0m \u001b[32m━━━━━━━━━━━━━━━━━━━━\u001b[0m\u001b[37m\u001b[0m \u001b[1m3s\u001b[0m 1ms/step\n",
      "                 precision    recall  f1-score   support\n",
      "\n",
      "      adjkerntz        nan      0.00      0.00        25\n",
      "         alpine       0.99      0.64      0.78       201\n",
      "          anvil       0.97      1.00      0.98       183\n",
      "          atrun       1.00      1.00      1.00       624\n",
      "            awk       1.00      1.00      1.00        10\n",
      "       basename        nan      0.00      0.00         3\n",
      "           bash       0.95      0.97      0.96     32051\n",
      "          bzcat       0.40      1.00      0.57         2\n",
      "          bzip2       1.00      1.00      1.00         2\n",
      "            cat       0.88      0.96      0.92        76\n",
      "         chkgrp        nan      0.00      0.00         3\n",
      "        cleanup       1.00      1.00      1.00       227\n",
      "            cmp       1.00      1.00      1.00        11\n",
      "             cp       1.00      1.00      1.00         2\n",
      "           cron       1.00      1.00      1.00      2036\n",
      "           date       1.00      1.00      1.00      3152\n",
      "             dd       1.00      1.00      1.00       341\n",
      "             df       0.60      1.00      0.75         3\n",
      "       dhclient        nan      0.00      0.00        26\n",
      "          dmesg       1.00      0.93      0.96        28\n",
      "          egrep       0.67      0.67      0.67         6\n",
      "           expr        nan      0.00      0.00         7\n",
      "           find       1.00      1.00      1.00        59\n",
      "        fortune       1.00      1.00      1.00       229\n",
      "           grep       1.00      0.50      0.67        10\n",
      "           head       1.00      1.00      1.00      3093\n",
      "       hostname       0.61      1.00      0.76        25\n",
      "          imapd       0.97      0.61      0.75      3822\n",
      "          inetd       1.00      1.00      1.00       825\n",
      "           kenv        nan      0.00      0.00         2\n",
      "           kill       1.00      1.00      1.00         4\n",
      "           less       1.00      0.50      0.67         2\n",
      "          links       1.00      1.00      1.00         6\n",
      "          local       1.00      1.00      1.00       564\n",
      "          lockf       1.00      0.75      0.86         8\n",
      "             ls       0.93      1.00      0.96        13\n",
      "           lsof       1.00      1.00      1.00      3020\n",
      "           mail       1.00      0.60      0.75         5\n",
      "    mailwrapper       1.00      1.00      1.00         9\n",
      "         master        nan      0.00      0.00      1738\n",
      "          mkdir       1.00      1.00      1.00        51\n",
      "         mktemp       1.00      1.00      1.00         9\n",
      "          mlock       1.00      1.00      1.00      1593\n",
      "          mount       1.00      0.88      0.93         8\n",
      "           msgs       1.00      1.00      1.00         2\n",
      "             mv       1.00      1.00      1.00      2201\n",
      "        netstat       0.99      0.97      0.98        77\n",
      "      newsyslog       0.98      0.96      0.97        46\n",
      "          nginx        nan      0.00      0.00         5\n",
      "         pickup        nan      0.00      0.00        37\n",
      "            pkg       0.97      0.80      0.88        35\n",
      "       proxymap       1.00      0.99      0.99       247\n",
      "             ps       0.31      1.00      0.48        15\n",
      "      python2.7        nan      0.00      0.00       178\n",
      "      resizewin       1.00      1.00      1.00       229\n",
      "             rm       1.00      0.56      0.72        94\n",
      "          route       1.00      1.00      1.00        16\n",
      "         screen        nan      0.00      0.00         2\n",
      "            sed       0.00      0.00      0.00         7\n",
      "       sendmail       0.98      0.98      0.98        65\n",
      "             sh       0.61      0.93      0.74      4646\n",
      "          sleep       1.00      1.00      1.00     12317\n",
      "          smtpd       1.00      1.00      1.00       348\n",
      "           sort       1.00      0.50      0.67         6\n",
      "           sshd       1.00      1.00      1.00      1156\n",
      "           sudo       0.82      1.00      0.90         9\n",
      "         sysctl       1.00      1.00      1.00       300\n",
      "            top       1.00      1.00      1.00      3089\n",
      "             tr       0.75      1.00      0.86         3\n",
      "trivial-rewrite       0.87      1.00      0.93       239\n",
      "            tty        nan      0.00      0.00         6\n",
      "         unlink       0.95      1.00      0.97       307\n",
      "         uptime       1.00      1.00      1.00        43\n",
      "         vmstat       1.00      1.00      1.00      6244\n",
      "             wc       0.88      1.00      0.94        15\n",
      "           wget        nan      0.00      0.00        34\n",
      "             xz        nan      0.00      0.00         1\n",
      "\n",
      "       accuracy                           0.94     86133\n",
      "      macro avg       0.92      0.75      0.74     86133\n",
      "   weighted avg       0.95      0.94      0.93     86133\n",
      "\n"
     ]
    },
    {
     "ename": "",
     "evalue": "",
     "output_type": "error",
     "traceback": [
      "\u001b[1;31mThe Kernel crashed while executing code in the current cell or a previous cell. \n",
      "\u001b[1;31mPlease review the code in the cell(s) to identify a possible cause of the failure. \n",
      "\u001b[1;31mClick <a href='https://aka.ms/vscodeJupyterKernelCrash'>here</a> for more info. \n",
      "\u001b[1;31mView Jupyter <a href='command:jupyter.viewOutput'>log</a> for further details."
     ]
    }
   ],
   "source": [
    "# print report\n",
    "predictions = model.predict(X_val)\n",
    "predictions = np.argmax(predictions, axis=1)\n",
    "y_val_argmax = np.argmax(y_val, axis=1)\n",
    "\n",
    "from sklearn.metrics import classification_report\n",
    "print(classification_report(y_val_argmax, predictions, target_names=distinct_labels, zero_division=np.nan))\n"
   ]
  }
 ],
 "metadata": {
  "kernelspec": {
   "display_name": "models",
   "language": "python",
   "name": "python3"
  },
  "language_info": {
   "codemirror_mode": {
    "name": "ipython",
    "version": 3
   },
   "file_extension": ".py",
   "mimetype": "text/x-python",
   "name": "python",
   "nbconvert_exporter": "python",
   "pygments_lexer": "ipython3",
   "version": "3.12.3"
  }
 },
 "nbformat": 4,
 "nbformat_minor": 2
}
