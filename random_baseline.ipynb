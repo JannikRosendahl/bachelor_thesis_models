{
 "cells": [
  {
   "cell_type": "code",
   "execution_count": 18,
   "metadata": {},
   "outputs": [],
   "source": [
    "import os\n",
    "import random\n",
    "from collections import Counter\n",
    "import numpy as np\n",
    "import pandas as pd\n",
    "import matplotlib.pyplot as plt\n",
    "cm = 1/2.54\n",
    "\n",
    "# force GPU device\n",
    "os.environ[\"CUDA_VISIBLE_DEVICES\"]='1'\n",
    "os.environ['TF_CPP_MIN_LOG_LEVEL'] = '2'\n",
    "import tensorflow as tf\n",
    "\n",
    "from keras.src.callbacks import EarlyStopping, ModelCheckpoint, ReduceLROnPlateau, CSVLogger\n",
    "from keras.src.layers import SimpleRNN, LSTM, Dense, Dropout, Bidirectional\n",
    "from keras import Sequential, Input\n",
    "from keras.optimizers import Adam\n",
    "from keras.models import load_model\n",
    "\n",
    "from sklearn.model_selection import train_test_split\n",
    "from sklearn.metrics import classification_report, confusion_matrix\n",
    "from sklearn.utils import shuffle\n",
    "\n",
    "import numpy as np\n",
    "import tensorflow as tf\n",
    "from tensorflow.keras.layers import Layer\n",
    "from tensorflow.keras.models import Model\n",
    "from tensorflow.keras import Input"
   ]
  },
  {
   "cell_type": "code",
   "execution_count": 19,
   "metadata": {},
   "outputs": [],
   "source": [
    "def class_from_filename(filename):\n",
    "    if filename.count('_') == 2:\n",
    "        label, _, _ = filename.split('_')\n",
    "    elif filename.count('_') == 3:\n",
    "        # pwd_mkdb\n",
    "        label, tmp, _, _ = filename.split('_')\n",
    "        label += '_' + tmp\n",
    "    else:\n",
    "        print(f'Unknown file name format: {filename}')\n",
    "        raise ValueError()\n",
    "    return label"
   ]
  },
  {
   "cell_type": "code",
   "execution_count": 20,
   "metadata": {},
   "outputs": [
    {
     "name": "stdout",
     "output_type": "stream",
     "text": [
      "experiment parameters: \n",
      "data_directory='/home/jrosendahl/datasets/cadets/sequences_export_benign_filetypes/' \n",
      "unusable_threshold=10 \n",
      "rare_threshold=50 \n",
      "splits=(0.7, 0.15, 0.15) \n",
      "max_sequence_length=100\n"
     ]
    }
   ],
   "source": [
    "data_directory = '/home/jrosendahl/datasets/cadets/sequences_export_benign_filetypes/'\n",
    "unusable_threshold = 10\n",
    "rare_threshold = 50\n",
    "splits = (0.7, 0.15, 0.15)\n",
    "\n",
    "max_sequence_length = 100\n",
    "\n",
    "assert(sum(splits) == 1)\n",
    "\n",
    "print(f'experiment parameters: \\n{data_directory=} \\n{unusable_threshold=} \\n{rare_threshold=} \\n{splits=} \\n{max_sequence_length=}')"
   ]
  },
  {
   "cell_type": "code",
   "execution_count": 21,
   "metadata": {},
   "outputs": [
    {
     "name": "stdout",
     "output_type": "stream",
     "text": [
      "Total classes: 118\n",
      "Unusable classes: 51\n",
      "\t['ping', 'pwd_mkdb', 'vi', 'tr', 'uname', 'msgs', 'screen', 'pw', 'bzip2', 'bzcat', 'nginx', 'stat', 'tail', 'smtp', 'kenv', 'nawk', 'ssh', 'chown', 'cut', 'php-fpm', 'jot', 'xz', 'diff', 'bounce', 'links', 'ipfw', 'touch', 'env', 'pfctl', 'minions', 'csh', 'kldstat', 'su', 'nohup', 'stty', 'df', 'limits', 'id', 'postmap', 'ifconfig', 'chkgrp', 'ipfstat', 'locale', 'devd', 'uniq', 'XIM', 'getty', 'which', 'init', 'test', 'nice']\n",
      "Rare classes: 20\n",
      "\t['wc', 'grep', 'mktemp', 'less', 'tty', 'mailwrapper', 'kill', 'lockf', 'mount', 'tee', 'expr', 'ps', 'route', 'sed', 'cmp', 'egrep', 'sort', 'basename', 'awk', 'mail']\n",
      "Usable classes: 67\n"
     ]
    }
   ],
   "source": [
    "total_classes = 0\n",
    "\n",
    "# unusable classes will be removed from the dataset\n",
    "unusable_classes = []\n",
    "# rare classes will be oversampled\n",
    "rare_classes = []\n",
    "\n",
    "# all classes in training data (all classes - unusable classes)\n",
    "classes = []\n",
    "\n",
    "# walk all files, build unusable_classes, rare_classes\n",
    "classes_occurrences = Counter()\n",
    "for filename in os.listdir(data_directory):\n",
    "    label = class_from_filename(filename)\n",
    "    classes_occurrences[label] += 1\n",
    "\n",
    "total_classes = len(classes_occurrences)\n",
    "for label, count in classes_occurrences.items():\n",
    "    if count < unusable_threshold:\n",
    "        unusable_classes.append(label)\n",
    "    elif count < rare_threshold:\n",
    "        rare_classes.append(label)\n",
    "        classes.append(label)\n",
    "    else:\n",
    "        classes.append(label)\n",
    "\n",
    "print(f'Total classes: {total_classes}')\n",
    "print(f'Unusable classes: {len(unusable_classes)}')\n",
    "print(f'\\t{unusable_classes}')\n",
    "print(f'Rare classes: {len(rare_classes)}')\n",
    "print(f'\\t{rare_classes}')\n",
    "\n",
    "labels_cardinality = len(set(classes))\n",
    "print(f'Usable classes: {labels_cardinality}')"
   ]
  },
  {
   "cell_type": "code",
   "execution_count": 22,
   "metadata": {},
   "outputs": [
    {
     "name": "stdout",
     "output_type": "stream",
     "text": [
      "Train: 150475\n",
      "Validation: 32245\n",
      "Test: 32245\n"
     ]
    }
   ],
   "source": [
    "# split into train, validation, test\n",
    "labels_set = set()\n",
    "\n",
    "filenames_all = []\n",
    "\n",
    "filenames_train = []\n",
    "filenames_val = []\n",
    "filenames_test = []\n",
    "\n",
    "for filename in os.listdir(data_directory):\n",
    "    label = class_from_filename(filename)\n",
    "    if label in unusable_classes:\n",
    "        continue\n",
    "    labels_set.add(label)\n",
    "    filenames_all.append(filename)\n",
    "\n",
    "# stratisfied split\n",
    "test_vs_val = splits[2] / (splits[1] + splits[2])\n",
    "filenames_train, filenames_val_test = train_test_split(filenames_all, test_size=splits[1]+splits[2], stratify=[class_from_filename(f) for f in filenames_all], random_state=42)\n",
    "filenames_val, filenames_test = train_test_split(filenames_val_test, test_size=test_vs_val, stratify=[class_from_filename(f) for f in filenames_val_test], random_state=42)\n",
    "\n",
    "print(f'Train: {len(filenames_train)}')\n",
    "print(f'Validation: {len(filenames_val)}')\n",
    "print(f'Test: {len(filenames_test)}')\n",
    "\n",
    "# build labels_map in alphabetical order\n",
    "labels_map = {}\n",
    "for i, label in enumerate(sorted(labels_set)):\n",
    "    labels_map[label] = i"
   ]
  },
  {
   "cell_type": "code",
   "execution_count": 23,
   "metadata": {},
   "outputs": [
    {
     "name": "stdout",
     "output_type": "stream",
     "text": [
      "Files read: 50000\n",
      "Files read: 100000\n",
      "Files read: 150000\n",
      "Files read: 200000\n",
      "Files read: 214965\n",
      "Sequences split: 22897\n",
      "Splits: 132960\n",
      "Event types: 29\n",
      "Users: 16\n",
      "Filetypes: 7\n",
      "Train: 247249\n",
      "Validation: 48541\n",
      "Test: 52084\n"
     ]
    }
   ],
   "source": [
    "# load data\n",
    "# in preparation, load all data and build sets of unique features for later one-hot encoding, simultaneously vectorize labels and features\n",
    "event_types_map = {}\n",
    "users_map = {}\n",
    "filetypes_map = {}\n",
    "\n",
    "def parse_line(line):\n",
    "    \"\"\"\n",
    "    Parse a line from the dataset and return the vectorized values. Not a pure function (builds distinct_* maps)!\n",
    "    \"\"\"\n",
    "    event, user, filetype1, filetype2 = line.strip().split(',')\n",
    "    # vectorize\n",
    "    event = event_types_map.setdefault(event, len(event_types_map))\n",
    "    user = users_map.setdefault(user, len(users_map))\n",
    "    filetype1 = filetypes_map.setdefault(filetype1, len(filetypes_map))\n",
    "    filetype2 = filetypes_map.setdefault(filetype2, len(filetypes_map))\n",
    "    return event, user, filetype1, filetype2\n",
    "\n",
    "count_files_read = 0\n",
    "count_sequences_split = 0\n",
    "count_splits = 0\n",
    "\n",
    "def parse_file(filename) -> tuple[list[int], list[list[int]]]:\n",
    "    \"\"\"\n",
    "    Parse a file and return the vectorized data. Not a pure function (calls parse_line)!\n",
    "    \"\"\"\n",
    "    global count_files_read, count_sequences_split, count_splits\n",
    "\n",
    "    y_list: list[int] = []\n",
    "    X_list: list[list[int]] = []\n",
    "    y = class_from_filename(filename)\n",
    "    y = labels_map[y]\n",
    "    with open(os.path.join(data_directory, filename), 'r') as f:\n",
    "        lines = f.readlines()\n",
    "        count_files_read += 1\n",
    "    if count_files_read % 50000 == 0:\n",
    "        print(f'Files read: {count_files_read}')\n",
    "    X = []\n",
    "    for line in lines:\n",
    "        event, _, _, _ = parse_line(line)\n",
    "        X.append((event,))\n",
    "\n",
    "    # check if sequence needs to be split\n",
    "    if len(X) > max_sequence_length:\n",
    "        count_sequences_split += 1\n",
    "        count_splits += len(X) // max_sequence_length\n",
    "        for i in range(0, len(X), max_sequence_length):\n",
    "            y_list.append(y)\n",
    "            X_list.append(X[i:i+max_sequence_length])\n",
    "    else:\n",
    "        y_list.append(y)\n",
    "        X_list.append(X)\n",
    "\n",
    "    # transform elements to numpy arrays\n",
    "    y_list = np.array(y_list)\n",
    "    X_list = [np.array(x) for x in X_list]\n",
    "\n",
    "    assert len(y_list) == len(X_list)\n",
    "    return y_list, X_list\n",
    "\n",
    "\n",
    "y_train = []\n",
    "X_train = []\n",
    "y_val = []\n",
    "X_val = []\n",
    "y_test = []\n",
    "X_test = []\n",
    "\n",
    "for filename in filenames_train:\n",
    "    y_list, X_list = parse_file(filename)\n",
    "    y_train.extend(y_list)\n",
    "    X_train.extend(X_list)\n",
    "\n",
    "for filename in filenames_val:\n",
    "    y_list, X_list = parse_file(filename)\n",
    "    y_val.extend(y_list)\n",
    "    X_val.extend(X_list)\n",
    "\n",
    "for filename in filenames_test:\n",
    "    y_list, X_list = parse_file(filename)\n",
    "    y_test.extend(y_list)\n",
    "    X_test.extend(X_list)\n",
    "\n",
    "assert len(X_train) == len(y_train)\n",
    "assert len(X_val) == len(y_val)\n",
    "assert len(X_test) == len(y_test)\n",
    "\n",
    "print(f'Files read: {count_files_read}')\n",
    "print(f'Sequences split: {count_sequences_split}')\n",
    "print(f'Splits: {count_splits}')\n",
    "\n",
    "event_types_cardinality = len(event_types_map)\n",
    "users_cardinality = len(users_map)\n",
    "filetypes_cardinality = len(filetypes_map)\n",
    "\n",
    "print(f'Event types: {event_types_cardinality}')\n",
    "print(f'Users: {users_cardinality}')\n",
    "print(f'Filetypes: {filetypes_cardinality}')\n",
    "\n",
    "# print lengths\n",
    "print(f'Train: {len(y_train)}')\n",
    "print(f'Validation: {len(y_val)}')\n",
    "print(f'Test: {len(y_test)}')"
   ]
  },
  {
   "cell_type": "code",
   "execution_count": 24,
   "metadata": {},
   "outputs": [],
   "source": [
    "# turn labels map into bidirectional map\n",
    "for k, v in labels_map.copy().items():\n",
    "    labels_map[v] = k\n",
    "\n",
    "# turn feature maps into bidirectional maps\n",
    "for k, v in event_types_map.copy().items():\n",
    "    event_types_map[v] = k\n",
    "\n",
    "for k, v in users_map.copy().items():\n",
    "    users_map[v] = k\n",
    "\n",
    "for k, v in filetypes_map.copy().items():\n",
    "    filetypes_map[v] = k"
   ]
  },
  {
   "cell_type": "code",
   "execution_count": 25,
   "metadata": {},
   "outputs": [],
   "source": [
    "experiment_type = 'equal_distribution'\n",
    "\n",
    "class_probabilities = []\n",
    "if experiment_type == 'equal_distribution':\n",
    "    # equal class distribution\n",
    "    class_probabilities = [1/labels_cardinality] * labels_cardinality\n",
    "else:\n",
    "    # class distribution\n",
    "    class_probabilities = []\n",
    "    for i in range(labels_cardinality):\n",
    "        class_probabilities.append(y_train.count(i) / len(y_train))\n",
    "\n",
    "assert sum(class_probabilities) == 1"
   ]
  },
  {
   "cell_type": "code",
   "execution_count": 26,
   "metadata": {},
   "outputs": [],
   "source": [
    "# one-hot encode labels\n",
    "y_train = np.eye(labels_cardinality)[y_train]\n",
    "y_val = np.eye(labels_cardinality)[y_val]\n",
    "y_test = np.eye(labels_cardinality)[y_test]"
   ]
  },
  {
   "cell_type": "code",
   "execution_count": 27,
   "metadata": {},
   "outputs": [],
   "source": [
    "# one-hot encode features\n",
    "# at this point, X_* are lists of tuples of vectorized features\n",
    "\n",
    "def encode_features(sequence: tuple) -> np.ndarray:\n",
    "    feature_event = sequence[0]\n",
    "    return np.eye(event_types_cardinality)[feature_event]\n",
    "\n",
    "X_train = [ encode_features(x) for x in X_train ]"
   ]
  },
  {
   "cell_type": "code",
   "execution_count": 28,
   "metadata": {},
   "outputs": [],
   "source": [
    "X_train, y_train = shuffle(X_train, y_train, random_state=42)\n",
    "X_val, y_val = shuffle(X_val, y_val, random_state=42)\n",
    "X_test, y_test = shuffle(X_test, y_test, random_state=42)"
   ]
  },
  {
   "cell_type": "code",
   "execution_count": 29,
   "metadata": {},
   "outputs": [],
   "source": [
    "feature_vector_cardinality = event_types_cardinality"
   ]
  },
  {
   "cell_type": "code",
   "execution_count": 30,
   "metadata": {},
   "outputs": [
    {
     "data": {
      "text/html": [
       "<pre style=\"white-space:pre;overflow-x:auto;line-height:normal;font-family:Menlo,'DejaVu Sans Mono',consolas,'Courier New',monospace\"><span style=\"font-weight: bold\">Model: \"functional_3\"</span>\n",
       "</pre>\n"
      ],
      "text/plain": [
       "\u001b[1mModel: \"functional_3\"\u001b[0m\n"
      ]
     },
     "metadata": {},
     "output_type": "display_data"
    },
    {
     "data": {
      "text/html": [
       "<pre style=\"white-space:pre;overflow-x:auto;line-height:normal;font-family:Menlo,'DejaVu Sans Mono',consolas,'Courier New',monospace\">┏━━━━━━━━━━━━━━━━━━━━━━━━━━━━━━━━━┳━━━━━━━━━━━━━━━━━━━━━━━━┳━━━━━━━━━━━━━━━┓\n",
       "┃<span style=\"font-weight: bold\"> Layer (type)                    </span>┃<span style=\"font-weight: bold\"> Output Shape           </span>┃<span style=\"font-weight: bold\">       Param # </span>┃\n",
       "┡━━━━━━━━━━━━━━━━━━━━━━━━━━━━━━━━━╇━━━━━━━━━━━━━━━━━━━━━━━━╇━━━━━━━━━━━━━━━┩\n",
       "│ input_layer_1 (<span style=\"color: #0087ff; text-decoration-color: #0087ff\">InputLayer</span>)      │ (<span style=\"color: #00d7ff; text-decoration-color: #00d7ff\">None</span>, <span style=\"color: #00d7ff; text-decoration-color: #00d7ff\">None</span>, <span style=\"color: #00af00; text-decoration-color: #00af00\">29</span>)       │             <span style=\"color: #00af00; text-decoration-color: #00af00\">0</span> │\n",
       "├─────────────────────────────────┼────────────────────────┼───────────────┤\n",
       "│ random_classifier_layer_1       │ (<span style=\"color: #00d7ff; text-decoration-color: #00d7ff\">None</span>, <span style=\"color: #00af00; text-decoration-color: #00af00\">67</span>)             │             <span style=\"color: #00af00; text-decoration-color: #00af00\">0</span> │\n",
       "│ (<span style=\"color: #0087ff; text-decoration-color: #0087ff\">RandomClassifierLayer</span>)         │                        │               │\n",
       "└─────────────────────────────────┴────────────────────────┴───────────────┘\n",
       "</pre>\n"
      ],
      "text/plain": [
       "┏━━━━━━━━━━━━━━━━━━━━━━━━━━━━━━━━━┳━━━━━━━━━━━━━━━━━━━━━━━━┳━━━━━━━━━━━━━━━┓\n",
       "┃\u001b[1m \u001b[0m\u001b[1mLayer (type)                   \u001b[0m\u001b[1m \u001b[0m┃\u001b[1m \u001b[0m\u001b[1mOutput Shape          \u001b[0m\u001b[1m \u001b[0m┃\u001b[1m \u001b[0m\u001b[1m      Param #\u001b[0m\u001b[1m \u001b[0m┃\n",
       "┡━━━━━━━━━━━━━━━━━━━━━━━━━━━━━━━━━╇━━━━━━━━━━━━━━━━━━━━━━━━╇━━━━━━━━━━━━━━━┩\n",
       "│ input_layer_1 (\u001b[38;5;33mInputLayer\u001b[0m)      │ (\u001b[38;5;45mNone\u001b[0m, \u001b[38;5;45mNone\u001b[0m, \u001b[38;5;34m29\u001b[0m)       │             \u001b[38;5;34m0\u001b[0m │\n",
       "├─────────────────────────────────┼────────────────────────┼───────────────┤\n",
       "│ random_classifier_layer_1       │ (\u001b[38;5;45mNone\u001b[0m, \u001b[38;5;34m67\u001b[0m)             │             \u001b[38;5;34m0\u001b[0m │\n",
       "│ (\u001b[38;5;33mRandomClassifierLayer\u001b[0m)         │                        │               │\n",
       "└─────────────────────────────────┴────────────────────────┴───────────────┘\n"
      ]
     },
     "metadata": {},
     "output_type": "display_data"
    },
    {
     "data": {
      "text/html": [
       "<pre style=\"white-space:pre;overflow-x:auto;line-height:normal;font-family:Menlo,'DejaVu Sans Mono',consolas,'Courier New',monospace\"><span style=\"font-weight: bold\"> Total params: </span><span style=\"color: #00af00; text-decoration-color: #00af00\">0</span> (0.00 B)\n",
       "</pre>\n"
      ],
      "text/plain": [
       "\u001b[1m Total params: \u001b[0m\u001b[38;5;34m0\u001b[0m (0.00 B)\n"
      ]
     },
     "metadata": {},
     "output_type": "display_data"
    },
    {
     "data": {
      "text/html": [
       "<pre style=\"white-space:pre;overflow-x:auto;line-height:normal;font-family:Menlo,'DejaVu Sans Mono',consolas,'Courier New',monospace\"><span style=\"font-weight: bold\"> Trainable params: </span><span style=\"color: #00af00; text-decoration-color: #00af00\">0</span> (0.00 B)\n",
       "</pre>\n"
      ],
      "text/plain": [
       "\u001b[1m Trainable params: \u001b[0m\u001b[38;5;34m0\u001b[0m (0.00 B)\n"
      ]
     },
     "metadata": {},
     "output_type": "display_data"
    },
    {
     "data": {
      "text/html": [
       "<pre style=\"white-space:pre;overflow-x:auto;line-height:normal;font-family:Menlo,'DejaVu Sans Mono',consolas,'Courier New',monospace\"><span style=\"font-weight: bold\"> Non-trainable params: </span><span style=\"color: #00af00; text-decoration-color: #00af00\">0</span> (0.00 B)\n",
       "</pre>\n"
      ],
      "text/plain": [
       "\u001b[1m Non-trainable params: \u001b[0m\u001b[38;5;34m0\u001b[0m (0.00 B)\n"
      ]
     },
     "metadata": {},
     "output_type": "display_data"
    }
   ],
   "source": [
    "class RandomClassifierLayer(Layer):\n",
    "    def __init__(self, num_features, num_classes, class_probabilities, **kwargs):\n",
    "        super(RandomClassifierLayer, self).__init__(**kwargs)\n",
    "        self.num_features = num_features\n",
    "        self.num_classes = num_classes\n",
    "        self.class_probabilities = class_probabilities\n",
    "\n",
    "    def call(self, inputs):\n",
    "        \"\"\"batch_size = tf.shape(inputs)[0]\n",
    "        random_probs = tf.random.uniform(shape=(batch_size, self.num_classes), minval=0, maxval=1)\n",
    "        random_probs = tf.nn.softmax(random_probs, axis=-1)\n",
    "        return random_probs\"\"\"\n",
    "        batch_size = tf.shape(inputs)[0]\n",
    "        # Draw one sample per instance\n",
    "        random_indices = tf.random.categorical(tf.math.log([self.class_probabilities]), num_samples=batch_size)\n",
    "        random_indices = tf.squeeze(random_indices, axis=0)  # Remove the num_samples dimension\n",
    "        random_probs = tf.one_hot(random_indices, depth=self.num_classes)\n",
    "        return random_probs\n",
    "\n",
    "def create_random_classifier(num_features, num_classes, class_probabilities):\n",
    "    inputs = Input(shape=(None, num_features,))  # Match RNN output shape\n",
    "    x = RandomClassifierLayer(num_features, num_classes, class_probabilities)(inputs)\n",
    "    model = Model(inputs=inputs, outputs=x)\n",
    "    return model\n",
    "\n",
    "\n",
    "# Example usage\n",
    "model = create_random_classifier(feature_vector_cardinality, labels_cardinality, class_probabilities)\n",
    "\n",
    "# Print model summary\n",
    "model.summary()\n",
    "\n",
    "# Compile model\n",
    "model.compile(optimizer='adam', loss='categorical_crossentropy', metrics=['accuracy'])"
   ]
  },
  {
   "cell_type": "code",
   "execution_count": 31,
   "metadata": {},
   "outputs": [],
   "source": [
    "class Generator(tf.keras.utils.Sequence):\n",
    "    def __init__(self, X, y, batch_size, fixed_length, **kwargs):\n",
    "        # valid **kwargs: workers, use_multiprocessing, max_queue_size\n",
    "        super().__init__()\n",
    "        self.X = X\n",
    "        self.y = y\n",
    "        self.batch_size = batch_size\n",
    "        self.fixed_length = fixed_length\n",
    "        self.no_samples = len(X)\n",
    "        self.no_batches = int(np.ceil(self.no_samples / self.batch_size))\n",
    "\n",
    "    def __len__(self):\n",
    "        return self.no_batches\n",
    "\n",
    "    def __getitem__(self, index):\n",
    "        start = index * self.batch_size\n",
    "        end = min(start + self.batch_size, self.no_samples)\n",
    "\n",
    "        # Get the batch data\n",
    "        X_batch = self.X[start:end]\n",
    "        y_batch = self.y[start:end]\n",
    "\n",
    "        # Pad or truncate each sequence in X_batch to the fixed length\n",
    "        X_batch_fixed = [self._pad_or_truncate(x, self.fixed_length) for x in X_batch]\n",
    "\n",
    "        # Convert to numpy arrays\n",
    "        X_batch_fixed = np.array(X_batch_fixed)\n",
    "        y_batch = np.array(y_batch)\n",
    "\n",
    "        return X_batch_fixed, y_batch\n",
    "\n",
    "    def _pad_or_truncate(self, sequence, length):\n",
    "        return np.pad(sequence, ((0, length - len(sequence)), (0, 0)), mode='constant', constant_values=0)\n",
    "\n",
    "    def on_epoch_end(self):\n",
    "        pass"
   ]
  },
  {
   "cell_type": "code",
   "execution_count": 32,
   "metadata": {},
   "outputs": [
    {
     "name": "stdout",
     "output_type": "stream",
     "text": [
      "\u001b[1m814/814\u001b[0m \u001b[32m━━━━━━━━━━━━━━━━━━━━\u001b[0m\u001b[37m\u001b[0m \u001b[1m8s\u001b[0m 8ms/step - accuracy: 0.1052 - loss: 14.4224\n",
      "Test loss: 14.40615177154541\n",
      "Test accuracy: 0.1062130406498909\n"
     ]
    }
   ],
   "source": [
    "# evaluate model\n",
    "score = model.evaluate(x=Generator(X_test, y_test, 64, max_sequence_length))\n",
    "print(f'Test loss: {score[0]}')\n",
    "print(f'Test accuracy: {score[1]}')"
   ]
  },
  {
   "cell_type": "code",
   "execution_count": 33,
   "metadata": {},
   "outputs": [
    {
     "name": "stdout",
     "output_type": "stream",
     "text": [
      "\u001b[1m814/814\u001b[0m \u001b[32m━━━━━━━━━━━━━━━━━━━━\u001b[0m\u001b[37m\u001b[0m \u001b[1m7s\u001b[0m 8ms/step\n",
      "                 precision    recall  f1-score   support\n",
      "\n",
      "      adjkerntz       0.00      0.00      0.00        11\n",
      "         alpine       0.00      0.00      0.00       560\n",
      "          anvil       0.01      0.01      0.01       378\n",
      "          atrun       0.00      0.00      0.00       237\n",
      "            awk       0.00      0.00      0.00         5\n",
      "       basename       0.00      0.00      0.00         2\n",
      "           bash       0.24      0.24      0.24     12512\n",
      "            cat       0.00      0.00      0.00        26\n",
      "        cleanup       0.00      0.00      0.00       276\n",
      "            cmp       0.00      0.00      0.00         5\n",
      "             cp       0.00      0.00      0.00        30\n",
      "           cron       0.01      0.01      0.01       624\n",
      "           date       0.02      0.02      0.02      1218\n",
      "             dd       0.00      0.00      0.00       125\n",
      "       dhclient       0.00      0.00      0.00        17\n",
      "          dmesg       0.00      0.00      0.00        15\n",
      "          egrep       0.00      0.00      0.00         2\n",
      "           expr       0.00      0.00      0.00         2\n",
      "           find       0.08      0.03      0.05      4006\n",
      "        fortune       0.00      0.00      0.00        91\n",
      "           grep       0.00      0.00      0.00         5\n",
      "           head       0.02      0.02      0.02      1219\n",
      "       hostname       0.00      0.00      0.00        10\n",
      "          imapd       0.04      0.04      0.04      2469\n",
      "          inetd       0.00      0.00      0.00       291\n",
      "           kill        nan      0.00      0.00         2\n",
      "           less       0.00      0.00      0.00         3\n",
      "          local       0.02      0.02      0.02       868\n",
      "          lockf       0.00      0.00      0.00         3\n",
      "             ls       0.00      0.00      0.00        12\n",
      "           lsof       0.16      0.16      0.16      8568\n",
      "           mail        nan      0.00      0.00         2\n",
      "    mailwrapper       0.00      0.00      0.00         3\n",
      "         master       0.01      0.01      0.01       580\n",
      "          mkdir       0.00      0.00      0.00        18\n",
      "         mktemp       0.00      0.00      0.00         6\n",
      "          mlock       0.01      0.01      0.01       506\n",
      "          mount       0.00      0.00      0.00         2\n",
      "             mv       0.02      0.02      0.02       860\n",
      "        netstat       0.00      0.00      0.00        58\n",
      "      newsyslog       0.00      0.00      0.00        18\n",
      "         pickup       0.00      0.00      0.00       143\n",
      "            pkg       0.04      0.02      0.02      1701\n",
      "       proxymap       0.00      0.00      0.00       331\n",
      "             ps       0.00      0.00      0.00         5\n",
      "      python2.7       0.02      0.12      0.03       841\n",
      "      resizewin       0.02      0.02      0.02        91\n",
      "             rm       0.00      0.00      0.00        36\n",
      "          route       0.00      0.00      0.00         7\n",
      "            sed       0.00      0.00      0.00         2\n",
      "       sendmail       0.00      0.00      0.00        21\n",
      "             sh       0.04      0.04      0.04      1987\n",
      "          sleep       0.09      0.08      0.09      4889\n",
      "          smtpd       0.02      0.02      0.02       818\n",
      "           sort       0.00      0.00      0.00         1\n",
      "           sshd       0.01      0.01      0.01       427\n",
      "           sudo       0.00      0.00      0.00        26\n",
      "         sysctl       0.00      0.00      0.00       129\n",
      "            tee       0.00      0.00      0.00         6\n",
      "            top       0.03      0.03      0.03      1913\n",
      "trivial-rewrite       0.01      0.01      0.01       377\n",
      "            tty       0.00      0.00      0.00         2\n",
      "         unlink       0.00      0.00      0.00       123\n",
      "         uptime       0.00      0.00      0.00        14\n",
      "         vmstat       0.05      0.05      0.05      2468\n",
      "             wc       0.00      0.00      0.00         7\n",
      "           wget       0.00      0.00      0.00        74\n",
      "\n",
      "       accuracy                           0.11     52084\n",
      "      macro avg       0.02      0.01      0.01     52084\n",
      "   weighted avg       0.11      0.11      0.11     52084\n",
      "\n"
     ]
    }
   ],
   "source": [
    "# print classification report\n",
    "y_pred = model.predict(x=Generator(X_test, y_test, 64, max_sequence_length))\n",
    "y_pred = np.argmax(y_pred, axis=1)\n",
    "y_true = np.argmax(y_test, axis=1)\n",
    "\n",
    "distinct_labels = [labels_map[i] for i in range(labels_cardinality)]\n",
    "\n",
    "print(classification_report(y_true, y_pred, target_names=distinct_labels, zero_division=np.nan))\n"
   ]
  },
  {
   "cell_type": "code",
   "execution_count": 34,
   "metadata": {},
   "outputs": [
    {
     "data": {
      "image/png": "[encoded data removed]",
      "text/plain": [
       "<Figure size 787.402x787.402 with 1 Axes>"
      ]
     },
     "metadata": {},
     "output_type": "display_data"
    }
   ],
   "source": [
    "# print confusion matrix\n",
    "# labels explicitly set, because current model may not predict all labels\n",
    "conf_matrix = confusion_matrix(y_true, y_pred, labels=range(labels_cardinality), normalize='true')\n",
    "\n",
    "# transform to percentage\n",
    "# conf_matrix = conf_matrix / conf_matrix.sum(axis=1)[:, np.newaxis]\n",
    "\n",
    "# replace all NaN values with 0\n",
    "conf_matrix = np.nan_to_num(conf_matrix)\n",
    "\n",
    "fig, ax = plt.subplots(figsize=(20*cm, 20*cm))\n",
    "\n",
    "ax.matshow(conf_matrix, cmap='cividis', aspect='auto')\n",
    "\n",
    "# Set class names on axes\n",
    "ax.set_xticks(range(len(distinct_labels)))\n",
    "ax.set_yticks(range(len(distinct_labels)))\n",
    "ax.set_xticklabels(distinct_labels, rotation=90, fontsize=8)\n",
    "ax.set_yticklabels(distinct_labels, fontsize=8)\n",
    "\n",
    "# set axis labels \"predicted\" and \"actual\"\n",
    "ax.set_xlabel('predicted label')\n",
    "ax.set_ylabel('true label')\n",
    "# y axis label right side\n",
    "ax.yaxis.set_label_position('right')\n",
    "\n",
    "checkpoint_path = 'saves/baseline'\n",
    "if not os.path.exists(checkpoint_path):\n",
    "    os.makedirs(checkpoint_path)\n",
    "\n",
    "# set figsize\n",
    "plt.savefig(f'{checkpoint_path}/{experiment_type}_confusion_matrix.svg')\n",
    "plt.show()"
   ]
  }
 ],
 "metadata": {
  "kernelspec": {
   "display_name": "models",
   "language": "python",
   "name": "python3"
  },
  "language_info": {
   "codemirror_mode": {
    "name": "ipython",
    "version": 3
   },
   "file_extension": ".py",
   "mimetype": "text/x-python",
   "name": "python",
   "nbconvert_exporter": "python",
   "pygments_lexer": "ipython3",
   "version": "3.12.3"
  }
 },
 "nbformat": 4,
 "nbformat_minor": 2
}
