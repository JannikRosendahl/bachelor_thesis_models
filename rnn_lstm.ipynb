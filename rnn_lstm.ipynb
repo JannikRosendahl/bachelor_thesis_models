{
 "cells": [
  {
   "cell_type": "code",
   "execution_count": 1,
   "metadata": {},
   "outputs": [
    {
     "name": "stderr",
     "output_type": "stream",
     "text": [
      "2024-06-24 15:36:37.319329: I tensorflow/core/platform/cpu_feature_guard.cc:210] This TensorFlow binary is optimized to use available CPU instructions in performance-critical operations.\n",
      "To enable the following instructions: AVX2 AVX512F FMA, in other operations, rebuild TensorFlow with the appropriate compiler flags.\n",
      "2024-06-24 15:36:38.252767: W tensorflow/compiler/tf2tensorrt/utils/py_utils.cc:38] TF-TRT Warning: Could not find TensorRT\n"
     ]
    }
   ],
   "source": [
    "import os\n",
    "import random\n",
    "import numpy as np\n",
    "import pandas as pd\n",
    "import matplotlib.pyplot as plt\n",
    "\n",
    "# force GPU device\n",
    "os.environ[\"CUDA_VISIBLE_DEVICES\"]='1'\n",
    "# os.environ['TF_CPP_MIN_LOG_LEVEL'] = '2'\n",
    "import tensorflow as tf\n",
    "\n",
    "from keras.src.callbacks import EarlyStopping, ModelCheckpoint, ReduceLROnPlateau, CSVLogger\n",
    "from keras.src.layers import SimpleRNN, LSTM, Dense, Dropout\n",
    "from keras.optimizers import Adam\n",
    "from keras.models import load_model\n",
    "from keras import Sequential, Input"
   ]
  },
  {
   "cell_type": "code",
   "execution_count": 2,
   "metadata": {},
   "outputs": [],
   "source": [
    "checkpoint_path = 'saves/lstm_200'\n",
    "model_path = f'{checkpoint_path}/model.keras'\n",
    "log_path = f'{checkpoint_path}/log.csv'\n",
    "history_path = f'{checkpoint_path}/history.npy'\n",
    "\n",
    "# ensure directory exists\n",
    "if not os.path.exists(checkpoint_path):\n",
    "    os.makedirs(checkpoint_path)"
   ]
  },
  {
   "cell_type": "markdown",
   "metadata": {},
   "source": [
    "load data from csv"
   ]
  },
  {
   "cell_type": "code",
   "execution_count": 3,
   "metadata": {},
   "outputs": [],
   "source": [
    "max_sequence_length = 200"
   ]
  },
  {
   "cell_type": "code",
   "execution_count": 5,
   "metadata": {},
   "outputs": [
    {
     "name": "stdout",
     "output_type": "stream",
     "text": [
      "Loaded 50000 sequences\n",
      "Loaded 100000 sequences\n",
      "Loaded 150000 sequences\n",
      "Loaded 200000 sequences\n",
      "Loaded 250000 sequences\n",
      "Loaded 300000 sequences\n",
      "Loaded 350000 sequences\n",
      "Loaded 400000 sequences\n",
      "Loaded 581527 sequences\n",
      "Found 31324 sequences longer than max_sequence_length (200)\n",
      "Split them into 181988 sequences\n",
      "Filtered out datapoints with less than 10 occurrences\n",
      "Left with 581527 datapoints\n"
     ]
    }
   ],
   "source": [
    "data_directory = '/home/jrosendahl/datasets/cadets/sequences/'\n",
    "\n",
    "data = []\n",
    "\n",
    "labels = None\n",
    "no_labels = None\n",
    "\n",
    "distinct_features = [\n",
    "'EVENT_ACCEPT', 'EVENT_BIND', 'EVENT_CHANGE_PRINCIPAL', 'EVENT_CLOSE', 'EVENT_CONNECT', 'EVENT_CREATE_OBJECT', 'EVENT_EXECUTE', 'EVENT_EXIT', 'EVENT_FCNTL', 'EVENT_FORK', 'EVENT_LINK', 'EVENT_LOGIN', 'EVENT_LSEEK', 'EVENT_MMAP', 'EVENT_MODIFY_FILE_ATTRIBUTES', 'EVENT_MODIFY_PROCESS', 'EVENT_MPROTECT', 'EVENT_OPEN', 'EVENT_OTHER', 'EVENT_READ', 'EVENT_RECVFROM', 'EVENT_RECVMSG', 'EVENT_RENAME', 'EVENT_SENDMSG', 'EVENT_SENDTO', 'EVENT_SIGNAL', 'EVENT_TRUNCATE', 'EVENT_UNLINK', 'EVENT_WRITE', \n",
    "]\n",
    "distinct_features = [ x[6:] for x in distinct_features ]\n",
    "no_features = len(distinct_features)\n",
    "\n",
    "count = 0\n",
    "count_long_sequences_splitted = 0\n",
    "count_long_sequences_splitted_result = 0\n",
    "for file_name in os.listdir(data_directory):\n",
    "    count += 1\n",
    "    if count % 50000 == 0:\n",
    "        print(f'Loaded {count} sequences')\n",
    "    with open(data_directory + file_name, 'r') as f:\n",
    "        label = file_name.split('_')[0]\n",
    "        # build dictionary with counts of events\n",
    "        lines = f.readlines()\n",
    "        # if sequence is longer than max_sequence_length, split into multiple sequences\n",
    "        if len(lines) > max_sequence_length:\n",
    "            count_long_sequences_splitted += 1\n",
    "            for i in range(0, len(lines), max_sequence_length):\n",
    "                count_long_sequences_splitted_result += 1\n",
    "                datapoints = []\n",
    "                for event in lines[i:i+max_sequence_length]:\n",
    "                    event = event.strip()\n",
    "                    datapoints.append(distinct_features.index(event))\n",
    "                data.append((label, datapoints))\n",
    "        else:\n",
    "            datapoints = []\n",
    "            for event in lines:\n",
    "                event = event.strip()\n",
    "                datapoints.append(distinct_features.index(event))\n",
    "            data.append((label, datapoints))\n",
    "\n",
    "        \"\"\"\n",
    "        datapoints = []\n",
    "        for event in f:\n",
    "            event = event.strip()\n",
    "            datapoints.append(distinct_features.index(event))\n",
    "        if not len(datapoints) > max_sequence_length:\n",
    "            data.append((label, datapoints))\n",
    "        \"\"\"\n",
    "\n",
    "print(f'Loaded {len(data)} sequences')\n",
    "print(f'Found {count_long_sequences_splitted} sequences longer than max_sequence_length ({max_sequence_length})')\n",
    "print(f'Split them into {count_long_sequences_splitted_result} sequences')\n",
    "\n",
    "print(f'Filtered out datapoints with less than 10 occurrences')\n",
    "print(f'Left with {len(data)} datapoints')\n",
    "\n",
    "random.shuffle(data)\n",
    "labels = [ x[0] for x in data ]\n",
    "data = [ x[1] for x in data ]"
   ]
  },
  {
   "cell_type": "code",
   "execution_count": 6,
   "metadata": {},
   "outputs": [
    {
     "name": "stdout",
     "output_type": "stream",
     "text": [
      "Found 135 distinct labels\n",
      "Found 29 distinct features\n",
      "Encoded labels to integers\n",
      "Encoded labels to one-hot\n",
      "Encoded sequences to one-hot\n"
     ]
    }
   ],
   "source": [
    "distinct_labels = np.unique(np.array(labels))\n",
    "no_labels = len(distinct_labels)\n",
    "print(f'Found {no_labels} distinct labels')\n",
    "\n",
    "# get distinct features\n",
    "print(f'Found {no_features} distinct features')\n",
    "\n",
    "# encode labels from strings to integers to one-hot\n",
    "# labels = np.eye(no_labels)[np.vectorize(distinct_labels.tolist().index)(labels)]\n",
    "# encode labels to integers\n",
    "labels = np.vectorize(distinct_labels.tolist().index)(labels)\n",
    "print(f'Encoded labels to integers')\n",
    "# encode labels to one-hot\n",
    "labels = np.eye(no_labels)[labels]\n",
    "print(f'Encoded labels to one-hot')\n",
    "\n",
    "# encode sequences from list of integers to list of one-hot\n",
    "data = [ np.eye(no_features)[x] for x in data ]\n",
    "print(f'Encoded sequences to one-hot')\n",
    "\n",
    "# get pad event to pad sequences with when batches are built\n",
    "pad_event = np.zeros(no_features)"
   ]
  },
  {
   "cell_type": "code",
   "execution_count": 7,
   "metadata": {},
   "outputs": [
    {
     "name": "stdout",
     "output_type": "stream",
     "text": [
      "data length: 581527\n",
      "labels shape: (581527, 135)\n"
     ]
    }
   ],
   "source": [
    "print(f'data length: {len(data)}')\n",
    "print(f'labels shape: {labels.shape}')"
   ]
  },
  {
   "cell_type": "markdown",
   "metadata": {},
   "source": [
    "prepare data + generator"
   ]
  },
  {
   "cell_type": "code",
   "execution_count": 8,
   "metadata": {},
   "outputs": [
    {
     "name": "stdout",
     "output_type": "stream",
     "text": [
      "Training on 465221 samples\n",
      "Validating on 116306 samples\n"
     ]
    }
   ],
   "source": [
    "# split data into training and validation\n",
    "split = int(len(data) * 0.8)\n",
    "\n",
    "X_train = data[:split]\n",
    "y_train = np.array(labels[:split])\n",
    "\n",
    "X_val = data[split:]\n",
    "y_val = np.array(labels[split:])\n",
    "\n",
    "print(f'Training on {len(X_train)} samples')\n",
    "print(f'Validating on {len(X_val)} samples')"
   ]
  },
  {
   "cell_type": "code",
   "execution_count": 9,
   "metadata": {},
   "outputs": [],
   "source": [
    "class Generator(tf.keras.utils.Sequence):\n",
    "    def __init__(self, X, y, batch_size, fixed_length, **kwargs):\n",
    "        # valid **kwargs: workers, use_multiprocessing, max_queue_size\n",
    "        super().__init__()\n",
    "        self.X = X\n",
    "        self.y = y\n",
    "        self.batch_size = batch_size\n",
    "        self.fixed_length = fixed_length\n",
    "        self.no_samples = len(X)\n",
    "        self.no_batches = int(np.ceil(self.no_samples / self.batch_size))\n",
    "\n",
    "    def __len__(self):\n",
    "        return self.no_batches\n",
    "\n",
    "    def __getitem__(self, index):\n",
    "        start = index * self.batch_size\n",
    "        end = min(start + self.batch_size, self.no_samples)\n",
    "\n",
    "        # Get the batch data\n",
    "        X_batch = self.X[start:end]\n",
    "        y_batch = self.y[start:end]\n",
    "\n",
    "        # Pad or truncate each sequence in X_batch to the fixed length\n",
    "        X_batch_fixed = [self._pad_or_truncate(x, self.fixed_length) for x in X_batch]\n",
    "\n",
    "        # Convert to numpy arrays\n",
    "        X_batch_fixed = np.array(X_batch_fixed)\n",
    "        y_batch = np.array(y_batch)\n",
    "\n",
    "        return X_batch_fixed, y_batch\n",
    "\n",
    "    def _pad_or_truncate(self, sequence, length):\n",
    "        if len(sequence) < length:\n",
    "            # Pad sequence with zeros to the fixed length\n",
    "            return np.pad(sequence, ((0, length - len(sequence)), (0, 0)), mode='constant', constant_values=0)\n",
    "        else:\n",
    "            # Truncate sequence to the fixed length\n",
    "            return sequence[:length]\n",
    "\n",
    "    def on_epoch_end(self):\n",
    "        pass"
   ]
  },
  {
   "cell_type": "markdown",
   "metadata": {},
   "source": [
    "build model"
   ]
  },
  {
   "cell_type": "code",
   "execution_count": 13,
   "metadata": {},
   "outputs": [
    {
     "name": "stderr",
     "output_type": "stream",
     "text": [
      "2024-06-20 14:39:37.562809: I tensorflow/core/common_runtime/gpu/gpu_device.cc:1928] Created device /job:localhost/replica:0/task:0/device:GPU:0 with 9655 MB memory:  -> device: 0, name: NVIDIA GeForce RTX 2080 Ti, pci bus id: 0000:65:00.0, compute capability: 7.5\n"
     ]
    },
    {
     "data": {
      "text/html": [
       "<pre style=\"white-space:pre;overflow-x:auto;line-height:normal;font-family:Menlo,'DejaVu Sans Mono',consolas,'Courier New',monospace\"><span style=\"font-weight: bold\">Model: \"sequential\"</span>\n",
       "</pre>\n"
      ],
      "text/plain": [
       "\u001b[1mModel: \"sequential\"\u001b[0m\n"
      ]
     },
     "metadata": {},
     "output_type": "display_data"
    },
    {
     "data": {
      "text/html": [
       "<pre style=\"white-space:pre;overflow-x:auto;line-height:normal;font-family:Menlo,'DejaVu Sans Mono',consolas,'Courier New',monospace\">┏━━━━━━━━━━━━━━━━━━━━━━━━━━━━━━━━━┳━━━━━━━━━━━━━━━━━━━━━━━━┳━━━━━━━━━━━━━━━┓\n",
       "┃<span style=\"font-weight: bold\"> Layer (type)                    </span>┃<span style=\"font-weight: bold\"> Output Shape           </span>┃<span style=\"font-weight: bold\">       Param # </span>┃\n",
       "┡━━━━━━━━━━━━━━━━━━━━━━━━━━━━━━━━━╇━━━━━━━━━━━━━━━━━━━━━━━━╇━━━━━━━━━━━━━━━┩\n",
       "│ lstm (<span style=\"color: #0087ff; text-decoration-color: #0087ff\">LSTM</span>)                     │ (<span style=\"color: #00d7ff; text-decoration-color: #00d7ff\">None</span>, <span style=\"color: #00d7ff; text-decoration-color: #00d7ff\">None</span>, <span style=\"color: #00af00; text-decoration-color: #00af00\">64</span>)       │        <span style=\"color: #00af00; text-decoration-color: #00af00\">24,064</span> │\n",
       "├─────────────────────────────────┼────────────────────────┼───────────────┤\n",
       "│ lstm_1 (<span style=\"color: #0087ff; text-decoration-color: #0087ff\">LSTM</span>)                   │ (<span style=\"color: #00d7ff; text-decoration-color: #00d7ff\">None</span>, <span style=\"color: #00d7ff; text-decoration-color: #00d7ff\">None</span>, <span style=\"color: #00af00; text-decoration-color: #00af00\">64</span>)       │        <span style=\"color: #00af00; text-decoration-color: #00af00\">33,024</span> │\n",
       "├─────────────────────────────────┼────────────────────────┼───────────────┤\n",
       "│ lstm_2 (<span style=\"color: #0087ff; text-decoration-color: #0087ff\">LSTM</span>)                   │ (<span style=\"color: #00d7ff; text-decoration-color: #00d7ff\">None</span>, <span style=\"color: #00af00; text-decoration-color: #00af00\">64</span>)             │        <span style=\"color: #00af00; text-decoration-color: #00af00\">33,024</span> │\n",
       "├─────────────────────────────────┼────────────────────────┼───────────────┤\n",
       "│ dense (<span style=\"color: #0087ff; text-decoration-color: #0087ff\">Dense</span>)                   │ (<span style=\"color: #00d7ff; text-decoration-color: #00d7ff\">None</span>, <span style=\"color: #00af00; text-decoration-color: #00af00\">64</span>)             │         <span style=\"color: #00af00; text-decoration-color: #00af00\">4,160</span> │\n",
       "├─────────────────────────────────┼────────────────────────┼───────────────┤\n",
       "│ dense_1 (<span style=\"color: #0087ff; text-decoration-color: #0087ff\">Dense</span>)                 │ (<span style=\"color: #00d7ff; text-decoration-color: #00d7ff\">None</span>, <span style=\"color: #00af00; text-decoration-color: #00af00\">135</span>)            │         <span style=\"color: #00af00; text-decoration-color: #00af00\">8,775</span> │\n",
       "└─────────────────────────────────┴────────────────────────┴───────────────┘\n",
       "</pre>\n"
      ],
      "text/plain": [
       "┏━━━━━━━━━━━━━━━━━━━━━━━━━━━━━━━━━┳━━━━━━━━━━━━━━━━━━━━━━━━┳━━━━━━━━━━━━━━━┓\n",
       "┃\u001b[1m \u001b[0m\u001b[1mLayer (type)                   \u001b[0m\u001b[1m \u001b[0m┃\u001b[1m \u001b[0m\u001b[1mOutput Shape          \u001b[0m\u001b[1m \u001b[0m┃\u001b[1m \u001b[0m\u001b[1m      Param #\u001b[0m\u001b[1m \u001b[0m┃\n",
       "┡━━━━━━━━━━━━━━━━━━━━━━━━━━━━━━━━━╇━━━━━━━━━━━━━━━━━━━━━━━━╇━━━━━━━━━━━━━━━┩\n",
       "│ lstm (\u001b[38;5;33mLSTM\u001b[0m)                     │ (\u001b[38;5;45mNone\u001b[0m, \u001b[38;5;45mNone\u001b[0m, \u001b[38;5;34m64\u001b[0m)       │        \u001b[38;5;34m24,064\u001b[0m │\n",
       "├─────────────────────────────────┼────────────────────────┼───────────────┤\n",
       "│ lstm_1 (\u001b[38;5;33mLSTM\u001b[0m)                   │ (\u001b[38;5;45mNone\u001b[0m, \u001b[38;5;45mNone\u001b[0m, \u001b[38;5;34m64\u001b[0m)       │        \u001b[38;5;34m33,024\u001b[0m │\n",
       "├─────────────────────────────────┼────────────────────────┼───────────────┤\n",
       "│ lstm_2 (\u001b[38;5;33mLSTM\u001b[0m)                   │ (\u001b[38;5;45mNone\u001b[0m, \u001b[38;5;34m64\u001b[0m)             │        \u001b[38;5;34m33,024\u001b[0m │\n",
       "├─────────────────────────────────┼────────────────────────┼───────────────┤\n",
       "│ dense (\u001b[38;5;33mDense\u001b[0m)                   │ (\u001b[38;5;45mNone\u001b[0m, \u001b[38;5;34m64\u001b[0m)             │         \u001b[38;5;34m4,160\u001b[0m │\n",
       "├─────────────────────────────────┼────────────────────────┼───────────────┤\n",
       "│ dense_1 (\u001b[38;5;33mDense\u001b[0m)                 │ (\u001b[38;5;45mNone\u001b[0m, \u001b[38;5;34m135\u001b[0m)            │         \u001b[38;5;34m8,775\u001b[0m │\n",
       "└─────────────────────────────────┴────────────────────────┴───────────────┘\n"
      ]
     },
     "metadata": {},
     "output_type": "display_data"
    },
    {
     "data": {
      "text/html": [
       "<pre style=\"white-space:pre;overflow-x:auto;line-height:normal;font-family:Menlo,'DejaVu Sans Mono',consolas,'Courier New',monospace\"><span style=\"font-weight: bold\"> Total params: </span><span style=\"color: #00af00; text-decoration-color: #00af00\">103,047</span> (402.53 KB)\n",
       "</pre>\n"
      ],
      "text/plain": [
       "\u001b[1m Total params: \u001b[0m\u001b[38;5;34m103,047\u001b[0m (402.53 KB)\n"
      ]
     },
     "metadata": {},
     "output_type": "display_data"
    },
    {
     "data": {
      "text/html": [
       "<pre style=\"white-space:pre;overflow-x:auto;line-height:normal;font-family:Menlo,'DejaVu Sans Mono',consolas,'Courier New',monospace\"><span style=\"font-weight: bold\"> Trainable params: </span><span style=\"color: #00af00; text-decoration-color: #00af00\">103,047</span> (402.53 KB)\n",
       "</pre>\n"
      ],
      "text/plain": [
       "\u001b[1m Trainable params: \u001b[0m\u001b[38;5;34m103,047\u001b[0m (402.53 KB)\n"
      ]
     },
     "metadata": {},
     "output_type": "display_data"
    },
    {
     "data": {
      "text/html": [
       "<pre style=\"white-space:pre;overflow-x:auto;line-height:normal;font-family:Menlo,'DejaVu Sans Mono',consolas,'Courier New',monospace\"><span style=\"font-weight: bold\"> Non-trainable params: </span><span style=\"color: #00af00; text-decoration-color: #00af00\">0</span> (0.00 B)\n",
       "</pre>\n"
      ],
      "text/plain": [
       "\u001b[1m Non-trainable params: \u001b[0m\u001b[38;5;34m0\u001b[0m (0.00 B)\n"
      ]
     },
     "metadata": {},
     "output_type": "display_data"
    }
   ],
   "source": [
    "model = Sequential(layers=[\n",
    "    Input(shape=(None, no_features)),\n",
    "    LSTM(64, return_sequences=True),\n",
    "    LSTM(64, return_sequences=True),\n",
    "    LSTM(64, return_sequences=False),\n",
    "    Dense(64, activation='relu'),\n",
    "    Dense(no_labels, activation='softmax')\n",
    "])\n",
    "\n",
    "model.summary()"
   ]
  },
  {
   "cell_type": "code",
   "execution_count": 14,
   "metadata": {},
   "outputs": [],
   "source": [
    "early_stop = EarlyStopping(\n",
    "    monitor='val_loss',\n",
    "    patience=5,\n",
    "    verbose=1,\n",
    "    mode='auto'\n",
    ")\n",
    "\n",
    "model_checkpoint = ModelCheckpoint(\n",
    "    filepath=model_path,\n",
    "    monitor='val_loss',\n",
    "    save_best_only=True,\n",
    "    verbose=1\n",
    ")\n",
    "\n",
    "lr_schedule = ReduceLROnPlateau(\n",
    "    monitor='loss', \n",
    "    factor=0.5, \n",
    "    patience=2, \n",
    "    min_lr=1e-7\n",
    ")\n",
    "\n",
    "csv_logger = CSVLogger(\n",
    "    filename=log_path,\n",
    "    append=True\n",
    ")\n",
    "\n",
    "optimizer = Adam(learning_rate=0.0001)\n",
    "\n",
    "\n",
    "# 'categorical_focal_crossentropy'\n",
    "# 'categorical_crossentropy'\n",
    "model.compile(optimizer=optimizer, loss='categorical_focal_crossentropy', metrics=['accuracy'])"
   ]
  },
  {
   "cell_type": "markdown",
   "metadata": {},
   "source": [
    "train model"
   ]
  },
  {
   "cell_type": "code",
   "execution_count": 15,
   "metadata": {},
   "outputs": [],
   "source": [
    "# load old model\n",
    "# model = load_model(f'{checkpoint_path}/rnn.keras')"
   ]
  },
  {
   "cell_type": "code",
   "execution_count": 16,
   "metadata": {},
   "outputs": [
    {
     "name": "stdout",
     "output_type": "stream",
     "text": [
      "Epoch 1/100\n"
     ]
    },
    {
     "name": "stderr",
     "output_type": "stream",
     "text": [
      "2024-06-20 14:39:40.764838: I external/local_xla/xla/stream_executor/cuda/cuda_dnn.cc:465] Loaded cuDNN version 8902\n"
     ]
    },
    {
     "name": "stdout",
     "output_type": "stream",
     "text": [
      "\u001b[1m7269/7270\u001b[0m \u001b[32m━━━━━━━━━━━━━━━━━━━\u001b[0m\u001b[37m━\u001b[0m \u001b[1m0s\u001b[0m 29ms/step - accuracy: 0.4428 - loss: 0.5067\n",
      "Epoch 1: val_loss improved from inf to 0.22800, saving model to saves/lstm_200/model.keras\n",
      "\u001b[1m7270/7270\u001b[0m \u001b[32m━━━━━━━━━━━━━━━━━━━━\u001b[0m\u001b[37m\u001b[0m \u001b[1m259s\u001b[0m 35ms/step - accuracy: 0.4429 - loss: 0.5066 - val_accuracy: 0.6754 - val_loss: 0.2280 - learning_rate: 1.0000e-04\n",
      "Epoch 2/100\n",
      "\u001b[1m7269/7270\u001b[0m \u001b[32m━━━━━━━━━━━━━━━━━━━\u001b[0m\u001b[37m━\u001b[0m \u001b[1m0s\u001b[0m 29ms/step - accuracy: 0.7345 - loss: 0.1742\n",
      "Epoch 2: val_loss improved from 0.22800 to 0.15885, saving model to saves/lstm_200/model.keras\n",
      "\u001b[1m7270/7270\u001b[0m \u001b[32m━━━━━━━━━━━━━━━━━━━━\u001b[0m\u001b[37m\u001b[0m \u001b[1m254s\u001b[0m 35ms/step - accuracy: 0.7345 - loss: 0.1742 - val_accuracy: 0.7583 - val_loss: 0.1588 - learning_rate: 1.0000e-04\n",
      "Epoch 3/100\n",
      "\u001b[1m7270/7270\u001b[0m \u001b[32m━━━━━━━━━━━━━━━━━━━━\u001b[0m\u001b[37m\u001b[0m \u001b[1m0s\u001b[0m 29ms/step - accuracy: 0.7434 - loss: 0.1703\n",
      "Epoch 3: val_loss improved from 0.15885 to 0.09854, saving model to saves/lstm_200/model.keras\n",
      "\u001b[1m7270/7270\u001b[0m \u001b[32m━━━━━━━━━━━━━━━━━━━━\u001b[0m\u001b[37m\u001b[0m \u001b[1m252s\u001b[0m 35ms/step - accuracy: 0.7434 - loss: 0.1703 - val_accuracy: 0.8262 - val_loss: 0.0985 - learning_rate: 1.0000e-04\n",
      "Epoch 4/100\n",
      "\u001b[1m7270/7270\u001b[0m \u001b[32m━━━━━━━━━━━━━━━━━━━━\u001b[0m\u001b[37m\u001b[0m \u001b[1m0s\u001b[0m 29ms/step - accuracy: 0.8118 - loss: 0.1157\n",
      "Epoch 4: val_loss improved from 0.09854 to 0.07745, saving model to saves/lstm_200/model.keras\n",
      "\u001b[1m7270/7270\u001b[0m \u001b[32m━━━━━━━━━━━━━━━━━━━━\u001b[0m\u001b[37m\u001b[0m \u001b[1m254s\u001b[0m 35ms/step - accuracy: 0.8118 - loss: 0.1157 - val_accuracy: 0.8492 - val_loss: 0.0775 - learning_rate: 1.0000e-04\n",
      "Epoch 5/100\n",
      "\u001b[1m7268/7270\u001b[0m \u001b[32m━━━━━━━━━━━━━━━━━━━\u001b[0m\u001b[37m━\u001b[0m \u001b[1m0s\u001b[0m 29ms/step - accuracy: 0.8332 - loss: 0.0918\n",
      "Epoch 5: val_loss improved from 0.07745 to 0.05807, saving model to saves/lstm_200/model.keras\n",
      "\u001b[1m7270/7270\u001b[0m \u001b[32m━━━━━━━━━━━━━━━━━━━━\u001b[0m\u001b[37m\u001b[0m \u001b[1m259s\u001b[0m 36ms/step - accuracy: 0.8332 - loss: 0.0918 - val_accuracy: 0.8924 - val_loss: 0.0581 - learning_rate: 1.0000e-04\n",
      "Epoch 6/100\n",
      "\u001b[1m7269/7270\u001b[0m \u001b[32m━━━━━━━━━━━━━━━━━━━\u001b[0m\u001b[37m━\u001b[0m \u001b[1m0s\u001b[0m 29ms/step - accuracy: 0.8916 - loss: 0.0582\n",
      "Epoch 6: val_loss improved from 0.05807 to 0.05198, saving model to saves/lstm_200/model.keras\n",
      "\u001b[1m7270/7270\u001b[0m \u001b[32m━━━━━━━━━━━━━━━━━━━━\u001b[0m\u001b[37m\u001b[0m \u001b[1m259s\u001b[0m 36ms/step - accuracy: 0.8916 - loss: 0.0582 - val_accuracy: 0.8990 - val_loss: 0.0520 - learning_rate: 1.0000e-04\n",
      "Epoch 7/100\n",
      "\u001b[1m7269/7270\u001b[0m \u001b[32m━━━━━━━━━━━━━━━━━━━\u001b[0m\u001b[37m━\u001b[0m \u001b[1m0s\u001b[0m 30ms/step - accuracy: 0.9003 - loss: 0.0514\n",
      "Epoch 7: val_loss improved from 0.05198 to 0.03970, saving model to saves/lstm_200/model.keras\n",
      "\u001b[1m7270/7270\u001b[0m \u001b[32m━━━━━━━━━━━━━━━━━━━━\u001b[0m\u001b[37m\u001b[0m \u001b[1m260s\u001b[0m 36ms/step - accuracy: 0.9003 - loss: 0.0514 - val_accuracy: 0.9156 - val_loss: 0.0397 - learning_rate: 1.0000e-04\n",
      "Epoch 8/100\n",
      "\u001b[1m7270/7270\u001b[0m \u001b[32m━━━━━━━━━━━━━━━━━━━━\u001b[0m\u001b[37m\u001b[0m \u001b[1m0s\u001b[0m 29ms/step - accuracy: 0.9093 - loss: 0.0435\n",
      "Epoch 8: val_loss improved from 0.03970 to 0.03655, saving model to saves/lstm_200/model.keras\n",
      "\u001b[1m7270/7270\u001b[0m \u001b[32m━━━━━━━━━━━━━━━━━━━━\u001b[0m\u001b[37m\u001b[0m \u001b[1m260s\u001b[0m 36ms/step - accuracy: 0.9093 - loss: 0.0435 - val_accuracy: 0.9210 - val_loss: 0.0365 - learning_rate: 1.0000e-04\n",
      "Epoch 9/100\n",
      "\u001b[1m7269/7270\u001b[0m \u001b[32m━━━━━━━━━━━━━━━━━━━\u001b[0m\u001b[37m━\u001b[0m \u001b[1m0s\u001b[0m 29ms/step - accuracy: 0.9199 - loss: 0.0361\n",
      "Epoch 9: val_loss improved from 0.03655 to 0.03312, saving model to saves/lstm_200/model.keras\n",
      "\u001b[1m7270/7270\u001b[0m \u001b[32m━━━━━━━━━━━━━━━━━━━━\u001b[0m\u001b[37m\u001b[0m \u001b[1m257s\u001b[0m 35ms/step - accuracy: 0.9199 - loss: 0.0361 - val_accuracy: 0.9254 - val_loss: 0.0331 - learning_rate: 1.0000e-04\n",
      "Epoch 10/100\n",
      "\u001b[1m7270/7270\u001b[0m \u001b[32m━━━━━━━━━━━━━━━━━━━━\u001b[0m\u001b[37m\u001b[0m \u001b[1m0s\u001b[0m 29ms/step - accuracy: 0.9199 - loss: 0.0348\n",
      "Epoch 10: val_loss improved from 0.03312 to 0.03123, saving model to saves/lstm_200/model.keras\n",
      "\u001b[1m7270/7270\u001b[0m \u001b[32m━━━━━━━━━━━━━━━━━━━━\u001b[0m\u001b[37m\u001b[0m \u001b[1m256s\u001b[0m 35ms/step - accuracy: 0.9199 - loss: 0.0348 - val_accuracy: 0.9235 - val_loss: 0.0312 - learning_rate: 1.0000e-04\n",
      "Epoch 11/100\n",
      "\u001b[1m7269/7270\u001b[0m \u001b[32m━━━━━━━━━━━━━━━━━━━\u001b[0m\u001b[37m━\u001b[0m \u001b[1m0s\u001b[0m 29ms/step - accuracy: 0.9240 - loss: 0.0320\n",
      "Epoch 11: val_loss improved from 0.03123 to 0.02853, saving model to saves/lstm_200/model.keras\n",
      "\u001b[1m7270/7270\u001b[0m \u001b[32m━━━━━━━━━━━━━━━━━━━━\u001b[0m\u001b[37m\u001b[0m \u001b[1m258s\u001b[0m 36ms/step - accuracy: 0.9240 - loss: 0.0320 - val_accuracy: 0.9286 - val_loss: 0.0285 - learning_rate: 1.0000e-04\n",
      "Epoch 12/100\n",
      "\u001b[1m7270/7270\u001b[0m \u001b[32m━━━━━━━━━━━━━━━━━━━━\u001b[0m\u001b[37m\u001b[0m \u001b[1m0s\u001b[0m 29ms/step - accuracy: 0.9283 - loss: 0.0290\n",
      "Epoch 12: val_loss did not improve from 0.02853\n",
      "\u001b[1m7270/7270\u001b[0m \u001b[32m━━━━━━━━━━━━━━━━━━━━\u001b[0m\u001b[37m\u001b[0m \u001b[1m257s\u001b[0m 35ms/step - accuracy: 0.9283 - loss: 0.0290 - val_accuracy: 0.9235 - val_loss: 0.0307 - learning_rate: 1.0000e-04\n",
      "Epoch 13/100\n",
      "\u001b[1m7268/7270\u001b[0m \u001b[32m━━━━━━━━━━━━━━━━━━━\u001b[0m\u001b[37m━\u001b[0m \u001b[1m0s\u001b[0m 29ms/step - accuracy: 0.9286 - loss: 0.0280\n",
      "Epoch 13: val_loss did not improve from 0.02853\n",
      "\u001b[1m7270/7270\u001b[0m \u001b[32m━━━━━━━━━━━━━━━━━━━━\u001b[0m\u001b[37m\u001b[0m \u001b[1m256s\u001b[0m 35ms/step - accuracy: 0.9286 - loss: 0.0280 - val_accuracy: 0.9268 - val_loss: 0.0336 - learning_rate: 1.0000e-04\n",
      "Epoch 14/100\n",
      "\u001b[1m7270/7270\u001b[0m \u001b[32m━━━━━━━━━━━━━━━━━━━━\u001b[0m\u001b[37m\u001b[0m \u001b[1m0s\u001b[0m 29ms/step - accuracy: 0.9277 - loss: 0.0301\n",
      "Epoch 14: val_loss did not improve from 0.02853\n",
      "\u001b[1m7270/7270\u001b[0m \u001b[32m━━━━━━━━━━━━━━━━━━━━\u001b[0m\u001b[37m\u001b[0m \u001b[1m258s\u001b[0m 36ms/step - accuracy: 0.9277 - loss: 0.0301 - val_accuracy: 0.9303 - val_loss: 0.0294 - learning_rate: 1.0000e-04\n",
      "Epoch 15/100\n",
      "\u001b[1m7270/7270\u001b[0m \u001b[32m━━━━━━━━━━━━━━━━━━━━\u001b[0m\u001b[37m\u001b[0m \u001b[1m0s\u001b[0m 29ms/step - accuracy: 0.9298 - loss: 0.0281\n",
      "Epoch 15: val_loss improved from 0.02853 to 0.02499, saving model to saves/lstm_200/model.keras\n",
      "\u001b[1m7270/7270\u001b[0m \u001b[32m━━━━━━━━━━━━━━━━━━━━\u001b[0m\u001b[37m\u001b[0m \u001b[1m257s\u001b[0m 35ms/step - accuracy: 0.9298 - loss: 0.0281 - val_accuracy: 0.9364 - val_loss: 0.0250 - learning_rate: 1.0000e-04\n",
      "Epoch 16/100\n",
      "\u001b[1m7268/7270\u001b[0m \u001b[32m━━━━━━━━━━━━━━━━━━━\u001b[0m\u001b[37m━\u001b[0m \u001b[1m0s\u001b[0m 29ms/step - accuracy: 0.9320 - loss: 0.0263\n",
      "Epoch 16: val_loss did not improve from 0.02499\n",
      "\u001b[1m7270/7270\u001b[0m \u001b[32m━━━━━━━━━━━━━━━━━━━━\u001b[0m\u001b[37m\u001b[0m \u001b[1m256s\u001b[0m 35ms/step - accuracy: 0.9320 - loss: 0.0263 - val_accuracy: 0.9304 - val_loss: 0.0284 - learning_rate: 1.0000e-04\n",
      "Epoch 17/100\n",
      "\u001b[1m7269/7270\u001b[0m \u001b[32m━━━━━━━━━━━━━━━━━━━\u001b[0m\u001b[37m━\u001b[0m \u001b[1m0s\u001b[0m 29ms/step - accuracy: 0.9324 - loss: 0.0259\n",
      "Epoch 17: val_loss did not improve from 0.02499\n",
      "\u001b[1m7270/7270\u001b[0m \u001b[32m━━━━━━━━━━━━━━━━━━━━\u001b[0m\u001b[37m\u001b[0m \u001b[1m257s\u001b[0m 35ms/step - accuracy: 0.9324 - loss: 0.0259 - val_accuracy: 0.9322 - val_loss: 0.0257 - learning_rate: 1.0000e-04\n",
      "Epoch 18/100\n",
      "\u001b[1m7268/7270\u001b[0m \u001b[32m━━━━━━━━━━━━━━━━━━━\u001b[0m\u001b[37m━\u001b[0m \u001b[1m0s\u001b[0m 29ms/step - accuracy: 0.9339 - loss: 0.0249\n",
      "Epoch 18: val_loss improved from 0.02499 to 0.02343, saving model to saves/lstm_200/model.keras\n",
      "\u001b[1m7270/7270\u001b[0m \u001b[32m━━━━━━━━━━━━━━━━━━━━\u001b[0m\u001b[37m\u001b[0m \u001b[1m256s\u001b[0m 35ms/step - accuracy: 0.9339 - loss: 0.0249 - val_accuracy: 0.9370 - val_loss: 0.0234 - learning_rate: 1.0000e-04\n",
      "Epoch 19/100\n",
      "\u001b[1m7269/7270\u001b[0m \u001b[32m━━━━━━━━━━━━━━━━━━━\u001b[0m\u001b[37m━\u001b[0m \u001b[1m0s\u001b[0m 29ms/step - accuracy: 0.9358 - loss: 0.0235\n",
      "Epoch 19: val_loss improved from 0.02343 to 0.02272, saving model to saves/lstm_200/model.keras\n",
      "\u001b[1m7270/7270\u001b[0m \u001b[32m━━━━━━━━━━━━━━━━━━━━\u001b[0m\u001b[37m\u001b[0m \u001b[1m259s\u001b[0m 36ms/step - accuracy: 0.9358 - loss: 0.0235 - val_accuracy: 0.9371 - val_loss: 0.0227 - learning_rate: 1.0000e-04\n",
      "Epoch 20/100\n",
      "\u001b[1m7270/7270\u001b[0m \u001b[32m━━━━━━━━━━━━━━━━━━━━\u001b[0m\u001b[37m\u001b[0m \u001b[1m0s\u001b[0m 29ms/step - accuracy: 0.9352 - loss: 0.0236\n",
      "Epoch 20: val_loss did not improve from 0.02272\n",
      "\u001b[1m7270/7270\u001b[0m \u001b[32m━━━━━━━━━━━━━━━━━━━━\u001b[0m\u001b[37m\u001b[0m \u001b[1m257s\u001b[0m 35ms/step - accuracy: 0.9352 - loss: 0.0236 - val_accuracy: 0.9372 - val_loss: 0.0232 - learning_rate: 1.0000e-04\n",
      "Epoch 21/100\n",
      "\u001b[1m7270/7270\u001b[0m \u001b[32m━━━━━━━━━━━━━━━━━━━━\u001b[0m\u001b[37m\u001b[0m \u001b[1m0s\u001b[0m 29ms/step - accuracy: 0.9373 - loss: 0.0227\n",
      "Epoch 21: val_loss improved from 0.02272 to 0.02189, saving model to saves/lstm_200/model.keras\n",
      "\u001b[1m7270/7270\u001b[0m \u001b[32m━━━━━━━━━━━━━━━━━━━━\u001b[0m\u001b[37m\u001b[0m \u001b[1m258s\u001b[0m 36ms/step - accuracy: 0.9373 - loss: 0.0227 - val_accuracy: 0.9387 - val_loss: 0.0219 - learning_rate: 1.0000e-04\n",
      "Epoch 22/100\n",
      "\u001b[1m7270/7270\u001b[0m \u001b[32m━━━━━━━━━━━━━━━━━━━━\u001b[0m\u001b[37m\u001b[0m \u001b[1m0s\u001b[0m 29ms/step - accuracy: 0.9383 - loss: 0.0221\n",
      "Epoch 22: val_loss did not improve from 0.02189\n",
      "\u001b[1m7270/7270\u001b[0m \u001b[32m━━━━━━━━━━━━━━━━━━━━\u001b[0m\u001b[37m\u001b[0m \u001b[1m255s\u001b[0m 35ms/step - accuracy: 0.9383 - loss: 0.0221 - val_accuracy: 0.9377 - val_loss: 0.0224 - learning_rate: 1.0000e-04\n",
      "Epoch 23/100\n",
      "\u001b[1m7270/7270\u001b[0m \u001b[32m━━━━━━━━━━━━━━━━━━━━\u001b[0m\u001b[37m\u001b[0m \u001b[1m0s\u001b[0m 29ms/step - accuracy: 0.9384 - loss: 0.0219\n",
      "Epoch 23: val_loss improved from 0.02189 to 0.02162, saving model to saves/lstm_200/model.keras\n",
      "\u001b[1m7270/7270\u001b[0m \u001b[32m━━━━━━━━━━━━━━━━━━━━\u001b[0m\u001b[37m\u001b[0m \u001b[1m257s\u001b[0m 35ms/step - accuracy: 0.9384 - loss: 0.0219 - val_accuracy: 0.9386 - val_loss: 0.0216 - learning_rate: 1.0000e-04\n",
      "Epoch 24/100\n",
      "\u001b[1m7270/7270\u001b[0m \u001b[32m━━━━━━━━━━━━━━━━━━━━\u001b[0m\u001b[37m\u001b[0m \u001b[1m0s\u001b[0m 29ms/step - accuracy: 0.9385 - loss: 0.0214\n",
      "Epoch 24: val_loss improved from 0.02162 to 0.02145, saving model to saves/lstm_200/model.keras\n",
      "\u001b[1m7270/7270\u001b[0m \u001b[32m━━━━━━━━━━━━━━━━━━━━\u001b[0m\u001b[37m\u001b[0m \u001b[1m255s\u001b[0m 35ms/step - accuracy: 0.9385 - loss: 0.0214 - val_accuracy: 0.9395 - val_loss: 0.0215 - learning_rate: 1.0000e-04\n",
      "Epoch 25/100\n",
      "\u001b[1m7269/7270\u001b[0m \u001b[32m━━━━━━━━━━━━━━━━━━━\u001b[0m\u001b[37m━\u001b[0m \u001b[1m0s\u001b[0m 29ms/step - accuracy: 0.9403 - loss: 0.0208\n",
      "Epoch 25: val_loss improved from 0.02145 to 0.02117, saving model to saves/lstm_200/model.keras\n",
      "\u001b[1m7270/7270\u001b[0m \u001b[32m━━━━━━━━━━━━━━━━━━━━\u001b[0m\u001b[37m\u001b[0m \u001b[1m256s\u001b[0m 35ms/step - accuracy: 0.9403 - loss: 0.0208 - val_accuracy: 0.9382 - val_loss: 0.0212 - learning_rate: 1.0000e-04\n",
      "Epoch 26/100\n",
      "\u001b[1m7269/7270\u001b[0m \u001b[32m━━━━━━━━━━━━━━━━━━━\u001b[0m\u001b[37m━\u001b[0m \u001b[1m0s\u001b[0m 29ms/step - accuracy: 0.9407 - loss: 0.0205\n",
      "Epoch 26: val_loss improved from 0.02117 to 0.01986, saving model to saves/lstm_200/model.keras\n",
      "\u001b[1m7270/7270\u001b[0m \u001b[32m━━━━━━━━━━━━━━━━━━━━\u001b[0m\u001b[37m\u001b[0m \u001b[1m258s\u001b[0m 36ms/step - accuracy: 0.9407 - loss: 0.0205 - val_accuracy: 0.9411 - val_loss: 0.0199 - learning_rate: 1.0000e-04\n",
      "Epoch 27/100\n",
      "\u001b[1m7269/7270\u001b[0m \u001b[32m━━━━━━━━━━━━━━━━━━━\u001b[0m\u001b[37m━\u001b[0m \u001b[1m0s\u001b[0m 29ms/step - accuracy: 0.9405 - loss: 0.0198\n",
      "Epoch 27: val_loss improved from 0.01986 to 0.01918, saving model to saves/lstm_200/model.keras\n",
      "\u001b[1m7270/7270\u001b[0m \u001b[32m━━━━━━━━━━━━━━━━━━━━\u001b[0m\u001b[37m\u001b[0m \u001b[1m255s\u001b[0m 35ms/step - accuracy: 0.9405 - loss: 0.0198 - val_accuracy: 0.9423 - val_loss: 0.0192 - learning_rate: 1.0000e-04\n",
      "Epoch 28/100\n",
      "\u001b[1m7269/7270\u001b[0m \u001b[32m━━━━━━━━━━━━━━━━━━━\u001b[0m\u001b[37m━\u001b[0m \u001b[1m0s\u001b[0m 29ms/step - accuracy: 0.9412 - loss: 0.0194\n",
      "Epoch 28: val_loss did not improve from 0.01918\n",
      "\u001b[1m7270/7270\u001b[0m \u001b[32m━━━━━━━━━━━━━━━━━━━━\u001b[0m\u001b[37m\u001b[0m \u001b[1m258s\u001b[0m 35ms/step - accuracy: 0.9412 - loss: 0.0194 - val_accuracy: 0.9416 - val_loss: 0.0198 - learning_rate: 1.0000e-04\n",
      "Epoch 29/100\n",
      "\u001b[1m7269/7270\u001b[0m \u001b[32m━━━━━━━━━━━━━━━━━━━\u001b[0m\u001b[37m━\u001b[0m \u001b[1m0s\u001b[0m 29ms/step - accuracy: 0.9410 - loss: 0.0192\n",
      "Epoch 29: val_loss did not improve from 0.01918\n",
      "\u001b[1m7270/7270\u001b[0m \u001b[32m━━━━━━━━━━━━━━━━━━━━\u001b[0m\u001b[37m\u001b[0m \u001b[1m259s\u001b[0m 36ms/step - accuracy: 0.9410 - loss: 0.0192 - val_accuracy: 0.9413 - val_loss: 0.0194 - learning_rate: 1.0000e-04\n",
      "Epoch 30/100\n",
      "\u001b[1m7268/7270\u001b[0m \u001b[32m━━━━━━━━━━━━━━━━━━━\u001b[0m\u001b[37m━\u001b[0m \u001b[1m0s\u001b[0m 29ms/step - accuracy: 0.9422 - loss: 0.0185\n",
      "Epoch 30: val_loss improved from 0.01918 to 0.01861, saving model to saves/lstm_200/model.keras\n",
      "\u001b[1m7270/7270\u001b[0m \u001b[32m━━━━━━━━━━━━━━━━━━━━\u001b[0m\u001b[37m\u001b[0m \u001b[1m255s\u001b[0m 35ms/step - accuracy: 0.9422 - loss: 0.0185 - val_accuracy: 0.9431 - val_loss: 0.0186 - learning_rate: 1.0000e-04\n",
      "Epoch 31/100\n",
      "\u001b[1m7270/7270\u001b[0m \u001b[32m━━━━━━━━━━━━━━━━━━━━\u001b[0m\u001b[37m\u001b[0m \u001b[1m0s\u001b[0m 29ms/step - accuracy: 0.9432 - loss: 0.0184"
     ]
    }
   ],
   "source": [
    "history = model.fit(\n",
    "    x=Generator(X_train, y_train, 64, max_sequence_length),\n",
    "    validation_data=Generator(X_val, y_val, 32, max_sequence_length),\n",
    "    epochs=100,\n",
    "    callbacks=[early_stop, model_checkpoint, lr_schedule, csv_logger],\n",
    ")\n",
    "\n",
    "# save history to file\n",
    "with open(history_path, 'wb') as f:\n",
    "    np.save(f, history.history)"
   ]
  },
  {
   "cell_type": "code",
   "execution_count": null,
   "metadata": {},
   "outputs": [],
   "source": [
    "# load history from file\n",
    "history = np.load(history_path, allow_pickle=True).item()"
   ]
  },
  {
   "cell_type": "code",
   "execution_count": null,
   "metadata": {},
   "outputs": [],
   "source": [
    "# plot history\n",
    "\n",
    "plt.plot(history.history['loss'])\n",
    "plt.plot(history.history['val_loss'])\n",
    "plt.title('model loss')\n",
    "plt.ylabel('loss')\n",
    "plt.xlabel('epoch')\n",
    "plt.legend(['train', 'val'], loc='upper left')\n",
    "plt.show()\n",
    "\n",
    "plt.plot(history.history['accuracy'])\n",
    "plt.plot(history.history['val_accuracy'])\n",
    "plt.title('model accuracy')\n",
    "plt.ylabel('accuracy')\n",
    "plt.xlabel('epoch')\n",
    "plt.legend(['train', 'val'], loc='upper left')\n",
    "plt.show()"
   ]
  },
  {
   "cell_type": "code",
   "execution_count": 10,
   "metadata": {},
   "outputs": [
    {
     "data": {
      "image/png": "[encoded data removed]",
      "text/plain": [
       "<Figure size 1000x800 with 1 Axes>"
      ]
     },
     "metadata": {},
     "output_type": "display_data"
    },
    {
     "data": {
      "image/png": "[encoded data removed]",
      "text/plain": [
       "<Figure size 1000x800 with 1 Axes>"
      ]
     },
     "metadata": {},
     "output_type": "display_data"
    }
   ],
   "source": [
    "log = pd.read_csv(log_path)\n",
    "\n",
    "fig, ax = plt.subplots(figsize=(10, 8))\n",
    "ax.plot(log['epoch'], log['accuracy'], label='accuracy')\n",
    "ax.plot(log['epoch'], log['val_accuracy'], label='val_accuracy')\n",
    "ax.set_title('accuracy')\n",
    "ax.set_xlabel('epoch')\n",
    "ax.legend()\n",
    "plt.show()\n",
    "\n",
    "fig, ax = plt.subplots(figsize=(10, 8))\n",
    "ax.plot(log['epoch'], log['loss'], label='loss')\n",
    "ax.plot(log['epoch'], log['val_loss'], label='val_loss')\n",
    "ax.set_title('loss')\n",
    "ax.set_xlabel('epoch')\n",
    "ax.legend()\n",
    "\n",
    "plt.show()"
   ]
  },
  {
   "cell_type": "code",
   "execution_count": 11,
   "metadata": {},
   "outputs": [
    {
     "name": "stderr",
     "output_type": "stream",
     "text": [
      "2024-06-24 15:43:56.908028: I tensorflow/core/common_runtime/gpu/gpu_device.cc:1928] Created device /job:localhost/replica:0/task:0/device:GPU:0 with 9654 MB memory:  -> device: 0, name: NVIDIA GeForce RTX 2080 Ti, pci bus id: 0000:65:00.0, compute capability: 7.5\n"
     ]
    }
   ],
   "source": [
    "# load model from file\n",
    "model = load_model(model_path)"
   ]
  },
  {
   "cell_type": "code",
   "execution_count": 12,
   "metadata": {},
   "outputs": [
    {
     "name": "stderr",
     "output_type": "stream",
     "text": [
      "2024-06-24 15:44:05.792517: I external/local_xla/xla/stream_executor/cuda/cuda_dnn.cc:465] Loaded cuDNN version 8902\n"
     ]
    },
    {
     "name": "stdout",
     "output_type": "stream",
     "text": [
      "\u001b[1m3635/3635\u001b[0m \u001b[32m━━━━━━━━━━━━━━━━━━━━\u001b[0m\u001b[37m\u001b[0m \u001b[1m52s\u001b[0m 14ms/step - accuracy: 0.9452 - loss: 0.0166\n"
     ]
    }
   ],
   "source": [
    "# evaluate model\n",
    "score = model.evaluate(x=Generator(X_val, y_val, 32, max_sequence_length))"
   ]
  }
 ],
 "metadata": {
  "kernelspec": {
   "display_name": "Python 3 (ipykernel)",
   "language": "python",
   "name": "python3"
  },
  "language_info": {
   "codemirror_mode": {
    "name": "ipython",
    "version": 3
   },
   "file_extension": ".py",
   "mimetype": "text/x-python",
   "name": "python",
   "nbconvert_exporter": "python",
   "pygments_lexer": "ipython3",
   "version": "3.12.3"
  }
 },
 "nbformat": 4,
 "nbformat_minor": 2
}
