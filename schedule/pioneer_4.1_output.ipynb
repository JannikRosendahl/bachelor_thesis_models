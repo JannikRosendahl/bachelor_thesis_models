{
 "cells": [
  {
   "cell_type": "code",
   "execution_count": 1,
   "metadata": {
    "execution": {
     "iopub.execute_input": "2024-08-31T21:42:05.022547Z",
     "iopub.status.busy": "2024-08-31T21:42:05.022094Z",
     "iopub.status.idle": "2024-08-31T21:42:07.948124Z",
     "shell.execute_reply": "2024-08-31T21:42:07.947358Z"
    }
   },
   "outputs": [],
   "source": [
    "import os\n",
    "import re\n",
    "from collections import Counter\n",
    "import json\n",
    "import numpy as np\n",
    "import pandas as pd\n",
    "import matplotlib.pyplot as plt\n",
    "cm = 1/2.54\n",
    "\n",
    "# force GPU device\n",
    "#os.environ[\"CUDA_VISIBLE_DEVICES\"]='0'\n",
    "os.environ['TF_CPP_MIN_LOG_LEVEL'] = '2'\n",
    "import tensorflow as tf\n",
    "\n",
    "from keras.src.callbacks import EarlyStopping, ModelCheckpoint, ReduceLROnPlateau, CSVLogger\n",
    "from keras.src.layers import SimpleRNN, LSTM, Dense, Dropout, Bidirectional\n",
    "from keras import Sequential, Input\n",
    "from keras.losses import CategoricalCrossentropy, CategoricalFocalCrossentropy\n",
    "from keras.optimizers import Adam\n",
    "from keras.models import load_model\n",
    "from keras.metrics import CategoricalAccuracy, TopKCategoricalAccuracy\n",
    "\n",
    "\n",
    "from sklearn.metrics import classification_report, confusion_matrix\n",
    "from sklearn.utils.class_weight import compute_class_weight\n",
    "\n",
    "from utils import *"
   ]
  },
  {
   "cell_type": "code",
   "execution_count": 2,
   "metadata": {
    "execution": {
     "iopub.execute_input": "2024-08-31T21:42:07.952696Z",
     "iopub.status.busy": "2024-08-31T21:42:07.952321Z",
     "iopub.status.idle": "2024-08-31T21:42:07.956278Z",
     "shell.execute_reply": "2024-08-31T21:42:07.955611Z"
    }
   },
   "outputs": [],
   "source": [
    "max_sequence_length = 100\n",
    "experiment_name = 'pioneer_4.1'\n",
    "top_k = 3"
   ]
  },
  {
   "cell_type": "code",
   "execution_count": 3,
   "metadata": {
    "execution": {
     "iopub.execute_input": "2024-08-31T21:42:07.959879Z",
     "iopub.status.busy": "2024-08-31T21:42:07.959680Z",
     "iopub.status.idle": "2024-08-31T21:42:07.964289Z",
     "shell.execute_reply": "2024-08-31T21:42:07.963601Z"
    }
   },
   "outputs": [],
   "source": [
    "checkpoint_path = f'saves/{experiment_name}'\n",
    "model_path = f'{checkpoint_path}/model.keras'\n",
    "log_path = f'{checkpoint_path}/log.csv'\n",
    "history_path = f'{checkpoint_path}/history.npy'\n",
    "\n",
    "# ensure directory exists\n",
    "if not os.path.exists(checkpoint_path):\n",
    "    os.makedirs(checkpoint_path)"
   ]
  },
  {
   "cell_type": "code",
   "execution_count": 4,
   "metadata": {
    "execution": {
     "iopub.execute_input": "2024-08-31T21:42:07.968348Z",
     "iopub.status.busy": "2024-08-31T21:42:07.967883Z",
     "iopub.status.idle": "2024-08-31T21:42:07.973975Z",
     "shell.execute_reply": "2024-08-31T21:42:07.973225Z"
    }
   },
   "outputs": [
    {
     "name": "stdout",
     "output_type": "stream",
     "text": [
      "experiment parameters: \n",
      "data_directory='/home/jrosendahl/datasets/cadets/sequences_export_benign_filetypes_path_ts/' \n",
      "unusable_threshold=10 \n",
      "rare_threshold=50 \n",
      "splits=(0.7, 0.15, 0.15) \n",
      "max_sequence_length=100\n"
     ]
    }
   ],
   "source": [
    "data_directory = '/home/jrosendahl/datasets/cadets/sequences_export_benign_filetypes_path_ts/'\n",
    "unusable_threshold = 10\n",
    "rare_threshold = 50\n",
    "splits = (0.7, 0.15, 0.15)\n",
    "\n",
    "max_sequence_length = 100\n",
    "\n",
    "assert(sum(splits) == 1)\n",
    "\n",
    "print(f'experiment parameters: \\n{data_directory=} \\n{unusable_threshold=} \\n{rare_threshold=} \\n{splits=} \\n{max_sequence_length=}')"
   ]
  },
  {
   "cell_type": "code",
   "execution_count": 5,
   "metadata": {
    "execution": {
     "iopub.execute_input": "2024-08-31T21:42:08.024872Z",
     "iopub.status.busy": "2024-08-31T21:42:08.024253Z",
     "iopub.status.idle": "2024-08-31T21:42:08.936411Z",
     "shell.execute_reply": "2024-08-31T21:42:08.935687Z"
    }
   },
   "outputs": [
    {
     "name": "stdout",
     "output_type": "stream",
     "text": [
      "Total classes: 118\n",
      "Unusable classes: 51\n",
      "\t['ping', 'pwd_mkdb', 'vi', 'tr', 'uname', 'msgs', 'screen', 'pw', 'bzip2', 'bzcat', 'nginx', 'stat', 'tail', 'smtp', 'kenv', 'nawk', 'ssh', 'chown', 'cut', 'php-fpm', 'jot', 'xz', 'diff', 'bounce', 'links', 'ipfw', 'touch', 'env', 'pfctl', 'minions', 'csh', 'kldstat', 'su', 'nohup', 'stty', 'df', 'limits', 'id', 'postmap', 'ifconfig', 'chkgrp', 'ipfstat', 'locale', 'devd', 'uniq', 'XIM', 'getty', 'which', 'init', 'test', 'nice']\n",
      "Rare classes: 20\n",
      "\t['wc', 'grep', 'mktemp', 'less', 'tty', 'mailwrapper', 'kill', 'lockf', 'mount', 'tee', 'expr', 'ps', 'route', 'sed', 'cmp', 'egrep', 'sort', 'basename', 'awk', 'mail']\n",
      "Usable classes: 67\n"
     ]
    }
   ],
   "source": [
    "total_classes = 0\n",
    "\n",
    "# unusable classes will be removed from the dataset\n",
    "unusable_classes = []\n",
    "# rare classes will be oversampled\n",
    "rare_classes = []\n",
    "\n",
    "# all classes in training data (all classes - unusable classes)\n",
    "classes = []\n",
    "\n",
    "# walk all files, build unusable_classes, rare_classes\n",
    "classes_occurrences = Counter()\n",
    "for filename in os.listdir(data_directory):\n",
    "    label = class_from_filename(filename)\n",
    "    classes_occurrences[label] += 1\n",
    "\n",
    "total_classes = len(classes_occurrences)\n",
    "for label, count in classes_occurrences.items():\n",
    "    if count < unusable_threshold:\n",
    "        unusable_classes.append(label)\n",
    "    elif count < rare_threshold:\n",
    "        rare_classes.append(label)\n",
    "        classes.append(label)\n",
    "    else:\n",
    "        classes.append(label)\n",
    "\n",
    "print(f'Total classes: {total_classes}')\n",
    "print(f'Unusable classes: {len(unusable_classes)}')\n",
    "print(f'\\t{unusable_classes}')\n",
    "print(f'Rare classes: {len(rare_classes)}')\n",
    "print(f'\\t{rare_classes}')\n",
    "\n",
    "labels_cardinality = len(set(classes))\n",
    "print(f'Usable classes: {labels_cardinality}')"
   ]
  },
  {
   "cell_type": "code",
   "execution_count": 6,
   "metadata": {
    "execution": {
     "iopub.execute_input": "2024-08-31T21:42:08.940723Z",
     "iopub.status.busy": "2024-08-31T21:42:08.940528Z",
     "iopub.status.idle": "2024-08-31T21:42:09.724161Z",
     "shell.execute_reply": "2024-08-31T21:42:09.723452Z"
    }
   },
   "outputs": [
    {
     "name": "stdout",
     "output_type": "stream",
     "text": [
      "Train: 150475\n",
      "Validation: 32245\n",
      "Test: 32245\n"
     ]
    }
   ],
   "source": [
    "# split into train, validation, test\n",
    "labels_set = set()\n",
    "\n",
    "filenames_all = []\n",
    "\n",
    "filenames_train = []\n",
    "filenames_val = []\n",
    "filenames_test = []\n",
    "\n",
    "for filename in os.listdir(data_directory):\n",
    "    label = class_from_filename(filename)\n",
    "    if label in unusable_classes:\n",
    "        continue\n",
    "    labels_set.add(label)\n",
    "    filenames_all.append(filename)\n",
    "\n",
    "# stratisfied split\n",
    "test_vs_val = splits[2] / (splits[1] + splits[2])\n",
    "filenames_train, filenames_val_test = train_test_split(filenames_all, test_size=splits[1]+splits[2], stratify=[class_from_filename(f) for f in filenames_all])\n",
    "filenames_val, filenames_test = train_test_split(filenames_val_test, test_size=test_vs_val, stratify=[class_from_filename(f) for f in filenames_val_test])\n",
    "\n",
    "print(f'Train: {len(filenames_train)}')\n",
    "print(f'Validation: {len(filenames_val)}')\n",
    "print(f'Test: {len(filenames_test)}')\n",
    "\n",
    "# build labels_map in alphabetical order\n",
    "labels_map = {}\n",
    "for i, label in enumerate(sorted(labels_set)):\n",
    "    labels_map[label] = i"
   ]
  },
  {
   "cell_type": "code",
   "execution_count": 7,
   "metadata": {
    "execution": {
     "iopub.execute_input": "2024-08-31T21:42:09.728523Z",
     "iopub.status.busy": "2024-08-31T21:42:09.728321Z",
     "iopub.status.idle": "2024-08-31T21:51:18.976886Z",
     "shell.execute_reply": "2024-08-31T21:51:18.976168Z"
    }
   },
   "outputs": [
    {
     "name": "stdout",
     "output_type": "stream",
     "text": [
      "Files read: 50000\n"
     ]
    },
    {
     "name": "stdout",
     "output_type": "stream",
     "text": [
      "Files read: 100000\n"
     ]
    },
    {
     "name": "stdout",
     "output_type": "stream",
     "text": [
      "Files read: 150000\n"
     ]
    },
    {
     "name": "stdout",
     "output_type": "stream",
     "text": [
      "Files read: 200000\n"
     ]
    },
    {
     "name": "stdout",
     "output_type": "stream",
     "text": [
      "Files read: 214965\n",
      "Sequences split: 22897\n",
      "Splits: 132960\n",
      "Event types: 29\n",
      "Users: 16\n",
      "Filetypes: 1\n",
      "Address: 4\n",
      "Port: 9\n",
      "Train: 247249\n",
      "Validation: 48541\n",
      "Test: 52084\n"
     ]
    }
   ],
   "source": [
    "# load data\n",
    "count_files_read = 0\n",
    "count_sequences_split = 0\n",
    "count_splits = 0\n",
    "\n",
    "preprocessor = Preprocessor(\n",
    "    ['TYPE', 'USERNAME', 'PRED_OBJ_PATH_AUTOENC', 'PRED_OBJ_NETINFO', 'DELTA_TIME'],\n",
    "    encode_map='/home/jrosendahl/sync/models/path_encoding_map.pkl'\n",
    ")\n",
    "\n",
    "def parse_file(filename) -> tuple[list[int], list[list[int]]]:\n",
    "    \"\"\"\n",
    "    Parse a file and return the vectorized data. Not a pure function (calls parse_line)!\n",
    "    \"\"\"\n",
    "    global count_files_read, count_sequences_split, count_splits\n",
    "\n",
    "    y_list: list[int] = []\n",
    "    X_list: list[list[int]] = []\n",
    "    y = class_from_filename(filename)\n",
    "    y = labels_map[y]\n",
    "    with open(os.path.join(data_directory, filename), 'r') as f:\n",
    "        lines = f.readlines()\n",
    "        count_files_read += 1\n",
    "    if count_files_read % 50000 == 0:\n",
    "        print(f'Files read: {count_files_read}')\n",
    "    X = []\n",
    "    for line in lines:\n",
    "        line_res = preprocessor.process(line)\n",
    "\n",
    "        # vectorized data\n",
    "        event = line_res['TYPE']\n",
    "        username = line_res['USERNAME']\n",
    "        pred_obj1_localip = line_res['PRED_OBJ1_LOCALIP']\n",
    "        pred_obj1_localport = line_res['PRED_OBJ1_LOCALPORT']\n",
    "        pred_obj1_remoteip = line_res['PRED_OBJ1_REMOTEIP']\n",
    "        pred_obj1_remoteport = line_res['PRED_OBJ1_REMOTEPORT']\n",
    "        pred_obj2_localip = line_res['PRED_OBJ2_LOCALIP']\n",
    "        pred_obj2_localport = line_res['PRED_OBJ2_LOCALPORT']\n",
    "        pred_obj2_remoteip = line_res['PRED_OBJ2_REMOTEIP']\n",
    "        pred_obj2_remoteport = line_res['PRED_OBJ2_REMOTEPORT']\n",
    "\n",
    "        # vectors\n",
    "        path1 = line_res['PRED_OBJ1_PATH_AUTOENC']\n",
    "        path2 = line_res['PRED_OBJ2_PATH_AUTOENC']\n",
    "\n",
    "        # ints\n",
    "        delta_time = line_res['DELTA_TIME']\n",
    "        delta_time /= 1000\n",
    "\n",
    "        res = [event, username, pred_obj1_localip, pred_obj1_localport, pred_obj1_remoteip, pred_obj1_remoteport, pred_obj2_localip, pred_obj2_localport, pred_obj2_remoteip, pred_obj2_remoteport, delta_time]\n",
    "        res.extend(path1)\n",
    "        res.extend(path2)\n",
    "\n",
    "        X.append(res)\n",
    "\n",
    "    # check if sequence needs to be split\n",
    "    if len(X) > max_sequence_length:\n",
    "        count_sequences_split += 1\n",
    "        count_splits += len(X) // max_sequence_length\n",
    "        for i in range(0, len(X), max_sequence_length):\n",
    "            y_list.append(y)\n",
    "            X_list.append(X[i:i+max_sequence_length])\n",
    "        assert len(X_list[0]) == max_sequence_length\n",
    "    else:\n",
    "        y_list.append(y)\n",
    "        X_list.append(X)\n",
    "\n",
    "    # transform elements to numpy arrays\n",
    "    y_list = np.array(y_list)\n",
    "    X_list = [np.array(x) for x in X_list]\n",
    "\n",
    "    assert len(y_list) == len(X_list)\n",
    "    return y_list, X_list\n",
    "\n",
    "\n",
    "y_train = []\n",
    "X_train = []\n",
    "y_val = []\n",
    "X_val = []\n",
    "y_test = []\n",
    "X_test = []\n",
    "\n",
    "for filename in filenames_train:\n",
    "    y_list, X_list = parse_file(filename)\n",
    "    y_train.extend(y_list)\n",
    "    X_train.extend(X_list)\n",
    "\n",
    "for filename in filenames_val:\n",
    "    y_list, X_list = parse_file(filename)\n",
    "    y_val.extend(y_list)\n",
    "    X_val.extend(X_list)\n",
    "\n",
    "for filename in filenames_test:\n",
    "    y_list, X_list = parse_file(filename)\n",
    "    y_test.extend(y_list)\n",
    "    X_test.extend(X_list)\n",
    "\n",
    "assert len(X_train) == len(y_train)\n",
    "assert len(X_val) == len(y_val)\n",
    "assert len(X_test) == len(y_test)\n",
    "\n",
    "print(f'Files read: {count_files_read}')\n",
    "print(f'Sequences split: {count_sequences_split}')\n",
    "print(f'Splits: {count_splits}')\n",
    "\n",
    "\n",
    "event_types_map = preprocessor.event_types_map\n",
    "users_map = preprocessor.users_map\n",
    "filetypes_map = preprocessor.filetypes_map\n",
    "path_map = preprocessor.path_map\n",
    "addr_map = preprocessor.addr_map\n",
    "port_map = preprocessor.port_map\n",
    "\n",
    "\n",
    "event_types_cardinality = len(event_types_map)\n",
    "users_cardinality = len(users_map)\n",
    "filetypes_cardinality = len(filetypes_map)\n",
    "path_cardinality = len(path_map)\n",
    "addr_cardinality = len(addr_map)\n",
    "port_cardinality = len(port_map)\n",
    "\n",
    "print(f'Event types: {event_types_cardinality}')\n",
    "print(f'Users: {users_cardinality}')\n",
    "print(f'Filetypes: {filetypes_cardinality}')\n",
    "print(f'Address: {addr_cardinality}')\n",
    "print(f'Port: {port_cardinality}')\n",
    "\n",
    "# print lengths\n",
    "print(f'Train: {len(y_train)}')\n",
    "print(f'Validation: {len(y_val)}')\n",
    "print(f'Test: {len(y_test)}')"
   ]
  },
  {
   "cell_type": "code",
   "execution_count": 8,
   "metadata": {
    "execution": {
     "iopub.execute_input": "2024-08-31T21:51:18.979873Z",
     "iopub.status.busy": "2024-08-31T21:51:18.979675Z",
     "iopub.status.idle": "2024-08-31T21:51:18.985122Z",
     "shell.execute_reply": "2024-08-31T21:51:18.984541Z"
    }
   },
   "outputs": [
    {
     "name": "stdout",
     "output_type": "stream",
     "text": [
      "Event types:\n",
      "0: EVENT_EXECUTE, 1: EVENT_OPEN, 2: EVENT_READ, 3: EVENT_CLOSE, 4: EVENT_MMAP, 5: EVENT_WRITE, 6: EVENT_EXIT, 7: EVENT_CONNECT, 8: EVENT_SENDTO, 9: EVENT_LSEEK, 10: EVENT_CHANGE_PRINCIPAL, 11: EVENT_LOGIN, 12: EVENT_MODIFY_PROCESS, 13: EVENT_FCNTL, 14: EVENT_RECVFROM, 15: EVENT_MPROTECT, 16: EVENT_CREATE_OBJECT, 17: EVENT_ACCEPT, 18: EVENT_UNLINK, 19: EVENT_FORK, 20: EVENT_MODIFY_FILE_ATTRIBUTES, 21: EVENT_LINK, 22: EVENT_RENAME, 23: EVENT_TRUNCATE, 24: EVENT_SIGNAL, 25: EVENT_OTHER, 26: EVENT_SENDMSG, 27: EVENT_RECVMSG, 28: EVENT_BIND, \n",
      "Users:\n",
      "0: operator, 1: darpa, 2: root, 3: frank, 4: user, 5: charles, 6: george, 7: bob, 8: smmsp, 9: admin, 10: henry, 11: irene, 12: david, 13: postfix, 14: nobody, 15: _dhcp, Filetypes:\n",
      "0: None, "
     ]
    }
   ],
   "source": [
    "# debug print all maps (sorted)\n",
    "print('Event types:')\n",
    "for k, v in sorted(event_types_map.items(), key=lambda x: x[1]):\n",
    "    print(f'{v}: {k}', end=', ')\n",
    "print()\n",
    "\n",
    "print('Users:')\n",
    "for k, v in sorted(users_map.items(), key=lambda x: x[1]):\n",
    "    print(f'{v}: {k}', end=', ')\n",
    "\n",
    "print('Filetypes:')\n",
    "for k, v in sorted(filetypes_map.items(), key=lambda x: x[1]):\n",
    "    print(f'{v}: {k}', end=', ')\n"
   ]
  },
  {
   "cell_type": "code",
   "execution_count": 9,
   "metadata": {
    "execution": {
     "iopub.execute_input": "2024-08-31T21:51:18.989345Z",
     "iopub.status.busy": "2024-08-31T21:51:18.989066Z",
     "iopub.status.idle": "2024-08-31T21:51:18.994567Z",
     "shell.execute_reply": "2024-08-31T21:51:18.993616Z"
    }
   },
   "outputs": [],
   "source": [
    "# turn labels map into bidirectional map\n",
    "for k, v in labels_map.copy().items():\n",
    "    labels_map[v] = k\n",
    "\n",
    "# turn feature maps into bidirectional maps\n",
    "for k, v in event_types_map.copy().items():\n",
    "    event_types_map[v] = k\n",
    "\n",
    "for k, v in users_map.copy().items():\n",
    "    users_map[v] = k\n",
    "\n",
    "for k, v in filetypes_map.copy().items():\n",
    "    filetypes_map[v] = k"
   ]
  },
  {
   "cell_type": "code",
   "execution_count": 10,
   "metadata": {
    "execution": {
     "iopub.execute_input": "2024-08-31T21:51:18.998649Z",
     "iopub.status.busy": "2024-08-31T21:51:18.998426Z",
     "iopub.status.idle": "2024-08-31T21:51:20.189516Z",
     "shell.execute_reply": "2024-08-31T21:51:20.188866Z"
    }
   },
   "outputs": [
    {
     "data": {
      "image/png": "[encoded data removed]",
      "text/plain": [
       "<Figure size 1181.1x393.701 with 3 Axes>"
      ]
     },
     "metadata": {},
     "output_type": "display_data"
    }
   ],
   "source": [
    "# print distributions in all 3 sets\n",
    "train_distribution = Counter(y_train)\n",
    "val_distribution = Counter(y_val)\n",
    "test_distribution = Counter(y_test)\n",
    "\n",
    "# plot 3 pie plots, use same colors for same classes\n",
    "colors = plt.cm.tab20.colors\n",
    "colors = [ colors[i % 20] for i in range(labels_cardinality) ]\n",
    "\n",
    "# sort labels by occurence in training set\n",
    "sorted_labels = sorted(train_distribution, key=train_distribution.get, reverse=True)\n",
    "\n",
    "# sort all distributions by sorted_labels\n",
    "train_distribution = [train_distribution[label] for label in sorted_labels]\n",
    "val_distribution = [val_distribution[label] for label in sorted_labels]\n",
    "test_distribution = [test_distribution[label] for label in sorted_labels]\n",
    "\n",
    "# transform labels to names\n",
    "sorted_labels = [labels_map[label] for label in sorted_labels]\n",
    "\n",
    "fig, axs = plt.subplots(1, 3, figsize=(30*cm, 10*cm))\n",
    "axs[0].pie(train_distribution, labels=sorted_labels, colors=colors, autopct='%1.1f%%')\n",
    "axs[0].set_title('Train')\n",
    "axs[1].pie(val_distribution, labels=sorted_labels, colors=colors, autopct='%1.1f%%')\n",
    "axs[1].set_title('Validation')\n",
    "axs[2].pie(test_distribution, labels=sorted_labels, colors=colors, autopct='%1.1f%%')\n",
    "axs[2].set_title('Test')\n",
    "plt.savefig(f'{checkpoint_path}/distributions.png')\n",
    "plt.show()"
   ]
  },
  {
   "cell_type": "code",
   "execution_count": 11,
   "metadata": {
    "execution": {
     "iopub.execute_input": "2024-08-31T21:51:20.197795Z",
     "iopub.status.busy": "2024-08-31T21:51:20.197548Z",
     "iopub.status.idle": "2024-08-31T21:51:20.274233Z",
     "shell.execute_reply": "2024-08-31T21:51:20.273123Z"
    }
   },
   "outputs": [],
   "source": [
    "# one-hot encode labels\n",
    "y_train = np.eye(labels_cardinality)[y_train]\n",
    "y_val = np.eye(labels_cardinality)[y_val]\n",
    "y_test = np.eye(labels_cardinality)[y_test]"
   ]
  },
  {
   "cell_type": "code",
   "execution_count": 12,
   "metadata": {
    "execution": {
     "iopub.execute_input": "2024-08-31T21:51:20.278500Z",
     "iopub.status.busy": "2024-08-31T21:51:20.278304Z",
     "iopub.status.idle": "2024-08-31T21:51:20.293291Z",
     "shell.execute_reply": "2024-08-31T21:51:20.292795Z"
    }
   },
   "outputs": [
    {
     "name": "stdout",
     "output_type": "stream",
     "text": [
      "First sequence in X_train:\n",
      "0: [1.         1.         0.         0.         0.         0.\n",
      " 0.         0.         0.         0.         0.         0.53486919\n",
      " 0.         0.         0.         0.         0.         0.\n",
      " 1.61682844 0.         0.         0.         1.12007046 0.\n",
      " 0.         0.         0.56265187 1.13273597 0.         0.09537023\n",
      " 0.         0.         0.         0.         0.         0.\n",
      " 0.         0.         0.         0.         0.         0.\n",
      " 0.         0.         0.         0.         0.         0.\n",
      " 0.         0.         0.         0.         0.         0.\n",
      " 0.         0.         0.         1.34385693 1.14689958 0.\n",
      " 0.         0.         0.         1.09633613 0.         0.\n",
      " 0.         0.         1.65924406 0.         0.         0.\n",
      " 4.24345303 0.         0.         0.         1.63741601 0.34174347\n",
      " 2.99532294 2.79648399 0.         0.         0.         0.\n",
      " 0.         0.         0.         1.25809896 2.06077385 0.\n",
      " 0.         0.65283936 0.         0.51129007 2.18440986 0.\n",
      " 0.05855185 1.79380286 0.88888657 0.         0.         0.\n",
      " 0.         3.43028474 0.         0.         0.73626673]\n",
      "1: [2.         1.         0.         0.         0.         0.\n",
      " 0.         0.         0.         0.         0.         0.53486919\n",
      " 0.         0.         0.         0.         0.         0.\n",
      " 1.61682844 0.         0.         0.         1.12007046 0.\n",
      " 0.         0.         0.56265187 1.13273597 0.         0.09537023\n",
      " 0.         0.         0.         0.         0.         0.\n",
      " 0.         0.         0.         0.         0.         0.\n",
      " 0.         0.         0.         0.         0.         0.\n",
      " 0.         0.         0.         0.         0.         0.\n",
      " 0.         0.         0.         1.34385693 1.14689958 0.\n",
      " 0.         0.         0.         1.09633613 0.         0.\n",
      " 0.         0.         1.65924406 0.         0.         0.\n",
      " 4.24345303 0.         0.         0.         1.63741601 0.34174347\n",
      " 2.99532294 2.79648399 0.         0.         0.         0.\n",
      " 0.         0.         0.         1.25809896 2.06077385 0.\n",
      " 0.         0.65283936 0.         0.51129007 2.18440986 0.\n",
      " 0.05855185 1.79380286 0.88888657 0.         0.         0.\n",
      " 0.         3.43028474 0.         0.         0.73626673]\n",
      "2: [3.         1.         0.         0.         0.         0.\n",
      " 0.         0.         0.         0.         0.         0.\n",
      " 0.         0.         0.         1.09633613 0.         0.\n",
      " 0.         0.         1.65924406 0.         0.         0.\n",
      " 4.24345303 0.         0.         0.         1.63741601 0.34174347\n",
      " 2.99532294 2.79648399 0.         0.         0.         0.\n",
      " 0.         0.         0.         1.25809896 2.06077385 0.\n",
      " 0.         0.65283936 0.         0.51129007 2.18440986 0.\n",
      " 0.05855185 1.79380286 0.88888657 0.         0.         0.\n",
      " 0.         3.43028474 0.         0.         0.73626673 0.\n",
      " 0.         0.         0.         1.09633613 0.         0.\n",
      " 0.         0.         1.65924406 0.         0.         0.\n",
      " 4.24345303 0.         0.         0.         1.63741601 0.34174347\n",
      " 2.99532294 2.79648399 0.         0.         0.         0.\n",
      " 0.         0.         0.         1.25809896 2.06077385 0.\n",
      " 0.         0.65283936 0.         0.51129007 2.18440986 0.\n",
      " 0.05855185 1.79380286 0.88888657 0.         0.         0.\n",
      " 0.         3.43028474 0.         0.         0.73626673]\n",
      "3: [1.         1.         0.         0.         0.         0.\n",
      " 0.         0.         0.         0.         0.         0.\n",
      " 0.         0.         0.         1.09633613 0.         0.\n",
      " 0.         0.         1.65924406 0.         0.         0.\n",
      " 4.24345303 0.         0.         0.         1.63741601 0.34174347\n",
      " 2.99532294 2.79648399 0.         0.         0.         0.\n",
      " 0.         0.         0.         1.25809896 2.06077385 0.\n",
      " 0.         0.65283936 0.         0.51129007 2.18440986 0.\n",
      " 0.05855185 1.79380286 0.88888657 0.         0.         0.\n",
      " 0.         3.43028474 0.         0.         0.73626673 0.\n",
      " 0.         0.         0.         1.09633613 0.         0.\n",
      " 0.         0.         1.65924406 0.         0.         0.\n",
      " 4.24345303 0.         0.         0.         1.63741601 0.34174347\n",
      " 2.99532294 2.79648399 0.         0.         0.         0.\n",
      " 0.         0.         0.         1.25809896 2.06077385 0.\n",
      " 0.         0.65283936 0.         0.51129007 2.18440986 0.\n",
      " 0.05855185 1.79380286 0.88888657 0.         0.         0.\n",
      " 0.         3.43028474 0.         0.         0.73626673]\n",
      "4: [2.         1.         0.         0.         0.         0.\n",
      " 0.         0.         0.         0.         0.         0.\n",
      " 0.         0.         0.         1.09633613 0.         0.\n",
      " 0.         0.         1.65924406 0.         0.         0.\n",
      " 4.24345303 0.         0.         0.         1.63741601 0.34174347\n",
      " 2.99532294 2.79648399 0.         0.         0.         0.\n",
      " 0.         0.         0.         1.25809896 2.06077385 0.\n",
      " 0.         0.65283936 0.         0.51129007 2.18440986 0.\n",
      " 0.05855185 1.79380286 0.88888657 0.         0.         0.\n",
      " 0.         3.43028474 0.         0.         0.73626673 0.\n",
      " 0.         0.         0.         1.09633613 0.         0.\n",
      " 0.         0.         1.65924406 0.         0.         0.\n",
      " 4.24345303 0.         0.         0.         1.63741601 0.34174347\n",
      " 2.99532294 2.79648399 0.         0.         0.         0.\n",
      " 0.         0.         0.         1.25809896 2.06077385 0.\n",
      " 0.         0.65283936 0.         0.51129007 2.18440986 0.\n",
      " 0.05855185 1.79380286 0.88888657 0.         0.         0.\n",
      " 0.         3.43028474 0.         0.         0.73626673]\n",
      "5: [2.         1.         0.         0.         0.         0.\n",
      " 0.         0.         0.         0.         0.         0.\n",
      " 0.         0.         0.         1.09633613 0.         0.\n",
      " 0.         0.         1.65924406 0.         0.         0.\n",
      " 4.24345303 0.         0.         0.         1.63741601 0.34174347\n",
      " 2.99532294 2.79648399 0.         0.         0.         0.\n",
      " 0.         0.         0.         1.25809896 2.06077385 0.\n",
      " 0.         0.65283936 0.         0.51129007 2.18440986 0.\n",
      " 0.05855185 1.79380286 0.88888657 0.         0.         0.\n",
      " 0.         3.43028474 0.         0.         0.73626673 0.\n",
      " 0.         0.         0.         1.09633613 0.         0.\n",
      " 0.         0.         1.65924406 0.         0.         0.\n",
      " 4.24345303 0.         0.         0.         1.63741601 0.34174347\n",
      " 2.99532294 2.79648399 0.         0.         0.         0.\n",
      " 0.         0.         0.         1.25809896 2.06077385 0.\n",
      " 0.         0.65283936 0.         0.51129007 2.18440986 0.\n",
      " 0.05855185 1.79380286 0.88888657 0.         0.         0.\n",
      " 0.         3.43028474 0.         0.         0.73626673]\n",
      "6: [3.         1.         0.         0.         0.         0.\n",
      " 0.         0.         0.         0.         0.         0.\n",
      " 0.         0.         0.         1.09633613 0.         0.\n",
      " 0.         0.         1.65924406 0.         0.         0.\n",
      " 4.24345303 0.         0.         0.         1.63741601 0.34174347\n",
      " 2.99532294 2.79648399 0.         0.         0.         0.\n",
      " 0.         0.         0.         1.25809896 2.06077385 0.\n",
      " 0.         0.65283936 0.         0.51129007 2.18440986 0.\n",
      " 0.05855185 1.79380286 0.88888657 0.         0.         0.\n",
      " 0.         3.43028474 0.         0.         0.73626673 0.\n",
      " 0.         0.         0.         1.09633613 0.         0.\n",
      " 0.         0.         1.65924406 0.         0.         0.\n",
      " 4.24345303 0.         0.         0.         1.63741601 0.34174347\n",
      " 2.99532294 2.79648399 0.         0.         0.         0.\n",
      " 0.         0.         0.         1.25809896 2.06077385 0.\n",
      " 0.         0.65283936 0.         0.51129007 2.18440986 0.\n",
      " 0.05855185 1.79380286 0.88888657 0.         0.         0.\n",
      " 0.         3.43028474 0.         0.         0.73626673]\n",
      "7: [1.         1.         0.         0.         0.         0.\n",
      " 0.         0.         0.         0.         0.         1.26066411\n",
      " 0.         0.         0.         0.         0.         0.\n",
      " 0.         0.         0.         0.         0.         0.\n",
      " 0.         0.         1.41880572 0.71844518 0.         0.\n",
      " 0.         0.         0.         0.         0.         0.\n",
      " 0.         0.         0.         0.         0.         0.\n",
      " 0.54902434 0.         0.46753502 0.         0.         0.\n",
      " 0.         0.         0.         0.64328188 0.         0.\n",
      " 0.         0.         0.         0.         2.2195282  0.\n",
      " 0.         0.         0.         1.09633613 0.         0.\n",
      " 0.         0.         1.65924406 0.         0.         0.\n",
      " 4.24345303 0.         0.         0.         1.63741601 0.34174347\n",
      " 2.99532294 2.79648399 0.         0.         0.         0.\n",
      " 0.         0.         0.         1.25809896 2.06077385 0.\n",
      " 0.         0.65283936 0.         0.51129007 2.18440986 0.\n",
      " 0.05855185 1.79380286 0.88888657 0.         0.         0.\n",
      " 0.         3.43028474 0.         0.         0.73626673]\n",
      "8: [4.         1.         0.         0.         0.         0.\n",
      " 0.         0.         0.         0.         0.         0.\n",
      " 0.         0.         0.         1.09633613 0.         0.\n",
      " 0.         0.         1.65924406 0.         0.         0.\n",
      " 4.24345303 0.         0.         0.         1.63741601 0.34174347\n",
      " 2.99532294 2.79648399 0.         0.         0.         0.\n",
      " 0.         0.         0.         1.25809896 2.06077385 0.\n",
      " 0.         0.65283936 0.         0.51129007 2.18440986 0.\n",
      " 0.05855185 1.79380286 0.88888657 0.         0.         0.\n",
      " 0.         3.43028474 0.         0.         0.73626673 0.\n",
      " 0.         0.         0.         1.09633613 0.         0.\n",
      " 0.         0.         1.65924406 0.         0.         0.\n",
      " 4.24345303 0.         0.         0.         1.63741601 0.34174347\n",
      " 2.99532294 2.79648399 0.         0.         0.         0.\n",
      " 0.         0.         0.         1.25809896 2.06077385 0.\n",
      " 0.         0.65283936 0.         0.51129007 2.18440986 0.\n",
      " 0.05855185 1.79380286 0.88888657 0.         0.         0.\n",
      " 0.         3.43028474 0.         0.         0.73626673]\n",
      "9: [4.         1.         0.         0.         0.         0.\n",
      " 0.         0.         0.         0.         0.         0.\n",
      " 0.         0.         0.         1.09633613 0.         0.\n",
      " 0.         0.         1.65924406 0.         0.         0.\n",
      " 4.24345303 0.         0.         0.         1.63741601 0.34174347\n",
      " 2.99532294 2.79648399 0.         0.         0.         0.\n",
      " 0.         0.         0.         1.25809896 2.06077385 0.\n",
      " 0.         0.65283936 0.         0.51129007 2.18440986 0.\n",
      " 0.05855185 1.79380286 0.88888657 0.         0.         0.\n",
      " 0.         3.43028474 0.         0.         0.73626673 0.\n",
      " 0.         0.         0.         1.09633613 0.         0.\n",
      " 0.         0.         1.65924406 0.         0.         0.\n",
      " 4.24345303 0.         0.         0.         1.63741601 0.34174347\n",
      " 2.99532294 2.79648399 0.         0.         0.         0.\n",
      " 0.         0.         0.         1.25809896 2.06077385 0.\n",
      " 0.         0.65283936 0.         0.51129007 2.18440986 0.\n",
      " 0.05855185 1.79380286 0.88888657 0.         0.         0.\n",
      " 0.         3.43028474 0.         0.         0.73626673]\n",
      "10: [4.         1.         0.         0.         0.         0.\n",
      " 0.         0.         0.         0.         0.         0.\n",
      " 0.         0.         0.         1.09633613 0.         0.\n",
      " 0.         0.         1.65924406 0.         0.         0.\n",
      " 4.24345303 0.         0.         0.         1.63741601 0.34174347\n",
      " 2.99532294 2.79648399 0.         0.         0.         0.\n",
      " 0.         0.         0.         1.25809896 2.06077385 0.\n",
      " 0.         0.65283936 0.         0.51129007 2.18440986 0.\n",
      " 0.05855185 1.79380286 0.88888657 0.         0.         0.\n",
      " 0.         3.43028474 0.         0.         0.73626673 0.\n",
      " 0.         0.         0.         1.09633613 0.         0.\n",
      " 0.         0.         1.65924406 0.         0.         0.\n",
      " 4.24345303 0.         0.         0.         1.63741601 0.34174347\n",
      " 2.99532294 2.79648399 0.         0.         0.         0.\n",
      " 0.         0.         0.         1.25809896 2.06077385 0.\n",
      " 0.         0.65283936 0.         0.51129007 2.18440986 0.\n",
      " 0.05855185 1.79380286 0.88888657 0.         0.         0.\n",
      " 0.         3.43028474 0.         0.         0.73626673]\n",
      "11: [4.         1.         0.         0.         0.         0.\n",
      " 0.         0.         0.         0.         0.         0.\n",
      " 0.         0.         0.         1.09633613 0.         0.\n",
      " 0.         0.         1.65924406 0.         0.         0.\n",
      " 4.24345303 0.         0.         0.         1.63741601 0.34174347\n",
      " 2.99532294 2.79648399 0.         0.         0.         0.\n",
      " 0.         0.         0.         1.25809896 2.06077385 0.\n",
      " 0.         0.65283936 0.         0.51129007 2.18440986 0.\n",
      " 0.05855185 1.79380286 0.88888657 0.         0.         0.\n",
      " 0.         3.43028474 0.         0.         0.73626673 0.\n",
      " 0.         0.         0.         1.09633613 0.         0.\n",
      " 0.         0.         1.65924406 0.         0.         0.\n",
      " 4.24345303 0.         0.         0.         1.63741601 0.34174347\n",
      " 2.99532294 2.79648399 0.         0.         0.         0.\n",
      " 0.         0.         0.         1.25809896 2.06077385 0.\n",
      " 0.         0.65283936 0.         0.51129007 2.18440986 0.\n",
      " 0.05855185 1.79380286 0.88888657 0.         0.         0.\n",
      " 0.         3.43028474 0.         0.         0.73626673]\n",
      "12: [4.         1.         0.         0.         0.         0.\n",
      " 0.         0.         0.         0.         0.         0.\n",
      " 0.         0.         0.         1.09633613 0.         0.\n",
      " 0.         0.         1.65924406 0.         0.         0.\n",
      " 4.24345303 0.         0.         0.         1.63741601 0.34174347\n",
      " 2.99532294 2.79648399 0.         0.         0.         0.\n",
      " 0.         0.         0.         1.25809896 2.06077385 0.\n",
      " 0.         0.65283936 0.         0.51129007 2.18440986 0.\n",
      " 0.05855185 1.79380286 0.88888657 0.         0.         0.\n",
      " 0.         3.43028474 0.         0.         0.73626673 0.\n",
      " 0.         0.         0.         1.09633613 0.         0.\n",
      " 0.         0.         1.65924406 0.         0.         0.\n",
      " 4.24345303 0.         0.         0.         1.63741601 0.34174347\n",
      " 2.99532294 2.79648399 0.         0.         0.         0.\n",
      " 0.         0.         0.         1.25809896 2.06077385 0.\n",
      " 0.         0.65283936 0.         0.51129007 2.18440986 0.\n",
      " 0.05855185 1.79380286 0.88888657 0.         0.         0.\n",
      " 0.         3.43028474 0.         0.         0.73626673]\n",
      "13: [4.         1.         0.         0.         0.         0.\n",
      " 0.         0.         0.         0.         0.         0.\n",
      " 0.         0.         0.         1.09633613 0.         0.\n",
      " 0.         0.         1.65924406 0.         0.         0.\n",
      " 4.24345303 0.         0.         0.         1.63741601 0.34174347\n",
      " 2.99532294 2.79648399 0.         0.         0.         0.\n",
      " 0.         0.         0.         1.25809896 2.06077385 0.\n",
      " 0.         0.65283936 0.         0.51129007 2.18440986 0.\n",
      " 0.05855185 1.79380286 0.88888657 0.         0.         0.\n",
      " 0.         3.43028474 0.         0.         0.73626673 0.\n",
      " 0.         0.         0.         1.09633613 0.         0.\n",
      " 0.         0.         1.65924406 0.         0.         0.\n",
      " 4.24345303 0.         0.         0.         1.63741601 0.34174347\n",
      " 2.99532294 2.79648399 0.         0.         0.         0.\n",
      " 0.         0.         0.         1.25809896 2.06077385 0.\n",
      " 0.         0.65283936 0.         0.51129007 2.18440986 0.\n",
      " 0.05855185 1.79380286 0.88888657 0.         0.         0.\n",
      " 0.         3.43028474 0.         0.         0.73626673]\n",
      "14: [3.00000000e+00 1.00000000e+00 0.00000000e+00 0.00000000e+00\n",
      " 0.00000000e+00 0.00000000e+00 0.00000000e+00 0.00000000e+00\n",
      " 0.00000000e+00 0.00000000e+00 1.00006840e+04 0.00000000e+00\n",
      " 0.00000000e+00 0.00000000e+00 0.00000000e+00 1.09633613e+00\n",
      " 0.00000000e+00 0.00000000e+00 0.00000000e+00 0.00000000e+00\n",
      " 1.65924406e+00 0.00000000e+00 0.00000000e+00 0.00000000e+00\n",
      " 4.24345303e+00 0.00000000e+00 0.00000000e+00 0.00000000e+00\n",
      " 1.63741601e+00 3.41743469e-01 2.99532294e+00 2.79648399e+00\n",
      " 0.00000000e+00 0.00000000e+00 0.00000000e+00 0.00000000e+00\n",
      " 0.00000000e+00 0.00000000e+00 0.00000000e+00 1.25809896e+00\n",
      " 2.06077385e+00 0.00000000e+00 0.00000000e+00 6.52839363e-01\n",
      " 0.00000000e+00 5.11290073e-01 2.18440986e+00 0.00000000e+00\n",
      " 5.85518479e-02 1.79380286e+00 8.88886571e-01 0.00000000e+00\n",
      " 0.00000000e+00 0.00000000e+00 0.00000000e+00 3.43028474e+00\n",
      " 0.00000000e+00 0.00000000e+00 7.36266732e-01 0.00000000e+00\n",
      " 0.00000000e+00 0.00000000e+00 0.00000000e+00 1.09633613e+00\n",
      " 0.00000000e+00 0.00000000e+00 0.00000000e+00 0.00000000e+00\n",
      " 1.65924406e+00 0.00000000e+00 0.00000000e+00 0.00000000e+00\n",
      " 4.24345303e+00 0.00000000e+00 0.00000000e+00 0.00000000e+00\n",
      " 1.63741601e+00 3.41743469e-01 2.99532294e+00 2.79648399e+00\n",
      " 0.00000000e+00 0.00000000e+00 0.00000000e+00 0.00000000e+00\n",
      " 0.00000000e+00 0.00000000e+00 0.00000000e+00 1.25809896e+00\n",
      " 2.06077385e+00 0.00000000e+00 0.00000000e+00 6.52839363e-01\n",
      " 0.00000000e+00 5.11290073e-01 2.18440986e+00 0.00000000e+00\n",
      " 5.85518479e-02 1.79380286e+00 8.88886571e-01 0.00000000e+00\n",
      " 0.00000000e+00 0.00000000e+00 0.00000000e+00 3.43028474e+00\n",
      " 0.00000000e+00 0.00000000e+00 7.36266732e-01]\n",
      "15: [1.         1.         0.         0.         0.         0.\n",
      " 0.         0.         0.         0.         0.         0.\n",
      " 0.         0.         0.         1.23458457 0.         0.\n",
      " 2.0189836  0.         3.55495    0.         0.43156987 0.\n",
      " 2.71039891 4.68894053 0.         3.41022038 3.64144993 3.28095341\n",
      " 4.13818741 0.         0.         2.35325408 0.         0.\n",
      " 0.         0.         0.         0.         0.         0.\n",
      " 0.         1.50546503 0.         0.         0.         0.\n",
      " 0.         0.         0.         0.83492953 0.         0.\n",
      " 0.         0.         0.         0.12046571 0.09907804 0.\n",
      " 0.         0.         0.         1.09633613 0.         0.\n",
      " 0.         0.         1.65924406 0.         0.         0.\n",
      " 4.24345303 0.         0.         0.         1.63741601 0.34174347\n",
      " 2.99532294 2.79648399 0.         0.         0.         0.\n",
      " 0.         0.         0.         1.25809896 2.06077385 0.\n",
      " 0.         0.65283936 0.         0.51129007 2.18440986 0.\n",
      " 0.05855185 1.79380286 0.88888657 0.         0.         0.\n",
      " 0.         3.43028474 0.         0.         0.73626673]\n",
      "16: [4.         1.         0.         0.         0.         0.\n",
      " 0.         0.         0.         0.         0.         0.\n",
      " 0.         0.         0.         1.09633613 0.         0.\n",
      " 0.         0.         1.65924406 0.         0.         0.\n",
      " 4.24345303 0.         0.         0.         1.63741601 0.34174347\n",
      " 2.99532294 2.79648399 0.         0.         0.         0.\n",
      " 0.         0.         0.         1.25809896 2.06077385 0.\n",
      " 0.         0.65283936 0.         0.51129007 2.18440986 0.\n",
      " 0.05855185 1.79380286 0.88888657 0.         0.         0.\n",
      " 0.         3.43028474 0.         0.         0.73626673 0.\n",
      " 0.         0.         0.         1.09633613 0.         0.\n",
      " 0.         0.         1.65924406 0.         0.         0.\n",
      " 4.24345303 0.         0.         0.         1.63741601 0.34174347\n",
      " 2.99532294 2.79648399 0.         0.         0.         0.\n",
      " 0.         0.         0.         1.25809896 2.06077385 0.\n",
      " 0.         0.65283936 0.         0.51129007 2.18440986 0.\n",
      " 0.05855185 1.79380286 0.88888657 0.         0.         0.\n",
      " 0.         3.43028474 0.         0.         0.73626673]\n",
      "17: [4.         1.         0.         0.         0.         0.\n",
      " 0.         0.         0.         0.         0.         0.\n",
      " 0.         0.         0.         1.09633613 0.         0.\n",
      " 0.         0.         1.65924406 0.         0.         0.\n",
      " 4.24345303 0.         0.         0.         1.63741601 0.34174347\n",
      " 2.99532294 2.79648399 0.         0.         0.         0.\n",
      " 0.         0.         0.         1.25809896 2.06077385 0.\n",
      " 0.         0.65283936 0.         0.51129007 2.18440986 0.\n",
      " 0.05855185 1.79380286 0.88888657 0.         0.         0.\n",
      " 0.         3.43028474 0.         0.         0.73626673 0.\n",
      " 0.         0.         0.         1.09633613 0.         0.\n",
      " 0.         0.         1.65924406 0.         0.         0.\n",
      " 4.24345303 0.         0.         0.         1.63741601 0.34174347\n",
      " 2.99532294 2.79648399 0.         0.         0.         0.\n",
      " 0.         0.         0.         1.25809896 2.06077385 0.\n",
      " 0.         0.65283936 0.         0.51129007 2.18440986 0.\n",
      " 0.05855185 1.79380286 0.88888657 0.         0.         0.\n",
      " 0.         3.43028474 0.         0.         0.73626673]\n",
      "18: [3.         1.         0.         0.         0.         0.\n",
      " 0.         0.         0.         0.         0.         0.\n",
      " 0.         0.         0.         1.09633613 0.         0.\n",
      " 0.         0.         1.65924406 0.         0.         0.\n",
      " 4.24345303 0.         0.         0.         1.63741601 0.34174347\n",
      " 2.99532294 2.79648399 0.         0.         0.         0.\n",
      " 0.         0.         0.         1.25809896 2.06077385 0.\n",
      " 0.         0.65283936 0.         0.51129007 2.18440986 0.\n",
      " 0.05855185 1.79380286 0.88888657 0.         0.         0.\n",
      " 0.         3.43028474 0.         0.         0.73626673 0.\n",
      " 0.         0.         0.         1.09633613 0.         0.\n",
      " 0.         0.         1.65924406 0.         0.         0.\n",
      " 4.24345303 0.         0.         0.         1.63741601 0.34174347\n",
      " 2.99532294 2.79648399 0.         0.         0.         0.\n",
      " 0.         0.         0.         1.25809896 2.06077385 0.\n",
      " 0.         0.65283936 0.         0.51129007 2.18440986 0.\n",
      " 0.05855185 1.79380286 0.88888657 0.         0.         0.\n",
      " 0.         3.43028474 0.         0.         0.73626673]\n",
      "19: [2.00000000e+00 1.00000000e+00 0.00000000e+00 0.00000000e+00\n",
      " 0.00000000e+00 0.00000000e+00 0.00000000e+00 0.00000000e+00\n",
      " 0.00000000e+00 0.00000000e+00 3.99977450e+04 0.00000000e+00\n",
      " 0.00000000e+00 0.00000000e+00 0.00000000e+00 1.09633613e+00\n",
      " 0.00000000e+00 0.00000000e+00 0.00000000e+00 0.00000000e+00\n",
      " 1.65924406e+00 0.00000000e+00 0.00000000e+00 0.00000000e+00\n",
      " 4.24345303e+00 0.00000000e+00 0.00000000e+00 0.00000000e+00\n",
      " 1.63741601e+00 3.41743469e-01 2.99532294e+00 2.79648399e+00\n",
      " 0.00000000e+00 0.00000000e+00 0.00000000e+00 0.00000000e+00\n",
      " 0.00000000e+00 0.00000000e+00 0.00000000e+00 1.25809896e+00\n",
      " 2.06077385e+00 0.00000000e+00 0.00000000e+00 6.52839363e-01\n",
      " 0.00000000e+00 5.11290073e-01 2.18440986e+00 0.00000000e+00\n",
      " 5.85518479e-02 1.79380286e+00 8.88886571e-01 0.00000000e+00\n",
      " 0.00000000e+00 0.00000000e+00 0.00000000e+00 3.43028474e+00\n",
      " 0.00000000e+00 0.00000000e+00 7.36266732e-01 0.00000000e+00\n",
      " 0.00000000e+00 0.00000000e+00 0.00000000e+00 1.09633613e+00\n",
      " 0.00000000e+00 0.00000000e+00 0.00000000e+00 0.00000000e+00\n",
      " 1.65924406e+00 0.00000000e+00 0.00000000e+00 0.00000000e+00\n",
      " 4.24345303e+00 0.00000000e+00 0.00000000e+00 0.00000000e+00\n",
      " 1.63741601e+00 3.41743469e-01 2.99532294e+00 2.79648399e+00\n",
      " 0.00000000e+00 0.00000000e+00 0.00000000e+00 0.00000000e+00\n",
      " 0.00000000e+00 0.00000000e+00 0.00000000e+00 1.25809896e+00\n",
      " 2.06077385e+00 0.00000000e+00 0.00000000e+00 6.52839363e-01\n",
      " 0.00000000e+00 5.11290073e-01 2.18440986e+00 0.00000000e+00\n",
      " 5.85518479e-02 1.79380286e+00 8.88886571e-01 0.00000000e+00\n",
      " 0.00000000e+00 0.00000000e+00 0.00000000e+00 3.43028474e+00\n",
      " 0.00000000e+00 0.00000000e+00 7.36266732e-01]\n",
      "20: [5.         1.         0.         0.         0.         0.\n",
      " 0.         0.         0.         0.         0.         2.24203086\n",
      " 0.         0.         0.         0.         0.         0.\n",
      " 0.         0.         0.         0.         0.         0.\n",
      " 0.         0.         1.26028812 1.04483271 0.         0.06215841\n",
      " 0.         0.         0.         0.         0.         0.\n",
      " 0.         0.         0.         0.         0.         0.\n",
      " 0.         0.         0.98151988 0.         0.         0.\n",
      " 0.         0.         0.22810914 2.87701535 0.         0.\n",
      " 0.         0.         0.         0.13575099 1.42113709 0.\n",
      " 0.         0.         0.         1.09633613 0.         0.\n",
      " 0.         0.         1.65924406 0.         0.         0.\n",
      " 4.24345303 0.         0.         0.         1.63741601 0.34174347\n",
      " 2.99532294 2.79648399 0.         0.         0.         0.\n",
      " 0.         0.         0.         1.25809896 2.06077385 0.\n",
      " 0.         0.65283936 0.         0.51129007 2.18440986 0.\n",
      " 0.05855185 1.79380286 0.88888657 0.         0.         0.\n",
      " 0.         3.43028474 0.         0.         0.73626673]\n",
      "21: [6.         1.         0.         0.         0.         0.\n",
      " 0.         0.         0.         0.         0.         0.\n",
      " 0.         0.         0.         1.09633613 0.         0.\n",
      " 0.         0.         1.65924406 0.         0.         0.\n",
      " 4.24345303 0.         0.         0.         1.63741601 0.34174347\n",
      " 2.99532294 2.79648399 0.         0.         0.         0.\n",
      " 0.         0.         0.         1.25809896 2.06077385 0.\n",
      " 0.         0.65283936 0.         0.51129007 2.18440986 0.\n",
      " 0.05855185 1.79380286 0.88888657 0.         0.         0.\n",
      " 0.         3.43028474 0.         0.         0.73626673 0.\n",
      " 0.         0.         0.         1.09633613 0.         0.\n",
      " 0.         0.         1.65924406 0.         0.         0.\n",
      " 4.24345303 0.         0.         0.         1.63741601 0.34174347\n",
      " 2.99532294 2.79648399 0.         0.         0.         0.\n",
      " 0.         0.         0.         1.25809896 2.06077385 0.\n",
      " 0.         0.65283936 0.         0.51129007 2.18440986 0.\n",
      " 0.05855185 1.79380286 0.88888657 0.         0.         0.\n",
      " 0.         3.43028474 0.         0.         0.73626673]\n"
     ]
    }
   ],
   "source": [
    "# print first sequence in X_train\n",
    "print('First sequence in X_train:')\n",
    "for i, x in enumerate(X_train[2]):\n",
    "    print(f'{i}: {x}')"
   ]
  },
  {
   "cell_type": "code",
   "execution_count": 13,
   "metadata": {
    "execution": {
     "iopub.execute_input": "2024-08-31T21:51:20.297846Z",
     "iopub.status.busy": "2024-08-31T21:51:20.297657Z",
     "iopub.status.idle": "2024-08-31T21:51:20.303090Z",
     "shell.execute_reply": "2024-08-31T21:51:20.302372Z"
    }
   },
   "outputs": [
    {
     "name": "stdout",
     "output_type": "stream",
     "text": [
      "X_train[0]=array([[0.        , 0.        , 0.        , 0.        , 0.        ,\n",
      "        0.        , 0.        , 0.        , 0.        , 0.        ,\n",
      "        0.        , 0.        , 2.97027802, 0.        , 0.        ,\n",
      "        0.        , 0.69150335, 1.52973974, 0.        , 0.        ,\n",
      "        3.3184731 , 0.        , 0.        , 0.87207317, 3.30695677,\n",
      "        0.        , 0.        , 0.        , 3.47280598, 0.        ,\n",
      "        2.3151474 , 2.58476567, 0.57504863, 0.        , 0.        ,\n",
      "        0.        , 0.        , 0.        , 0.        , 0.70897317,\n",
      "        0.13242683, 2.94519401, 0.        , 0.        , 0.        ,\n",
      "        2.98629904, 2.88327932, 4.87528276, 0.        , 3.95268607,\n",
      "        0.79194558, 0.12444903, 0.        , 2.72086287, 0.        ,\n",
      "        0.        , 0.        , 3.40203428, 0.        , 0.        ,\n",
      "        0.        , 0.        , 0.        , 1.09633613, 0.        ,\n",
      "        0.        , 0.        , 0.        , 1.65924406, 0.        ,\n",
      "        0.        , 0.        , 4.24345303, 0.        , 0.        ,\n",
      "        0.        , 1.63741601, 0.34174347, 2.99532294, 2.79648399,\n",
      "        0.        , 0.        , 0.        , 0.        , 0.        ,\n",
      "        0.        , 0.        , 1.25809896, 2.06077385, 0.        ,\n",
      "        0.        , 0.65283936, 0.        , 0.51129007, 2.18440986,\n",
      "        0.        , 0.05855185, 1.79380286, 0.88888657, 0.        ,\n",
      "        0.        , 0.        , 0.        , 3.43028474, 0.        ,\n",
      "        0.        , 0.73626673]])\n"
     ]
    }
   ],
   "source": [
    "print(f'{X_train[0]=}')"
   ]
  },
  {
   "cell_type": "code",
   "execution_count": 14,
   "metadata": {
    "execution": {
     "iopub.execute_input": "2024-08-31T21:51:20.307554Z",
     "iopub.status.busy": "2024-08-31T21:51:20.307335Z",
     "iopub.status.idle": "2024-08-31T21:53:58.437937Z",
     "shell.execute_reply": "2024-08-31T21:53:58.437187Z"
    }
   },
   "outputs": [],
   "source": [
    "# Precompute identity matrices\n",
    "event_eye = np.eye(event_types_cardinality)\n",
    "user_eye = np.eye(users_cardinality)\n",
    "addr_eye = np.eye(addr_cardinality)\n",
    "port_eye = np.eye(port_cardinality)\n",
    "\n",
    "def encode_features(sequence: np.ndarray) -> np.ndarray:\n",
    "    # Initialize the output array with precomputed shapes\n",
    "    encoded_seq = np.empty((len(sequence),\n",
    "        event_eye.shape[1]\n",
    "        + user_eye.shape[1]\n",
    "        + addr_cardinality * 4\n",
    "        + port_cardinality * 4\n",
    "        + 48 * 2 # 48 is latent space dimension\n",
    "        + 1 # delta time\n",
    "    ))\n",
    "\n",
    "    for i, feature_vector in enumerate(sequence):\n",
    "        # one-hot\n",
    "        event = event_eye[int(feature_vector[0])]\n",
    "        username = user_eye[int(feature_vector[1])]\n",
    "        pred_obj1_localip = addr_eye[int(feature_vector[2])]\n",
    "        pred_obj1_localport = port_eye[int(feature_vector[3])]\n",
    "        pred_obj1_remoteip = addr_eye[int(feature_vector[4])]\n",
    "        pred_obj1_remoteport = port_eye[int(feature_vector[5])]\n",
    "        pred_obj2_localip = addr_eye[int(feature_vector[6])]\n",
    "        pred_obj2_localport = port_eye[int(feature_vector[7])]\n",
    "        pred_obj2_remoteip = addr_eye[int(feature_vector[8])]\n",
    "        pred_obj2_remoteport = port_eye[int(feature_vector[9])]\n",
    "        delta_time = feature_vector[10]\n",
    "        path1 = feature_vector[10:10+48]\n",
    "        path2 = feature_vector[10+48:10+48+48]\n",
    "\n",
    "        # Concatenate all features into a single feature vector\n",
    "        encoded_seq[i] = np.concatenate((event, username, pred_obj1_localip, pred_obj1_localport, pred_obj1_remoteip, pred_obj1_remoteport, pred_obj2_localip, pred_obj2_localport, pred_obj2_remoteip, pred_obj2_remoteport, [delta_time], path1, path2))\n",
    "\n",
    "    return encoded_seq\n",
    "\n",
    "X_train = [ encode_features(x) for x in X_train ]\n",
    "X_val = [ encode_features(x) for x in X_val ]\n",
    "X_test = [ encode_features(x) for x in X_test ]"
   ]
  },
  {
   "cell_type": "code",
   "execution_count": 15,
   "metadata": {
    "execution": {
     "iopub.execute_input": "2024-08-31T21:53:58.442245Z",
     "iopub.status.busy": "2024-08-31T21:53:58.442049Z",
     "iopub.status.idle": "2024-08-31T21:53:58.446503Z",
     "shell.execute_reply": "2024-08-31T21:53:58.445867Z"
    }
   },
   "outputs": [
    {
     "name": "stdout",
     "output_type": "stream",
     "text": [
      "Feature vector cardinality: 194\n"
     ]
    }
   ],
   "source": [
    "feature_vector_cardinality = X_train[0].shape[1]\n",
    "\n",
    "print(f'Feature vector cardinality: {feature_vector_cardinality}')"
   ]
  },
  {
   "cell_type": "code",
   "execution_count": 16,
   "metadata": {
    "execution": {
     "iopub.execute_input": "2024-08-31T21:53:58.450792Z",
     "iopub.status.busy": "2024-08-31T21:53:58.450507Z",
     "iopub.status.idle": "2024-08-31T21:53:58.487186Z",
     "shell.execute_reply": "2024-08-31T21:53:58.486521Z"
    }
   },
   "outputs": [
    {
     "name": "stdout",
     "output_type": "stream",
     "text": [
      "First sequence in X_train:\n",
      "0: [0.         1.         0.         0.         0.         0.\n",
      " 0.         0.         0.         0.         0.         0.\n",
      " 0.         0.         0.         0.         0.         0.\n",
      " 0.         0.         0.         0.         0.         0.\n",
      " 0.         0.         0.         0.         0.         0.\n",
      " 1.         0.         0.         0.         0.         0.\n",
      " 0.         0.         0.         0.         0.         0.\n",
      " 0.         0.         0.         1.         0.         0.\n",
      " 0.         1.         0.         0.         0.         0.\n",
      " 0.         0.         0.         0.         1.         0.\n",
      " 0.         0.         1.         0.         0.         0.\n",
      " 0.         0.         0.         0.         0.         1.\n",
      " 0.         0.         0.         1.         0.         0.\n",
      " 0.         0.         0.         0.         0.         0.\n",
      " 1.         0.         0.         0.         1.         0.\n",
      " 0.         0.         0.         0.         0.         0.\n",
      " 0.         0.         0.         0.53486919 0.         0.\n",
      " 0.         0.         0.         0.         1.61682844 0.\n",
      " 0.         0.         1.12007046 0.         0.         0.\n",
      " 0.56265187 1.13273597 0.         0.09537023 0.         0.\n",
      " 0.         0.         0.         0.         0.         0.\n",
      " 0.         0.         0.         0.         0.         0.\n",
      " 0.         0.         0.         0.         0.         0.\n",
      " 0.         0.         0.         0.         0.         0.\n",
      " 0.         1.34385693 1.14689958 0.         0.         0.\n",
      " 0.         1.09633613 0.         0.         0.         0.\n",
      " 1.65924406 0.         0.         0.         4.24345303 0.\n",
      " 0.         0.         1.63741601 0.34174347 2.99532294 2.79648399\n",
      " 0.         0.         0.         0.         0.         0.\n",
      " 0.         1.25809896 2.06077385 0.         0.         0.65283936\n",
      " 0.         0.51129007 2.18440986 0.         0.05855185 1.79380286\n",
      " 0.88888657 0.         0.         0.         0.         3.43028474\n",
      " 0.         0.        ]\n",
      "1: [0.         0.         1.         0.         0.         0.\n",
      " 0.         0.         0.         0.         0.         0.\n",
      " 0.         0.         0.         0.         0.         0.\n",
      " 0.         0.         0.         0.         0.         0.\n",
      " 0.         0.         0.         0.         0.         0.\n",
      " 1.         0.         0.         0.         0.         0.\n",
      " 0.         0.         0.         0.         0.         0.\n",
      " 0.         0.         0.         1.         0.         0.\n",
      " 0.         1.         0.         0.         0.         0.\n",
      " 0.         0.         0.         0.         1.         0.\n",
      " 0.         0.         1.         0.         0.         0.\n",
      " 0.         0.         0.         0.         0.         1.\n",
      " 0.         0.         0.         1.         0.         0.\n",
      " 0.         0.         0.         0.         0.         0.\n",
      " 1.         0.         0.         0.         1.         0.\n",
      " 0.         0.         0.         0.         0.         0.\n",
      " 0.         0.         0.         0.53486919 0.         0.\n",
      " 0.         0.         0.         0.         1.61682844 0.\n",
      " 0.         0.         1.12007046 0.         0.         0.\n",
      " 0.56265187 1.13273597 0.         0.09537023 0.         0.\n",
      " 0.         0.         0.         0.         0.         0.\n",
      " 0.         0.         0.         0.         0.         0.\n",
      " 0.         0.         0.         0.         0.         0.\n",
      " 0.         0.         0.         0.         0.         0.\n",
      " 0.         1.34385693 1.14689958 0.         0.         0.\n",
      " 0.         1.09633613 0.         0.         0.         0.\n",
      " 1.65924406 0.         0.         0.         4.24345303 0.\n",
      " 0.         0.         1.63741601 0.34174347 2.99532294 2.79648399\n",
      " 0.         0.         0.         0.         0.         0.\n",
      " 0.         1.25809896 2.06077385 0.         0.         0.65283936\n",
      " 0.         0.51129007 2.18440986 0.         0.05855185 1.79380286\n",
      " 0.88888657 0.         0.         0.         0.         3.43028474\n",
      " 0.         0.        ]\n",
      "2: [0.         0.         0.         1.         0.         0.\n",
      " 0.         0.         0.         0.         0.         0.\n",
      " 0.         0.         0.         0.         0.         0.\n",
      " 0.         0.         0.         0.         0.         0.\n",
      " 0.         0.         0.         0.         0.         0.\n",
      " 1.         0.         0.         0.         0.         0.\n",
      " 0.         0.         0.         0.         0.         0.\n",
      " 0.         0.         0.         1.         0.         0.\n",
      " 0.         1.         0.         0.         0.         0.\n",
      " 0.         0.         0.         0.         1.         0.\n",
      " 0.         0.         1.         0.         0.         0.\n",
      " 0.         0.         0.         0.         0.         1.\n",
      " 0.         0.         0.         1.         0.         0.\n",
      " 0.         0.         0.         0.         0.         0.\n",
      " 1.         0.         0.         0.         1.         0.\n",
      " 0.         0.         0.         0.         0.         0.\n",
      " 0.         0.         0.         0.         0.         0.\n",
      " 0.         1.09633613 0.         0.         0.         0.\n",
      " 1.65924406 0.         0.         0.         4.24345303 0.\n",
      " 0.         0.         1.63741601 0.34174347 2.99532294 2.79648399\n",
      " 0.         0.         0.         0.         0.         0.\n",
      " 0.         1.25809896 2.06077385 0.         0.         0.65283936\n",
      " 0.         0.51129007 2.18440986 0.         0.05855185 1.79380286\n",
      " 0.88888657 0.         0.         0.         0.         3.43028474\n",
      " 0.         0.         0.73626673 0.         0.         0.\n",
      " 0.         1.09633613 0.         0.         0.         0.\n",
      " 1.65924406 0.         0.         0.         4.24345303 0.\n",
      " 0.         0.         1.63741601 0.34174347 2.99532294 2.79648399\n",
      " 0.         0.         0.         0.         0.         0.\n",
      " 0.         1.25809896 2.06077385 0.         0.         0.65283936\n",
      " 0.         0.51129007 2.18440986 0.         0.05855185 1.79380286\n",
      " 0.88888657 0.         0.         0.         0.         3.43028474\n",
      " 0.         0.        ]\n",
      "3: [0.         1.         0.         0.         0.         0.\n",
      " 0.         0.         0.         0.         0.         0.\n",
      " 0.         0.         0.         0.         0.         0.\n",
      " 0.         0.         0.         0.         0.         0.\n",
      " 0.         0.         0.         0.         0.         0.\n",
      " 1.         0.         0.         0.         0.         0.\n",
      " 0.         0.         0.         0.         0.         0.\n",
      " 0.         0.         0.         1.         0.         0.\n",
      " 0.         1.         0.         0.         0.         0.\n",
      " 0.         0.         0.         0.         1.         0.\n",
      " 0.         0.         1.         0.         0.         0.\n",
      " 0.         0.         0.         0.         0.         1.\n",
      " 0.         0.         0.         1.         0.         0.\n",
      " 0.         0.         0.         0.         0.         0.\n",
      " 1.         0.         0.         0.         1.         0.\n",
      " 0.         0.         0.         0.         0.         0.\n",
      " 0.         0.         0.         0.         0.         0.\n",
      " 0.         1.09633613 0.         0.         0.         0.\n",
      " 1.65924406 0.         0.         0.         4.24345303 0.\n",
      " 0.         0.         1.63741601 0.34174347 2.99532294 2.79648399\n",
      " 0.         0.         0.         0.         0.         0.\n",
      " 0.         1.25809896 2.06077385 0.         0.         0.65283936\n",
      " 0.         0.51129007 2.18440986 0.         0.05855185 1.79380286\n",
      " 0.88888657 0.         0.         0.         0.         3.43028474\n",
      " 0.         0.         0.73626673 0.         0.         0.\n",
      " 0.         1.09633613 0.         0.         0.         0.\n",
      " 1.65924406 0.         0.         0.         4.24345303 0.\n",
      " 0.         0.         1.63741601 0.34174347 2.99532294 2.79648399\n",
      " 0.         0.         0.         0.         0.         0.\n",
      " 0.         1.25809896 2.06077385 0.         0.         0.65283936\n",
      " 0.         0.51129007 2.18440986 0.         0.05855185 1.79380286\n",
      " 0.88888657 0.         0.         0.         0.         3.43028474\n",
      " 0.         0.        ]\n",
      "4: [0.         0.         1.         0.         0.         0.\n",
      " 0.         0.         0.         0.         0.         0.\n",
      " 0.         0.         0.         0.         0.         0.\n",
      " 0.         0.         0.         0.         0.         0.\n",
      " 0.         0.         0.         0.         0.         0.\n",
      " 1.         0.         0.         0.         0.         0.\n",
      " 0.         0.         0.         0.         0.         0.\n",
      " 0.         0.         0.         1.         0.         0.\n",
      " 0.         1.         0.         0.         0.         0.\n",
      " 0.         0.         0.         0.         1.         0.\n",
      " 0.         0.         1.         0.         0.         0.\n",
      " 0.         0.         0.         0.         0.         1.\n",
      " 0.         0.         0.         1.         0.         0.\n",
      " 0.         0.         0.         0.         0.         0.\n",
      " 1.         0.         0.         0.         1.         0.\n",
      " 0.         0.         0.         0.         0.         0.\n",
      " 0.         0.         0.         0.         0.         0.\n",
      " 0.         1.09633613 0.         0.         0.         0.\n",
      " 1.65924406 0.         0.         0.         4.24345303 0.\n",
      " 0.         0.         1.63741601 0.34174347 2.99532294 2.79648399\n",
      " 0.         0.         0.         0.         0.         0.\n",
      " 0.         1.25809896 2.06077385 0.         0.         0.65283936\n",
      " 0.         0.51129007 2.18440986 0.         0.05855185 1.79380286\n",
      " 0.88888657 0.         0.         0.         0.         3.43028474\n",
      " 0.         0.         0.73626673 0.         0.         0.\n",
      " 0.         1.09633613 0.         0.         0.         0.\n",
      " 1.65924406 0.         0.         0.         4.24345303 0.\n",
      " 0.         0.         1.63741601 0.34174347 2.99532294 2.79648399\n",
      " 0.         0.         0.         0.         0.         0.\n",
      " 0.         1.25809896 2.06077385 0.         0.         0.65283936\n",
      " 0.         0.51129007 2.18440986 0.         0.05855185 1.79380286\n",
      " 0.88888657 0.         0.         0.         0.         3.43028474\n",
      " 0.         0.        ]\n",
      "5: [0.         0.         1.         0.         0.         0.\n",
      " 0.         0.         0.         0.         0.         0.\n",
      " 0.         0.         0.         0.         0.         0.\n",
      " 0.         0.         0.         0.         0.         0.\n",
      " 0.         0.         0.         0.         0.         0.\n",
      " 1.         0.         0.         0.         0.         0.\n",
      " 0.         0.         0.         0.         0.         0.\n",
      " 0.         0.         0.         1.         0.         0.\n",
      " 0.         1.         0.         0.         0.         0.\n",
      " 0.         0.         0.         0.         1.         0.\n",
      " 0.         0.         1.         0.         0.         0.\n",
      " 0.         0.         0.         0.         0.         1.\n",
      " 0.         0.         0.         1.         0.         0.\n",
      " 0.         0.         0.         0.         0.         0.\n",
      " 1.         0.         0.         0.         1.         0.\n",
      " 0.         0.         0.         0.         0.         0.\n",
      " 0.         0.         0.         0.         0.         0.\n",
      " 0.         1.09633613 0.         0.         0.         0.\n",
      " 1.65924406 0.         0.         0.         4.24345303 0.\n",
      " 0.         0.         1.63741601 0.34174347 2.99532294 2.79648399\n",
      " 0.         0.         0.         0.         0.         0.\n",
      " 0.         1.25809896 2.06077385 0.         0.         0.65283936\n",
      " 0.         0.51129007 2.18440986 0.         0.05855185 1.79380286\n",
      " 0.88888657 0.         0.         0.         0.         3.43028474\n",
      " 0.         0.         0.73626673 0.         0.         0.\n",
      " 0.         1.09633613 0.         0.         0.         0.\n",
      " 1.65924406 0.         0.         0.         4.24345303 0.\n",
      " 0.         0.         1.63741601 0.34174347 2.99532294 2.79648399\n",
      " 0.         0.         0.         0.         0.         0.\n",
      " 0.         1.25809896 2.06077385 0.         0.         0.65283936\n",
      " 0.         0.51129007 2.18440986 0.         0.05855185 1.79380286\n",
      " 0.88888657 0.         0.         0.         0.         3.43028474\n",
      " 0.         0.        ]\n",
      "6: [0.         0.         0.         1.         0.         0.\n",
      " 0.         0.         0.         0.         0.         0.\n",
      " 0.         0.         0.         0.         0.         0.\n",
      " 0.         0.         0.         0.         0.         0.\n",
      " 0.         0.         0.         0.         0.         0.\n",
      " 1.         0.         0.         0.         0.         0.\n",
      " 0.         0.         0.         0.         0.         0.\n",
      " 0.         0.         0.         1.         0.         0.\n",
      " 0.         1.         0.         0.         0.         0.\n",
      " 0.         0.         0.         0.         1.         0.\n",
      " 0.         0.         1.         0.         0.         0.\n",
      " 0.         0.         0.         0.         0.         1.\n",
      " 0.         0.         0.         1.         0.         0.\n",
      " 0.         0.         0.         0.         0.         0.\n",
      " 1.         0.         0.         0.         1.         0.\n",
      " 0.         0.         0.         0.         0.         0.\n",
      " 0.         0.         0.         0.         0.         0.\n",
      " 0.         1.09633613 0.         0.         0.         0.\n",
      " 1.65924406 0.         0.         0.         4.24345303 0.\n",
      " 0.         0.         1.63741601 0.34174347 2.99532294 2.79648399\n",
      " 0.         0.         0.         0.         0.         0.\n",
      " 0.         1.25809896 2.06077385 0.         0.         0.65283936\n",
      " 0.         0.51129007 2.18440986 0.         0.05855185 1.79380286\n",
      " 0.88888657 0.         0.         0.         0.         3.43028474\n",
      " 0.         0.         0.73626673 0.         0.         0.\n",
      " 0.         1.09633613 0.         0.         0.         0.\n",
      " 1.65924406 0.         0.         0.         4.24345303 0.\n",
      " 0.         0.         1.63741601 0.34174347 2.99532294 2.79648399\n",
      " 0.         0.         0.         0.         0.         0.\n",
      " 0.         1.25809896 2.06077385 0.         0.         0.65283936\n",
      " 0.         0.51129007 2.18440986 0.         0.05855185 1.79380286\n",
      " 0.88888657 0.         0.         0.         0.         3.43028474\n",
      " 0.         0.        ]\n",
      "7: [0.         1.         0.         0.         0.         0.\n",
      " 0.         0.         0.         0.         0.         0.\n",
      " 0.         0.         0.         0.         0.         0.\n",
      " 0.         0.         0.         0.         0.         0.\n",
      " 0.         0.         0.         0.         0.         0.\n",
      " 1.         0.         0.         0.         0.         0.\n",
      " 0.         0.         0.         0.         0.         0.\n",
      " 0.         0.         0.         1.         0.         0.\n",
      " 0.         1.         0.         0.         0.         0.\n",
      " 0.         0.         0.         0.         1.         0.\n",
      " 0.         0.         1.         0.         0.         0.\n",
      " 0.         0.         0.         0.         0.         1.\n",
      " 0.         0.         0.         1.         0.         0.\n",
      " 0.         0.         0.         0.         0.         0.\n",
      " 1.         0.         0.         0.         1.         0.\n",
      " 0.         0.         0.         0.         0.         0.\n",
      " 0.         0.         0.         1.26066411 0.         0.\n",
      " 0.         0.         0.         0.         0.         0.\n",
      " 0.         0.         0.         0.         0.         0.\n",
      " 1.41880572 0.71844518 0.         0.         0.         0.\n",
      " 0.         0.         0.         0.         0.         0.\n",
      " 0.         0.         0.         0.         0.54902434 0.\n",
      " 0.46753502 0.         0.         0.         0.         0.\n",
      " 0.         0.64328188 0.         0.         0.         0.\n",
      " 0.         0.         2.2195282  0.         0.         0.\n",
      " 0.         1.09633613 0.         0.         0.         0.\n",
      " 1.65924406 0.         0.         0.         4.24345303 0.\n",
      " 0.         0.         1.63741601 0.34174347 2.99532294 2.79648399\n",
      " 0.         0.         0.         0.         0.         0.\n",
      " 0.         1.25809896 2.06077385 0.         0.         0.65283936\n",
      " 0.         0.51129007 2.18440986 0.         0.05855185 1.79380286\n",
      " 0.88888657 0.         0.         0.         0.         3.43028474\n",
      " 0.         0.        ]\n",
      "8: [0.         0.         0.         0.         1.         0.\n",
      " 0.         0.         0.         0.         0.         0.\n",
      " 0.         0.         0.         0.         0.         0.\n",
      " 0.         0.         0.         0.         0.         0.\n",
      " 0.         0.         0.         0.         0.         0.\n",
      " 1.         0.         0.         0.         0.         0.\n",
      " 0.         0.         0.         0.         0.         0.\n",
      " 0.         0.         0.         1.         0.         0.\n",
      " 0.         1.         0.         0.         0.         0.\n",
      " 0.         0.         0.         0.         1.         0.\n",
      " 0.         0.         1.         0.         0.         0.\n",
      " 0.         0.         0.         0.         0.         1.\n",
      " 0.         0.         0.         1.         0.         0.\n",
      " 0.         0.         0.         0.         0.         0.\n",
      " 1.         0.         0.         0.         1.         0.\n",
      " 0.         0.         0.         0.         0.         0.\n",
      " 0.         0.         0.         0.         0.         0.\n",
      " 0.         1.09633613 0.         0.         0.         0.\n",
      " 1.65924406 0.         0.         0.         4.24345303 0.\n",
      " 0.         0.         1.63741601 0.34174347 2.99532294 2.79648399\n",
      " 0.         0.         0.         0.         0.         0.\n",
      " 0.         1.25809896 2.06077385 0.         0.         0.65283936\n",
      " 0.         0.51129007 2.18440986 0.         0.05855185 1.79380286\n",
      " 0.88888657 0.         0.         0.         0.         3.43028474\n",
      " 0.         0.         0.73626673 0.         0.         0.\n",
      " 0.         1.09633613 0.         0.         0.         0.\n",
      " 1.65924406 0.         0.         0.         4.24345303 0.\n",
      " 0.         0.         1.63741601 0.34174347 2.99532294 2.79648399\n",
      " 0.         0.         0.         0.         0.         0.\n",
      " 0.         1.25809896 2.06077385 0.         0.         0.65283936\n",
      " 0.         0.51129007 2.18440986 0.         0.05855185 1.79380286\n",
      " 0.88888657 0.         0.         0.         0.         3.43028474\n",
      " 0.         0.        ]\n",
      "9: [0.         0.         0.         0.         1.         0.\n",
      " 0.         0.         0.         0.         0.         0.\n",
      " 0.         0.         0.         0.         0.         0.\n",
      " 0.         0.         0.         0.         0.         0.\n",
      " 0.         0.         0.         0.         0.         0.\n",
      " 1.         0.         0.         0.         0.         0.\n",
      " 0.         0.         0.         0.         0.         0.\n",
      " 0.         0.         0.         1.         0.         0.\n",
      " 0.         1.         0.         0.         0.         0.\n",
      " 0.         0.         0.         0.         1.         0.\n",
      " 0.         0.         1.         0.         0.         0.\n",
      " 0.         0.         0.         0.         0.         1.\n",
      " 0.         0.         0.         1.         0.         0.\n",
      " 0.         0.         0.         0.         0.         0.\n",
      " 1.         0.         0.         0.         1.         0.\n",
      " 0.         0.         0.         0.         0.         0.\n",
      " 0.         0.         0.         0.         0.         0.\n",
      " 0.         1.09633613 0.         0.         0.         0.\n",
      " 1.65924406 0.         0.         0.         4.24345303 0.\n",
      " 0.         0.         1.63741601 0.34174347 2.99532294 2.79648399\n",
      " 0.         0.         0.         0.         0.         0.\n",
      " 0.         1.25809896 2.06077385 0.         0.         0.65283936\n",
      " 0.         0.51129007 2.18440986 0.         0.05855185 1.79380286\n",
      " 0.88888657 0.         0.         0.         0.         3.43028474\n",
      " 0.         0.         0.73626673 0.         0.         0.\n",
      " 0.         1.09633613 0.         0.         0.         0.\n",
      " 1.65924406 0.         0.         0.         4.24345303 0.\n",
      " 0.         0.         1.63741601 0.34174347 2.99532294 2.79648399\n",
      " 0.         0.         0.         0.         0.         0.\n",
      " 0.         1.25809896 2.06077385 0.         0.         0.65283936\n",
      " 0.         0.51129007 2.18440986 0.         0.05855185 1.79380286\n",
      " 0.88888657 0.         0.         0.         0.         3.43028474\n",
      " 0.         0.        ]\n",
      "10: [0.         0.         0.         0.         1.         0.\n",
      " 0.         0.         0.         0.         0.         0.\n",
      " 0.         0.         0.         0.         0.         0.\n",
      " 0.         0.         0.         0.         0.         0.\n",
      " 0.         0.         0.         0.         0.         0.\n",
      " 1.         0.         0.         0.         0.         0.\n",
      " 0.         0.         0.         0.         0.         0.\n",
      " 0.         0.         0.         1.         0.         0.\n",
      " 0.         1.         0.         0.         0.         0.\n",
      " 0.         0.         0.         0.         1.         0.\n",
      " 0.         0.         1.         0.         0.         0.\n",
      " 0.         0.         0.         0.         0.         1.\n",
      " 0.         0.         0.         1.         0.         0.\n",
      " 0.         0.         0.         0.         0.         0.\n",
      " 1.         0.         0.         0.         1.         0.\n",
      " 0.         0.         0.         0.         0.         0.\n",
      " 0.         0.         0.         0.         0.         0.\n",
      " 0.         1.09633613 0.         0.         0.         0.\n",
      " 1.65924406 0.         0.         0.         4.24345303 0.\n",
      " 0.         0.         1.63741601 0.34174347 2.99532294 2.79648399\n",
      " 0.         0.         0.         0.         0.         0.\n",
      " 0.         1.25809896 2.06077385 0.         0.         0.65283936\n",
      " 0.         0.51129007 2.18440986 0.         0.05855185 1.79380286\n",
      " 0.88888657 0.         0.         0.         0.         3.43028474\n",
      " 0.         0.         0.73626673 0.         0.         0.\n",
      " 0.         1.09633613 0.         0.         0.         0.\n",
      " 1.65924406 0.         0.         0.         4.24345303 0.\n",
      " 0.         0.         1.63741601 0.34174347 2.99532294 2.79648399\n",
      " 0.         0.         0.         0.         0.         0.\n",
      " 0.         1.25809896 2.06077385 0.         0.         0.65283936\n",
      " 0.         0.51129007 2.18440986 0.         0.05855185 1.79380286\n",
      " 0.88888657 0.         0.         0.         0.         3.43028474\n",
      " 0.         0.        ]\n",
      "11: [0.         0.         0.         0.         1.         0.\n",
      " 0.         0.         0.         0.         0.         0.\n",
      " 0.         0.         0.         0.         0.         0.\n",
      " 0.         0.         0.         0.         0.         0.\n",
      " 0.         0.         0.         0.         0.         0.\n",
      " 1.         0.         0.         0.         0.         0.\n",
      " 0.         0.         0.         0.         0.         0.\n",
      " 0.         0.         0.         1.         0.         0.\n",
      " 0.         1.         0.         0.         0.         0.\n",
      " 0.         0.         0.         0.         1.         0.\n",
      " 0.         0.         1.         0.         0.         0.\n",
      " 0.         0.         0.         0.         0.         1.\n",
      " 0.         0.         0.         1.         0.         0.\n",
      " 0.         0.         0.         0.         0.         0.\n",
      " 1.         0.         0.         0.         1.         0.\n",
      " 0.         0.         0.         0.         0.         0.\n",
      " 0.         0.         0.         0.         0.         0.\n",
      " 0.         1.09633613 0.         0.         0.         0.\n",
      " 1.65924406 0.         0.         0.         4.24345303 0.\n",
      " 0.         0.         1.63741601 0.34174347 2.99532294 2.79648399\n",
      " 0.         0.         0.         0.         0.         0.\n",
      " 0.         1.25809896 2.06077385 0.         0.         0.65283936\n",
      " 0.         0.51129007 2.18440986 0.         0.05855185 1.79380286\n",
      " 0.88888657 0.         0.         0.         0.         3.43028474\n",
      " 0.         0.         0.73626673 0.         0.         0.\n",
      " 0.         1.09633613 0.         0.         0.         0.\n",
      " 1.65924406 0.         0.         0.         4.24345303 0.\n",
      " 0.         0.         1.63741601 0.34174347 2.99532294 2.79648399\n",
      " 0.         0.         0.         0.         0.         0.\n",
      " 0.         1.25809896 2.06077385 0.         0.         0.65283936\n",
      " 0.         0.51129007 2.18440986 0.         0.05855185 1.79380286\n",
      " 0.88888657 0.         0.         0.         0.         3.43028474\n",
      " 0.         0.        ]\n",
      "12: [0.         0.         0.         0.         1.         0.\n",
      " 0.         0.         0.         0.         0.         0.\n",
      " 0.         0.         0.         0.         0.         0.\n",
      " 0.         0.         0.         0.         0.         0.\n",
      " 0.         0.         0.         0.         0.         0.\n",
      " 1.         0.         0.         0.         0.         0.\n",
      " 0.         0.         0.         0.         0.         0.\n",
      " 0.         0.         0.         1.         0.         0.\n",
      " 0.         1.         0.         0.         0.         0.\n",
      " 0.         0.         0.         0.         1.         0.\n",
      " 0.         0.         1.         0.         0.         0.\n",
      " 0.         0.         0.         0.         0.         1.\n",
      " 0.         0.         0.         1.         0.         0.\n",
      " 0.         0.         0.         0.         0.         0.\n",
      " 1.         0.         0.         0.         1.         0.\n",
      " 0.         0.         0.         0.         0.         0.\n",
      " 0.         0.         0.         0.         0.         0.\n",
      " 0.         1.09633613 0.         0.         0.         0.\n",
      " 1.65924406 0.         0.         0.         4.24345303 0.\n",
      " 0.         0.         1.63741601 0.34174347 2.99532294 2.79648399\n",
      " 0.         0.         0.         0.         0.         0.\n",
      " 0.         1.25809896 2.06077385 0.         0.         0.65283936\n",
      " 0.         0.51129007 2.18440986 0.         0.05855185 1.79380286\n",
      " 0.88888657 0.         0.         0.         0.         3.43028474\n",
      " 0.         0.         0.73626673 0.         0.         0.\n",
      " 0.         1.09633613 0.         0.         0.         0.\n",
      " 1.65924406 0.         0.         0.         4.24345303 0.\n",
      " 0.         0.         1.63741601 0.34174347 2.99532294 2.79648399\n",
      " 0.         0.         0.         0.         0.         0.\n",
      " 0.         1.25809896 2.06077385 0.         0.         0.65283936\n",
      " 0.         0.51129007 2.18440986 0.         0.05855185 1.79380286\n",
      " 0.88888657 0.         0.         0.         0.         3.43028474\n",
      " 0.         0.        ]\n",
      "13: [0.         0.         0.         0.         1.         0.\n",
      " 0.         0.         0.         0.         0.         0.\n",
      " 0.         0.         0.         0.         0.         0.\n",
      " 0.         0.         0.         0.         0.         0.\n",
      " 0.         0.         0.         0.         0.         0.\n",
      " 1.         0.         0.         0.         0.         0.\n",
      " 0.         0.         0.         0.         0.         0.\n",
      " 0.         0.         0.         1.         0.         0.\n",
      " 0.         1.         0.         0.         0.         0.\n",
      " 0.         0.         0.         0.         1.         0.\n",
      " 0.         0.         1.         0.         0.         0.\n",
      " 0.         0.         0.         0.         0.         1.\n",
      " 0.         0.         0.         1.         0.         0.\n",
      " 0.         0.         0.         0.         0.         0.\n",
      " 1.         0.         0.         0.         1.         0.\n",
      " 0.         0.         0.         0.         0.         0.\n",
      " 0.         0.         0.         0.         0.         0.\n",
      " 0.         1.09633613 0.         0.         0.         0.\n",
      " 1.65924406 0.         0.         0.         4.24345303 0.\n",
      " 0.         0.         1.63741601 0.34174347 2.99532294 2.79648399\n",
      " 0.         0.         0.         0.         0.         0.\n",
      " 0.         1.25809896 2.06077385 0.         0.         0.65283936\n",
      " 0.         0.51129007 2.18440986 0.         0.05855185 1.79380286\n",
      " 0.88888657 0.         0.         0.         0.         3.43028474\n",
      " 0.         0.         0.73626673 0.         0.         0.\n",
      " 0.         1.09633613 0.         0.         0.         0.\n",
      " 1.65924406 0.         0.         0.         4.24345303 0.\n",
      " 0.         0.         1.63741601 0.34174347 2.99532294 2.79648399\n",
      " 0.         0.         0.         0.         0.         0.\n",
      " 0.         1.25809896 2.06077385 0.         0.         0.65283936\n",
      " 0.         0.51129007 2.18440986 0.         0.05855185 1.79380286\n",
      " 0.88888657 0.         0.         0.         0.         3.43028474\n",
      " 0.         0.        ]\n",
      "14: [0.         0.         0.         1.         0.         0.\n",
      " 0.         0.         0.         0.         0.         0.\n",
      " 0.         0.         0.         0.         0.         0.\n",
      " 0.         0.         0.         0.         0.         0.\n",
      " 0.         0.         0.         0.         0.         0.\n",
      " 1.         0.         0.         0.         0.         0.\n",
      " 0.         0.         0.         0.         0.         0.\n",
      " 0.         0.         0.         1.         0.         0.\n",
      " 0.         1.         0.         0.         0.         0.\n",
      " 0.         0.         0.         0.         1.         0.\n",
      " 0.         0.         1.         0.         0.         0.\n",
      " 0.         0.         0.         0.         0.         1.\n",
      " 0.         0.         0.         1.         0.         0.\n",
      " 0.         0.         0.         0.         0.         0.\n",
      " 1.         0.         0.         0.         1.         0.\n",
      " 0.         0.         0.         0.         0.         0.\n",
      " 0.         0.         0.         0.         0.         0.\n",
      " 0.         1.09633613 0.         0.         0.         0.\n",
      " 1.65924406 0.         0.         0.         4.24345303 0.\n",
      " 0.         0.         1.63741601 0.34174347 2.99532294 2.79648399\n",
      " 0.         0.         0.         0.         0.         0.\n",
      " 0.         1.25809896 2.06077385 0.         0.         0.65283936\n",
      " 0.         0.51129007 2.18440986 0.         0.05855185 1.79380286\n",
      " 0.88888657 0.         0.         0.         0.         3.43028474\n",
      " 0.         0.         0.73626673 0.         0.         0.\n",
      " 0.         1.09633613 0.         0.         0.         0.\n",
      " 1.65924406 0.         0.         0.         4.24345303 0.\n",
      " 0.         0.         1.63741601 0.34174347 2.99532294 2.79648399\n",
      " 0.         0.         0.         0.         0.         0.\n",
      " 0.         1.25809896 2.06077385 0.         0.         0.65283936\n",
      " 0.         0.51129007 2.18440986 0.         0.05855185 1.79380286\n",
      " 0.88888657 0.         0.         0.         0.         3.43028474\n",
      " 0.         0.        ]\n",
      "15: [0.         1.         0.         0.         0.         0.\n",
      " 0.         0.         0.         0.         0.         0.\n",
      " 0.         0.         0.         0.         0.         0.\n",
      " 0.         0.         0.         0.         0.         0.\n",
      " 0.         0.         0.         0.         0.         0.\n",
      " 1.         0.         0.         0.         0.         0.\n",
      " 0.         0.         0.         0.         0.         0.\n",
      " 0.         0.         0.         1.         0.         0.\n",
      " 0.         1.         0.         0.         0.         0.\n",
      " 0.         0.         0.         0.         1.         0.\n",
      " 0.         0.         1.         0.         0.         0.\n",
      " 0.         0.         0.         0.         0.         1.\n",
      " 0.         0.         0.         1.         0.         0.\n",
      " 0.         0.         0.         0.         0.         0.\n",
      " 1.         0.         0.         0.         1.         0.\n",
      " 0.         0.         0.         0.         0.         0.\n",
      " 0.         0.         0.         0.         0.         0.\n",
      " 0.         1.23458457 0.         0.         2.0189836  0.\n",
      " 3.55495    0.         0.43156987 0.         2.71039891 4.68894053\n",
      " 0.         3.41022038 3.64144993 3.28095341 4.13818741 0.\n",
      " 0.         2.35325408 0.         0.         0.         0.\n",
      " 0.         0.         0.         0.         0.         1.50546503\n",
      " 0.         0.         0.         0.         0.         0.\n",
      " 0.         0.83492953 0.         0.         0.         0.\n",
      " 0.         0.12046571 0.09907804 0.         0.         0.\n",
      " 0.         1.09633613 0.         0.         0.         0.\n",
      " 1.65924406 0.         0.         0.         4.24345303 0.\n",
      " 0.         0.         1.63741601 0.34174347 2.99532294 2.79648399\n",
      " 0.         0.         0.         0.         0.         0.\n",
      " 0.         1.25809896 2.06077385 0.         0.         0.65283936\n",
      " 0.         0.51129007 2.18440986 0.         0.05855185 1.79380286\n",
      " 0.88888657 0.         0.         0.         0.         3.43028474\n",
      " 0.         0.        ]\n",
      "16: [0.         0.         0.         0.         1.         0.\n",
      " 0.         0.         0.         0.         0.         0.\n",
      " 0.         0.         0.         0.         0.         0.\n",
      " 0.         0.         0.         0.         0.         0.\n",
      " 0.         0.         0.         0.         0.         0.\n",
      " 1.         0.         0.         0.         0.         0.\n",
      " 0.         0.         0.         0.         0.         0.\n",
      " 0.         0.         0.         1.         0.         0.\n",
      " 0.         1.         0.         0.         0.         0.\n",
      " 0.         0.         0.         0.         1.         0.\n",
      " 0.         0.         1.         0.         0.         0.\n",
      " 0.         0.         0.         0.         0.         1.\n",
      " 0.         0.         0.         1.         0.         0.\n",
      " 0.         0.         0.         0.         0.         0.\n",
      " 1.         0.         0.         0.         1.         0.\n",
      " 0.         0.         0.         0.         0.         0.\n",
      " 0.         0.         0.         0.         0.         0.\n",
      " 0.         1.09633613 0.         0.         0.         0.\n",
      " 1.65924406 0.         0.         0.         4.24345303 0.\n",
      " 0.         0.         1.63741601 0.34174347 2.99532294 2.79648399\n",
      " 0.         0.         0.         0.         0.         0.\n",
      " 0.         1.25809896 2.06077385 0.         0.         0.65283936\n",
      " 0.         0.51129007 2.18440986 0.         0.05855185 1.79380286\n",
      " 0.88888657 0.         0.         0.         0.         3.43028474\n",
      " 0.         0.         0.73626673 0.         0.         0.\n",
      " 0.         1.09633613 0.         0.         0.         0.\n",
      " 1.65924406 0.         0.         0.         4.24345303 0.\n",
      " 0.         0.         1.63741601 0.34174347 2.99532294 2.79648399\n",
      " 0.         0.         0.         0.         0.         0.\n",
      " 0.         1.25809896 2.06077385 0.         0.         0.65283936\n",
      " 0.         0.51129007 2.18440986 0.         0.05855185 1.79380286\n",
      " 0.88888657 0.         0.         0.         0.         3.43028474\n",
      " 0.         0.        ]\n",
      "17: [0.         0.         0.         0.         1.         0.\n",
      " 0.         0.         0.         0.         0.         0.\n",
      " 0.         0.         0.         0.         0.         0.\n",
      " 0.         0.         0.         0.         0.         0.\n",
      " 0.         0.         0.         0.         0.         0.\n",
      " 1.         0.         0.         0.         0.         0.\n",
      " 0.         0.         0.         0.         0.         0.\n",
      " 0.         0.         0.         1.         0.         0.\n",
      " 0.         1.         0.         0.         0.         0.\n",
      " 0.         0.         0.         0.         1.         0.\n",
      " 0.         0.         1.         0.         0.         0.\n",
      " 0.         0.         0.         0.         0.         1.\n",
      " 0.         0.         0.         1.         0.         0.\n",
      " 0.         0.         0.         0.         0.         0.\n",
      " 1.         0.         0.         0.         1.         0.\n",
      " 0.         0.         0.         0.         0.         0.\n",
      " 0.         0.         0.         0.         0.         0.\n",
      " 0.         1.09633613 0.         0.         0.         0.\n",
      " 1.65924406 0.         0.         0.         4.24345303 0.\n",
      " 0.         0.         1.63741601 0.34174347 2.99532294 2.79648399\n",
      " 0.         0.         0.         0.         0.         0.\n",
      " 0.         1.25809896 2.06077385 0.         0.         0.65283936\n",
      " 0.         0.51129007 2.18440986 0.         0.05855185 1.79380286\n",
      " 0.88888657 0.         0.         0.         0.         3.43028474\n",
      " 0.         0.         0.73626673 0.         0.         0.\n",
      " 0.         1.09633613 0.         0.         0.         0.\n",
      " 1.65924406 0.         0.         0.         4.24345303 0.\n",
      " 0.         0.         1.63741601 0.34174347 2.99532294 2.79648399\n",
      " 0.         0.         0.         0.         0.         0.\n",
      " 0.         1.25809896 2.06077385 0.         0.         0.65283936\n",
      " 0.         0.51129007 2.18440986 0.         0.05855185 1.79380286\n",
      " 0.88888657 0.         0.         0.         0.         3.43028474\n",
      " 0.         0.        ]\n",
      "18: [0.         0.         0.         1.         0.         0.\n",
      " 0.         0.         0.         0.         0.         0.\n",
      " 0.         0.         0.         0.         0.         0.\n",
      " 0.         0.         0.         0.         0.         0.\n",
      " 0.         0.         0.         0.         0.         0.\n",
      " 1.         0.         0.         0.         0.         0.\n",
      " 0.         0.         0.         0.         0.         0.\n",
      " 0.         0.         0.         1.         0.         0.\n",
      " 0.         1.         0.         0.         0.         0.\n",
      " 0.         0.         0.         0.         1.         0.\n",
      " 0.         0.         1.         0.         0.         0.\n",
      " 0.         0.         0.         0.         0.         1.\n",
      " 0.         0.         0.         1.         0.         0.\n",
      " 0.         0.         0.         0.         0.         0.\n",
      " 1.         0.         0.         0.         1.         0.\n",
      " 0.         0.         0.         0.         0.         0.\n",
      " 0.         0.         0.         0.         0.         0.\n",
      " 0.         1.09633613 0.         0.         0.         0.\n",
      " 1.65924406 0.         0.         0.         4.24345303 0.\n",
      " 0.         0.         1.63741601 0.34174347 2.99532294 2.79648399\n",
      " 0.         0.         0.         0.         0.         0.\n",
      " 0.         1.25809896 2.06077385 0.         0.         0.65283936\n",
      " 0.         0.51129007 2.18440986 0.         0.05855185 1.79380286\n",
      " 0.88888657 0.         0.         0.         0.         3.43028474\n",
      " 0.         0.         0.73626673 0.         0.         0.\n",
      " 0.         1.09633613 0.         0.         0.         0.\n",
      " 1.65924406 0.         0.         0.         4.24345303 0.\n",
      " 0.         0.         1.63741601 0.34174347 2.99532294 2.79648399\n",
      " 0.         0.         0.         0.         0.         0.\n",
      " 0.         1.25809896 2.06077385 0.         0.         0.65283936\n",
      " 0.         0.51129007 2.18440986 0.         0.05855185 1.79380286\n",
      " 0.88888657 0.         0.         0.         0.         3.43028474\n",
      " 0.         0.        ]\n",
      "19: [0.00000000e+00 1.00000000e+00 0.00000000e+00 0.00000000e+00\n",
      " 0.00000000e+00 0.00000000e+00 0.00000000e+00 0.00000000e+00\n",
      " 0.00000000e+00 0.00000000e+00 0.00000000e+00 0.00000000e+00\n",
      " 0.00000000e+00 0.00000000e+00 0.00000000e+00 0.00000000e+00\n",
      " 0.00000000e+00 0.00000000e+00 0.00000000e+00 0.00000000e+00\n",
      " 0.00000000e+00 0.00000000e+00 0.00000000e+00 0.00000000e+00\n",
      " 0.00000000e+00 0.00000000e+00 0.00000000e+00 0.00000000e+00\n",
      " 0.00000000e+00 0.00000000e+00 1.00000000e+00 0.00000000e+00\n",
      " 0.00000000e+00 0.00000000e+00 0.00000000e+00 0.00000000e+00\n",
      " 0.00000000e+00 0.00000000e+00 0.00000000e+00 0.00000000e+00\n",
      " 0.00000000e+00 0.00000000e+00 0.00000000e+00 0.00000000e+00\n",
      " 0.00000000e+00 1.00000000e+00 0.00000000e+00 0.00000000e+00\n",
      " 0.00000000e+00 1.00000000e+00 0.00000000e+00 0.00000000e+00\n",
      " 0.00000000e+00 0.00000000e+00 0.00000000e+00 0.00000000e+00\n",
      " 0.00000000e+00 0.00000000e+00 1.00000000e+00 0.00000000e+00\n",
      " 0.00000000e+00 0.00000000e+00 1.00000000e+00 0.00000000e+00\n",
      " 0.00000000e+00 0.00000000e+00 0.00000000e+00 0.00000000e+00\n",
      " 0.00000000e+00 0.00000000e+00 0.00000000e+00 1.00000000e+00\n",
      " 0.00000000e+00 0.00000000e+00 0.00000000e+00 1.00000000e+00\n",
      " 0.00000000e+00 0.00000000e+00 0.00000000e+00 0.00000000e+00\n",
      " 0.00000000e+00 0.00000000e+00 0.00000000e+00 0.00000000e+00\n",
      " 1.00000000e+00 0.00000000e+00 0.00000000e+00 0.00000000e+00\n",
      " 1.00000000e+00 0.00000000e+00 0.00000000e+00 0.00000000e+00\n",
      " 0.00000000e+00 0.00000000e+00 0.00000000e+00 0.00000000e+00\n",
      " 0.00000000e+00 1.00031740e+04 1.00031740e+04 0.00000000e+00\n",
      " 0.00000000e+00 0.00000000e+00 0.00000000e+00 1.09633613e+00\n",
      " 0.00000000e+00 0.00000000e+00 0.00000000e+00 0.00000000e+00\n",
      " 1.65924406e+00 0.00000000e+00 0.00000000e+00 0.00000000e+00\n",
      " 4.24345303e+00 0.00000000e+00 0.00000000e+00 0.00000000e+00\n",
      " 1.63741601e+00 3.41743469e-01 2.99532294e+00 2.79648399e+00\n",
      " 0.00000000e+00 0.00000000e+00 0.00000000e+00 0.00000000e+00\n",
      " 0.00000000e+00 0.00000000e+00 0.00000000e+00 1.25809896e+00\n",
      " 2.06077385e+00 0.00000000e+00 0.00000000e+00 6.52839363e-01\n",
      " 0.00000000e+00 5.11290073e-01 2.18440986e+00 0.00000000e+00\n",
      " 5.85518479e-02 1.79380286e+00 8.88886571e-01 0.00000000e+00\n",
      " 0.00000000e+00 0.00000000e+00 0.00000000e+00 3.43028474e+00\n",
      " 0.00000000e+00 0.00000000e+00 7.36266732e-01 0.00000000e+00\n",
      " 0.00000000e+00 0.00000000e+00 0.00000000e+00 1.09633613e+00\n",
      " 0.00000000e+00 0.00000000e+00 0.00000000e+00 0.00000000e+00\n",
      " 1.65924406e+00 0.00000000e+00 0.00000000e+00 0.00000000e+00\n",
      " 4.24345303e+00 0.00000000e+00 0.00000000e+00 0.00000000e+00\n",
      " 1.63741601e+00 3.41743469e-01 2.99532294e+00 2.79648399e+00\n",
      " 0.00000000e+00 0.00000000e+00 0.00000000e+00 0.00000000e+00\n",
      " 0.00000000e+00 0.00000000e+00 0.00000000e+00 1.25809896e+00\n",
      " 2.06077385e+00 0.00000000e+00 0.00000000e+00 6.52839363e-01\n",
      " 0.00000000e+00 5.11290073e-01 2.18440986e+00 0.00000000e+00\n",
      " 5.85518479e-02 1.79380286e+00 8.88886571e-01 0.00000000e+00\n",
      " 0.00000000e+00 0.00000000e+00 0.00000000e+00 3.43028474e+00\n",
      " 0.00000000e+00 0.00000000e+00]\n",
      "20: [0.         0.         1.         0.         0.         0.\n",
      " 0.         0.         0.         0.         0.         0.\n",
      " 0.         0.         0.         0.         0.         0.\n",
      " 0.         0.         0.         0.         0.         0.\n",
      " 0.         0.         0.         0.         0.         0.\n",
      " 1.         0.         0.         0.         0.         0.\n",
      " 0.         0.         0.         0.         0.         0.\n",
      " 0.         0.         0.         1.         0.         0.\n",
      " 0.         1.         0.         0.         0.         0.\n",
      " 0.         0.         0.         0.         1.         0.\n",
      " 0.         0.         1.         0.         0.         0.\n",
      " 0.         0.         0.         0.         0.         1.\n",
      " 0.         0.         0.         1.         0.         0.\n",
      " 0.         0.         0.         0.         0.         0.\n",
      " 1.         0.         0.         0.         1.         0.\n",
      " 0.         0.         0.         0.         0.         0.\n",
      " 0.         0.         0.         0.         0.         0.\n",
      " 0.         1.09633613 0.         0.         0.         0.\n",
      " 1.65924406 0.         0.         0.         4.24345303 0.\n",
      " 0.         0.         1.63741601 0.34174347 2.99532294 2.79648399\n",
      " 0.         0.         0.         0.         0.         0.\n",
      " 0.         1.25809896 2.06077385 0.         0.         0.65283936\n",
      " 0.         0.51129007 2.18440986 0.         0.05855185 1.79380286\n",
      " 0.88888657 0.         0.         0.         0.         3.43028474\n",
      " 0.         0.         0.73626673 0.         0.         0.\n",
      " 0.         1.09633613 0.         0.         0.         0.\n",
      " 1.65924406 0.         0.         0.         4.24345303 0.\n",
      " 0.         0.         1.63741601 0.34174347 2.99532294 2.79648399\n",
      " 0.         0.         0.         0.         0.         0.\n",
      " 0.         1.25809896 2.06077385 0.         0.         0.65283936\n",
      " 0.         0.51129007 2.18440986 0.         0.05855185 1.79380286\n",
      " 0.88888657 0.         0.         0.         0.         3.43028474\n",
      " 0.         0.        ]\n",
      "21: [0.         0.         0.         1.         0.         0.\n",
      " 0.         0.         0.         0.         0.         0.\n",
      " 0.         0.         0.         0.         0.         0.\n",
      " 0.         0.         0.         0.         0.         0.\n",
      " 0.         0.         0.         0.         0.         0.\n",
      " 1.         0.         0.         0.         0.         0.\n",
      " 0.         0.         0.         0.         0.         0.\n",
      " 0.         0.         0.         1.         0.         0.\n",
      " 0.         1.         0.         0.         0.         0.\n",
      " 0.         0.         0.         0.         1.         0.\n",
      " 0.         0.         1.         0.         0.         0.\n",
      " 0.         0.         0.         0.         0.         1.\n",
      " 0.         0.         0.         1.         0.         0.\n",
      " 0.         0.         0.         0.         0.         0.\n",
      " 1.         0.         0.         0.         1.         0.\n",
      " 0.         0.         0.         0.         0.         0.\n",
      " 0.         0.         0.         0.         0.         0.\n",
      " 0.         1.09633613 0.         0.         0.         0.\n",
      " 1.65924406 0.         0.         0.         4.24345303 0.\n",
      " 0.         0.         1.63741601 0.34174347 2.99532294 2.79648399\n",
      " 0.         0.         0.         0.         0.         0.\n",
      " 0.         1.25809896 2.06077385 0.         0.         0.65283936\n",
      " 0.         0.51129007 2.18440986 0.         0.05855185 1.79380286\n",
      " 0.88888657 0.         0.         0.         0.         3.43028474\n",
      " 0.         0.         0.73626673 0.         0.         0.\n",
      " 0.         1.09633613 0.         0.         0.         0.\n",
      " 1.65924406 0.         0.         0.         4.24345303 0.\n",
      " 0.         0.         1.63741601 0.34174347 2.99532294 2.79648399\n",
      " 0.         0.         0.         0.         0.         0.\n",
      " 0.         1.25809896 2.06077385 0.         0.         0.65283936\n",
      " 0.         0.51129007 2.18440986 0.         0.05855185 1.79380286\n",
      " 0.88888657 0.         0.         0.         0.         3.43028474\n",
      " 0.         0.        ]\n",
      "22: [0.         1.         0.         0.         0.         0.\n",
      " 0.         0.         0.         0.         0.         0.\n",
      " 0.         0.         0.         0.         0.         0.\n",
      " 0.         0.         0.         0.         0.         0.\n",
      " 0.         0.         0.         0.         0.         0.\n",
      " 1.         0.         0.         0.         0.         0.\n",
      " 0.         0.         0.         0.         0.         0.\n",
      " 0.         0.         0.         1.         0.         0.\n",
      " 0.         1.         0.         0.         0.         0.\n",
      " 0.         0.         0.         0.         1.         0.\n",
      " 0.         0.         1.         0.         0.         0.\n",
      " 0.         0.         0.         0.         0.         1.\n",
      " 0.         0.         0.         1.         0.         0.\n",
      " 0.         0.         0.         0.         0.         0.\n",
      " 1.         0.         0.         0.         1.         0.\n",
      " 0.         0.         0.         0.         0.         0.\n",
      " 0.         0.         0.         0.         0.         0.\n",
      " 0.68406725 0.         0.         0.         0.97410113 0.\n",
      " 0.         0.         0.83395922 0.         0.         0.\n",
      " 1.58342576 0.         0.         0.         0.         0.\n",
      " 0.         0.         0.         0.         0.         0.\n",
      " 0.89411455 0.         0.         0.         2.02943563 0.\n",
      " 1.64720488 0.         0.         0.         0.         0.\n",
      " 0.         0.         0.         0.         0.         0.\n",
      " 0.         0.         0.         0.         0.         0.\n",
      " 0.         1.09633613 0.         0.         0.         0.\n",
      " 1.65924406 0.         0.         0.         4.24345303 0.\n",
      " 0.         0.         1.63741601 0.34174347 2.99532294 2.79648399\n",
      " 0.         0.         0.         0.         0.         0.\n",
      " 0.         1.25809896 2.06077385 0.         0.         0.65283936\n",
      " 0.         0.51129007 2.18440986 0.         0.05855185 1.79380286\n",
      " 0.88888657 0.         0.         0.         0.         3.43028474\n",
      " 0.         0.        ]\n",
      "23: [0.         0.         1.         0.         0.         0.\n",
      " 0.         0.         0.         0.         0.         0.\n",
      " 0.         0.         0.         0.         0.         0.\n",
      " 0.         0.         0.         0.         0.         0.\n",
      " 0.         0.         0.         0.         0.         0.\n",
      " 1.         0.         0.         0.         0.         0.\n",
      " 0.         0.         0.         0.         0.         0.\n",
      " 0.         0.         0.         1.         0.         0.\n",
      " 0.         1.         0.         0.         0.         0.\n",
      " 0.         0.         0.         0.         1.         0.\n",
      " 0.         0.         1.         0.         0.         0.\n",
      " 0.         0.         0.         0.         0.         1.\n",
      " 0.         0.         0.         1.         0.         0.\n",
      " 0.         0.         0.         0.         0.         0.\n",
      " 1.         0.         0.         0.         1.         0.\n",
      " 0.         0.         0.         0.         0.         0.\n",
      " 0.         0.         0.         0.         0.         0.\n",
      " 0.68406725 0.         0.         0.         0.97410113 0.\n",
      " 0.         0.         0.83395922 0.         0.         0.\n",
      " 1.58342576 0.         0.         0.         0.         0.\n",
      " 0.         0.         0.         0.         0.         0.\n",
      " 0.89411455 0.         0.         0.         2.02943563 0.\n",
      " 1.64720488 0.         0.         0.         0.         0.\n",
      " 0.         0.         0.         0.         0.         0.\n",
      " 0.         0.         0.         0.         0.         0.\n",
      " 0.         1.09633613 0.         0.         0.         0.\n",
      " 1.65924406 0.         0.         0.         4.24345303 0.\n",
      " 0.         0.         1.63741601 0.34174347 2.99532294 2.79648399\n",
      " 0.         0.         0.         0.         0.         0.\n",
      " 0.         1.25809896 2.06077385 0.         0.         0.65283936\n",
      " 0.         0.51129007 2.18440986 0.         0.05855185 1.79380286\n",
      " 0.88888657 0.         0.         0.         0.         3.43028474\n",
      " 0.         0.        ]\n",
      "24: [0.         0.         0.         1.         0.         0.\n",
      " 0.         0.         0.         0.         0.         0.\n",
      " 0.         0.         0.         0.         0.         0.\n",
      " 0.         0.         0.         0.         0.         0.\n",
      " 0.         0.         0.         0.         0.         0.\n",
      " 1.         0.         0.         0.         0.         0.\n",
      " 0.         0.         0.         0.         0.         0.\n",
      " 0.         0.         0.         1.         0.         0.\n",
      " 0.         1.         0.         0.         0.         0.\n",
      " 0.         0.         0.         0.         1.         0.\n",
      " 0.         0.         1.         0.         0.         0.\n",
      " 0.         0.         0.         0.         0.         1.\n",
      " 0.         0.         0.         1.         0.         0.\n",
      " 0.         0.         0.         0.         0.         0.\n",
      " 1.         0.         0.         0.         1.         0.\n",
      " 0.         0.         0.         0.         0.         0.\n",
      " 0.         0.         0.         0.         0.         0.\n",
      " 0.         1.09633613 0.         0.         0.         0.\n",
      " 1.65924406 0.         0.         0.         4.24345303 0.\n",
      " 0.         0.         1.63741601 0.34174347 2.99532294 2.79648399\n",
      " 0.         0.         0.         0.         0.         0.\n",
      " 0.         1.25809896 2.06077385 0.         0.         0.65283936\n",
      " 0.         0.51129007 2.18440986 0.         0.05855185 1.79380286\n",
      " 0.88888657 0.         0.         0.         0.         3.43028474\n",
      " 0.         0.         0.73626673 0.         0.         0.\n",
      " 0.         1.09633613 0.         0.         0.         0.\n",
      " 1.65924406 0.         0.         0.         4.24345303 0.\n",
      " 0.         0.         1.63741601 0.34174347 2.99532294 2.79648399\n",
      " 0.         0.         0.         0.         0.         0.\n",
      " 0.         1.25809896 2.06077385 0.         0.         0.65283936\n",
      " 0.         0.51129007 2.18440986 0.         0.05855185 1.79380286\n",
      " 0.88888657 0.         0.         0.         0.         3.43028474\n",
      " 0.         0.        ]\n",
      "25: [0.         0.         0.         0.         0.         1.\n",
      " 0.         0.         0.         0.         0.         0.\n",
      " 0.         0.         0.         0.         0.         0.\n",
      " 0.         0.         0.         0.         0.         0.\n",
      " 0.         0.         0.         0.         0.         0.\n",
      " 1.         0.         0.         0.         0.         0.\n",
      " 0.         0.         0.         0.         0.         0.\n",
      " 0.         0.         0.         1.         0.         0.\n",
      " 0.         1.         0.         0.         0.         0.\n",
      " 0.         0.         0.         0.         1.         0.\n",
      " 0.         0.         1.         0.         0.         0.\n",
      " 0.         0.         0.         0.         0.         1.\n",
      " 0.         0.         0.         1.         0.         0.\n",
      " 0.         0.         0.         0.         0.         0.\n",
      " 1.         0.         0.         0.         1.         0.\n",
      " 0.         0.         0.         0.         0.         0.\n",
      " 0.         0.         0.         0.         0.         0.\n",
      " 0.         0.         0.         0.         1.78362322 0.\n",
      " 0.         0.         1.68302059 1.03961098 0.         0.\n",
      " 0.83066171 0.         0.         0.         0.         0.\n",
      " 0.         0.         0.         0.         0.         0.\n",
      " 0.42303896 0.         0.         0.         1.12541151 0.\n",
      " 0.56998032 0.         0.         0.         0.         0.\n",
      " 0.         0.         0.         0.         0.         0.\n",
      " 0.         1.40607512 0.         0.         0.         0.\n",
      " 0.         1.09633613 0.         0.         0.         0.\n",
      " 1.65924406 0.         0.         0.         4.24345303 0.\n",
      " 0.         0.         1.63741601 0.34174347 2.99532294 2.79648399\n",
      " 0.         0.         0.         0.         0.         0.\n",
      " 0.         1.25809896 2.06077385 0.         0.         0.65283936\n",
      " 0.         0.51129007 2.18440986 0.         0.05855185 1.79380286\n",
      " 0.88888657 0.         0.         0.         0.         3.43028474\n",
      " 0.         0.        ]\n",
      "26: [0.         0.         0.         0.         0.         0.\n",
      " 1.         0.         0.         0.         0.         0.\n",
      " 0.         0.         0.         0.         0.         0.\n",
      " 0.         0.         0.         0.         0.         0.\n",
      " 0.         0.         0.         0.         0.         0.\n",
      " 1.         0.         0.         0.         0.         0.\n",
      " 0.         0.         0.         0.         0.         0.\n",
      " 0.         0.         0.         1.         0.         0.\n",
      " 0.         1.         0.         0.         0.         0.\n",
      " 0.         0.         0.         0.         1.         0.\n",
      " 0.         0.         1.         0.         0.         0.\n",
      " 0.         0.         0.         0.         0.         1.\n",
      " 0.         0.         0.         1.         0.         0.\n",
      " 0.         0.         0.         0.         0.         0.\n",
      " 1.         0.         0.         0.         1.         0.\n",
      " 0.         0.         0.         0.         0.         0.\n",
      " 0.         0.         0.         0.         0.         0.\n",
      " 0.         1.09633613 0.         0.         0.         0.\n",
      " 1.65924406 0.         0.         0.         4.24345303 0.\n",
      " 0.         0.         1.63741601 0.34174347 2.99532294 2.79648399\n",
      " 0.         0.         0.         0.         0.         0.\n",
      " 0.         1.25809896 2.06077385 0.         0.         0.65283936\n",
      " 0.         0.51129007 2.18440986 0.         0.05855185 1.79380286\n",
      " 0.88888657 0.         0.         0.         0.         3.43028474\n",
      " 0.         0.         0.73626673 0.         0.         0.\n",
      " 0.         1.09633613 0.         0.         0.         0.\n",
      " 1.65924406 0.         0.         0.         4.24345303 0.\n",
      " 0.         0.         1.63741601 0.34174347 2.99532294 2.79648399\n",
      " 0.         0.         0.         0.         0.         0.\n",
      " 0.         1.25809896 2.06077385 0.         0.         0.65283936\n",
      " 0.         0.51129007 2.18440986 0.         0.05855185 1.79380286\n",
      " 0.88888657 0.         0.         0.         0.         3.43028474\n",
      " 0.         0.        ]\n"
     ]
    }
   ],
   "source": [
    "# print first sequence in X_train\n",
    "print('First sequence in X_train:')\n",
    "for i, x in enumerate(X_train[1]):\n",
    "    print(f'{i}: {x}')"
   ]
  },
  {
   "cell_type": "code",
   "execution_count": 17,
   "metadata": {
    "execution": {
     "iopub.execute_input": "2024-08-31T21:53:58.492755Z",
     "iopub.status.busy": "2024-08-31T21:53:58.492539Z",
     "iopub.status.idle": "2024-08-31T21:53:58.636877Z",
     "shell.execute_reply": "2024-08-31T21:53:58.636053Z"
    }
   },
   "outputs": [],
   "source": [
    "X_train, y_train = shuffle(X_train, y_train)\n",
    "X_val, y_val = shuffle(X_val, y_val)\n",
    "X_test, y_test = shuffle(X_test, y_test)"
   ]
  },
  {
   "cell_type": "markdown",
   "metadata": {},
   "source": [
    "build model"
   ]
  },
  {
   "cell_type": "code",
   "execution_count": 18,
   "metadata": {
    "execution": {
     "iopub.execute_input": "2024-08-31T21:53:58.641277Z",
     "iopub.status.busy": "2024-08-31T21:53:58.641077Z",
     "iopub.status.idle": "2024-08-31T21:54:00.911100Z",
     "shell.execute_reply": "2024-08-31T21:54:00.910444Z"
    }
   },
   "outputs": [
    {
     "data": {
      "text/html": [
       "<pre style=\"white-space:pre;overflow-x:auto;line-height:normal;font-family:Menlo,'DejaVu Sans Mono',consolas,'Courier New',monospace\"><span style=\"font-weight: bold\">Model: \"sequential\"</span>\n",
       "</pre>\n"
      ],
      "text/plain": [
       "\u001b[1mModel: \"sequential\"\u001b[0m\n"
      ]
     },
     "metadata": {},
     "output_type": "display_data"
    },
    {
     "data": {
      "text/html": [
       "<pre style=\"white-space:pre;overflow-x:auto;line-height:normal;font-family:Menlo,'DejaVu Sans Mono',consolas,'Courier New',monospace\">┏━━━━━━━━━━━━━━━━━━━━━━━━━━━━━━━━━┳━━━━━━━━━━━━━━━━━━━━━━━━┳━━━━━━━━━━━━━━━┓\n",
       "┃<span style=\"font-weight: bold\"> Layer (type)                    </span>┃<span style=\"font-weight: bold\"> Output Shape           </span>┃<span style=\"font-weight: bold\">       Param # </span>┃\n",
       "┡━━━━━━━━━━━━━━━━━━━━━━━━━━━━━━━━━╇━━━━━━━━━━━━━━━━━━━━━━━━╇━━━━━━━━━━━━━━━┩\n",
       "│ lstm (<span style=\"color: #0087ff; text-decoration-color: #0087ff\">LSTM</span>)                     │ (<span style=\"color: #00d7ff; text-decoration-color: #00d7ff\">None</span>, <span style=\"color: #00d7ff; text-decoration-color: #00d7ff\">None</span>, <span style=\"color: #00af00; text-decoration-color: #00af00\">750</span>)      │     <span style=\"color: #00af00; text-decoration-color: #00af00\">2,835,000</span> │\n",
       "├─────────────────────────────────┼────────────────────────┼───────────────┤\n",
       "│ lstm_1 (<span style=\"color: #0087ff; text-decoration-color: #0087ff\">LSTM</span>)                   │ (<span style=\"color: #00d7ff; text-decoration-color: #00d7ff\">None</span>, <span style=\"color: #00d7ff; text-decoration-color: #00d7ff\">None</span>, <span style=\"color: #00af00; text-decoration-color: #00af00\">750</span>)      │     <span style=\"color: #00af00; text-decoration-color: #00af00\">4,503,000</span> │\n",
       "├─────────────────────────────────┼────────────────────────┼───────────────┤\n",
       "│ lstm_2 (<span style=\"color: #0087ff; text-decoration-color: #0087ff\">LSTM</span>)                   │ (<span style=\"color: #00d7ff; text-decoration-color: #00d7ff\">None</span>, <span style=\"color: #00d7ff; text-decoration-color: #00d7ff\">None</span>, <span style=\"color: #00af00; text-decoration-color: #00af00\">750</span>)      │     <span style=\"color: #00af00; text-decoration-color: #00af00\">4,503,000</span> │\n",
       "├─────────────────────────────────┼────────────────────────┼───────────────┤\n",
       "│ lstm_3 (<span style=\"color: #0087ff; text-decoration-color: #0087ff\">LSTM</span>)                   │ (<span style=\"color: #00d7ff; text-decoration-color: #00d7ff\">None</span>, <span style=\"color: #00d7ff; text-decoration-color: #00d7ff\">None</span>, <span style=\"color: #00af00; text-decoration-color: #00af00\">750</span>)      │     <span style=\"color: #00af00; text-decoration-color: #00af00\">4,503,000</span> │\n",
       "├─────────────────────────────────┼────────────────────────┼───────────────┤\n",
       "│ lstm_4 (<span style=\"color: #0087ff; text-decoration-color: #0087ff\">LSTM</span>)                   │ (<span style=\"color: #00d7ff; text-decoration-color: #00d7ff\">None</span>, <span style=\"color: #00af00; text-decoration-color: #00af00\">750</span>)            │     <span style=\"color: #00af00; text-decoration-color: #00af00\">4,503,000</span> │\n",
       "├─────────────────────────────────┼────────────────────────┼───────────────┤\n",
       "│ dense (<span style=\"color: #0087ff; text-decoration-color: #0087ff\">Dense</span>)                   │ (<span style=\"color: #00d7ff; text-decoration-color: #00d7ff\">None</span>, <span style=\"color: #00af00; text-decoration-color: #00af00\">67</span>)             │        <span style=\"color: #00af00; text-decoration-color: #00af00\">50,317</span> │\n",
       "└─────────────────────────────────┴────────────────────────┴───────────────┘\n",
       "</pre>\n"
      ],
      "text/plain": [
       "┏━━━━━━━━━━━━━━━━━━━━━━━━━━━━━━━━━┳━━━━━━━━━━━━━━━━━━━━━━━━┳━━━━━━━━━━━━━━━┓\n",
       "┃\u001b[1m \u001b[0m\u001b[1mLayer (type)                   \u001b[0m\u001b[1m \u001b[0m┃\u001b[1m \u001b[0m\u001b[1mOutput Shape          \u001b[0m\u001b[1m \u001b[0m┃\u001b[1m \u001b[0m\u001b[1m      Param #\u001b[0m\u001b[1m \u001b[0m┃\n",
       "┡━━━━━━━━━━━━━━━━━━━━━━━━━━━━━━━━━╇━━━━━━━━━━━━━━━━━━━━━━━━╇━━━━━━━━━━━━━━━┩\n",
       "│ lstm (\u001b[38;5;33mLSTM\u001b[0m)                     │ (\u001b[38;5;45mNone\u001b[0m, \u001b[38;5;45mNone\u001b[0m, \u001b[38;5;34m750\u001b[0m)      │     \u001b[38;5;34m2,835,000\u001b[0m │\n",
       "├─────────────────────────────────┼────────────────────────┼───────────────┤\n",
       "│ lstm_1 (\u001b[38;5;33mLSTM\u001b[0m)                   │ (\u001b[38;5;45mNone\u001b[0m, \u001b[38;5;45mNone\u001b[0m, \u001b[38;5;34m750\u001b[0m)      │     \u001b[38;5;34m4,503,000\u001b[0m │\n",
       "├─────────────────────────────────┼────────────────────────┼───────────────┤\n",
       "│ lstm_2 (\u001b[38;5;33mLSTM\u001b[0m)                   │ (\u001b[38;5;45mNone\u001b[0m, \u001b[38;5;45mNone\u001b[0m, \u001b[38;5;34m750\u001b[0m)      │     \u001b[38;5;34m4,503,000\u001b[0m │\n",
       "├─────────────────────────────────┼────────────────────────┼───────────────┤\n",
       "│ lstm_3 (\u001b[38;5;33mLSTM\u001b[0m)                   │ (\u001b[38;5;45mNone\u001b[0m, \u001b[38;5;45mNone\u001b[0m, \u001b[38;5;34m750\u001b[0m)      │     \u001b[38;5;34m4,503,000\u001b[0m │\n",
       "├─────────────────────────────────┼────────────────────────┼───────────────┤\n",
       "│ lstm_4 (\u001b[38;5;33mLSTM\u001b[0m)                   │ (\u001b[38;5;45mNone\u001b[0m, \u001b[38;5;34m750\u001b[0m)            │     \u001b[38;5;34m4,503,000\u001b[0m │\n",
       "├─────────────────────────────────┼────────────────────────┼───────────────┤\n",
       "│ dense (\u001b[38;5;33mDense\u001b[0m)                   │ (\u001b[38;5;45mNone\u001b[0m, \u001b[38;5;34m67\u001b[0m)             │        \u001b[38;5;34m50,317\u001b[0m │\n",
       "└─────────────────────────────────┴────────────────────────┴───────────────┘\n"
      ]
     },
     "metadata": {},
     "output_type": "display_data"
    },
    {
     "data": {
      "text/html": [
       "<pre style=\"white-space:pre;overflow-x:auto;line-height:normal;font-family:Menlo,'DejaVu Sans Mono',consolas,'Courier New',monospace\"><span style=\"font-weight: bold\"> Total params: </span><span style=\"color: #00af00; text-decoration-color: #00af00\">20,897,317</span> (79.72 MB)\n",
       "</pre>\n"
      ],
      "text/plain": [
       "\u001b[1m Total params: \u001b[0m\u001b[38;5;34m20,897,317\u001b[0m (79.72 MB)\n"
      ]
     },
     "metadata": {},
     "output_type": "display_data"
    },
    {
     "data": {
      "text/html": [
       "<pre style=\"white-space:pre;overflow-x:auto;line-height:normal;font-family:Menlo,'DejaVu Sans Mono',consolas,'Courier New',monospace\"><span style=\"font-weight: bold\"> Trainable params: </span><span style=\"color: #00af00; text-decoration-color: #00af00\">20,897,317</span> (79.72 MB)\n",
       "</pre>\n"
      ],
      "text/plain": [
       "\u001b[1m Trainable params: \u001b[0m\u001b[38;5;34m20,897,317\u001b[0m (79.72 MB)\n"
      ]
     },
     "metadata": {},
     "output_type": "display_data"
    },
    {
     "data": {
      "text/html": [
       "<pre style=\"white-space:pre;overflow-x:auto;line-height:normal;font-family:Menlo,'DejaVu Sans Mono',consolas,'Courier New',monospace\"><span style=\"font-weight: bold\"> Non-trainable params: </span><span style=\"color: #00af00; text-decoration-color: #00af00\">0</span> (0.00 B)\n",
       "</pre>\n"
      ],
      "text/plain": [
       "\u001b[1m Non-trainable params: \u001b[0m\u001b[38;5;34m0\u001b[0m (0.00 B)\n"
      ]
     },
     "metadata": {},
     "output_type": "display_data"
    }
   ],
   "source": [
    "model = Sequential(layers=[\n",
    "    Input(shape=(None, feature_vector_cardinality)),\n",
    "    LSTM(750, return_sequences=True),\n",
    "    LSTM(750, return_sequences=True),\n",
    "    LSTM(750, return_sequences=True),\n",
    "    LSTM(750, return_sequences=True),\n",
    "    LSTM(750, return_sequences=False),\n",
    "    Dense(labels_cardinality, activation='softmax')\n",
    "])\n",
    "\n",
    "model.summary()"
   ]
  },
  {
   "cell_type": "code",
   "execution_count": 19,
   "metadata": {
    "execution": {
     "iopub.execute_input": "2024-08-31T21:54:00.917432Z",
     "iopub.status.busy": "2024-08-31T21:54:00.917241Z",
     "iopub.status.idle": "2024-08-31T21:54:01.012521Z",
     "shell.execute_reply": "2024-08-31T21:54:01.011513Z"
    }
   },
   "outputs": [],
   "source": [
    "callbacks = [\n",
    "    EarlyStopping(\n",
    "        monitor='val_loss',\n",
    "        patience=11,\n",
    "        verbose=1,\n",
    "        mode='auto',\n",
    "        restore_best_weights=True\n",
    "    ),\n",
    "    ModelCheckpoint(\n",
    "        filepath=model_path,\n",
    "        monitor='val_loss',\n",
    "        save_best_only=True,\n",
    "        verbose=1\n",
    "    ),\n",
    "    ReduceLROnPlateau(\n",
    "        monitor='val_loss',\n",
    "        factor=0.5,\n",
    "        patience=3,\n",
    "        verbose=1,\n",
    "        mode='auto',\n",
    "        min_lr=1e-8\n",
    "    ),\n",
    "    CSVLogger(\n",
    "        filename=log_path,\n",
    "        append=False\n",
    "    )\n",
    "]\n",
    "\n",
    "loss = CategoricalCrossentropy()\n",
    "optimizer = Adam(learning_rate=0.0001)\n",
    "\n",
    "# class weights\n",
    "y_train_int = np.argmax(y_train, axis=1)\n",
    "class_weights = compute_class_weight(\n",
    "    class_weight='balanced',\n",
    "    classes=np.unique(y_train_int),\n",
    "    y=y_train_int\n",
    ")\n",
    "class_weights_dict = dict(enumerate(class_weights))\n",
    "\n",
    "metrics = [\n",
    "    CategoricalAccuracy(name='categorical_accuracy'),\n",
    "    TopKCategoricalAccuracy(k=top_k, name=f'top_{top_k}_categorical_accuracy'),\n",
    "]\n",
    "\n",
    "weighted_metrics = [\n",
    "    CategoricalAccuracy(name='w_categorical_accuracy'),\n",
    "    TopKCategoricalAccuracy(k=top_k, name=f'w_top_{top_k}_categorical_accuracy'),\n",
    "]\n",
    "\n",
    "# 'categorical_focal_crossentropy'\n",
    "# 'categorical_crossentropy'\n",
    "model.compile(\n",
    "    loss=loss,\n",
    "    optimizer=optimizer,\n",
    "    metrics=metrics,\n",
    "    weighted_metrics=weighted_metrics,\n",
    ")"
   ]
  },
  {
   "cell_type": "markdown",
   "metadata": {},
   "source": [
    "train model"
   ]
  },
  {
   "cell_type": "code",
   "execution_count": 20,
   "metadata": {
    "execution": {
     "iopub.execute_input": "2024-08-31T21:54:01.016869Z",
     "iopub.status.busy": "2024-08-31T21:54:01.016681Z",
     "iopub.status.idle": "2024-09-01T02:21:30.051879Z",
     "shell.execute_reply": "2024-09-01T02:21:30.050935Z"
    }
   },
   "outputs": [
    {
     "name": "stdout",
     "output_type": "stream",
     "text": [
      "Epoch 1/200\n"
     ]
    },
    {
     "name": "stdout",
     "output_type": "stream",
     "text": [
      "\n",
      "Epoch 1: val_loss improved from inf to 2.22577, saving model to saves/pioneer_4.1/model.keras\n"
     ]
    },
    {
     "name": "stdout",
     "output_type": "stream",
     "text": [
      "3864/3864 - 521s - 135ms/step - categorical_accuracy: 0.3641 - loss: 3.3152 - top_3_categorical_accuracy: 0.5288 - w_categorical_accuracy: 0.1633 - w_top_3_categorical_accuracy: 0.3058 - val_categorical_accuracy: 0.3581 - val_loss: 2.2258 - val_top_3_categorical_accuracy: 0.6480 - val_w_categorical_accuracy: 0.3581 - val_w_top_3_categorical_accuracy: 0.6480 - learning_rate: 1.0000e-04\n"
     ]
    },
    {
     "name": "stdout",
     "output_type": "stream",
     "text": [
      "Epoch 2/200\n"
     ]
    },
    {
     "name": "stdout",
     "output_type": "stream",
     "text": [
      "\n",
      "Epoch 2: val_loss improved from 2.22577 to 1.72886, saving model to saves/pioneer_4.1/model.keras\n"
     ]
    },
    {
     "name": "stdout",
     "output_type": "stream",
     "text": [
      "3864/3864 - 517s - 134ms/step - categorical_accuracy: 0.4592 - loss: 2.8427 - top_3_categorical_accuracy: 0.7091 - w_categorical_accuracy: 0.2519 - w_top_3_categorical_accuracy: 0.4149 - val_categorical_accuracy: 0.5589 - val_loss: 1.7289 - val_top_3_categorical_accuracy: 0.8234 - val_w_categorical_accuracy: 0.5589 - val_w_top_3_categorical_accuracy: 0.8234 - learning_rate: 1.0000e-04\n"
     ]
    },
    {
     "name": "stdout",
     "output_type": "stream",
     "text": [
      "Epoch 3/200\n"
     ]
    },
    {
     "name": "stdout",
     "output_type": "stream",
     "text": [
      "\n",
      "Epoch 3: val_loss improved from 1.72886 to 1.68527, saving model to saves/pioneer_4.1/model.keras\n"
     ]
    },
    {
     "name": "stdout",
     "output_type": "stream",
     "text": [
      "3864/3864 - 518s - 134ms/step - categorical_accuracy: 0.6014 - loss: 2.4909 - top_3_categorical_accuracy: 0.8067 - w_categorical_accuracy: 0.3057 - w_top_3_categorical_accuracy: 0.4975 - val_categorical_accuracy: 0.6398 - val_loss: 1.6853 - val_top_3_categorical_accuracy: 0.7336 - val_w_categorical_accuracy: 0.6398 - val_w_top_3_categorical_accuracy: 0.7336 - learning_rate: 1.0000e-04\n"
     ]
    },
    {
     "name": "stdout",
     "output_type": "stream",
     "text": [
      "Epoch 4/200\n"
     ]
    },
    {
     "name": "stdout",
     "output_type": "stream",
     "text": [
      "\n",
      "Epoch 4: val_loss improved from 1.68527 to 1.51418, saving model to saves/pioneer_4.1/model.keras\n"
     ]
    },
    {
     "name": "stdout",
     "output_type": "stream",
     "text": [
      "3864/3864 - 518s - 134ms/step - categorical_accuracy: 0.7385 - loss: 2.0273 - top_3_categorical_accuracy: 0.8810 - w_categorical_accuracy: 0.4050 - w_top_3_categorical_accuracy: 0.6078 - val_categorical_accuracy: 0.7306 - val_loss: 1.5142 - val_top_3_categorical_accuracy: 0.8431 - val_w_categorical_accuracy: 0.7306 - val_w_top_3_categorical_accuracy: 0.8431 - learning_rate: 1.0000e-04\n"
     ]
    },
    {
     "name": "stdout",
     "output_type": "stream",
     "text": [
      "Epoch 5/200\n"
     ]
    },
    {
     "name": "stdout",
     "output_type": "stream",
     "text": [
      "\n",
      "Epoch 5: val_loss improved from 1.51418 to 1.12695, saving model to saves/pioneer_4.1/model.keras\n"
     ]
    },
    {
     "name": "stdout",
     "output_type": "stream",
     "text": [
      "3864/3864 - 518s - 134ms/step - categorical_accuracy: 0.7852 - loss: 1.7703 - top_3_categorical_accuracy: 0.9041 - w_categorical_accuracy: 0.4510 - w_top_3_categorical_accuracy: 0.6792 - val_categorical_accuracy: 0.7433 - val_loss: 1.1269 - val_top_3_categorical_accuracy: 0.8720 - val_w_categorical_accuracy: 0.7433 - val_w_top_3_categorical_accuracy: 0.8720 - learning_rate: 1.0000e-04\n"
     ]
    },
    {
     "name": "stdout",
     "output_type": "stream",
     "text": [
      "Epoch 6/200\n"
     ]
    },
    {
     "name": "stdout",
     "output_type": "stream",
     "text": [
      "\n",
      "Epoch 6: val_loss improved from 1.12695 to 1.03452, saving model to saves/pioneer_4.1/model.keras\n"
     ]
    },
    {
     "name": "stdout",
     "output_type": "stream",
     "text": [
      "3864/3864 - 517s - 134ms/step - categorical_accuracy: 0.7412 - loss: 1.9972 - top_3_categorical_accuracy: 0.8565 - w_categorical_accuracy: 0.4111 - w_top_3_categorical_accuracy: 0.6272 - val_categorical_accuracy: 0.8164 - val_loss: 1.0345 - val_top_3_categorical_accuracy: 0.8911 - val_w_categorical_accuracy: 0.8164 - val_w_top_3_categorical_accuracy: 0.8911 - learning_rate: 1.0000e-04\n"
     ]
    },
    {
     "name": "stdout",
     "output_type": "stream",
     "text": [
      "Epoch 7/200\n"
     ]
    },
    {
     "name": "stdout",
     "output_type": "stream",
     "text": [
      "\n",
      "Epoch 7: val_loss did not improve from 1.03452\n"
     ]
    },
    {
     "name": "stdout",
     "output_type": "stream",
     "text": [
      "3864/3864 - 517s - 134ms/step - categorical_accuracy: 0.8403 - loss: 1.5754 - top_3_categorical_accuracy: 0.9266 - w_categorical_accuracy: 0.5164 - w_top_3_categorical_accuracy: 0.7198 - val_categorical_accuracy: 0.5633 - val_loss: 2.3759 - val_top_3_categorical_accuracy: 0.6258 - val_w_categorical_accuracy: 0.5633 - val_w_top_3_categorical_accuracy: 0.6258 - learning_rate: 1.0000e-04\n"
     ]
    },
    {
     "name": "stdout",
     "output_type": "stream",
     "text": [
      "Epoch 8/200\n"
     ]
    },
    {
     "name": "stdout",
     "output_type": "stream",
     "text": [
      "\n",
      "Epoch 8: val_loss did not improve from 1.03452\n"
     ]
    },
    {
     "name": "stdout",
     "output_type": "stream",
     "text": [
      "3864/3864 - 517s - 134ms/step - categorical_accuracy: 0.8397 - loss: 1.4531 - top_3_categorical_accuracy: 0.9215 - w_categorical_accuracy: 0.5399 - w_top_3_categorical_accuracy: 0.7573 - val_categorical_accuracy: 0.7226 - val_loss: 2.0856 - val_top_3_categorical_accuracy: 0.7853 - val_w_categorical_accuracy: 0.7226 - val_w_top_3_categorical_accuracy: 0.7853 - learning_rate: 1.0000e-04\n"
     ]
    },
    {
     "name": "stdout",
     "output_type": "stream",
     "text": [
      "Epoch 9/200\n"
     ]
    },
    {
     "name": "stdout",
     "output_type": "stream",
     "text": [
      "\n",
      "Epoch 9: val_loss improved from 1.03452 to 0.69524, saving model to saves/pioneer_4.1/model.keras\n"
     ]
    },
    {
     "name": "stdout",
     "output_type": "stream",
     "text": [
      "3864/3864 - 519s - 134ms/step - categorical_accuracy: 0.8714 - loss: 1.2707 - top_3_categorical_accuracy: 0.9386 - w_categorical_accuracy: 0.5897 - w_top_3_categorical_accuracy: 0.8021 - val_categorical_accuracy: 0.9013 - val_loss: 0.6952 - val_top_3_categorical_accuracy: 0.9272 - val_w_categorical_accuracy: 0.9013 - val_w_top_3_categorical_accuracy: 0.9272 - learning_rate: 1.0000e-04\n"
     ]
    },
    {
     "name": "stdout",
     "output_type": "stream",
     "text": [
      "Epoch 10/200\n"
     ]
    },
    {
     "name": "stdout",
     "output_type": "stream",
     "text": [
      "\n",
      "Epoch 10: val_loss did not improve from 0.69524\n"
     ]
    },
    {
     "name": "stdout",
     "output_type": "stream",
     "text": [
      "3864/3864 - 517s - 134ms/step - categorical_accuracy: 0.9035 - loss: 1.1469 - top_3_categorical_accuracy: 0.9643 - w_categorical_accuracy: 0.6379 - w_top_3_categorical_accuracy: 0.8166 - val_categorical_accuracy: 0.8359 - val_loss: 0.8091 - val_top_3_categorical_accuracy: 0.9067 - val_w_categorical_accuracy: 0.8359 - val_w_top_3_categorical_accuracy: 0.9067 - learning_rate: 1.0000e-04\n"
     ]
    },
    {
     "name": "stdout",
     "output_type": "stream",
     "text": [
      "Epoch 11/200\n"
     ]
    },
    {
     "name": "stdout",
     "output_type": "stream",
     "text": [
      "\n",
      "Epoch 11: val_loss did not improve from 0.69524\n"
     ]
    },
    {
     "name": "stdout",
     "output_type": "stream",
     "text": [
      "3864/3864 - 518s - 134ms/step - categorical_accuracy: 0.8805 - loss: 1.1376 - top_3_categorical_accuracy: 0.9474 - w_categorical_accuracy: 0.6387 - w_top_3_categorical_accuracy: 0.8336 - val_categorical_accuracy: 0.7546 - val_loss: 1.2237 - val_top_3_categorical_accuracy: 0.9169 - val_w_categorical_accuracy: 0.7546 - val_w_top_3_categorical_accuracy: 0.9169 - learning_rate: 1.0000e-04\n"
     ]
    },
    {
     "name": "stdout",
     "output_type": "stream",
     "text": [
      "Epoch 12/200\n"
     ]
    },
    {
     "name": "stdout",
     "output_type": "stream",
     "text": [
      "\n",
      "Epoch 12: val_loss did not improve from 0.69524\n"
     ]
    },
    {
     "name": "stdout",
     "output_type": "stream",
     "text": [
      "\n",
      "Epoch 12: ReduceLROnPlateau reducing learning rate to 4.999999873689376e-05.\n"
     ]
    },
    {
     "name": "stdout",
     "output_type": "stream",
     "text": [
      "3864/3864 - 517s - 134ms/step - categorical_accuracy: 0.9104 - loss: 1.0235 - top_3_categorical_accuracy: 0.9666 - w_categorical_accuracy: 0.6634 - w_top_3_categorical_accuracy: 0.8445 - val_categorical_accuracy: 0.8684 - val_loss: 0.7340 - val_top_3_categorical_accuracy: 0.9343 - val_w_categorical_accuracy: 0.8684 - val_w_top_3_categorical_accuracy: 0.9343 - learning_rate: 1.0000e-04\n"
     ]
    },
    {
     "name": "stdout",
     "output_type": "stream",
     "text": [
      "Epoch 13/200\n"
     ]
    },
    {
     "name": "stdout",
     "output_type": "stream",
     "text": [
      "\n",
      "Epoch 13: val_loss improved from 0.69524 to 0.57073, saving model to saves/pioneer_4.1/model.keras\n"
     ]
    },
    {
     "name": "stdout",
     "output_type": "stream",
     "text": [
      "3864/3864 - 518s - 134ms/step - categorical_accuracy: 0.9292 - loss: 0.7513 - top_3_categorical_accuracy: 0.9732 - w_categorical_accuracy: 0.7510 - w_top_3_categorical_accuracy: 0.8950 - val_categorical_accuracy: 0.9216 - val_loss: 0.5707 - val_top_3_categorical_accuracy: 0.9430 - val_w_categorical_accuracy: 0.9216 - val_w_top_3_categorical_accuracy: 0.9430 - learning_rate: 5.0000e-05\n"
     ]
    },
    {
     "name": "stdout",
     "output_type": "stream",
     "text": [
      "Epoch 14/200\n"
     ]
    },
    {
     "name": "stdout",
     "output_type": "stream",
     "text": [
      "\n",
      "Epoch 14: val_loss did not improve from 0.57073\n"
     ]
    },
    {
     "name": "stdout",
     "output_type": "stream",
     "text": [
      "3864/3864 - 517s - 134ms/step - categorical_accuracy: 0.9517 - loss: 0.6773 - top_3_categorical_accuracy: 0.9797 - w_categorical_accuracy: 0.7603 - w_top_3_categorical_accuracy: 0.8972 - val_categorical_accuracy: 0.8970 - val_loss: 0.5987 - val_top_3_categorical_accuracy: 0.9416 - val_w_categorical_accuracy: 0.8970 - val_w_top_3_categorical_accuracy: 0.9416 - learning_rate: 5.0000e-05\n"
     ]
    },
    {
     "name": "stdout",
     "output_type": "stream",
     "text": [
      "Epoch 15/200\n"
     ]
    },
    {
     "name": "stdout",
     "output_type": "stream",
     "text": [
      "\n",
      "Epoch 15: val_loss improved from 0.57073 to 0.53009, saving model to saves/pioneer_4.1/model.keras\n"
     ]
    },
    {
     "name": "stdout",
     "output_type": "stream",
     "text": [
      "3864/3864 - 518s - 134ms/step - categorical_accuracy: 0.9553 - loss: 0.6502 - top_3_categorical_accuracy: 0.9830 - w_categorical_accuracy: 0.7696 - w_top_3_categorical_accuracy: 0.9053 - val_categorical_accuracy: 0.9260 - val_loss: 0.5301 - val_top_3_categorical_accuracy: 0.9435 - val_w_categorical_accuracy: 0.9260 - val_w_top_3_categorical_accuracy: 0.9435 - learning_rate: 5.0000e-05\n"
     ]
    },
    {
     "name": "stdout",
     "output_type": "stream",
     "text": [
      "Epoch 16/200\n"
     ]
    },
    {
     "name": "stdout",
     "output_type": "stream",
     "text": [
      "\n",
      "Epoch 16: val_loss improved from 0.53009 to 0.51827, saving model to saves/pioneer_4.1/model.keras\n"
     ]
    },
    {
     "name": "stdout",
     "output_type": "stream",
     "text": [
      "3864/3864 - 518s - 134ms/step - categorical_accuracy: 0.9572 - loss: 0.6334 - top_3_categorical_accuracy: 0.9829 - w_categorical_accuracy: 0.7686 - w_top_3_categorical_accuracy: 0.9063 - val_categorical_accuracy: 0.9228 - val_loss: 0.5183 - val_top_3_categorical_accuracy: 0.9426 - val_w_categorical_accuracy: 0.9228 - val_w_top_3_categorical_accuracy: 0.9426 - learning_rate: 5.0000e-05\n"
     ]
    },
    {
     "name": "stdout",
     "output_type": "stream",
     "text": [
      "Epoch 17/200\n"
     ]
    },
    {
     "name": "stdout",
     "output_type": "stream",
     "text": [
      "\n",
      "Epoch 17: val_loss did not improve from 0.51827\n"
     ]
    },
    {
     "name": "stdout",
     "output_type": "stream",
     "text": [
      "3864/3864 - 517s - 134ms/step - categorical_accuracy: 0.9627 - loss: 0.6138 - top_3_categorical_accuracy: 0.9840 - w_categorical_accuracy: 0.7790 - w_top_3_categorical_accuracy: 0.9050 - val_categorical_accuracy: 0.9114 - val_loss: 0.5293 - val_top_3_categorical_accuracy: 0.9360 - val_w_categorical_accuracy: 0.9114 - val_w_top_3_categorical_accuracy: 0.9360 - learning_rate: 5.0000e-05\n"
     ]
    },
    {
     "name": "stdout",
     "output_type": "stream",
     "text": [
      "Epoch 18/200\n"
     ]
    },
    {
     "name": "stdout",
     "output_type": "stream",
     "text": [
      "\n",
      "Epoch 18: val_loss improved from 0.51827 to 0.50184, saving model to saves/pioneer_4.1/model.keras\n"
     ]
    },
    {
     "name": "stdout",
     "output_type": "stream",
     "text": [
      "3864/3864 - 518s - 134ms/step - categorical_accuracy: 0.9634 - loss: 0.5713 - top_3_categorical_accuracy: 0.9850 - w_categorical_accuracy: 0.7907 - w_top_3_categorical_accuracy: 0.9170 - val_categorical_accuracy: 0.9201 - val_loss: 0.5018 - val_top_3_categorical_accuracy: 0.9453 - val_w_categorical_accuracy: 0.9201 - val_w_top_3_categorical_accuracy: 0.9453 - learning_rate: 5.0000e-05\n"
     ]
    },
    {
     "name": "stdout",
     "output_type": "stream",
     "text": [
      "Epoch 19/200\n"
     ]
    },
    {
     "name": "stdout",
     "output_type": "stream",
     "text": [
      "\n",
      "Epoch 19: val_loss improved from 0.50184 to 0.48044, saving model to saves/pioneer_4.1/model.keras\n"
     ]
    },
    {
     "name": "stdout",
     "output_type": "stream",
     "text": [
      "3864/3864 - 518s - 134ms/step - categorical_accuracy: 0.9633 - loss: 0.5685 - top_3_categorical_accuracy: 0.9852 - w_categorical_accuracy: 0.7899 - w_top_3_categorical_accuracy: 0.9183 - val_categorical_accuracy: 0.9130 - val_loss: 0.4804 - val_top_3_categorical_accuracy: 0.9441 - val_w_categorical_accuracy: 0.9130 - val_w_top_3_categorical_accuracy: 0.9441 - learning_rate: 5.0000e-05\n"
     ]
    },
    {
     "name": "stdout",
     "output_type": "stream",
     "text": [
      "Epoch 20/200\n"
     ]
    },
    {
     "name": "stdout",
     "output_type": "stream",
     "text": [
      "\n",
      "Epoch 20: val_loss improved from 0.48044 to 0.45400, saving model to saves/pioneer_4.1/model.keras\n"
     ]
    },
    {
     "name": "stdout",
     "output_type": "stream",
     "text": [
      "3864/3864 - 518s - 134ms/step - categorical_accuracy: 0.9613 - loss: 0.5610 - top_3_categorical_accuracy: 0.9847 - w_categorical_accuracy: 0.7878 - w_top_3_categorical_accuracy: 0.9152 - val_categorical_accuracy: 0.9183 - val_loss: 0.4540 - val_top_3_categorical_accuracy: 0.9425 - val_w_categorical_accuracy: 0.9183 - val_w_top_3_categorical_accuracy: 0.9425 - learning_rate: 5.0000e-05\n"
     ]
    },
    {
     "name": "stdout",
     "output_type": "stream",
     "text": [
      "Epoch 21/200\n"
     ]
    },
    {
     "name": "stdout",
     "output_type": "stream",
     "text": [
      "\n",
      "Epoch 21: val_loss did not improve from 0.45400\n"
     ]
    },
    {
     "name": "stdout",
     "output_type": "stream",
     "text": [
      "3864/3864 - 518s - 134ms/step - categorical_accuracy: 0.9623 - loss: 0.5439 - top_3_categorical_accuracy: 0.9846 - w_categorical_accuracy: 0.7926 - w_top_3_categorical_accuracy: 0.9141 - val_categorical_accuracy: 0.9258 - val_loss: 0.5112 - val_top_3_categorical_accuracy: 0.9459 - val_w_categorical_accuracy: 0.9258 - val_w_top_3_categorical_accuracy: 0.9459 - learning_rate: 5.0000e-05\n"
     ]
    },
    {
     "name": "stdout",
     "output_type": "stream",
     "text": [
      "Epoch 22/200\n"
     ]
    },
    {
     "name": "stdout",
     "output_type": "stream",
     "text": [
      "\n",
      "Epoch 22: val_loss did not improve from 0.45400\n"
     ]
    },
    {
     "name": "stdout",
     "output_type": "stream",
     "text": [
      "3864/3864 - 517s - 134ms/step - categorical_accuracy: 0.9610 - loss: 0.5572 - top_3_categorical_accuracy: 0.9847 - w_categorical_accuracy: 0.7937 - w_top_3_categorical_accuracy: 0.9161 - val_categorical_accuracy: 0.9192 - val_loss: 0.5174 - val_top_3_categorical_accuracy: 0.9480 - val_w_categorical_accuracy: 0.9192 - val_w_top_3_categorical_accuracy: 0.9480 - learning_rate: 5.0000e-05\n"
     ]
    },
    {
     "name": "stdout",
     "output_type": "stream",
     "text": [
      "Epoch 23/200\n"
     ]
    },
    {
     "name": "stdout",
     "output_type": "stream",
     "text": [
      "\n",
      "Epoch 23: val_loss did not improve from 0.45400\n"
     ]
    },
    {
     "name": "stdout",
     "output_type": "stream",
     "text": [
      "\n",
      "Epoch 23: ReduceLROnPlateau reducing learning rate to 2.499999936844688e-05.\n"
     ]
    },
    {
     "name": "stdout",
     "output_type": "stream",
     "text": [
      "3864/3864 - 518s - 134ms/step - categorical_accuracy: 0.9659 - loss: 0.5339 - top_3_categorical_accuracy: 0.9868 - w_categorical_accuracy: 0.7965 - w_top_3_categorical_accuracy: 0.9229 - val_categorical_accuracy: 0.9303 - val_loss: 0.5047 - val_top_3_categorical_accuracy: 0.9470 - val_w_categorical_accuracy: 0.9303 - val_w_top_3_categorical_accuracy: 0.9470 - learning_rate: 5.0000e-05\n"
     ]
    },
    {
     "name": "stdout",
     "output_type": "stream",
     "text": [
      "Epoch 24/200\n"
     ]
    },
    {
     "name": "stdout",
     "output_type": "stream",
     "text": [
      "\n",
      "Epoch 24: val_loss did not improve from 0.45400\n"
     ]
    },
    {
     "name": "stdout",
     "output_type": "stream",
     "text": [
      "3864/3864 - 517s - 134ms/step - categorical_accuracy: 0.9632 - loss: 0.4886 - top_3_categorical_accuracy: 0.9868 - w_categorical_accuracy: 0.8081 - w_top_3_categorical_accuracy: 0.9347 - val_categorical_accuracy: 0.9211 - val_loss: 0.4591 - val_top_3_categorical_accuracy: 0.9495 - val_w_categorical_accuracy: 0.9211 - val_w_top_3_categorical_accuracy: 0.9495 - learning_rate: 2.5000e-05\n"
     ]
    },
    {
     "name": "stdout",
     "output_type": "stream",
     "text": [
      "Epoch 25/200\n"
     ]
    },
    {
     "name": "stdout",
     "output_type": "stream",
     "text": [
      "\n",
      "Epoch 25: val_loss did not improve from 0.45400\n"
     ]
    },
    {
     "name": "stdout",
     "output_type": "stream",
     "text": [
      "3864/3864 - 517s - 134ms/step - categorical_accuracy: 0.9665 - loss: 0.4626 - top_3_categorical_accuracy: 0.9882 - w_categorical_accuracy: 0.8181 - w_top_3_categorical_accuracy: 0.9269 - val_categorical_accuracy: 0.9294 - val_loss: 0.5280 - val_top_3_categorical_accuracy: 0.9486 - val_w_categorical_accuracy: 0.9294 - val_w_top_3_categorical_accuracy: 0.9486 - learning_rate: 2.5000e-05\n"
     ]
    },
    {
     "name": "stdout",
     "output_type": "stream",
     "text": [
      "Epoch 26/200\n"
     ]
    },
    {
     "name": "stdout",
     "output_type": "stream",
     "text": [
      "\n",
      "Epoch 26: val_loss did not improve from 0.45400\n"
     ]
    },
    {
     "name": "stdout",
     "output_type": "stream",
     "text": [
      "\n",
      "Epoch 26: ReduceLROnPlateau reducing learning rate to 1.249999968422344e-05.\n"
     ]
    },
    {
     "name": "stdout",
     "output_type": "stream",
     "text": [
      "3864/3864 - 518s - 134ms/step - categorical_accuracy: 0.9691 - loss: 0.4647 - top_3_categorical_accuracy: 0.9903 - w_categorical_accuracy: 0.8232 - w_top_3_categorical_accuracy: 0.9387 - val_categorical_accuracy: 0.9269 - val_loss: 0.5356 - val_top_3_categorical_accuracy: 0.9519 - val_w_categorical_accuracy: 0.9269 - val_w_top_3_categorical_accuracy: 0.9519 - learning_rate: 2.5000e-05\n"
     ]
    },
    {
     "name": "stdout",
     "output_type": "stream",
     "text": [
      "Epoch 27/200\n"
     ]
    },
    {
     "name": "stdout",
     "output_type": "stream",
     "text": [
      "\n",
      "Epoch 27: val_loss did not improve from 0.45400\n"
     ]
    },
    {
     "name": "stdout",
     "output_type": "stream",
     "text": [
      "3864/3864 - 518s - 134ms/step - categorical_accuracy: 0.9714 - loss: 0.4185 - top_3_categorical_accuracy: 0.9926 - w_categorical_accuracy: 0.8319 - w_top_3_categorical_accuracy: 0.9405 - val_categorical_accuracy: 0.9301 - val_loss: 0.4859 - val_top_3_categorical_accuracy: 0.9554 - val_w_categorical_accuracy: 0.9301 - val_w_top_3_categorical_accuracy: 0.9554 - learning_rate: 1.2500e-05\n"
     ]
    },
    {
     "name": "stdout",
     "output_type": "stream",
     "text": [
      "Epoch 28/200\n"
     ]
    },
    {
     "name": "stdout",
     "output_type": "stream",
     "text": [
      "\n",
      "Epoch 28: val_loss did not improve from 0.45400\n"
     ]
    },
    {
     "name": "stdout",
     "output_type": "stream",
     "text": [
      "3864/3864 - 517s - 134ms/step - categorical_accuracy: 0.9725 - loss: 0.4093 - top_3_categorical_accuracy: 0.9932 - w_categorical_accuracy: 0.8317 - w_top_3_categorical_accuracy: 0.9427 - val_categorical_accuracy: 0.9312 - val_loss: 0.5273 - val_top_3_categorical_accuracy: 0.9555 - val_w_categorical_accuracy: 0.9312 - val_w_top_3_categorical_accuracy: 0.9555 - learning_rate: 1.2500e-05\n"
     ]
    },
    {
     "name": "stdout",
     "output_type": "stream",
     "text": [
      "Epoch 29/200\n"
     ]
    },
    {
     "name": "stdout",
     "output_type": "stream",
     "text": [
      "\n",
      "Epoch 29: val_loss did not improve from 0.45400\n"
     ]
    },
    {
     "name": "stdout",
     "output_type": "stream",
     "text": [
      "\n",
      "Epoch 29: ReduceLROnPlateau reducing learning rate to 6.24999984211172e-06.\n"
     ]
    },
    {
     "name": "stdout",
     "output_type": "stream",
     "text": [
      "3864/3864 - 517s - 134ms/step - categorical_accuracy: 0.9732 - loss: 0.4000 - top_3_categorical_accuracy: 0.9938 - w_categorical_accuracy: 0.8366 - w_top_3_categorical_accuracy: 0.9427 - val_categorical_accuracy: 0.9312 - val_loss: 0.5013 - val_top_3_categorical_accuracy: 0.9555 - val_w_categorical_accuracy: 0.9312 - val_w_top_3_categorical_accuracy: 0.9555 - learning_rate: 1.2500e-05\n"
     ]
    },
    {
     "name": "stdout",
     "output_type": "stream",
     "text": [
      "Epoch 30/200\n"
     ]
    },
    {
     "name": "stdout",
     "output_type": "stream",
     "text": [
      "\n",
      "Epoch 30: val_loss did not improve from 0.45400\n"
     ]
    },
    {
     "name": "stdout",
     "output_type": "stream",
     "text": [
      "3864/3864 - 517s - 134ms/step - categorical_accuracy: 0.9740 - loss: 0.3848 - top_3_categorical_accuracy: 0.9940 - w_categorical_accuracy: 0.8398 - w_top_3_categorical_accuracy: 0.9438 - val_categorical_accuracy: 0.9306 - val_loss: 0.4740 - val_top_3_categorical_accuracy: 0.9563 - val_w_categorical_accuracy: 0.9306 - val_w_top_3_categorical_accuracy: 0.9563 - learning_rate: 6.2500e-06\n"
     ]
    },
    {
     "name": "stdout",
     "output_type": "stream",
     "text": [
      "Epoch 31/200\n"
     ]
    },
    {
     "name": "stdout",
     "output_type": "stream",
     "text": [
      "\n",
      "Epoch 31: val_loss did not improve from 0.45400\n"
     ]
    },
    {
     "name": "stdout",
     "output_type": "stream",
     "text": [
      "3864/3864 - 517s - 134ms/step - categorical_accuracy: 0.9748 - loss: 0.3764 - top_3_categorical_accuracy: 0.9943 - w_categorical_accuracy: 0.8425 - w_top_3_categorical_accuracy: 0.9472 - val_categorical_accuracy: 0.9309 - val_loss: 0.5096 - val_top_3_categorical_accuracy: 0.9569 - val_w_categorical_accuracy: 0.9309 - val_w_top_3_categorical_accuracy: 0.9569 - learning_rate: 6.2500e-06\n"
     ]
    },
    {
     "name": "stdout",
     "output_type": "stream",
     "text": [
      "Epoch 31: early stopping\n"
     ]
    },
    {
     "name": "stdout",
     "output_type": "stream",
     "text": [
      "Restoring model weights from the end of the best epoch: 20.\n"
     ]
    }
   ],
   "source": [
    "history = model.fit(\n",
    "    x=Generator(X_train, y_train, 64, max_sequence_length),\n",
    "    validation_data=Generator(X_val, y_val, 128, max_sequence_length),\n",
    "    epochs=200,\n",
    "    callbacks=callbacks,\n",
    "    class_weight=class_weights_dict,\n",
    "    verbose=2\n",
    ")\n",
    "\n",
    "# save history to file\n",
    "with open(history_path, 'wb') as f:\n",
    "    np.save(f, history.history)"
   ]
  },
  {
   "cell_type": "code",
   "execution_count": 21,
   "metadata": {
    "execution": {
     "iopub.execute_input": "2024-09-01T02:21:30.055488Z",
     "iopub.status.busy": "2024-09-01T02:21:30.055095Z",
     "iopub.status.idle": "2024-09-01T02:21:30.620509Z",
     "shell.execute_reply": "2024-09-01T02:21:30.619402Z"
    }
   },
   "outputs": [
    {
     "data": {
      "image/png": "[encoded data removed]",
      "text/plain": [
       "<Figure size 787.402x590.551 with 3 Axes>"
      ]
     },
     "metadata": {},
     "output_type": "display_data"
    }
   ],
   "source": [
    "log = pd.read_csv(log_path)\n",
    "\n",
    "fig, (ax1, ax2) = plt.subplots(nrows=1, ncols=2, figsize=(20*cm, 15*cm))\n",
    "\n",
    "ax1.plot(log['epoch'], log['categorical_accuracy'], label='categorical_accuracy', color='red')\n",
    "ax1.plot(log['epoch'], log['val_categorical_accuracy'], label='val_categorical_accuracy', color='orange')\n",
    "ax1.plot(log['epoch'], log[f'top_{top_k}_categorical_accuracy'], label=f'top_{top_k}_categorical_accuracy', color='royalblue')\n",
    "ax1.plot(log['epoch'], log[f'val_top_{top_k}_categorical_accuracy'], label=f'val_top_{top_k}_categorical_accuracy', color='navy')\n",
    "ax1.set_title('training metrics')\n",
    "ax1.set_xlabel('epoch')\n",
    "ax1.legend(loc='upper center', bbox_to_anchor=(0.5, -0.2), ncol=1)  # Legend below the plot\n",
    "\n",
    "ax2.plot(log['epoch'], log['loss'], label='loss')\n",
    "ax2.plot(log['epoch'], log['val_loss'], label='val_loss')\n",
    "# plot learning rate with different scale, show on right side\n",
    "ax2b = ax2.twinx()\n",
    "ax2b.plot(log['epoch'], log['learning_rate'], label='learning_rate', color='green', alpha=.4)\n",
    "ax2.set_title('loss')\n",
    "ax2.set_xlabel('epoch')\n",
    "ax2.legend(loc='upper center', bbox_to_anchor=(0.5, -0.2), ncol=2)  # Legend below the plot\n",
    "ax2b.legend(loc='upper center', bbox_to_anchor=(0.5, -0.3), ncol=1)  # Legend below the plot\n",
    "\n",
    "fig.tight_layout(rect=[0, 0.1, 1, 1])\n",
    "\n",
    "plt.savefig(f'{checkpoint_path}/metrics_loss.svg')\n",
    "plt.show()"
   ]
  },
  {
   "cell_type": "code",
   "execution_count": 22,
   "metadata": {
    "execution": {
     "iopub.execute_input": "2024-09-01T02:21:30.624215Z",
     "iopub.status.busy": "2024-09-01T02:21:30.623504Z",
     "iopub.status.idle": "2024-09-01T02:21:30.630084Z",
     "shell.execute_reply": "2024-09-01T02:21:30.629037Z"
    }
   },
   "outputs": [],
   "source": [
    "# load old model, if needed\n",
    "try:\n",
    "    model\n",
    "except NameError:\n",
    "    model = load_model(model_path)"
   ]
  },
  {
   "cell_type": "code",
   "execution_count": 23,
   "metadata": {
    "execution": {
     "iopub.execute_input": "2024-09-01T02:21:30.633760Z",
     "iopub.status.busy": "2024-09-01T02:21:30.633229Z",
     "iopub.status.idle": "2024-09-01T02:22:03.519298Z",
     "shell.execute_reply": "2024-09-01T02:22:03.518199Z"
    }
   },
   "outputs": [
    {
     "name": "stdout",
     "output_type": "stream",
     "text": [
      "407/407 - 33s - 81ms/step - categorical_accuracy: 0.9460 - loss: 0.1713 - top_3_categorical_accuracy: 0.9737 - w_categorical_accuracy: 0.9460 - w_top_3_categorical_accuracy: 0.9737\n"
     ]
    }
   ],
   "source": [
    "# evaluate model\n",
    "score = model.evaluate(x=Generator(X_test, y_test, 128, max_sequence_length), verbose=2)"
   ]
  },
  {
   "cell_type": "code",
   "execution_count": 24,
   "metadata": {
    "execution": {
     "iopub.execute_input": "2024-09-01T02:22:03.523114Z",
     "iopub.status.busy": "2024-09-01T02:22:03.522547Z",
     "iopub.status.idle": "2024-09-01T02:22:03.530433Z",
     "shell.execute_reply": "2024-09-01T02:22:03.529247Z"
    }
   },
   "outputs": [
    {
     "name": "stdout",
     "output_type": "stream",
     "text": [
      "Test loss: 0.17129813134670258\n",
      "Test accuracy: 0.9460294842720032\n"
     ]
    }
   ],
   "source": [
    "print(f'Test loss: {score[0]}')\n",
    "print(f'Test accuracy: {score[1]}')"
   ]
  },
  {
   "cell_type": "code",
   "execution_count": 25,
   "metadata": {
    "execution": {
     "iopub.execute_input": "2024-09-01T02:22:03.533963Z",
     "iopub.status.busy": "2024-09-01T02:22:03.533556Z",
     "iopub.status.idle": "2024-09-01T02:22:35.670540Z",
     "shell.execute_reply": "2024-09-01T02:22:35.669774Z"
    }
   },
   "outputs": [
    {
     "name": "stdout",
     "output_type": "stream",
     "text": [
      "407/407 - 32s - 78ms/step\n"
     ]
    },
    {
     "name": "stdout",
     "output_type": "stream",
     "text": [
      "                 precision    recall  f1-score   support\n",
      "\n",
      "      adjkerntz       0.38      1.00      0.55        11\n",
      "         alpine       0.92      0.96      0.94       560\n",
      "          anvil       0.99      0.35      0.52       378\n",
      "          atrun       1.00      1.00      1.00       237\n",
      "            awk       0.02      1.00      0.03         5\n",
      "       basename        nan      0.00      0.00         2\n",
      "           bash       1.00      0.98      0.99     12512\n",
      "            cat       0.23      0.88      0.36        26\n",
      "        cleanup       0.87      0.33      0.48       276\n",
      "            cmp       1.00      0.80      0.89         5\n",
      "             cp       0.81      0.97      0.88        30\n",
      "           cron       0.98      0.99      0.99       624\n",
      "           date       1.00      1.00      1.00      1218\n",
      "             dd       0.98      0.99      0.99       125\n",
      "       dhclient       0.00      0.00      0.00        17\n",
      "          dmesg       0.94      1.00      0.97        15\n",
      "          egrep       1.00      0.50      0.67         2\n",
      "           expr        nan      0.00      0.00         2\n",
      "           find       1.00      0.99      1.00      4006\n",
      "        fortune       0.87      1.00      0.93        91\n",
      "           grep       0.67      0.80      0.73         5\n",
      "           head       1.00      1.00      1.00      1219\n",
      "       hostname        nan      0.00      0.00        10\n",
      "          imapd       0.99      0.84      0.91      2469\n",
      "          inetd       1.00      1.00      1.00       291\n",
      "           kill        nan      0.00      0.00         2\n",
      "           less       0.02      0.67      0.04         3\n",
      "          local       0.99      0.51      0.67       868\n",
      "          lockf       0.12      0.33      0.18         3\n",
      "             ls       0.33      0.83      0.48        12\n",
      "           lsof       1.00      1.00      1.00      8568\n",
      "           mail       0.33      1.00      0.50         2\n",
      "    mailwrapper       1.00      0.67      0.80         3\n",
      "         master       0.99      1.00      0.99       580\n",
      "          mkdir       0.64      0.78      0.70        18\n",
      "         mktemp       0.40      1.00      0.57         6\n",
      "          mlock       1.00      1.00      1.00       506\n",
      "          mount       0.00      0.00      0.00         2\n",
      "             mv       0.99      1.00      0.99       860\n",
      "        netstat       0.95      0.93      0.94        58\n",
      "      newsyslog       0.29      1.00      0.45        18\n",
      "         pickup       0.88      0.83      0.86       143\n",
      "            pkg       0.97      0.79      0.87      1701\n",
      "       proxymap       0.31      0.93      0.46       331\n",
      "             ps       0.44      0.80      0.57         5\n",
      "      python2.7       1.00      1.00      1.00       841\n",
      "      resizewin       1.00      0.09      0.16        91\n",
      "             rm       0.90      0.25      0.39        36\n",
      "          route        nan      0.00      0.00         7\n",
      "            sed       0.00      1.00      0.01         2\n",
      "       sendmail       0.95      0.90      0.93        21\n",
      "             sh       0.96      0.81      0.88      1987\n",
      "          sleep       1.00      1.00      1.00      4889\n",
      "          smtpd       0.99      0.99      0.99       818\n",
      "           sort       0.00      0.00      0.00         1\n",
      "           sshd       0.99      0.89      0.94       427\n",
      "           sudo       0.19      1.00      0.33        26\n",
      "         sysctl       0.99      0.88      0.93       129\n",
      "            tee       0.00      0.00      0.00         6\n",
      "            top       1.00      1.00      1.00      1913\n",
      "trivial-rewrite       0.48      0.45      0.46       377\n",
      "            tty       0.05      1.00      0.10         2\n",
      "         unlink       0.87      0.90      0.89       123\n",
      "         uptime       0.74      1.00      0.85        14\n",
      "         vmstat       1.00      1.00      1.00      2468\n",
      "             wc       0.71      0.71      0.71         7\n",
      "           wget       1.00      0.57      0.72        74\n",
      "\n",
      "       accuracy                           0.95     52084\n",
      "      macro avg       0.71      0.73      0.63     52084\n",
      "   weighted avg       0.98      0.95      0.96     52084\n",
      "\n"
     ]
    }
   ],
   "source": [
    "# print classification report\n",
    "y_pred = model.predict(x=Generator(X_test, y_test, 128, max_sequence_length), verbose=2)\n",
    "y_pred = np.argmax(y_pred, axis=1)\n",
    "y_true = np.argmax(y_test, axis=1)\n",
    "\n",
    "distinct_labels = [labels_map[i] for i in range(labels_cardinality)]\n",
    "\n",
    "report = classification_report(y_true, y_pred, target_names=distinct_labels, zero_division=np.nan)\n",
    "report_dict = classification_report(y_true, y_pred, target_names=distinct_labels, zero_division=np.nan, output_dict=True)\n",
    "\n",
    "print(report)\n",
    "\n",
    "# save classification report to file\n",
    "with open(f'{checkpoint_path}/classification_report.txt', 'w') as f:\n",
    "    json.dump(report_dict, f)"
   ]
  },
  {
   "cell_type": "code",
   "execution_count": 26,
   "metadata": {
    "execution": {
     "iopub.execute_input": "2024-09-01T02:22:35.673445Z",
     "iopub.status.busy": "2024-09-01T02:22:35.673245Z",
     "iopub.status.idle": "2024-09-01T02:22:36.635392Z",
     "shell.execute_reply": "2024-09-01T02:22:36.634046Z"
    }
   },
   "outputs": [
    {
     "data": {
      "image/png": "[encoded data removed]",
      "text/plain": [
       "<Figure size 787.402x787.402 with 1 Axes>"
      ]
     },
     "metadata": {},
     "output_type": "display_data"
    }
   ],
   "source": [
    "# print confusion matrix\n",
    "# labels explicitly set, because current model may not predict all labels\n",
    "conf_matrix = confusion_matrix(y_true, y_pred, labels=range(labels_cardinality), normalize='true')\n",
    "\n",
    "# Replace all NaN values with 0\n",
    "conf_matrix = np.nan_to_num(conf_matrix)\n",
    "\n",
    "# Verify the distinct labels align correctly\n",
    "distinct_labels = [labels_map[i] for i in range(labels_cardinality)]\n",
    "\n",
    "# Plot the confusion matrix\n",
    "fig, ax = plt.subplots(figsize=(20*cm, 20*cm))\n",
    "\n",
    "ax.matshow(conf_matrix, cmap='cividis', aspect='auto')\n",
    "\n",
    "# Set class names on axes\n",
    "ax.set_xticks(range(len(distinct_labels)))\n",
    "ax.set_yticks(range(len(distinct_labels)))\n",
    "ax.set_xticklabels(distinct_labels, rotation=90, fontsize=8)\n",
    "ax.set_yticklabels(distinct_labels, fontsize=8)\n",
    "\n",
    "# Set axis labels \"predicted\" and \"actual\"\n",
    "ax.set_xlabel('predicted label')\n",
    "ax.set_ylabel('true label')\n",
    "# y-axis label right side\n",
    "ax.yaxis.set_label_position('right')\n",
    "\n",
    "# set figsize\n",
    "plt.savefig(f'{checkpoint_path}/confusion_matrix.svg')\n",
    "plt.show()"
   ]
  },
  {
   "cell_type": "code",
   "execution_count": 27,
   "metadata": {
    "execution": {
     "iopub.execute_input": "2024-09-01T02:22:36.639081Z",
     "iopub.status.busy": "2024-09-01T02:22:36.638602Z",
     "iopub.status.idle": "2024-09-01T02:22:36.648804Z",
     "shell.execute_reply": "2024-09-01T02:22:36.647605Z"
    }
   },
   "outputs": [
    {
     "name": "stdout",
     "output_type": "stream",
     "text": [
      "Unique labels not in y_pred: ['basename', 'expr', 'hostname', 'kill', 'route']\n"
     ]
    }
   ],
   "source": [
    "unique_in_y_pred = [ labels_map[i] for i in np.unique(y_pred) ]\n",
    "#print(\"Unique labels in y_pred:\", unique_in_y_pred)\n",
    "\n",
    "unique_not_in_y_pred = [ label for label in distinct_labels if label not in unique_in_y_pred ]\n",
    "print(\"Unique labels not in y_pred:\", unique_not_in_y_pred)"
   ]
  }
 ],
 "metadata": {
  "kernelspec": {
   "display_name": "Python 3 (ipykernel)",
   "language": "python",
   "name": "python3"
  },
  "language_info": {
   "codemirror_mode": {
    "name": "ipython",
    "version": 3
   },
   "file_extension": ".py",
   "mimetype": "text/x-python",
   "name": "python",
   "nbconvert_exporter": "python",
   "pygments_lexer": "ipython3",
   "version": "3.12.3"
  }
 },
 "nbformat": 4,
 "nbformat_minor": 4
}
