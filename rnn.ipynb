{
 "cells": [
  {
   "cell_type": "code",
   "execution_count": 1,
   "metadata": {},
   "outputs": [
    {
     "name": "stderr",
     "output_type": "stream",
     "text": [
      "2024-06-18 14:11:48.635263: I tensorflow/core/platform/cpu_feature_guard.cc:210] This TensorFlow binary is optimized to use available CPU instructions in performance-critical operations.\n",
      "To enable the following instructions: AVX2 AVX512F FMA, in other operations, rebuild TensorFlow with the appropriate compiler flags.\n",
      "2024-06-18 14:11:49.451323: W tensorflow/compiler/tf2tensorrt/utils/py_utils.cc:38] TF-TRT Warning: Could not find TensorRT\n"
     ]
    }
   ],
   "source": [
    "import os\n",
    "import random\n",
    "import numpy as np\n",
    "from matplotlib import pyplot as plt\n",
    "\n",
    "# force GPU device\n",
    "# os.environ[\"CUDA_VISIBLE_DEVICES\"]='0'\n",
    "# os.environ['TF_CPP_MIN_LOG_LEVEL'] = '2'\n",
    "import tensorflow as tf\n",
    "\n",
    "from keras.src.callbacks import EarlyStopping, ModelCheckpoint, ReduceLROnPlateau, CSVLogger\n",
    "from keras.src.layers import SimpleRNN, LSTM, Dense, Dropout\n",
    "from keras.optimizers import Adam\n",
    "from keras.models import load_model\n",
    "from keras import Sequential, Input"
   ]
  },
  {
   "cell_type": "code",
   "execution_count": 2,
   "metadata": {},
   "outputs": [],
   "source": [
    "checkpoint_path = 'saves/rnn'\n",
    "\n",
    "# ensure directory exists\n",
    "if not os.path.exists(checkpoint_path):\n",
    "    os.makedirs(checkpoint_path)"
   ]
  },
  {
   "cell_type": "markdown",
   "metadata": {},
   "source": [
    "load data from csv"
   ]
  },
  {
   "cell_type": "code",
   "execution_count": 3,
   "metadata": {},
   "outputs": [],
   "source": [
    "max_sequence_length = 100"
   ]
  },
  {
   "cell_type": "code",
   "execution_count": 4,
   "metadata": {},
   "outputs": [
    {
     "name": "stdout",
     "output_type": "stream",
     "text": [
      "Loaded 50000 sequences\n",
      "Loaded 100000 sequences\n",
      "Loaded 150000 sequences\n",
      "Loaded 200000 sequences\n",
      "Loaded 250000 sequences\n",
      "Loaded 300000 sequences\n",
      "Loaded 350000 sequences\n",
      "Loaded 400000 sequences\n",
      "Loaded 756925 sequences\n",
      "Found 50060 sequences longer than max_sequence_length (100)\n",
      "Split them into 376122 sequences\n",
      "Filtered out datapoints with less than 10 occurrences\n",
      "Left with 756925 datapoints\n"
     ]
    }
   ],
   "source": [
    "data_directory = '/home/jrosendahl/datasets/cadets/sequences/'\n",
    "\n",
    "data = []\n",
    "\n",
    "labels = None\n",
    "no_labels = None\n",
    "\n",
    "distinct_features = [\n",
    "'EVENT_ACCEPT', 'EVENT_BIND', 'EVENT_CHANGE_PRINCIPAL', 'EVENT_CLOSE', 'EVENT_CONNECT', 'EVENT_CREATE_OBJECT', 'EVENT_EXECUTE', 'EVENT_EXIT', 'EVENT_FCNTL', 'EVENT_FORK', 'EVENT_LINK', 'EVENT_LOGIN', 'EVENT_LSEEK', 'EVENT_MMAP', 'EVENT_MODIFY_FILE_ATTRIBUTES', 'EVENT_MODIFY_PROCESS', 'EVENT_MPROTECT', 'EVENT_OPEN', 'EVENT_OTHER', 'EVENT_READ', 'EVENT_RECVFROM', 'EVENT_RECVMSG', 'EVENT_RENAME', 'EVENT_SENDMSG', 'EVENT_SENDTO', 'EVENT_SIGNAL', 'EVENT_TRUNCATE', 'EVENT_UNLINK', 'EVENT_WRITE', \n",
    "]\n",
    "distinct_features = [ x[6:] for x in distinct_features ]\n",
    "no_features = len(distinct_features)\n",
    "\n",
    "count = 0\n",
    "count_long_sequences_splitted = 0\n",
    "count_long_sequences_splitted_result = 0\n",
    "for file_name in os.listdir(data_directory):\n",
    "    count += 1\n",
    "    if count % 50000 == 0:\n",
    "        print(f'Loaded {count} sequences')\n",
    "    with open(data_directory + file_name, 'r') as f:\n",
    "        label = file_name.split('_')[0]\n",
    "        # build dictionary with counts of events\n",
    "        lines = f.readlines()\n",
    "        # if sequence is longer than max_sequence_length, split into multiple sequences\n",
    "        if len(lines) > max_sequence_length:\n",
    "            count_long_sequences_splitted += 1\n",
    "            for i in range(0, len(lines), max_sequence_length):\n",
    "                count_long_sequences_splitted_result += 1\n",
    "                datapoints = []\n",
    "                for event in lines[i:i+max_sequence_length]:\n",
    "                    event = event.strip()\n",
    "                    datapoints.append(distinct_features.index(event))\n",
    "                data.append((label, datapoints))\n",
    "        else:\n",
    "            datapoints = []\n",
    "            for event in lines:\n",
    "                event = event.strip()\n",
    "                datapoints.append(distinct_features.index(event))\n",
    "            data.append((label, datapoints))\n",
    "\n",
    "        \"\"\"\n",
    "        datapoints = []\n",
    "        for event in f:\n",
    "            event = event.strip()\n",
    "            datapoints.append(distinct_features.index(event))\n",
    "        if not len(datapoints) > max_sequence_length:\n",
    "            data.append((label, datapoints))\n",
    "        \"\"\"\n",
    "\n",
    "print(f'Loaded {len(data)} sequences')\n",
    "print(f'Found {count_long_sequences_splitted} sequences longer than max_sequence_length ({max_sequence_length})')\n",
    "print(f'Split them into {count_long_sequences_splitted_result} sequences')\n",
    "\n",
    "print(f'Filtered out datapoints with less than 10 occurrences')\n",
    "print(f'Left with {len(data)} datapoints')\n",
    "\n",
    "random.shuffle(data)\n",
    "labels = [ x[0] for x in data ]\n",
    "data = [ x[1] for x in data ]"
   ]
  },
  {
   "cell_type": "code",
   "execution_count": 5,
   "metadata": {},
   "outputs": [
    {
     "name": "stdout",
     "output_type": "stream",
     "text": [
      "Found 135 distinct labels\n",
      "Found 29 distinct features\n",
      "Encoded labels to integers\n",
      "Encoded labels to one-hot\n",
      "Encoded sequences to one-hot\n"
     ]
    }
   ],
   "source": [
    "distinct_labels = np.unique(np.array(labels))\n",
    "no_labels = len(distinct_labels)\n",
    "print(f'Found {no_labels} distinct labels')\n",
    "\n",
    "# get distinct features\n",
    "print(f'Found {no_features} distinct features')\n",
    "\n",
    "# encode labels from strings to integers to one-hot\n",
    "# labels = np.eye(no_labels)[np.vectorize(distinct_labels.tolist().index)(labels)]\n",
    "# encode labels to integers\n",
    "labels = np.vectorize(distinct_labels.tolist().index)(labels)\n",
    "print(f'Encoded labels to integers')\n",
    "# encode labels to one-hot\n",
    "labels = np.eye(no_labels)[labels]\n",
    "print(f'Encoded labels to one-hot')\n",
    "\n",
    "# encode sequences from list of integers to list of one-hot\n",
    "data = [ np.eye(no_features)[x] for x in data ]\n",
    "print(f'Encoded sequences to one-hot')\n",
    "\n",
    "# get pad event to pad sequences with when batches are built\n",
    "pad_event = np.zeros(no_features)"
   ]
  },
  {
   "cell_type": "code",
   "execution_count": 6,
   "metadata": {},
   "outputs": [
    {
     "name": "stdout",
     "output_type": "stream",
     "text": [
      "data length: 756925\n",
      "labels shape: (756925, 135)\n"
     ]
    }
   ],
   "source": [
    "print(f'data length: {len(data)}')\n",
    "print(f'labels shape: {labels.shape}')"
   ]
  },
  {
   "cell_type": "markdown",
   "metadata": {},
   "source": [
    "prepare data + generator"
   ]
  },
  {
   "cell_type": "code",
   "execution_count": 7,
   "metadata": {},
   "outputs": [
    {
     "name": "stdout",
     "output_type": "stream",
     "text": [
      "Training on 605540 samples\n",
      "Validating on 151385 samples\n"
     ]
    }
   ],
   "source": [
    "# split data into training and validation\n",
    "split = int(len(data) * 0.8)\n",
    "\n",
    "X_train = data[:split]\n",
    "y_train = np.array(labels[:split])\n",
    "\n",
    "X_val = data[split:]\n",
    "y_val = np.array(labels[split:])\n",
    "\n",
    "print(f'Training on {len(X_train)} samples')\n",
    "print(f'Validating on {len(X_val)} samples')"
   ]
  },
  {
   "cell_type": "code",
   "execution_count": 8,
   "metadata": {},
   "outputs": [],
   "source": [
    "class Generator(tf.keras.utils.Sequence):\n",
    "    def __init__(self, X, y, batch_size, fixed_length, **kwargs):\n",
    "        # valid **kwargs: workers, use_multiprocessing, max_queue_size\n",
    "        super().__init__()\n",
    "        self.X = X\n",
    "        self.y = y\n",
    "        self.batch_size = batch_size\n",
    "        self.fixed_length = fixed_length\n",
    "        self.no_samples = len(X)\n",
    "        self.no_batches = int(np.ceil(self.no_samples / self.batch_size))\n",
    "\n",
    "    def __len__(self):\n",
    "        return self.no_batches\n",
    "\n",
    "    def __getitem__(self, index):\n",
    "        start = index * self.batch_size\n",
    "        end = min(start + self.batch_size, self.no_samples)\n",
    "\n",
    "        # Get the batch data\n",
    "        X_batch = self.X[start:end]\n",
    "        y_batch = self.y[start:end]\n",
    "\n",
    "        # Pad or truncate each sequence in X_batch to the fixed length\n",
    "        X_batch_fixed = [self._pad_or_truncate(x, self.fixed_length) for x in X_batch]\n",
    "\n",
    "        # Convert to numpy arrays\n",
    "        X_batch_fixed = np.array(X_batch_fixed)\n",
    "        y_batch = np.array(y_batch)\n",
    "\n",
    "        return X_batch_fixed, y_batch\n",
    "\n",
    "    def _pad_or_truncate(self, sequence, length):\n",
    "        if len(sequence) < length:\n",
    "            # Pad sequence with zeros to the fixed length\n",
    "            return np.pad(sequence, ((0, length - len(sequence)), (0, 0)), mode='constant', constant_values=0)\n",
    "        else:\n",
    "            # Truncate sequence to the fixed length\n",
    "            return sequence[:length]\n",
    "\n",
    "    def on_epoch_end(self):\n",
    "        pass"
   ]
  },
  {
   "cell_type": "markdown",
   "metadata": {},
   "source": [
    "build model"
   ]
  },
  {
   "cell_type": "code",
   "execution_count": 9,
   "metadata": {},
   "outputs": [
    {
     "name": "stderr",
     "output_type": "stream",
     "text": [
      "2024-06-18 14:12:34.740062: I tensorflow/core/common_runtime/gpu/gpu_device.cc:1928] Created device /job:localhost/replica:0/task:0/device:GPU:0 with 9798 MB memory:  -> device: 0, name: NVIDIA GeForce RTX 2080 Ti, pci bus id: 0000:17:00.0, compute capability: 7.5\n",
      "2024-06-18 14:12:34.740736: I tensorflow/core/common_runtime/gpu/gpu_device.cc:1928] Created device /job:localhost/replica:0/task:0/device:GPU:1 with 9655 MB memory:  -> device: 1, name: NVIDIA GeForce RTX 2080 Ti, pci bus id: 0000:65:00.0, compute capability: 7.5\n"
     ]
    },
    {
     "data": {
      "text/html": [
       "<pre style=\"white-space:pre;overflow-x:auto;line-height:normal;font-family:Menlo,'DejaVu Sans Mono',consolas,'Courier New',monospace\"><span style=\"font-weight: bold\">Model: \"sequential\"</span>\n",
       "</pre>\n"
      ],
      "text/plain": [
       "\u001b[1mModel: \"sequential\"\u001b[0m\n"
      ]
     },
     "metadata": {},
     "output_type": "display_data"
    },
    {
     "data": {
      "text/html": [
       "<pre style=\"white-space:pre;overflow-x:auto;line-height:normal;font-family:Menlo,'DejaVu Sans Mono',consolas,'Courier New',monospace\">┏━━━━━━━━━━━━━━━━━━━━━━━━━━━━━━━━━┳━━━━━━━━━━━━━━━━━━━━━━━━┳━━━━━━━━━━━━━━━┓\n",
       "┃<span style=\"font-weight: bold\"> Layer (type)                    </span>┃<span style=\"font-weight: bold\"> Output Shape           </span>┃<span style=\"font-weight: bold\">       Param # </span>┃\n",
       "┡━━━━━━━━━━━━━━━━━━━━━━━━━━━━━━━━━╇━━━━━━━━━━━━━━━━━━━━━━━━╇━━━━━━━━━━━━━━━┩\n",
       "│ simple_rnn (<span style=\"color: #0087ff; text-decoration-color: #0087ff\">SimpleRNN</span>)          │ (<span style=\"color: #00d7ff; text-decoration-color: #00d7ff\">None</span>, <span style=\"color: #00d7ff; text-decoration-color: #00d7ff\">None</span>, <span style=\"color: #00af00; text-decoration-color: #00af00\">64</span>)       │         <span style=\"color: #00af00; text-decoration-color: #00af00\">6,016</span> │\n",
       "├─────────────────────────────────┼────────────────────────┼───────────────┤\n",
       "│ simple_rnn_1 (<span style=\"color: #0087ff; text-decoration-color: #0087ff\">SimpleRNN</span>)        │ (<span style=\"color: #00d7ff; text-decoration-color: #00d7ff\">None</span>, <span style=\"color: #00d7ff; text-decoration-color: #00d7ff\">None</span>, <span style=\"color: #00af00; text-decoration-color: #00af00\">64</span>)       │         <span style=\"color: #00af00; text-decoration-color: #00af00\">8,256</span> │\n",
       "├─────────────────────────────────┼────────────────────────┼───────────────┤\n",
       "│ simple_rnn_2 (<span style=\"color: #0087ff; text-decoration-color: #0087ff\">SimpleRNN</span>)        │ (<span style=\"color: #00d7ff; text-decoration-color: #00d7ff\">None</span>, <span style=\"color: #00af00; text-decoration-color: #00af00\">64</span>)             │         <span style=\"color: #00af00; text-decoration-color: #00af00\">8,256</span> │\n",
       "├─────────────────────────────────┼────────────────────────┼───────────────┤\n",
       "│ dense (<span style=\"color: #0087ff; text-decoration-color: #0087ff\">Dense</span>)                   │ (<span style=\"color: #00d7ff; text-decoration-color: #00d7ff\">None</span>, <span style=\"color: #00af00; text-decoration-color: #00af00\">135</span>)            │         <span style=\"color: #00af00; text-decoration-color: #00af00\">8,775</span> │\n",
       "└─────────────────────────────────┴────────────────────────┴───────────────┘\n",
       "</pre>\n"
      ],
      "text/plain": [
       "┏━━━━━━━━━━━━━━━━━━━━━━━━━━━━━━━━━┳━━━━━━━━━━━━━━━━━━━━━━━━┳━━━━━━━━━━━━━━━┓\n",
       "┃\u001b[1m \u001b[0m\u001b[1mLayer (type)                   \u001b[0m\u001b[1m \u001b[0m┃\u001b[1m \u001b[0m\u001b[1mOutput Shape          \u001b[0m\u001b[1m \u001b[0m┃\u001b[1m \u001b[0m\u001b[1m      Param #\u001b[0m\u001b[1m \u001b[0m┃\n",
       "┡━━━━━━━━━━━━━━━━━━━━━━━━━━━━━━━━━╇━━━━━━━━━━━━━━━━━━━━━━━━╇━━━━━━━━━━━━━━━┩\n",
       "│ simple_rnn (\u001b[38;5;33mSimpleRNN\u001b[0m)          │ (\u001b[38;5;45mNone\u001b[0m, \u001b[38;5;45mNone\u001b[0m, \u001b[38;5;34m64\u001b[0m)       │         \u001b[38;5;34m6,016\u001b[0m │\n",
       "├─────────────────────────────────┼────────────────────────┼───────────────┤\n",
       "│ simple_rnn_1 (\u001b[38;5;33mSimpleRNN\u001b[0m)        │ (\u001b[38;5;45mNone\u001b[0m, \u001b[38;5;45mNone\u001b[0m, \u001b[38;5;34m64\u001b[0m)       │         \u001b[38;5;34m8,256\u001b[0m │\n",
       "├─────────────────────────────────┼────────────────────────┼───────────────┤\n",
       "│ simple_rnn_2 (\u001b[38;5;33mSimpleRNN\u001b[0m)        │ (\u001b[38;5;45mNone\u001b[0m, \u001b[38;5;34m64\u001b[0m)             │         \u001b[38;5;34m8,256\u001b[0m │\n",
       "├─────────────────────────────────┼────────────────────────┼───────────────┤\n",
       "│ dense (\u001b[38;5;33mDense\u001b[0m)                   │ (\u001b[38;5;45mNone\u001b[0m, \u001b[38;5;34m135\u001b[0m)            │         \u001b[38;5;34m8,775\u001b[0m │\n",
       "└─────────────────────────────────┴────────────────────────┴───────────────┘\n"
      ]
     },
     "metadata": {},
     "output_type": "display_data"
    },
    {
     "data": {
      "text/html": [
       "<pre style=\"white-space:pre;overflow-x:auto;line-height:normal;font-family:Menlo,'DejaVu Sans Mono',consolas,'Courier New',monospace\"><span style=\"font-weight: bold\"> Total params: </span><span style=\"color: #00af00; text-decoration-color: #00af00\">31,303</span> (122.28 KB)\n",
       "</pre>\n"
      ],
      "text/plain": [
       "\u001b[1m Total params: \u001b[0m\u001b[38;5;34m31,303\u001b[0m (122.28 KB)\n"
      ]
     },
     "metadata": {},
     "output_type": "display_data"
    },
    {
     "data": {
      "text/html": [
       "<pre style=\"white-space:pre;overflow-x:auto;line-height:normal;font-family:Menlo,'DejaVu Sans Mono',consolas,'Courier New',monospace\"><span style=\"font-weight: bold\"> Trainable params: </span><span style=\"color: #00af00; text-decoration-color: #00af00\">31,303</span> (122.28 KB)\n",
       "</pre>\n"
      ],
      "text/plain": [
       "\u001b[1m Trainable params: \u001b[0m\u001b[38;5;34m31,303\u001b[0m (122.28 KB)\n"
      ]
     },
     "metadata": {},
     "output_type": "display_data"
    },
    {
     "data": {
      "text/html": [
       "<pre style=\"white-space:pre;overflow-x:auto;line-height:normal;font-family:Menlo,'DejaVu Sans Mono',consolas,'Courier New',monospace\"><span style=\"font-weight: bold\"> Non-trainable params: </span><span style=\"color: #00af00; text-decoration-color: #00af00\">0</span> (0.00 B)\n",
       "</pre>\n"
      ],
      "text/plain": [
       "\u001b[1m Non-trainable params: \u001b[0m\u001b[38;5;34m0\u001b[0m (0.00 B)\n"
      ]
     },
     "metadata": {},
     "output_type": "display_data"
    }
   ],
   "source": [
    "model = Sequential(layers=[\n",
    "    Input(shape=(None, no_features)),\n",
    "    SimpleRNN(64, return_sequences=True),\n",
    "    SimpleRNN(64, return_sequences=True),\n",
    "    SimpleRNN(64, return_sequences=False),\n",
    "    Dense(no_labels, activation='softmax')\n",
    "])\n",
    "\n",
    "model.summary()"
   ]
  },
  {
   "cell_type": "code",
   "execution_count": 10,
   "metadata": {},
   "outputs": [],
   "source": [
    "early_stop = EarlyStopping(\n",
    "    monitor='val_loss',\n",
    "    patience=5,\n",
    "    verbose=1,\n",
    "    mode='auto'\n",
    ")\n",
    "\n",
    "model_checkpoint = ModelCheckpoint(\n",
    "    filepath=f'{checkpoint_path}/rnn.keras',\n",
    "    monitor='val_loss',\n",
    "    save_best_only=True,\n",
    "    verbose=1\n",
    ")\n",
    "\n",
    "lr_schedule = ReduceLROnPlateau(\n",
    "    monitor='loss', \n",
    "    factor=0.5, \n",
    "    patience=2, \n",
    "    min_lr=1e-7\n",
    ")\n",
    "\n",
    "csv_logger = CSVLogger(\n",
    "    filename=f'{checkpoint_path}/rnn_log.csv',\n",
    "    append=True\n",
    ")\n",
    "\n",
    "optimizer = Adam(learning_rate=0.0001)\n",
    "\n",
    "\n",
    "# 'categorical_focal_crossentropy'\n",
    "# 'categorical_crossentropy'\n",
    "model.compile(optimizer=optimizer, loss='categorical_focal_crossentropy', metrics=['accuracy'])"
   ]
  },
  {
   "cell_type": "markdown",
   "metadata": {},
   "source": [
    "train model"
   ]
  },
  {
   "cell_type": "code",
   "execution_count": 11,
   "metadata": {},
   "outputs": [],
   "source": [
    "# load old model\n",
    "# model = load_model(f'{checkpoint_path}/rnn.keras')"
   ]
  },
  {
   "cell_type": "code",
   "execution_count": 13,
   "metadata": {},
   "outputs": [
    {
     "name": "stdout",
     "output_type": "stream",
     "text": [
      "Epoch 1/50\n",
      "\u001b[1m9461/9462\u001b[0m \u001b[32m━━━━━━━━━━━━━━━━━━━\u001b[0m\u001b[37m━\u001b[0m \u001b[1m0s\u001b[0m 29ms/step - accuracy: 0.7921 - loss: 0.1761\n",
      "Epoch 1: val_loss improved from inf to 0.04813, saving model to saves/rnn//rnn.keras\n",
      "\u001b[1m9462/9462\u001b[0m \u001b[32m━━━━━━━━━━━━━━━━━━━━\u001b[0m\u001b[37m\u001b[0m \u001b[1m339s\u001b[0m 36ms/step - accuracy: 0.7921 - loss: 0.1761 - val_accuracy: 0.9081 - val_loss: 0.0481 - learning_rate: 1.0000e-04\n",
      "Epoch 2/50\n",
      "\u001b[1m9461/9462\u001b[0m \u001b[32m━━━━━━━━━━━━━━━━━━━\u001b[0m\u001b[37m━\u001b[0m \u001b[1m0s\u001b[0m 29ms/step - accuracy: 0.9113 - loss: 0.0453\n",
      "Epoch 2: val_loss improved from 0.04813 to 0.03565, saving model to saves/rnn//rnn.keras\n",
      "\u001b[1m9462/9462\u001b[0m \u001b[32m━━━━━━━━━━━━━━━━━━━━\u001b[0m\u001b[37m\u001b[0m \u001b[1m339s\u001b[0m 36ms/step - accuracy: 0.9113 - loss: 0.0453 - val_accuracy: 0.9242 - val_loss: 0.0357 - learning_rate: 1.0000e-04\n",
      "Epoch 3/50\n",
      "\u001b[1m9461/9462\u001b[0m \u001b[32m━━━━━━━━━━━━━━━━━━━\u001b[0m\u001b[37m━\u001b[0m \u001b[1m0s\u001b[0m 29ms/step - accuracy: 0.9238 - loss: 0.0351\n",
      "Epoch 3: val_loss improved from 0.03565 to 0.03117, saving model to saves/rnn//rnn.keras\n",
      "\u001b[1m9462/9462\u001b[0m \u001b[32m━━━━━━━━━━━━━━━━━━━━\u001b[0m\u001b[37m\u001b[0m \u001b[1m339s\u001b[0m 36ms/step - accuracy: 0.9238 - loss: 0.0351 - val_accuracy: 0.9295 - val_loss: 0.0312 - learning_rate: 1.0000e-04\n",
      "Epoch 4/50\n",
      "\u001b[1m9461/9462\u001b[0m \u001b[32m━━━━━━━━━━━━━━━━━━━\u001b[0m\u001b[37m━\u001b[0m \u001b[1m0s\u001b[0m 29ms/step - accuracy: 0.9285 - loss: 0.0314\n",
      "Epoch 4: val_loss improved from 0.03117 to 0.02793, saving model to saves/rnn//rnn.keras\n",
      "\u001b[1m9462/9462\u001b[0m \u001b[32m━━━━━━━━━━━━━━━━━━━━\u001b[0m\u001b[37m\u001b[0m \u001b[1m333s\u001b[0m 35ms/step - accuracy: 0.9285 - loss: 0.0314 - val_accuracy: 0.9330 - val_loss: 0.0279 - learning_rate: 1.0000e-04\n",
      "Epoch 5/50\n",
      "\u001b[1m9462/9462\u001b[0m \u001b[32m━━━━━━━━━━━━━━━━━━━━\u001b[0m\u001b[37m\u001b[0m \u001b[1m0s\u001b[0m 28ms/step - accuracy: 0.9305 - loss: 0.0289\n",
      "Epoch 5: val_loss did not improve from 0.02793\n",
      "\u001b[1m9462/9462\u001b[0m \u001b[32m━━━━━━━━━━━━━━━━━━━━\u001b[0m\u001b[37m\u001b[0m \u001b[1m329s\u001b[0m 35ms/step - accuracy: 0.9305 - loss: 0.0289 - val_accuracy: 0.9271 - val_loss: 0.0311 - learning_rate: 1.0000e-04\n",
      "Epoch 6/50\n",
      "\u001b[1m9462/9462\u001b[0m \u001b[32m━━━━━━━━━━━━━━━━━━━━\u001b[0m\u001b[37m\u001b[0m \u001b[1m0s\u001b[0m 28ms/step - accuracy: 0.9328 - loss: 0.0275\n",
      "Epoch 6: val_loss did not improve from 0.02793\n",
      "\u001b[1m9462/9462\u001b[0m \u001b[32m━━━━━━━━━━━━━━━━━━━━\u001b[0m\u001b[37m\u001b[0m \u001b[1m330s\u001b[0m 35ms/step - accuracy: 0.9328 - loss: 0.0275 - val_accuracy: 0.9330 - val_loss: 0.0280 - learning_rate: 1.0000e-04\n",
      "Epoch 7/50\n",
      "\u001b[1m9462/9462\u001b[0m \u001b[32m━━━━━━━━━━━━━━━━━━━━\u001b[0m\u001b[37m\u001b[0m \u001b[1m0s\u001b[0m 29ms/step - accuracy: 0.9335 - loss: 0.0264\n",
      "Epoch 7: val_loss improved from 0.02793 to 0.02541, saving model to saves/rnn//rnn.keras\n",
      "\u001b[1m9462/9462\u001b[0m \u001b[32m━━━━━━━━━━━━━━━━━━━━\u001b[0m\u001b[37m\u001b[0m \u001b[1m338s\u001b[0m 36ms/step - accuracy: 0.9335 - loss: 0.0264 - val_accuracy: 0.9358 - val_loss: 0.0254 - learning_rate: 1.0000e-04\n",
      "Epoch 8/50\n",
      "\u001b[1m9461/9462\u001b[0m \u001b[32m━━━━━━━━━━━━━━━━━━━\u001b[0m\u001b[37m━\u001b[0m \u001b[1m0s\u001b[0m 28ms/step - accuracy: 0.9354 - loss: 0.0250\n",
      "Epoch 8: val_loss did not improve from 0.02541\n",
      "\u001b[1m9462/9462\u001b[0m \u001b[32m━━━━━━━━━━━━━━━━━━━━\u001b[0m\u001b[37m\u001b[0m \u001b[1m330s\u001b[0m 35ms/step - accuracy: 0.9354 - loss: 0.0250 - val_accuracy: 0.9326 - val_loss: 0.0278 - learning_rate: 1.0000e-04\n",
      "Epoch 9/50\n",
      "\u001b[1m9462/9462\u001b[0m \u001b[32m━━━━━━━━━━━━━━━━━━━━\u001b[0m\u001b[37m\u001b[0m \u001b[1m0s\u001b[0m 29ms/step - accuracy: 0.9356 - loss: 0.0244\n",
      "Epoch 9: val_loss improved from 0.02541 to 0.02348, saving model to saves/rnn//rnn.keras\n",
      "\u001b[1m9462/9462\u001b[0m \u001b[32m━━━━━━━━━━━━━━━━━━━━\u001b[0m\u001b[37m\u001b[0m \u001b[1m334s\u001b[0m 35ms/step - accuracy: 0.9356 - loss: 0.0244 - val_accuracy: 0.9390 - val_loss: 0.0235 - learning_rate: 1.0000e-04\n",
      "Epoch 10/50\n",
      "\u001b[1m9461/9462\u001b[0m \u001b[32m━━━━━━━━━━━━━━━━━━━\u001b[0m\u001b[37m━\u001b[0m \u001b[1m0s\u001b[0m 29ms/step - accuracy: 0.9355 - loss: 0.0251\n",
      "Epoch 10: val_loss did not improve from 0.02348\n",
      "\u001b[1m9462/9462\u001b[0m \u001b[32m━━━━━━━━━━━━━━━━━━━━\u001b[0m\u001b[37m\u001b[0m \u001b[1m333s\u001b[0m 35ms/step - accuracy: 0.9355 - loss: 0.0251 - val_accuracy: 0.9375 - val_loss: 0.0237 - learning_rate: 1.0000e-04\n",
      "Epoch 11/50\n",
      "\u001b[1m9462/9462\u001b[0m \u001b[32m━━━━━━━━━━━━━━━━━━━━\u001b[0m\u001b[37m\u001b[0m \u001b[1m0s\u001b[0m 29ms/step - accuracy: 0.9369 - loss: 0.0240\n",
      "Epoch 11: val_loss improved from 0.02348 to 0.02299, saving model to saves/rnn//rnn.keras\n",
      "\u001b[1m9462/9462\u001b[0m \u001b[32m━━━━━━━━━━━━━━━━━━━━\u001b[0m\u001b[37m\u001b[0m \u001b[1m335s\u001b[0m 35ms/step - accuracy: 0.9369 - loss: 0.0240 - val_accuracy: 0.9391 - val_loss: 0.0230 - learning_rate: 1.0000e-04\n",
      "Epoch 12/50\n",
      "\u001b[1m9462/9462\u001b[0m \u001b[32m━━━━━━━━━━━━━━━━━━━━\u001b[0m\u001b[37m\u001b[0m \u001b[1m0s\u001b[0m 29ms/step - accuracy: 0.9369 - loss: 0.0244\n",
      "Epoch 12: val_loss did not improve from 0.02299\n",
      "\u001b[1m9462/9462\u001b[0m \u001b[32m━━━━━━━━━━━━━━━━━━━━\u001b[0m\u001b[37m\u001b[0m \u001b[1m334s\u001b[0m 35ms/step - accuracy: 0.9369 - loss: 0.0244 - val_accuracy: 0.9364 - val_loss: 0.0242 - learning_rate: 1.0000e-04\n",
      "Epoch 13/50\n",
      "\u001b[1m9462/9462\u001b[0m \u001b[32m━━━━━━━━━━━━━━━━━━━━\u001b[0m\u001b[37m\u001b[0m \u001b[1m0s\u001b[0m 29ms/step - accuracy: 0.9353 - loss: 0.0243\n",
      "Epoch 13: val_loss improved from 0.02299 to 0.02269, saving model to saves/rnn//rnn.keras\n",
      "\u001b[1m9462/9462\u001b[0m \u001b[32m━━━━━━━━━━━━━━━━━━━━\u001b[0m\u001b[37m\u001b[0m \u001b[1m333s\u001b[0m 35ms/step - accuracy: 0.9353 - loss: 0.0243 - val_accuracy: 0.9384 - val_loss: 0.0227 - learning_rate: 1.0000e-04\n",
      "Epoch 14/50\n",
      "\u001b[1m9461/9462\u001b[0m \u001b[32m━━━━━━━━━━━━━━━━━━━\u001b[0m\u001b[37m━\u001b[0m \u001b[1m0s\u001b[0m 28ms/step - accuracy: 0.9376 - loss: 0.0231\n",
      "Epoch 14: val_loss did not improve from 0.02269\n",
      "\u001b[1m9462/9462\u001b[0m \u001b[32m━━━━━━━━━━━━━━━━━━━━\u001b[0m\u001b[37m\u001b[0m \u001b[1m329s\u001b[0m 35ms/step - accuracy: 0.9376 - loss: 0.0231 - val_accuracy: 0.9328 - val_loss: 0.0257 - learning_rate: 1.0000e-04\n",
      "Epoch 15/50\n",
      "\u001b[1m9462/9462\u001b[0m \u001b[32m━━━━━━━━━━━━━━━━━━━━\u001b[0m\u001b[37m\u001b[0m \u001b[1m0s\u001b[0m 29ms/step - accuracy: 0.9363 - loss: 0.0240\n",
      "Epoch 15: val_loss did not improve from 0.02269\n",
      "\u001b[1m9462/9462\u001b[0m \u001b[32m━━━━━━━━━━━━━━━━━━━━\u001b[0m\u001b[37m\u001b[0m \u001b[1m335s\u001b[0m 35ms/step - accuracy: 0.9363 - loss: 0.0240 - val_accuracy: 0.9378 - val_loss: 0.0228 - learning_rate: 1.0000e-04\n",
      "Epoch 16/50\n",
      "\u001b[1m9461/9462\u001b[0m \u001b[32m━━━━━━━━━━━━━━━━━━━\u001b[0m\u001b[37m━\u001b[0m \u001b[1m0s\u001b[0m 28ms/step - accuracy: 0.9387 - loss: 0.0223\n",
      "Epoch 16: val_loss did not improve from 0.02269\n",
      "\u001b[1m9462/9462\u001b[0m \u001b[32m━━━━━━━━━━━━━━━━━━━━\u001b[0m\u001b[37m\u001b[0m \u001b[1m328s\u001b[0m 35ms/step - accuracy: 0.9387 - loss: 0.0223 - val_accuracy: 0.9361 - val_loss: 0.0250 - learning_rate: 1.0000e-04\n",
      "Epoch 17/50\n",
      "\u001b[1m9461/9462\u001b[0m \u001b[32m━━━━━━━━━━━━━━━━━━━\u001b[0m\u001b[37m━\u001b[0m \u001b[1m0s\u001b[0m 29ms/step - accuracy: 0.9371 - loss: 0.0236\n",
      "Epoch 17: val_loss improved from 0.02269 to 0.02234, saving model to saves/rnn//rnn.keras\n",
      "\u001b[1m9462/9462\u001b[0m \u001b[32m━━━━━━━━━━━━━━━━━━━━\u001b[0m\u001b[37m\u001b[0m \u001b[1m334s\u001b[0m 35ms/step - accuracy: 0.9371 - loss: 0.0236 - val_accuracy: 0.9391 - val_loss: 0.0223 - learning_rate: 1.0000e-04\n",
      "Epoch 18/50\n",
      "\u001b[1m9461/9462\u001b[0m \u001b[32m━━━━━━━━━━━━━━━━━━━\u001b[0m\u001b[37m━\u001b[0m \u001b[1m0s\u001b[0m 29ms/step - accuracy: 0.9392 - loss: 0.0219\n",
      "Epoch 18: val_loss improved from 0.02234 to 0.02167, saving model to saves/rnn//rnn.keras\n",
      "\u001b[1m9462/9462\u001b[0m \u001b[32m━━━━━━━━━━━━━━━━━━━━\u001b[0m\u001b[37m\u001b[0m \u001b[1m333s\u001b[0m 35ms/step - accuracy: 0.9392 - loss: 0.0219 - val_accuracy: 0.9395 - val_loss: 0.0217 - learning_rate: 1.0000e-04\n",
      "Epoch 19/50\n",
      "\u001b[1m9462/9462\u001b[0m \u001b[32m━━━━━━━━━━━━━━━━━━━━\u001b[0m\u001b[37m\u001b[0m \u001b[1m0s\u001b[0m 29ms/step - accuracy: 0.9393 - loss: 0.0217\n",
      "Epoch 19: val_loss did not improve from 0.02167\n",
      "\u001b[1m9462/9462\u001b[0m \u001b[32m━━━━━━━━━━━━━━━━━━━━\u001b[0m\u001b[37m\u001b[0m \u001b[1m333s\u001b[0m 35ms/step - accuracy: 0.9393 - loss: 0.0217 - val_accuracy: 0.9399 - val_loss: 0.0219 - learning_rate: 1.0000e-04\n",
      "Epoch 20/50\n",
      "\u001b[1m9462/9462\u001b[0m \u001b[32m━━━━━━━━━━━━━━━━━━━━\u001b[0m\u001b[37m\u001b[0m \u001b[1m0s\u001b[0m 29ms/step - accuracy: 0.9382 - loss: 0.0224\n",
      "Epoch 20: val_loss did not improve from 0.02167\n",
      "\u001b[1m9462/9462\u001b[0m \u001b[32m━━━━━━━━━━━━━━━━━━━━\u001b[0m\u001b[37m\u001b[0m \u001b[1m335s\u001b[0m 35ms/step - accuracy: 0.9382 - loss: 0.0224 - val_accuracy: 0.9395 - val_loss: 0.0220 - learning_rate: 1.0000e-04\n",
      "Epoch 21/50\n",
      "\u001b[1m9461/9462\u001b[0m \u001b[32m━━━━━━━━━━━━━━━━━━━\u001b[0m\u001b[37m━\u001b[0m \u001b[1m0s\u001b[0m 29ms/step - accuracy: 0.9409 - loss: 0.0207\n",
      "Epoch 21: val_loss improved from 0.02167 to 0.02038, saving model to saves/rnn//rnn.keras\n",
      "\u001b[1m9462/9462\u001b[0m \u001b[32m━━━━━━━━━━━━━━━━━━━━\u001b[0m\u001b[37m\u001b[0m \u001b[1m338s\u001b[0m 36ms/step - accuracy: 0.9409 - loss: 0.0207 - val_accuracy: 0.9417 - val_loss: 0.0204 - learning_rate: 5.0000e-05\n",
      "Epoch 22/50\n",
      "\u001b[1m9461/9462\u001b[0m \u001b[32m━━━━━━━━━━━━━━━━━━━\u001b[0m\u001b[37m━\u001b[0m \u001b[1m0s\u001b[0m 29ms/step - accuracy: 0.9413 - loss: 0.0204\n",
      "Epoch 22: val_loss did not improve from 0.02038\n",
      "\u001b[1m9462/9462\u001b[0m \u001b[32m━━━━━━━━━━━━━━━━━━━━\u001b[0m\u001b[37m\u001b[0m \u001b[1m330s\u001b[0m 35ms/step - accuracy: 0.9413 - loss: 0.0204 - val_accuracy: 0.9416 - val_loss: 0.0205 - learning_rate: 5.0000e-05\n",
      "Epoch 23/50\n",
      "\u001b[1m9461/9462\u001b[0m \u001b[32m━━━━━━━━━━━━━━━━━━━\u001b[0m\u001b[37m━\u001b[0m \u001b[1m0s\u001b[0m 29ms/step - accuracy: 0.9417 - loss: 0.0201\n",
      "Epoch 23: val_loss improved from 0.02038 to 0.02035, saving model to saves/rnn//rnn.keras\n",
      "\u001b[1m9462/9462\u001b[0m \u001b[32m━━━━━━━━━━━━━━━━━━━━\u001b[0m\u001b[37m\u001b[0m \u001b[1m334s\u001b[0m 35ms/step - accuracy: 0.9417 - loss: 0.0201 - val_accuracy: 0.9406 - val_loss: 0.0204 - learning_rate: 5.0000e-05\n",
      "Epoch 24/50\n",
      "\u001b[1m9461/9462\u001b[0m \u001b[32m━━━━━━━━━━━━━━━━━━━\u001b[0m\u001b[37m━\u001b[0m \u001b[1m0s\u001b[0m 29ms/step - accuracy: 0.9419 - loss: 0.0198\n",
      "Epoch 24: val_loss did not improve from 0.02035\n",
      "\u001b[1m9462/9462\u001b[0m \u001b[32m━━━━━━━━━━━━━━━━━━━━\u001b[0m\u001b[37m\u001b[0m \u001b[1m333s\u001b[0m 35ms/step - accuracy: 0.9419 - loss: 0.0198 - val_accuracy: 0.9391 - val_loss: 0.0216 - learning_rate: 5.0000e-05\n",
      "Epoch 25/50\n",
      "\u001b[1m9462/9462\u001b[0m \u001b[32m━━━━━━━━━━━━━━━━━━━━\u001b[0m\u001b[37m\u001b[0m \u001b[1m0s\u001b[0m 29ms/step - accuracy: 0.9415 - loss: 0.0203\n",
      "Epoch 25: val_loss improved from 0.02035 to 0.02023, saving model to saves/rnn//rnn.keras\n",
      "\u001b[1m9462/9462\u001b[0m \u001b[32m━━━━━━━━━━━━━━━━━━━━\u001b[0m\u001b[37m\u001b[0m \u001b[1m335s\u001b[0m 35ms/step - accuracy: 0.9415 - loss: 0.0203 - val_accuracy: 0.9420 - val_loss: 0.0202 - learning_rate: 5.0000e-05\n",
      "Epoch 26/50\n",
      "\u001b[1m9461/9462\u001b[0m \u001b[32m━━━━━━━━━━━━━━━━━━━\u001b[0m\u001b[37m━\u001b[0m \u001b[1m0s\u001b[0m 29ms/step - accuracy: 0.9424 - loss: 0.0192\n",
      "Epoch 26: val_loss improved from 0.02023 to 0.01972, saving model to saves/rnn//rnn.keras\n",
      "\u001b[1m9462/9462\u001b[0m \u001b[32m━━━━━━━━━━━━━━━━━━━━\u001b[0m\u001b[37m\u001b[0m \u001b[1m335s\u001b[0m 35ms/step - accuracy: 0.9424 - loss: 0.0192 - val_accuracy: 0.9428 - val_loss: 0.0197 - learning_rate: 2.5000e-05\n",
      "Epoch 27/50\n",
      "\u001b[1m9460/9462\u001b[0m \u001b[32m━━━━━━━━━━━━━━━━━━━\u001b[0m\u001b[37m━\u001b[0m \u001b[1m0s\u001b[0m 29ms/step - accuracy: 0.9432 - loss: 0.0190\n",
      "Epoch 27: val_loss improved from 0.01972 to 0.01953, saving model to saves/rnn//rnn.keras\n",
      "\u001b[1m9462/9462\u001b[0m \u001b[32m━━━━━━━━━━━━━━━━━━━━\u001b[0m\u001b[37m\u001b[0m \u001b[1m333s\u001b[0m 35ms/step - accuracy: 0.9432 - loss: 0.0190 - val_accuracy: 0.9433 - val_loss: 0.0195 - learning_rate: 2.5000e-05\n",
      "Epoch 28/50\n",
      "\u001b[1m9461/9462\u001b[0m \u001b[32m━━━━━━━━━━━━━━━━━━━\u001b[0m\u001b[37m━\u001b[0m \u001b[1m0s\u001b[0m 29ms/step - accuracy: 0.9396 - loss: 0.0200\n",
      "Epoch 28: val_loss did not improve from 0.01953\n",
      "\u001b[1m9462/9462\u001b[0m \u001b[32m━━━━━━━━━━━━━━━━━━━━\u001b[0m\u001b[37m\u001b[0m \u001b[1m334s\u001b[0m 35ms/step - accuracy: 0.9396 - loss: 0.0200 - val_accuracy: 0.9421 - val_loss: 0.0200 - learning_rate: 2.5000e-05\n",
      "Epoch 29/50\n",
      "\u001b[1m9461/9462\u001b[0m \u001b[32m━━━━━━━━━━━━━━━━━━━\u001b[0m\u001b[37m━\u001b[0m \u001b[1m0s\u001b[0m 29ms/step - accuracy: 0.9435 - loss: 0.0188\n",
      "Epoch 29: val_loss improved from 0.01953 to 0.01933, saving model to saves/rnn//rnn.keras\n",
      "\u001b[1m9462/9462\u001b[0m \u001b[32m━━━━━━━━━━━━━━━━━━━━\u001b[0m\u001b[37m\u001b[0m \u001b[1m339s\u001b[0m 36ms/step - accuracy: 0.9435 - loss: 0.0188 - val_accuracy: 0.9436 - val_loss: 0.0193 - learning_rate: 1.2500e-05\n",
      "Epoch 30/50\n",
      "\u001b[1m9462/9462\u001b[0m \u001b[32m━━━━━━━━━━━━━━━━━━━━\u001b[0m\u001b[37m\u001b[0m \u001b[1m0s\u001b[0m 29ms/step - accuracy: 0.9439 - loss: 0.0185\n",
      "Epoch 30: val_loss improved from 0.01933 to 0.01930, saving model to saves/rnn//rnn.keras\n",
      "\u001b[1m9462/9462\u001b[0m \u001b[32m━━━━━━━━━━━━━━━━━━━━\u001b[0m\u001b[37m\u001b[0m \u001b[1m339s\u001b[0m 36ms/step - accuracy: 0.9439 - loss: 0.0185 - val_accuracy: 0.9437 - val_loss: 0.0193 - learning_rate: 1.2500e-05\n",
      "Epoch 31/50\n",
      "\u001b[1m9461/9462\u001b[0m \u001b[32m━━━━━━━━━━━━━━━━━━━\u001b[0m\u001b[37m━\u001b[0m \u001b[1m0s\u001b[0m 29ms/step - accuracy: 0.9435 - loss: 0.0187\n",
      "Epoch 31: val_loss improved from 0.01930 to 0.01922, saving model to saves/rnn//rnn.keras\n",
      "\u001b[1m9462/9462\u001b[0m \u001b[32m━━━━━━━━━━━━━━━━━━━━\u001b[0m\u001b[37m\u001b[0m \u001b[1m336s\u001b[0m 35ms/step - accuracy: 0.9435 - loss: 0.0187 - val_accuracy: 0.9438 - val_loss: 0.0192 - learning_rate: 1.2500e-05\n",
      "Epoch 32/50\n",
      "\u001b[1m9462/9462\u001b[0m \u001b[32m━━━━━━━━━━━━━━━━━━━━\u001b[0m\u001b[37m\u001b[0m \u001b[1m0s\u001b[0m 28ms/step - accuracy: 0.9436 - loss: 0.0185\n",
      "Epoch 32: val_loss improved from 0.01922 to 0.01919, saving model to saves/rnn//rnn.keras\n",
      "\u001b[1m9462/9462\u001b[0m \u001b[32m━━━━━━━━━━━━━━━━━━━━\u001b[0m\u001b[37m\u001b[0m \u001b[1m331s\u001b[0m 35ms/step - accuracy: 0.9436 - loss: 0.0185 - val_accuracy: 0.9437 - val_loss: 0.0192 - learning_rate: 1.2500e-05\n",
      "Epoch 33/50\n",
      "\u001b[1m9461/9462\u001b[0m \u001b[32m━━━━━━━━━━━━━━━━━━━\u001b[0m\u001b[37m━\u001b[0m \u001b[1m0s\u001b[0m 29ms/step - accuracy: 0.9438 - loss: 0.0185\n",
      "Epoch 33: val_loss did not improve from 0.01919\n",
      "\u001b[1m9462/9462\u001b[0m \u001b[32m━━━━━━━━━━━━━━━━━━━━\u001b[0m\u001b[37m\u001b[0m \u001b[1m339s\u001b[0m 36ms/step - accuracy: 0.9438 - loss: 0.0185 - val_accuracy: 0.9437 - val_loss: 0.0193 - learning_rate: 1.2500e-05\n",
      "Epoch 34/50\n",
      "\u001b[1m9462/9462\u001b[0m \u001b[32m━━━━━━━━━━━━━━━━━━━━\u001b[0m\u001b[37m\u001b[0m \u001b[1m0s\u001b[0m 29ms/step - accuracy: 0.9440 - loss: 0.0185\n",
      "Epoch 34: val_loss improved from 0.01919 to 0.01916, saving model to saves/rnn//rnn.keras\n",
      "\u001b[1m9462/9462\u001b[0m \u001b[32m━━━━━━━━━━━━━━━━━━━━\u001b[0m\u001b[37m\u001b[0m \u001b[1m336s\u001b[0m 36ms/step - accuracy: 0.9440 - loss: 0.0185 - val_accuracy: 0.9439 - val_loss: 0.0192 - learning_rate: 1.2500e-05\n",
      "Epoch 35/50\n",
      "\u001b[1m9461/9462\u001b[0m \u001b[32m━━━━━━━━━━━━━━━━━━━\u001b[0m\u001b[37m━\u001b[0m \u001b[1m0s\u001b[0m 29ms/step - accuracy: 0.9445 - loss: 0.0182\n",
      "Epoch 35: val_loss improved from 0.01916 to 0.01908, saving model to saves/rnn//rnn.keras\n",
      "\u001b[1m9462/9462\u001b[0m \u001b[32m━━━━━━━━━━━━━━━━━━━━\u001b[0m\u001b[37m\u001b[0m \u001b[1m336s\u001b[0m 36ms/step - accuracy: 0.9445 - loss: 0.0182 - val_accuracy: 0.9438 - val_loss: 0.0191 - learning_rate: 6.2500e-06\n",
      "Epoch 36/50\n",
      "\u001b[1m9461/9462\u001b[0m \u001b[32m━━━━━━━━━━━━━━━━━━━\u001b[0m\u001b[37m━\u001b[0m \u001b[1m0s\u001b[0m 29ms/step - accuracy: 0.9442 - loss: 0.0183\n",
      "Epoch 36: val_loss improved from 0.01908 to 0.01907, saving model to saves/rnn//rnn.keras\n",
      "\u001b[1m9462/9462\u001b[0m \u001b[32m━━━━━━━━━━━━━━━━━━━━\u001b[0m\u001b[37m\u001b[0m \u001b[1m335s\u001b[0m 35ms/step - accuracy: 0.9442 - loss: 0.0183 - val_accuracy: 0.9440 - val_loss: 0.0191 - learning_rate: 6.2500e-06\n",
      "Epoch 37/50\n",
      "\u001b[1m9462/9462\u001b[0m \u001b[32m━━━━━━━━━━━━━━━━━━━━\u001b[0m\u001b[37m\u001b[0m \u001b[1m0s\u001b[0m 29ms/step - accuracy: 0.9440 - loss: 0.0184\n",
      "Epoch 37: val_loss did not improve from 0.01907\n",
      "\u001b[1m9462/9462\u001b[0m \u001b[32m━━━━━━━━━━━━━━━━━━━━\u001b[0m\u001b[37m\u001b[0m \u001b[1m336s\u001b[0m 35ms/step - accuracy: 0.9440 - loss: 0.0184 - val_accuracy: 0.9440 - val_loss: 0.0191 - learning_rate: 6.2500e-06\n",
      "Epoch 38/50\n",
      "\u001b[1m9462/9462\u001b[0m \u001b[32m━━━━━━━━━━━━━━━━━━━━\u001b[0m\u001b[37m\u001b[0m \u001b[1m0s\u001b[0m 29ms/step - accuracy: 0.9445 - loss: 0.0181\n",
      "Epoch 38: val_loss improved from 0.01907 to 0.01901, saving model to saves/rnn//rnn.keras\n",
      "\u001b[1m9462/9462\u001b[0m \u001b[32m━━━━━━━━━━━━━━━━━━━━\u001b[0m\u001b[37m\u001b[0m \u001b[1m335s\u001b[0m 35ms/step - accuracy: 0.9445 - loss: 0.0181 - val_accuracy: 0.9441 - val_loss: 0.0190 - learning_rate: 3.1250e-06\n",
      "Epoch 39/50\n",
      "\u001b[1m9462/9462\u001b[0m \u001b[32m━━━━━━━━━━━━━━━━━━━━\u001b[0m\u001b[37m\u001b[0m \u001b[1m0s\u001b[0m 29ms/step - accuracy: 0.9447 - loss: 0.0181\n",
      "Epoch 39: val_loss improved from 0.01901 to 0.01899, saving model to saves/rnn//rnn.keras\n",
      "\u001b[1m9462/9462\u001b[0m \u001b[32m━━━━━━━━━━━━━━━━━━━━\u001b[0m\u001b[37m\u001b[0m \u001b[1m339s\u001b[0m 36ms/step - accuracy: 0.9447 - loss: 0.0181 - val_accuracy: 0.9441 - val_loss: 0.0190 - learning_rate: 3.1250e-06\n",
      "Epoch 40/50\n",
      "\u001b[1m9462/9462\u001b[0m \u001b[32m━━━━━━━━━━━━━━━━━━━━\u001b[0m\u001b[37m\u001b[0m \u001b[1m0s\u001b[0m 29ms/step - accuracy: 0.9449 - loss: 0.0180\n",
      "Epoch 40: val_loss did not improve from 0.01899\n",
      "\u001b[1m9462/9462\u001b[0m \u001b[32m━━━━━━━━━━━━━━━━━━━━\u001b[0m\u001b[37m\u001b[0m \u001b[1m338s\u001b[0m 36ms/step - accuracy: 0.9449 - loss: 0.0180 - val_accuracy: 0.9441 - val_loss: 0.0190 - learning_rate: 3.1250e-06\n",
      "Epoch 41/50\n",
      "\u001b[1m9462/9462\u001b[0m \u001b[32m━━━━━━━━━━━━━━━━━━━━\u001b[0m\u001b[37m\u001b[0m \u001b[1m0s\u001b[0m 29ms/step - accuracy: 0.9441 - loss: 0.0183\n",
      "Epoch 41: val_loss improved from 0.01899 to 0.01899, saving model to saves/rnn//rnn.keras\n",
      "\u001b[1m9462/9462\u001b[0m \u001b[32m━━━━━━━━━━━━━━━━━━━━\u001b[0m\u001b[37m\u001b[0m \u001b[1m334s\u001b[0m 35ms/step - accuracy: 0.9441 - loss: 0.0183 - val_accuracy: 0.9442 - val_loss: 0.0190 - learning_rate: 3.1250e-06\n",
      "Epoch 42/50\n",
      "\u001b[1m9461/9462\u001b[0m \u001b[32m━━━━━━━━━━━━━━━━━━━\u001b[0m\u001b[37m━\u001b[0m \u001b[1m0s\u001b[0m 28ms/step - accuracy: 0.9450 - loss: 0.0180\n",
      "Epoch 42: val_loss improved from 0.01899 to 0.01895, saving model to saves/rnn//rnn.keras\n",
      "\u001b[1m9462/9462\u001b[0m \u001b[32m━━━━━━━━━━━━━━━━━━━━\u001b[0m\u001b[37m\u001b[0m \u001b[1m329s\u001b[0m 35ms/step - accuracy: 0.9450 - loss: 0.0180 - val_accuracy: 0.9443 - val_loss: 0.0190 - learning_rate: 1.5625e-06\n",
      "Epoch 43/50\n",
      "\u001b[1m9461/9462\u001b[0m \u001b[32m━━━━━━━━━━━━━━━━━━━\u001b[0m\u001b[37m━\u001b[0m \u001b[1m0s\u001b[0m 28ms/step - accuracy: 0.9447 - loss: 0.0181\n",
      "Epoch 43: val_loss improved from 0.01895 to 0.01895, saving model to saves/rnn//rnn.keras\n",
      "\u001b[1m9462/9462\u001b[0m \u001b[32m━━━━━━━━━━━━━━━━━━━━\u001b[0m\u001b[37m\u001b[0m \u001b[1m331s\u001b[0m 35ms/step - accuracy: 0.9447 - loss: 0.0181 - val_accuracy: 0.9443 - val_loss: 0.0189 - learning_rate: 1.5625e-06\n",
      "Epoch 44/50\n",
      "\u001b[1m9462/9462\u001b[0m \u001b[32m━━━━━━━━━━━━━━━━━━━━\u001b[0m\u001b[37m\u001b[0m \u001b[1m0s\u001b[0m 29ms/step - accuracy: 0.9448 - loss: 0.0180\n",
      "Epoch 44: val_loss did not improve from 0.01895\n",
      "\u001b[1m9462/9462\u001b[0m \u001b[32m━━━━━━━━━━━━━━━━━━━━\u001b[0m\u001b[37m\u001b[0m \u001b[1m334s\u001b[0m 35ms/step - accuracy: 0.9448 - loss: 0.0180 - val_accuracy: 0.9443 - val_loss: 0.0189 - learning_rate: 7.8125e-07\n",
      "Epoch 45/50\n",
      "\u001b[1m9461/9462\u001b[0m \u001b[32m━━━━━━━━━━━━━━━━━━━\u001b[0m\u001b[37m━\u001b[0m \u001b[1m0s\u001b[0m 29ms/step - accuracy: 0.9449 - loss: 0.0182\n",
      "Epoch 45: val_loss did not improve from 0.01895\n",
      "\u001b[1m9462/9462\u001b[0m \u001b[32m━━━━━━━━━━━━━━━━━━━━\u001b[0m\u001b[37m\u001b[0m \u001b[1m339s\u001b[0m 36ms/step - accuracy: 0.9449 - loss: 0.0182 - val_accuracy: 0.9442 - val_loss: 0.0189 - learning_rate: 7.8125e-07\n",
      "Epoch 46/50\n",
      "\u001b[1m9461/9462\u001b[0m \u001b[32m━━━━━━━━━━━━━━━━━━━\u001b[0m\u001b[37m━\u001b[0m \u001b[1m0s\u001b[0m 28ms/step - accuracy: 0.9452 - loss: 0.0180\n",
      "Epoch 46: val_loss improved from 0.01895 to 0.01894, saving model to saves/rnn//rnn.keras\n",
      "\u001b[1m9462/9462\u001b[0m \u001b[32m━━━━━━━━━━━━━━━━━━━━\u001b[0m\u001b[37m\u001b[0m \u001b[1m329s\u001b[0m 35ms/step - accuracy: 0.9452 - loss: 0.0180 - val_accuracy: 0.9444 - val_loss: 0.0189 - learning_rate: 3.9062e-07\n",
      "Epoch 47/50\n",
      "\u001b[1m9461/9462\u001b[0m \u001b[32m━━━━━━━━━━━━━━━━━━━\u001b[0m\u001b[37m━\u001b[0m \u001b[1m0s\u001b[0m 29ms/step - accuracy: 0.9445 - loss: 0.0180\n",
      "Epoch 47: val_loss improved from 0.01894 to 0.01893, saving model to saves/rnn//rnn.keras\n",
      "\u001b[1m9462/9462\u001b[0m \u001b[32m━━━━━━━━━━━━━━━━━━━━\u001b[0m\u001b[37m\u001b[0m \u001b[1m332s\u001b[0m 35ms/step - accuracy: 0.9445 - loss: 0.0180 - val_accuracy: 0.9443 - val_loss: 0.0189 - learning_rate: 3.9062e-07\n",
      "Epoch 48/50\n",
      "\u001b[1m9462/9462\u001b[0m \u001b[32m━━━━━━━━━━━━━━━━━━━━\u001b[0m\u001b[37m\u001b[0m \u001b[1m0s\u001b[0m 29ms/step - accuracy: 0.9447 - loss: 0.0179\n",
      "Epoch 48: val_loss improved from 0.01893 to 0.01893, saving model to saves/rnn//rnn.keras\n",
      "\u001b[1m9462/9462\u001b[0m \u001b[32m━━━━━━━━━━━━━━━━━━━━\u001b[0m\u001b[37m\u001b[0m \u001b[1m338s\u001b[0m 36ms/step - accuracy: 0.9447 - loss: 0.0179 - val_accuracy: 0.9443 - val_loss: 0.0189 - learning_rate: 1.9531e-07\n",
      "Epoch 49/50\n",
      "\u001b[1m9462/9462\u001b[0m \u001b[32m━━━━━━━━━━━━━━━━━━━━\u001b[0m\u001b[37m\u001b[0m \u001b[1m0s\u001b[0m 29ms/step - accuracy: 0.9449 - loss: 0.0180\n",
      "Epoch 49: val_loss improved from 0.01893 to 0.01893, saving model to saves/rnn//rnn.keras\n",
      "\u001b[1m9462/9462\u001b[0m \u001b[32m━━━━━━━━━━━━━━━━━━━━\u001b[0m\u001b[37m\u001b[0m \u001b[1m334s\u001b[0m 35ms/step - accuracy: 0.9449 - loss: 0.0180 - val_accuracy: 0.9443 - val_loss: 0.0189 - learning_rate: 1.9531e-07\n",
      "Epoch 50/50\n",
      "\u001b[1m9461/9462\u001b[0m \u001b[32m━━━━━━━━━━━━━━━━━━━\u001b[0m\u001b[37m━\u001b[0m \u001b[1m0s\u001b[0m 29ms/step - accuracy: 0.9448 - loss: 0.0182\n",
      "Epoch 50: val_loss improved from 0.01893 to 0.01893, saving model to saves/rnn//rnn.keras\n",
      "\u001b[1m9462/9462\u001b[0m \u001b[32m━━━━━━━━━━━━━━━━━━━━\u001b[0m\u001b[37m\u001b[0m \u001b[1m333s\u001b[0m 35ms/step - accuracy: 0.9448 - loss: 0.0182 - val_accuracy: 0.9443 - val_loss: 0.0189 - learning_rate: 1.9531e-07\n"
     ]
    }
   ],
   "source": [
    "history = model.fit(\n",
    "    x=Generator(X_train, y_train, 64, max_sequence_length),\n",
    "    validation_data=Generator(X_val, y_val, 32, max_sequence_length),\n",
    "    epochs=50,\n",
    "    callbacks=[early_stop, model_checkpoint, lr_schedule, csv_logger],\n",
    ")\n",
    "\n",
    "# save history to file\n",
    "with open(f'{checkpoint_path}/rnn_history.npy', 'wb') as f:\n",
    "    np.save(f, history.history)"
   ]
  },
  {
   "cell_type": "code",
   "execution_count": 14,
   "metadata": {},
   "outputs": [
    {
     "data": {
      "image/png": "[encoded data removed]",
      "text/plain": [
       "<Figure size 640x480 with 1 Axes>"
      ]
     },
     "metadata": {},
     "output_type": "display_data"
    },
    {
     "data": {
      "image/png": "[encoded data removed]",
      "text/plain": [
       "<Figure size 640x480 with 1 Axes>"
      ]
     },
     "metadata": {},
     "output_type": "display_data"
    }
   ],
   "source": [
    "# plot history\n",
    "\n",
    "plt.plot(history.history['loss'])\n",
    "plt.plot(history.history['val_loss'])\n",
    "plt.title('model loss')\n",
    "plt.ylabel('loss')\n",
    "plt.xlabel('epoch')\n",
    "plt.legend(['train', 'val'], loc='upper left')\n",
    "plt.show()\n",
    "\n",
    "plt.plot(history.history['accuracy'])\n",
    "plt.plot(history.history['val_accuracy'])\n",
    "plt.title('model accuracy')\n",
    "plt.ylabel('accuracy')\n",
    "plt.xlabel('epoch')\n",
    "plt.legend(['train', 'val'], loc='upper left')\n",
    "plt.show()"
   ]
  }
 ],
 "metadata": {
  "kernelspec": {
   "display_name": "Python 3 (ipykernel)",
   "language": "python",
   "name": "python3"
  },
  "language_info": {
   "codemirror_mode": {
    "name": "ipython",
    "version": 3
   },
   "file_extension": ".py",
   "mimetype": "text/x-python",
   "name": "python",
   "nbconvert_exporter": "python",
   "pygments_lexer": "ipython3",
   "version": "3.12.3"
  }
 },
 "nbformat": 4,
 "nbformat_minor": 2
}
