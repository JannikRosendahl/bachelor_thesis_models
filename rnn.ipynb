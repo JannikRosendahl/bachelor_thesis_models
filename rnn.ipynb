{
 "cells": [
  {
   "cell_type": "code",
   "id": "initial_id",
   "metadata": {
    "collapsed": true,
    "ExecuteTime": {
     "end_time": "2024-06-07T14:04:03.914570Z",
     "start_time": "2024-06-07T14:04:03.908404Z"
    }
   },
   "source": [
    "import os\n",
    "\n",
    "from matplotlib import pyplot as plt\n",
    "import pandas as pd\n",
    "import numpy as np\n",
    "from keras import Sequential, Input\n",
    "from keras.src.layers import SimpleRNN, Dense, Dropout\n",
    "from keras.src.callbacks import EarlyStopping\n",
    "from sklearn.model_selection import train_test_split\n",
    "from sklearn.metrics import classification_report\n"
   ],
   "outputs": [],
   "execution_count": 206
  },
  {
   "metadata": {
    "ExecuteTime": {
     "end_time": "2024-06-07T13:54:20.377652Z",
     "start_time": "2024-06-07T13:54:20.361545Z"
    }
   },
   "cell_type": "code",
   "source": [
    "# debug\n",
    "_ = os.system('hostname')\n",
    "_ = os.system('whoami')\n",
    "_ = os.system('pwd')"
   ],
   "id": "508cf3735d056019",
   "outputs": [
    {
     "name": "stdout",
     "output_type": "stream",
     "text": [
      "absolute-unit\n",
      "jrosendahl\n",
      "/home/jrosendahl/sync/models\n"
     ]
    }
   ],
   "execution_count": 193
  },
  {
   "metadata": {
    "ExecuteTime": {
     "end_time": "2024-06-07T13:54:21.999577Z",
     "start_time": "2024-06-07T13:54:20.380628Z"
    }
   },
   "cell_type": "code",
   "source": [
    "data_dir = '/home/jrosendahl/datasets/cadets/sequences'\n",
    "\n",
    "sequences_raw = []\n",
    "labels_raw = []\n",
    "\n",
    "limit = 2000\n",
    "count = 0\n",
    "\n",
    "for file_name in os.listdir(data_dir):\n",
    "    count += 1\n",
    "    if count > limit:\n",
    "        break\n",
    "    with open(os.path.join(data_dir, file_name), 'r') as file:\n",
    "        sequence = pd.read_csv(file, header=None).iloc[:, 0].tolist()\n",
    "        sequences_raw.append(sequence)\n",
    "        labels_raw.append(file_name.split('_')[0])\n",
    "\n",
    "print(f'loaded {len(sequences_raw)} sequences')"
   ],
   "id": "6a7b8f4d9ca22b43",
   "outputs": [
    {
     "name": "stdout",
     "output_type": "stream",
     "text": [
      "loaded 2000 sequences\n"
     ]
    }
   ],
   "execution_count": 194
  },
  {
   "metadata": {
    "ExecuteTime": {
     "end_time": "2024-06-07T13:54:22.517289Z",
     "start_time": "2024-06-07T13:54:22.000722Z"
    }
   },
   "cell_type": "code",
   "source": [
    "# convert labels\n",
    "# convert to numpy array\n",
    "labels_np = np.array(labels_raw)\n",
    "\n",
    "no_classes = len(np.unique(labels_np))\n",
    "print(f'no_classes: {no_classes}')\n",
    "\n",
    "# encode labels to integers\n",
    "labels = np.array([np.unique(labels_np).tolist().index(label) for label in labels_np])\n",
    "\n",
    "# print first 10 labels\n",
    "print(f'first 10 labels: {labels[:10]}')\n",
    "# print first 10 labels reconverted\n",
    "print(f'first 10 labels reconverted: {[np.unique(labels_np)[label] for label in labels[:10]]}')\n",
    "\n",
    "# one hot encode labels\n",
    "labels = np.eye(no_classes)[labels]\n",
    "\n",
    "# print labels shape\n",
    "print(f'labels shape: {labels.shape}')\n"
   ],
   "id": "a0754efa188145b5",
   "outputs": [
    {
     "name": "stdout",
     "output_type": "stream",
     "text": [
      "no_classes: 48\n",
      "first 10 labels: [ 4 37 41  9  4  5  4 14  4 37]\n",
      "first 10 labels reconverted: ['bash', 'sleep', 'sysctl', 'dd', 'bash', 'cat', 'bash', 'imapd', 'bash', 'sleep']\n",
      "labels shape: (2000, 48)\n"
     ]
    }
   ],
   "execution_count": 195
  },
  {
   "metadata": {
    "ExecuteTime": {
     "end_time": "2024-06-07T13:54:22.827825Z",
     "start_time": "2024-06-07T13:54:22.518294Z"
    }
   },
   "cell_type": "code",
   "source": [
    "# convert sequences into numpy array of shape (no_sequences, max_sequence_length, no_features). one_hot encode features (types)\n",
    "types = [ 'NONE', 'ACCEPT', 'ADD_OBJECT_ATTRIBUTE', 'BIND', 'CHANGE_PRINCIPAL', 'CLOSE', 'CONNECT', 'CREATE_OBJECT', 'EXECUTE', 'EXIT', 'FCNTL', 'FLOWS_TO', 'FORK',  'LINK', 'LOGIN', 'LSEEK', 'MMAP', 'MODIFY_FILE_ATTRIBUTES', 'MODIFY_PROCESS', 'MPROTECT', 'OPEN', 'OTHER', 'READ', 'RECVFROM', 'RECVMSG', 'RENAME', 'SENDMSG',  'SENDTO', 'SIGNAL', 'TRUNCATE', 'UNLINK', 'WRITE' ]\n",
    "\n",
    "max_sequence_length = max([len(sequence) for sequence in sequences_raw])\n",
    "\n",
    "sequences = np.zeros((len(sequences_raw), max_sequence_length, len(types)))\n",
    "\n",
    "for i, sequence in enumerate(sequences_raw):\n",
    "    for j, entry in enumerate(sequence):\n",
    "        sequences[i, j, types.index(entry)] = 1\n",
    "        \n",
    "print(f'sequences shape: {sequences.shape}')"
   ],
   "id": "be9187eb84e41f1",
   "outputs": [
    {
     "name": "stdout",
     "output_type": "stream",
     "text": [
      "sequences shape: (2000, 4106, 32)\n"
     ]
    }
   ],
   "execution_count": 196
  },
  {
   "metadata": {
    "ExecuteTime": {
     "end_time": "2024-06-07T13:54:23.422822Z",
     "start_time": "2024-06-07T13:54:22.829747Z"
    }
   },
   "cell_type": "code",
   "source": [
    "X_train, X_test, y_train, y_test = train_test_split(sequences, labels, test_size=0.2, random_state=42)\n",
    "X_train, X_val, y_train, y_val = train_test_split(X_train, y_train, test_size=0.2, random_state=42)\n",
    "\n",
    "# print sizes, dimensions\n",
    "print(f'X_train: {X_train.shape}')\n",
    "print(f'y_train: {y_train.shape}')\n",
    "print(f'X_val: {X_val.shape}')\n",
    "print(f'y_val: {y_val.shape}')\n",
    "print(f'X_test: {X_test.shape}')\n",
    "print(f'y_test: {y_test.shape}')\n",
    "\n",
    "print(f'training data shape: {X_train.shape}')\n",
    "print(f'model input shape: {X_train.shape[1:]}')"
   ],
   "id": "5bfccc2f8b721c9",
   "outputs": [
    {
     "name": "stdout",
     "output_type": "stream",
     "text": [
      "X_train: (1280, 4106, 32)\n",
      "y_train: (1280, 48)\n",
      "X_val: (320, 4106, 32)\n",
      "y_val: (320, 48)\n",
      "X_test: (400, 4106, 32)\n",
      "y_test: (400, 48)\n",
      "training data shape: (1280, 4106, 32)\n",
      "model input shape: (4106, 32)\n"
     ]
    }
   ],
   "execution_count": 197
  },
  {
   "metadata": {
    "ExecuteTime": {
     "end_time": "2024-06-07T14:04:17.792272Z",
     "start_time": "2024-06-07T14:04:17.715419Z"
    }
   },
   "cell_type": "code",
   "source": [
    "model = Sequential(layers=[\n",
    "    Input(shape=X_test.shape[1:]),\n",
    "    SimpleRNN(64, return_sequences=True),\n",
    "    Dropout(0.2),\n",
    "    SimpleRNN(64, return_sequences=True),\n",
    "    Dropout(0.2),\n",
    "    SimpleRNN(64, return_sequences=False),\n",
    "    Dense(no_classes, activation='softmax'),\n",
    "])\n",
    "\n",
    "# early stop callback, validation loss\n",
    "early_stop = EarlyStopping(monitor='val_loss', patience=5, verbose=1, mode='auto')\n",
    "\n",
    "model.compile(optimizer='adam', loss='categorical_crossentropy', metrics=['accuracy'])\n",
    "\n",
    "model.summary()"
   ],
   "id": "88eb5268010f9d03",
   "outputs": [
    {
     "data": {
      "text/plain": [
       "\u001B[1mModel: \"sequential_37\"\u001B[0m\n"
      ],
      "text/html": [
       "<pre style=\"white-space:pre;overflow-x:auto;line-height:normal;font-family:Menlo,'DejaVu Sans Mono',consolas,'Courier New',monospace\"><span style=\"font-weight: bold\">Model: \"sequential_37\"</span>\n",
       "</pre>\n"
      ]
     },
     "metadata": {},
     "output_type": "display_data"
    },
    {
     "data": {
      "text/plain": [
       "┏━━━━━━━━━━━━━━━━━━━━━━━━━━━━━━━━━┳━━━━━━━━━━━━━━━━━━━━━━━━┳━━━━━━━━━━━━━━━┓\n",
       "┃\u001B[1m \u001B[0m\u001B[1mLayer (type)                   \u001B[0m\u001B[1m \u001B[0m┃\u001B[1m \u001B[0m\u001B[1mOutput Shape          \u001B[0m\u001B[1m \u001B[0m┃\u001B[1m \u001B[0m\u001B[1m      Param #\u001B[0m\u001B[1m \u001B[0m┃\n",
       "┡━━━━━━━━━━━━━━━━━━━━━━━━━━━━━━━━━╇━━━━━━━━━━━━━━━━━━━━━━━━╇━━━━━━━━━━━━━━━┩\n",
       "│ simple_rnn_112 (\u001B[38;5;33mSimpleRNN\u001B[0m)      │ (\u001B[38;5;45mNone\u001B[0m, \u001B[38;5;34m4106\u001B[0m, \u001B[38;5;34m64\u001B[0m)       │         \u001B[38;5;34m6,208\u001B[0m │\n",
       "├─────────────────────────────────┼────────────────────────┼───────────────┤\n",
       "│ dropout_8 (\u001B[38;5;33mDropout\u001B[0m)             │ (\u001B[38;5;45mNone\u001B[0m, \u001B[38;5;34m4106\u001B[0m, \u001B[38;5;34m64\u001B[0m)       │             \u001B[38;5;34m0\u001B[0m │\n",
       "├─────────────────────────────────┼────────────────────────┼───────────────┤\n",
       "│ simple_rnn_113 (\u001B[38;5;33mSimpleRNN\u001B[0m)      │ (\u001B[38;5;45mNone\u001B[0m, \u001B[38;5;34m4106\u001B[0m, \u001B[38;5;34m64\u001B[0m)       │         \u001B[38;5;34m8,256\u001B[0m │\n",
       "├─────────────────────────────────┼────────────────────────┼───────────────┤\n",
       "│ dropout_9 (\u001B[38;5;33mDropout\u001B[0m)             │ (\u001B[38;5;45mNone\u001B[0m, \u001B[38;5;34m4106\u001B[0m, \u001B[38;5;34m64\u001B[0m)       │             \u001B[38;5;34m0\u001B[0m │\n",
       "├─────────────────────────────────┼────────────────────────┼───────────────┤\n",
       "│ simple_rnn_114 (\u001B[38;5;33mSimpleRNN\u001B[0m)      │ (\u001B[38;5;45mNone\u001B[0m, \u001B[38;5;34m64\u001B[0m)             │         \u001B[38;5;34m8,256\u001B[0m │\n",
       "├─────────────────────────────────┼────────────────────────┼───────────────┤\n",
       "│ dense_37 (\u001B[38;5;33mDense\u001B[0m)                │ (\u001B[38;5;45mNone\u001B[0m, \u001B[38;5;34m48\u001B[0m)             │         \u001B[38;5;34m3,120\u001B[0m │\n",
       "└─────────────────────────────────┴────────────────────────┴───────────────┘\n"
      ],
      "text/html": [
       "<pre style=\"white-space:pre;overflow-x:auto;line-height:normal;font-family:Menlo,'DejaVu Sans Mono',consolas,'Courier New',monospace\">┏━━━━━━━━━━━━━━━━━━━━━━━━━━━━━━━━━┳━━━━━━━━━━━━━━━━━━━━━━━━┳━━━━━━━━━━━━━━━┓\n",
       "┃<span style=\"font-weight: bold\"> Layer (type)                    </span>┃<span style=\"font-weight: bold\"> Output Shape           </span>┃<span style=\"font-weight: bold\">       Param # </span>┃\n",
       "┡━━━━━━━━━━━━━━━━━━━━━━━━━━━━━━━━━╇━━━━━━━━━━━━━━━━━━━━━━━━╇━━━━━━━━━━━━━━━┩\n",
       "│ simple_rnn_112 (<span style=\"color: #0087ff; text-decoration-color: #0087ff\">SimpleRNN</span>)      │ (<span style=\"color: #00d7ff; text-decoration-color: #00d7ff\">None</span>, <span style=\"color: #00af00; text-decoration-color: #00af00\">4106</span>, <span style=\"color: #00af00; text-decoration-color: #00af00\">64</span>)       │         <span style=\"color: #00af00; text-decoration-color: #00af00\">6,208</span> │\n",
       "├─────────────────────────────────┼────────────────────────┼───────────────┤\n",
       "│ dropout_8 (<span style=\"color: #0087ff; text-decoration-color: #0087ff\">Dropout</span>)             │ (<span style=\"color: #00d7ff; text-decoration-color: #00d7ff\">None</span>, <span style=\"color: #00af00; text-decoration-color: #00af00\">4106</span>, <span style=\"color: #00af00; text-decoration-color: #00af00\">64</span>)       │             <span style=\"color: #00af00; text-decoration-color: #00af00\">0</span> │\n",
       "├─────────────────────────────────┼────────────────────────┼───────────────┤\n",
       "│ simple_rnn_113 (<span style=\"color: #0087ff; text-decoration-color: #0087ff\">SimpleRNN</span>)      │ (<span style=\"color: #00d7ff; text-decoration-color: #00d7ff\">None</span>, <span style=\"color: #00af00; text-decoration-color: #00af00\">4106</span>, <span style=\"color: #00af00; text-decoration-color: #00af00\">64</span>)       │         <span style=\"color: #00af00; text-decoration-color: #00af00\">8,256</span> │\n",
       "├─────────────────────────────────┼────────────────────────┼───────────────┤\n",
       "│ dropout_9 (<span style=\"color: #0087ff; text-decoration-color: #0087ff\">Dropout</span>)             │ (<span style=\"color: #00d7ff; text-decoration-color: #00d7ff\">None</span>, <span style=\"color: #00af00; text-decoration-color: #00af00\">4106</span>, <span style=\"color: #00af00; text-decoration-color: #00af00\">64</span>)       │             <span style=\"color: #00af00; text-decoration-color: #00af00\">0</span> │\n",
       "├─────────────────────────────────┼────────────────────────┼───────────────┤\n",
       "│ simple_rnn_114 (<span style=\"color: #0087ff; text-decoration-color: #0087ff\">SimpleRNN</span>)      │ (<span style=\"color: #00d7ff; text-decoration-color: #00d7ff\">None</span>, <span style=\"color: #00af00; text-decoration-color: #00af00\">64</span>)             │         <span style=\"color: #00af00; text-decoration-color: #00af00\">8,256</span> │\n",
       "├─────────────────────────────────┼────────────────────────┼───────────────┤\n",
       "│ dense_37 (<span style=\"color: #0087ff; text-decoration-color: #0087ff\">Dense</span>)                │ (<span style=\"color: #00d7ff; text-decoration-color: #00d7ff\">None</span>, <span style=\"color: #00af00; text-decoration-color: #00af00\">48</span>)             │         <span style=\"color: #00af00; text-decoration-color: #00af00\">3,120</span> │\n",
       "└─────────────────────────────────┴────────────────────────┴───────────────┘\n",
       "</pre>\n"
      ]
     },
     "metadata": {},
     "output_type": "display_data"
    },
    {
     "data": {
      "text/plain": [
       "\u001B[1m Total params: \u001B[0m\u001B[38;5;34m25,840\u001B[0m (100.94 KB)\n"
      ],
      "text/html": [
       "<pre style=\"white-space:pre;overflow-x:auto;line-height:normal;font-family:Menlo,'DejaVu Sans Mono',consolas,'Courier New',monospace\"><span style=\"font-weight: bold\"> Total params: </span><span style=\"color: #00af00; text-decoration-color: #00af00\">25,840</span> (100.94 KB)\n",
       "</pre>\n"
      ]
     },
     "metadata": {},
     "output_type": "display_data"
    },
    {
     "data": {
      "text/plain": [
       "\u001B[1m Trainable params: \u001B[0m\u001B[38;5;34m25,840\u001B[0m (100.94 KB)\n"
      ],
      "text/html": [
       "<pre style=\"white-space:pre;overflow-x:auto;line-height:normal;font-family:Menlo,'DejaVu Sans Mono',consolas,'Courier New',monospace\"><span style=\"font-weight: bold\"> Trainable params: </span><span style=\"color: #00af00; text-decoration-color: #00af00\">25,840</span> (100.94 KB)\n",
       "</pre>\n"
      ]
     },
     "metadata": {},
     "output_type": "display_data"
    },
    {
     "data": {
      "text/plain": [
       "\u001B[1m Non-trainable params: \u001B[0m\u001B[38;5;34m0\u001B[0m (0.00 B)\n"
      ],
      "text/html": [
       "<pre style=\"white-space:pre;overflow-x:auto;line-height:normal;font-family:Menlo,'DejaVu Sans Mono',consolas,'Courier New',monospace\"><span style=\"font-weight: bold\"> Non-trainable params: </span><span style=\"color: #00af00; text-decoration-color: #00af00\">0</span> (0.00 B)\n",
       "</pre>\n"
      ]
     },
     "metadata": {},
     "output_type": "display_data"
    }
   ],
   "execution_count": 208
  },
  {
   "metadata": {
    "ExecuteTime": {
     "end_time": "2024-06-07T14:09:42.519545Z",
     "start_time": "2024-06-07T14:04:24.917045Z"
    }
   },
   "cell_type": "code",
   "source": "history = model.fit(X_train, y_train, epochs=10, batch_size=32, validation_data=(X_val, y_val), callbacks=[early_stop])",
   "id": "a0cc9ac98254e149",
   "outputs": [
    {
     "name": "stdout",
     "output_type": "stream",
     "text": [
      "Epoch 1/10\n",
      "\u001B[1m40/40\u001B[0m \u001B[32m━━━━━━━━━━━━━━━━━━━━\u001B[0m\u001B[37m\u001B[0m \u001B[1m38s\u001B[0m 798ms/step - accuracy: 0.1576 - loss: 3.5185 - val_accuracy: 0.3625 - val_loss: 2.5142\n",
      "Epoch 2/10\n",
      "\u001B[1m40/40\u001B[0m \u001B[32m━━━━━━━━━━━━━━━━━━━━\u001B[0m\u001B[37m\u001B[0m \u001B[1m31s\u001B[0m 767ms/step - accuracy: 0.4022 - loss: 2.3382 - val_accuracy: 0.3500 - val_loss: 2.3842\n",
      "Epoch 3/10\n",
      "\u001B[1m40/40\u001B[0m \u001B[32m━━━━━━━━━━━━━━━━━━━━\u001B[0m\u001B[37m\u001B[0m \u001B[1m31s\u001B[0m 772ms/step - accuracy: 0.3866 - loss: 2.2927 - val_accuracy: 0.3625 - val_loss: 2.3653\n",
      "Epoch 4/10\n",
      "\u001B[1m40/40\u001B[0m \u001B[32m━━━━━━━━━━━━━━━━━━━━\u001B[0m\u001B[37m\u001B[0m \u001B[1m31s\u001B[0m 772ms/step - accuracy: 0.3978 - loss: 2.1907 - val_accuracy: 0.3625 - val_loss: 2.3583\n",
      "Epoch 5/10\n",
      "\u001B[1m40/40\u001B[0m \u001B[32m━━━━━━━━━━━━━━━━━━━━\u001B[0m\u001B[37m\u001B[0m \u001B[1m31s\u001B[0m 772ms/step - accuracy: 0.4136 - loss: 2.1647 - val_accuracy: 0.3625 - val_loss: 2.3564\n",
      "Epoch 6/10\n",
      "\u001B[1m40/40\u001B[0m \u001B[32m━━━━━━━━━━━━━━━━━━━━\u001B[0m\u001B[37m\u001B[0m \u001B[1m31s\u001B[0m 773ms/step - accuracy: 0.4169 - loss: 2.1112 - val_accuracy: 0.3625 - val_loss: 2.3455\n",
      "Epoch 7/10\n",
      "\u001B[1m40/40\u001B[0m \u001B[32m━━━━━━━━━━━━━━━━━━━━\u001B[0m\u001B[37m\u001B[0m \u001B[1m31s\u001B[0m 778ms/step - accuracy: 0.4016 - loss: 2.1616 - val_accuracy: 0.3625 - val_loss: 2.3524\n",
      "Epoch 8/10\n",
      "\u001B[1m40/40\u001B[0m \u001B[32m━━━━━━━━━━━━━━━━━━━━\u001B[0m\u001B[37m\u001B[0m \u001B[1m31s\u001B[0m 778ms/step - accuracy: 0.4291 - loss: 2.1273 - val_accuracy: 0.3500 - val_loss: 2.3694\n",
      "Epoch 9/10\n",
      "\u001B[1m40/40\u001B[0m \u001B[32m━━━━━━━━━━━━━━━━━━━━\u001B[0m\u001B[37m\u001B[0m \u001B[1m31s\u001B[0m 779ms/step - accuracy: 0.3965 - loss: 2.1957 - val_accuracy: 0.3625 - val_loss: 2.3572\n",
      "Epoch 10/10\n",
      "\u001B[1m40/40\u001B[0m \u001B[32m━━━━━━━━━━━━━━━━━━━━\u001B[0m\u001B[37m\u001B[0m \u001B[1m31s\u001B[0m 780ms/step - accuracy: 0.3842 - loss: 2.1906 - val_accuracy: 0.3625 - val_loss: 2.3530\n"
     ]
    }
   ],
   "execution_count": 209
  },
  {
   "metadata": {
    "ExecuteTime": {
     "end_time": "2024-06-07T14:00:43.091854Z",
     "start_time": "2024-06-07T14:00:42.933676Z"
    }
   },
   "cell_type": "code",
   "source": [
    "def plot_result(item):\n",
    "    plt.plot(history.history[item], label=item)\n",
    "    plt.plot(history.history[\"val_\" + item], label=\"val_\" + item)\n",
    "    plt.xlabel(\"Epochs\")\n",
    "    plt.ylabel(item)\n",
    "    plt.title(\"Train and Validation {} Over Epochs\".format(item), fontsize=14)\n",
    "    plt.legend()\n",
    "    plt.grid()\n",
    "    plt.show()\n",
    "\n",
    "\n",
    "plot_result(\"loss\")\n",
    "plot_result(\"categorical_crossentropy\")\n"
   ],
   "id": "58caaa311bde2732",
   "outputs": [
    {
     "data": {
      "text/plain": [
       "<Figure size 640x480 with 1 Axes>"
      ],
      "image/png": "[encoded data removed]"
     },
     "metadata": {},
     "output_type": "display_data"
    },
    {
     "ename": "KeyError",
     "evalue": "'categorical_crossentropy'",
     "output_type": "error",
     "traceback": [
      "\u001B[0;31m---------------------------------------------------------------------------\u001B[0m",
      "\u001B[0;31mKeyError\u001B[0m                                  Traceback (most recent call last)",
      "Cell \u001B[0;32mIn[201], line 13\u001B[0m\n\u001B[1;32m      9\u001B[0m     plt\u001B[38;5;241m.\u001B[39mshow()\n\u001B[1;32m     12\u001B[0m plot_result(\u001B[38;5;124m\"\u001B[39m\u001B[38;5;124mloss\u001B[39m\u001B[38;5;124m\"\u001B[39m)\n\u001B[0;32m---> 13\u001B[0m \u001B[43mplot_result\u001B[49m\u001B[43m(\u001B[49m\u001B[38;5;124;43m\"\u001B[39;49m\u001B[38;5;124;43mcategorical_crossentropy\u001B[39;49m\u001B[38;5;124;43m\"\u001B[39;49m\u001B[43m)\u001B[49m\n",
      "Cell \u001B[0;32mIn[201], line 2\u001B[0m, in \u001B[0;36mplot_result\u001B[0;34m(item)\u001B[0m\n\u001B[1;32m      1\u001B[0m \u001B[38;5;28;01mdef\u001B[39;00m \u001B[38;5;21mplot_result\u001B[39m(item):\n\u001B[0;32m----> 2\u001B[0m     plt\u001B[38;5;241m.\u001B[39mplot(\u001B[43mhistory\u001B[49m\u001B[38;5;241;43m.\u001B[39;49m\u001B[43mhistory\u001B[49m\u001B[43m[\u001B[49m\u001B[43mitem\u001B[49m\u001B[43m]\u001B[49m, label\u001B[38;5;241m=\u001B[39mitem)\n\u001B[1;32m      3\u001B[0m     plt\u001B[38;5;241m.\u001B[39mplot(history\u001B[38;5;241m.\u001B[39mhistory[\u001B[38;5;124m\"\u001B[39m\u001B[38;5;124mval_\u001B[39m\u001B[38;5;124m\"\u001B[39m \u001B[38;5;241m+\u001B[39m item], label\u001B[38;5;241m=\u001B[39m\u001B[38;5;124m\"\u001B[39m\u001B[38;5;124mval_\u001B[39m\u001B[38;5;124m\"\u001B[39m \u001B[38;5;241m+\u001B[39m item)\n\u001B[1;32m      4\u001B[0m     plt\u001B[38;5;241m.\u001B[39mxlabel(\u001B[38;5;124m\"\u001B[39m\u001B[38;5;124mEpochs\u001B[39m\u001B[38;5;124m\"\u001B[39m)\n",
      "\u001B[0;31mKeyError\u001B[0m: 'categorical_crossentropy'"
     ]
    }
   ],
   "execution_count": 201
  },
  {
   "metadata": {
    "ExecuteTime": {
     "end_time": "2024-06-07T14:01:10.648261Z",
     "start_time": "2024-06-07T14:01:05.932364Z"
    }
   },
   "cell_type": "code",
   "source": [
    "# predict on test data and evaluate\n",
    "y_pred = model.predict(X_test)\n",
    "y_pred = np.argmax(y_pred, axis=1)\n",
    "y_test = np.argmax(np.array(y_test), axis=1)\n",
    "\n",
    "print(classification_report(y_test, y_pred))\n"
   ],
   "id": "8b758fa07ada2d8f",
   "outputs": [
    {
     "name": "stdout",
     "output_type": "stream",
     "text": [
      "\u001B[1m13/13\u001B[0m \u001B[32m━━━━━━━━━━━━━━━━━━━━\u001B[0m\u001B[37m\u001B[0m \u001B[1m4s\u001B[0m 277ms/step\n",
      "              precision    recall  f1-score   support\n",
      "\n",
      "           3       0.00      0.00      0.00         4\n",
      "           4       0.35      1.00      0.52       142\n",
      "           5       0.00      0.00      0.00         1\n",
      "           6       0.00      0.00      0.00         1\n",
      "           7       0.00      0.00      0.00         6\n",
      "           8       0.00      0.00      0.00        13\n",
      "           9       0.00      0.00      0.00         1\n",
      "          13       0.00      0.00      0.00        16\n",
      "          14       0.00      0.00      0.00        23\n",
      "          15       0.00      0.00      0.00         3\n",
      "          17       0.00      0.00      0.00         5\n",
      "          18       0.00      0.00      0.00         1\n",
      "          19       0.00      0.00      0.00        18\n",
      "          20       0.00      0.00      0.00        10\n",
      "          22       0.00      0.00      0.00         5\n",
      "          24       0.00      0.00      0.00        12\n",
      "          25       0.00      0.00      0.00         1\n",
      "          29       0.00      0.00      0.00         1\n",
      "          31       0.00      0.00      0.00         1\n",
      "          32       0.00      0.00      0.00         1\n",
      "          33       0.00      0.00      0.00         2\n",
      "          36       0.00      0.00      0.00        19\n",
      "          37       0.00      0.00      0.00        65\n",
      "          38       0.00      0.00      0.00         3\n",
      "          39       0.00      0.00      0.00         6\n",
      "          42       0.00      0.00      0.00         9\n",
      "          43       0.00      0.00      0.00         2\n",
      "          45       0.00      0.00      0.00        29\n",
      "\n",
      "    accuracy                           0.35       400\n",
      "   macro avg       0.01      0.04      0.02       400\n",
      "weighted avg       0.13      0.35      0.19       400\n",
      "\n"
     ]
    },
    {
     "name": "stderr",
     "output_type": "stream",
     "text": [
      "/home/jrosendahl/.virtualenvs/models/lib/python3.12/site-packages/sklearn/metrics/_classification.py:1517: UndefinedMetricWarning: Precision is ill-defined and being set to 0.0 in labels with no predicted samples. Use `zero_division` parameter to control this behavior.\n",
      "  _warn_prf(average, modifier, f\"{metric.capitalize()} is\", len(result))\n",
      "/home/jrosendahl/.virtualenvs/models/lib/python3.12/site-packages/sklearn/metrics/_classification.py:1517: UndefinedMetricWarning: Precision is ill-defined and being set to 0.0 in labels with no predicted samples. Use `zero_division` parameter to control this behavior.\n",
      "  _warn_prf(average, modifier, f\"{metric.capitalize()} is\", len(result))\n",
      "/home/jrosendahl/.virtualenvs/models/lib/python3.12/site-packages/sklearn/metrics/_classification.py:1517: UndefinedMetricWarning: Precision is ill-defined and being set to 0.0 in labels with no predicted samples. Use `zero_division` parameter to control this behavior.\n",
      "  _warn_prf(average, modifier, f\"{metric.capitalize()} is\", len(result))\n"
     ]
    }
   ],
   "execution_count": 202
  }
 ],
 "metadata": {
  "kernelspec": {
   "display_name": "Python 3",
   "language": "python",
   "name": "python3"
  },
  "language_info": {
   "codemirror_mode": {
    "name": "ipython",
    "version": 2
   },
   "file_extension": ".py",
   "mimetype": "text/x-python",
   "name": "python",
   "nbconvert_exporter": "python",
   "pygments_lexer": "ipython2",
   "version": "2.7.6"
  }
 },
 "nbformat": 4,
 "nbformat_minor": 5
}
