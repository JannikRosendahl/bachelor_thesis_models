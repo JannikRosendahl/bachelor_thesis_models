{
 "cells": [
  {
   "cell_type": "code",
   "execution_count": 1,
   "metadata": {},
   "outputs": [
    {
     "name": "stderr",
     "output_type": "stream",
     "text": [
      "2024-06-25 10:20:08.704647: W tensorflow/compiler/tf2tensorrt/utils/py_utils.cc:38] TF-TRT Warning: Could not find TensorRT\n"
     ]
    }
   ],
   "source": [
    "import os\n",
    "import random\n",
    "import numpy as np\n",
    "import pandas as pd\n",
    "import matplotlib.pyplot as plt\n",
    "\n",
    "\n",
    "# force GPU device\n",
    "os.environ[\"CUDA_VISIBLE_DEVICES\"]='0'\n",
    "os.environ['TF_CPP_MIN_LOG_LEVEL'] = '1'\n",
    "import tensorflow as tf\n",
    "\n",
    "from keras.src.callbacks import EarlyStopping, ModelCheckpoint, ReduceLROnPlateau, CSVLogger\n",
    "from keras.src.layers import SimpleRNN, LSTM, Dense, Dropout\n",
    "from keras.optimizers import Adam\n",
    "from keras.models import load_model\n",
    "from keras import Sequential, Input\n",
    "\n",
    "from sklearn.metrics import classification_report"
   ]
  },
  {
   "cell_type": "code",
   "execution_count": 2,
   "metadata": {},
   "outputs": [],
   "source": [
    "checkpoint_path = 'saves/rnn/200'\n",
    "model_path = f'{checkpoint_path}/model.keras'\n",
    "log_path = f'{checkpoint_path}/log.csv'\n",
    "history_path = f'{checkpoint_path}/history.npy'\n",
    "\n",
    "# ensure directory exists\n",
    "if not os.path.exists(checkpoint_path):\n",
    "    os.makedirs(checkpoint_path)"
   ]
  },
  {
   "cell_type": "markdown",
   "metadata": {},
   "source": [
    "load data from csv"
   ]
  },
  {
   "cell_type": "code",
   "execution_count": 3,
   "metadata": {},
   "outputs": [],
   "source": [
    "max_sequence_length = 200"
   ]
  },
  {
   "cell_type": "code",
   "execution_count": 4,
   "metadata": {},
   "outputs": [
    {
     "name": "stdout",
     "output_type": "stream",
     "text": [
      "Loaded 50000 sequences\n",
      "Loaded 100000 sequences\n",
      "Loaded 150000 sequences\n",
      "Loaded 200000 sequences\n",
      "Loaded 250000 sequences\n",
      "Loaded 300000 sequences\n",
      "Loaded 350000 sequences\n",
      "Loaded 400000 sequences\n",
      "Loaded 581527 sequences\n",
      "Found 31324 sequences longer than max_sequence_length (200)\n",
      "Split them into 181988 sequences\n",
      "Filtered out datapoints with less than 10 occurrences\n",
      "Left with 581527 datapoints\n"
     ]
    }
   ],
   "source": [
    "data_directory = '/home/jrosendahl/datasets/cadets/sequences/'\n",
    "\n",
    "data = []\n",
    "\n",
    "labels = None\n",
    "no_labels = None\n",
    "\n",
    "distinct_features = [\n",
    "'EVENT_ACCEPT', 'EVENT_BIND', 'EVENT_CHANGE_PRINCIPAL', 'EVENT_CLOSE', 'EVENT_CONNECT', 'EVENT_CREATE_OBJECT', 'EVENT_EXECUTE', 'EVENT_EXIT', 'EVENT_FCNTL', 'EVENT_FORK', 'EVENT_LINK', 'EVENT_LOGIN', 'EVENT_LSEEK', 'EVENT_MMAP', 'EVENT_MODIFY_FILE_ATTRIBUTES', 'EVENT_MODIFY_PROCESS', 'EVENT_MPROTECT', 'EVENT_OPEN', 'EVENT_OTHER', 'EVENT_READ', 'EVENT_RECVFROM', 'EVENT_RECVMSG', 'EVENT_RENAME', 'EVENT_SENDMSG', 'EVENT_SENDTO', 'EVENT_SIGNAL', 'EVENT_TRUNCATE', 'EVENT_UNLINK', 'EVENT_WRITE', \n",
    "]\n",
    "distinct_features = [ x[6:] for x in distinct_features ]\n",
    "no_features = len(distinct_features)\n",
    "\n",
    "count = 0\n",
    "count_long_sequences_splitted = 0\n",
    "count_long_sequences_splitted_result = 0\n",
    "for file_name in os.listdir(data_directory):\n",
    "    count += 1\n",
    "    if count % 50000 == 0:\n",
    "        print(f'Loaded {count} sequences')\n",
    "    with open(data_directory + file_name, 'r') as f:\n",
    "        label = file_name.split('_')[0]\n",
    "        # build dictionary with counts of events\n",
    "        lines = f.readlines()\n",
    "        # if sequence is longer than max_sequence_length, split into multiple sequences\n",
    "        if len(lines) > max_sequence_length:\n",
    "            count_long_sequences_splitted += 1\n",
    "            for i in range(0, len(lines), max_sequence_length):\n",
    "                count_long_sequences_splitted_result += 1\n",
    "                datapoints = []\n",
    "                for event in lines[i:i+max_sequence_length]:\n",
    "                    event = event.strip()\n",
    "                    datapoints.append(distinct_features.index(event))\n",
    "                data.append((label, datapoints))\n",
    "        else:\n",
    "            datapoints = []\n",
    "            for event in lines:\n",
    "                event = event.strip()\n",
    "                datapoints.append(distinct_features.index(event))\n",
    "            data.append((label, datapoints))\n",
    "\n",
    "        \"\"\"\n",
    "        datapoints = []\n",
    "        for event in f:\n",
    "            event = event.strip()\n",
    "            datapoints.append(distinct_features.index(event))\n",
    "        if not len(datapoints) > max_sequence_length:\n",
    "            data.append((label, datapoints))\n",
    "        \"\"\"\n",
    "\n",
    "print(f'Loaded {len(data)} sequences')\n",
    "print(f'Found {count_long_sequences_splitted} sequences longer than max_sequence_length ({max_sequence_length})')\n",
    "print(f'Split them into {count_long_sequences_splitted_result} sequences')\n",
    "\n",
    "print(f'Filtered out datapoints with less than 10 occurrences')\n",
    "print(f'Left with {len(data)} datapoints')\n",
    "\n",
    "random.shuffle(data)\n",
    "labels = [ x[0] for x in data ]\n",
    "data = [ x[1] for x in data ]"
   ]
  },
  {
   "cell_type": "code",
   "execution_count": 6,
   "metadata": {},
   "outputs": [
    {
     "name": "stdout",
     "output_type": "stream",
     "text": [
      "Found 135 distinct labels\n",
      "Found 29 distinct features\n",
      "Encoded labels to integers\n",
      "Encoded labels to one-hot\n",
      "Encoded sequences to one-hot\n"
     ]
    }
   ],
   "source": [
    "distinct_labels = np.unique(np.array(labels))\n",
    "no_labels = len(distinct_labels)\n",
    "print(f'Found {no_labels} distinct labels')\n",
    "\n",
    "# get distinct features\n",
    "print(f'Found {no_features} distinct features')\n",
    "\n",
    "# encode labels from strings to integers to one-hot\n",
    "# labels = np.eye(no_labels)[np.vectorize(distinct_labels.tolist().index)(labels)]\n",
    "# encode labels to integers\n",
    "labels = np.vectorize(distinct_labels.tolist().index)(labels)\n",
    "print(f'Encoded labels to integers')\n",
    "# encode labels to one-hot\n",
    "labels = np.eye(no_labels)[labels]\n",
    "print(f'Encoded labels to one-hot')\n",
    "\n",
    "# encode sequences from list of integers to list of one-hot\n",
    "data = [ np.eye(no_features)[x] for x in data ]\n",
    "print(f'Encoded sequences to one-hot')\n",
    "\n",
    "# get pad event to pad sequences with when batches are built\n",
    "pad_event = np.zeros(no_features)"
   ]
  },
  {
   "cell_type": "code",
   "execution_count": 7,
   "metadata": {},
   "outputs": [
    {
     "name": "stdout",
     "output_type": "stream",
     "text": [
      "data length: 581527\n",
      "labels shape: (581527, 135)\n"
     ]
    }
   ],
   "source": [
    "print(f'data length: {len(data)}')\n",
    "print(f'labels shape: {labels.shape}')"
   ]
  },
  {
   "cell_type": "markdown",
   "metadata": {},
   "source": [
    "prepare data + generator"
   ]
  },
  {
   "cell_type": "code",
   "execution_count": 8,
   "metadata": {},
   "outputs": [
    {
     "name": "stdout",
     "output_type": "stream",
     "text": [
      "Training on 465221 samples\n",
      "Validating on 116306 samples\n"
     ]
    }
   ],
   "source": [
    "# split data into training and validation\n",
    "split = int(len(data) * 0.8)\n",
    "\n",
    "X_train = data[:split]\n",
    "y_train = np.array(labels[:split])\n",
    "\n",
    "X_val = data[split:]\n",
    "y_val = np.array(labels[split:])\n",
    "\n",
    "print(f'Training on {len(X_train)} samples')\n",
    "print(f'Validating on {len(X_val)} samples')"
   ]
  },
  {
   "cell_type": "code",
   "execution_count": 9,
   "metadata": {},
   "outputs": [],
   "source": [
    "class Generator(tf.keras.utils.Sequence):\n",
    "    def __init__(self, X, y, batch_size, fixed_length, **kwargs):\n",
    "        # valid **kwargs: workers, use_multiprocessing, max_queue_size\n",
    "        super().__init__()\n",
    "        self.X = X\n",
    "        self.y = y\n",
    "        self.batch_size = batch_size\n",
    "        self.fixed_length = fixed_length\n",
    "        self.no_samples = len(X)\n",
    "        self.no_batches = int(np.ceil(self.no_samples / self.batch_size))\n",
    "\n",
    "    def __len__(self):\n",
    "        return self.no_batches\n",
    "\n",
    "    def __getitem__(self, index):\n",
    "        start = index * self.batch_size\n",
    "        end = min(start + self.batch_size, self.no_samples)\n",
    "\n",
    "        # Get the batch data\n",
    "        X_batch = self.X[start:end]\n",
    "        y_batch = self.y[start:end]\n",
    "\n",
    "        # Pad or truncate each sequence in X_batch to the fixed length\n",
    "        X_batch_fixed = [self._pad_or_truncate(x, self.fixed_length) for x in X_batch]\n",
    "\n",
    "        # Convert to numpy arrays\n",
    "        X_batch_fixed = np.array(X_batch_fixed)\n",
    "        y_batch = np.array(y_batch)\n",
    "\n",
    "        return X_batch_fixed, y_batch\n",
    "\n",
    "    def _pad_or_truncate(self, sequence, length):\n",
    "        if len(sequence) < length:\n",
    "            # Pad sequence with zeros to the fixed length\n",
    "            return np.pad(sequence, ((0, length - len(sequence)), (0, 0)), mode='constant', constant_values=0)\n",
    "        else:\n",
    "            # Truncate sequence to the fixed length\n",
    "            return sequence[:length]\n",
    "\n",
    "    def on_epoch_end(self):\n",
    "        pass"
   ]
  },
  {
   "cell_type": "markdown",
   "metadata": {},
   "source": [
    "build model"
   ]
  },
  {
   "cell_type": "code",
   "execution_count": 20,
   "metadata": {},
   "outputs": [
    {
     "name": "stderr",
     "output_type": "stream",
     "text": [
      "2024-06-24 15:25:07.212284: I tensorflow/core/common_runtime/gpu/gpu_device.cc:1928] Created device /job:localhost/replica:0/task:0/device:GPU:0 with 9798 MB memory:  -> device: 0, name: NVIDIA GeForce RTX 2080 Ti, pci bus id: 0000:17:00.0, compute capability: 7.5\n"
     ]
    },
    {
     "data": {
      "text/html": [
       "<pre style=\"white-space:pre;overflow-x:auto;line-height:normal;font-family:Menlo,'DejaVu Sans Mono',consolas,'Courier New',monospace\"><span style=\"font-weight: bold\">Model: \"sequential\"</span>\n",
       "</pre>\n"
      ],
      "text/plain": [
       "\u001b[1mModel: \"sequential\"\u001b[0m\n"
      ]
     },
     "metadata": {},
     "output_type": "display_data"
    },
    {
     "data": {
      "text/html": [
       "<pre style=\"white-space:pre;overflow-x:auto;line-height:normal;font-family:Menlo,'DejaVu Sans Mono',consolas,'Courier New',monospace\">┏━━━━━━━━━━━━━━━━━━━━━━━━━━━━━━━━━┳━━━━━━━━━━━━━━━━━━━━━━━━┳━━━━━━━━━━━━━━━┓\n",
       "┃<span style=\"font-weight: bold\"> Layer (type)                    </span>┃<span style=\"font-weight: bold\"> Output Shape           </span>┃<span style=\"font-weight: bold\">       Param # </span>┃\n",
       "┡━━━━━━━━━━━━━━━━━━━━━━━━━━━━━━━━━╇━━━━━━━━━━━━━━━━━━━━━━━━╇━━━━━━━━━━━━━━━┩\n",
       "│ simple_rnn (<span style=\"color: #0087ff; text-decoration-color: #0087ff\">SimpleRNN</span>)          │ (<span style=\"color: #00d7ff; text-decoration-color: #00d7ff\">None</span>, <span style=\"color: #00d7ff; text-decoration-color: #00d7ff\">None</span>, <span style=\"color: #00af00; text-decoration-color: #00af00\">64</span>)       │         <span style=\"color: #00af00; text-decoration-color: #00af00\">6,016</span> │\n",
       "├─────────────────────────────────┼────────────────────────┼───────────────┤\n",
       "│ simple_rnn_1 (<span style=\"color: #0087ff; text-decoration-color: #0087ff\">SimpleRNN</span>)        │ (<span style=\"color: #00d7ff; text-decoration-color: #00d7ff\">None</span>, <span style=\"color: #00d7ff; text-decoration-color: #00d7ff\">None</span>, <span style=\"color: #00af00; text-decoration-color: #00af00\">64</span>)       │         <span style=\"color: #00af00; text-decoration-color: #00af00\">8,256</span> │\n",
       "├─────────────────────────────────┼────────────────────────┼───────────────┤\n",
       "│ simple_rnn_2 (<span style=\"color: #0087ff; text-decoration-color: #0087ff\">SimpleRNN</span>)        │ (<span style=\"color: #00d7ff; text-decoration-color: #00d7ff\">None</span>, <span style=\"color: #00af00; text-decoration-color: #00af00\">64</span>)             │         <span style=\"color: #00af00; text-decoration-color: #00af00\">8,256</span> │\n",
       "├─────────────────────────────────┼────────────────────────┼───────────────┤\n",
       "│ dense (<span style=\"color: #0087ff; text-decoration-color: #0087ff\">Dense</span>)                   │ (<span style=\"color: #00d7ff; text-decoration-color: #00d7ff\">None</span>, <span style=\"color: #00af00; text-decoration-color: #00af00\">135</span>)            │         <span style=\"color: #00af00; text-decoration-color: #00af00\">8,775</span> │\n",
       "└─────────────────────────────────┴────────────────────────┴───────────────┘\n",
       "</pre>\n"
      ],
      "text/plain": [
       "┏━━━━━━━━━━━━━━━━━━━━━━━━━━━━━━━━━┳━━━━━━━━━━━━━━━━━━━━━━━━┳━━━━━━━━━━━━━━━┓\n",
       "┃\u001b[1m \u001b[0m\u001b[1mLayer (type)                   \u001b[0m\u001b[1m \u001b[0m┃\u001b[1m \u001b[0m\u001b[1mOutput Shape          \u001b[0m\u001b[1m \u001b[0m┃\u001b[1m \u001b[0m\u001b[1m      Param #\u001b[0m\u001b[1m \u001b[0m┃\n",
       "┡━━━━━━━━━━━━━━━━━━━━━━━━━━━━━━━━━╇━━━━━━━━━━━━━━━━━━━━━━━━╇━━━━━━━━━━━━━━━┩\n",
       "│ simple_rnn (\u001b[38;5;33mSimpleRNN\u001b[0m)          │ (\u001b[38;5;45mNone\u001b[0m, \u001b[38;5;45mNone\u001b[0m, \u001b[38;5;34m64\u001b[0m)       │         \u001b[38;5;34m6,016\u001b[0m │\n",
       "├─────────────────────────────────┼────────────────────────┼───────────────┤\n",
       "│ simple_rnn_1 (\u001b[38;5;33mSimpleRNN\u001b[0m)        │ (\u001b[38;5;45mNone\u001b[0m, \u001b[38;5;45mNone\u001b[0m, \u001b[38;5;34m64\u001b[0m)       │         \u001b[38;5;34m8,256\u001b[0m │\n",
       "├─────────────────────────────────┼────────────────────────┼───────────────┤\n",
       "│ simple_rnn_2 (\u001b[38;5;33mSimpleRNN\u001b[0m)        │ (\u001b[38;5;45mNone\u001b[0m, \u001b[38;5;34m64\u001b[0m)             │         \u001b[38;5;34m8,256\u001b[0m │\n",
       "├─────────────────────────────────┼────────────────────────┼───────────────┤\n",
       "│ dense (\u001b[38;5;33mDense\u001b[0m)                   │ (\u001b[38;5;45mNone\u001b[0m, \u001b[38;5;34m135\u001b[0m)            │         \u001b[38;5;34m8,775\u001b[0m │\n",
       "└─────────────────────────────────┴────────────────────────┴───────────────┘\n"
      ]
     },
     "metadata": {},
     "output_type": "display_data"
    },
    {
     "data": {
      "text/html": [
       "<pre style=\"white-space:pre;overflow-x:auto;line-height:normal;font-family:Menlo,'DejaVu Sans Mono',consolas,'Courier New',monospace\"><span style=\"font-weight: bold\"> Total params: </span><span style=\"color: #00af00; text-decoration-color: #00af00\">31,303</span> (122.28 KB)\n",
       "</pre>\n"
      ],
      "text/plain": [
       "\u001b[1m Total params: \u001b[0m\u001b[38;5;34m31,303\u001b[0m (122.28 KB)\n"
      ]
     },
     "metadata": {},
     "output_type": "display_data"
    },
    {
     "data": {
      "text/html": [
       "<pre style=\"white-space:pre;overflow-x:auto;line-height:normal;font-family:Menlo,'DejaVu Sans Mono',consolas,'Courier New',monospace\"><span style=\"font-weight: bold\"> Trainable params: </span><span style=\"color: #00af00; text-decoration-color: #00af00\">31,303</span> (122.28 KB)\n",
       "</pre>\n"
      ],
      "text/plain": [
       "\u001b[1m Trainable params: \u001b[0m\u001b[38;5;34m31,303\u001b[0m (122.28 KB)\n"
      ]
     },
     "metadata": {},
     "output_type": "display_data"
    },
    {
     "data": {
      "text/html": [
       "<pre style=\"white-space:pre;overflow-x:auto;line-height:normal;font-family:Menlo,'DejaVu Sans Mono',consolas,'Courier New',monospace\"><span style=\"font-weight: bold\"> Non-trainable params: </span><span style=\"color: #00af00; text-decoration-color: #00af00\">0</span> (0.00 B)\n",
       "</pre>\n"
      ],
      "text/plain": [
       "\u001b[1m Non-trainable params: \u001b[0m\u001b[38;5;34m0\u001b[0m (0.00 B)\n"
      ]
     },
     "metadata": {},
     "output_type": "display_data"
    }
   ],
   "source": [
    "model = Sequential(layers=[\n",
    "    Input(shape=(None, no_features)),\n",
    "    SimpleRNN(64, return_sequences=True),\n",
    "    SimpleRNN(64, return_sequences=True),\n",
    "    SimpleRNN(64, return_sequences=False),\n",
    "    Dense(no_labels, activation='softmax')\n",
    "])\n",
    "\n",
    "model.summary()"
   ]
  },
  {
   "cell_type": "code",
   "execution_count": 21,
   "metadata": {},
   "outputs": [],
   "source": [
    "early_stop = EarlyStopping(\n",
    "    monitor='val_loss',\n",
    "    patience=5,\n",
    "    verbose=1,\n",
    "    mode='auto'\n",
    ")\n",
    "\n",
    "model_checkpoint = ModelCheckpoint(\n",
    "    filepath=model_path,\n",
    "    monitor='val_loss',\n",
    "    save_best_only=True,\n",
    "    verbose=1\n",
    ")\n",
    "\n",
    "lr_schedule = ReduceLROnPlateau(\n",
    "    monitor='loss', \n",
    "    factor=0.5, \n",
    "    patience=2, \n",
    "    min_lr=1e-7\n",
    ")\n",
    "\n",
    "csv_logger = CSVLogger(\n",
    "    filename=log_path,\n",
    "    append=True\n",
    ")\n",
    "\n",
    "optimizer = Adam(learning_rate=0.0001)\n",
    "\n",
    "\n",
    "# 'categorical_focal_crossentropy'\n",
    "# 'categorical_crossentropy'\n",
    "model.compile(optimizer=optimizer, loss='categorical_focal_crossentropy', metrics=['accuracy'])"
   ]
  },
  {
   "cell_type": "markdown",
   "metadata": {},
   "source": [
    "train model"
   ]
  },
  {
   "cell_type": "code",
   "execution_count": 10,
   "metadata": {},
   "outputs": [],
   "source": [
    "# load old model\n",
    "model = load_model(model_path)"
   ]
  },
  {
   "cell_type": "code",
   "execution_count": 13,
   "metadata": {},
   "outputs": [
    {
     "name": "stdout",
     "output_type": "stream",
     "text": [
      "Epoch 1/100\n"
     ]
    },
    {
     "name": "stderr",
     "output_type": "stream",
     "text": [
      "WARNING: All log messages before absl::InitializeLog() is called are written to STDERR\n",
      "I0000 00:00:1718887169.559857  697200 service.cc:145] XLA service 0x11d53f20 initialized for platform CUDA (this does not guarantee that XLA will be used). Devices:\n",
      "I0000 00:00:1718887169.559916  697200 service.cc:153]   StreamExecutor device (0): NVIDIA GeForce RTX 2080 Ti, Compute Capability 7.5\n",
      "2024-06-20 14:39:29.641166: I tensorflow/compiler/mlir/tensorflow/utils/dump_mlir_util.cc:268] disabling MLIR crash reproducer, set env var `MLIR_CRASH_REPRODUCER_DIRECTORY` to enable.\n",
      "2024-06-20 14:39:29.915109: I external/local_xla/xla/stream_executor/cuda/cuda_dnn.cc:465] Loaded cuDNN version 8902\n"
     ]
    },
    {
     "name": "stdout",
     "output_type": "stream",
     "text": [
      "\u001b[1m   2/7270\u001b[0m \u001b[37m━━━━━━━━━━━━━━━━━━━━\u001b[0m \u001b[1m6:32\u001b[0m 54ms/step - accuracy: 0.0117 - loss: 1.2188 "
     ]
    },
    {
     "name": "stderr",
     "output_type": "stream",
     "text": [
      "I0000 00:00:1718887170.983121  697200 device_compiler.h:188] Compiled cluster using XLA!  This line is logged at most once for the lifetime of the process.\n"
     ]
    },
    {
     "name": "stdout",
     "output_type": "stream",
     "text": [
      "\u001b[1m7270/7270\u001b[0m \u001b[32m━━━━━━━━━━━━━━━━━━━━\u001b[0m\u001b[37m\u001b[0m \u001b[1m0s\u001b[0m 49ms/step - accuracy: 0.7895 - loss: 0.2351\n",
      "Epoch 1: val_loss improved from inf to 0.04791, saving model to saves/rnn/200/model.keras\n",
      "\u001b[1m7270/7270\u001b[0m \u001b[32m━━━━━━━━━━━━━━━━━━━━\u001b[0m\u001b[37m\u001b[0m \u001b[1m449s\u001b[0m 61ms/step - accuracy: 0.7895 - loss: 0.2351 - val_accuracy: 0.9102 - val_loss: 0.0479 - learning_rate: 1.0000e-04\n",
      "Epoch 2/100\n",
      "\u001b[1m7270/7270\u001b[0m \u001b[32m━━━━━━━━━━━━━━━━━━━━\u001b[0m\u001b[37m\u001b[0m \u001b[1m0s\u001b[0m 49ms/step - accuracy: 0.9133 - loss: 0.0446\n",
      "Epoch 2: val_loss improved from 0.04791 to 0.03545, saving model to saves/rnn/200/model.keras\n",
      "\u001b[1m7270/7270\u001b[0m \u001b[32m━━━━━━━━━━━━━━━━━━━━\u001b[0m\u001b[37m\u001b[0m \u001b[1m440s\u001b[0m 61ms/step - accuracy: 0.9133 - loss: 0.0446 - val_accuracy: 0.9236 - val_loss: 0.0354 - learning_rate: 1.0000e-04\n",
      "Epoch 3/100\n",
      "\u001b[1m7270/7270\u001b[0m \u001b[32m━━━━━━━━━━━━━━━━━━━━\u001b[0m\u001b[37m\u001b[0m \u001b[1m0s\u001b[0m 49ms/step - accuracy: 0.9258 - loss: 0.0326\n",
      "Epoch 3: val_loss improved from 0.03545 to 0.02979, saving model to saves/rnn/200/model.keras\n",
      "\u001b[1m7270/7270\u001b[0m \u001b[32m━━━━━━━━━━━━━━━━━━━━\u001b[0m\u001b[37m\u001b[0m \u001b[1m439s\u001b[0m 60ms/step - accuracy: 0.9258 - loss: 0.0326 - val_accuracy: 0.9296 - val_loss: 0.0298 - learning_rate: 1.0000e-04\n",
      "Epoch 4/100\n",
      "\u001b[1m7269/7270\u001b[0m \u001b[32m━━━━━━━━━━━━━━━━━━━\u001b[0m\u001b[37m━\u001b[0m \u001b[1m0s\u001b[0m 49ms/step - accuracy: 0.9299 - loss: 0.0287\n",
      "Epoch 4: val_loss improved from 0.02979 to 0.02604, saving model to saves/rnn/200/model.keras\n",
      "\u001b[1m7270/7270\u001b[0m \u001b[32m━━━━━━━━━━━━━━━━━━━━\u001b[0m\u001b[37m\u001b[0m \u001b[1m438s\u001b[0m 60ms/step - accuracy: 0.9299 - loss: 0.0287 - val_accuracy: 0.9330 - val_loss: 0.0260 - learning_rate: 1.0000e-04\n",
      "Epoch 5/100\n",
      "\u001b[1m7270/7270\u001b[0m \u001b[32m━━━━━━━━━━━━━━━━━━━━\u001b[0m\u001b[37m\u001b[0m \u001b[1m0s\u001b[0m 49ms/step - accuracy: 0.9312 - loss: 0.0272\n",
      "Epoch 5: val_loss improved from 0.02604 to 0.02481, saving model to saves/rnn/200/model.keras\n",
      "\u001b[1m7270/7270\u001b[0m \u001b[32m━━━━━━━━━━━━━━━━━━━━\u001b[0m\u001b[37m\u001b[0m \u001b[1m444s\u001b[0m 61ms/step - accuracy: 0.9312 - loss: 0.0272 - val_accuracy: 0.9338 - val_loss: 0.0248 - learning_rate: 1.0000e-04\n",
      "Epoch 6/100\n",
      "\u001b[1m7269/7270\u001b[0m \u001b[32m━━━━━━━━━━━━━━━━━━━\u001b[0m\u001b[37m━\u001b[0m \u001b[1m0s\u001b[0m 49ms/step - accuracy: 0.9271 - loss: 0.0293\n",
      "Epoch 6: val_loss did not improve from 0.02481\n",
      "\u001b[1m7270/7270\u001b[0m \u001b[32m━━━━━━━━━━━━━━━━━━━━\u001b[0m\u001b[37m\u001b[0m \u001b[1m441s\u001b[0m 61ms/step - accuracy: 0.9271 - loss: 0.0293 - val_accuracy: 0.9213 - val_loss: 0.0344 - learning_rate: 1.0000e-04\n",
      "Epoch 7/100\n",
      "\u001b[1m7269/7270\u001b[0m \u001b[32m━━━━━━━━━━━━━━━━━━━\u001b[0m\u001b[37m━\u001b[0m \u001b[1m0s\u001b[0m 49ms/step - accuracy: 0.9326 - loss: 0.0254\n",
      "Epoch 7: val_loss did not improve from 0.02481\n",
      "\u001b[1m7270/7270\u001b[0m \u001b[32m━━━━━━━━━━━━━━━━━━━━\u001b[0m\u001b[37m\u001b[0m \u001b[1m443s\u001b[0m 61ms/step - accuracy: 0.9326 - loss: 0.0254 - val_accuracy: 0.9287 - val_loss: 0.0283 - learning_rate: 1.0000e-04\n",
      "Epoch 8/100\n",
      "\u001b[1m7269/7270\u001b[0m \u001b[32m━━━━━━━━━━━━━━━━━━━\u001b[0m\u001b[37m━\u001b[0m \u001b[1m0s\u001b[0m 49ms/step - accuracy: 0.9361 - loss: 0.0236\n",
      "Epoch 8: val_loss improved from 0.02481 to 0.02435, saving model to saves/rnn/200/model.keras\n",
      "\u001b[1m7270/7270\u001b[0m \u001b[32m━━━━━━━━━━━━━━━━━━━━\u001b[0m\u001b[37m\u001b[0m \u001b[1m441s\u001b[0m 61ms/step - accuracy: 0.9361 - loss: 0.0236 - val_accuracy: 0.9333 - val_loss: 0.0243 - learning_rate: 1.0000e-04\n",
      "Epoch 9/100\n",
      "\u001b[1m7270/7270\u001b[0m \u001b[32m━━━━━━━━━━━━━━━━━━━━\u001b[0m\u001b[37m\u001b[0m \u001b[1m0s\u001b[0m 49ms/step - accuracy: 0.9352 - loss: 0.0239\n",
      "Epoch 9: val_loss did not improve from 0.02435\n",
      "\u001b[1m7270/7270\u001b[0m \u001b[32m━━━━━━━━━━━━━━━━━━━━\u001b[0m\u001b[37m\u001b[0m \u001b[1m441s\u001b[0m 61ms/step - accuracy: 0.9352 - loss: 0.0239 - val_accuracy: 0.9337 - val_loss: 0.0249 - learning_rate: 1.0000e-04\n",
      "Epoch 10/100\n",
      "\u001b[1m7270/7270\u001b[0m \u001b[32m━━━━━━━━━━━━━━━━━━━━\u001b[0m\u001b[37m\u001b[0m \u001b[1m0s\u001b[0m 49ms/step - accuracy: 0.9330 - loss: 0.0253\n",
      "Epoch 10: val_loss improved from 0.02435 to 0.02290, saving model to saves/rnn/200/model.keras\n",
      "\u001b[1m7270/7270\u001b[0m \u001b[32m━━━━━━━━━━━━━━━━━━━━\u001b[0m\u001b[37m\u001b[0m \u001b[1m440s\u001b[0m 60ms/step - accuracy: 0.9330 - loss: 0.0253 - val_accuracy: 0.9365 - val_loss: 0.0229 - learning_rate: 1.0000e-04\n",
      "Epoch 11/100\n",
      "\u001b[1m7270/7270\u001b[0m \u001b[32m━━━━━━━━━━━━━━━━━━━━\u001b[0m\u001b[37m\u001b[0m \u001b[1m0s\u001b[0m 49ms/step - accuracy: 0.9386 - loss: 0.0213\n",
      "Epoch 11: val_loss improved from 0.02290 to 0.02203, saving model to saves/rnn/200/model.keras\n",
      "\u001b[1m7270/7270\u001b[0m \u001b[32m━━━━━━━━━━━━━━━━━━━━\u001b[0m\u001b[37m\u001b[0m \u001b[1m441s\u001b[0m 61ms/step - accuracy: 0.9386 - loss: 0.0213 - val_accuracy: 0.9378 - val_loss: 0.0220 - learning_rate: 5.0000e-05\n",
      "Epoch 12/100\n",
      "\u001b[1m7270/7270\u001b[0m \u001b[32m━━━━━━━━━━━━━━━━━━━━\u001b[0m\u001b[37m\u001b[0m \u001b[1m0s\u001b[0m 49ms/step - accuracy: 0.9409 - loss: 0.0203\n",
      "Epoch 12: val_loss improved from 0.02203 to 0.02117, saving model to saves/rnn/200/model.keras\n",
      "\u001b[1m7270/7270\u001b[0m \u001b[32m━━━━━━━━━━━━━━━━━━━━\u001b[0m\u001b[37m\u001b[0m \u001b[1m438s\u001b[0m 60ms/step - accuracy: 0.9409 - loss: 0.0203 - val_accuracy: 0.9386 - val_loss: 0.0212 - learning_rate: 5.0000e-05\n",
      "Epoch 13/100\n",
      "\u001b[1m7269/7270\u001b[0m \u001b[32m━━━━━━━━━━━━━━━━━━━\u001b[0m\u001b[37m━\u001b[0m \u001b[1m0s\u001b[0m 49ms/step - accuracy: 0.9391 - loss: 0.0213\n",
      "Epoch 13: val_loss improved from 0.02117 to 0.02073, saving model to saves/rnn/200/model.keras\n",
      "\u001b[1m7270/7270\u001b[0m \u001b[32m━━━━━━━━━━━━━━━━━━━━\u001b[0m\u001b[37m\u001b[0m \u001b[1m439s\u001b[0m 60ms/step - accuracy: 0.9391 - loss: 0.0213 - val_accuracy: 0.9403 - val_loss: 0.0207 - learning_rate: 5.0000e-05\n",
      "Epoch 14/100\n",
      "\u001b[1m7269/7270\u001b[0m \u001b[32m━━━━━━━━━━━━━━━━━━━\u001b[0m\u001b[37m━\u001b[0m \u001b[1m0s\u001b[0m 50ms/step - accuracy: 0.9419 - loss: 0.0200\n",
      "Epoch 14: val_loss improved from 0.02073 to 0.02024, saving model to saves/rnn/200/model.keras\n",
      "\u001b[1m7270/7270\u001b[0m \u001b[32m━━━━━━━━━━━━━━━━━━━━\u001b[0m\u001b[37m\u001b[0m \u001b[1m444s\u001b[0m 61ms/step - accuracy: 0.9419 - loss: 0.0200 - val_accuracy: 0.9407 - val_loss: 0.0202 - learning_rate: 5.0000e-05\n",
      "Epoch 15/100\n",
      "\u001b[1m7270/7270\u001b[0m \u001b[32m━━━━━━━━━━━━━━━━━━━━\u001b[0m\u001b[37m\u001b[0m \u001b[1m0s\u001b[0m 49ms/step - accuracy: 0.9408 - loss: 0.0200\n",
      "Epoch 15: val_loss did not improve from 0.02024\n",
      "\u001b[1m7270/7270\u001b[0m \u001b[32m━━━━━━━━━━━━━━━━━━━━\u001b[0m\u001b[37m\u001b[0m \u001b[1m443s\u001b[0m 61ms/step - accuracy: 0.9408 - loss: 0.0200 - val_accuracy: 0.9405 - val_loss: 0.0204 - learning_rate: 5.0000e-05\n",
      "Epoch 16/100\n",
      "\u001b[1m7269/7270\u001b[0m \u001b[32m━━━━━━━━━━━━━━━━━━━\u001b[0m\u001b[37m━\u001b[0m \u001b[1m0s\u001b[0m 49ms/step - accuracy: 0.9416 - loss: 0.0199\n",
      "Epoch 16: val_loss did not improve from 0.02024\n",
      "\u001b[1m7270/7270\u001b[0m \u001b[32m━━━━━━━━━━━━━━━━━━━━\u001b[0m\u001b[37m\u001b[0m \u001b[1m439s\u001b[0m 60ms/step - accuracy: 0.9416 - loss: 0.0199 - val_accuracy: 0.9401 - val_loss: 0.0204 - learning_rate: 5.0000e-05\n",
      "Epoch 17/100\n",
      "\u001b[1m7269/7270\u001b[0m \u001b[32m━━━━━━━━━━━━━━━━━━━\u001b[0m\u001b[37m━\u001b[0m \u001b[1m0s\u001b[0m 49ms/step - accuracy: 0.9418 - loss: 0.0201"
     ]
    }
   ],
   "source": [
    "history = model.fit(\n",
    "    x=Generator(X_train, y_train, 64, max_sequence_length),\n",
    "    validation_data=Generator(X_val, y_val, 32, max_sequence_length),\n",
    "    epochs=100,\n",
    "    callbacks=[early_stop, model_checkpoint, lr_schedule, csv_logger],\n",
    ")\n",
    "\n",
    "# save history to file\n",
    "with open(history_path, 'wb') as f:\n",
    "    np.save(f, history.history)"
   ]
  },
  {
   "cell_type": "code",
   "execution_count": null,
   "metadata": {},
   "outputs": [],
   "source": [
    "# load history from file\n",
    "history = np.load(history_path, allow_pickle=True).item()"
   ]
  },
  {
   "cell_type": "code",
   "execution_count": null,
   "metadata": {},
   "outputs": [],
   "source": [
    "# plot history\n",
    "\n",
    "plt.plot(history.history['loss'])\n",
    "plt.plot(history.history['val_loss'])\n",
    "plt.title('model loss')\n",
    "plt.ylabel('loss')\n",
    "plt.xlabel('epoch')\n",
    "plt.legend(['train', 'val'], loc='upper left')\n",
    "plt.show()\n",
    "\n",
    "plt.plot(history.history['accuracy'])\n",
    "plt.plot(history.history['val_accuracy'])\n",
    "plt.title('model accuracy')\n",
    "plt.ylabel('accuracy')\n",
    "plt.xlabel('epoch')\n",
    "plt.legend(['train', 'val'], loc='upper left')\n",
    "plt.show()"
   ]
  },
  {
   "cell_type": "code",
   "execution_count": 11,
   "metadata": {},
   "outputs": [
    {
     "data": {
      "image/png": "[encoded data removed]",
      "text/plain": [
       "<Figure size 1000x800 with 1 Axes>"
      ]
     },
     "metadata": {},
     "output_type": "display_data"
    },
    {
     "data": {
      "image/png": "[encoded data removed]",
      "text/plain": [
       "<Figure size 1000x800 with 1 Axes>"
      ]
     },
     "metadata": {},
     "output_type": "display_data"
    }
   ],
   "source": [
    "log = pd.read_csv(log_path)\n",
    "\n",
    "fig, ax = plt.subplots(figsize=(10, 8))\n",
    "ax.plot(log['epoch'], log['accuracy'], label='accuracy')\n",
    "ax.plot(log['epoch'], log['val_accuracy'], label='val_accuracy')\n",
    "ax.set_title('accuracy')\n",
    "ax.set_xlabel('epoch')\n",
    "ax.legend()\n",
    "plt.show()\n",
    "\n",
    "fig, ax = plt.subplots(figsize=(10, 8))\n",
    "ax.plot(log['epoch'], log['loss'], label='loss')\n",
    "ax.plot(log['epoch'], log['val_loss'], label='val_loss')\n",
    "ax.set_title('loss')\n",
    "ax.set_xlabel('epoch')\n",
    "ax.legend()\n",
    "\n",
    "plt.show()"
   ]
  },
  {
   "cell_type": "code",
   "execution_count": 10,
   "metadata": {},
   "outputs": [],
   "source": [
    "# load model from file\n",
    "model = load_model(model_path)"
   ]
  },
  {
   "cell_type": "code",
   "execution_count": 12,
   "metadata": {},
   "outputs": [
    {
     "name": "stderr",
     "output_type": "stream",
     "text": [
      "WARNING: All log messages before absl::InitializeLog() is called are written to STDERR\n",
      "I0000 00:00:1719303177.801986  756044 service.cc:145] XLA service 0x14d13bf0 initialized for platform CUDA (this does not guarantee that XLA will be used). Devices:\n",
      "I0000 00:00:1719303177.802062  756044 service.cc:153]   StreamExecutor device (0): NVIDIA GeForce RTX 2080 Ti, Compute Capability 7.5\n"
     ]
    },
    {
     "name": "stdout",
     "output_type": "stream",
     "text": [
      "\u001b[1m   6/3635\u001b[0m \u001b[37m━━━━━━━━━━━━━━━━━━━━\u001b[0m \u001b[1m1:31\u001b[0m 25ms/step - accuracy: 0.9837 - loss: 0.0087"
     ]
    },
    {
     "name": "stderr",
     "output_type": "stream",
     "text": [
      "I0000 00:00:1719303178.354555  756044 device_compiler.h:188] Compiled cluster using XLA!  This line is logged at most once for the lifetime of the process.\n"
     ]
    },
    {
     "name": "stdout",
     "output_type": "stream",
     "text": [
      "\u001b[1m3635/3635\u001b[0m \u001b[32m━━━━━━━━━━━━━━━━━━━━\u001b[0m\u001b[37m\u001b[0m \u001b[1m84s\u001b[0m 23ms/step - accuracy: 0.9457 - loss: 0.0170\n"
     ]
    }
   ],
   "source": [
    "# evaluate model\n",
    "score = model.evaluate(x=Generator(X_val, y_val, 32, max_sequence_length))"
   ]
  },
  {
   "cell_type": "code",
   "execution_count": 13,
   "metadata": {},
   "outputs": [
    {
     "name": "stdout",
     "output_type": "stream",
     "text": [
      "\u001b[1m3635/3635\u001b[0m \u001b[32m━━━━━━━━━━━━━━━━━━━━\u001b[0m\u001b[37m\u001b[0m \u001b[1m88s\u001b[0m 24ms/step\n",
      "                 precision    recall  f1-score   support\n",
      "\n",
      "            XIM        nan      0.00      0.00         1\n",
      "      adjkerntz        nan      0.00      0.00        26\n",
      "         alpine       0.81      0.58      0.67       685\n",
      "          anvil       0.83      0.57      0.67       483\n",
      "          atrun       1.00      1.00      1.00       622\n",
      "            awk       1.00      0.92      0.96        12\n",
      "       basename        nan      0.00      0.00         2\n",
      "           bash       0.95      0.97      0.96     32272\n",
      "         bounce        nan      0.00      0.00         1\n",
      "          bzcat       0.00      0.00      0.00         7\n",
      "          bzip2        nan      0.00      0.00         1\n",
      "            cat       0.82      0.93      0.88        60\n",
      "         chkgrp       0.67      1.00      0.80         2\n",
      "          chmod        nan       nan       nan         0\n",
      "          chown        nan       nan       nan         0\n",
      "        cleanup       0.97      0.56      0.71       492\n",
      "            cmp       1.00      1.00      1.00        10\n",
      "             cp       1.00      1.00      1.00         2\n",
      "           cron       1.00      1.00      1.00      2036\n",
      "            csh        nan      0.00      0.00         2\n",
      "            cut        nan       nan       nan         0\n",
      "           date       1.00      1.00      1.00      3030\n",
      "             dd       1.00      1.00      1.00       322\n",
      "           devd       0.90      0.90      0.90        10\n",
      "             df       1.00      1.00      1.00         2\n",
      "       dhclient        nan      0.00      0.00        63\n",
      "           diff        nan       nan       nan         0\n",
      "          dmesg       0.97      1.00      0.99        39\n",
      "          egrep        nan      0.00      0.00         6\n",
      "            env        nan      0.00      0.00         1\n",
      "           expr        nan      0.00      0.00         5\n",
      "           find       1.00      1.00      1.00      2917\n",
      "        fortune       1.00      1.00      1.00       248\n",
      "          getty        nan       nan       nan         0\n",
      "           grep       0.59      0.62      0.61        16\n",
      "           head       1.00      1.00      1.00      3127\n",
      "       hostname       0.66      1.00      0.79        31\n",
      "             id        nan       nan       nan         0\n",
      "       ifconfig        nan      0.00      0.00         1\n",
      "          imapd       0.94      0.75      0.83      5934\n",
      "          inetd       1.00      1.00      1.00       891\n",
      "           init        nan      0.00      0.00         1\n",
      "        ipfstat        nan      0.00      0.00         2\n",
      "           ipfw        nan      0.00      0.00         1\n",
      "         ipop3d        nan       nan       nan         0\n",
      "            jot        nan      0.00      0.00         2\n",
      "           kenv        nan      0.00      0.00         4\n",
      "           kill       1.00      1.00      1.00         1\n",
      "        kldstat        nan       nan       nan         0\n",
      "           less        nan      0.00      0.00         5\n",
      "         limits        nan      0.00      0.00         1\n",
      "          links       1.00      0.40      0.57         5\n",
      "          local       0.88      0.99      0.93      1569\n",
      "         locale        nan       nan       nan         0\n",
      "    locate.code        nan      0.00      0.00        11\n",
      "          lockf       0.71      0.56      0.62         9\n",
      "          login        nan       nan       nan         0\n",
      "             ls       0.67      0.67      0.67         9\n",
      "           lsof       1.00      1.00      1.00     12364\n",
      "          lsvfs        nan      0.00      0.00         1\n",
      "           mail       0.50      0.33      0.40         3\n",
      "     mail.local        nan      0.00      0.00         1\n",
      "    mailwrapper       0.88      1.00      0.93         7\n",
      "           main        nan       nan       nan         0\n",
      "     makewhatis       0.92      0.85      0.88        13\n",
      "         master       0.87      0.21      0.34      2249\n",
      "        minions        nan      0.00      0.00         1\n",
      "          mkdir       0.98      1.00      0.99        51\n",
      "         mktemp       1.00      0.85      0.92        13\n",
      "          mlock       1.00      1.00      1.00      1569\n",
      "          mount       1.00      0.88      0.93         8\n",
      "           msgs        nan       nan       nan         0\n",
      "             mv       1.00      1.00      1.00      2143\n",
      "           nawk       1.00      1.00      1.00         1\n",
      "        netstat       0.93      0.91      0.92        96\n",
      "      newsyslog       0.98      0.94      0.96        47\n",
      "          nginx       1.00      0.31      0.48        16\n",
      "           nice        nan       nan       nan         0\n",
      "          nohup        nan       nan       nan         0\n",
      "           ntpd       1.00      0.98      0.99        58\n",
      "       pEja72mA        nan      0.00      0.00        23\n",
      "          pfctl       1.00      1.00      1.00         1\n",
      "        php-fpm       0.93      1.00      0.96        13\n",
      "         pickup       0.99      0.82      0.90       185\n",
      "           ping        nan      0.00      0.00         1\n",
      "            pkg       0.97      0.86      0.91      1752\n",
      "        postmap        nan      0.00      0.00         3\n",
      "       procstat        nan      0.00      0.00         2\n",
      "       proxymap       0.57      0.98      0.72       609\n",
      "             ps       0.75      0.75      0.75         8\n",
      "             pw        nan      0.00      0.00         1\n",
      "          pwait        nan       nan       nan         0\n",
      "            pwd        nan       nan       nan         0\n",
      "      python2.7       0.96      1.00      0.98      8241\n",
      "           qmgr       1.00      1.00      1.00       224\n",
      "      resizewin       1.00      1.00      1.00       250\n",
      "             rm       0.98      0.56      0.71        79\n",
      "          route       1.00      1.00      1.00        15\n",
      "         screen       1.00      0.62      0.77        32\n",
      "            sed        nan      0.00      0.00        15\n",
      "       sendmail       0.93      0.91      0.92        57\n",
      "             sh       0.61      0.91      0.73      4712\n",
      "          sleep       0.99      1.00      1.00     12311\n",
      "           smtp        nan      0.00      0.00         4\n",
      "          smtpd       0.99      1.00      0.99      1358\n",
      "           sort       0.43      0.75      0.55         4\n",
      "            ssh        nan       nan       nan         0\n",
      "           sshd       0.99      0.99      0.99      1406\n",
      "           stat        nan      0.00      0.00         1\n",
      "           stty        nan       nan       nan         0\n",
      "             su        nan      0.00      0.00         1\n",
      "           sudo       0.80      0.88      0.84        32\n",
      "         sysctl       1.00      1.00      1.00       289\n",
      "        syslogd       0.99      1.00      1.00       213\n",
      "           tail       0.88      0.79      0.83        19\n",
      "            tee        nan      0.00      0.00         1\n",
      "           test       0.98      1.00      0.99        47\n",
      "      tmux-1002        nan       nan       nan         0\n",
      "            top       1.00      1.00      1.00      3182\n",
      "          touch        nan       nan       nan         0\n",
      "             tr        nan      0.00      0.00         3\n",
      "trivial-rewrite       0.89      0.57      0.69       646\n",
      "            tty        nan      0.00      0.00         5\n",
      "          uname        nan      0.00      0.00         1\n",
      "           uniq        nan       nan       nan         0\n",
      "         unlink       0.96      1.00      0.98       311\n",
      "         uptime       1.00      1.00      1.00        38\n",
      "        vUgefal        nan       nan       nan         0\n",
      "             vi        nan      0.00      0.00         2\n",
      "         vmstat       1.00      1.00      1.00      6239\n",
      "             wc       0.95      0.87      0.91        23\n",
      "           wget       0.94      0.91      0.92       230\n",
      "          which        nan      0.00      0.00         1\n",
      "         whoami        nan       nan       nan         0\n",
      "             xz        nan      0.00      0.00        96\n",
      "\n",
      "       accuracy                           0.95    116306\n",
      "      macro avg       0.90      0.57      0.57    116306\n",
      "   weighted avg       0.95      0.95      0.94    116306\n",
      "\n"
     ]
    }
   ],
   "source": [
    "# print classification report\n",
    "# combine X_train and X_val\n",
    "\n",
    "y_pred = model.predict(x=Generator(X_val, y_val, 32, max_sequence_length))\n",
    "y_pred = np.argmax(y_pred, axis=1)\n",
    "y_true = np.argmax(y_val, axis=1)\n",
    "\n",
    "print(classification_report(y_true, y_pred, target_names=distinct_labels, labels=np.arange(no_labels), zero_division=np.nan))"
   ]
  }
 ],
 "metadata": {
  "kernelspec": {
   "display_name": "Python 3 (ipykernel)",
   "language": "python",
   "name": "python3"
  },
  "language_info": {
   "codemirror_mode": {
    "name": "ipython",
    "version": 3
   },
   "file_extension": ".py",
   "mimetype": "text/x-python",
   "name": "python",
   "nbconvert_exporter": "python",
   "pygments_lexer": "ipython3",
   "version": "3.12.3"
  }
 },
 "nbformat": 4,
 "nbformat_minor": 2
}
