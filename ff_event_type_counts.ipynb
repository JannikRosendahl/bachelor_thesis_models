{
 "cells": [
  {
   "cell_type": "code",
   "id": "initial_id",
   "metadata": {
    "collapsed": true,
    "ExecuteTime": {
     "end_time": "2024-06-07T08:53:51.983102Z",
     "start_time": "2024-06-07T08:53:49.624765Z"
    }
   },
   "source": [
    "import keras\n",
    "from keras.models import Sequential\n",
    "from keras.layers import Dense, SimpleRNN\n",
    "from sklearn.preprocessing import MinMaxScaler\n",
    "\n",
    "import matplotlib.pyplot as plt\n",
    "import numpy as np\n"
   ],
   "outputs": [
    {
     "name": "stderr",
     "output_type": "stream",
     "text": [
      "2024-06-07 10:53:50.053774: I tensorflow/core/platform/cpu_feature_guard.cc:210] This TensorFlow binary is optimized to use available CPU instructions in performance-critical operations.\n",
      "To enable the following instructions: AVX2 AVX512F FMA, in other operations, rebuild TensorFlow with the appropriate compiler flags.\n",
      "2024-06-07 10:53:50.861924: W tensorflow/compiler/tf2tensorrt/utils/py_utils.cc:38] TF-TRT Warning: Could not find TensorRT\n"
     ]
    },
    {
     "ename": "ModuleNotFoundError",
     "evalue": "No module named 'sklearn'",
     "output_type": "error",
     "traceback": [
      "\u001B[0;31m---------------------------------------------------------------------------\u001B[0m",
      "\u001B[0;31mModuleNotFoundError\u001B[0m                       Traceback (most recent call last)",
      "Cell \u001B[0;32mIn[1], line 4\u001B[0m\n\u001B[1;32m      2\u001B[0m \u001B[38;5;28;01mfrom\u001B[39;00m \u001B[38;5;21;01mkeras\u001B[39;00m\u001B[38;5;21;01m.\u001B[39;00m\u001B[38;5;21;01mmodels\u001B[39;00m \u001B[38;5;28;01mimport\u001B[39;00m Sequential\n\u001B[1;32m      3\u001B[0m \u001B[38;5;28;01mfrom\u001B[39;00m \u001B[38;5;21;01mkeras\u001B[39;00m\u001B[38;5;21;01m.\u001B[39;00m\u001B[38;5;21;01mlayers\u001B[39;00m \u001B[38;5;28;01mimport\u001B[39;00m Dense, SimpleRNN\n\u001B[0;32m----> 4\u001B[0m \u001B[38;5;28;01mfrom\u001B[39;00m \u001B[38;5;21;01msklearn\u001B[39;00m\u001B[38;5;21;01m.\u001B[39;00m\u001B[38;5;21;01mpreprocessing\u001B[39;00m \u001B[38;5;28;01mimport\u001B[39;00m MinMaxScaler\n\u001B[1;32m      6\u001B[0m \u001B[38;5;28;01mimport\u001B[39;00m \u001B[38;5;21;01mmatplotlib\u001B[39;00m\u001B[38;5;21;01m.\u001B[39;00m\u001B[38;5;21;01mpyplot\u001B[39;00m \u001B[38;5;28;01mas\u001B[39;00m \u001B[38;5;21;01mplt\u001B[39;00m\n\u001B[1;32m      7\u001B[0m \u001B[38;5;28;01mimport\u001B[39;00m \u001B[38;5;21;01mnumpy\u001B[39;00m \u001B[38;5;28;01mas\u001B[39;00m \u001B[38;5;21;01mnp\u001B[39;00m\n",
      "\u001B[0;31mModuleNotFoundError\u001B[0m: No module named 'sklearn'"
     ]
    }
   ],
   "execution_count": 1
  },
  {
   "metadata": {
    "ExecuteTime": {
     "end_time": "2024-06-05T15:20:00.614928Z",
     "start_time": "2024-06-05T15:20:00.612497Z"
    }
   },
   "cell_type": "code",
   "source": [
    "# execs 'head' and 'mv' appear with somewhat equal frequency and avg/median length\n",
    "# try to train a binary classifier to distinguish between them"
   ],
   "id": "6aea01b1b3c6d83e",
   "outputs": [],
   "execution_count": 123
  },
  {
   "metadata": {
    "ExecuteTime": {
     "end_time": "2024-06-07T09:02:28.238509Z",
     "start_time": "2024-06-07T09:02:27.805677Z"
    }
   },
   "cell_type": "code",
   "source": [
    "import psycopg2\n",
    "import numpy as np\n",
    "import matplotlib.pyplot as plt\n",
    "import os"
   ],
   "id": "a77488267932ebd3",
   "outputs": [],
   "execution_count": 3
  },
  {
   "metadata": {
    "ExecuteTime": {
     "end_time": "2024-06-05T15:20:00.649557Z",
     "start_time": "2024-06-05T15:20:00.639384Z"
    }
   },
   "cell_type": "code",
   "source": [
    "# setup connection\n",
    "conn = psycopg2.connect(\n",
    "    host='localhost',\n",
    "    database='cadets_e3',\n",
    "    user='rosendahl',\n",
    ")\n",
    "conn.set_session(readonly=True)\n",
    "# get cursor\n",
    "cur = conn.cursor()"
   ],
   "id": "43f5a6068ab19d7b",
   "outputs": [],
   "execution_count": 125
  },
  {
   "metadata": {
    "ExecuteTime": {
     "end_time": "2024-06-07T09:02:32.319111Z",
     "start_time": "2024-06-07T09:02:32.213054Z"
    }
   },
   "cell_type": "code",
   "source": [
    "# debug\n",
    "os.system(\"hostnamectl hostname\")\n",
    "print(f'current working directory: {os.getcwd()}')"
   ],
   "id": "c11defd7f8f19dc9",
   "outputs": [
    {
     "name": "stdout",
     "output_type": "stream",
     "text": [
      "absolute-unit\n",
      "current working directory: /home/jrosendahl/sync/models\n"
     ]
    }
   ],
   "execution_count": 4
  },
  {
   "metadata": {
    "ExecuteTime": {
     "end_time": "2024-06-05T15:20:00.711495Z",
     "start_time": "2024-06-05T15:20:00.709403Z"
    }
   },
   "cell_type": "code",
   "source": "classes = ['bash', 'sleep', 'vmstat', 'sh', 'imapd', 'top', 'date', 'lsof', 'head', 'mv']",
   "id": "2ed383db3f8b78ef",
   "outputs": [],
   "execution_count": 127
  },
  {
   "metadata": {
    "ExecuteTime": {
     "end_time": "2024-06-05T15:20:00.747210Z",
     "start_time": "2024-06-05T15:20:00.712326Z"
    }
   },
   "cell_type": "code",
   "source": [
    "# alternative selection of classes\n",
    "num_classes = 135\n",
    "\n",
    "query = '''\n",
    "select exec, count(*) as count\n",
    "from sequence\n",
    "group by exec\n",
    "order by count desc\n",
    "limit %s;\n",
    "'''\n",
    "\n",
    "cur.execute(query, (num_classes,))\n",
    "\n",
    "classes_result = cur.fetchall()\n",
    "classes = [x[0] for x in classes_result if x[1] >= 10]\n",
    "class_weights = {}\n",
    "for i in range(len(classes)):\n",
    "    class_weights[i] = classes_result[i][1]\n",
    "\n",
    "print(f'number of classes: {len(classes)}')\n",
    "print(f'bottom classes has occurrences: {classes_result[-1][1]}')\n",
    "classes"
   ],
   "id": "bdfaf7a701ef0b7c",
   "outputs": [
    {
     "name": "stdout",
     "output_type": "stream",
     "text": [
      "number of classes: 77\n",
      "bottom classes has occurrences: 1\n"
     ]
    },
    {
     "data": {
      "text/plain": [
       "['bash',\n",
       " 'sleep',\n",
       " 'vmstat',\n",
       " 'sh',\n",
       " 'imapd',\n",
       " 'top',\n",
       " 'date',\n",
       " 'lsof',\n",
       " 'head',\n",
       " 'mv',\n",
       " 'cron',\n",
       " 'master',\n",
       " 'mlock',\n",
       " 'sshd',\n",
       " 'inetd',\n",
       " 'atrun',\n",
       " 'local',\n",
       " 'smtpd',\n",
       " 'sysctl',\n",
       " 'dd',\n",
       " 'unlink',\n",
       " 'proxymap',\n",
       " 'resizewin',\n",
       " 'fortune',\n",
       " 'cleanup',\n",
       " 'trivial-rewrite',\n",
       " 'alpine',\n",
       " 'anvil',\n",
       " 'python2.7',\n",
       " 'rm',\n",
       " 'netstat',\n",
       " 'cat',\n",
       " 'sendmail',\n",
       " 'newsyslog',\n",
       " 'find',\n",
       " 'mkdir',\n",
       " 'wget',\n",
       " 'dmesg',\n",
       " 'uptime',\n",
       " 'pkg',\n",
       " 'pickup',\n",
       " 'hostname',\n",
       " 'adjkerntz',\n",
       " 'dhclient',\n",
       " 'wc',\n",
       " 'route',\n",
       " 'mktemp',\n",
       " 'sudo',\n",
       " 'ls',\n",
       " 'grep',\n",
       " 'ps',\n",
       " 'awk',\n",
       " 'cmp',\n",
       " 'lockf',\n",
       " 'mailwrapper',\n",
       " 'egrep',\n",
       " 'mail',\n",
       " 'sort',\n",
       " 'sed',\n",
       " 'mount',\n",
       " 'expr',\n",
       " 'tty',\n",
       " 'links',\n",
       " 'kenv',\n",
       " 'nginx',\n",
       " 'less',\n",
       " 'bzcat',\n",
       " 'cp',\n",
       " 'bzip2',\n",
       " 'df',\n",
       " 'kill',\n",
       " 'chkgrp',\n",
       " 'xz',\n",
       " 'basename',\n",
       " 'msgs',\n",
       " 'screen',\n",
       " 'tr']"
      ]
     },
     "execution_count": 128,
     "metadata": {},
     "output_type": "execute_result"
    }
   ],
   "execution_count": 128
  },
  {
   "metadata": {
    "ExecuteTime": {
     "end_time": "2024-06-05T15:20:06.061734Z",
     "start_time": "2024-06-05T15:20:00.748254Z"
    }
   },
   "cell_type": "code",
   "source": [
    "# get all possible event types\n",
    "query = '''\n",
    "select distinct type\n",
    "from event e\n",
    "where e.properties_map_exec in %s\n",
    "'''\n",
    "\n",
    "cur.execute(query, (tuple(classes),))\n",
    "\n",
    "event_types = cur.fetchall()\n",
    "event_types = [x[0] for x in event_types]\n",
    "event_types"
   ],
   "id": "1b4b996f83470378",
   "outputs": [
    {
     "data": {
      "text/plain": [
       "['EVENT_ACCEPT',\n",
       " 'EVENT_BIND',\n",
       " 'EVENT_CHANGE_PRINCIPAL',\n",
       " 'EVENT_CLOSE',\n",
       " 'EVENT_CONNECT',\n",
       " 'EVENT_CREATE_OBJECT',\n",
       " 'EVENT_EXECUTE',\n",
       " 'EVENT_EXIT',\n",
       " 'EVENT_FCNTL',\n",
       " 'EVENT_FORK',\n",
       " 'EVENT_LINK',\n",
       " 'EVENT_LOGIN',\n",
       " 'EVENT_LSEEK',\n",
       " 'EVENT_MMAP',\n",
       " 'EVENT_MODIFY_FILE_ATTRIBUTES',\n",
       " 'EVENT_MODIFY_PROCESS',\n",
       " 'EVENT_MPROTECT',\n",
       " 'EVENT_OPEN',\n",
       " 'EVENT_OTHER',\n",
       " 'EVENT_READ',\n",
       " 'EVENT_RECVFROM',\n",
       " 'EVENT_RECVMSG',\n",
       " 'EVENT_RENAME',\n",
       " 'EVENT_SENDMSG',\n",
       " 'EVENT_SENDTO',\n",
       " 'EVENT_SIGNAL',\n",
       " 'EVENT_TRUNCATE',\n",
       " 'EVENT_UNLINK',\n",
       " 'EVENT_WRITE']"
      ]
     },
     "execution_count": 129,
     "metadata": {},
     "output_type": "execute_result"
    }
   ],
   "execution_count": 129
  },
  {
   "metadata": {
    "ExecuteTime": {
     "end_time": "2024-06-05T15:20:24.438072Z",
     "start_time": "2024-06-05T15:20:06.062785Z"
    }
   },
   "cell_type": "code",
   "source": [
    "query = f'''\n",
    "select e.subject_uuid, e.properties_map_exec, e.type, count(*) as count\n",
    "from event e\n",
    "where e.properties_map_exec in %s\n",
    "group by subject_uuid, properties_map_exec, type\n",
    "order by subject_uuid, properties_map_exec, type\n",
    "'''\n",
    "\n",
    "# write to csv\n",
    "\n",
    "event_type_to_index = {event_types[i]: i for i in range(len(event_types))}\n",
    "csv_header = 'subject_uuid,properties_map_exec,' + ','.join(event_types)\n",
    "\n",
    "with open('data.csv', 'w') as f:\n",
    "    f.write(csv_header + '\\n')\n",
    "    cur.execute(query, (tuple(classes),))\n",
    "\n",
    "    current_subject_uuid = None\n",
    "    current_exec = None\n",
    "    current_counts = [0 for _ in range(len(event_types))]\n",
    "\n",
    "    lines_written = 0\n",
    "    for row in cur:\n",
    "        subject_uuid = row[0]\n",
    "        exec_type = row[1]\n",
    "        event_type = row[2]\n",
    "        count = row[3]\n",
    "        \n",
    "        if subject_uuid != current_subject_uuid or exec_type != current_exec:\n",
    "            # next sequence, write prev sequence to csv\n",
    "            if current_subject_uuid is not None:\n",
    "                f.write(current_subject_uuid + ',' + current_exec + ',' + ','.join(map(str, current_counts)) + '\\n')\n",
    "                lines_written += 1\n",
    "            # reset current sequence\n",
    "            current_counts = [0 for _ in range(len(event_types))]\n",
    "            # update current sequence identifiers\n",
    "            current_subject_uuid = subject_uuid\n",
    "            current_exec = exec_type\n",
    "            current_counts[event_type_to_index[event_type]] = count\n",
    "        \n",
    "        else:\n",
    "            # still in sequence\n",
    "            current_counts[event_type_to_index[event_type]] = count\n",
    "    print(f'number of sequences written to file: {lines_written}')"
   ],
   "id": "a0362d2e7162286e",
   "outputs": [
    {
     "name": "stdout",
     "output_type": "stream",
     "text": [
      "number of sequences written to file: 431571\n"
     ]
    }
   ],
   "execution_count": 130
  },
  {
   "metadata": {
    "ExecuteTime": {
     "end_time": "2024-06-07T09:03:14.030477Z",
     "start_time": "2024-06-07T09:03:13.302308Z"
    }
   },
   "cell_type": "code",
   "source": [
    "import pandas as pd\n",
    "\n",
    "df = pd.read_csv('~/datasets/data.csv')\n",
    "df.head()\n"
   ],
   "id": "f4414f7f08e63522",
   "outputs": [
    {
     "data": {
      "text/plain": [
       "                           subject_uuid properties_map_exec  EVENT_ACCEPT  \\\n",
       "0  00002710-3DF2-11E8-A5CB-3FA3753A265A                bash             0   \n",
       "1  00002710-3DF2-11E8-A5CB-3FA3753A265A              vmstat             0   \n",
       "2  0000418D-3893-11E8-BF66-D9AA8AFF4A69                bash             0   \n",
       "3  0000418D-3893-11E8-BF66-D9AA8AFF4A69               sleep             0   \n",
       "4  0000464B-38D0-11E8-BF66-D9AA8AFF4A69                bash             0   \n",
       "\n",
       "   EVENT_BIND  EVENT_CHANGE_PRINCIPAL  EVENT_CLOSE  EVENT_CONNECT  \\\n",
       "0           0                       0            2              0   \n",
       "1           0                       0           10              0   \n",
       "2           0                       0            1              0   \n",
       "3           0                       0            4              0   \n",
       "4           0                       0            1              0   \n",
       "\n",
       "   EVENT_CREATE_OBJECT  EVENT_EXECUTE  EVENT_EXIT  ...  EVENT_READ  \\\n",
       "0                    0              1           0  ...           0   \n",
       "1                    0              0           1  ...           3   \n",
       "2                    0              1           0  ...           0   \n",
       "3                    0              0           1  ...           3   \n",
       "4                    0              1           0  ...           0   \n",
       "\n",
       "   EVENT_RECVFROM  EVENT_RECVMSG  EVENT_RENAME  EVENT_SENDMSG  EVENT_SENDTO  \\\n",
       "0               0              0             0              0             0   \n",
       "1               0              0             0              0             0   \n",
       "2               0              0             0              0             0   \n",
       "3               0              0             0              0             0   \n",
       "4               0              0             0              0             0   \n",
       "\n",
       "   EVENT_SIGNAL  EVENT_TRUNCATE  EVENT_UNLINK  EVENT_WRITE  \n",
       "0             0               0             0            0  \n",
       "1             0               0             0            3  \n",
       "2             0               0             0            0  \n",
       "3             0               0             0            0  \n",
       "4             0               0             0            0  \n",
       "\n",
       "[5 rows x 31 columns]"
      ],
      "text/html": [
       "<div>\n",
       "<style scoped>\n",
       "    .dataframe tbody tr th:only-of-type {\n",
       "        vertical-align: middle;\n",
       "    }\n",
       "\n",
       "    .dataframe tbody tr th {\n",
       "        vertical-align: top;\n",
       "    }\n",
       "\n",
       "    .dataframe thead th {\n",
       "        text-align: right;\n",
       "    }\n",
       "</style>\n",
       "<table border=\"1\" class=\"dataframe\">\n",
       "  <thead>\n",
       "    <tr style=\"text-align: right;\">\n",
       "      <th></th>\n",
       "      <th>subject_uuid</th>\n",
       "      <th>properties_map_exec</th>\n",
       "      <th>EVENT_ACCEPT</th>\n",
       "      <th>EVENT_BIND</th>\n",
       "      <th>EVENT_CHANGE_PRINCIPAL</th>\n",
       "      <th>EVENT_CLOSE</th>\n",
       "      <th>EVENT_CONNECT</th>\n",
       "      <th>EVENT_CREATE_OBJECT</th>\n",
       "      <th>EVENT_EXECUTE</th>\n",
       "      <th>EVENT_EXIT</th>\n",
       "      <th>...</th>\n",
       "      <th>EVENT_READ</th>\n",
       "      <th>EVENT_RECVFROM</th>\n",
       "      <th>EVENT_RECVMSG</th>\n",
       "      <th>EVENT_RENAME</th>\n",
       "      <th>EVENT_SENDMSG</th>\n",
       "      <th>EVENT_SENDTO</th>\n",
       "      <th>EVENT_SIGNAL</th>\n",
       "      <th>EVENT_TRUNCATE</th>\n",
       "      <th>EVENT_UNLINK</th>\n",
       "      <th>EVENT_WRITE</th>\n",
       "    </tr>\n",
       "  </thead>\n",
       "  <tbody>\n",
       "    <tr>\n",
       "      <th>0</th>\n",
       "      <td>00002710-3DF2-11E8-A5CB-3FA3753A265A</td>\n",
       "      <td>bash</td>\n",
       "      <td>0</td>\n",
       "      <td>0</td>\n",
       "      <td>0</td>\n",
       "      <td>2</td>\n",
       "      <td>0</td>\n",
       "      <td>0</td>\n",
       "      <td>1</td>\n",
       "      <td>0</td>\n",
       "      <td>...</td>\n",
       "      <td>0</td>\n",
       "      <td>0</td>\n",
       "      <td>0</td>\n",
       "      <td>0</td>\n",
       "      <td>0</td>\n",
       "      <td>0</td>\n",
       "      <td>0</td>\n",
       "      <td>0</td>\n",
       "      <td>0</td>\n",
       "      <td>0</td>\n",
       "    </tr>\n",
       "    <tr>\n",
       "      <th>1</th>\n",
       "      <td>00002710-3DF2-11E8-A5CB-3FA3753A265A</td>\n",
       "      <td>vmstat</td>\n",
       "      <td>0</td>\n",
       "      <td>0</td>\n",
       "      <td>0</td>\n",
       "      <td>10</td>\n",
       "      <td>0</td>\n",
       "      <td>0</td>\n",
       "      <td>0</td>\n",
       "      <td>1</td>\n",
       "      <td>...</td>\n",
       "      <td>3</td>\n",
       "      <td>0</td>\n",
       "      <td>0</td>\n",
       "      <td>0</td>\n",
       "      <td>0</td>\n",
       "      <td>0</td>\n",
       "      <td>0</td>\n",
       "      <td>0</td>\n",
       "      <td>0</td>\n",
       "      <td>3</td>\n",
       "    </tr>\n",
       "    <tr>\n",
       "      <th>2</th>\n",
       "      <td>0000418D-3893-11E8-BF66-D9AA8AFF4A69</td>\n",
       "      <td>bash</td>\n",
       "      <td>0</td>\n",
       "      <td>0</td>\n",
       "      <td>0</td>\n",
       "      <td>1</td>\n",
       "      <td>0</td>\n",
       "      <td>0</td>\n",
       "      <td>1</td>\n",
       "      <td>0</td>\n",
       "      <td>...</td>\n",
       "      <td>0</td>\n",
       "      <td>0</td>\n",
       "      <td>0</td>\n",
       "      <td>0</td>\n",
       "      <td>0</td>\n",
       "      <td>0</td>\n",
       "      <td>0</td>\n",
       "      <td>0</td>\n",
       "      <td>0</td>\n",
       "      <td>0</td>\n",
       "    </tr>\n",
       "    <tr>\n",
       "      <th>3</th>\n",
       "      <td>0000418D-3893-11E8-BF66-D9AA8AFF4A69</td>\n",
       "      <td>sleep</td>\n",
       "      <td>0</td>\n",
       "      <td>0</td>\n",
       "      <td>0</td>\n",
       "      <td>4</td>\n",
       "      <td>0</td>\n",
       "      <td>0</td>\n",
       "      <td>0</td>\n",
       "      <td>1</td>\n",
       "      <td>...</td>\n",
       "      <td>3</td>\n",
       "      <td>0</td>\n",
       "      <td>0</td>\n",
       "      <td>0</td>\n",
       "      <td>0</td>\n",
       "      <td>0</td>\n",
       "      <td>0</td>\n",
       "      <td>0</td>\n",
       "      <td>0</td>\n",
       "      <td>0</td>\n",
       "    </tr>\n",
       "    <tr>\n",
       "      <th>4</th>\n",
       "      <td>0000464B-38D0-11E8-BF66-D9AA8AFF4A69</td>\n",
       "      <td>bash</td>\n",
       "      <td>0</td>\n",
       "      <td>0</td>\n",
       "      <td>0</td>\n",
       "      <td>1</td>\n",
       "      <td>0</td>\n",
       "      <td>0</td>\n",
       "      <td>1</td>\n",
       "      <td>0</td>\n",
       "      <td>...</td>\n",
       "      <td>0</td>\n",
       "      <td>0</td>\n",
       "      <td>0</td>\n",
       "      <td>0</td>\n",
       "      <td>0</td>\n",
       "      <td>0</td>\n",
       "      <td>0</td>\n",
       "      <td>0</td>\n",
       "      <td>0</td>\n",
       "      <td>0</td>\n",
       "    </tr>\n",
       "  </tbody>\n",
       "</table>\n",
       "<p>5 rows × 31 columns</p>\n",
       "</div>"
      ]
     },
     "execution_count": 5,
     "metadata": {},
     "output_type": "execute_result"
    }
   ],
   "execution_count": 5
  },
  {
   "metadata": {
    "ExecuteTime": {
     "end_time": "2024-06-07T09:03:19.385165Z",
     "start_time": "2024-06-07T09:03:19.140768Z"
    }
   },
   "cell_type": "code",
   "source": [
    "print(f'number of rows: {len(df)}')\n",
    "print(f'number of columns: {len(df.columns)}')\n",
    "print(f'number of duplicates: {df.duplicated().sum()}')"
   ],
   "id": "aa74b928f6bc4ee0",
   "outputs": [
    {
     "name": "stdout",
     "output_type": "stream",
     "text": [
      "number of rows: 431571\n",
      "number of columns: 31\n",
      "number of duplicates: 0\n"
     ]
    }
   ],
   "execution_count": 6
  },
  {
   "metadata": {
    "ExecuteTime": {
     "end_time": "2024-06-07T09:03:22.366804Z",
     "start_time": "2024-06-07T09:03:22.310237Z"
    }
   },
   "cell_type": "code",
   "source": [
    "# drop subject_uuid column\n",
    "df = df.drop(columns=['subject_uuid'])\n",
    "\n",
    "df.head()"
   ],
   "id": "e1913d898a375a0a",
   "outputs": [
    {
     "data": {
      "text/plain": [
       "  properties_map_exec  EVENT_ACCEPT  EVENT_BIND  EVENT_CHANGE_PRINCIPAL  \\\n",
       "0                bash             0           0                       0   \n",
       "1              vmstat             0           0                       0   \n",
       "2                bash             0           0                       0   \n",
       "3               sleep             0           0                       0   \n",
       "4                bash             0           0                       0   \n",
       "\n",
       "   EVENT_CLOSE  EVENT_CONNECT  EVENT_CREATE_OBJECT  EVENT_EXECUTE  EVENT_EXIT  \\\n",
       "0            2              0                    0              1           0   \n",
       "1           10              0                    0              0           1   \n",
       "2            1              0                    0              1           0   \n",
       "3            4              0                    0              0           1   \n",
       "4            1              0                    0              1           0   \n",
       "\n",
       "   EVENT_FCNTL  ...  EVENT_READ  EVENT_RECVFROM  EVENT_RECVMSG  EVENT_RENAME  \\\n",
       "0            0  ...           0               0              0             0   \n",
       "1            0  ...           3               0              0             0   \n",
       "2            0  ...           0               0              0             0   \n",
       "3            0  ...           3               0              0             0   \n",
       "4            0  ...           0               0              0             0   \n",
       "\n",
       "   EVENT_SENDMSG  EVENT_SENDTO  EVENT_SIGNAL  EVENT_TRUNCATE  EVENT_UNLINK  \\\n",
       "0              0             0             0               0             0   \n",
       "1              0             0             0               0             0   \n",
       "2              0             0             0               0             0   \n",
       "3              0             0             0               0             0   \n",
       "4              0             0             0               0             0   \n",
       "\n",
       "   EVENT_WRITE  \n",
       "0            0  \n",
       "1            3  \n",
       "2            0  \n",
       "3            0  \n",
       "4            0  \n",
       "\n",
       "[5 rows x 30 columns]"
      ],
      "text/html": [
       "<div>\n",
       "<style scoped>\n",
       "    .dataframe tbody tr th:only-of-type {\n",
       "        vertical-align: middle;\n",
       "    }\n",
       "\n",
       "    .dataframe tbody tr th {\n",
       "        vertical-align: top;\n",
       "    }\n",
       "\n",
       "    .dataframe thead th {\n",
       "        text-align: right;\n",
       "    }\n",
       "</style>\n",
       "<table border=\"1\" class=\"dataframe\">\n",
       "  <thead>\n",
       "    <tr style=\"text-align: right;\">\n",
       "      <th></th>\n",
       "      <th>properties_map_exec</th>\n",
       "      <th>EVENT_ACCEPT</th>\n",
       "      <th>EVENT_BIND</th>\n",
       "      <th>EVENT_CHANGE_PRINCIPAL</th>\n",
       "      <th>EVENT_CLOSE</th>\n",
       "      <th>EVENT_CONNECT</th>\n",
       "      <th>EVENT_CREATE_OBJECT</th>\n",
       "      <th>EVENT_EXECUTE</th>\n",
       "      <th>EVENT_EXIT</th>\n",
       "      <th>EVENT_FCNTL</th>\n",
       "      <th>...</th>\n",
       "      <th>EVENT_READ</th>\n",
       "      <th>EVENT_RECVFROM</th>\n",
       "      <th>EVENT_RECVMSG</th>\n",
       "      <th>EVENT_RENAME</th>\n",
       "      <th>EVENT_SENDMSG</th>\n",
       "      <th>EVENT_SENDTO</th>\n",
       "      <th>EVENT_SIGNAL</th>\n",
       "      <th>EVENT_TRUNCATE</th>\n",
       "      <th>EVENT_UNLINK</th>\n",
       "      <th>EVENT_WRITE</th>\n",
       "    </tr>\n",
       "  </thead>\n",
       "  <tbody>\n",
       "    <tr>\n",
       "      <th>0</th>\n",
       "      <td>bash</td>\n",
       "      <td>0</td>\n",
       "      <td>0</td>\n",
       "      <td>0</td>\n",
       "      <td>2</td>\n",
       "      <td>0</td>\n",
       "      <td>0</td>\n",
       "      <td>1</td>\n",
       "      <td>0</td>\n",
       "      <td>0</td>\n",
       "      <td>...</td>\n",
       "      <td>0</td>\n",
       "      <td>0</td>\n",
       "      <td>0</td>\n",
       "      <td>0</td>\n",
       "      <td>0</td>\n",
       "      <td>0</td>\n",
       "      <td>0</td>\n",
       "      <td>0</td>\n",
       "      <td>0</td>\n",
       "      <td>0</td>\n",
       "    </tr>\n",
       "    <tr>\n",
       "      <th>1</th>\n",
       "      <td>vmstat</td>\n",
       "      <td>0</td>\n",
       "      <td>0</td>\n",
       "      <td>0</td>\n",
       "      <td>10</td>\n",
       "      <td>0</td>\n",
       "      <td>0</td>\n",
       "      <td>0</td>\n",
       "      <td>1</td>\n",
       "      <td>0</td>\n",
       "      <td>...</td>\n",
       "      <td>3</td>\n",
       "      <td>0</td>\n",
       "      <td>0</td>\n",
       "      <td>0</td>\n",
       "      <td>0</td>\n",
       "      <td>0</td>\n",
       "      <td>0</td>\n",
       "      <td>0</td>\n",
       "      <td>0</td>\n",
       "      <td>3</td>\n",
       "    </tr>\n",
       "    <tr>\n",
       "      <th>2</th>\n",
       "      <td>bash</td>\n",
       "      <td>0</td>\n",
       "      <td>0</td>\n",
       "      <td>0</td>\n",
       "      <td>1</td>\n",
       "      <td>0</td>\n",
       "      <td>0</td>\n",
       "      <td>1</td>\n",
       "      <td>0</td>\n",
       "      <td>0</td>\n",
       "      <td>...</td>\n",
       "      <td>0</td>\n",
       "      <td>0</td>\n",
       "      <td>0</td>\n",
       "      <td>0</td>\n",
       "      <td>0</td>\n",
       "      <td>0</td>\n",
       "      <td>0</td>\n",
       "      <td>0</td>\n",
       "      <td>0</td>\n",
       "      <td>0</td>\n",
       "    </tr>\n",
       "    <tr>\n",
       "      <th>3</th>\n",
       "      <td>sleep</td>\n",
       "      <td>0</td>\n",
       "      <td>0</td>\n",
       "      <td>0</td>\n",
       "      <td>4</td>\n",
       "      <td>0</td>\n",
       "      <td>0</td>\n",
       "      <td>0</td>\n",
       "      <td>1</td>\n",
       "      <td>0</td>\n",
       "      <td>...</td>\n",
       "      <td>3</td>\n",
       "      <td>0</td>\n",
       "      <td>0</td>\n",
       "      <td>0</td>\n",
       "      <td>0</td>\n",
       "      <td>0</td>\n",
       "      <td>0</td>\n",
       "      <td>0</td>\n",
       "      <td>0</td>\n",
       "      <td>0</td>\n",
       "    </tr>\n",
       "    <tr>\n",
       "      <th>4</th>\n",
       "      <td>bash</td>\n",
       "      <td>0</td>\n",
       "      <td>0</td>\n",
       "      <td>0</td>\n",
       "      <td>1</td>\n",
       "      <td>0</td>\n",
       "      <td>0</td>\n",
       "      <td>1</td>\n",
       "      <td>0</td>\n",
       "      <td>0</td>\n",
       "      <td>...</td>\n",
       "      <td>0</td>\n",
       "      <td>0</td>\n",
       "      <td>0</td>\n",
       "      <td>0</td>\n",
       "      <td>0</td>\n",
       "      <td>0</td>\n",
       "      <td>0</td>\n",
       "      <td>0</td>\n",
       "      <td>0</td>\n",
       "      <td>0</td>\n",
       "    </tr>\n",
       "  </tbody>\n",
       "</table>\n",
       "<p>5 rows × 30 columns</p>\n",
       "</div>"
      ]
     },
     "execution_count": 7,
     "metadata": {},
     "output_type": "execute_result"
    }
   ],
   "execution_count": 7
  },
  {
   "metadata": {
    "ExecuteTime": {
     "end_time": "2024-06-07T09:03:33.080543Z",
     "start_time": "2024-06-07T09:03:32.441667Z"
    }
   },
   "cell_type": "code",
   "source": [
    "# split data into train and test\n",
    "from sklearn.model_selection import train_test_split\n",
    "\n",
    "X = df.drop(columns=['properties_map_exec'])\n",
    "y = df['properties_map_exec']\n",
    "\n",
    "# convert 'head' to 0 and 'mv' to 1\n",
    "# y = y.apply(lambda x: 0 if x == 'head' else 1)\n",
    "# convert y to one-hot encoding\n",
    "y = pd.get_dummies(y)\n",
    "\n",
    "X_train, X_test, y_train, y_test = train_test_split(X, y, test_size=0.2, random_state=42)\n",
    "\n",
    "print(f'X_train shape: {X_train.shape}')\n",
    "print(f'X_test shape: {X_test.shape}')\n",
    "print(f'y_train shape: {y_train.shape}')\n",
    "print(f'y_test shape: {y_test.shape}')\n",
    "\n",
    "# print first 5 rows of X_train\n",
    "#X_train.head()\n",
    "\n",
    "# print first 5 rows of y_train\n",
    "y_train.head()\n",
    "\n"
   ],
   "id": "54181b54bbaff6e0",
   "outputs": [
    {
     "name": "stdout",
     "output_type": "stream",
     "text": [
      "X_train shape: (345256, 29)\n",
      "X_test shape: (86315, 29)\n",
      "y_train shape: (345256, 77)\n",
      "y_test shape: (86315, 77)\n"
     ]
    },
    {
     "data": {
      "text/plain": [
       "        adjkerntz  alpine  anvil  atrun    awk  basename   bash  bzcat  bzip2  \\\n",
       "254096      False   False  False  False  False     False  False  False  False   \n",
       "99807       False   False  False  False  False     False   True  False  False   \n",
       "236226      False   False  False  False  False     False  False  False  False   \n",
       "191194      False   False  False  False  False     False   True  False  False   \n",
       "117592      False   False  False  False  False     False   True  False  False   \n",
       "\n",
       "          cat  ...    top     tr  trivial-rewrite    tty  unlink  uptime  \\\n",
       "254096  False  ...  False  False            False  False   False   False   \n",
       "99807   False  ...  False  False            False  False   False   False   \n",
       "236226  False  ...  False  False            False  False   False   False   \n",
       "191194  False  ...  False  False            False  False   False   False   \n",
       "117592  False  ...  False  False            False  False   False   False   \n",
       "\n",
       "        vmstat     wc   wget     xz  \n",
       "254096   False  False  False  False  \n",
       "99807    False  False  False  False  \n",
       "236226   False  False  False  False  \n",
       "191194   False  False  False  False  \n",
       "117592   False  False  False  False  \n",
       "\n",
       "[5 rows x 77 columns]"
      ],
      "text/html": [
       "<div>\n",
       "<style scoped>\n",
       "    .dataframe tbody tr th:only-of-type {\n",
       "        vertical-align: middle;\n",
       "    }\n",
       "\n",
       "    .dataframe tbody tr th {\n",
       "        vertical-align: top;\n",
       "    }\n",
       "\n",
       "    .dataframe thead th {\n",
       "        text-align: right;\n",
       "    }\n",
       "</style>\n",
       "<table border=\"1\" class=\"dataframe\">\n",
       "  <thead>\n",
       "    <tr style=\"text-align: right;\">\n",
       "      <th></th>\n",
       "      <th>adjkerntz</th>\n",
       "      <th>alpine</th>\n",
       "      <th>anvil</th>\n",
       "      <th>atrun</th>\n",
       "      <th>awk</th>\n",
       "      <th>basename</th>\n",
       "      <th>bash</th>\n",
       "      <th>bzcat</th>\n",
       "      <th>bzip2</th>\n",
       "      <th>cat</th>\n",
       "      <th>...</th>\n",
       "      <th>top</th>\n",
       "      <th>tr</th>\n",
       "      <th>trivial-rewrite</th>\n",
       "      <th>tty</th>\n",
       "      <th>unlink</th>\n",
       "      <th>uptime</th>\n",
       "      <th>vmstat</th>\n",
       "      <th>wc</th>\n",
       "      <th>wget</th>\n",
       "      <th>xz</th>\n",
       "    </tr>\n",
       "  </thead>\n",
       "  <tbody>\n",
       "    <tr>\n",
       "      <th>254096</th>\n",
       "      <td>False</td>\n",
       "      <td>False</td>\n",
       "      <td>False</td>\n",
       "      <td>False</td>\n",
       "      <td>False</td>\n",
       "      <td>False</td>\n",
       "      <td>False</td>\n",
       "      <td>False</td>\n",
       "      <td>False</td>\n",
       "      <td>False</td>\n",
       "      <td>...</td>\n",
       "      <td>False</td>\n",
       "      <td>False</td>\n",
       "      <td>False</td>\n",
       "      <td>False</td>\n",
       "      <td>False</td>\n",
       "      <td>False</td>\n",
       "      <td>False</td>\n",
       "      <td>False</td>\n",
       "      <td>False</td>\n",
       "      <td>False</td>\n",
       "    </tr>\n",
       "    <tr>\n",
       "      <th>99807</th>\n",
       "      <td>False</td>\n",
       "      <td>False</td>\n",
       "      <td>False</td>\n",
       "      <td>False</td>\n",
       "      <td>False</td>\n",
       "      <td>False</td>\n",
       "      <td>True</td>\n",
       "      <td>False</td>\n",
       "      <td>False</td>\n",
       "      <td>False</td>\n",
       "      <td>...</td>\n",
       "      <td>False</td>\n",
       "      <td>False</td>\n",
       "      <td>False</td>\n",
       "      <td>False</td>\n",
       "      <td>False</td>\n",
       "      <td>False</td>\n",
       "      <td>False</td>\n",
       "      <td>False</td>\n",
       "      <td>False</td>\n",
       "      <td>False</td>\n",
       "    </tr>\n",
       "    <tr>\n",
       "      <th>236226</th>\n",
       "      <td>False</td>\n",
       "      <td>False</td>\n",
       "      <td>False</td>\n",
       "      <td>False</td>\n",
       "      <td>False</td>\n",
       "      <td>False</td>\n",
       "      <td>False</td>\n",
       "      <td>False</td>\n",
       "      <td>False</td>\n",
       "      <td>False</td>\n",
       "      <td>...</td>\n",
       "      <td>False</td>\n",
       "      <td>False</td>\n",
       "      <td>False</td>\n",
       "      <td>False</td>\n",
       "      <td>False</td>\n",
       "      <td>False</td>\n",
       "      <td>False</td>\n",
       "      <td>False</td>\n",
       "      <td>False</td>\n",
       "      <td>False</td>\n",
       "    </tr>\n",
       "    <tr>\n",
       "      <th>191194</th>\n",
       "      <td>False</td>\n",
       "      <td>False</td>\n",
       "      <td>False</td>\n",
       "      <td>False</td>\n",
       "      <td>False</td>\n",
       "      <td>False</td>\n",
       "      <td>True</td>\n",
       "      <td>False</td>\n",
       "      <td>False</td>\n",
       "      <td>False</td>\n",
       "      <td>...</td>\n",
       "      <td>False</td>\n",
       "      <td>False</td>\n",
       "      <td>False</td>\n",
       "      <td>False</td>\n",
       "      <td>False</td>\n",
       "      <td>False</td>\n",
       "      <td>False</td>\n",
       "      <td>False</td>\n",
       "      <td>False</td>\n",
       "      <td>False</td>\n",
       "    </tr>\n",
       "    <tr>\n",
       "      <th>117592</th>\n",
       "      <td>False</td>\n",
       "      <td>False</td>\n",
       "      <td>False</td>\n",
       "      <td>False</td>\n",
       "      <td>False</td>\n",
       "      <td>False</td>\n",
       "      <td>True</td>\n",
       "      <td>False</td>\n",
       "      <td>False</td>\n",
       "      <td>False</td>\n",
       "      <td>...</td>\n",
       "      <td>False</td>\n",
       "      <td>False</td>\n",
       "      <td>False</td>\n",
       "      <td>False</td>\n",
       "      <td>False</td>\n",
       "      <td>False</td>\n",
       "      <td>False</td>\n",
       "      <td>False</td>\n",
       "      <td>False</td>\n",
       "      <td>False</td>\n",
       "    </tr>\n",
       "  </tbody>\n",
       "</table>\n",
       "<p>5 rows × 77 columns</p>\n",
       "</div>"
      ]
     },
     "execution_count": 8,
     "metadata": {},
     "output_type": "execute_result"
    }
   ],
   "execution_count": 8
  },
  {
   "metadata": {
    "ExecuteTime": {
     "end_time": "2024-06-07T09:04:42.204293Z",
     "start_time": "2024-06-07T09:04:42.197593Z"
    }
   },
   "cell_type": "code",
   "source": [
    "# train a classifier\n",
    "\n",
    "#num_classes = len(classes)\n",
    "num_classes = len(y_train.columns)\n",
    "num_features = len(X.columns)\n",
    "# the input shape is a vector of length num_features\n",
    "input_shape = (num_features,)\n",
    "\n",
    "print(f'num_classes: {num_classes}')\n",
    "print(f'num_features: {num_features}')"
   ],
   "id": "3d529c07b4810019",
   "outputs": [
    {
     "name": "stdout",
     "output_type": "stream",
     "text": [
      "num_classes: 77\n",
      "num_features: 29\n"
     ]
    }
   ],
   "execution_count": 9
  },
  {
   "metadata": {
    "ExecuteTime": {
     "end_time": "2024-06-07T09:05:27.837532Z",
     "start_time": "2024-06-07T09:05:27.769411Z"
    }
   },
   "cell_type": "code",
   "source": [
    "model = keras.Sequential([\n",
    "    keras.layers.Input(input_shape),\n",
    "    keras.layers.Dense(64, activation='relu'),\n",
    "    keras.layers.Dropout(.2),\n",
    "    keras.layers.Dense(64, activation='relu'),\n",
    "    keras.layers.Dropout(.2),\n",
    "    keras.layers.Dense(64, activation='relu'),\n",
    "    keras.layers.Dense(num_classes, activation='softmax')\n",
    "])\n",
    "model.summary()"
   ],
   "id": "a5280ec38640a9c3",
   "outputs": [
    {
     "data": {
      "text/plain": [
       "\u001B[1mModel: \"sequential_1\"\u001B[0m\n"
      ],
      "text/html": [
       "<pre style=\"white-space:pre;overflow-x:auto;line-height:normal;font-family:Menlo,'DejaVu Sans Mono',consolas,'Courier New',monospace\"><span style=\"font-weight: bold\">Model: \"sequential_1\"</span>\n",
       "</pre>\n"
      ]
     },
     "metadata": {},
     "output_type": "display_data"
    },
    {
     "data": {
      "text/plain": [
       "┏━━━━━━━━━━━━━━━━━━━━━━━━━━━━━━━━━┳━━━━━━━━━━━━━━━━━━━━━━━━┳━━━━━━━━━━━━━━━┓\n",
       "┃\u001B[1m \u001B[0m\u001B[1mLayer (type)                   \u001B[0m\u001B[1m \u001B[0m┃\u001B[1m \u001B[0m\u001B[1mOutput Shape          \u001B[0m\u001B[1m \u001B[0m┃\u001B[1m \u001B[0m\u001B[1m      Param #\u001B[0m\u001B[1m \u001B[0m┃\n",
       "┡━━━━━━━━━━━━━━━━━━━━━━━━━━━━━━━━━╇━━━━━━━━━━━━━━━━━━━━━━━━╇━━━━━━━━━━━━━━━┩\n",
       "│ dense_4 (\u001B[38;5;33mDense\u001B[0m)                 │ (\u001B[38;5;45mNone\u001B[0m, \u001B[38;5;34m64\u001B[0m)             │         \u001B[38;5;34m1,920\u001B[0m │\n",
       "├─────────────────────────────────┼────────────────────────┼───────────────┤\n",
       "│ dropout_2 (\u001B[38;5;33mDropout\u001B[0m)             │ (\u001B[38;5;45mNone\u001B[0m, \u001B[38;5;34m64\u001B[0m)             │             \u001B[38;5;34m0\u001B[0m │\n",
       "├─────────────────────────────────┼────────────────────────┼───────────────┤\n",
       "│ dense_5 (\u001B[38;5;33mDense\u001B[0m)                 │ (\u001B[38;5;45mNone\u001B[0m, \u001B[38;5;34m64\u001B[0m)             │         \u001B[38;5;34m4,160\u001B[0m │\n",
       "├─────────────────────────────────┼────────────────────────┼───────────────┤\n",
       "│ dropout_3 (\u001B[38;5;33mDropout\u001B[0m)             │ (\u001B[38;5;45mNone\u001B[0m, \u001B[38;5;34m64\u001B[0m)             │             \u001B[38;5;34m0\u001B[0m │\n",
       "├─────────────────────────────────┼────────────────────────┼───────────────┤\n",
       "│ dense_6 (\u001B[38;5;33mDense\u001B[0m)                 │ (\u001B[38;5;45mNone\u001B[0m, \u001B[38;5;34m64\u001B[0m)             │         \u001B[38;5;34m4,160\u001B[0m │\n",
       "├─────────────────────────────────┼────────────────────────┼───────────────┤\n",
       "│ dense_7 (\u001B[38;5;33mDense\u001B[0m)                 │ (\u001B[38;5;45mNone\u001B[0m, \u001B[38;5;34m77\u001B[0m)             │         \u001B[38;5;34m5,005\u001B[0m │\n",
       "└─────────────────────────────────┴────────────────────────┴───────────────┘\n"
      ],
      "text/html": [
       "<pre style=\"white-space:pre;overflow-x:auto;line-height:normal;font-family:Menlo,'DejaVu Sans Mono',consolas,'Courier New',monospace\">┏━━━━━━━━━━━━━━━━━━━━━━━━━━━━━━━━━┳━━━━━━━━━━━━━━━━━━━━━━━━┳━━━━━━━━━━━━━━━┓\n",
       "┃<span style=\"font-weight: bold\"> Layer (type)                    </span>┃<span style=\"font-weight: bold\"> Output Shape           </span>┃<span style=\"font-weight: bold\">       Param # </span>┃\n",
       "┡━━━━━━━━━━━━━━━━━━━━━━━━━━━━━━━━━╇━━━━━━━━━━━━━━━━━━━━━━━━╇━━━━━━━━━━━━━━━┩\n",
       "│ dense_4 (<span style=\"color: #0087ff; text-decoration-color: #0087ff\">Dense</span>)                 │ (<span style=\"color: #00d7ff; text-decoration-color: #00d7ff\">None</span>, <span style=\"color: #00af00; text-decoration-color: #00af00\">64</span>)             │         <span style=\"color: #00af00; text-decoration-color: #00af00\">1,920</span> │\n",
       "├─────────────────────────────────┼────────────────────────┼───────────────┤\n",
       "│ dropout_2 (<span style=\"color: #0087ff; text-decoration-color: #0087ff\">Dropout</span>)             │ (<span style=\"color: #00d7ff; text-decoration-color: #00d7ff\">None</span>, <span style=\"color: #00af00; text-decoration-color: #00af00\">64</span>)             │             <span style=\"color: #00af00; text-decoration-color: #00af00\">0</span> │\n",
       "├─────────────────────────────────┼────────────────────────┼───────────────┤\n",
       "│ dense_5 (<span style=\"color: #0087ff; text-decoration-color: #0087ff\">Dense</span>)                 │ (<span style=\"color: #00d7ff; text-decoration-color: #00d7ff\">None</span>, <span style=\"color: #00af00; text-decoration-color: #00af00\">64</span>)             │         <span style=\"color: #00af00; text-decoration-color: #00af00\">4,160</span> │\n",
       "├─────────────────────────────────┼────────────────────────┼───────────────┤\n",
       "│ dropout_3 (<span style=\"color: #0087ff; text-decoration-color: #0087ff\">Dropout</span>)             │ (<span style=\"color: #00d7ff; text-decoration-color: #00d7ff\">None</span>, <span style=\"color: #00af00; text-decoration-color: #00af00\">64</span>)             │             <span style=\"color: #00af00; text-decoration-color: #00af00\">0</span> │\n",
       "├─────────────────────────────────┼────────────────────────┼───────────────┤\n",
       "│ dense_6 (<span style=\"color: #0087ff; text-decoration-color: #0087ff\">Dense</span>)                 │ (<span style=\"color: #00d7ff; text-decoration-color: #00d7ff\">None</span>, <span style=\"color: #00af00; text-decoration-color: #00af00\">64</span>)             │         <span style=\"color: #00af00; text-decoration-color: #00af00\">4,160</span> │\n",
       "├─────────────────────────────────┼────────────────────────┼───────────────┤\n",
       "│ dense_7 (<span style=\"color: #0087ff; text-decoration-color: #0087ff\">Dense</span>)                 │ (<span style=\"color: #00d7ff; text-decoration-color: #00d7ff\">None</span>, <span style=\"color: #00af00; text-decoration-color: #00af00\">77</span>)             │         <span style=\"color: #00af00; text-decoration-color: #00af00\">5,005</span> │\n",
       "└─────────────────────────────────┴────────────────────────┴───────────────┘\n",
       "</pre>\n"
      ]
     },
     "metadata": {},
     "output_type": "display_data"
    },
    {
     "data": {
      "text/plain": [
       "\u001B[1m Total params: \u001B[0m\u001B[38;5;34m15,245\u001B[0m (59.55 KB)\n"
      ],
      "text/html": [
       "<pre style=\"white-space:pre;overflow-x:auto;line-height:normal;font-family:Menlo,'DejaVu Sans Mono',consolas,'Courier New',monospace\"><span style=\"font-weight: bold\"> Total params: </span><span style=\"color: #00af00; text-decoration-color: #00af00\">15,245</span> (59.55 KB)\n",
       "</pre>\n"
      ]
     },
     "metadata": {},
     "output_type": "display_data"
    },
    {
     "data": {
      "text/plain": [
       "\u001B[1m Trainable params: \u001B[0m\u001B[38;5;34m15,245\u001B[0m (59.55 KB)\n"
      ],
      "text/html": [
       "<pre style=\"white-space:pre;overflow-x:auto;line-height:normal;font-family:Menlo,'DejaVu Sans Mono',consolas,'Courier New',monospace\"><span style=\"font-weight: bold\"> Trainable params: </span><span style=\"color: #00af00; text-decoration-color: #00af00\">15,245</span> (59.55 KB)\n",
       "</pre>\n"
      ]
     },
     "metadata": {},
     "output_type": "display_data"
    },
    {
     "data": {
      "text/plain": [
       "\u001B[1m Non-trainable params: \u001B[0m\u001B[38;5;34m0\u001B[0m (0.00 B)\n"
      ],
      "text/html": [
       "<pre style=\"white-space:pre;overflow-x:auto;line-height:normal;font-family:Menlo,'DejaVu Sans Mono',consolas,'Courier New',monospace\"><span style=\"font-weight: bold\"> Non-trainable params: </span><span style=\"color: #00af00; text-decoration-color: #00af00\">0</span> (0.00 B)\n",
       "</pre>\n"
      ]
     },
     "metadata": {},
     "output_type": "display_data"
    }
   ],
   "execution_count": 11
  },
  {
   "metadata": {
    "ExecuteTime": {
     "end_time": "2024-06-07T09:15:44.858970Z",
     "start_time": "2024-06-07T09:08:23.669522Z"
    }
   },
   "cell_type": "code",
   "source": [
    "model.compile(optimizer='adam',\n",
    "              loss=keras.losses.CategoricalCrossentropy(),\n",
    "              metrics=['categorical_accuracy'])\n",
    "\n",
    "callback = keras.callbacks.EarlyStopping(monitor='loss', patience=5)\n",
    "\n",
    "#history = model.fit(X_train, y_train, epochs=200, validation_split=.2, class_weight=class_weights)\n",
    "history = model.fit(X_train, y_train, epochs=200, validation_split=.2, callbacks=[callback])\n"
   ],
   "id": "3fa037f111079744",
   "outputs": [
    {
     "name": "stdout",
     "output_type": "stream",
     "text": [
      "Epoch 1/200\n",
      "\u001B[1m8632/8632\u001B[0m \u001B[32m━━━━━━━━━━━━━━━━━━━━\u001B[0m\u001B[37m\u001B[0m \u001B[1m34s\u001B[0m 3ms/step - categorical_accuracy: 0.9351 - loss: 0.6926 - val_categorical_accuracy: 0.9429 - val_loss: 0.2054\n",
      "Epoch 2/200\n",
      "\u001B[1m8632/8632\u001B[0m \u001B[32m━━━━━━━━━━━━━━━━━━━━\u001B[0m\u001B[37m\u001B[0m \u001B[1m27s\u001B[0m 3ms/step - categorical_accuracy: 0.9376 - loss: 0.3855 - val_categorical_accuracy: 0.9416 - val_loss: 0.2209\n",
      "Epoch 3/200\n",
      "\u001B[1m8632/8632\u001B[0m \u001B[32m━━━━━━━━━━━━━━━━━━━━\u001B[0m\u001B[37m\u001B[0m \u001B[1m27s\u001B[0m 3ms/step - categorical_accuracy: 0.9387 - loss: 0.4557 - val_categorical_accuracy: 0.9443 - val_loss: 0.2894\n",
      "Epoch 4/200\n",
      "\u001B[1m8632/8632\u001B[0m \u001B[32m━━━━━━━━━━━━━━━━━━━━\u001B[0m\u001B[37m\u001B[0m \u001B[1m28s\u001B[0m 3ms/step - categorical_accuracy: 0.9387 - loss: 0.4379 - val_categorical_accuracy: 0.9438 - val_loss: 0.4020\n",
      "Epoch 5/200\n",
      "\u001B[1m8632/8632\u001B[0m \u001B[32m━━━━━━━━━━━━━━━━━━━━\u001B[0m\u001B[37m\u001B[0m \u001B[1m28s\u001B[0m 3ms/step - categorical_accuracy: 0.9390 - loss: 0.4673 - val_categorical_accuracy: 0.9445 - val_loss: 0.1915\n",
      "Epoch 6/200\n",
      "\u001B[1m8632/8632\u001B[0m \u001B[32m━━━━━━━━━━━━━━━━━━━━\u001B[0m\u001B[37m\u001B[0m \u001B[1m27s\u001B[0m 3ms/step - categorical_accuracy: 0.9396 - loss: 0.8807 - val_categorical_accuracy: 0.9443 - val_loss: 0.4085\n",
      "Epoch 7/200\n",
      "\u001B[1m8632/8632\u001B[0m \u001B[32m━━━━━━━━━━━━━━━━━━━━\u001B[0m\u001B[37m\u001B[0m \u001B[1m27s\u001B[0m 3ms/step - categorical_accuracy: 0.9407 - loss: 0.2292 - val_categorical_accuracy: 0.9426 - val_loss: 0.1857\n",
      "Epoch 8/200\n",
      "\u001B[1m8632/8632\u001B[0m \u001B[32m━━━━━━━━━━━━━━━━━━━━\u001B[0m\u001B[37m\u001B[0m \u001B[1m27s\u001B[0m 3ms/step - categorical_accuracy: 0.9397 - loss: 0.2556 - val_categorical_accuracy: 0.9441 - val_loss: 0.1875\n",
      "Epoch 9/200\n",
      "\u001B[1m8632/8632\u001B[0m \u001B[32m━━━━━━━━━━━━━━━━━━━━\u001B[0m\u001B[37m\u001B[0m \u001B[1m28s\u001B[0m 3ms/step - categorical_accuracy: 0.9400 - loss: 1.0861 - val_categorical_accuracy: 0.9447 - val_loss: 0.1865\n",
      "Epoch 10/200\n",
      "\u001B[1m8632/8632\u001B[0m \u001B[32m━━━━━━━━━━━━━━━━━━━━\u001B[0m\u001B[37m\u001B[0m \u001B[1m27s\u001B[0m 3ms/step - categorical_accuracy: 0.9402 - loss: 0.4197 - val_categorical_accuracy: 0.9444 - val_loss: 0.1902\n",
      "Epoch 11/200\n",
      "\u001B[1m8632/8632\u001B[0m \u001B[32m━━━━━━━━━━━━━━━━━━━━\u001B[0m\u001B[37m\u001B[0m \u001B[1m26s\u001B[0m 3ms/step - categorical_accuracy: 0.9406 - loss: 0.2201 - val_categorical_accuracy: 0.9447 - val_loss: 0.2044\n",
      "Epoch 12/200\n",
      "\u001B[1m8632/8632\u001B[0m \u001B[32m━━━━━━━━━━━━━━━━━━━━\u001B[0m\u001B[37m\u001B[0m \u001B[1m27s\u001B[0m 3ms/step - categorical_accuracy: 0.9394 - loss: 0.4200 - val_categorical_accuracy: 0.9444 - val_loss: 0.2008\n",
      "Epoch 13/200\n",
      "\u001B[1m8632/8632\u001B[0m \u001B[32m━━━━━━━━━━━━━━━━━━━━\u001B[0m\u001B[37m\u001B[0m \u001B[1m28s\u001B[0m 3ms/step - categorical_accuracy: 0.9407 - loss: 1.6743 - val_categorical_accuracy: 0.9444 - val_loss: 0.1900\n",
      "Epoch 14/200\n",
      "\u001B[1m8632/8632\u001B[0m \u001B[32m━━━━━━━━━━━━━━━━━━━━\u001B[0m\u001B[37m\u001B[0m \u001B[1m27s\u001B[0m 3ms/step - categorical_accuracy: 0.9401 - loss: 0.3619 - val_categorical_accuracy: 0.9422 - val_loss: 0.2771\n",
      "Epoch 15/200\n",
      "\u001B[1m8632/8632\u001B[0m \u001B[32m━━━━━━━━━━━━━━━━━━━━\u001B[0m\u001B[37m\u001B[0m \u001B[1m26s\u001B[0m 3ms/step - categorical_accuracy: 0.9399 - loss: 0.3220 - val_categorical_accuracy: 0.9443 - val_loss: 0.6170\n",
      "Epoch 16/200\n",
      "\u001B[1m8632/8632\u001B[0m \u001B[32m━━━━━━━━━━━━━━━━━━━━\u001B[0m\u001B[37m\u001B[0m \u001B[1m27s\u001B[0m 3ms/step - categorical_accuracy: 0.9402 - loss: 0.3303 - val_categorical_accuracy: 0.9440 - val_loss: 0.2052\n"
     ]
    }
   ],
   "execution_count": 13
  },
  {
   "metadata": {
    "ExecuteTime": {
     "end_time": "2024-06-07T09:16:27.362669Z",
     "start_time": "2024-06-07T09:16:27.103762Z"
    }
   },
   "cell_type": "code",
   "source": [
    "def plot_result(item):\n",
    "    plt.plot(history.history[item], label=item)\n",
    "    plt.plot(history.history[\"val_\" + item], label=\"val_\" + item)\n",
    "    plt.xlabel(\"Epochs\")\n",
    "    plt.ylabel(item)\n",
    "    plt.title(\"Train and Validation {} Over Epochs\".format(item), fontsize=14)\n",
    "    plt.legend()\n",
    "    plt.grid()\n",
    "    plt.show()\n",
    "\n",
    "\n",
    "plot_result(\"loss\")\n",
    "plot_result(\"categorical_accuracy\")\n"
   ],
   "id": "60292b99f33a9b4b",
   "outputs": [
    {
     "data": {
      "text/plain": [
       "<Figure size 640x480 with 1 Axes>"
      ],
      "image/png": "[encoded data removed]"
     },
     "metadata": {},
     "output_type": "display_data"
    },
    {
     "data": {
      "text/plain": [
       "<Figure size 640x480 with 1 Axes>"
      ],
      "image/png": "[encoded data removed]"
     },
     "metadata": {},
     "output_type": "display_data"
    }
   ],
   "execution_count": 14
  },
  {
   "metadata": {
    "ExecuteTime": {
     "end_time": "2024-06-07T09:16:46.544890Z",
     "start_time": "2024-06-07T09:16:40.487081Z"
    }
   },
   "cell_type": "code",
   "source": [
    "# predict on test data and evaluate\n",
    "y_pred = model.predict(X_test)\n",
    "y_pred = np.argmax(y_pred, axis=1)\n",
    "y_test = np.argmax(np.array(y_test), axis=1)\n",
    "\n",
    "from sklearn.metrics import classification_report\n",
    "\n",
    "print(classification_report(y_test, y_pred))"
   ],
   "id": "c63e13118b5a1b51",
   "outputs": [
    {
     "name": "stdout",
     "output_type": "stream",
     "text": [
      "\u001B[1m2698/2698\u001B[0m \u001B[32m━━━━━━━━━━━━━━━━━━━━\u001B[0m\u001B[37m\u001B[0m \u001B[1m5s\u001B[0m 2ms/step\n",
      "              precision    recall  f1-score   support\n",
      "\n",
      "           0       0.00      0.00      0.00        28\n",
      "           1       1.00      0.46      0.63       213\n",
      "           2       1.00      0.92      0.96       171\n",
      "           3       1.00      1.00      1.00       623\n",
      "           4       1.00      1.00      1.00         8\n",
      "           5       0.00      0.00      0.00         2\n",
      "           6       0.95      0.97      0.96     32085\n",
      "           7       0.00      0.00      0.00         5\n",
      "           8       0.00      0.00      0.00         1\n",
      "           9       0.93      0.93      0.93        71\n",
      "          10       0.00      0.00      0.00         3\n",
      "          11       1.00      1.00      1.00       213\n",
      "          12       0.90      0.82      0.86        11\n",
      "          13       1.00      1.00      1.00        72\n",
      "          14       1.00      1.00      1.00      2018\n",
      "          15       1.00      1.00      1.00      3059\n",
      "          16       1.00      1.00      1.00       301\n",
      "          17       0.67      1.00      0.80         2\n",
      "          18       0.00      0.00      0.00        23\n",
      "          19       1.00      0.97      0.99        36\n",
      "          20       0.00      0.00      0.00         7\n",
      "          21       0.00      0.00      0.00         7\n",
      "          22       1.00      1.00      1.00        55\n",
      "          23       1.00      1.00      1.00       224\n",
      "          24       0.47      0.62      0.53        13\n",
      "          25       1.00      1.00      1.00      3039\n",
      "          26       0.69      1.00      0.82        25\n",
      "          27       0.96      0.61      0.75      3870\n",
      "          28       1.00      1.00      1.00       905\n",
      "          29       0.00      0.00      0.00         4\n",
      "          30       1.00      1.00      1.00         3\n",
      "          31       0.00      0.00      0.00         4\n",
      "          32       0.67      1.00      0.80         2\n",
      "          33       1.00      0.99      1.00       544\n",
      "          34       0.00      0.00      0.00         7\n",
      "          35       1.00      1.00      1.00        12\n",
      "          36       1.00      1.00      1.00      3104\n",
      "          37       1.00      0.33      0.50         3\n",
      "          38       1.00      0.92      0.96        12\n",
      "          39       0.00      0.00      0.00      1767\n",
      "          40       1.00      1.00      1.00        42\n",
      "          41       0.78      1.00      0.88        14\n",
      "          42       1.00      1.00      1.00      1663\n",
      "          43       1.00      1.00      1.00         2\n",
      "          44       1.00      1.00      1.00         1\n",
      "          45       1.00      1.00      1.00      2160\n",
      "          46       0.98      1.00      0.99        85\n",
      "          47       1.00      0.96      0.98        52\n",
      "          48       0.00      0.00      0.00         1\n",
      "          49       1.00      1.00      1.00        33\n",
      "          50       0.93      0.82      0.87        33\n",
      "          51       1.00      0.95      0.97       257\n",
      "          52       0.00      0.00      0.00         9\n",
      "          53       0.68      0.99      0.81       146\n",
      "          54       0.99      1.00      1.00       246\n",
      "          55       1.00      0.52      0.68        81\n",
      "          56       1.00      1.00      1.00        15\n",
      "          58       0.50      0.50      0.50         2\n",
      "          59       0.98      0.75      0.85        68\n",
      "          60       0.62      0.92      0.74      4809\n",
      "          61       0.99      1.00      1.00     12328\n",
      "          62       1.00      0.99      0.99       350\n",
      "          63       0.00      0.00      0.00         3\n",
      "          64       1.00      1.00      1.00      1181\n",
      "          65       1.00      1.00      1.00        17\n",
      "          66       1.00      1.00      1.00       291\n",
      "          67       1.00      1.00      1.00      3087\n",
      "          68       0.00      0.00      0.00         1\n",
      "          69       0.92      0.99      0.95       224\n",
      "          70       0.00      0.00      0.00         2\n",
      "          71       0.94      1.00      0.97       290\n",
      "          72       0.82      1.00      0.90        32\n",
      "          73       1.00      1.00      1.00      6175\n",
      "          74       0.88      0.91      0.89        23\n",
      "          75       1.00      0.97      0.99        39\n",
      "          76       0.00      0.00      0.00         1\n",
      "\n",
      "    accuracy                           0.94     86315\n",
      "   macro avg       0.71      0.71      0.70     86315\n",
      "weighted avg       0.93      0.94      0.93     86315\n",
      "\n"
     ]
    },
    {
     "name": "stderr",
     "output_type": "stream",
     "text": [
      "/home/jrosendahl/.virtualenvs/models/lib/python3.12/site-packages/sklearn/metrics/_classification.py:1517: UndefinedMetricWarning: Precision is ill-defined and being set to 0.0 in labels with no predicted samples. Use `zero_division` parameter to control this behavior.\n",
      "  _warn_prf(average, modifier, f\"{metric.capitalize()} is\", len(result))\n",
      "/home/jrosendahl/.virtualenvs/models/lib/python3.12/site-packages/sklearn/metrics/_classification.py:1517: UndefinedMetricWarning: Precision is ill-defined and being set to 0.0 in labels with no predicted samples. Use `zero_division` parameter to control this behavior.\n",
      "  _warn_prf(average, modifier, f\"{metric.capitalize()} is\", len(result))\n",
      "/home/jrosendahl/.virtualenvs/models/lib/python3.12/site-packages/sklearn/metrics/_classification.py:1517: UndefinedMetricWarning: Precision is ill-defined and being set to 0.0 in labels with no predicted samples. Use `zero_division` parameter to control this behavior.\n",
      "  _warn_prf(average, modifier, f\"{metric.capitalize()} is\", len(result))\n"
     ]
    }
   ],
   "execution_count": 15
  },
  {
   "metadata": {
    "ExecuteTime": {
     "end_time": "2024-06-07T09:23:46.701669Z",
     "start_time": "2024-06-07T09:23:46.647747Z"
    }
   },
   "cell_type": "code",
   "source": [
    "# save model\n",
    "model.save('model_saves/ff_event_type_counts.keras')"
   ],
   "id": "db9d52d6a45eb9b9",
   "outputs": [],
   "execution_count": 17
  },
  {
   "metadata": {
    "ExecuteTime": {
     "end_time": "2024-06-05T15:22:26.493254Z",
     "start_time": "2024-06-05T15:22:26.488191Z"
    }
   },
   "cell_type": "code",
   "source": [
    "# destroy cursor and connection\n",
    "cur.close()\n",
    "conn.close()"
   ],
   "id": "f0c052bf310d1678",
   "outputs": [],
   "execution_count": 140
  }
 ],
 "metadata": {
  "kernelspec": {
   "display_name": "Python 3",
   "language": "python",
   "name": "python3"
  },
  "language_info": {
   "codemirror_mode": {
    "name": "ipython",
    "version": 2
   },
   "file_extension": ".py",
   "mimetype": "text/x-python",
   "name": "python",
   "nbconvert_exporter": "python",
   "pygments_lexer": "ipython2",
   "version": "2.7.6"
  }
 },
 "nbformat": 4,
 "nbformat_minor": 5
}
