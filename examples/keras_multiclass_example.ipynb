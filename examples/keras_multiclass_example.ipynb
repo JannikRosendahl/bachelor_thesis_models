{
 "cells": [
  {
   "metadata": {},
   "cell_type": "markdown",
   "source": "https://keras.io/examples/nlp/multi_label_classification/",
   "id": "891ea7401f2e6832"
  },
  {
   "cell_type": "code",
   "id": "initial_id",
   "metadata": {
    "collapsed": true,
    "ExecuteTime": {
     "end_time": "2024-06-04T11:55:04.776936Z",
     "start_time": "2024-06-04T11:55:04.774247Z"
    }
   },
   "source": [
    "from tensorflow.keras import layers\n",
    "from tensorflow import keras\n",
    "import tensorflow as tf\n",
    "\n",
    "from sklearn.model_selection import train_test_split\n",
    "from ast import literal_eval\n",
    "\n",
    "import matplotlib.pyplot as plt\n",
    "import pandas as pd\n",
    "import numpy as np"
   ],
   "outputs": [],
   "execution_count": 20
  },
  {
   "metadata": {
    "ExecuteTime": {
     "end_time": "2024-06-04T11:55:09.608630Z",
     "start_time": "2024-06-04T11:55:06.636522Z"
    }
   },
   "cell_type": "code",
   "source": [
    "arxiv_data = pd.read_csv(\n",
    "    \"https://github.com/soumik12345/multi-label-text-classification/releases/download/v0.2/arxiv_data.csv\"\n",
    ")\n",
    "arxiv_data.head()"
   ],
   "id": "11e7752b9d2387f4",
   "outputs": [
    {
     "data": {
      "text/plain": [
       "                                              titles  \\\n",
       "0  Survey on Semantic Stereo Matching / Semantic ...   \n",
       "1  FUTURE-AI: Guiding Principles and Consensus Re...   \n",
       "2  Enforcing Mutual Consistency of Hard Regions f...   \n",
       "3  Parameter Decoupling Strategy for Semi-supervi...   \n",
       "4  Background-Foreground Segmentation for Interio...   \n",
       "\n",
       "                                           summaries  \\\n",
       "0  Stereo matching is one of the widely used tech...   \n",
       "1  The recent advancements in artificial intellig...   \n",
       "2  In this paper, we proposed a novel mutual cons...   \n",
       "3  Consistency training has proven to be an advan...   \n",
       "4  To ensure safety in automated driving, the cor...   \n",
       "\n",
       "                         terms  \n",
       "0           ['cs.CV', 'cs.LG']  \n",
       "1  ['cs.CV', 'cs.AI', 'cs.LG']  \n",
       "2           ['cs.CV', 'cs.AI']  \n",
       "3                    ['cs.CV']  \n",
       "4           ['cs.CV', 'cs.LG']  "
      ],
      "text/html": [
       "<div>\n",
       "<style scoped>\n",
       "    .dataframe tbody tr th:only-of-type {\n",
       "        vertical-align: middle;\n",
       "    }\n",
       "\n",
       "    .dataframe tbody tr th {\n",
       "        vertical-align: top;\n",
       "    }\n",
       "\n",
       "    .dataframe thead th {\n",
       "        text-align: right;\n",
       "    }\n",
       "</style>\n",
       "<table border=\"1\" class=\"dataframe\">\n",
       "  <thead>\n",
       "    <tr style=\"text-align: right;\">\n",
       "      <th></th>\n",
       "      <th>titles</th>\n",
       "      <th>summaries</th>\n",
       "      <th>terms</th>\n",
       "    </tr>\n",
       "  </thead>\n",
       "  <tbody>\n",
       "    <tr>\n",
       "      <th>0</th>\n",
       "      <td>Survey on Semantic Stereo Matching / Semantic ...</td>\n",
       "      <td>Stereo matching is one of the widely used tech...</td>\n",
       "      <td>['cs.CV', 'cs.LG']</td>\n",
       "    </tr>\n",
       "    <tr>\n",
       "      <th>1</th>\n",
       "      <td>FUTURE-AI: Guiding Principles and Consensus Re...</td>\n",
       "      <td>The recent advancements in artificial intellig...</td>\n",
       "      <td>['cs.CV', 'cs.AI', 'cs.LG']</td>\n",
       "    </tr>\n",
       "    <tr>\n",
       "      <th>2</th>\n",
       "      <td>Enforcing Mutual Consistency of Hard Regions f...</td>\n",
       "      <td>In this paper, we proposed a novel mutual cons...</td>\n",
       "      <td>['cs.CV', 'cs.AI']</td>\n",
       "    </tr>\n",
       "    <tr>\n",
       "      <th>3</th>\n",
       "      <td>Parameter Decoupling Strategy for Semi-supervi...</td>\n",
       "      <td>Consistency training has proven to be an advan...</td>\n",
       "      <td>['cs.CV']</td>\n",
       "    </tr>\n",
       "    <tr>\n",
       "      <th>4</th>\n",
       "      <td>Background-Foreground Segmentation for Interio...</td>\n",
       "      <td>To ensure safety in automated driving, the cor...</td>\n",
       "      <td>['cs.CV', 'cs.LG']</td>\n",
       "    </tr>\n",
       "  </tbody>\n",
       "</table>\n",
       "</div>"
      ]
     },
     "execution_count": 21,
     "metadata": {},
     "output_type": "execute_result"
    }
   ],
   "execution_count": 21
  },
  {
   "metadata": {
    "ExecuteTime": {
     "end_time": "2024-06-04T11:55:10.484863Z",
     "start_time": "2024-06-04T11:55:10.476388Z"
    }
   },
   "cell_type": "code",
   "source": [
    "print(f\"There are {len(arxiv_data)} rows in the dataset.\")\n",
    "total_duplicate_titles = sum(arxiv_data[\"titles\"].duplicated())\n",
    "print(f\"There are {total_duplicate_titles} duplicate titles.\")"
   ],
   "id": "684baa943ef98c6",
   "outputs": [
    {
     "name": "stdout",
     "output_type": "stream",
     "text": [
      "There are 51774 rows in the dataset.\n",
      "There are 12802 duplicate titles.\n"
     ]
    }
   ],
   "execution_count": 22
  },
  {
   "metadata": {
    "ExecuteTime": {
     "end_time": "2024-06-04T11:55:11.907396Z",
     "start_time": "2024-06-04T11:55:11.895695Z"
    }
   },
   "cell_type": "code",
   "source": [
    "arxiv_data = arxiv_data[~arxiv_data[\"titles\"].duplicated()]\n",
    "print(f\"There are {len(arxiv_data)} rows in the deduplicated dataset.\")\n",
    "\n",
    "# There are some terms with occurrence as low as 1.\n",
    "print(sum(arxiv_data[\"terms\"].value_counts() == 1))\n",
    "\n",
    "# How many unique terms?\n",
    "print(arxiv_data[\"terms\"].nunique())"
   ],
   "id": "745feceb487dc779",
   "outputs": [
    {
     "name": "stdout",
     "output_type": "stream",
     "text": [
      "There are 38972 rows in the deduplicated dataset.\n",
      "2321\n",
      "3157\n"
     ]
    }
   ],
   "execution_count": 23
  },
  {
   "metadata": {
    "ExecuteTime": {
     "end_time": "2024-06-04T11:55:14.498958Z",
     "start_time": "2024-06-04T11:55:14.457237Z"
    }
   },
   "cell_type": "code",
   "source": [
    "# Filtering the rare terms.\n",
    "arxiv_data_filtered = arxiv_data.groupby(\"terms\").filter(lambda x: len(x) > 1)\n",
    "arxiv_data_filtered.shape"
   ],
   "id": "203f007fc3086544",
   "outputs": [
    {
     "data": {
      "text/plain": [
       "(36651, 3)"
      ]
     },
     "execution_count": 24,
     "metadata": {},
     "output_type": "execute_result"
    }
   ],
   "execution_count": 24
  },
  {
   "metadata": {
    "ExecuteTime": {
     "end_time": "2024-06-04T11:55:16.439123Z",
     "start_time": "2024-06-04T11:55:16.250422Z"
    }
   },
   "cell_type": "code",
   "source": [
    "arxiv_data_filtered[\"terms\"] = arxiv_data_filtered[\"terms\"].apply(\n",
    "    lambda x: literal_eval(x)\n",
    ")\n",
    "arxiv_data_filtered[\"terms\"].values[:5]"
   ],
   "id": "43adb85741c701d6",
   "outputs": [
    {
     "data": {
      "text/plain": [
       "array([list(['cs.CV', 'cs.LG']), list(['cs.CV', 'cs.AI', 'cs.LG']),\n",
       "       list(['cs.CV', 'cs.AI']), list(['cs.CV']),\n",
       "       list(['cs.CV', 'cs.LG'])], dtype=object)"
      ]
     },
     "execution_count": 25,
     "metadata": {},
     "output_type": "execute_result"
    }
   ],
   "execution_count": 25
  },
  {
   "metadata": {
    "ExecuteTime": {
     "end_time": "2024-06-04T11:55:19.008012Z",
     "start_time": "2024-06-04T11:55:18.961112Z"
    }
   },
   "cell_type": "code",
   "source": [
    "test_split = 0.1\n",
    "\n",
    "# Initial train and test split.\n",
    "train_df, test_df = train_test_split(\n",
    "    arxiv_data_filtered,\n",
    "    test_size=test_split,\n",
    "    stratify=arxiv_data_filtered[\"terms\"].values,\n",
    ")\n",
    "\n",
    "# Splitting the test set further into validation\n",
    "# and new test sets.\n",
    "val_df = test_df.sample(frac=0.5)\n",
    "test_df.drop(val_df.index, inplace=True)\n",
    "\n",
    "print(f\"Number of rows in training set: {len(train_df)}\")\n",
    "print(f\"Number of rows in validation set: {len(val_df)}\")\n",
    "print(f\"Number of rows in test set: {len(test_df)}\")"
   ],
   "id": "46a765af0ca6ccd0",
   "outputs": [
    {
     "name": "stdout",
     "output_type": "stream",
     "text": [
      "Number of rows in training set: 32985\n",
      "Number of rows in validation set: 1833\n",
      "Number of rows in test set: 1833\n"
     ]
    }
   ],
   "execution_count": 26
  },
  {
   "metadata": {
    "ExecuteTime": {
     "end_time": "2024-06-04T11:55:21.157154Z",
     "start_time": "2024-06-04T11:55:21.058679Z"
    }
   },
   "cell_type": "code",
   "source": [
    "terms = tf.ragged.constant(train_df[\"terms\"].values)\n",
    "lookup = tf.keras.layers.StringLookup(output_mode=\"multi_hot\")\n",
    "lookup.adapt(terms)\n",
    "vocab = lookup.get_vocabulary()\n",
    "\n",
    "\n",
    "def invert_multi_hot(encoded_labels):\n",
    "    \"\"\"Reverse a single multi-hot encoded label to a tuple of vocab terms.\"\"\"\n",
    "    hot_indices = np.argwhere(encoded_labels == 1.0)[..., 0]\n",
    "    return np.take(vocab, hot_indices)\n",
    "\n",
    "\n",
    "print(\"Vocabulary:\\n\")\n",
    "print(vocab)"
   ],
   "id": "1cf5d40ea351b843",
   "outputs": [
    {
     "name": "stdout",
     "output_type": "stream",
     "text": [
      "Vocabulary:\n",
      "\n",
      "['[UNK]', 'cs.CV', 'cs.LG', 'stat.ML', 'cs.AI', 'eess.IV', 'cs.RO', 'cs.CL', 'cs.NE', 'cs.CR', 'math.OC', 'eess.SP', 'cs.GR', 'cs.SI', 'cs.MM', 'cs.SY', 'cs.IR', 'cs.MA', 'eess.SY', 'cs.HC', 'math.IT', 'cs.IT', 'cs.DC', 'cs.CY', 'stat.AP', 'stat.TH', 'math.ST', 'stat.ME', 'eess.AS', 'cs.SD', 'q-bio.QM', 'q-bio.NC', 'cs.DS', 'cs.GT', 'cs.CG', 'cs.NI', 'cs.SE', 'I.2.6', 'stat.CO', 'math.NA', 'cs.NA', 'physics.chem-ph', 'cs.DB', 'q-bio.BM', 'cs.LO', 'cond-mat.dis-nn', '68T45', 'math.PR', 'cs.PL', 'physics.comp-ph', 'cs.CE', 'cs.AR', 'I.2.10', 'q-fin.ST', 'cond-mat.stat-mech', 'math.DS', '68T05', 'quant-ph', 'cs.CC', 'I.4.6', 'physics.data-an', 'physics.ao-ph', 'physics.soc-ph', 'cs.DM', 'econ.EM', 'q-bio.GN', 'physics.med-ph', 'astro-ph.IM', 'I.4.8', 'math.AT', 'cs.PF', 'I.4', 'q-fin.TR', 'cs.FL', 'I.5.4', 'I.2', '68U10', 'physics.geo-ph', 'hep-ex', '68T10', 'physics.optics', 'cond-mat.mtrl-sci', 'q-fin.CP', 'physics.flu-dyn', 'math.AP', 'I.4; I.5', 'I.4.9', 'I.2.6; I.2.8', '68T01', '65D19', 'nlin.CD', 'math.CO', 'cs.MS', 'I.2.6; I.5.1', 'I.2.10; I.4; I.5', 'I.2.0; I.2.6', '68T07', 'q-fin.GN', 'cs.SC', 'cs.ET', 'K.3.2', 'I.2.8', '68U01', '68T30', 'q-fin.EC', 'q-bio.MN', 'econ.GN', 'I.4.9; I.5.4', 'I.4.5', 'I.2; I.5', 'I.2; I.4; I.5', 'I.2.6; I.2.7', 'I.2.10; I.4.8', '68T99', '68Q32', '68', '62H30', 'q-fin.RM', 'q-fin.PM', 'q-bio.TO', 'q-bio.OT', 'physics.bio-ph', 'nlin.AO', 'math.LO', 'math.FA', 'hep-ph', 'cond-mat.soft', 'I.4.6; I.4.8', 'I.4.4', 'I.4.3', 'I.4.0', 'I.2; J.2', 'I.2; I.2.6; I.2.7', 'I.2.7', 'I.2.6; I.5.4', 'I.2.6; I.2.9', 'I.2.6; I.2.7; H.3.1; H.3.3', 'I.2.6; I.2.10', 'I.2.6, I.5.4', 'I.2.1; J.3', 'I.2.10; I.5.1; I.4.8', 'I.2.10; I.4.8; I.5.4', 'I.2.10; I.2.6', 'I.2.1', 'H.3.1; I.2.6; I.2.7', 'H.3.1; H.3.3; I.2.6; I.2.7', 'G.3', 'F.2.2; I.2.7', 'E.5; E.4; E.2; H.1.1; F.1.1; F.1.3', '68Txx', '62H99', '62H35', '14J60 (Primary) 14F05, 14J26 (Secondary)']\n"
     ]
    }
   ],
   "execution_count": 27
  },
  {
   "metadata": {
    "ExecuteTime": {
     "end_time": "2024-06-04T11:55:23.380094Z",
     "start_time": "2024-06-04T11:55:23.375068Z"
    }
   },
   "cell_type": "code",
   "source": [
    "sample_label = train_df[\"terms\"].iloc[0]\n",
    "print(f\"Original label: {sample_label}\")\n",
    "\n",
    "label_binarized = lookup([sample_label])\n",
    "print(f\"Label-binarized representation: {label_binarized}\")"
   ],
   "id": "82ed9cbae2cf9d93",
   "outputs": [
    {
     "name": "stdout",
     "output_type": "stream",
     "text": [
      "Original label: ['cs.CV', 'q-bio.QM']\n",
      "Label-binarized representation: [[0 1 0 0 0 0 0 0 0 0 0 0 0 0 0 0 0 0 0 0 0 0 0 0 0 0 0 0 0 0 1 0 0 0 0 0\n",
      "  0 0 0 0 0 0 0 0 0 0 0 0 0 0 0 0 0 0 0 0 0 0 0 0 0 0 0 0 0 0 0 0 0 0 0 0\n",
      "  0 0 0 0 0 0 0 0 0 0 0 0 0 0 0 0 0 0 0 0 0 0 0 0 0 0 0 0 0 0 0 0 0 0 0 0\n",
      "  0 0 0 0 0 0 0 0 0 0 0 0 0 0 0 0 0 0 0 0 0 0 0 0 0 0 0 0 0 0 0 0 0 0 0 0\n",
      "  0 0 0 0 0 0 0 0 0]]\n"
     ]
    }
   ],
   "execution_count": 28
  },
  {
   "metadata": {
    "ExecuteTime": {
     "end_time": "2024-06-04T11:55:27.304096Z",
     "start_time": "2024-06-04T11:55:27.154689Z"
    }
   },
   "cell_type": "code",
   "source": "train_df[\"summaries\"].apply(lambda x: len(x.split(\" \"))).describe()",
   "id": "740674c3fef5c1ee",
   "outputs": [
    {
     "data": {
      "text/plain": [
       "count    32985.000000\n",
       "mean       156.528937\n",
       "std         41.458429\n",
       "min          5.000000\n",
       "25%        128.000000\n",
       "50%        155.000000\n",
       "75%        183.000000\n",
       "max        462.000000\n",
       "Name: summaries, dtype: float64"
      ]
     },
     "execution_count": 29,
     "metadata": {},
     "output_type": "execute_result"
    }
   ],
   "execution_count": 29
  },
  {
   "metadata": {
    "ExecuteTime": {
     "end_time": "2024-06-04T11:55:29.773307Z",
     "start_time": "2024-06-04T11:55:29.770112Z"
    }
   },
   "cell_type": "code",
   "source": [
    "max_seqlen = 150\n",
    "batch_size = 128\n",
    "padding_token = \"<pad>\"\n",
    "auto = tf.data.AUTOTUNE\n",
    "\n",
    "\n",
    "def make_dataset(dataframe, is_train=True):\n",
    "    labels = tf.ragged.constant(dataframe[\"terms\"].values)\n",
    "    label_binarized = lookup(labels).numpy()\n",
    "    dataset = tf.data.Dataset.from_tensor_slices(\n",
    "        (dataframe[\"summaries\"].values, label_binarized)\n",
    "    )\n",
    "    dataset = dataset.shuffle(batch_size * 10) if is_train else dataset\n",
    "    return dataset.batch(batch_size)"
   ],
   "id": "d1f05bfc3eb9c3d1",
   "outputs": [],
   "execution_count": 30
  },
  {
   "metadata": {
    "ExecuteTime": {
     "end_time": "2024-06-04T11:55:32.294257Z",
     "start_time": "2024-06-04T11:55:32.067993Z"
    }
   },
   "cell_type": "code",
   "source": [
    "train_dataset = make_dataset(train_df, is_train=True)\n",
    "validation_dataset = make_dataset(val_df, is_train=False)\n",
    "test_dataset = make_dataset(test_df, is_train=False)"
   ],
   "id": "f0c8e1f44981349",
   "outputs": [],
   "execution_count": 31
  },
  {
   "metadata": {
    "ExecuteTime": {
     "end_time": "2024-06-04T11:55:34.268055Z",
     "start_time": "2024-06-04T11:55:34.218316Z"
    }
   },
   "cell_type": "code",
   "source": [
    "text_batch, label_batch = next(iter(train_dataset))\n",
    "\n",
    "for i, text in enumerate(text_batch[:5]):\n",
    "    label = label_batch[i].numpy()[None, ...]\n",
    "    print(f\"Abstract: {text}\")\n",
    "    print(f\"Label(s): {invert_multi_hot(label[0])}\")\n",
    "    print(\" \")"
   ],
   "id": "a65029903f3a475d",
   "outputs": [
    {
     "name": "stdout",
     "output_type": "stream",
     "text": [
      "Abstract: b'Deep neural networks have been successfully applied to problems such as image\\nsegmentation, image super-resolution, coloration and image inpainting. In this\\nwork we propose the use of convolutional neural networks (CNN) for image\\ninpainting of large regions in high-resolution textures. Due to limited\\ncomputational resources processing high-resolution images with neural networks\\nis still an open problem. Existing methods separate inpainting of global\\nstructure and the transfer of details, which leads to blurry results and loss\\nof global coherence in the detail transfer step. Based on advances in texture\\nsynthesis using CNNs we propose patch-based image inpainting by a CNN that is\\nable to optimize for global as well as detail texture statistics. Our method is\\ncapable of filling large inpainting regions, oftentimes exceeding the quality\\nof comparable methods for high-resolution images. For reference patch look-up\\nwe propose to use the same summary statistics that are used in the inpainting\\nprocess.'\n",
      "Label(s): ['cs.CV']\n",
      " \n",
      "Abstract: b'How can neural networks trained by contrastive learning extract features from\\nthe unlabeled data? Why does contrastive learning usually need much stronger\\ndata augmentations than supervised learning to ensure good representations?\\nThese questions involve both the optimization and statistical aspects of deep\\nlearning, but can hardly be answered by analyzing supervised learning, where\\nthe target functions are the highest pursuit. Indeed, in self-supervised\\nlearning, it is inevitable to relate to the optimization/generalization of\\nneural networks to how they can encode the latent structures in the data, which\\nwe refer to as the feature learning process.\\n  In this work, we formally study how contrastive learning learns the feature\\nrepresentations for neural networks by analyzing its feature learning process.\\nWe consider the case where our data are comprised of two types of features: the\\nmore semantically aligned sparse features which we want to learn from, and the\\nother dense features we want to avoid. Theoretically, we prove that contrastive\\nlearning using $\\\\mathbf{ReLU}$ networks provably learns the desired sparse\\nfeatures if proper augmentations are adopted. We present an underlying\\nprinciple called $\\\\textbf{feature decoupling}$ to explain the effects of\\naugmentations, where we theoretically characterize how augmentations can reduce\\nthe correlations of dense features between positive samples while keeping the\\ncorrelations of sparse features intact, thereby forcing the neural networks to\\nlearn from the self-supervision of sparse features. Empirically, we verified\\nthat the feature decoupling principle matches the underlying mechanism of\\ncontrastive learning in practice.'\n",
      "Label(s): ['cs.CV' 'cs.LG' 'stat.ML']\n",
      " \n",
      "Abstract: b'Efficiently modeling spatial-temporal information in videos is crucial for\\naction recognition. To achieve this goal, state-of-the-art methods typically\\nemploy the convolution operator and the dense interaction modules such as\\nnon-local blocks. However, these methods cannot accurately fit the diverse\\nevents in videos. On the one hand, the adopted convolutions are with fixed\\nscales, thus struggling with events of various scales. On the other hand, the\\ndense interaction modeling paradigm only achieves sub-optimal performance as\\naction-irrelevant parts bring additional noises for the final prediction. In\\nthis paper, we propose a unified action recognition framework to investigate\\nthe dynamic nature of video content by introducing the following designs.\\nFirst, when extracting local cues, we generate the spatial-temporal kernels of\\ndynamic-scale to adaptively fit the diverse events. Second, to accurately\\naggregate these cues into a global video representation, we propose to mine the\\ninteractions only among a few selected foreground objects by a Transformer,\\nwhich yields a sparse paradigm. We call the proposed framework as Event\\nAdaptive Network (EAN) because both key designs are adaptive to the input video\\ncontent. To exploit the short-term motions within local segments, we propose a\\nnovel and efficient Latent Motion Code (LMC) module, further improving the\\nperformance of the framework. Extensive experiments on several large-scale\\nvideo datasets, e.g., Something-to-Something V1&V2, Kinetics, and Diving48,\\nverify that our models achieve state-of-the-art or competitive performances at\\nlow FLOPs. Codes are available at:\\nhttps://github.com/tianyuan168326/EAN-Pytorch.'\n",
      "Label(s): ['cs.CV']\n",
      " \n",
      "Abstract: b'Clinical notes contain a large amount of clinically valuable information that\\nis ignored in many clinical decision support systems due to the difficulty that\\ncomes with mining that information. Recent work has found success leveraging\\ndeep learning models for the prediction of clinical outcomes using clinical\\nnotes. However, these models fail to provide clinically relevant and\\ninterpretable information that clinicians can utilize for informed clinical\\ncare. In this work, we augment a popular convolutional model with an attention\\nmechanism and apply it to unstructured clinical notes for the prediction of ICU\\nreadmission and mortality. We find that the addition of the attention mechanism\\nleads to competitive performance while allowing for the straightforward\\ninterpretation of predictions. We develop clear visualizations to present\\nimportant spans of text for both individual predictions and high-risk cohorts.\\nWe then conduct a qualitative analysis and demonstrate that our model is\\nconsistently attending to clinically meaningful portions of the narrative for\\nall of the outcomes that we explore.'\n",
      "Label(s): ['cs.LG' 'stat.ML']\n",
      " \n",
      "Abstract: b'We present a learning model that makes full use of boundary information for\\nsalient object segmentation. Specifically, we come up with a novel loss\\nfunction, i.e., Contour Loss, which leverages object contours to guide models\\nto perceive salient object boundaries. Such a boundary-aware network can learn\\nboundary-wise distinctions between salient objects and background, hence\\neffectively facilitating the saliency detection. Yet the Contour Loss\\nemphasizes on the local saliency. We further propose the hierarchical global\\nattention module (HGAM), which forces the model hierarchically attend to global\\ncontexts, thus captures the global visual saliency. Comprehensive experiments\\non six benchmark datasets show that our method achieves superior performance\\nover state-of-the-art ones. Moreover, our model has a real-time speed of 26 fps\\non a TITAN X GPU.'\n",
      "Label(s): ['cs.CV' '65D19']\n",
      " \n"
     ]
    }
   ],
   "execution_count": 32
  },
  {
   "metadata": {
    "ExecuteTime": {
     "end_time": "2024-06-04T11:55:38.290421Z",
     "start_time": "2024-06-04T11:55:37.714326Z"
    }
   },
   "cell_type": "code",
   "source": [
    "# Source: https://stackoverflow.com/a/18937309/7636462\n",
    "vocabulary = set()\n",
    "train_df[\"summaries\"].str.lower().str.split().apply(vocabulary.update)\n",
    "vocabulary_size = len(vocabulary)\n",
    "print(vocabulary_size)"
   ],
   "id": "668cf1055e2437c8",
   "outputs": [
    {
     "name": "stdout",
     "output_type": "stream",
     "text": [
      "153148\n"
     ]
    }
   ],
   "execution_count": 33
  },
  {
   "metadata": {
    "ExecuteTime": {
     "end_time": "2024-06-04T11:56:03.369577Z",
     "start_time": "2024-06-04T11:55:40.820169Z"
    }
   },
   "cell_type": "code",
   "source": [
    "print(f'Vocabulary size: {vocabulary_size}')\n",
    "print(f'Number of unique labels: {len(vocab)}')\n",
    "print(f'auto: {auto}')\n",
    "\n",
    "text_vectorizer = layers.TextVectorization(\n",
    "    max_tokens=vocabulary_size, ngrams=2, output_mode=\"tf_idf\"\n",
    ")\n",
    "\n",
    "# `TextVectorization` layer needs to be adapted as per the vocabulary from our\n",
    "# training set.\n",
    "with tf.device(\"/CPU:0\"):\n",
    "    text_vectorizer.adapt(train_dataset.map(lambda text, label: text))\n",
    "\n",
    "train_dataset = train_dataset.map(\n",
    "    lambda text, label: (text_vectorizer(text), label), num_parallel_calls=auto\n",
    ").prefetch(auto)\n",
    "validation_dataset = validation_dataset.map(\n",
    "    lambda text, label: (text_vectorizer(text), label), num_parallel_calls=auto\n",
    ").prefetch(auto)\n",
    "test_dataset = test_dataset.map(\n",
    "    lambda text, label: (text_vectorizer(text), label), num_parallel_calls=auto\n",
    ").prefetch(auto)"
   ],
   "id": "ed70808a914b62b3",
   "outputs": [
    {
     "name": "stdout",
     "output_type": "stream",
     "text": [
      "Vocabulary size: 153148\n",
      "Number of unique labels: 153\n",
      "auto: -1\n"
     ]
    },
    {
     "name": "stderr",
     "output_type": "stream",
     "text": [
      "2024-06-04 13:56:01.263391: W tensorflow/core/framework/local_rendezvous.cc:404] Local rendezvous is aborting with status: OUT_OF_RANGE: End of sequence\n"
     ]
    }
   ],
   "execution_count": 34
  },
  {
   "metadata": {
    "ExecuteTime": {
     "end_time": "2024-06-04T11:57:01.375477Z",
     "start_time": "2024-06-04T11:57:01.372262Z"
    }
   },
   "cell_type": "code",
   "source": [
    "def make_model():\n",
    "    shallow_mlp_model = keras.Sequential(\n",
    "        [\n",
    "            layers.Dense(512, activation=\"relu\"),\n",
    "            layers.Dense(256, activation=\"relu\"),\n",
    "            layers.Dense(lookup.vocabulary_size(), activation=\"sigmoid\"),\n",
    "        ]  # More on why \"sigmoid\" has been used here in a moment.\n",
    "    )\n",
    "    return shallow_mlp_model"
   ],
   "id": "b2004a5a87113bd5",
   "outputs": [],
   "execution_count": 35
  },
  {
   "metadata": {
    "ExecuteTime": {
     "end_time": "2024-06-04T12:10:40.844799Z",
     "start_time": "2024-06-04T11:57:04.715407Z"
    }
   },
   "cell_type": "code",
   "source": [
    "epochs = 20\n",
    "\n",
    "shallow_mlp_model = make_model()\n",
    "shallow_mlp_model.compile(\n",
    "    loss=\"binary_crossentropy\", optimizer=\"adam\", metrics=[\"binary_accuracy\"]\n",
    ")\n",
    "\n",
    "history = shallow_mlp_model.fit(\n",
    "    train_dataset, validation_data=validation_dataset, epochs=epochs\n",
    ")\n",
    "\n",
    "\n",
    "def plot_result(item):\n",
    "    plt.plot(history.history[item], label=item)\n",
    "    plt.plot(history.history[\"val_\" + item], label=\"val_\" + item)\n",
    "    plt.xlabel(\"Epochs\")\n",
    "    plt.ylabel(item)\n",
    "    plt.title(\"Train and Validation {} Over Epochs\".format(item), fontsize=14)\n",
    "    plt.legend()\n",
    "    plt.grid()\n",
    "    plt.show()\n",
    "\n",
    "\n",
    "plot_result(\"loss\")\n",
    "plot_result(\"binary_accuracy\")"
   ],
   "id": "402317a2c1769a66",
   "outputs": [
    {
     "name": "stdout",
     "output_type": "stream",
     "text": [
      "Epoch 1/20\n",
      "\u001B[1m258/258\u001B[0m \u001B[32m━━━━━━━━━━━━━━━━━━━━\u001B[0m\u001B[37m\u001B[0m \u001B[1m51s\u001B[0m 173ms/step - binary_accuracy: 0.9653 - loss: 0.0818 - val_binary_accuracy: 0.9942 - val_loss: 0.0191\n",
      "Epoch 2/20\n",
      "\u001B[1m258/258\u001B[0m \u001B[32m━━━━━━━━━━━━━━━━━━━━\u001B[0m\u001B[37m\u001B[0m \u001B[1m44s\u001B[0m 169ms/step - binary_accuracy: 0.9984 - loss: 0.0053 - val_binary_accuracy: 0.9938 - val_loss: 0.0263\n",
      "Epoch 3/20\n",
      "\u001B[1m258/258\u001B[0m \u001B[32m━━━━━━━━━━━━━━━━━━━━\u001B[0m\u001B[37m\u001B[0m \u001B[1m44s\u001B[0m 160ms/step - binary_accuracy: 0.9998 - loss: 9.7473e-04 - val_binary_accuracy: 0.9938 - val_loss: 0.0340\n",
      "Epoch 4/20\n",
      "\u001B[1m258/258\u001B[0m \u001B[32m━━━━━━━━━━━━━━━━━━━━\u001B[0m\u001B[37m\u001B[0m \u001B[1m45s\u001B[0m 171ms/step - binary_accuracy: 1.0000 - loss: 3.7449e-04 - val_binary_accuracy: 0.9939 - val_loss: 0.0389\n",
      "Epoch 5/20\n",
      "\u001B[1m258/258\u001B[0m \u001B[32m━━━━━━━━━━━━━━━━━━━━\u001B[0m\u001B[37m\u001B[0m \u001B[1m45s\u001B[0m 170ms/step - binary_accuracy: 1.0000 - loss: 2.2800e-04 - val_binary_accuracy: 0.9939 - val_loss: 0.0405\n",
      "Epoch 6/20\n",
      "\u001B[1m258/258\u001B[0m \u001B[32m━━━━━━━━━━━━━━━━━━━━\u001B[0m\u001B[37m\u001B[0m \u001B[1m46s\u001B[0m 176ms/step - binary_accuracy: 1.0000 - loss: 1.4739e-04 - val_binary_accuracy: 0.9939 - val_loss: 0.0412\n",
      "Epoch 7/20\n",
      "\u001B[1m258/258\u001B[0m \u001B[32m━━━━━━━━━━━━━━━━━━━━\u001B[0m\u001B[37m\u001B[0m \u001B[1m41s\u001B[0m 157ms/step - binary_accuracy: 1.0000 - loss: 1.3940e-04 - val_binary_accuracy: 0.9940 - val_loss: 0.0434\n",
      "Epoch 8/20\n",
      "\u001B[1m258/258\u001B[0m \u001B[32m━━━━━━━━━━━━━━━━━━━━\u001B[0m\u001B[37m\u001B[0m \u001B[1m39s\u001B[0m 148ms/step - binary_accuracy: 1.0000 - loss: 8.8313e-05 - val_binary_accuracy: 0.9941 - val_loss: 0.0448\n",
      "Epoch 9/20\n",
      "\u001B[1m258/258\u001B[0m \u001B[32m━━━━━━━━━━━━━━━━━━━━\u001B[0m\u001B[37m\u001B[0m \u001B[1m38s\u001B[0m 148ms/step - binary_accuracy: 1.0000 - loss: 7.8462e-05 - val_binary_accuracy: 0.9940 - val_loss: 0.0446\n",
      "Epoch 10/20\n",
      "\u001B[1m258/258\u001B[0m \u001B[32m━━━━━━━━━━━━━━━━━━━━\u001B[0m\u001B[37m\u001B[0m \u001B[1m38s\u001B[0m 148ms/step - binary_accuracy: 1.0000 - loss: 7.5710e-05 - val_binary_accuracy: 0.9940 - val_loss: 0.0457\n",
      "Epoch 11/20\n",
      "\u001B[1m258/258\u001B[0m \u001B[32m━━━━━━━━━━━━━━━━━━━━\u001B[0m\u001B[37m\u001B[0m \u001B[1m38s\u001B[0m 147ms/step - binary_accuracy: 1.0000 - loss: 9.2628e-05 - val_binary_accuracy: 0.9940 - val_loss: 0.0439\n",
      "Epoch 12/20\n",
      "\u001B[1m258/258\u001B[0m \u001B[32m━━━━━━━━━━━━━━━━━━━━\u001B[0m\u001B[37m\u001B[0m \u001B[1m39s\u001B[0m 148ms/step - binary_accuracy: 1.0000 - loss: 1.8471e-04 - val_binary_accuracy: 0.9936 - val_loss: 0.0423\n",
      "Epoch 13/20\n",
      "\u001B[1m258/258\u001B[0m \u001B[32m━━━━━━━━━━━━━━━━━━━━\u001B[0m\u001B[37m\u001B[0m \u001B[1m39s\u001B[0m 149ms/step - binary_accuracy: 0.9997 - loss: 0.0011 - val_binary_accuracy: 0.9934 - val_loss: 0.0399\n",
      "Epoch 14/20\n",
      "\u001B[1m258/258\u001B[0m \u001B[32m━━━━━━━━━━━━━━━━━━━━\u001B[0m\u001B[37m\u001B[0m \u001B[1m39s\u001B[0m 148ms/step - binary_accuracy: 0.9994 - loss: 0.0020 - val_binary_accuracy: 0.9930 - val_loss: 0.0411\n",
      "Epoch 15/20\n",
      "\u001B[1m258/258\u001B[0m \u001B[32m━━━━━━━━━━━━━━━━━━━━\u001B[0m\u001B[37m\u001B[0m \u001B[1m38s\u001B[0m 148ms/step - binary_accuracy: 0.9996 - loss: 0.0012 - val_binary_accuracy: 0.9933 - val_loss: 0.0503\n",
      "Epoch 16/20\n",
      "\u001B[1m258/258\u001B[0m \u001B[32m━━━━━━━━━━━━━━━━━━━━\u001B[0m\u001B[37m\u001B[0m \u001B[1m39s\u001B[0m 149ms/step - binary_accuracy: 0.9998 - loss: 6.8846e-04 - val_binary_accuracy: 0.9932 - val_loss: 0.0533\n",
      "Epoch 17/20\n",
      "\u001B[1m258/258\u001B[0m \u001B[32m━━━━━━━━━━━━━━━━━━━━\u001B[0m\u001B[37m\u001B[0m \u001B[1m38s\u001B[0m 148ms/step - binary_accuracy: 0.9999 - loss: 3.9957e-04 - val_binary_accuracy: 0.9933 - val_loss: 0.0576\n",
      "Epoch 18/20\n",
      "\u001B[1m258/258\u001B[0m \u001B[32m━━━━━━━━━━━━━━━━━━━━\u001B[0m\u001B[37m\u001B[0m \u001B[1m38s\u001B[0m 148ms/step - binary_accuracy: 1.0000 - loss: 2.0386e-04 - val_binary_accuracy: 0.9935 - val_loss: 0.0593\n",
      "Epoch 19/20\n",
      "\u001B[1m258/258\u001B[0m \u001B[32m━━━━━━━━━━━━━━━━━━━━\u001B[0m\u001B[37m\u001B[0m \u001B[1m39s\u001B[0m 148ms/step - binary_accuracy: 1.0000 - loss: 1.3111e-04 - val_binary_accuracy: 0.9934 - val_loss: 0.0624\n",
      "Epoch 20/20\n",
      "\u001B[1m258/258\u001B[0m \u001B[32m━━━━━━━━━━━━━━━━━━━━\u001B[0m\u001B[37m\u001B[0m \u001B[1m39s\u001B[0m 149ms/step - binary_accuracy: 1.0000 - loss: 8.6606e-05 - val_binary_accuracy: 0.9934 - val_loss: 0.0636\n"
     ]
    },
    {
     "data": {
      "text/plain": [
       "<Figure size 640x480 with 1 Axes>"
      ],
      "image/png": "[encoded data removed]"
     },
     "metadata": {},
     "output_type": "display_data"
    },
    {
     "data": {
      "text/plain": [
       "<Figure size 640x480 with 1 Axes>"
      ],
      "image/png": "[encoded data removed]"
     },
     "metadata": {},
     "output_type": "display_data"
    }
   ],
   "execution_count": 36
  },
  {
   "metadata": {
    "ExecuteTime": {
     "end_time": "2024-06-04T12:16:16.757753Z",
     "start_time": "2024-06-04T12:16:16.091447Z"
    }
   },
   "cell_type": "code",
   "source": [
    "_, binary_acc = shallow_mlp_model.evaluate(test_dataset)\n",
    "print(f\"Categorical accuracy on the test set: {round(binary_acc * 100, 2)}%.\")"
   ],
   "id": "247bfe83161bf2c9",
   "outputs": [
    {
     "name": "stdout",
     "output_type": "stream",
     "text": [
      "\u001B[1m15/15\u001B[0m \u001B[32m━━━━━━━━━━━━━━━━━━━━\u001B[0m\u001B[37m\u001B[0m \u001B[1m1s\u001B[0m 20ms/step - binary_accuracy: 0.9937 - loss: 0.0582\n",
      "Categorical accuracy on the test set: 99.37%.\n"
     ]
    }
   ],
   "execution_count": 37
  },
  {
   "metadata": {
    "ExecuteTime": {
     "end_time": "2024-06-04T12:16:30.242138Z",
     "start_time": "2024-06-04T12:16:30.015425Z"
    }
   },
   "cell_type": "code",
   "source": [
    "# Create a model for inference.\n",
    "model_for_inference = keras.Sequential([text_vectorizer, shallow_mlp_model])\n",
    "\n",
    "# Create a small dataset just for demoing inference.\n",
    "inference_dataset = make_dataset(test_df.sample(100), is_train=False)\n",
    "text_batch, label_batch = next(iter(inference_dataset))\n",
    "predicted_probabilities = model_for_inference.predict(text_batch)\n",
    "\n",
    "# Perform inference.\n",
    "for i, text in enumerate(text_batch[:5]):\n",
    "    label = label_batch[i].numpy()[None, ...]\n",
    "    print(f\"Abstract: {text}\")\n",
    "    print(f\"Label(s): {invert_multi_hot(label[0])}\")\n",
    "    predicted_proba = [proba for proba in predicted_probabilities[i]]\n",
    "    top_3_labels = [\n",
    "        x\n",
    "        for _, x in sorted(\n",
    "            zip(predicted_probabilities[i], lookup.get_vocabulary()),\n",
    "            key=lambda pair: pair[0],\n",
    "            reverse=True,\n",
    "        )\n",
    "    ][:3]\n",
    "    print(f\"Predicted Label(s): ({', '.join([label for label in top_3_labels])})\")\n",
    "    print(\" \")"
   ],
   "id": "1e0fee10150d8e6a",
   "outputs": [
    {
     "name": "stdout",
     "output_type": "stream",
     "text": [
      "\u001B[1m4/4\u001B[0m \u001B[32m━━━━━━━━━━━━━━━━━━━━\u001B[0m\u001B[37m\u001B[0m \u001B[1m0s\u001B[0m 30ms/step\n",
      "Abstract: b'With deep learning becoming a more prominent approach for automatic\\nclassification of three-dimensional point cloud data, a key bottleneck is the\\namount of high quality training data, especially when compared to that\\navailable for two-dimensional images. One potential solution is the use of\\nsynthetic data for pre-training networks, however the ability for models to\\ngeneralise from synthetic data to real world data has been poorly studied for\\npoint clouds. Despite this, a huge wealth of 3D virtual environments exist\\nwhich, if proved effective can be exploited. We therefore argue that research\\nin this domain would be of significant use. In this paper we present SynthCity\\nan open dataset to help aid research. SynthCity is a 367.9M point synthetic\\nfull colour Mobile Laser Scanning point cloud. Every point is assigned a label\\nfrom one of nine categories. We generate our point cloud in a typical\\nUrban/Suburban environment using the Blensor plugin for Blender.'\n",
      "Label(s): ['cs.CV']\n",
      "Predicted Label(s): (cs.CV, cs.LG, cs.RO)\n",
      " \n",
      "Abstract: b'Cross-domain sentiment analysis is currently a hot topic in the research and\\nengineering areas. One of the most popular frameworks in this field is the\\ndomain-invariant representation learning (DIRL) paradigm, which aims to learn a\\ndistribution-invariant feature representation across domains. However, in this\\nwork, we find out that applying DIRL may harm domain adaptation when the label\\ndistribution $\\\\rm{P}(\\\\rm{Y})$ changes across domains. To address this problem,\\nwe propose a modification to DIRL, obtaining a novel weighted domain-invariant\\nrepresentation learning (WDIRL) framework. We show that it is easy to transfer\\nexisting SOTA DIRL models to WDIRL. Empirical studies on extensive cross-domain\\nsentiment analysis tasks verified our statements and showed the effectiveness\\nof our proposed solution.'\n",
      "Label(s): ['cs.LG' 'stat.ML' 'cs.CL']\n",
      "Predicted Label(s): (cs.LG, cs.CV, cs.AI)\n",
      " \n",
      "Abstract: b\"Modern recommendation systems rely on real-valued embeddings of categorical\\nfeatures. Increasing the dimension of embedding vectors improves model accuracy\\nbut comes at a high cost to model size. We introduce a multi-layer embedding\\ntraining (MLET) architecture that trains embeddings via a sequence of linear\\nlayers to derive superior embedding accuracy vs. model size trade-off.\\n  Our approach is fundamentally based on the ability of factorized linear\\nlayers to produce superior embeddings to that of a single linear layer. We\\nfocus on the analysis and implementation of a two-layer scheme. Harnessing the\\nrecent results in dynamics of backpropagation in linear neural networks, we\\nexplain the ability to get superior multi-layer embeddings via their tendency\\nto have lower effective rank. We show that substantial advantages are obtained\\nin the regime where the width of the hidden layer is much larger than that of\\nthe final embedding (d). Crucially, at conclusion of training, we convert the\\ntwo-layer solution into a single-layer one: as a result, the inference-time\\nmodel size scales as d.\\n  We prototype the MLET scheme within Facebook's PyTorch-based open-source Deep\\nLearning Recommendation Model. We show that it allows reducing d by 4-8X, with\\na corresponding improvement in memory footprint, at given model accuracy. The\\nexperiments are run on two publicly available click-through-rate prediction\\nbenchmarks (Criteo-Kaggle and Avazu). The runtime cost of MLET is 25%, on\\naverage.\"\n",
      "Label(s): ['cs.LG' 'stat.ML']\n",
      "Predicted Label(s): (cs.LG, stat.ML, math.ST)\n",
      " \n",
      "Abstract: b\"Imitation learning seeks to learn an expert policy from sampled\\ndemonstrations. However, in the real world, it is often difficult to find a\\nperfect expert and avoiding dangerous behaviors becomes relevant for safety\\nreasons. We present the idea of \\\\textit{learning to avoid}, an objective\\nopposite to imitation learning in some sense, where an agent learns to avoid a\\ndemonstrator policy given an environment. We define avoidance learning as the\\nprocess of optimizing the agent's reward while avoiding dangerous behaviors\\ngiven by a demonstrator. In this work we develop a framework of avoidance\\nlearning by defining a suitable objective function for these problems which\\ninvolves the \\\\emph{distance} of state occupancy distributions of the expert and\\ndemonstrator policies. We use density estimates for state occupancy measures\\nand use the aforementioned distance as the reward bonus for avoiding the\\ndemonstrator. We validate our theory with experiments using a wide range of\\npartially observable environments. Experimental results show that we are able\\nto improve sample efficiency during training compared to state of the art\\npolicy optimization and safety methods.\"\n",
      "Label(s): ['cs.LG' 'stat.ML']\n",
      "Predicted Label(s): (cs.LG, stat.ML, cs.RO)\n",
      " \n",
      "Abstract: b'In this paper we introduce a fully end-to-end approach for visual tracking in\\nvideos that learns to predict the bounding box locations of a target object at\\nevery frame. An important insight is that the tracking problem can be\\nconsidered as a sequential decision-making process and historical semantics\\nencode highly relevant information for future decisions. Based on this\\nintuition, we formulate our model as a recurrent convolutional neural network\\nagent that interacts with a video overtime, and our model can be trained with\\nreinforcement learning (RL) algorithms to learn good tracking policies that pay\\nattention to continuous, inter-frame correlation and maximize tracking\\nperformance in the long run. The proposed tracking algorithm achieves\\nstate-of-the-art performance in an existing tracking benchmark and operates at\\nframe-rates faster than real-time. To the best of our knowledge, our tracker is\\nthe first neural-network tracker that combines convolutional and recurrent\\nnetworks with RL algorithms.'\n",
      "Label(s): ['cs.CV' 'cs.LG']\n",
      "Predicted Label(s): (cs.CV, cs.AI, cs.LG)\n",
      " \n"
     ]
    }
   ],
   "execution_count": 38
  }
 ],
 "metadata": {
  "kernelspec": {
   "display_name": "Python 3",
   "language": "python",
   "name": "python3"
  },
  "language_info": {
   "codemirror_mode": {
    "name": "ipython",
    "version": 2
   },
   "file_extension": ".py",
   "mimetype": "text/x-python",
   "name": "python",
   "nbconvert_exporter": "python",
   "pygments_lexer": "ipython2",
   "version": "2.7.6"
  }
 },
 "nbformat": 4,
 "nbformat_minor": 5
}
