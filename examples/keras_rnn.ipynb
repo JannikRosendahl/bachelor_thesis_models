{
 "cells": [
  {
   "cell_type": "code",
   "id": "initial_id",
   "metadata": {
    "collapsed": true,
    "ExecuteTime": {
     "end_time": "2024-06-07T09:44:28.778924Z",
     "start_time": "2024-06-07T09:44:26.655112Z"
    }
   },
   "source": [
    "import os\n",
    "os.environ['TF_CPP_MIN_LOG_LEVEL'] = '2'\n",
    "\n",
    "import keras\n",
    "import numpy as np"
   ],
   "outputs": [],
   "execution_count": 1
  },
  {
   "metadata": {
    "ExecuteTime": {
     "end_time": "2024-06-07T09:44:32.269737Z",
     "start_time": "2024-06-07T09:44:31.187244Z"
    }
   },
   "cell_type": "code",
   "source": [
    "inputs = np.random.random((32, 10, 8))\n",
    "simple_rnn = keras.layers.SimpleRNN(4)\n",
    "output = simple_rnn(inputs)  # The output has shape `(32, 4)`.\n",
    "simple_rnn = keras.layers.SimpleRNN(\n",
    "    4, return_sequences=True, return_state=True\n",
    ")\n",
    "# whole_sequence_output has shape `(32, 10, 4)`.\n",
    "# final_state has shape `(32, 4)`.\n",
    "whole_sequence_output, final_state = simple_rnn(inputs)"
   ],
   "id": "a5a63dea2f3324ee",
   "outputs": [],
   "execution_count": 2
  },
  {
   "metadata": {
    "ExecuteTime": {
     "end_time": "2024-06-07T09:45:01.301678Z",
     "start_time": "2024-06-07T09:45:01.290106Z"
    }
   },
   "cell_type": "code",
   "source": "",
   "id": "93b0389567dabff8",
   "outputs": [
    {
     "data": {
      "text/plain": [
       "(TensorShape([32, 10, 4]), TensorShape([32, 4]))"
      ]
     },
     "execution_count": 3,
     "metadata": {},
     "output_type": "execute_result"
    }
   ],
   "execution_count": 3
  }
 ],
 "metadata": {
  "kernelspec": {
   "display_name": "Python 3",
   "language": "python",
   "name": "python3"
  },
  "language_info": {
   "codemirror_mode": {
    "name": "ipython",
    "version": 2
   },
   "file_extension": ".py",
   "mimetype": "text/x-python",
   "name": "python",
   "nbconvert_exporter": "python",
   "pygments_lexer": "ipython2",
   "version": "2.7.6"
  }
 },
 "nbformat": 4,
 "nbformat_minor": 5
}
