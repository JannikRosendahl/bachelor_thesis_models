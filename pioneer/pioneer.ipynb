{
 "cells": [
  {
   "cell_type": "code",
   "execution_count": 1,
   "metadata": {
    "execution": {
     "iopub.execute_input": "2024-09-03T06:02:53.266628Z",
     "iopub.status.busy": "2024-09-03T06:02:53.266174Z",
     "iopub.status.idle": "2024-09-03T06:02:56.179543Z",
     "shell.execute_reply": "2024-09-03T06:02:56.178404Z"
    }
   },
   "outputs": [],
   "source": [
    "import os\n",
    "import re\n",
    "from collections import Counter\n",
    "import json\n",
    "import numpy as np\n",
    "import pandas as pd\n",
    "import matplotlib.pyplot as plt\n",
    "cm = 1/2.54\n",
    "\n",
    "# force GPU device\n",
    "#os.environ[\"CUDA_VISIBLE_DEVICES\"]='1'\n",
    "os.environ['TF_CPP_MIN_LOG_LEVEL'] = '2'\n",
    "import tensorflow as tf\n",
    "\n",
    "from keras.src.callbacks import EarlyStopping, ModelCheckpoint, ReduceLROnPlateau, CSVLogger\n",
    "from keras.src.layers import SimpleRNN, LSTM, Dense, Dropout, Bidirectional\n",
    "from keras import Sequential, Input\n",
    "from keras.losses import CategoricalCrossentropy, CategoricalFocalCrossentropy\n",
    "from keras.optimizers import Adam\n",
    "from keras.models import load_model\n",
    "from keras.metrics import CategoricalAccuracy, TopKCategoricalAccuracy\n",
    "\n",
    "\n",
    "from sklearn.metrics import classification_report, confusion_matrix\n",
    "from sklearn.utils.class_weight import compute_class_weight\n",
    "\n",
    "from utils import *"
   ]
  },
  {
   "cell_type": "code",
   "execution_count": 2,
   "metadata": {
    "execution": {
     "iopub.execute_input": "2024-09-03T06:02:56.184070Z",
     "iopub.status.busy": "2024-09-03T06:02:56.183719Z",
     "iopub.status.idle": "2024-09-03T06:02:56.187112Z",
     "shell.execute_reply": "2024-09-03T06:02:56.186654Z"
    }
   },
   "outputs": [],
   "source": [
    "max_sequence_length = 100\n",
    "experiment_name = 'pioneer'\n",
    "top_k = 3"
   ]
  },
  {
   "cell_type": "code",
   "execution_count": 3,
   "metadata": {
    "execution": {
     "iopub.execute_input": "2024-09-03T06:02:56.191213Z",
     "iopub.status.busy": "2024-09-03T06:02:56.190971Z",
     "iopub.status.idle": "2024-09-03T06:02:56.205480Z",
     "shell.execute_reply": "2024-09-03T06:02:56.204398Z"
    }
   },
   "outputs": [],
   "source": [
    "checkpoint_path = f'saves/{experiment_name}'\n",
    "model_path = f'{checkpoint_path}/model.keras'\n",
    "log_path = f'{checkpoint_path}/log.csv'\n",
    "history_path = f'{checkpoint_path}/history.npy'\n",
    "\n",
    "# ensure directory exists\n",
    "if not os.path.exists(checkpoint_path):\n",
    "    os.makedirs(checkpoint_path)"
   ]
  },
  {
   "cell_type": "code",
   "execution_count": 4,
   "metadata": {
    "execution": {
     "iopub.execute_input": "2024-09-03T06:02:56.210018Z",
     "iopub.status.busy": "2024-09-03T06:02:56.209617Z",
     "iopub.status.idle": "2024-09-03T06:02:56.216690Z",
     "shell.execute_reply": "2024-09-03T06:02:56.215558Z"
    }
   },
   "outputs": [
    {
     "name": "stdout",
     "output_type": "stream",
     "text": [
      "experiment parameters: \n",
      "data_directory='/home/jrosendahl/datasets/cadets/sequences_export_benign_filetypes_path_ts_size/' \n",
      "unusable_threshold=10 \n",
      "rare_threshold=50 \n",
      "splits=(0.7, 0.15, 0.15) \n",
      "max_sequence_length=100\n"
     ]
    }
   ],
   "source": [
    "data_directory = '/home/jrosendahl/datasets/cadets/sequences_export_benign_filetypes_path_ts_size/'\n",
    "unusable_threshold = 10\n",
    "rare_threshold = 50\n",
    "splits = (0.7, 0.15, 0.15)\n",
    "\n",
    "max_sequence_length = 100\n",
    "\n",
    "assert(sum(splits) == 1)\n",
    "\n",
    "print(f'experiment parameters: \\n{data_directory=} \\n{unusable_threshold=} \\n{rare_threshold=} \\n{splits=} \\n{max_sequence_length=}')"
   ]
  },
  {
   "cell_type": "code",
   "execution_count": 5,
   "metadata": {
    "execution": {
     "iopub.execute_input": "2024-09-03T06:02:56.267694Z",
     "iopub.status.busy": "2024-09-03T06:02:56.267095Z",
     "iopub.status.idle": "2024-09-03T06:02:56.574928Z",
     "shell.execute_reply": "2024-09-03T06:02:56.574225Z"
    }
   },
   "outputs": [
    {
     "name": "stdout",
     "output_type": "stream",
     "text": [
      "Total classes: 118\n",
      "Unusable classes: 51\n",
      "\t['ping', 'pwd_mkdb', 'vi', 'tr', 'uname', 'msgs', 'screen', 'pw', 'bzip2', 'bzcat', 'nginx', 'stat', 'tail', 'smtp', 'kenv', 'nawk', 'ssh', 'chown', 'cut', 'php-fpm', 'jot', 'xz', 'diff', 'bounce', 'links', 'ipfw', 'touch', 'env', 'pfctl', 'minions', 'csh', 'kldstat', 'su', 'nohup', 'stty', 'df', 'limits', 'id', 'postmap', 'ifconfig', 'chkgrp', 'ipfstat', 'locale', 'devd', 'uniq', 'XIM', 'getty', 'which', 'init', 'test', 'nice']\n",
      "Rare classes: 20\n",
      "\t['wc', 'grep', 'mktemp', 'less', 'tty', 'mailwrapper', 'kill', 'lockf', 'mount', 'tee', 'expr', 'ps', 'route', 'sed', 'cmp', 'egrep', 'sort', 'basename', 'awk', 'mail']\n",
      "Usable classes: 67\n"
     ]
    }
   ],
   "source": [
    "total_classes = 0\n",
    "\n",
    "# unusable classes will be removed from the dataset\n",
    "unusable_classes = []\n",
    "# rare classes will be oversampled\n",
    "rare_classes = []\n",
    "\n",
    "# all classes in training data (all classes - unusable classes)\n",
    "classes = []\n",
    "\n",
    "# walk all files, build unusable_classes, rare_classes\n",
    "classes_occurrences = Counter()\n",
    "for filename in os.listdir(data_directory):\n",
    "    label = class_from_filename(filename)\n",
    "    classes_occurrences[label] += 1\n",
    "\n",
    "total_classes = len(classes_occurrences)\n",
    "for label, count in classes_occurrences.items():\n",
    "    if count < unusable_threshold:\n",
    "        unusable_classes.append(label)\n",
    "    elif count < rare_threshold:\n",
    "        rare_classes.append(label)\n",
    "        classes.append(label)\n",
    "    else:\n",
    "        classes.append(label)\n",
    "\n",
    "print(f'Total classes: {total_classes}')\n",
    "print(f'Unusable classes: {len(unusable_classes)}')\n",
    "print(f'\\t{unusable_classes}')\n",
    "print(f'Rare classes: {len(rare_classes)}')\n",
    "print(f'\\t{rare_classes}')\n",
    "\n",
    "labels_cardinality = len(set(classes))\n",
    "print(f'Usable classes: {labels_cardinality}')"
   ]
  },
  {
   "cell_type": "code",
   "execution_count": 6,
   "metadata": {
    "execution": {
     "iopub.execute_input": "2024-09-03T06:02:56.579250Z",
     "iopub.status.busy": "2024-09-03T06:02:56.579047Z",
     "iopub.status.idle": "2024-09-03T06:02:57.366463Z",
     "shell.execute_reply": "2024-09-03T06:02:57.365912Z"
    }
   },
   "outputs": [
    {
     "name": "stdout",
     "output_type": "stream",
     "text": [
      "Train: 150475\n",
      "Validation: 32245\n",
      "Test: 32245\n"
     ]
    }
   ],
   "source": [
    "# split into train, validation, test\n",
    "labels_set = set()\n",
    "\n",
    "filenames_all = []\n",
    "\n",
    "filenames_train = []\n",
    "filenames_val = []\n",
    "filenames_test = []\n",
    "\n",
    "for filename in os.listdir(data_directory):\n",
    "    label = class_from_filename(filename)\n",
    "    if label in unusable_classes:\n",
    "        continue\n",
    "    labels_set.add(label)\n",
    "    filenames_all.append(filename)\n",
    "\n",
    "# stratisfied split\n",
    "test_vs_val = splits[2] / (splits[1] + splits[2])\n",
    "filenames_train, filenames_val_test = train_test_split(filenames_all, test_size=splits[1]+splits[2], stratify=[class_from_filename(f) for f in filenames_all])\n",
    "filenames_val, filenames_test = train_test_split(filenames_val_test, test_size=test_vs_val, stratify=[class_from_filename(f) for f in filenames_val_test])\n",
    "\n",
    "print(f'Train: {len(filenames_train)}')\n",
    "print(f'Validation: {len(filenames_val)}')\n",
    "print(f'Test: {len(filenames_test)}')\n",
    "\n",
    "# build labels_map in alphabetical order\n",
    "labels_map = {}\n",
    "for i, label in enumerate(sorted(labels_set)):\n",
    "    labels_map[label] = i"
   ]
  },
  {
   "cell_type": "code",
   "execution_count": 7,
   "metadata": {
    "execution": {
     "iopub.execute_input": "2024-09-03T06:02:57.371172Z",
     "iopub.status.busy": "2024-09-03T06:02:57.370967Z",
     "iopub.status.idle": "2024-09-03T06:11:31.777502Z",
     "shell.execute_reply": "2024-09-03T06:11:31.776950Z"
    }
   },
   "outputs": [
    {
     "name": "stdout",
     "output_type": "stream",
     "text": [
      "Files read: 50000\n"
     ]
    },
    {
     "name": "stdout",
     "output_type": "stream",
     "text": [
      "Files read: 100000\n"
     ]
    },
    {
     "name": "stdout",
     "output_type": "stream",
     "text": [
      "Files read: 150000\n"
     ]
    },
    {
     "name": "stdout",
     "output_type": "stream",
     "text": [
      "Files read: 200000\n"
     ]
    },
    {
     "name": "stdout",
     "output_type": "stream",
     "text": [
      "Files read: 214965\n",
      "Sequences split: 22897\n",
      "Splits: 132960\n",
      "Event types: 29\n",
      "Users: 16\n",
      "Filetypes: 1\n",
      "Address: 4\n",
      "Port: 9\n",
      "Train: 247249\n",
      "Validation: 48541\n",
      "Test: 52084\n"
     ]
    }
   ],
   "source": [
    "# load data\n",
    "count_files_read = 0\n",
    "count_sequences_split = 0\n",
    "count_splits = 0\n",
    "\n",
    "preprocessor = Preprocessor(\n",
    "    ['TYPE', 'USERNAME', 'PRED_OBJ_PATH_AUTOENC', 'PRED_OBJ_NETINFO', 'SIZE'],\n",
    "    encode_map='/home/jrosendahl/sync/models/path_encoding_map.pkl'\n",
    ")\n",
    "\n",
    "def parse_file(filename) -> tuple[list[int], list[list[int]]]:\n",
    "    \"\"\"\n",
    "    Parse a file and return the vectorized data. Not a pure function (calls parse_line)!\n",
    "    \"\"\"\n",
    "    global count_files_read, count_sequences_split, count_splits\n",
    "\n",
    "    y_list: list[int] = []\n",
    "    X_list: list[list[int]] = []\n",
    "    y = class_from_filename(filename)\n",
    "    y = labels_map[y]\n",
    "    with open(os.path.join(data_directory, filename), 'r') as f:\n",
    "        lines = f.readlines()\n",
    "        count_files_read += 1\n",
    "    if count_files_read % 50000 == 0:\n",
    "        print(f'Files read: {count_files_read}')\n",
    "    X = []\n",
    "    for line in lines:\n",
    "        line_res = preprocessor.process(line)\n",
    "\n",
    "        # vectorized data\n",
    "        event = line_res['TYPE']\n",
    "        username = line_res['USERNAME']\n",
    "        pred_obj1_localip = line_res['PRED_OBJ1_LOCALIP']\n",
    "        pred_obj1_localport = line_res['PRED_OBJ1_LOCALPORT']\n",
    "        pred_obj1_remoteip = line_res['PRED_OBJ1_REMOTEIP']\n",
    "        pred_obj1_remoteport = line_res['PRED_OBJ1_REMOTEPORT']\n",
    "        pred_obj2_localip = line_res['PRED_OBJ2_LOCALIP']\n",
    "        pred_obj2_localport = line_res['PRED_OBJ2_LOCALPORT']\n",
    "        pred_obj2_remoteip = line_res['PRED_OBJ2_REMOTEIP']\n",
    "        pred_obj2_remoteport = line_res['PRED_OBJ2_REMOTEPORT']\n",
    "\n",
    "        # vectors\n",
    "        path1 = line_res['PRED_OBJ1_PATH_AUTOENC']\n",
    "        path2 = line_res['PRED_OBJ2_PATH_AUTOENC']\n",
    "\n",
    "        # ints\n",
    "        size = line_res['SIZE']\n",
    "\n",
    "        res = [event, username, pred_obj1_localip, pred_obj1_localport, pred_obj1_remoteip, pred_obj1_remoteport, pred_obj2_localip, pred_obj2_localport, pred_obj2_remoteip, pred_obj2_remoteport, size]\n",
    "        res.extend(path1)\n",
    "        res.extend(path2)\n",
    "\n",
    "        X.append(res)\n",
    "\n",
    "    # check if sequence needs to be split\n",
    "    if len(X) > max_sequence_length:\n",
    "        count_sequences_split += 1\n",
    "        count_splits += len(X) // max_sequence_length\n",
    "        for i in range(0, len(X), max_sequence_length):\n",
    "            y_list.append(y)\n",
    "            X_list.append(X[i:i+max_sequence_length])\n",
    "        assert len(X_list[0]) == max_sequence_length\n",
    "    else:\n",
    "        y_list.append(y)\n",
    "        X_list.append(X)\n",
    "\n",
    "    # transform elements to numpy arrays\n",
    "    y_list = np.array(y_list)\n",
    "    X_list = [np.array(x) for x in X_list]\n",
    "\n",
    "    assert len(y_list) == len(X_list)\n",
    "    return y_list, X_list\n",
    "\n",
    "\n",
    "y_train = []\n",
    "X_train = []\n",
    "y_val = []\n",
    "X_val = []\n",
    "y_test = []\n",
    "X_test = []\n",
    "\n",
    "for filename in filenames_train:\n",
    "    y_list, X_list = parse_file(filename)\n",
    "    y_train.extend(y_list)\n",
    "    X_train.extend(X_list)\n",
    "\n",
    "for filename in filenames_val:\n",
    "    y_list, X_list = parse_file(filename)\n",
    "    y_val.extend(y_list)\n",
    "    X_val.extend(X_list)\n",
    "\n",
    "for filename in filenames_test:\n",
    "    y_list, X_list = parse_file(filename)\n",
    "    y_test.extend(y_list)\n",
    "    X_test.extend(X_list)\n",
    "\n",
    "assert len(X_train) == len(y_train)\n",
    "assert len(X_val) == len(y_val)\n",
    "assert len(X_test) == len(y_test)\n",
    "\n",
    "print(f'Files read: {count_files_read}')\n",
    "print(f'Sequences split: {count_sequences_split}')\n",
    "print(f'Splits: {count_splits}')\n",
    "\n",
    "\n",
    "event_types_map = preprocessor.event_types_map\n",
    "users_map = preprocessor.users_map\n",
    "filetypes_map = preprocessor.filetypes_map\n",
    "path_map = preprocessor.path_map\n",
    "addr_map = preprocessor.addr_map\n",
    "port_map = preprocessor.port_map\n",
    "\n",
    "\n",
    "event_types_cardinality = len(event_types_map)\n",
    "users_cardinality = len(users_map)\n",
    "filetypes_cardinality = len(filetypes_map)\n",
    "path_cardinality = len(path_map)\n",
    "addr_cardinality = len(addr_map)\n",
    "port_cardinality = len(port_map)\n",
    "\n",
    "print(f'Event types: {event_types_cardinality}')\n",
    "print(f'Users: {users_cardinality}')\n",
    "print(f'Filetypes: {filetypes_cardinality}')\n",
    "print(f'Address: {addr_cardinality}')\n",
    "print(f'Port: {port_cardinality}')\n",
    "\n",
    "# print lengths\n",
    "print(f'Train: {len(y_train)}')\n",
    "print(f'Validation: {len(y_val)}')\n",
    "print(f'Test: {len(y_test)}')"
   ]
  },
  {
   "cell_type": "code",
   "execution_count": 9,
   "metadata": {
    "execution": {
     "iopub.execute_input": "2024-09-03T06:11:31.792234Z",
     "iopub.status.busy": "2024-09-03T06:11:31.792017Z",
     "iopub.status.idle": "2024-09-03T06:11:31.816610Z",
     "shell.execute_reply": "2024-09-03T06:11:31.815409Z"
    }
   },
   "outputs": [],
   "source": [
    "# turn labels map into bidirectional map\n",
    "for k, v in labels_map.copy().items():\n",
    "    labels_map[v] = k\n",
    "\n",
    "# turn feature maps into bidirectional maps\n",
    "for k, v in event_types_map.copy().items():\n",
    "    event_types_map[v] = k\n",
    "\n",
    "for k, v in users_map.copy().items():\n",
    "    users_map[v] = k\n",
    "\n",
    "for k, v in filetypes_map.copy().items():\n",
    "    filetypes_map[v] = k"
   ]
  },
  {
   "cell_type": "code",
   "execution_count": 10,
   "metadata": {
    "execution": {
     "iopub.execute_input": "2024-09-03T06:11:31.821829Z",
     "iopub.status.busy": "2024-09-03T06:11:31.821010Z",
     "iopub.status.idle": "2024-09-03T06:11:33.023372Z",
     "shell.execute_reply": "2024-09-03T06:11:33.022656Z"
    }
   },
   "outputs": [
    {
     "data": {
      "image/png": "[encoded data removed]",
      "text/plain": [
       "<Figure size 1181.1x393.701 with 3 Axes>"
      ]
     },
     "metadata": {},
     "output_type": "display_data"
    }
   ],
   "source": [
    "# print distributions in all 3 sets\n",
    "train_distribution = Counter(y_train)\n",
    "val_distribution = Counter(y_val)\n",
    "test_distribution = Counter(y_test)\n",
    "\n",
    "# plot 3 pie plots, use same colors for same classes\n",
    "colors = plt.cm.tab20.colors\n",
    "colors = [ colors[i % 20] for i in range(labels_cardinality) ]\n",
    "\n",
    "# sort labels by occurence in training set\n",
    "sorted_labels = sorted(train_distribution, key=train_distribution.get, reverse=True)\n",
    "\n",
    "# sort all distributions by sorted_labels\n",
    "train_distribution = [train_distribution[label] for label in sorted_labels]\n",
    "val_distribution = [val_distribution[label] for label in sorted_labels]\n",
    "test_distribution = [test_distribution[label] for label in sorted_labels]\n",
    "\n",
    "# transform labels to names\n",
    "sorted_labels = [labels_map[label] for label in sorted_labels]\n",
    "\n",
    "fig, axs = plt.subplots(1, 3, figsize=(30*cm, 10*cm))\n",
    "axs[0].pie(train_distribution, labels=sorted_labels, colors=colors, autopct='%1.1f%%')\n",
    "axs[0].set_title('Train')\n",
    "axs[1].pie(val_distribution, labels=sorted_labels, colors=colors, autopct='%1.1f%%')\n",
    "axs[1].set_title('Validation')\n",
    "axs[2].pie(test_distribution, labels=sorted_labels, colors=colors, autopct='%1.1f%%')\n",
    "axs[2].set_title('Test')\n",
    "plt.savefig(f'{checkpoint_path}/distributions.png')\n",
    "plt.show()"
   ]
  },
  {
   "cell_type": "code",
   "execution_count": 11,
   "metadata": {
    "execution": {
     "iopub.execute_input": "2024-09-03T06:11:33.031869Z",
     "iopub.status.busy": "2024-09-03T06:11:33.031624Z",
     "iopub.status.idle": "2024-09-03T06:11:33.112939Z",
     "shell.execute_reply": "2024-09-03T06:11:33.111969Z"
    }
   },
   "outputs": [],
   "source": [
    "# one-hot encode labels\n",
    "y_train = np.eye(labels_cardinality)[y_train]\n",
    "y_val = np.eye(labels_cardinality)[y_val]\n",
    "y_test = np.eye(labels_cardinality)[y_test]"
   ]
  },
  {
   "cell_type": "code",
   "execution_count": 14,
   "metadata": {
    "execution": {
     "iopub.execute_input": "2024-09-03T06:11:33.147455Z",
     "iopub.status.busy": "2024-09-03T06:11:33.147221Z",
     "iopub.status.idle": "2024-09-03T06:14:08.828600Z",
     "shell.execute_reply": "2024-09-03T06:14:08.827998Z"
    }
   },
   "outputs": [],
   "source": [
    "# Precompute identity matrices\n",
    "event_eye = np.eye(event_types_cardinality)\n",
    "user_eye = np.eye(users_cardinality)\n",
    "addr_eye = np.eye(addr_cardinality)\n",
    "port_eye = np.eye(port_cardinality)\n",
    "\n",
    "def encode_features(sequence: np.ndarray) -> np.ndarray:\n",
    "    # Initialize the output array with precomputed shapes\n",
    "    encoded_seq = np.empty((len(sequence),\n",
    "        event_eye.shape[1]\n",
    "        + user_eye.shape[1]\n",
    "        + addr_cardinality * 4\n",
    "        + port_cardinality * 4\n",
    "        + 48 * 2 # 48 is latent space dimension\n",
    "        + 1 # size\n",
    "    ))\n",
    "\n",
    "    for i, feature_vector in enumerate(sequence):\n",
    "        # one-hot\n",
    "        event = event_eye[int(feature_vector[0])]\n",
    "        username = user_eye[int(feature_vector[1])]\n",
    "        pred_obj1_localip = addr_eye[int(feature_vector[2])]\n",
    "        pred_obj1_localport = port_eye[int(feature_vector[3])]\n",
    "        pred_obj1_remoteip = addr_eye[int(feature_vector[4])]\n",
    "        pred_obj1_remoteport = port_eye[int(feature_vector[5])]\n",
    "        pred_obj2_localip = addr_eye[int(feature_vector[6])]\n",
    "        pred_obj2_localport = port_eye[int(feature_vector[7])]\n",
    "        pred_obj2_remoteip = addr_eye[int(feature_vector[8])]\n",
    "        pred_obj2_remoteport = port_eye[int(feature_vector[9])]\n",
    "        size = feature_vector[10]\n",
    "        path1 = feature_vector[10:10+48]\n",
    "        path2 = feature_vector[10+48:10+48+48]\n",
    "\n",
    "        # Concatenate all features into a single feature vector\n",
    "        encoded_seq[i] = np.concatenate((event, username, pred_obj1_localip, pred_obj1_localport, pred_obj1_remoteip, pred_obj1_remoteport, pred_obj2_localip, pred_obj2_localport, pred_obj2_remoteip, pred_obj2_remoteport, [size], path1, path2))\n",
    "\n",
    "    return encoded_seq\n",
    "\n",
    "X_train = [ encode_features(x) for x in X_train ]\n",
    "X_val = [ encode_features(x) for x in X_val ]\n",
    "X_test = [ encode_features(x) for x in X_test ]"
   ]
  },
  {
   "cell_type": "code",
   "execution_count": 15,
   "metadata": {
    "execution": {
     "iopub.execute_input": "2024-09-03T06:14:08.833296Z",
     "iopub.status.busy": "2024-09-03T06:14:08.832976Z",
     "iopub.status.idle": "2024-09-03T06:14:08.837728Z",
     "shell.execute_reply": "2024-09-03T06:14:08.837079Z"
    }
   },
   "outputs": [
    {
     "name": "stdout",
     "output_type": "stream",
     "text": [
      "Feature vector cardinality: 194\n"
     ]
    }
   ],
   "source": [
    "feature_vector_cardinality = X_train[0].shape[1]\n",
    "\n",
    "print(f'Feature vector cardinality: {feature_vector_cardinality}')"
   ]
  },
  {
   "cell_type": "code",
   "execution_count": 17,
   "metadata": {
    "execution": {
     "iopub.execute_input": "2024-09-03T06:14:08.882935Z",
     "iopub.status.busy": "2024-09-03T06:14:08.882764Z",
     "iopub.status.idle": "2024-09-03T06:14:09.030932Z",
     "shell.execute_reply": "2024-09-03T06:14:09.029848Z"
    }
   },
   "outputs": [],
   "source": [
    "X_train, y_train = shuffle(X_train, y_train)\n",
    "X_val, y_val = shuffle(X_val, y_val)\n",
    "X_test, y_test = shuffle(X_test, y_test)"
   ]
  },
  {
   "cell_type": "markdown",
   "metadata": {},
   "source": [
    "build model"
   ]
  },
  {
   "cell_type": "code",
   "execution_count": 18,
   "metadata": {
    "execution": {
     "iopub.execute_input": "2024-09-03T06:14:09.035484Z",
     "iopub.status.busy": "2024-09-03T06:14:09.035287Z",
     "iopub.status.idle": "2024-09-03T06:14:11.236722Z",
     "shell.execute_reply": "2024-09-03T06:14:11.236044Z"
    }
   },
   "outputs": [
    {
     "data": {
      "text/html": [
       "<pre style=\"white-space:pre;overflow-x:auto;line-height:normal;font-family:Menlo,'DejaVu Sans Mono',consolas,'Courier New',monospace\"><span style=\"font-weight: bold\">Model: \"sequential\"</span>\n",
       "</pre>\n"
      ],
      "text/plain": [
       "\u001b[1mModel: \"sequential\"\u001b[0m\n"
      ]
     },
     "metadata": {},
     "output_type": "display_data"
    },
    {
     "data": {
      "text/html": [
       "<pre style=\"white-space:pre;overflow-x:auto;line-height:normal;font-family:Menlo,'DejaVu Sans Mono',consolas,'Courier New',monospace\">┏━━━━━━━━━━━━━━━━━━━━━━━━━━━━━━━━━┳━━━━━━━━━━━━━━━━━━━━━━━━┳━━━━━━━━━━━━━━━┓\n",
       "┃<span style=\"font-weight: bold\"> Layer (type)                    </span>┃<span style=\"font-weight: bold\"> Output Shape           </span>┃<span style=\"font-weight: bold\">       Param # </span>┃\n",
       "┡━━━━━━━━━━━━━━━━━━━━━━━━━━━━━━━━━╇━━━━━━━━━━━━━━━━━━━━━━━━╇━━━━━━━━━━━━━━━┩\n",
       "│ lstm (<span style=\"color: #0087ff; text-decoration-color: #0087ff\">LSTM</span>)                     │ (<span style=\"color: #00d7ff; text-decoration-color: #00d7ff\">None</span>, <span style=\"color: #00d7ff; text-decoration-color: #00d7ff\">None</span>, <span style=\"color: #00af00; text-decoration-color: #00af00\">750</span>)      │     <span style=\"color: #00af00; text-decoration-color: #00af00\">2,835,000</span> │\n",
       "├─────────────────────────────────┼────────────────────────┼───────────────┤\n",
       "│ lstm_1 (<span style=\"color: #0087ff; text-decoration-color: #0087ff\">LSTM</span>)                   │ (<span style=\"color: #00d7ff; text-decoration-color: #00d7ff\">None</span>, <span style=\"color: #00d7ff; text-decoration-color: #00d7ff\">None</span>, <span style=\"color: #00af00; text-decoration-color: #00af00\">750</span>)      │     <span style=\"color: #00af00; text-decoration-color: #00af00\">4,503,000</span> │\n",
       "├─────────────────────────────────┼────────────────────────┼───────────────┤\n",
       "│ lstm_2 (<span style=\"color: #0087ff; text-decoration-color: #0087ff\">LSTM</span>)                   │ (<span style=\"color: #00d7ff; text-decoration-color: #00d7ff\">None</span>, <span style=\"color: #00d7ff; text-decoration-color: #00d7ff\">None</span>, <span style=\"color: #00af00; text-decoration-color: #00af00\">750</span>)      │     <span style=\"color: #00af00; text-decoration-color: #00af00\">4,503,000</span> │\n",
       "├─────────────────────────────────┼────────────────────────┼───────────────┤\n",
       "│ lstm_3 (<span style=\"color: #0087ff; text-decoration-color: #0087ff\">LSTM</span>)                   │ (<span style=\"color: #00d7ff; text-decoration-color: #00d7ff\">None</span>, <span style=\"color: #00d7ff; text-decoration-color: #00d7ff\">None</span>, <span style=\"color: #00af00; text-decoration-color: #00af00\">750</span>)      │     <span style=\"color: #00af00; text-decoration-color: #00af00\">4,503,000</span> │\n",
       "├─────────────────────────────────┼────────────────────────┼───────────────┤\n",
       "│ lstm_4 (<span style=\"color: #0087ff; text-decoration-color: #0087ff\">LSTM</span>)                   │ (<span style=\"color: #00d7ff; text-decoration-color: #00d7ff\">None</span>, <span style=\"color: #00af00; text-decoration-color: #00af00\">750</span>)            │     <span style=\"color: #00af00; text-decoration-color: #00af00\">4,503,000</span> │\n",
       "├─────────────────────────────────┼────────────────────────┼───────────────┤\n",
       "│ dense (<span style=\"color: #0087ff; text-decoration-color: #0087ff\">Dense</span>)                   │ (<span style=\"color: #00d7ff; text-decoration-color: #00d7ff\">None</span>, <span style=\"color: #00af00; text-decoration-color: #00af00\">67</span>)             │        <span style=\"color: #00af00; text-decoration-color: #00af00\">50,317</span> │\n",
       "└─────────────────────────────────┴────────────────────────┴───────────────┘\n",
       "</pre>\n"
      ],
      "text/plain": [
       "┏━━━━━━━━━━━━━━━━━━━━━━━━━━━━━━━━━┳━━━━━━━━━━━━━━━━━━━━━━━━┳━━━━━━━━━━━━━━━┓\n",
       "┃\u001b[1m \u001b[0m\u001b[1mLayer (type)                   \u001b[0m\u001b[1m \u001b[0m┃\u001b[1m \u001b[0m\u001b[1mOutput Shape          \u001b[0m\u001b[1m \u001b[0m┃\u001b[1m \u001b[0m\u001b[1m      Param #\u001b[0m\u001b[1m \u001b[0m┃\n",
       "┡━━━━━━━━━━━━━━━━━━━━━━━━━━━━━━━━━╇━━━━━━━━━━━━━━━━━━━━━━━━╇━━━━━━━━━━━━━━━┩\n",
       "│ lstm (\u001b[38;5;33mLSTM\u001b[0m)                     │ (\u001b[38;5;45mNone\u001b[0m, \u001b[38;5;45mNone\u001b[0m, \u001b[38;5;34m750\u001b[0m)      │     \u001b[38;5;34m2,835,000\u001b[0m │\n",
       "├─────────────────────────────────┼────────────────────────┼───────────────┤\n",
       "│ lstm_1 (\u001b[38;5;33mLSTM\u001b[0m)                   │ (\u001b[38;5;45mNone\u001b[0m, \u001b[38;5;45mNone\u001b[0m, \u001b[38;5;34m750\u001b[0m)      │     \u001b[38;5;34m4,503,000\u001b[0m │\n",
       "├─────────────────────────────────┼────────────────────────┼───────────────┤\n",
       "│ lstm_2 (\u001b[38;5;33mLSTM\u001b[0m)                   │ (\u001b[38;5;45mNone\u001b[0m, \u001b[38;5;45mNone\u001b[0m, \u001b[38;5;34m750\u001b[0m)      │     \u001b[38;5;34m4,503,000\u001b[0m │\n",
       "├─────────────────────────────────┼────────────────────────┼───────────────┤\n",
       "│ lstm_3 (\u001b[38;5;33mLSTM\u001b[0m)                   │ (\u001b[38;5;45mNone\u001b[0m, \u001b[38;5;45mNone\u001b[0m, \u001b[38;5;34m750\u001b[0m)      │     \u001b[38;5;34m4,503,000\u001b[0m │\n",
       "├─────────────────────────────────┼────────────────────────┼───────────────┤\n",
       "│ lstm_4 (\u001b[38;5;33mLSTM\u001b[0m)                   │ (\u001b[38;5;45mNone\u001b[0m, \u001b[38;5;34m750\u001b[0m)            │     \u001b[38;5;34m4,503,000\u001b[0m │\n",
       "├─────────────────────────────────┼────────────────────────┼───────────────┤\n",
       "│ dense (\u001b[38;5;33mDense\u001b[0m)                   │ (\u001b[38;5;45mNone\u001b[0m, \u001b[38;5;34m67\u001b[0m)             │        \u001b[38;5;34m50,317\u001b[0m │\n",
       "└─────────────────────────────────┴────────────────────────┴───────────────┘\n"
      ]
     },
     "metadata": {},
     "output_type": "display_data"
    },
    {
     "data": {
      "text/html": [
       "<pre style=\"white-space:pre;overflow-x:auto;line-height:normal;font-family:Menlo,'DejaVu Sans Mono',consolas,'Courier New',monospace\"><span style=\"font-weight: bold\"> Total params: </span><span style=\"color: #00af00; text-decoration-color: #00af00\">20,897,317</span> (79.72 MB)\n",
       "</pre>\n"
      ],
      "text/plain": [
       "\u001b[1m Total params: \u001b[0m\u001b[38;5;34m20,897,317\u001b[0m (79.72 MB)\n"
      ]
     },
     "metadata": {},
     "output_type": "display_data"
    },
    {
     "data": {
      "text/html": [
       "<pre style=\"white-space:pre;overflow-x:auto;line-height:normal;font-family:Menlo,'DejaVu Sans Mono',consolas,'Courier New',monospace\"><span style=\"font-weight: bold\"> Trainable params: </span><span style=\"color: #00af00; text-decoration-color: #00af00\">20,897,317</span> (79.72 MB)\n",
       "</pre>\n"
      ],
      "text/plain": [
       "\u001b[1m Trainable params: \u001b[0m\u001b[38;5;34m20,897,317\u001b[0m (79.72 MB)\n"
      ]
     },
     "metadata": {},
     "output_type": "display_data"
    },
    {
     "data": {
      "text/html": [
       "<pre style=\"white-space:pre;overflow-x:auto;line-height:normal;font-family:Menlo,'DejaVu Sans Mono',consolas,'Courier New',monospace\"><span style=\"font-weight: bold\"> Non-trainable params: </span><span style=\"color: #00af00; text-decoration-color: #00af00\">0</span> (0.00 B)\n",
       "</pre>\n"
      ],
      "text/plain": [
       "\u001b[1m Non-trainable params: \u001b[0m\u001b[38;5;34m0\u001b[0m (0.00 B)\n"
      ]
     },
     "metadata": {},
     "output_type": "display_data"
    }
   ],
   "source": [
    "model = Sequential(layers=[\n",
    "    Input(shape=(None, feature_vector_cardinality)),\n",
    "    LSTM(750, return_sequences=True, recurrent_dropout=0.05),\n",
    "    LSTM(750, return_sequences=True, recurrent_dropout=0.05),\n",
    "    LSTM(750, return_sequences=True, recurrent_dropout=0.05),\n",
    "    LSTM(750, return_sequences=True, recurrent_dropout=0.05),\n",
    "    LSTM(750, return_sequences=False, recurrent_dropout=0.05),\n",
    "    Dense(labels_cardinality, activation='softmax')\n",
    "])\n",
    "\n",
    "model.summary()"
   ]
  },
  {
   "cell_type": "code",
   "execution_count": 19,
   "metadata": {
    "execution": {
     "iopub.execute_input": "2024-09-03T06:14:11.243252Z",
     "iopub.status.busy": "2024-09-03T06:14:11.243045Z",
     "iopub.status.idle": "2024-09-03T06:14:11.330164Z",
     "shell.execute_reply": "2024-09-03T06:14:11.329109Z"
    }
   },
   "outputs": [],
   "source": [
    "callbacks = [\n",
    "    EarlyStopping(\n",
    "        monitor='val_loss',\n",
    "        patience=11,\n",
    "        verbose=1,\n",
    "        mode='auto',\n",
    "        restore_best_weights=True\n",
    "    ),\n",
    "    ModelCheckpoint(\n",
    "        filepath=model_path,\n",
    "        monitor='val_loss',\n",
    "        save_best_only=True,\n",
    "        verbose=1\n",
    "    ),\n",
    "    ReduceLROnPlateau(\n",
    "        monitor='val_loss',\n",
    "        factor=0.5,\n",
    "        patience=3,\n",
    "        verbose=1,\n",
    "        mode='auto',\n",
    "        min_lr=1e-8\n",
    "    ),\n",
    "    CSVLogger(\n",
    "        filename=log_path,\n",
    "        append=True\n",
    "    )\n",
    "]\n",
    "\n",
    "loss = CategoricalCrossentropy()\n",
    "optimizer = Adam(learning_rate=0.0001)\n",
    "\n",
    "# class weights\n",
    "y_train_int = np.argmax(y_train, axis=1)\n",
    "class_weights = compute_class_weight(\n",
    "    class_weight='balanced',\n",
    "    classes=np.unique(y_train_int),\n",
    "    y=y_train_int\n",
    ")\n",
    "class_weights_dict = dict(enumerate(class_weights))\n",
    "\n",
    "metrics = [\n",
    "    CategoricalAccuracy(name='categorical_accuracy'),\n",
    "    TopKCategoricalAccuracy(k=top_k, name=f'top_{top_k}_categorical_accuracy'),\n",
    "]\n",
    "\n",
    "weighted_metrics = [\n",
    "    CategoricalAccuracy(name='w_categorical_accuracy'),\n",
    "    TopKCategoricalAccuracy(k=top_k, name=f'w_top_{top_k}_categorical_accuracy'),\n",
    "]\n",
    "\n",
    "# 'categorical_focal_crossentropy'\n",
    "# 'categorical_crossentropy'\n",
    "model.compile(\n",
    "    loss=loss,\n",
    "    optimizer=optimizer,\n",
    "    metrics=metrics,\n",
    "    weighted_metrics=weighted_metrics,\n",
    ")"
   ]
  },
  {
   "cell_type": "markdown",
   "metadata": {},
   "source": [
    "train model"
   ]
  },
  {
   "cell_type": "code",
   "execution_count": 20,
   "metadata": {
    "execution": {
     "iopub.execute_input": "2024-09-03T06:14:11.334668Z",
     "iopub.status.busy": "2024-09-03T06:14:11.334484Z",
     "iopub.status.idle": "2024-09-04T00:54:48.454725Z",
     "shell.execute_reply": "2024-09-04T00:54:48.453427Z"
    }
   },
   "outputs": [
    {
     "name": "stdout",
     "output_type": "stream",
     "text": [
      "Epoch 1/200\n"
     ]
    },
    {
     "name": "stdout",
     "output_type": "stream",
     "text": [
      "\n",
      "Epoch 1: val_loss improved from inf to 1.92335, saving model to saves/pioneer_4.4/model.keras\n"
     ]
    },
    {
     "name": "stdout",
     "output_type": "stream",
     "text": [
      "1932/1932 - 1109s - 574ms/step - categorical_accuracy: 0.4346 - loss: 2.9106 - top_3_categorical_accuracy: 0.6254 - w_categorical_accuracy: 0.2456 - w_top_3_categorical_accuracy: 0.4106 - val_categorical_accuracy: 0.3928 - val_loss: 1.9234 - val_top_3_categorical_accuracy: 0.7116 - val_w_categorical_accuracy: 0.3928 - val_w_top_3_categorical_accuracy: 0.7116 - learning_rate: 1.0000e-04\n"
     ]
    },
    {
     "name": "stdout",
     "output_type": "stream",
     "text": [
      "Epoch 2/200\n"
     ]
    },
    {
     "name": "stdout",
     "output_type": "stream",
     "text": [
      "\n",
      "Epoch 2: val_loss improved from 1.92335 to 1.60832, saving model to saves/pioneer_4.4/model.keras\n"
     ]
    },
    {
     "name": "stdout",
     "output_type": "stream",
     "text": [
      "1932/1932 - 1103s - 571ms/step - categorical_accuracy: 0.5901 - loss: 2.1522 - top_3_categorical_accuracy: 0.8005 - w_categorical_accuracy: 0.3910 - w_top_3_categorical_accuracy: 0.6079 - val_categorical_accuracy: 0.6926 - val_loss: 1.6083 - val_top_3_categorical_accuracy: 0.8619 - val_w_categorical_accuracy: 0.6926 - val_w_top_3_categorical_accuracy: 0.8619 - learning_rate: 1.0000e-04\n"
     ]
    },
    {
     "name": "stdout",
     "output_type": "stream",
     "text": [
      "Epoch 3/200\n"
     ]
    },
    {
     "name": "stdout",
     "output_type": "stream",
     "text": [
      "\n",
      "Epoch 3: val_loss did not improve from 1.60832\n"
     ]
    },
    {
     "name": "stdout",
     "output_type": "stream",
     "text": [
      "1932/1932 - 1101s - 570ms/step - categorical_accuracy: 0.6550 - loss: 1.7574 - top_3_categorical_accuracy: 0.8320 - w_categorical_accuracy: 0.4814 - w_top_3_categorical_accuracy: 0.6982 - val_categorical_accuracy: 0.5539 - val_loss: 1.9781 - val_top_3_categorical_accuracy: 0.7439 - val_w_categorical_accuracy: 0.5539 - val_w_top_3_categorical_accuracy: 0.7439 - learning_rate: 1.0000e-04\n"
     ]
    },
    {
     "name": "stdout",
     "output_type": "stream",
     "text": [
      "Epoch 4/200\n"
     ]
    },
    {
     "name": "stdout",
     "output_type": "stream",
     "text": [
      "\n",
      "Epoch 4: val_loss improved from 1.60832 to 1.33167, saving model to saves/pioneer_4.4/model.keras\n"
     ]
    },
    {
     "name": "stdout",
     "output_type": "stream",
     "text": [
      "1932/1932 - 1103s - 571ms/step - categorical_accuracy: 0.7136 - loss: 1.6075 - top_3_categorical_accuracy: 0.8779 - w_categorical_accuracy: 0.5193 - w_top_3_categorical_accuracy: 0.7351 - val_categorical_accuracy: 0.6939 - val_loss: 1.3317 - val_top_3_categorical_accuracy: 0.8706 - val_w_categorical_accuracy: 0.6939 - val_w_top_3_categorical_accuracy: 0.8706 - learning_rate: 1.0000e-04\n"
     ]
    },
    {
     "name": "stdout",
     "output_type": "stream",
     "text": [
      "Epoch 5/200\n"
     ]
    },
    {
     "name": "stdout",
     "output_type": "stream",
     "text": [
      "\n",
      "Epoch 5: val_loss improved from 1.33167 to 1.10627, saving model to saves/pioneer_4.4/model.keras\n"
     ]
    },
    {
     "name": "stdout",
     "output_type": "stream",
     "text": [
      "1932/1932 - 1100s - 569ms/step - categorical_accuracy: 0.7266 - loss: 1.4192 - top_3_categorical_accuracy: 0.8851 - w_categorical_accuracy: 0.5668 - w_top_3_categorical_accuracy: 0.7632 - val_categorical_accuracy: 0.8678 - val_loss: 1.1063 - val_top_3_categorical_accuracy: 0.9144 - val_w_categorical_accuracy: 0.8678 - val_w_top_3_categorical_accuracy: 0.9144 - learning_rate: 1.0000e-04\n"
     ]
    },
    {
     "name": "stdout",
     "output_type": "stream",
     "text": [
      "Epoch 6/200\n"
     ]
    },
    {
     "name": "stdout",
     "output_type": "stream",
     "text": [
      "\n",
      "Epoch 6: val_loss did not improve from 1.10627\n"
     ]
    },
    {
     "name": "stdout",
     "output_type": "stream",
     "text": [
      "1932/1932 - 1101s - 570ms/step - categorical_accuracy: 0.7785 - loss: 1.2346 - top_3_categorical_accuracy: 0.9193 - w_categorical_accuracy: 0.6162 - w_top_3_categorical_accuracy: 0.8061 - val_categorical_accuracy: 0.8465 - val_loss: 1.2274 - val_top_3_categorical_accuracy: 0.9154 - val_w_categorical_accuracy: 0.8465 - val_w_top_3_categorical_accuracy: 0.9154 - learning_rate: 1.0000e-04\n"
     ]
    },
    {
     "name": "stdout",
     "output_type": "stream",
     "text": [
      "Epoch 7/200\n"
     ]
    },
    {
     "name": "stdout",
     "output_type": "stream",
     "text": [
      "\n",
      "Epoch 7: val_loss improved from 1.10627 to 1.04458, saving model to saves/pioneer_4.4/model.keras\n"
     ]
    },
    {
     "name": "stdout",
     "output_type": "stream",
     "text": [
      "1932/1932 - 1103s - 571ms/step - categorical_accuracy: 0.8189 - loss: 1.1396 - top_3_categorical_accuracy: 0.9361 - w_categorical_accuracy: 0.6352 - w_top_3_categorical_accuracy: 0.8330 - val_categorical_accuracy: 0.8548 - val_loss: 1.0446 - val_top_3_categorical_accuracy: 0.9084 - val_w_categorical_accuracy: 0.8548 - val_w_top_3_categorical_accuracy: 0.9084 - learning_rate: 1.0000e-04\n"
     ]
    },
    {
     "name": "stdout",
     "output_type": "stream",
     "text": [
      "Epoch 8/200\n"
     ]
    },
    {
     "name": "stdout",
     "output_type": "stream",
     "text": [
      "\n",
      "Epoch 8: val_loss did not improve from 1.04458\n"
     ]
    },
    {
     "name": "stdout",
     "output_type": "stream",
     "text": [
      "1932/1932 - 1101s - 570ms/step - categorical_accuracy: 0.8263 - loss: 1.0661 - top_3_categorical_accuracy: 0.9459 - w_categorical_accuracy: 0.6762 - w_top_3_categorical_accuracy: 0.8440 - val_categorical_accuracy: 0.5817 - val_loss: 2.3663 - val_top_3_categorical_accuracy: 0.6526 - val_w_categorical_accuracy: 0.5817 - val_w_top_3_categorical_accuracy: 0.6526 - learning_rate: 1.0000e-04\n"
     ]
    },
    {
     "name": "stdout",
     "output_type": "stream",
     "text": [
      "Epoch 9/200\n"
     ]
    },
    {
     "name": "stdout",
     "output_type": "stream",
     "text": [
      "\n",
      "Epoch 9: val_loss improved from 1.04458 to 0.72427, saving model to saves/pioneer_4.4/model.keras\n"
     ]
    },
    {
     "name": "stdout",
     "output_type": "stream",
     "text": [
      "1932/1932 - 1105s - 572ms/step - categorical_accuracy: 0.8678 - loss: 0.8915 - top_3_categorical_accuracy: 0.9517 - w_categorical_accuracy: 0.7191 - w_top_3_categorical_accuracy: 0.8801 - val_categorical_accuracy: 0.9105 - val_loss: 0.7243 - val_top_3_categorical_accuracy: 0.9401 - val_w_categorical_accuracy: 0.9105 - val_w_top_3_categorical_accuracy: 0.9401 - learning_rate: 1.0000e-04\n"
     ]
    },
    {
     "name": "stdout",
     "output_type": "stream",
     "text": [
      "Epoch 10/200\n"
     ]
    },
    {
     "name": "stdout",
     "output_type": "stream",
     "text": [
      "\n",
      "Epoch 10: val_loss improved from 0.72427 to 0.63391, saving model to saves/pioneer_4.4/model.keras\n"
     ]
    },
    {
     "name": "stdout",
     "output_type": "stream",
     "text": [
      "1932/1932 - 1105s - 572ms/step - categorical_accuracy: 0.8975 - loss: 0.7545 - top_3_categorical_accuracy: 0.9693 - w_categorical_accuracy: 0.7732 - w_top_3_categorical_accuracy: 0.9018 - val_categorical_accuracy: 0.9134 - val_loss: 0.6339 - val_top_3_categorical_accuracy: 0.9374 - val_w_categorical_accuracy: 0.9134 - val_w_top_3_categorical_accuracy: 0.9374 - learning_rate: 1.0000e-04\n"
     ]
    },
    {
     "name": "stdout",
     "output_type": "stream",
     "text": [
      "Epoch 11/200\n"
     ]
    },
    {
     "name": "stdout",
     "output_type": "stream",
     "text": [
      "\n",
      "Epoch 11: val_loss did not improve from 0.63391\n"
     ]
    },
    {
     "name": "stdout",
     "output_type": "stream",
     "text": [
      "1932/1932 - 1100s - 569ms/step - categorical_accuracy: 0.9004 - loss: 0.7248 - top_3_categorical_accuracy: 0.9671 - w_categorical_accuracy: 0.7791 - w_top_3_categorical_accuracy: 0.8991 - val_categorical_accuracy: 0.9086 - val_loss: 0.7718 - val_top_3_categorical_accuracy: 0.9277 - val_w_categorical_accuracy: 0.9086 - val_w_top_3_categorical_accuracy: 0.9277 - learning_rate: 1.0000e-04\n"
     ]
    },
    {
     "name": "stdout",
     "output_type": "stream",
     "text": [
      "Epoch 12/200\n"
     ]
    },
    {
     "name": "stdout",
     "output_type": "stream",
     "text": [
      "\n",
      "Epoch 12: val_loss did not improve from 0.63391\n"
     ]
    },
    {
     "name": "stdout",
     "output_type": "stream",
     "text": [
      "1932/1932 - 1101s - 570ms/step - categorical_accuracy: 0.9177 - loss: 0.6134 - top_3_categorical_accuracy: 0.9703 - w_categorical_accuracy: 0.8037 - w_top_3_categorical_accuracy: 0.9275 - val_categorical_accuracy: 0.9172 - val_loss: 0.6981 - val_top_3_categorical_accuracy: 0.9387 - val_w_categorical_accuracy: 0.9172 - val_w_top_3_categorical_accuracy: 0.9387 - learning_rate: 1.0000e-04\n"
     ]
    },
    {
     "name": "stdout",
     "output_type": "stream",
     "text": [
      "Epoch 13/200\n"
     ]
    },
    {
     "name": "stdout",
     "output_type": "stream",
     "text": [
      "\n",
      "Epoch 13: val_loss did not improve from 0.63391\n"
     ]
    },
    {
     "name": "stdout",
     "output_type": "stream",
     "text": [
      "\n",
      "Epoch 13: ReduceLROnPlateau reducing learning rate to 4.999999873689376e-05.\n"
     ]
    },
    {
     "name": "stdout",
     "output_type": "stream",
     "text": [
      "1932/1932 - 1101s - 570ms/step - categorical_accuracy: 0.9393 - loss: 0.5924 - top_3_categorical_accuracy: 0.9737 - w_categorical_accuracy: 0.8010 - w_top_3_categorical_accuracy: 0.9278 - val_categorical_accuracy: 0.9231 - val_loss: 0.6752 - val_top_3_categorical_accuracy: 0.9390 - val_w_categorical_accuracy: 0.9231 - val_w_top_3_categorical_accuracy: 0.9390 - learning_rate: 1.0000e-04\n"
     ]
    },
    {
     "name": "stdout",
     "output_type": "stream",
     "text": [
      "Epoch 14/200\n"
     ]
    },
    {
     "name": "stdout",
     "output_type": "stream",
     "text": [
      "\n",
      "Epoch 14: val_loss did not improve from 0.63391\n"
     ]
    },
    {
     "name": "stdout",
     "output_type": "stream",
     "text": [
      "1932/1932 - 1104s - 571ms/step - categorical_accuracy: 0.9484 - loss: 0.4068 - top_3_categorical_accuracy: 0.9711 - w_categorical_accuracy: 0.8611 - w_top_3_categorical_accuracy: 0.9565 - val_categorical_accuracy: 0.9245 - val_loss: 0.6341 - val_top_3_categorical_accuracy: 0.9390 - val_w_categorical_accuracy: 0.9245 - val_w_top_3_categorical_accuracy: 0.9390 - learning_rate: 5.0000e-05\n"
     ]
    },
    {
     "name": "stdout",
     "output_type": "stream",
     "text": [
      "Epoch 15/200\n"
     ]
    },
    {
     "name": "stdout",
     "output_type": "stream",
     "text": [
      "\n",
      "Epoch 15: val_loss did not improve from 0.63391\n"
     ]
    },
    {
     "name": "stdout",
     "output_type": "stream",
     "text": [
      "1932/1932 - 1105s - 572ms/step - categorical_accuracy: 0.9610 - loss: 0.3641 - top_3_categorical_accuracy: 0.9833 - w_categorical_accuracy: 0.8722 - w_top_3_categorical_accuracy: 0.9653 - val_categorical_accuracy: 0.9198 - val_loss: 0.6588 - val_top_3_categorical_accuracy: 0.9463 - val_w_categorical_accuracy: 0.9198 - val_w_top_3_categorical_accuracy: 0.9463 - learning_rate: 5.0000e-05\n"
     ]
    },
    {
     "name": "stdout",
     "output_type": "stream",
     "text": [
      "Epoch 16/200\n"
     ]
    },
    {
     "name": "stdout",
     "output_type": "stream",
     "text": [
      "\n",
      "Epoch 16: val_loss did not improve from 0.63391\n"
     ]
    },
    {
     "name": "stdout",
     "output_type": "stream",
     "text": [
      "\n",
      "Epoch 16: ReduceLROnPlateau reducing learning rate to 2.499999936844688e-05.\n"
     ]
    },
    {
     "name": "stdout",
     "output_type": "stream",
     "text": [
      "1932/1932 - 1102s - 570ms/step - categorical_accuracy: 0.9603 - loss: 0.3754 - top_3_categorical_accuracy: 0.9818 - w_categorical_accuracy: 0.8674 - w_top_3_categorical_accuracy: 0.9612 - val_categorical_accuracy: 0.9214 - val_loss: 0.6559 - val_top_3_categorical_accuracy: 0.9438 - val_w_categorical_accuracy: 0.9214 - val_w_top_3_categorical_accuracy: 0.9438 - learning_rate: 5.0000e-05\n"
     ]
    },
    {
     "name": "stdout",
     "output_type": "stream",
     "text": [
      "Epoch 17/200\n"
     ]
    },
    {
     "name": "stdout",
     "output_type": "stream",
     "text": [
      "\n",
      "Epoch 17: val_loss improved from 0.63391 to 0.62139, saving model to saves/pioneer_4.4/model.keras\n"
     ]
    },
    {
     "name": "stdout",
     "output_type": "stream",
     "text": [
      "1932/1932 - 1102s - 571ms/step - categorical_accuracy: 0.9689 - loss: 0.2848 - top_3_categorical_accuracy: 0.9858 - w_categorical_accuracy: 0.8960 - w_top_3_categorical_accuracy: 0.9748 - val_categorical_accuracy: 0.9319 - val_loss: 0.6214 - val_top_3_categorical_accuracy: 0.9465 - val_w_categorical_accuracy: 0.9319 - val_w_top_3_categorical_accuracy: 0.9465 - learning_rate: 2.5000e-05\n"
     ]
    },
    {
     "name": "stdout",
     "output_type": "stream",
     "text": [
      "Epoch 18/200\n"
     ]
    },
    {
     "name": "stdout",
     "output_type": "stream",
     "text": [
      "\n",
      "Epoch 18: val_loss did not improve from 0.62139\n"
     ]
    },
    {
     "name": "stdout",
     "output_type": "stream",
     "text": [
      "1932/1932 - 1102s - 570ms/step - categorical_accuracy: 0.9712 - loss: 0.2725 - top_3_categorical_accuracy: 0.9858 - w_categorical_accuracy: 0.9005 - w_top_3_categorical_accuracy: 0.9758 - val_categorical_accuracy: 0.9291 - val_loss: 0.6522 - val_top_3_categorical_accuracy: 0.9411 - val_w_categorical_accuracy: 0.9291 - val_w_top_3_categorical_accuracy: 0.9411 - learning_rate: 2.5000e-05\n"
     ]
    },
    {
     "name": "stdout",
     "output_type": "stream",
     "text": [
      "Epoch 19/200\n"
     ]
    },
    {
     "name": "stdout",
     "output_type": "stream",
     "text": [
      "\n",
      "Epoch 19: val_loss did not improve from 0.62139\n"
     ]
    },
    {
     "name": "stdout",
     "output_type": "stream",
     "text": [
      "1932/1932 - 1100s - 569ms/step - categorical_accuracy: 0.9724 - loss: 0.2618 - top_3_categorical_accuracy: 0.9863 - w_categorical_accuracy: 0.8987 - w_top_3_categorical_accuracy: 0.9747 - val_categorical_accuracy: 0.9338 - val_loss: 0.6332 - val_top_3_categorical_accuracy: 0.9463 - val_w_categorical_accuracy: 0.9338 - val_w_top_3_categorical_accuracy: 0.9463 - learning_rate: 2.5000e-05\n"
     ]
    },
    {
     "name": "stdout",
     "output_type": "stream",
     "text": [
      "Epoch 20/200\n"
     ]
    },
    {
     "name": "stdout",
     "output_type": "stream",
     "text": [
      "\n",
      "Epoch 20: val_loss did not improve from 0.62139\n"
     ]
    },
    {
     "name": "stdout",
     "output_type": "stream",
     "text": [
      "\n",
      "Epoch 20: ReduceLROnPlateau reducing learning rate to 1.249999968422344e-05.\n"
     ]
    },
    {
     "name": "stdout",
     "output_type": "stream",
     "text": [
      "1932/1932 - 1103s - 571ms/step - categorical_accuracy: 0.9734 - loss: 0.2554 - top_3_categorical_accuracy: 0.9876 - w_categorical_accuracy: 0.8984 - w_top_3_categorical_accuracy: 0.9776 - val_categorical_accuracy: 0.9290 - val_loss: 0.6374 - val_top_3_categorical_accuracy: 0.9495 - val_w_categorical_accuracy: 0.9290 - val_w_top_3_categorical_accuracy: 0.9495 - learning_rate: 2.5000e-05\n"
     ]
    },
    {
     "name": "stdout",
     "output_type": "stream",
     "text": [
      "Epoch 21/200\n"
     ]
    },
    {
     "name": "stdout",
     "output_type": "stream",
     "text": [
      "\n",
      "Epoch 21: val_loss did not improve from 0.62139\n"
     ]
    },
    {
     "name": "stdout",
     "output_type": "stream",
     "text": [
      "1932/1932 - 1100s - 570ms/step - categorical_accuracy: 0.9757 - loss: 0.2177 - top_3_categorical_accuracy: 0.9876 - w_categorical_accuracy: 0.9091 - w_top_3_categorical_accuracy: 0.9802 - val_categorical_accuracy: 0.9354 - val_loss: 0.6235 - val_top_3_categorical_accuracy: 0.9479 - val_w_categorical_accuracy: 0.9354 - val_w_top_3_categorical_accuracy: 0.9479 - learning_rate: 1.2500e-05\n"
     ]
    },
    {
     "name": "stdout",
     "output_type": "stream",
     "text": [
      "Epoch 22/200\n"
     ]
    },
    {
     "name": "stdout",
     "output_type": "stream",
     "text": [
      "\n",
      "Epoch 22: val_loss did not improve from 0.62139\n"
     ]
    },
    {
     "name": "stdout",
     "output_type": "stream",
     "text": [
      "1932/1932 - 1102s - 570ms/step - categorical_accuracy: 0.9768 - loss: 0.2151 - top_3_categorical_accuracy: 0.9879 - w_categorical_accuracy: 0.9158 - w_top_3_categorical_accuracy: 0.9806 - val_categorical_accuracy: 0.9356 - val_loss: 0.6248 - val_top_3_categorical_accuracy: 0.9481 - val_w_categorical_accuracy: 0.9356 - val_w_top_3_categorical_accuracy: 0.9481 - learning_rate: 1.2500e-05\n"
     ]
    },
    {
     "name": "stdout",
     "output_type": "stream",
     "text": [
      "Epoch 23/200\n"
     ]
    },
    {
     "name": "stdout",
     "output_type": "stream",
     "text": [
      "\n",
      "Epoch 23: val_loss did not improve from 0.62139\n"
     ]
    },
    {
     "name": "stdout",
     "output_type": "stream",
     "text": [
      "\n",
      "Epoch 23: ReduceLROnPlateau reducing learning rate to 6.24999984211172e-06.\n"
     ]
    },
    {
     "name": "stdout",
     "output_type": "stream",
     "text": [
      "1932/1932 - 1103s - 571ms/step - categorical_accuracy: 0.9775 - loss: 0.2158 - top_3_categorical_accuracy: 0.9881 - w_categorical_accuracy: 0.9096 - w_top_3_categorical_accuracy: 0.9822 - val_categorical_accuracy: 0.9364 - val_loss: 0.6283 - val_top_3_categorical_accuracy: 0.9480 - val_w_categorical_accuracy: 0.9364 - val_w_top_3_categorical_accuracy: 0.9480 - learning_rate: 1.2500e-05\n"
     ]
    },
    {
     "name": "stdout",
     "output_type": "stream",
     "text": [
      "Epoch 24/200\n"
     ]
    },
    {
     "name": "stdout",
     "output_type": "stream",
     "text": [
      "\n",
      "Epoch 24: val_loss did not improve from 0.62139\n"
     ]
    },
    {
     "name": "stdout",
     "output_type": "stream",
     "text": [
      "1932/1932 - 1104s - 571ms/step - categorical_accuracy: 0.9764 - loss: 0.1885 - top_3_categorical_accuracy: 0.9883 - w_categorical_accuracy: 0.9205 - w_top_3_categorical_accuracy: 0.9824 - val_categorical_accuracy: 0.9366 - val_loss: 0.6380 - val_top_3_categorical_accuracy: 0.9482 - val_w_categorical_accuracy: 0.9366 - val_w_top_3_categorical_accuracy: 0.9482 - learning_rate: 6.2500e-06\n"
     ]
    },
    {
     "name": "stdout",
     "output_type": "stream",
     "text": [
      "Epoch 25/200\n"
     ]
    },
    {
     "name": "stdout",
     "output_type": "stream",
     "text": [
      "\n",
      "Epoch 25: val_loss did not improve from 0.62139\n"
     ]
    },
    {
     "name": "stdout",
     "output_type": "stream",
     "text": [
      "1932/1932 - 1100s - 569ms/step - categorical_accuracy: 0.9771 - loss: 0.1869 - top_3_categorical_accuracy: 0.9884 - w_categorical_accuracy: 0.9237 - w_top_3_categorical_accuracy: 0.9836 - val_categorical_accuracy: 0.9393 - val_loss: 0.6234 - val_top_3_categorical_accuracy: 0.9484 - val_w_categorical_accuracy: 0.9393 - val_w_top_3_categorical_accuracy: 0.9484 - learning_rate: 6.2500e-06\n"
     ]
    },
    {
     "name": "stdout",
     "output_type": "stream",
     "text": [
      "Epoch 26/200\n"
     ]
    },
    {
     "name": "stdout",
     "output_type": "stream",
     "text": [
      "\n",
      "Epoch 26: val_loss improved from 0.62139 to 0.58510, saving model to saves/pioneer_4.4/model.keras\n"
     ]
    },
    {
     "name": "stdout",
     "output_type": "stream",
     "text": [
      "1932/1932 - 1102s - 570ms/step - categorical_accuracy: 0.9783 - loss: 0.1809 - top_3_categorical_accuracy: 0.9885 - w_categorical_accuracy: 0.9269 - w_top_3_categorical_accuracy: 0.9828 - val_categorical_accuracy: 0.9387 - val_loss: 0.5851 - val_top_3_categorical_accuracy: 0.9485 - val_w_categorical_accuracy: 0.9387 - val_w_top_3_categorical_accuracy: 0.9485 - learning_rate: 6.2500e-06\n"
     ]
    },
    {
     "name": "stdout",
     "output_type": "stream",
     "text": [
      "Epoch 27/200\n"
     ]
    },
    {
     "name": "stdout",
     "output_type": "stream",
     "text": [
      "\n",
      "Epoch 27: val_loss did not improve from 0.58510\n"
     ]
    },
    {
     "name": "stdout",
     "output_type": "stream",
     "text": [
      "1932/1932 - 1102s - 571ms/step - categorical_accuracy: 0.9775 - loss: 0.1780 - top_3_categorical_accuracy: 0.9884 - w_categorical_accuracy: 0.9234 - w_top_3_categorical_accuracy: 0.9838 - val_categorical_accuracy: 0.9377 - val_loss: 0.6120 - val_top_3_categorical_accuracy: 0.9483 - val_w_categorical_accuracy: 0.9377 - val_w_top_3_categorical_accuracy: 0.9483 - learning_rate: 6.2500e-06\n"
     ]
    },
    {
     "name": "stdout",
     "output_type": "stream",
     "text": [
      "Epoch 28/200\n"
     ]
    },
    {
     "name": "stdout",
     "output_type": "stream",
     "text": [
      "\n",
      "Epoch 28: val_loss improved from 0.58510 to 0.58188, saving model to saves/pioneer_4.4/model.keras\n"
     ]
    },
    {
     "name": "stdout",
     "output_type": "stream",
     "text": [
      "1932/1932 - 1103s - 571ms/step - categorical_accuracy: 0.9789 - loss: 0.1785 - top_3_categorical_accuracy: 0.9885 - w_categorical_accuracy: 0.9219 - w_top_3_categorical_accuracy: 0.9810 - val_categorical_accuracy: 0.9374 - val_loss: 0.5819 - val_top_3_categorical_accuracy: 0.9484 - val_w_categorical_accuracy: 0.9374 - val_w_top_3_categorical_accuracy: 0.9484 - learning_rate: 6.2500e-06\n"
     ]
    },
    {
     "name": "stdout",
     "output_type": "stream",
     "text": [
      "Epoch 29/200\n"
     ]
    },
    {
     "name": "stdout",
     "output_type": "stream",
     "text": [
      "\n",
      "Epoch 29: val_loss improved from 0.58188 to 0.57336, saving model to saves/pioneer_4.4/model.keras\n"
     ]
    },
    {
     "name": "stdout",
     "output_type": "stream",
     "text": [
      "1932/1932 - 1102s - 571ms/step - categorical_accuracy: 0.9782 - loss: 0.1700 - top_3_categorical_accuracy: 0.9886 - w_categorical_accuracy: 0.9247 - w_top_3_categorical_accuracy: 0.9839 - val_categorical_accuracy: 0.9390 - val_loss: 0.5734 - val_top_3_categorical_accuracy: 0.9485 - val_w_categorical_accuracy: 0.9390 - val_w_top_3_categorical_accuracy: 0.9485 - learning_rate: 6.2500e-06\n"
     ]
    },
    {
     "name": "stdout",
     "output_type": "stream",
     "text": [
      "Epoch 30/200\n"
     ]
    },
    {
     "name": "stdout",
     "output_type": "stream",
     "text": [
      "\n",
      "Epoch 30: val_loss improved from 0.57336 to 0.56754, saving model to saves/pioneer_4.4/model.keras\n"
     ]
    },
    {
     "name": "stdout",
     "output_type": "stream",
     "text": [
      "1932/1932 - 1101s - 570ms/step - categorical_accuracy: 0.9793 - loss: 0.1682 - top_3_categorical_accuracy: 0.9887 - w_categorical_accuracy: 0.9303 - w_top_3_categorical_accuracy: 0.9841 - val_categorical_accuracy: 0.9378 - val_loss: 0.5675 - val_top_3_categorical_accuracy: 0.9486 - val_w_categorical_accuracy: 0.9378 - val_w_top_3_categorical_accuracy: 0.9486 - learning_rate: 6.2500e-06\n"
     ]
    },
    {
     "name": "stdout",
     "output_type": "stream",
     "text": [
      "Epoch 31/200\n"
     ]
    },
    {
     "name": "stdout",
     "output_type": "stream",
     "text": [
      "\n",
      "Epoch 31: val_loss did not improve from 0.56754\n"
     ]
    },
    {
     "name": "stdout",
     "output_type": "stream",
     "text": [
      "1932/1932 - 1103s - 571ms/step - categorical_accuracy: 0.9792 - loss: 0.1699 - top_3_categorical_accuracy: 0.9887 - w_categorical_accuracy: 0.9250 - w_top_3_categorical_accuracy: 0.9826 - val_categorical_accuracy: 0.9393 - val_loss: 0.5760 - val_top_3_categorical_accuracy: 0.9487 - val_w_categorical_accuracy: 0.9393 - val_w_top_3_categorical_accuracy: 0.9487 - learning_rate: 6.2500e-06\n"
     ]
    },
    {
     "name": "stdout",
     "output_type": "stream",
     "text": [
      "Epoch 32/200\n"
     ]
    },
    {
     "name": "stdout",
     "output_type": "stream",
     "text": [
      "\n",
      "Epoch 32: val_loss did not improve from 0.56754\n"
     ]
    },
    {
     "name": "stdout",
     "output_type": "stream",
     "text": [
      "1932/1932 - 1102s - 571ms/step - categorical_accuracy: 0.9802 - loss: 0.1648 - top_3_categorical_accuracy: 0.9888 - w_categorical_accuracy: 0.9279 - w_top_3_categorical_accuracy: 0.9842 - val_categorical_accuracy: 0.9378 - val_loss: 0.5752 - val_top_3_categorical_accuracy: 0.9486 - val_w_categorical_accuracy: 0.9378 - val_w_top_3_categorical_accuracy: 0.9486 - learning_rate: 6.2500e-06\n"
     ]
    },
    {
     "name": "stdout",
     "output_type": "stream",
     "text": [
      "Epoch 33/200\n"
     ]
    },
    {
     "name": "stdout",
     "output_type": "stream",
     "text": [
      "\n",
      "Epoch 33: val_loss did not improve from 0.56754\n"
     ]
    },
    {
     "name": "stdout",
     "output_type": "stream",
     "text": [
      "\n",
      "Epoch 33: ReduceLROnPlateau reducing learning rate to 3.12499992105586e-06.\n"
     ]
    },
    {
     "name": "stdout",
     "output_type": "stream",
     "text": [
      "1932/1932 - 1103s - 571ms/step - categorical_accuracy: 0.9785 - loss: 0.1628 - top_3_categorical_accuracy: 0.9888 - w_categorical_accuracy: 0.9270 - w_top_3_categorical_accuracy: 0.9843 - val_categorical_accuracy: 0.9411 - val_loss: 0.5748 - val_top_3_categorical_accuracy: 0.9488 - val_w_categorical_accuracy: 0.9411 - val_w_top_3_categorical_accuracy: 0.9488 - learning_rate: 6.2500e-06\n"
     ]
    },
    {
     "name": "stdout",
     "output_type": "stream",
     "text": [
      "Epoch 34/200\n"
     ]
    },
    {
     "name": "stdout",
     "output_type": "stream",
     "text": [
      "\n",
      "Epoch 34: val_loss improved from 0.56754 to 0.56399, saving model to saves/pioneer_4.4/model.keras\n"
     ]
    },
    {
     "name": "stdout",
     "output_type": "stream",
     "text": [
      "1932/1932 - 1102s - 570ms/step - categorical_accuracy: 0.9802 - loss: 0.1535 - top_3_categorical_accuracy: 0.9889 - w_categorical_accuracy: 0.9308 - w_top_3_categorical_accuracy: 0.9845 - val_categorical_accuracy: 0.9382 - val_loss: 0.5640 - val_top_3_categorical_accuracy: 0.9487 - val_w_categorical_accuracy: 0.9382 - val_w_top_3_categorical_accuracy: 0.9487 - learning_rate: 3.1250e-06\n"
     ]
    },
    {
     "name": "stdout",
     "output_type": "stream",
     "text": [
      "Epoch 35/200\n"
     ]
    },
    {
     "name": "stdout",
     "output_type": "stream",
     "text": [
      "\n",
      "Epoch 35: val_loss improved from 0.56399 to 0.56183, saving model to saves/pioneer_4.4/model.keras\n"
     ]
    },
    {
     "name": "stdout",
     "output_type": "stream",
     "text": [
      "1932/1932 - 1102s - 570ms/step - categorical_accuracy: 0.9800 - loss: 0.1506 - top_3_categorical_accuracy: 0.9889 - w_categorical_accuracy: 0.9327 - w_top_3_categorical_accuracy: 0.9845 - val_categorical_accuracy: 0.9394 - val_loss: 0.5618 - val_top_3_categorical_accuracy: 0.9488 - val_w_categorical_accuracy: 0.9394 - val_w_top_3_categorical_accuracy: 0.9488 - learning_rate: 3.1250e-06\n"
     ]
    },
    {
     "name": "stdout",
     "output_type": "stream",
     "text": [
      "Epoch 36/200\n"
     ]
    },
    {
     "name": "stdout",
     "output_type": "stream",
     "text": [
      "\n",
      "Epoch 36: val_loss improved from 0.56183 to 0.56051, saving model to saves/pioneer_4.4/model.keras\n"
     ]
    },
    {
     "name": "stdout",
     "output_type": "stream",
     "text": [
      "1932/1932 - 1105s - 572ms/step - categorical_accuracy: 0.9802 - loss: 0.1540 - top_3_categorical_accuracy: 0.9892 - w_categorical_accuracy: 0.9340 - w_top_3_categorical_accuracy: 0.9847 - val_categorical_accuracy: 0.9395 - val_loss: 0.5605 - val_top_3_categorical_accuracy: 0.9487 - val_w_categorical_accuracy: 0.9395 - val_w_top_3_categorical_accuracy: 0.9487 - learning_rate: 3.1250e-06\n"
     ]
    },
    {
     "name": "stdout",
     "output_type": "stream",
     "text": [
      "Epoch 37/200\n"
     ]
    },
    {
     "name": "stdout",
     "output_type": "stream",
     "text": [
      "\n",
      "Epoch 37: val_loss improved from 0.56051 to 0.55707, saving model to saves/pioneer_4.4/model.keras\n"
     ]
    },
    {
     "name": "stdout",
     "output_type": "stream",
     "text": [
      "1932/1932 - 1105s - 572ms/step - categorical_accuracy: 0.9809 - loss: 0.1463 - top_3_categorical_accuracy: 0.9895 - w_categorical_accuracy: 0.9360 - w_top_3_categorical_accuracy: 0.9853 - val_categorical_accuracy: 0.9396 - val_loss: 0.5571 - val_top_3_categorical_accuracy: 0.9486 - val_w_categorical_accuracy: 0.9396 - val_w_top_3_categorical_accuracy: 0.9486 - learning_rate: 3.1250e-06\n"
     ]
    },
    {
     "name": "stdout",
     "output_type": "stream",
     "text": [
      "Epoch 38/200\n"
     ]
    },
    {
     "name": "stdout",
     "output_type": "stream",
     "text": [
      "\n",
      "Epoch 38: val_loss did not improve from 0.55707\n"
     ]
    },
    {
     "name": "stdout",
     "output_type": "stream",
     "text": [
      "1932/1932 - 1099s - 569ms/step - categorical_accuracy: 0.9807 - loss: 0.1485 - top_3_categorical_accuracy: 0.9901 - w_categorical_accuracy: 0.9375 - w_top_3_categorical_accuracy: 0.9860 - val_categorical_accuracy: 0.9394 - val_loss: 0.5631 - val_top_3_categorical_accuracy: 0.9487 - val_w_categorical_accuracy: 0.9394 - val_w_top_3_categorical_accuracy: 0.9487 - learning_rate: 3.1250e-06\n"
     ]
    },
    {
     "name": "stdout",
     "output_type": "stream",
     "text": [
      "Epoch 39/200\n"
     ]
    },
    {
     "name": "stdout",
     "output_type": "stream",
     "text": [
      "\n",
      "Epoch 39: val_loss did not improve from 0.55707\n"
     ]
    },
    {
     "name": "stdout",
     "output_type": "stream",
     "text": [
      "1932/1932 - 1101s - 570ms/step - categorical_accuracy: 0.9809 - loss: 0.1468 - top_3_categorical_accuracy: 0.9903 - w_categorical_accuracy: 0.9363 - w_top_3_categorical_accuracy: 0.9864 - val_categorical_accuracy: 0.9396 - val_loss: 0.5572 - val_top_3_categorical_accuracy: 0.9523 - val_w_categorical_accuracy: 0.9396 - val_w_top_3_categorical_accuracy: 0.9523 - learning_rate: 3.1250e-06\n"
     ]
    },
    {
     "name": "stdout",
     "output_type": "stream",
     "text": [
      "Epoch 40/200\n"
     ]
    },
    {
     "name": "stdout",
     "output_type": "stream",
     "text": [
      "\n",
      "Epoch 40: val_loss improved from 0.55707 to 0.55431, saving model to saves/pioneer_4.4/model.keras\n"
     ]
    },
    {
     "name": "stdout",
     "output_type": "stream",
     "text": [
      "1932/1932 - 1103s - 571ms/step - categorical_accuracy: 0.9815 - loss: 0.1404 - top_3_categorical_accuracy: 0.9916 - w_categorical_accuracy: 0.9326 - w_top_3_categorical_accuracy: 0.9878 - val_categorical_accuracy: 0.9401 - val_loss: 0.5543 - val_top_3_categorical_accuracy: 0.9523 - val_w_categorical_accuracy: 0.9401 - val_w_top_3_categorical_accuracy: 0.9523 - learning_rate: 3.1250e-06\n"
     ]
    },
    {
     "name": "stdout",
     "output_type": "stream",
     "text": [
      "Epoch 41/200\n"
     ]
    },
    {
     "name": "stdout",
     "output_type": "stream",
     "text": [
      "\n",
      "Epoch 41: val_loss did not improve from 0.55431\n"
     ]
    },
    {
     "name": "stdout",
     "output_type": "stream",
     "text": [
      "1932/1932 - 1102s - 570ms/step - categorical_accuracy: 0.9813 - loss: 0.1409 - top_3_categorical_accuracy: 0.9925 - w_categorical_accuracy: 0.9379 - w_top_3_categorical_accuracy: 0.9888 - val_categorical_accuracy: 0.9420 - val_loss: 0.5562 - val_top_3_categorical_accuracy: 0.9540 - val_w_categorical_accuracy: 0.9420 - val_w_top_3_categorical_accuracy: 0.9540 - learning_rate: 3.1250e-06\n"
     ]
    },
    {
     "name": "stdout",
     "output_type": "stream",
     "text": [
      "Epoch 42/200\n"
     ]
    },
    {
     "name": "stdout",
     "output_type": "stream",
     "text": [
      "\n",
      "Epoch 42: val_loss improved from 0.55431 to 0.55323, saving model to saves/pioneer_4.4/model.keras\n"
     ]
    },
    {
     "name": "stdout",
     "output_type": "stream",
     "text": [
      "1932/1932 - 1103s - 571ms/step - categorical_accuracy: 0.9815 - loss: 0.1368 - top_3_categorical_accuracy: 0.9930 - w_categorical_accuracy: 0.9433 - w_top_3_categorical_accuracy: 0.9896 - val_categorical_accuracy: 0.9399 - val_loss: 0.5532 - val_top_3_categorical_accuracy: 0.9539 - val_w_categorical_accuracy: 0.9399 - val_w_top_3_categorical_accuracy: 0.9539 - learning_rate: 3.1250e-06\n"
     ]
    },
    {
     "name": "stdout",
     "output_type": "stream",
     "text": [
      "Epoch 43/200\n"
     ]
    },
    {
     "name": "stdout",
     "output_type": "stream",
     "text": [
      "\n",
      "Epoch 43: val_loss did not improve from 0.55323\n"
     ]
    },
    {
     "name": "stdout",
     "output_type": "stream",
     "text": [
      "1932/1932 - 1099s - 569ms/step - categorical_accuracy: 0.9815 - loss: 0.1428 - top_3_categorical_accuracy: 0.9935 - w_categorical_accuracy: 0.9375 - w_top_3_categorical_accuracy: 0.9905 - val_categorical_accuracy: 0.9399 - val_loss: 0.5603 - val_top_3_categorical_accuracy: 0.9540 - val_w_categorical_accuracy: 0.9399 - val_w_top_3_categorical_accuracy: 0.9540 - learning_rate: 3.1250e-06\n"
     ]
    },
    {
     "name": "stdout",
     "output_type": "stream",
     "text": [
      "Epoch 44/200\n"
     ]
    },
    {
     "name": "stdout",
     "output_type": "stream",
     "text": [
      "\n",
      "Epoch 44: val_loss did not improve from 0.55323\n"
     ]
    },
    {
     "name": "stdout",
     "output_type": "stream",
     "text": [
      "1932/1932 - 1102s - 570ms/step - categorical_accuracy: 0.9806 - loss: 0.1348 - top_3_categorical_accuracy: 0.9937 - w_categorical_accuracy: 0.9430 - w_top_3_categorical_accuracy: 0.9908 - val_categorical_accuracy: 0.9402 - val_loss: 0.5542 - val_top_3_categorical_accuracy: 0.9540 - val_w_categorical_accuracy: 0.9402 - val_w_top_3_categorical_accuracy: 0.9540 - learning_rate: 3.1250e-06\n"
     ]
    },
    {
     "name": "stdout",
     "output_type": "stream",
     "text": [
      "Epoch 45/200\n"
     ]
    },
    {
     "name": "stdout",
     "output_type": "stream",
     "text": [
      "\n",
      "Epoch 45: val_loss did not improve from 0.55323\n"
     ]
    },
    {
     "name": "stdout",
     "output_type": "stream",
     "text": [
      "\n",
      "Epoch 45: ReduceLROnPlateau reducing learning rate to 1.56249996052793e-06.\n"
     ]
    },
    {
     "name": "stdout",
     "output_type": "stream",
     "text": [
      "1932/1932 - 1101s - 570ms/step - categorical_accuracy: 0.9812 - loss: 0.1341 - top_3_categorical_accuracy: 0.9938 - w_categorical_accuracy: 0.9375 - w_top_3_categorical_accuracy: 0.9909 - val_categorical_accuracy: 0.9400 - val_loss: 0.5563 - val_top_3_categorical_accuracy: 0.9540 - val_w_categorical_accuracy: 0.9400 - val_w_top_3_categorical_accuracy: 0.9540 - learning_rate: 3.1250e-06\n"
     ]
    },
    {
     "name": "stdout",
     "output_type": "stream",
     "text": [
      "Epoch 46/200\n"
     ]
    },
    {
     "name": "stdout",
     "output_type": "stream",
     "text": [
      "\n",
      "Epoch 46: val_loss improved from 0.55323 to 0.55252, saving model to saves/pioneer_4.4/model.keras\n"
     ]
    },
    {
     "name": "stdout",
     "output_type": "stream",
     "text": [
      "1932/1932 - 1103s - 571ms/step - categorical_accuracy: 0.9816 - loss: 0.1290 - top_3_categorical_accuracy: 0.9938 - w_categorical_accuracy: 0.9435 - w_top_3_categorical_accuracy: 0.9909 - val_categorical_accuracy: 0.9405 - val_loss: 0.5525 - val_top_3_categorical_accuracy: 0.9541 - val_w_categorical_accuracy: 0.9405 - val_w_top_3_categorical_accuracy: 0.9541 - learning_rate: 1.5625e-06\n"
     ]
    },
    {
     "name": "stdout",
     "output_type": "stream",
     "text": [
      "Epoch 47/200\n"
     ]
    },
    {
     "name": "stdout",
     "output_type": "stream",
     "text": [
      "\n",
      "Epoch 47: val_loss did not improve from 0.55252\n"
     ]
    },
    {
     "name": "stdout",
     "output_type": "stream",
     "text": [
      "1932/1932 - 1102s - 571ms/step - categorical_accuracy: 0.9818 - loss: 0.1279 - top_3_categorical_accuracy: 0.9938 - w_categorical_accuracy: 0.9434 - w_top_3_categorical_accuracy: 0.9909 - val_categorical_accuracy: 0.9404 - val_loss: 0.5537 - val_top_3_categorical_accuracy: 0.9541 - val_w_categorical_accuracy: 0.9404 - val_w_top_3_categorical_accuracy: 0.9541 - learning_rate: 1.5625e-06\n"
     ]
    },
    {
     "name": "stdout",
     "output_type": "stream",
     "text": [
      "Epoch 48/200\n"
     ]
    },
    {
     "name": "stdout",
     "output_type": "stream",
     "text": [
      "\n",
      "Epoch 48: val_loss improved from 0.55252 to 0.55189, saving model to saves/pioneer_4.4/model.keras\n"
     ]
    },
    {
     "name": "stdout",
     "output_type": "stream",
     "text": [
      "1932/1932 - 1103s - 571ms/step - categorical_accuracy: 0.9811 - loss: 0.1280 - top_3_categorical_accuracy: 0.9938 - w_categorical_accuracy: 0.9434 - w_top_3_categorical_accuracy: 0.9910 - val_categorical_accuracy: 0.9401 - val_loss: 0.5519 - val_top_3_categorical_accuracy: 0.9541 - val_w_categorical_accuracy: 0.9401 - val_w_top_3_categorical_accuracy: 0.9541 - learning_rate: 1.5625e-06\n"
     ]
    },
    {
     "name": "stdout",
     "output_type": "stream",
     "text": [
      "Epoch 49/200\n"
     ]
    },
    {
     "name": "stdout",
     "output_type": "stream",
     "text": [
      "\n",
      "Epoch 49: val_loss improved from 0.55189 to 0.55159, saving model to saves/pioneer_4.4/model.keras\n"
     ]
    },
    {
     "name": "stdout",
     "output_type": "stream",
     "text": [
      "1932/1932 - 1103s - 571ms/step - categorical_accuracy: 0.9816 - loss: 0.1305 - top_3_categorical_accuracy: 0.9938 - w_categorical_accuracy: 0.9369 - w_top_3_categorical_accuracy: 0.9910 - val_categorical_accuracy: 0.9401 - val_loss: 0.5516 - val_top_3_categorical_accuracy: 0.9541 - val_w_categorical_accuracy: 0.9401 - val_w_top_3_categorical_accuracy: 0.9541 - learning_rate: 1.5625e-06\n"
     ]
    },
    {
     "name": "stdout",
     "output_type": "stream",
     "text": [
      "Epoch 50/200\n"
     ]
    },
    {
     "name": "stdout",
     "output_type": "stream",
     "text": [
      "\n",
      "Epoch 50: val_loss improved from 0.55159 to 0.54967, saving model to saves/pioneer_4.4/model.keras\n"
     ]
    },
    {
     "name": "stdout",
     "output_type": "stream",
     "text": [
      "1932/1932 - 1102s - 570ms/step - categorical_accuracy: 0.9817 - loss: 0.1264 - top_3_categorical_accuracy: 0.9938 - w_categorical_accuracy: 0.9390 - w_top_3_categorical_accuracy: 0.9910 - val_categorical_accuracy: 0.9402 - val_loss: 0.5497 - val_top_3_categorical_accuracy: 0.9541 - val_w_categorical_accuracy: 0.9402 - val_w_top_3_categorical_accuracy: 0.9541 - learning_rate: 1.5625e-06\n"
     ]
    },
    {
     "name": "stdout",
     "output_type": "stream",
     "text": [
      "Epoch 51/200\n"
     ]
    },
    {
     "name": "stdout",
     "output_type": "stream",
     "text": [
      "\n",
      "Epoch 51: val_loss did not improve from 0.54967\n"
     ]
    },
    {
     "name": "stdout",
     "output_type": "stream",
     "text": [
      "1932/1932 - 1102s - 570ms/step - categorical_accuracy: 0.9814 - loss: 0.1247 - top_3_categorical_accuracy: 0.9938 - w_categorical_accuracy: 0.9438 - w_top_3_categorical_accuracy: 0.9909 - val_categorical_accuracy: 0.9402 - val_loss: 0.5531 - val_top_3_categorical_accuracy: 0.9541 - val_w_categorical_accuracy: 0.9402 - val_w_top_3_categorical_accuracy: 0.9541 - learning_rate: 1.5625e-06\n"
     ]
    },
    {
     "name": "stdout",
     "output_type": "stream",
     "text": [
      "Epoch 52/200\n"
     ]
    },
    {
     "name": "stdout",
     "output_type": "stream",
     "text": [
      "\n",
      "Epoch 52: val_loss did not improve from 0.54967\n"
     ]
    },
    {
     "name": "stdout",
     "output_type": "stream",
     "text": [
      "1932/1932 - 1103s - 571ms/step - categorical_accuracy: 0.9813 - loss: 0.1239 - top_3_categorical_accuracy: 0.9938 - w_categorical_accuracy: 0.9420 - w_top_3_categorical_accuracy: 0.9910 - val_categorical_accuracy: 0.9408 - val_loss: 0.5506 - val_top_3_categorical_accuracy: 0.9543 - val_w_categorical_accuracy: 0.9408 - val_w_top_3_categorical_accuracy: 0.9543 - learning_rate: 1.5625e-06\n"
     ]
    },
    {
     "name": "stdout",
     "output_type": "stream",
     "text": [
      "Epoch 53/200\n"
     ]
    },
    {
     "name": "stdout",
     "output_type": "stream",
     "text": [
      "\n",
      "Epoch 53: val_loss did not improve from 0.54967\n"
     ]
    },
    {
     "name": "stdout",
     "output_type": "stream",
     "text": [
      "\n",
      "Epoch 53: ReduceLROnPlateau reducing learning rate to 7.81249980263965e-07.\n"
     ]
    },
    {
     "name": "stdout",
     "output_type": "stream",
     "text": [
      "1932/1932 - 1100s - 570ms/step - categorical_accuracy: 0.9816 - loss: 0.1287 - top_3_categorical_accuracy: 0.9939 - w_categorical_accuracy: 0.9412 - w_top_3_categorical_accuracy: 0.9911 - val_categorical_accuracy: 0.9406 - val_loss: 0.5526 - val_top_3_categorical_accuracy: 0.9542 - val_w_categorical_accuracy: 0.9406 - val_w_top_3_categorical_accuracy: 0.9542 - learning_rate: 1.5625e-06\n"
     ]
    },
    {
     "name": "stdout",
     "output_type": "stream",
     "text": [
      "Epoch 54/200\n"
     ]
    },
    {
     "name": "stdout",
     "output_type": "stream",
     "text": [
      "\n",
      "Epoch 54: val_loss did not improve from 0.54967\n"
     ]
    },
    {
     "name": "stdout",
     "output_type": "stream",
     "text": [
      "1932/1932 - 1101s - 570ms/step - categorical_accuracy: 0.9817 - loss: 0.1220 - top_3_categorical_accuracy: 0.9939 - w_categorical_accuracy: 0.9427 - w_top_3_categorical_accuracy: 0.9911 - val_categorical_accuracy: 0.9402 - val_loss: 0.5516 - val_top_3_categorical_accuracy: 0.9543 - val_w_categorical_accuracy: 0.9402 - val_w_top_3_categorical_accuracy: 0.9543 - learning_rate: 7.8125e-07\n"
     ]
    },
    {
     "name": "stdout",
     "output_type": "stream",
     "text": [
      "Epoch 55/200\n"
     ]
    },
    {
     "name": "stdout",
     "output_type": "stream",
     "text": [
      "\n",
      "Epoch 55: val_loss did not improve from 0.54967\n"
     ]
    },
    {
     "name": "stdout",
     "output_type": "stream",
     "text": [
      "1932/1932 - 1104s - 571ms/step - categorical_accuracy: 0.9818 - loss: 0.1232 - top_3_categorical_accuracy: 0.9939 - w_categorical_accuracy: 0.9418 - w_top_3_categorical_accuracy: 0.9911 - val_categorical_accuracy: 0.9405 - val_loss: 0.5508 - val_top_3_categorical_accuracy: 0.9543 - val_w_categorical_accuracy: 0.9405 - val_w_top_3_categorical_accuracy: 0.9543 - learning_rate: 7.8125e-07\n"
     ]
    },
    {
     "name": "stdout",
     "output_type": "stream",
     "text": [
      "Epoch 56/200\n"
     ]
    },
    {
     "name": "stdout",
     "output_type": "stream",
     "text": [
      "\n",
      "Epoch 56: val_loss did not improve from 0.54967\n"
     ]
    },
    {
     "name": "stdout",
     "output_type": "stream",
     "text": [
      "\n",
      "Epoch 56: ReduceLROnPlateau reducing learning rate to 3.906249901319825e-07.\n"
     ]
    },
    {
     "name": "stdout",
     "output_type": "stream",
     "text": [
      "1932/1932 - 1102s - 570ms/step - categorical_accuracy: 0.9816 - loss: 0.1276 - top_3_categorical_accuracy: 0.9939 - w_categorical_accuracy: 0.9411 - w_top_3_categorical_accuracy: 0.9911 - val_categorical_accuracy: 0.9403 - val_loss: 0.5508 - val_top_3_categorical_accuracy: 0.9542 - val_w_categorical_accuracy: 0.9403 - val_w_top_3_categorical_accuracy: 0.9542 - learning_rate: 7.8125e-07\n"
     ]
    },
    {
     "name": "stdout",
     "output_type": "stream",
     "text": [
      "Epoch 57/200\n"
     ]
    },
    {
     "name": "stdout",
     "output_type": "stream",
     "text": [
      "\n",
      "Epoch 57: val_loss did not improve from 0.54967\n"
     ]
    },
    {
     "name": "stdout",
     "output_type": "stream",
     "text": [
      "1932/1932 - 1100s - 570ms/step - categorical_accuracy: 0.9813 - loss: 0.1256 - top_3_categorical_accuracy: 0.9939 - w_categorical_accuracy: 0.9420 - w_top_3_categorical_accuracy: 0.9910 - val_categorical_accuracy: 0.9402 - val_loss: 0.5505 - val_top_3_categorical_accuracy: 0.9542 - val_w_categorical_accuracy: 0.9402 - val_w_top_3_categorical_accuracy: 0.9542 - learning_rate: 3.9062e-07\n"
     ]
    },
    {
     "name": "stdout",
     "output_type": "stream",
     "text": [
      "Epoch 58/200\n"
     ]
    },
    {
     "name": "stdout",
     "output_type": "stream",
     "text": [
      "\n",
      "Epoch 58: val_loss did not improve from 0.54967\n"
     ]
    },
    {
     "name": "stdout",
     "output_type": "stream",
     "text": [
      "1932/1932 - 1103s - 571ms/step - categorical_accuracy: 0.9811 - loss: 0.1200 - top_3_categorical_accuracy: 0.9939 - w_categorical_accuracy: 0.9434 - w_top_3_categorical_accuracy: 0.9911 - val_categorical_accuracy: 0.9402 - val_loss: 0.5509 - val_top_3_categorical_accuracy: 0.9542 - val_w_categorical_accuracy: 0.9402 - val_w_top_3_categorical_accuracy: 0.9542 - learning_rate: 3.9062e-07\n"
     ]
    },
    {
     "name": "stdout",
     "output_type": "stream",
     "text": [
      "Epoch 59/200\n"
     ]
    },
    {
     "name": "stdout",
     "output_type": "stream",
     "text": [
      "\n",
      "Epoch 59: val_loss did not improve from 0.54967\n"
     ]
    },
    {
     "name": "stdout",
     "output_type": "stream",
     "text": [
      "\n",
      "Epoch 59: ReduceLROnPlateau reducing learning rate to 1.9531249506599124e-07.\n"
     ]
    },
    {
     "name": "stdout",
     "output_type": "stream",
     "text": [
      "1932/1932 - 1103s - 571ms/step - categorical_accuracy: 0.9812 - loss: 0.1207 - top_3_categorical_accuracy: 0.9939 - w_categorical_accuracy: 0.9437 - w_top_3_categorical_accuracy: 0.9911 - val_categorical_accuracy: 0.9402 - val_loss: 0.5501 - val_top_3_categorical_accuracy: 0.9542 - val_w_categorical_accuracy: 0.9402 - val_w_top_3_categorical_accuracy: 0.9542 - learning_rate: 3.9062e-07\n"
     ]
    },
    {
     "name": "stdout",
     "output_type": "stream",
     "text": [
      "Epoch 60/200\n"
     ]
    },
    {
     "name": "stdout",
     "output_type": "stream",
     "text": [
      "\n",
      "Epoch 60: val_loss did not improve from 0.54967\n"
     ]
    },
    {
     "name": "stdout",
     "output_type": "stream",
     "text": [
      "1932/1932 - 1101s - 570ms/step - categorical_accuracy: 0.9815 - loss: 0.1200 - top_3_categorical_accuracy: 0.9939 - w_categorical_accuracy: 0.9412 - w_top_3_categorical_accuracy: 0.9911 - val_categorical_accuracy: 0.9403 - val_loss: 0.5505 - val_top_3_categorical_accuracy: 0.9543 - val_w_categorical_accuracy: 0.9403 - val_w_top_3_categorical_accuracy: 0.9543 - learning_rate: 1.9531e-07\n"
     ]
    },
    {
     "name": "stdout",
     "output_type": "stream",
     "text": [
      "Epoch 61/200\n"
     ]
    },
    {
     "name": "stdout",
     "output_type": "stream",
     "text": [
      "\n",
      "Epoch 61: val_loss did not improve from 0.54967\n"
     ]
    },
    {
     "name": "stdout",
     "output_type": "stream",
     "text": [
      "1932/1932 - 1104s - 571ms/step - categorical_accuracy: 0.9816 - loss: 0.1207 - top_3_categorical_accuracy: 0.9939 - w_categorical_accuracy: 0.9447 - w_top_3_categorical_accuracy: 0.9911 - val_categorical_accuracy: 0.9403 - val_loss: 0.5506 - val_top_3_categorical_accuracy: 0.9543 - val_w_categorical_accuracy: 0.9403 - val_w_top_3_categorical_accuracy: 0.9543 - learning_rate: 1.9531e-07\n"
     ]
    },
    {
     "name": "stdout",
     "output_type": "stream",
     "text": [
      "Epoch 61: early stopping\n"
     ]
    },
    {
     "name": "stdout",
     "output_type": "stream",
     "text": [
      "Restoring model weights from the end of the best epoch: 50.\n"
     ]
    }
   ],
   "source": [
    "history = model.fit(\n",
    "    x=Generator(X_train, y_train, 128, max_sequence_length),\n",
    "    validation_data=Generator(X_val, y_val, 128, max_sequence_length),\n",
    "    epochs=200,\n",
    "    callbacks=callbacks,\n",
    "    class_weight=class_weights_dict,\n",
    "    verbose=2\n",
    ")\n",
    "\n",
    "# save history to file\n",
    "with open(history_path, 'wb') as f:\n",
    "    np.save(f, history.history)"
   ]
  },
  {
   "cell_type": "code",
   "execution_count": 21,
   "metadata": {
    "execution": {
     "iopub.execute_input": "2024-09-04T00:54:48.459798Z",
     "iopub.status.busy": "2024-09-04T00:54:48.459348Z",
     "iopub.status.idle": "2024-09-04T00:54:49.040336Z",
     "shell.execute_reply": "2024-09-04T00:54:49.039630Z"
    }
   },
   "outputs": [
    {
     "data": {
      "image/png": "[encoded data removed]",
      "text/plain": [
       "<Figure size 787.402x590.551 with 3 Axes>"
      ]
     },
     "metadata": {},
     "output_type": "display_data"
    }
   ],
   "source": [
    "log = pd.read_csv(log_path)\n",
    "\n",
    "fig, (ax1, ax2) = plt.subplots(nrows=1, ncols=2, figsize=(20*cm, 15*cm))\n",
    "\n",
    "ax1.plot(log['epoch'], log['categorical_accuracy'], label='categorical_accuracy', color='red')\n",
    "ax1.plot(log['epoch'], log['val_categorical_accuracy'], label='val_categorical_accuracy', color='orange')\n",
    "ax1.plot(log['epoch'], log[f'top_{top_k}_categorical_accuracy'], label=f'top_{top_k}_categorical_accuracy', color='royalblue')\n",
    "ax1.plot(log['epoch'], log[f'val_top_{top_k}_categorical_accuracy'], label=f'val_top_{top_k}_categorical_accuracy', color='navy')\n",
    "ax1.set_title('training metrics')\n",
    "ax1.set_xlabel('epoch')\n",
    "ax1.legend(loc='upper center', bbox_to_anchor=(0.5, -0.2), ncol=1)  # Legend below the plot\n",
    "\n",
    "ax2.plot(log['epoch'], log['loss'], label='loss')\n",
    "ax2.plot(log['epoch'], log['val_loss'], label='val_loss')\n",
    "# plot learning rate with different scale, show on right side\n",
    "ax2b = ax2.twinx()\n",
    "ax2b.plot(log['epoch'], log['learning_rate'], label='learning_rate', color='green', alpha=.4)\n",
    "ax2.set_title('loss')\n",
    "ax2.set_xlabel('epoch')\n",
    "ax2.legend(loc='upper center', bbox_to_anchor=(0.5, -0.2), ncol=2)  # Legend below the plot\n",
    "ax2b.legend(loc='upper center', bbox_to_anchor=(0.5, -0.3), ncol=1)  # Legend below the plot\n",
    "\n",
    "fig.tight_layout(rect=[0, 0.1, 1, 1])\n",
    "\n",
    "plt.savefig(f'{checkpoint_path}/metrics_loss.svg')\n",
    "plt.show()"
   ]
  },
  {
   "cell_type": "code",
   "execution_count": 22,
   "metadata": {
    "execution": {
     "iopub.execute_input": "2024-09-04T00:54:49.046372Z",
     "iopub.status.busy": "2024-09-04T00:54:49.046155Z",
     "iopub.status.idle": "2024-09-04T00:54:49.050434Z",
     "shell.execute_reply": "2024-09-04T00:54:49.049536Z"
    }
   },
   "outputs": [],
   "source": [
    "# load old model, if needed\n",
    "try:\n",
    "    model\n",
    "except NameError:\n",
    "    model = load_model(model_path)"
   ]
  },
  {
   "cell_type": "code",
   "execution_count": 23,
   "metadata": {
    "execution": {
     "iopub.execute_input": "2024-09-04T00:54:49.054465Z",
     "iopub.status.busy": "2024-09-04T00:54:49.054269Z",
     "iopub.status.idle": "2024-09-04T00:56:04.188351Z",
     "shell.execute_reply": "2024-09-04T00:56:04.187204Z"
    }
   },
   "outputs": [
    {
     "name": "stdout",
     "output_type": "stream",
     "text": [
      "407/407 - 75s - 184ms/step - categorical_accuracy: 0.9735 - loss: 0.1154 - top_3_categorical_accuracy: 0.9863 - w_categorical_accuracy: 0.9735 - w_top_3_categorical_accuracy: 0.9863\n"
     ]
    }
   ],
   "source": [
    "# evaluate model\n",
    "score = model.evaluate(x=Generator(X_test, y_test, 128, max_sequence_length), verbose=2)"
   ]
  },
  {
   "cell_type": "code",
   "execution_count": 24,
   "metadata": {
    "execution": {
     "iopub.execute_input": "2024-09-04T00:56:04.192609Z",
     "iopub.status.busy": "2024-09-04T00:56:04.192382Z",
     "iopub.status.idle": "2024-09-04T00:56:04.197351Z",
     "shell.execute_reply": "2024-09-04T00:56:04.196603Z"
    }
   },
   "outputs": [
    {
     "name": "stdout",
     "output_type": "stream",
     "text": [
      "Test loss: 0.11537318676710129\n",
      "Test accuracy: 0.9735427498817444\n"
     ]
    }
   ],
   "source": [
    "print(f'Test loss: {score[0]}')\n",
    "print(f'Test accuracy: {score[1]}')"
   ]
  },
  {
   "cell_type": "code",
   "execution_count": 25,
   "metadata": {
    "execution": {
     "iopub.execute_input": "2024-09-04T00:56:04.202435Z",
     "iopub.status.busy": "2024-09-04T00:56:04.202045Z",
     "iopub.status.idle": "2024-09-04T00:57:20.960762Z",
     "shell.execute_reply": "2024-09-04T00:57:20.959983Z"
    }
   },
   "outputs": [
    {
     "name": "stdout",
     "output_type": "stream",
     "text": [
      "407/407 - 76s - 188ms/step\n"
     ]
    },
    {
     "name": "stdout",
     "output_type": "stream",
     "text": [
      "                 precision    recall  f1-score   support\n",
      "\n",
      "      adjkerntz       0.46      1.00      0.63        11\n",
      "         alpine       0.96      0.99      0.98       560\n",
      "          anvil       0.31      1.00      0.47       378\n",
      "          atrun       1.00      1.00      1.00       237\n",
      "            awk       1.00      1.00      1.00         5\n",
      "       basename       1.00      1.00      1.00         2\n",
      "           bash       1.00      1.00      1.00     12512\n",
      "            cat       0.86      0.92      0.89        26\n",
      "        cleanup       0.53      0.72      0.61       276\n",
      "            cmp       1.00      1.00      1.00         5\n",
      "             cp       0.94      0.97      0.95        30\n",
      "           cron       1.00      1.00      1.00       624\n",
      "           date       1.00      1.00      1.00      1218\n",
      "             dd       0.99      0.99      0.99       125\n",
      "       dhclient       0.09      0.41      0.14        17\n",
      "          dmesg       1.00      1.00      1.00        15\n",
      "          egrep       1.00      0.50      0.67         2\n",
      "           expr       0.17      1.00      0.29         2\n",
      "           find       1.00      1.00      1.00      4006\n",
      "        fortune       1.00      1.00      1.00        91\n",
      "           grep       1.00      0.80      0.89         5\n",
      "           head       1.00      1.00      1.00      1219\n",
      "       hostname        nan      0.00      0.00        10\n",
      "          imapd       1.00      0.90      0.95      2469\n",
      "          inetd       1.00      1.00      1.00       291\n",
      "           kill       0.67      1.00      0.80         2\n",
      "           less       1.00      1.00      1.00         3\n",
      "          local       1.00      0.61      0.76       868\n",
      "          lockf       0.75      1.00      0.86         3\n",
      "             ls       0.92      0.92      0.92        12\n",
      "           lsof       1.00      1.00      1.00      8568\n",
      "           mail       0.08      0.50      0.13         2\n",
      "    mailwrapper       1.00      0.67      0.80         3\n",
      "         master       1.00      0.87      0.93       580\n",
      "          mkdir       0.95      1.00      0.97        18\n",
      "         mktemp       0.67      1.00      0.80         6\n",
      "          mlock       1.00      1.00      1.00       506\n",
      "          mount       1.00      1.00      1.00         2\n",
      "             mv       1.00      1.00      1.00       860\n",
      "        netstat       0.98      0.97      0.97        58\n",
      "      newsyslog       0.58      1.00      0.73        18\n",
      "         pickup       1.00      0.83      0.91       143\n",
      "            pkg       1.00      0.91      0.96      1701\n",
      "       proxymap       1.00      0.53      0.69       331\n",
      "             ps       1.00      1.00      1.00         5\n",
      "      python2.7       1.00      1.00      1.00       841\n",
      "      resizewin       1.00      1.00      1.00        91\n",
      "             rm       0.80      0.67      0.73        36\n",
      "          route       0.88      1.00      0.93         7\n",
      "            sed       0.50      1.00      0.67         2\n",
      "       sendmail       0.90      0.86      0.88        21\n",
      "             sh       1.00      0.98      0.99      1987\n",
      "          sleep       1.00      1.00      1.00      4889\n",
      "          smtpd       0.89      1.00      0.94       818\n",
      "           sort       0.04      1.00      0.08         1\n",
      "           sshd       1.00      1.00      1.00       427\n",
      "           sudo       0.93      1.00      0.96        26\n",
      "         sysctl       1.00      1.00      1.00       129\n",
      "            tee       0.60      1.00      0.75         6\n",
      "            top       1.00      1.00      1.00      1913\n",
      "trivial-rewrite       0.90      0.58      0.71       377\n",
      "            tty       1.00      1.00      1.00         2\n",
      "         unlink       1.00      1.00      1.00       123\n",
      "         uptime       1.00      1.00      1.00        14\n",
      "         vmstat       1.00      1.00      1.00      2468\n",
      "             wc       0.70      1.00      0.82         7\n",
      "           wget       0.90      1.00      0.95        74\n",
      "\n",
      "       accuracy                           0.97     52084\n",
      "      macro avg       0.86      0.91      0.85     52084\n",
      "   weighted avg       0.99      0.97      0.98     52084\n",
      "\n"
     ]
    }
   ],
   "source": [
    "# print classification report\n",
    "y_pred = model.predict(x=Generator(X_test, y_test, 128, max_sequence_length), verbose=2)\n",
    "y_pred = np.argmax(y_pred, axis=1)\n",
    "y_true = np.argmax(y_test, axis=1)\n",
    "\n",
    "distinct_labels = [labels_map[i] for i in range(labels_cardinality)]\n",
    "\n",
    "report = classification_report(y_true, y_pred, target_names=distinct_labels, zero_division=np.nan)\n",
    "report_dict = classification_report(y_true, y_pred, target_names=distinct_labels, zero_division=np.nan, output_dict=True)\n",
    "\n",
    "print(report)\n",
    "\n",
    "# save classification report to file\n",
    "with open(f'{checkpoint_path}/classification_report.txt', 'w') as f:\n",
    "    json.dump(report_dict, f)"
   ]
  },
  {
   "cell_type": "code",
   "execution_count": 26,
   "metadata": {
    "execution": {
     "iopub.execute_input": "2024-09-04T00:57:20.965787Z",
     "iopub.status.busy": "2024-09-04T00:57:20.965599Z",
     "iopub.status.idle": "2024-09-04T00:57:22.081668Z",
     "shell.execute_reply": "2024-09-04T00:57:22.080960Z"
    }
   },
   "outputs": [
    {
     "data": {
      "image/png": "[encoded data removed]",
      "text/plain": [
       "<Figure size 787.402x787.402 with 1 Axes>"
      ]
     },
     "metadata": {},
     "output_type": "display_data"
    }
   ],
   "source": [
    "# print confusion matrix\n",
    "# labels explicitly set, because current model may not predict all labels\n",
    "conf_matrix = confusion_matrix(y_true, y_pred, labels=range(labels_cardinality), normalize='true')\n",
    "\n",
    "# Replace all NaN values with 0\n",
    "conf_matrix = np.nan_to_num(conf_matrix)\n",
    "\n",
    "# Verify the distinct labels align correctly\n",
    "distinct_labels = [labels_map[i] for i in range(labels_cardinality)]\n",
    "\n",
    "# Plot the confusion matrix\n",
    "fig, ax = plt.subplots(figsize=(20*cm, 20*cm))\n",
    "\n",
    "ax.matshow(conf_matrix, cmap='cividis', aspect='auto')\n",
    "\n",
    "# Set class names on axes\n",
    "ax.set_xticks(range(len(distinct_labels)))\n",
    "ax.set_yticks(range(len(distinct_labels)))\n",
    "ax.set_xticklabels(distinct_labels, rotation=90, fontsize=8)\n",
    "ax.set_yticklabels(distinct_labels, fontsize=8)\n",
    "\n",
    "# Set axis labels \"predicted\" and \"actual\"\n",
    "ax.set_xlabel('predicted label')\n",
    "ax.set_ylabel('true label')\n",
    "# y-axis label right side\n",
    "ax.yaxis.set_label_position('right')\n",
    "\n",
    "# set figsize\n",
    "plt.savefig(f'{checkpoint_path}/confusion_matrix.svg')\n",
    "plt.show()"
   ]
  },
  {
   "cell_type": "code",
   "execution_count": 27,
   "metadata": {
    "execution": {
     "iopub.execute_input": "2024-09-04T00:57:22.087763Z",
     "iopub.status.busy": "2024-09-04T00:57:22.087568Z",
     "iopub.status.idle": "2024-09-04T00:57:22.092899Z",
     "shell.execute_reply": "2024-09-04T00:57:22.092169Z"
    }
   },
   "outputs": [
    {
     "name": "stdout",
     "output_type": "stream",
     "text": [
      "Unique labels not in y_pred: ['hostname']\n"
     ]
    }
   ],
   "source": [
    "unique_in_y_pred = [ labels_map[i] for i in np.unique(y_pred) ]\n",
    "#print(\"Unique labels in y_pred:\", unique_in_y_pred)\n",
    "\n",
    "unique_not_in_y_pred = [ label for label in distinct_labels if label not in unique_in_y_pred ]\n",
    "print(\"Unique labels not in y_pred:\", unique_not_in_y_pred)"
   ]
  }
 ],
 "metadata": {
  "kernelspec": {
   "display_name": "Python 3 (ipykernel)",
   "language": "python",
   "name": "python3"
  },
  "language_info": {
   "codemirror_mode": {
    "name": "ipython",
    "version": 3
   },
   "file_extension": ".py",
   "mimetype": "text/x-python",
   "name": "python",
   "nbconvert_exporter": "python",
   "pygments_lexer": "ipython3",
   "version": "3.12.3"
  }
 },
 "nbformat": 4,
 "nbformat_minor": 4
}
